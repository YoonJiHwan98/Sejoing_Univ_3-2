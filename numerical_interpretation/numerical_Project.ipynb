{
 "cells": [
  {
   "cell_type": "markdown",
   "source": [
    "# Project"
   ],
   "metadata": {
    "collapsed": false,
    "pycharm": {
     "name": "#%% md\n"
    }
   }
  },
  {
   "cell_type": "code",
   "execution_count": 2,
   "outputs": [],
   "source": [
    "import pandas as pd\n",
    "import numpy as np\n",
    "import seaborn as sns\n",
    "import matplotlib.pyplot as plt\n",
    "import matplotlib.font_manager as fm\n",
    "import math"
   ],
   "metadata": {
    "collapsed": false,
    "pycharm": {
     "name": "#%%\n"
    }
   }
  },
  {
   "cell_type": "code",
   "execution_count": 3,
   "outputs": [],
   "source": [
    "plt.rc('font', family='NanumBarunGothic')\n",
    "font_location = 'C:/Windows/Fonts/MALGUNSL.TTF' # for windows\n",
    "font_name = fm.FontProperties(fname=font_location).get_name()\n",
    "plt.rc('font', family=font_name)"
   ],
   "metadata": {
    "collapsed": false,
    "pycharm": {
     "name": "#%%\n"
    }
   }
  },
  {
   "cell_type": "code",
   "execution_count": 4,
   "outputs": [],
   "source": [
    "%matplotlib inline\n",
    "import matplotlib as mpl\n",
    "mpl.rc('axes',labelsize = 16)\n",
    "mpl.rc('xtick',labelsize = 12)\n",
    "mpl.rc('ytick',labelsize = 12)"
   ],
   "metadata": {
    "collapsed": false,
    "pycharm": {
     "name": "#%%\n"
    }
   }
  },
  {
   "cell_type": "code",
   "execution_count": 4,
   "outputs": [],
   "source": [],
   "metadata": {
    "collapsed": false,
    "pycharm": {
     "name": "#%%\n"
    }
   }
  },
  {
   "cell_type": "code",
   "execution_count": 5,
   "outputs": [],
   "source": [
    "df = pd.read_csv(r'C:\\Users\\yoon9\\PycharmProjects\\Sejong_Project\\data\\DV_data\\국민건강보험공단_건강검진정보_20211229.CSV',encoding = 'cp949')"
   ],
   "metadata": {
    "collapsed": false,
    "pycharm": {
     "name": "#%%\n"
    }
   }
  },
  {
   "cell_type": "code",
   "execution_count": 6,
   "outputs": [],
   "source": [
    "df = df[['성별코드','신장(5Cm단위)','체중(5Kg 단위)','허리둘레','식전혈당(공복혈당)','총 콜레스테롤','음주여부']].dropna()"
   ],
   "metadata": {
    "collapsed": false,
    "pycharm": {
     "name": "#%%\n"
    }
   }
  },
  {
   "cell_type": "code",
   "execution_count": 16,
   "outputs": [
    {
     "data": {
      "text/plain": "        기준년도  가입자 일련번호  시도코드  성별코드  연령대 코드(5세단위)  신장(5Cm단위)  체중(5Kg 단위)  허리둘레  \\\n0       2020         1    36     1             9        165          60  72.1   \n1       2020         2    27     2            13        150          65  81.0   \n2       2020         3    11     2            12        155          55  70.0   \n3       2020         4    31     1            13        160          70  90.8   \n4       2020         5    41     2            12        155          50  75.2   \n...      ...       ...   ...   ...           ...        ...         ...   ...   \n999995  2020    999996    41     2            13        145          55  81.0   \n999996  2020    999997    26     2            12        160          55  76.5   \n999997  2020    999998    48     1             9        175          70  85.0   \n999998  2020    999999    48     2             9        160          70  91.0   \n999999  2020   1000000    28     1            11        160          55  76.1   \n\n        시력(좌)  시력(우)  ...  혈청크레아티닌  (혈청지오티)AST  (혈청지오티)ALT  감마 지티피  흡연상태  \\\n0         1.2    1.5  ...      1.1        21.0        27.0    21.0   1.0   \n1         0.8    0.8  ...      0.5        18.0        15.0    15.0   1.0   \n2         0.6    0.7  ...      0.7        27.0        25.0     7.0   1.0   \n3         1.0    1.0  ...      1.2        65.0        97.0    72.0   1.0   \n4         1.5    1.2  ...      0.7        18.0        17.0    14.0   1.0   \n...       ...    ...  ...      ...         ...         ...     ...   ...   \n999995    0.9    1.0  ...      0.6        21.0        25.0    18.0   1.0   \n999996    1.5    1.5  ...      0.8        21.0        14.0    19.0   1.0   \n999997    1.2    1.2  ...      0.9        26.0        20.0    17.0   1.0   \n999998    0.6    0.5  ...      1.0        25.0        29.0    13.0   1.0   \n999999    2.0    2.0  ...      0.9        17.0        13.0    24.0   2.0   \n\n        음주여부  구강검진 수검여부  치아우식증유무   치석    데이터 공개일자  \n0        0.0          0      NaN  NaN  2021-12-29  \n1        0.0          0      NaN  NaN  2021-12-29  \n2        0.0          0      NaN  NaN  2021-12-29  \n3        0.0          1      0.0  0.0  2021-12-29  \n4        0.0          0      NaN  NaN  2021-12-29  \n...      ...        ...      ...  ...         ...  \n999995   0.0          0      NaN  NaN  2021-12-29  \n999996   1.0          0      NaN  NaN  2021-12-29  \n999997   1.0          0      NaN  NaN  2021-12-29  \n999998   0.0          0      NaN  NaN  2021-12-29  \n999999   0.0          0      NaN  NaN  2021-12-29  \n\n[1000000 rows x 31 columns]",
      "text/html": "<div>\n<style scoped>\n    .dataframe tbody tr th:only-of-type {\n        vertical-align: middle;\n    }\n\n    .dataframe tbody tr th {\n        vertical-align: top;\n    }\n\n    .dataframe thead th {\n        text-align: right;\n    }\n</style>\n<table border=\"1\" class=\"dataframe\">\n  <thead>\n    <tr style=\"text-align: right;\">\n      <th></th>\n      <th>기준년도</th>\n      <th>가입자 일련번호</th>\n      <th>시도코드</th>\n      <th>성별코드</th>\n      <th>연령대 코드(5세단위)</th>\n      <th>신장(5Cm단위)</th>\n      <th>체중(5Kg 단위)</th>\n      <th>허리둘레</th>\n      <th>시력(좌)</th>\n      <th>시력(우)</th>\n      <th>...</th>\n      <th>혈청크레아티닌</th>\n      <th>(혈청지오티)AST</th>\n      <th>(혈청지오티)ALT</th>\n      <th>감마 지티피</th>\n      <th>흡연상태</th>\n      <th>음주여부</th>\n      <th>구강검진 수검여부</th>\n      <th>치아우식증유무</th>\n      <th>치석</th>\n      <th>데이터 공개일자</th>\n    </tr>\n  </thead>\n  <tbody>\n    <tr>\n      <th>0</th>\n      <td>2020</td>\n      <td>1</td>\n      <td>36</td>\n      <td>1</td>\n      <td>9</td>\n      <td>165</td>\n      <td>60</td>\n      <td>72.1</td>\n      <td>1.2</td>\n      <td>1.5</td>\n      <td>...</td>\n      <td>1.1</td>\n      <td>21.0</td>\n      <td>27.0</td>\n      <td>21.0</td>\n      <td>1.0</td>\n      <td>0.0</td>\n      <td>0</td>\n      <td>NaN</td>\n      <td>NaN</td>\n      <td>2021-12-29</td>\n    </tr>\n    <tr>\n      <th>1</th>\n      <td>2020</td>\n      <td>2</td>\n      <td>27</td>\n      <td>2</td>\n      <td>13</td>\n      <td>150</td>\n      <td>65</td>\n      <td>81.0</td>\n      <td>0.8</td>\n      <td>0.8</td>\n      <td>...</td>\n      <td>0.5</td>\n      <td>18.0</td>\n      <td>15.0</td>\n      <td>15.0</td>\n      <td>1.0</td>\n      <td>0.0</td>\n      <td>0</td>\n      <td>NaN</td>\n      <td>NaN</td>\n      <td>2021-12-29</td>\n    </tr>\n    <tr>\n      <th>2</th>\n      <td>2020</td>\n      <td>3</td>\n      <td>11</td>\n      <td>2</td>\n      <td>12</td>\n      <td>155</td>\n      <td>55</td>\n      <td>70.0</td>\n      <td>0.6</td>\n      <td>0.7</td>\n      <td>...</td>\n      <td>0.7</td>\n      <td>27.0</td>\n      <td>25.0</td>\n      <td>7.0</td>\n      <td>1.0</td>\n      <td>0.0</td>\n      <td>0</td>\n      <td>NaN</td>\n      <td>NaN</td>\n      <td>2021-12-29</td>\n    </tr>\n    <tr>\n      <th>3</th>\n      <td>2020</td>\n      <td>4</td>\n      <td>31</td>\n      <td>1</td>\n      <td>13</td>\n      <td>160</td>\n      <td>70</td>\n      <td>90.8</td>\n      <td>1.0</td>\n      <td>1.0</td>\n      <td>...</td>\n      <td>1.2</td>\n      <td>65.0</td>\n      <td>97.0</td>\n      <td>72.0</td>\n      <td>1.0</td>\n      <td>0.0</td>\n      <td>1</td>\n      <td>0.0</td>\n      <td>0.0</td>\n      <td>2021-12-29</td>\n    </tr>\n    <tr>\n      <th>4</th>\n      <td>2020</td>\n      <td>5</td>\n      <td>41</td>\n      <td>2</td>\n      <td>12</td>\n      <td>155</td>\n      <td>50</td>\n      <td>75.2</td>\n      <td>1.5</td>\n      <td>1.2</td>\n      <td>...</td>\n      <td>0.7</td>\n      <td>18.0</td>\n      <td>17.0</td>\n      <td>14.0</td>\n      <td>1.0</td>\n      <td>0.0</td>\n      <td>0</td>\n      <td>NaN</td>\n      <td>NaN</td>\n      <td>2021-12-29</td>\n    </tr>\n    <tr>\n      <th>...</th>\n      <td>...</td>\n      <td>...</td>\n      <td>...</td>\n      <td>...</td>\n      <td>...</td>\n      <td>...</td>\n      <td>...</td>\n      <td>...</td>\n      <td>...</td>\n      <td>...</td>\n      <td>...</td>\n      <td>...</td>\n      <td>...</td>\n      <td>...</td>\n      <td>...</td>\n      <td>...</td>\n      <td>...</td>\n      <td>...</td>\n      <td>...</td>\n      <td>...</td>\n      <td>...</td>\n    </tr>\n    <tr>\n      <th>999995</th>\n      <td>2020</td>\n      <td>999996</td>\n      <td>41</td>\n      <td>2</td>\n      <td>13</td>\n      <td>145</td>\n      <td>55</td>\n      <td>81.0</td>\n      <td>0.9</td>\n      <td>1.0</td>\n      <td>...</td>\n      <td>0.6</td>\n      <td>21.0</td>\n      <td>25.0</td>\n      <td>18.0</td>\n      <td>1.0</td>\n      <td>0.0</td>\n      <td>0</td>\n      <td>NaN</td>\n      <td>NaN</td>\n      <td>2021-12-29</td>\n    </tr>\n    <tr>\n      <th>999996</th>\n      <td>2020</td>\n      <td>999997</td>\n      <td>26</td>\n      <td>2</td>\n      <td>12</td>\n      <td>160</td>\n      <td>55</td>\n      <td>76.5</td>\n      <td>1.5</td>\n      <td>1.5</td>\n      <td>...</td>\n      <td>0.8</td>\n      <td>21.0</td>\n      <td>14.0</td>\n      <td>19.0</td>\n      <td>1.0</td>\n      <td>1.0</td>\n      <td>0</td>\n      <td>NaN</td>\n      <td>NaN</td>\n      <td>2021-12-29</td>\n    </tr>\n    <tr>\n      <th>999997</th>\n      <td>2020</td>\n      <td>999998</td>\n      <td>48</td>\n      <td>1</td>\n      <td>9</td>\n      <td>175</td>\n      <td>70</td>\n      <td>85.0</td>\n      <td>1.2</td>\n      <td>1.2</td>\n      <td>...</td>\n      <td>0.9</td>\n      <td>26.0</td>\n      <td>20.0</td>\n      <td>17.0</td>\n      <td>1.0</td>\n      <td>1.0</td>\n      <td>0</td>\n      <td>NaN</td>\n      <td>NaN</td>\n      <td>2021-12-29</td>\n    </tr>\n    <tr>\n      <th>999998</th>\n      <td>2020</td>\n      <td>999999</td>\n      <td>48</td>\n      <td>2</td>\n      <td>9</td>\n      <td>160</td>\n      <td>70</td>\n      <td>91.0</td>\n      <td>0.6</td>\n      <td>0.5</td>\n      <td>...</td>\n      <td>1.0</td>\n      <td>25.0</td>\n      <td>29.0</td>\n      <td>13.0</td>\n      <td>1.0</td>\n      <td>0.0</td>\n      <td>0</td>\n      <td>NaN</td>\n      <td>NaN</td>\n      <td>2021-12-29</td>\n    </tr>\n    <tr>\n      <th>999999</th>\n      <td>2020</td>\n      <td>1000000</td>\n      <td>28</td>\n      <td>1</td>\n      <td>11</td>\n      <td>160</td>\n      <td>55</td>\n      <td>76.1</td>\n      <td>2.0</td>\n      <td>2.0</td>\n      <td>...</td>\n      <td>0.9</td>\n      <td>17.0</td>\n      <td>13.0</td>\n      <td>24.0</td>\n      <td>2.0</td>\n      <td>0.0</td>\n      <td>0</td>\n      <td>NaN</td>\n      <td>NaN</td>\n      <td>2021-12-29</td>\n    </tr>\n  </tbody>\n</table>\n<p>1000000 rows × 31 columns</p>\n</div>"
     },
     "execution_count": 16,
     "metadata": {},
     "output_type": "execute_result"
    }
   ],
   "source": [
    "df['성별코드','연령대 코드(5세단위)','허리둘레','수축기 혈압','이완기 혈압','식전혈당(공복혈당)','총 콜레스테롤','트리글리세라이드','']"
   ],
   "metadata": {
    "collapsed": false,
    "pycharm": {
     "name": "#%%\n"
    }
   }
  },
  {
   "cell_type": "code",
   "execution_count": 1,
   "outputs": [],
   "source": [
    "from scipy.stats.contingency import relative_risk\n",
    "from numpy import log as ln\n",
    "\n",
    "def metrix(a,b,c,d,c1,c2):\n",
    "  dct = {\n",
    "      'death_0 ' : [a ,b, a+b],\n",
    "      'death_1 ' : [c,d, c+d ],\n",
    "      'sum ' : [a+c, b+d,a+b+c+d],\n",
    "  }\n",
    "  df = pd.DataFrame(dct , index = [c1 , c2, 'sum'])\n",
    "  print(df)\n",
    "  rr = a/(a+c)/(b/(b+d))\n",
    "  odr = (a/c)/(b/d)\n",
    "  lnrr = ln(rr)\n",
    "  lnodr = ln(odr)\n",
    "  print()\n",
    "  print(\"Risk Relative : \" , rr)\n",
    "  print(\"Odd Ratio : \" ,odr)\n",
    "  print()\n",
    "  print(\"ln(rr) : \" ,lnrr)\n",
    "  print(\"ln(odr) : \" ,lnodr)\n",
    "  upln = np.exp(lnrr + 1.96 * math.sqrt(1/a + 1/b - 1/(a+c) - 1/(b+d)))\n",
    "  downln = np.exp(lnrr - 1.96 * math.sqrt(1/a + 1/b - 1/(a+c) - 1/(b+d)))\n",
    "  upodd = np.exp(lnodr + 1.96 * math.sqrt(1/a + 1/b + 1/c + 1/d))\n",
    "  downodd = np.exp(lnodr - 1.96 * math.sqrt(1/a + 1/b + 1/c + 1/d))\n",
    "  print()\n",
    "  print(\"rr/ upper ci : \" , upln)\n",
    "  print(\"rr/ down ci : \" , downln)\n",
    "  print()\n",
    "  print(\"odr/ upper ci : \" , upodd)\n",
    "  print('odr/ down ci : ' , downodd)\n",
    "  sensitivity = a/(a+b)\n",
    "  specifity = d/(c+d)\n",
    "  ppv = a/(a+c)\n",
    "  npv = b/(b+d)\n",
    "  lrplus = sensitivity / (1 - specifity)\n",
    "  lrmin = (1 - sensitivity) / specifity\n",
    "  yoden_index = sensitivity + specifity - 1\n",
    "  accuacy = (a + d) / (a+ b + c + d)\n",
    "  print()\n",
    "  print(\"sensitivity : \" , sensitivity)\n",
    "  print(\"specifity : \" , specifity)\n",
    "  print()\n",
    "  print(\"ppv : \" , ppv)\n",
    "  print(\"npv : \" , npv)\n",
    "  print()\n",
    "  print(\"lr+ : \" , lrplus)\n",
    "  print(\"lr- : \" , lrmin)\n",
    "  print()\n",
    "  print(\"yoden_index : \" , yoden_index)\n",
    "  print(\"accuacy : \" , accuacy)"
   ],
   "metadata": {
    "collapsed": false,
    "pycharm": {
     "name": "#%%\n"
    }
   }
  },
  {
   "cell_type": "code",
   "execution_count": null,
   "outputs": [],
   "source": [
    "metrix"
   ],
   "metadata": {
    "collapsed": false,
    "pycharm": {
     "name": "#%%\n"
    }
   }
  }
 ],
 "metadata": {
  "kernelspec": {
   "display_name": "Python 3",
   "language": "python",
   "name": "python3"
  },
  "language_info": {
   "codemirror_mode": {
    "name": "ipython",
    "version": 2
   },
   "file_extension": ".py",
   "mimetype": "text/x-python",
   "name": "python",
   "nbconvert_exporter": "python",
   "pygments_lexer": "ipython2",
   "version": "2.7.6"
  }
 },
 "nbformat": 4,
 "nbformat_minor": 0
}