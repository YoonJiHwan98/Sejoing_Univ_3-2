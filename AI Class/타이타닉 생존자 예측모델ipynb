{
 "cells": [
  {
   "cell_type": "code",
   "execution_count": 2,
   "id": "66c80c76",
   "metadata": {},
   "outputs": [],
   "source": [
    "import pandas as pd\n",
    "import numpy as np\n",
    "import seaborn as sns\n",
    "import matplotlib.pyplot as plt"
   ]
  },
  {
   "cell_type": "markdown",
   "id": "70f48d10",
   "metadata": {},
   "source": [
    "# 데이터 불러오기"
   ]
  },
  {
   "cell_type": "code",
   "execution_count": 3,
   "id": "79040032",
   "metadata": {},
   "outputs": [],
   "source": [
    "train = pd.read_csv('./Data/titanic/train(3).csv')\n",
    "test = pd.read_csv('./Data/titanic/test(3).csv')"
   ]
  },
  {
   "cell_type": "markdown",
   "id": "010769c6",
   "metadata": {},
   "source": [
    "PassengerID 탑승객 고유 아이디\n",
    "\n",
    "Survival 탑승객 생존 유무 (0: 사망, 1: 생존)\n",
    "\n",
    "Pclass 등실의 등급\n",
    "\n",
    "Name 이름\n",
    "\n",
    "Sex 성별\n",
    "\n",
    "Age 나이\n",
    "\n",
    "Sibsp 함께 탑승한 형제자매, 아내, 남편의 수\n",
    "\n",
    "Parch 함께 탑승한 부모, 자식의 수\n",
    "\n",
    "Ticket 티켓 번호\n",
    "\n",
    "Fare 티켓의 요금\n",
    "\n",
    "Cabin 객실 번호\n",
    "\n",
    "Embarked 배에 탑승한 항구 이름\n",
    "( C = Cherbourn, Q = Queenstown, S = Southampton)\n"
   ]
  },
  {
   "cell_type": "markdown",
   "id": "b4e42c14",
   "metadata": {},
   "source": [
    "# 데이터 확인"
   ]
  },
  {
   "cell_type": "code",
   "execution_count": 4,
   "id": "b5e05dda",
   "metadata": {},
   "outputs": [
    {
     "name": "stdout",
     "output_type": "stream",
     "text": [
      "<class 'pandas.core.frame.DataFrame'>\n",
      "RangeIndex: 891 entries, 0 to 890\n",
      "Data columns (total 12 columns):\n",
      " #   Column       Non-Null Count  Dtype  \n",
      "---  ------       --------------  -----  \n",
      " 0   PassengerId  891 non-null    int64  \n",
      " 1   Survived     891 non-null    int64  \n",
      " 2   Pclass       891 non-null    int64  \n",
      " 3   Name         891 non-null    object \n",
      " 4   Sex          891 non-null    object \n",
      " 5   Age          714 non-null    float64\n",
      " 6   SibSp        891 non-null    int64  \n",
      " 7   Parch        891 non-null    int64  \n",
      " 8   Ticket       891 non-null    object \n",
      " 9   Fare         891 non-null    float64\n",
      " 10  Cabin        204 non-null    object \n",
      " 11  Embarked     889 non-null    object \n",
      "dtypes: float64(2), int64(5), object(5)\n",
      "memory usage: 83.7+ KB\n"
     ]
    }
   ],
   "source": [
    "train.info()"
   ]
  },
  {
   "cell_type": "code",
   "execution_count": 5,
   "id": "bda0046c",
   "metadata": {},
   "outputs": [
    {
     "data": {
      "text/plain": [
       "PassengerId      0\n",
       "Survived         0\n",
       "Pclass           0\n",
       "Name             0\n",
       "Sex              0\n",
       "Age            177\n",
       "SibSp            0\n",
       "Parch            0\n",
       "Ticket           0\n",
       "Fare             0\n",
       "Cabin          687\n",
       "Embarked         2\n",
       "dtype: int64"
      ]
     },
     "execution_count": 5,
     "metadata": {},
     "output_type": "execute_result"
    }
   ],
   "source": [
    "train.isnull().sum() # 결측치 확인"
   ]
  },
  {
   "cell_type": "markdown",
   "id": "37259446",
   "metadata": {},
   "source": [
    "# 데이터 전처리"
   ]
  },
  {
   "cell_type": "code",
   "execution_count": 6,
   "id": "c1165878",
   "metadata": {},
   "outputs": [],
   "source": [
    "# 사용하지 않을 데이터\n",
    "# PassengerId, Name, Ticket\n",
    "\n",
    "train = train.drop(columns=['PassengerId','Name','Ticket'])\n",
    "test = test.drop(columns=['PassengerId','Name','Ticket'])\n",
    "y = train['Survived']"
   ]
  },
  {
   "cell_type": "code",
   "execution_count": 7,
   "id": "132999cf",
   "metadata": {
    "pycharm": {
     "name": "#%%\n"
    }
   },
   "outputs": [
    {
     "data": {
      "text/plain": [
       "Index(['Survived', 'Pclass', 'Sex', 'Age', 'SibSp', 'Parch', 'Fare', 'Cabin',\n",
       "       'Embarked'],\n",
       "      dtype='object')"
      ]
     },
     "execution_count": 7,
     "metadata": {},
     "output_type": "execute_result"
    }
   ],
   "source": [
    "train.columns #columns 확인"
   ]
  },
  {
   "cell_type": "markdown",
   "id": "773f694c",
   "metadata": {},
   "source": [
    "# 칼럼별 EDA"
   ]
  },
  {
   "cell_type": "code",
   "execution_count": 8,
   "id": "43c879fc",
   "metadata": {
    "pycharm": {
     "name": "#%%\n"
    }
   },
   "outputs": [
    {
     "data": {
      "text/plain": [
       "<AxesSubplot:xlabel='Pclass', ylabel='count'>"
      ]
     },
     "execution_count": 8,
     "metadata": {},
     "output_type": "execute_result"
    },
    {
     "data": {
      "image/png": "[encoded data removed]",
      "text/plain": [
       "<Figure size 432x288 with 1 Axes>"
      ]
     },
     "metadata": {
      "needs_background": "light"
     },
     "output_type": "display_data"
    }
   ],
   "source": [
    "sns.countplot(data = train, x = 'Pclass', hue='Survived')\n",
    "#Pclass별 생존자수 비교\n",
    "#3등급의 인원들이 사망자가 많은 것을 확인할 수 있다."
   ]
  },
  {
   "cell_type": "code",
   "execution_count": 9,
   "id": "1e417d29",
   "metadata": {
    "pycharm": {
     "name": "#%%\n"
    }
   },
   "outputs": [
    {
     "data": {
      "text/plain": [
       "<AxesSubplot:xlabel='Sex', ylabel='count'>"
      ]
     },
     "execution_count": 9,
     "metadata": {},
     "output_type": "execute_result"
    },
    {
     "data": {
      "image/png": "[encoded data removed]",
      "text/plain": [
       "<Figure size 432x288 with 1 Axes>"
      ]
     },
     "metadata": {
      "needs_background": "light"
     },
     "output_type": "display_data"
    }
   ],
   "source": [
    "sns.countplot(data = train, x = 'Sex', hue='Survived')\n",
    "\n",
    "#성별 생존자수 비교\n",
    "#남자인원들이 사망자가 많은 것을 확인할 수 있다."
   ]
  },
  {
   "cell_type": "code",
   "execution_count": 10,
   "id": "83c1f0d1",
   "metadata": {
    "pycharm": {
     "name": "#%%\n"
    }
   },
   "outputs": [
    {
     "data": {
      "text/plain": [
       "<AxesSubplot:xlabel='Age', ylabel='Count'>"
      ]
     },
     "execution_count": 10,
     "metadata": {},
     "output_type": "execute_result"
    },
    {
     "data": {
      "image/png": "[encoded data removed]",
      "text/plain": [
       "<Figure size 432x288 with 1 Axes>"
      ]
     },
     "metadata": {
      "needs_background": "light"
     },
     "output_type": "display_data"
    }
   ],
   "source": [
    "sns.histplot(data = train, x = 'Age', hue='Survived')\n",
    "\n",
    "#나이별 생존자수 비교\n",
    "# 나이가 어린 사람들은 셍존자가 많은 것을 확인할 수 있다.\n",
    "# 20~50 대까지는 사망자수가 훨씬 많다\n",
    "# 65세 이후로는 대부분 사망자수가 많다."
   ]
  },
  {
   "cell_type": "code",
   "execution_count": 11,
   "id": "c46b5139",
   "metadata": {
    "pycharm": {
     "name": "#%%\n"
    }
   },
   "outputs": [
    {
     "data": {
      "text/plain": [
       "<AxesSubplot:xlabel='SibSp', ylabel='Count'>"
      ]
     },
     "execution_count": 11,
     "metadata": {},
     "output_type": "execute_result"
    },
    {
     "data": {
      "image/png": "[encoded data removed]",
      "text/plain": [
       "<Figure size 432x288 with 1 Axes>"
      ]
     },
     "metadata": {
      "needs_background": "light"
     },
     "output_type": "display_data"
    }
   ],
   "source": [
    "sns.histplot(data = train, x = 'SibSp', hue='Survived')\n",
    "\n",
    "# 부양가족수 별 생존자수 비교"
   ]
  },
  {
   "cell_type": "code",
   "execution_count": 12,
   "id": "1b9ba150",
   "metadata": {
    "pycharm": {
     "name": "#%%\n"
    }
   },
   "outputs": [
    {
     "data": {
      "text/plain": [
       "<AxesSubplot:xlabel='Fare', ylabel='Count'>"
      ]
     },
     "execution_count": 12,
     "metadata": {},
     "output_type": "execute_result"
    },
    {
     "data": {
      "image/png": "[encoded data removed]",
      "text/plain": [
       "<Figure size 432x288 with 1 Axes>"
      ]
     },
     "metadata": {
      "needs_background": "light"
     },
     "output_type": "display_data"
    }
   ],
   "source": [
    "sns.histplot(data = train, x = 'Fare', hue='Survived')\n",
    "\n",
    "# 티켓 가격별 생존자수 비교\n",
    "\n",
    "# 이상치가 있는 것을 확인했다."
   ]
  },
  {
   "cell_type": "code",
   "execution_count": 13,
   "id": "c4fad565",
   "metadata": {
    "pycharm": {
     "name": "#%%\n"
    }
   },
   "outputs": [
    {
     "data": {
      "text/plain": [
       "<AxesSubplot:ylabel='Fare'>"
      ]
     },
     "execution_count": 13,
     "metadata": {},
     "output_type": "execute_result"
    },
    {
     "data": {
      "image/png": "[encoded data removed]",
      "text/plain": [
       "<Figure size 432x288 with 1 Axes>"
      ]
     },
     "metadata": {
      "needs_background": "light"
     },
     "output_type": "display_data"
    }
   ],
   "source": [
    "sns.boxplot(data = train, y = 'Fare')\n",
    "\n",
    "# 티켓 가격 박스형 그래프\n",
    "# 이상치 확인"
   ]
  },
  {
   "cell_type": "code",
   "execution_count": 14,
   "id": "096556c7",
   "metadata": {
    "pycharm": {
     "name": "#%%\n"
    }
   },
   "outputs": [
    {
     "data": {
      "text/plain": [
       "<AxesSubplot:xlabel='Embarked', ylabel='count'>"
      ]
     },
     "execution_count": 14,
     "metadata": {},
     "output_type": "execute_result"
    },
    {
     "data": {
      "image/png": "[encoded data removed]",
      "text/plain": [
       "<Figure size 432x288 with 1 Axes>"
      ]
     },
     "metadata": {
      "needs_background": "light"
     },
     "output_type": "display_data"
    }
   ],
   "source": [
    "sns.countplot(data = train, x = 'Embarked', hue='Survived')"
   ]
  },
  {
   "cell_type": "code",
   "execution_count": 15,
   "id": "f5c3f064",
   "metadata": {
    "pycharm": {
     "name": "#%%\n"
    }
   },
   "outputs": [
    {
     "data": {
      "text/plain": [
       "Index(['Survived', 'Pclass', 'Sex', 'Age', 'SibSp', 'Parch', 'Fare', 'Cabin',\n",
       "       'Embarked'],\n",
       "      dtype='object')"
      ]
     },
     "execution_count": 15,
     "metadata": {},
     "output_type": "execute_result"
    }
   ],
   "source": [
    "train.columns"
   ]
  },
  {
   "cell_type": "markdown",
   "id": "064d6271",
   "metadata": {},
   "source": [
    "# 결측치 처리"
   ]
  },
  {
   "cell_type": "code",
   "execution_count": 16,
   "id": "70f7bb30",
   "metadata": {
    "pycharm": {
     "name": "#%%\n"
    }
   },
   "outputs": [
    {
     "data": {
      "text/plain": [
       "Survived      0\n",
       "Pclass        0\n",
       "Sex           0\n",
       "Age         177\n",
       "SibSp         0\n",
       "Parch         0\n",
       "Fare          0\n",
       "Cabin       687\n",
       "Embarked      2\n",
       "dtype: int64"
      ]
     },
     "execution_count": 16,
     "metadata": {},
     "output_type": "execute_result"
    }
   ],
   "source": [
    "train.isnull().sum()"
   ]
  },
  {
   "cell_type": "code",
   "execution_count": 17,
   "id": "81504ef0",
   "metadata": {
    "pycharm": {
     "name": "#%%\n"
    }
   },
   "outputs": [
    {
     "data": {
      "text/plain": [
       "Pclass        0\n",
       "Sex           0\n",
       "Age          86\n",
       "SibSp         0\n",
       "Parch         0\n",
       "Fare          1\n",
       "Cabin       327\n",
       "Embarked      0\n",
       "dtype: int64"
      ]
     },
     "execution_count": 17,
     "metadata": {},
     "output_type": "execute_result"
    }
   ],
   "source": [
    "test.isnull().sum()"
   ]
  },
  {
   "cell_type": "markdown",
   "id": "a31fa5ea",
   "metadata": {},
   "source": [
    "## Age\n",
    "\n",
    "평균값으로 filling"
   ]
  },
  {
   "cell_type": "code",
   "execution_count": 18,
   "id": "464b11b7",
   "metadata": {
    "pycharm": {
     "name": "#%%\n"
    }
   },
   "outputs": [],
   "source": [
    "train['Age'] =train['Age'].fillna(train['Age'].mean())#평균값으로 filling\n",
    "test['Age'] = test['Age'].fillna(train['Age'].mean())"
   ]
  },
  {
   "cell_type": "markdown",
   "id": "7a379019",
   "metadata": {},
   "source": [
    "## Cabin\n",
    "\n",
    "약 900개의 데이터 중 600개 2/3 이 결측치 이고 예측에 크게 중요하지 않다고 생각하여 drop"
   ]
  },
  {
   "cell_type": "code",
   "execution_count": 19,
   "id": "b19d9f4d",
   "metadata": {
    "pycharm": {
     "name": "#%%\n"
    }
   },
   "outputs": [
    {
     "data": {
      "text/plain": [
       "B96 B98        4\n",
       "C23 C25 C27    4\n",
       "G6             4\n",
       "D              3\n",
       "F2             3\n",
       "              ..\n",
       "B41            1\n",
       "T              1\n",
       "C62 C64        1\n",
       "C46            1\n",
       "C30            1\n",
       "Name: Cabin, Length: 147, dtype: int64"
      ]
     },
     "execution_count": 19,
     "metadata": {},
     "output_type": "execute_result"
    }
   ],
   "source": [
    "train['Cabin'].value_counts()"
   ]
  },
  {
   "cell_type": "code",
   "execution_count": 20,
   "id": "1eecd412",
   "metadata": {
    "pycharm": {
     "name": "#%%\n"
    }
   },
   "outputs": [],
   "source": [
    "train = train.drop(columns='Cabin')"
   ]
  },
  {
   "cell_type": "code",
   "execution_count": 21,
   "id": "200952d0",
   "metadata": {},
   "outputs": [],
   "source": [
    "test = test.drop(columns='Cabin')"
   ]
  },
  {
   "cell_type": "markdown",
   "id": "75017055",
   "metadata": {},
   "source": [
    "## Embarked"
   ]
  },
  {
   "cell_type": "code",
   "execution_count": 22,
   "id": "fd1ce691",
   "metadata": {},
   "outputs": [],
   "source": [
    "train['Embarked'] = train['Embarked'].fillna('S') # 최빈값으로 filling"
   ]
  },
  {
   "cell_type": "code",
   "execution_count": 23,
   "id": "5ceb3b9f",
   "metadata": {},
   "outputs": [],
   "source": [
    "test['Embarked'] = test['Embarked'].fillna('S')"
   ]
  },
  {
   "cell_type": "markdown",
   "id": "44990fb4",
   "metadata": {},
   "source": [
    "## Fare"
   ]
  },
  {
   "cell_type": "code",
   "execution_count": 24,
   "id": "7e60a1ac",
   "metadata": {},
   "outputs": [],
   "source": [
    "test['Fare'] = test['Fare'].fillna(train['Fare'].mean())\n",
    "#train 의 평균값으로 filling"
   ]
  },
  {
   "cell_type": "markdown",
   "id": "4ce21cc8",
   "metadata": {},
   "source": [
    "# 이상치 처리"
   ]
  },
  {
   "cell_type": "code",
   "execution_count": 25,
   "id": "ff0d38c6",
   "metadata": {
    "pycharm": {
     "name": "#%%\n"
    }
   },
   "outputs": [
    {
     "data": {
      "text/plain": [
       "<AxesSubplot:>"
      ]
     },
     "execution_count": 25,
     "metadata": {},
     "output_type": "execute_result"
    },
    {
     "data": {
      "image/png": "[encoded data removed]",
      "text/plain": [
       "<Figure size 432x288 with 1 Axes>"
      ]
     },
     "metadata": {
      "needs_background": "light"
     },
     "output_type": "display_data"
    }
   ],
   "source": [
    "sns.boxplot(data = train)"
   ]
  },
  {
   "cell_type": "markdown",
   "id": "469bcc9a",
   "metadata": {},
   "source": [
    "이상치가 심한 Fare 칼럼에만 이상치 제거"
   ]
  },
  {
   "cell_type": "code",
   "execution_count": 26,
   "id": "13896c57",
   "metadata": {
    "pycharm": {
     "name": "#%%\n"
    }
   },
   "outputs": [
    {
     "data": {
      "text/html": [
       "<div>\n",
       "<style scoped>\n",
       "    .dataframe tbody tr th:only-of-type {\n",
       "        vertical-align: middle;\n",
       "    }\n",
       "\n",
       "    .dataframe tbody tr th {\n",
       "        vertical-align: top;\n",
       "    }\n",
       "\n",
       "    .dataframe thead th {\n",
       "        text-align: right;\n",
       "    }\n",
       "</style>\n",
       "<table border=\"1\" class=\"dataframe\">\n",
       "  <thead>\n",
       "    <tr style=\"text-align: right;\">\n",
       "      <th></th>\n",
       "      <th>Survived</th>\n",
       "      <th>Pclass</th>\n",
       "      <th>Sex</th>\n",
       "      <th>Age</th>\n",
       "      <th>SibSp</th>\n",
       "      <th>Parch</th>\n",
       "      <th>Fare</th>\n",
       "      <th>Embarked</th>\n",
       "    </tr>\n",
       "  </thead>\n",
       "  <tbody>\n",
       "    <tr>\n",
       "      <th>258</th>\n",
       "      <td>1</td>\n",
       "      <td>1</td>\n",
       "      <td>female</td>\n",
       "      <td>35.0</td>\n",
       "      <td>0</td>\n",
       "      <td>0</td>\n",
       "      <td>512.3292</td>\n",
       "      <td>C</td>\n",
       "    </tr>\n",
       "    <tr>\n",
       "      <th>679</th>\n",
       "      <td>1</td>\n",
       "      <td>1</td>\n",
       "      <td>male</td>\n",
       "      <td>36.0</td>\n",
       "      <td>0</td>\n",
       "      <td>1</td>\n",
       "      <td>512.3292</td>\n",
       "      <td>C</td>\n",
       "    </tr>\n",
       "    <tr>\n",
       "      <th>737</th>\n",
       "      <td>1</td>\n",
       "      <td>1</td>\n",
       "      <td>male</td>\n",
       "      <td>35.0</td>\n",
       "      <td>0</td>\n",
       "      <td>0</td>\n",
       "      <td>512.3292</td>\n",
       "      <td>C</td>\n",
       "    </tr>\n",
       "  </tbody>\n",
       "</table>\n",
       "</div>"
      ],
      "text/plain": [
       "     Survived  Pclass     Sex   Age  SibSp  Parch      Fare Embarked\n",
       "258         1       1  female  35.0      0      0  512.3292        C\n",
       "679         1       1    male  36.0      0      1  512.3292        C\n",
       "737         1       1    male  35.0      0      0  512.3292        C"
      ]
     },
     "execution_count": 26,
     "metadata": {},
     "output_type": "execute_result"
    }
   ],
   "source": [
    "train[(train['Fare'] > 300)]"
   ]
  },
  {
   "cell_type": "code",
   "execution_count": 29,
   "id": "8e1138ec",
   "metadata": {
    "pycharm": {
     "name": "#%%\n"
    }
   },
   "outputs": [],
   "source": [
    "train.loc[train['Fare'] > 300, 'Fare'] = 300\n",
    "\n",
    "# 티켓값이 500은 너무 높아서 300으로 조정"
   ]
  },
  {
   "cell_type": "code",
   "execution_count": 30,
   "id": "1ca17160",
   "metadata": {
    "pycharm": {
     "name": "#%%\n"
    }
   },
   "outputs": [
    {
     "data": {
      "text/plain": [
       "<AxesSubplot:>"
      ]
     },
     "execution_count": 30,
     "metadata": {},
     "output_type": "execute_result"
    },
    {
     "data": {
      "image/png": "[encoded data removed]",
      "text/plain": [
       "<Figure size 432x288 with 1 Axes>"
      ]
     },
     "metadata": {
      "needs_background": "light"
     },
     "output_type": "display_data"
    }
   ],
   "source": [
    "sns.boxplot(data = train)"
   ]
  },
  {
   "cell_type": "markdown",
   "id": "8184d648",
   "metadata": {},
   "source": [
    "# feature engineering\n",
    "\n",
    "pipeline 활용"
   ]
  },
  {
   "cell_type": "code",
   "execution_count": 31,
   "id": "14afab7e",
   "metadata": {},
   "outputs": [],
   "source": [
    "X = train.drop(columns=['Survived']) # X 와 타겟 분리"
   ]
  },
  {
   "cell_type": "code",
   "execution_count": 32,
   "id": "4bbee2c0",
   "metadata": {},
   "outputs": [],
   "source": [
    "num_attribs_list = ['Age','SibSp','Parch','Fare']\n",
    "cat_1hot_attribs_list = ['Sex','Embarked']\n",
    "cat_ord_attribs_list = ['Pclass']"
   ]
  },
  {
   "cell_type": "code",
   "execution_count": 33,
   "id": "8ff4d1d6",
   "metadata": {},
   "outputs": [],
   "source": [
    "from sklearn.pipeline import Pipeline # pipeline 함수 \n",
    "from sklearn.preprocessing import StandardScaler # 스케일링 라이브러리\n",
    "from sklearn.impute import SimpleImputer # 결측치 처리 라이브러리\n",
    "from sklearn.preprocessing import OneHotEncoder \n",
    "from sklearn.preprocessing import OrdinalEncoder\n",
    "from sklearn.compose import ColumnTransformer"
   ]
  },
  {
   "cell_type": "code",
   "execution_count": 34,
   "id": "6886193b",
   "metadata": {},
   "outputs": [],
   "source": [
    "from sklearn.base import BaseEstimator, TransformerMixin\n",
    "\n",
    "# 수치형 열과 범주형 열을 선택하기 위한 클래스\n",
    "class DataFrameSelector(BaseEstimator, TransformerMixin):\n",
    "    def __init__(self, attribute_names):\n",
    "        self.attribute_names = attribute_names\n",
    "    def fit(self, X, y=None):\n",
    "        return self\n",
    "    def transform(self, X):\n",
    "        return X[self.attribute_names].values"
   ]
  },
  {
   "cell_type": "code",
   "execution_count": 35,
   "id": "7017504b",
   "metadata": {},
   "outputs": [],
   "source": [
    "num_pipeline = Pipeline([ # 수치형 변수 전처리 파이프라인 \n",
    "        ('imputer', SimpleImputer(strategy=\"mean\")),\n",
    "        ('std_scaler', StandardScaler())\n",
    "    ]) \n",
    "\n",
    "cat_1hot_pipeline = Pipeline([ # 순서가 없는 범주형 변수 전처리 파이프라인\n",
    "        ('cat_encoder', OneHotEncoder(sparse=False)),\n",
    "    ])\n",
    "\n",
    "cat_ord_pipeline = Pipeline([ # 순서가 있는 범주형 변수 전처리 파이프라인\n",
    "        #('selector', DataFrameSelector(cat_ord_attribs)),\n",
    "        ('cat_encoder', OrdinalEncoder())\n",
    "    ])"
   ]
  },
  {
   "cell_type": "code",
   "execution_count": 36,
   "id": "20f9618c",
   "metadata": {},
   "outputs": [],
   "source": [
    "full_pipeline = ColumnTransformer([ # 각 컬럼별 파이프라인 적용 \n",
    "    (\"num\", num_pipeline, num_attribs_list),\n",
    "    (\"cat\", cat_1hot_pipeline, cat_1hot_attribs_list),\n",
    "    ('ord',cat_ord_pipeline,cat_ord_attribs_list)\n",
    "])\n"
   ]
  },
  {
   "cell_type": "code",
   "execution_count": 37,
   "id": "f160b43b",
   "metadata": {},
   "outputs": [],
   "source": [
    "X_prepared = full_pipeline.fit_transform(X)\n",
    "test_prepared = full_pipeline.fit_transform(test)"
   ]
  },
  {
   "cell_type": "code",
   "execution_count": 38,
   "id": "a371f0f9",
   "metadata": {
    "scrolled": true
   },
   "outputs": [
    {
     "data": {
      "text/plain": [
       "array([[-0.5924806 ,  0.43279337, -0.47367361, ...,  0.        ,\n",
       "         1.        ,  2.        ],\n",
       "       [ 0.63878901,  0.43279337, -0.47367361, ...,  0.        ,\n",
       "         0.        ,  0.        ],\n",
       "       [-0.2846632 , -0.4745452 , -0.47367361, ...,  0.        ,\n",
       "         1.        ,  2.        ],\n",
       "       ...,\n",
       "       [ 0.        ,  0.43279337,  2.00893337, ...,  0.        ,\n",
       "         1.        ,  2.        ],\n",
       "       [-0.2846632 , -0.4745452 , -0.47367361, ...,  0.        ,\n",
       "         0.        ,  0.        ],\n",
       "       [ 0.17706291, -0.4745452 , -0.47367361, ...,  1.        ,\n",
       "         0.        ,  2.        ]])"
      ]
     },
     "execution_count": 38,
     "metadata": {},
     "output_type": "execute_result"
    }
   ],
   "source": [
    "X_prepared"
   ]
  },
  {
   "cell_type": "code",
   "execution_count": 39,
   "id": "15f2f570",
   "metadata": {
    "pycharm": {
     "name": "#%%\n"
    }
   },
   "outputs": [
    {
     "data": {
      "text/plain": [
       "array([[ 0.34428417, -0.49947002, -0.4002477 , ...,  1.        ,\n",
       "         0.        ,  2.        ],\n",
       "       [ 1.33465451,  0.61699237, -0.4002477 , ...,  0.        ,\n",
       "         1.        ,  2.        ],\n",
       "       [ 2.52309891, -0.49947002, -0.4002477 , ...,  1.        ,\n",
       "         0.        ,  1.        ],\n",
       "       ...,\n",
       "       [ 0.66120268, -0.49947002, -0.4002477 , ...,  0.        ,\n",
       "         1.        ,  2.        ],\n",
       "       [-0.03608795, -0.49947002, -0.4002477 , ...,  0.        ,\n",
       "         1.        ,  2.        ],\n",
       "       [-0.03608795,  0.61699237,  0.61989583, ...,  0.        ,\n",
       "         0.        ,  2.        ]])"
      ]
     },
     "execution_count": 39,
     "metadata": {},
     "output_type": "execute_result"
    }
   ],
   "source": [
    "test_prepared"
   ]
  },
  {
   "cell_type": "markdown",
   "id": "b967c1e6",
   "metadata": {},
   "source": [
    "# train, val 분리"
   ]
  },
  {
   "cell_type": "code",
   "execution_count": 40,
   "id": "8a03bc0a",
   "metadata": {},
   "outputs": [],
   "source": [
    "from sklearn.model_selection import train_test_split # train 과 valid 으로 나눈다. \n",
    "\n",
    "X_train, X_val, y_train, y_val = train_test_split(X_prepared, y, test_size=0.2, random_state=190000)"
   ]
  },
  {
   "cell_type": "markdown",
   "id": "f5111394",
   "metadata": {},
   "source": [
    "# 모델 학습"
   ]
  },
  {
   "cell_type": "code",
   "execution_count": 41,
   "id": "629ca7ea",
   "metadata": {},
   "outputs": [
    {
     "data": {
      "text/plain": [
       "SVC()"
      ]
     },
     "execution_count": 41,
     "metadata": {},
     "output_type": "execute_result"
    }
   ],
   "source": [
    "from sklearn.svm import SVC # 이진 분류에 좋은 성능을 내는 svm 의 classifier 을 사용하였습니다.\n",
    "\n",
    "svc_model = SVC()\n",
    "svc_model.fit(X_train,y_train)"
   ]
  },
  {
   "cell_type": "code",
   "execution_count": 42,
   "id": "f2d47aa6",
   "metadata": {},
   "outputs": [
    {
     "data": {
      "text/plain": [
       "'rbf'"
      ]
     },
     "execution_count": 42,
     "metadata": {},
     "output_type": "execute_result"
    }
   ],
   "source": [
    "svc_model.kernel"
   ]
  },
  {
   "cell_type": "code",
   "execution_count": 43,
   "id": "a3a6ce7a",
   "metadata": {},
   "outputs": [
    {
     "data": {
      "text/plain": [
       "array([0, 1, 0, 0, 0, 0, 0, 0, 0, 1, 1, 0, 0, 0, 0, 1, 0, 1, 0, 0, 1, 0,\n",
       "       0, 1, 0, 0, 0, 1, 0, 1, 0, 1, 0, 0, 0, 1, 0, 0, 0, 0, 0, 0, 0, 1,\n",
       "       0, 0, 0, 0, 0, 0, 0, 0, 0, 0, 0, 1, 1, 0, 0, 0, 0, 1, 0, 0, 0, 0,\n",
       "       1, 0, 0, 0, 0, 0, 0, 1, 0, 0, 0, 0, 0, 0, 0, 0, 0, 1, 0, 1, 1, 1,\n",
       "       0, 1, 0, 0, 1, 0, 0, 1, 0, 1, 0, 0, 1, 0, 0, 0, 0, 1, 1, 0, 0, 1,\n",
       "       0, 0, 0, 1, 1, 1, 0, 0, 0, 1, 1, 0, 0, 1, 0, 0, 0, 1, 0, 0, 1, 0,\n",
       "       0, 0, 0, 0, 0, 0, 0, 0, 0, 0, 0, 0, 0, 0, 1, 0, 1, 0, 0, 0, 0, 1,\n",
       "       1, 1, 0, 0, 0, 1, 0, 1, 0, 1, 0, 1, 0, 0, 1, 1, 0, 0, 0, 1, 1, 1,\n",
       "       0, 0, 1], dtype=int64)"
      ]
     },
     "execution_count": 43,
     "metadata": {},
     "output_type": "execute_result"
    }
   ],
   "source": [
    "svc_model.predict(X_val) # 모델 예측"
   ]
  },
  {
   "cell_type": "markdown",
   "id": "bd73730e",
   "metadata": {},
   "source": [
    "# 모델 평가"
   ]
  },
  {
   "cell_type": "code",
   "execution_count": 44,
   "id": "41ec7ebc",
   "metadata": {},
   "outputs": [],
   "source": [
    "from sklearn.metrics import precision_score, recall_score\n",
    "from sklearn.metrics import f1_score\n",
    "from sklearn.metrics import confusion_matrix\n"
   ]
  },
  {
   "cell_type": "code",
   "execution_count": 45,
   "id": "96d7296b",
   "metadata": {},
   "outputs": [],
   "source": [
    "def model_eval(pred, answer):\n",
    "    print(f'recall_score : {recall_score(pred,answer)}')\n",
    "    print(f'precision_score : {precision_score(pred,answer)}')\n",
    "    print(f'f1_score : {f1_score(pred,answer)}')\n",
    "    print(f'coufusion_matrix : ')\n",
    "    print(confusion_matrix(pred,answer))"
   ]
  },
  {
   "cell_type": "code",
   "execution_count": 46,
   "id": "74782f9a",
   "metadata": {},
   "outputs": [
    {
     "name": "stdout",
     "output_type": "stream",
     "text": [
      "recall_score : 0.8461538461538461\n",
      "precision_score : 0.6875\n",
      "f1_score : 0.7586206896551724\n",
      "coufusion_matrix : \n",
      "[[107  20]\n",
      " [  8  44]]\n"
     ]
    }
   ],
   "source": [
    "model_eval(svc_model.predict(X_val),y_val)"
   ]
  },
  {
   "cell_type": "markdown",
   "id": "9a65cd10",
   "metadata": {},
   "source": [
    "# 모델 튜닝"
   ]
  },
  {
   "cell_type": "code",
   "execution_count": 47,
   "id": "1fc4a975",
   "metadata": {},
   "outputs": [],
   "source": [
    "from sklearn.model_selection import GridSearchCV\n",
    "\n"
   ]
  },
  {
   "cell_type": "code",
   "execution_count": 48,
   "id": "04b624a9",
   "metadata": {
    "scrolled": true
   },
   "outputs": [
    {
     "name": "stdout",
     "output_type": "stream",
     "text": [
      "Fitting 5 folds for each of 28 candidates, totalling 140 fits\n",
      "[CV] C=0.1, gamma=0.01, kernel=rbf ...................................\n",
      "[CV] .................... C=0.1, gamma=0.01, kernel=rbf, total=   0.0s\n",
      "[CV] C=0.1, gamma=0.01, kernel=rbf ...................................\n",
      "[CV] .................... C=0.1, gamma=0.01, kernel=rbf, total=   0.0s\n",
      "[CV] C=0.1, gamma=0.01, kernel=rbf ...................................\n",
      "[CV] .................... C=0.1, gamma=0.01, kernel=rbf, total=   0.0s\n",
      "[CV] C=0.1, gamma=0.01, kernel=rbf ...................................\n",
      "[CV] .................... C=0.1, gamma=0.01, kernel=rbf, total=   0.0s\n",
      "[CV] C=0.1, gamma=0.01, kernel=rbf ...................................\n",
      "[CV] .................... C=0.1, gamma=0.01, kernel=rbf, total=   0.0s\n",
      "[CV] C=0.1, gamma=0.03, kernel=rbf ...................................\n",
      "[CV] .................... C=0.1, gamma=0.03, kernel=rbf, total=   0.0s\n",
      "[CV] C=0.1, gamma=0.03, kernel=rbf ...................................\n",
      "[CV] .................... C=0.1, gamma=0.03, kernel=rbf, total=   0.0s\n",
      "[CV] C=0.1, gamma=0.03, kernel=rbf ...................................\n",
      "[CV] .................... C=0.1, gamma=0.03, kernel=rbf, total=   0.0s\n",
      "[CV] C=0.1, gamma=0.03, kernel=rbf ...................................\n",
      "[CV] .................... C=0.1, gamma=0.03, kernel=rbf, total=   0.0s\n",
      "[CV] C=0.1, gamma=0.03, kernel=rbf ...................................\n",
      "[CV] .................... C=0.1, gamma=0.03, kernel=rbf, total=   0.0s\n",
      "[CV] C=0.1, gamma=0.1, kernel=rbf ....................................\n",
      "[CV] ..................... C=0.1, gamma=0.1, kernel=rbf, total=   0.0s\n",
      "[CV] C=0.1, gamma=0.1, kernel=rbf ....................................\n",
      "[CV] ..................... C=0.1, gamma=0.1, kernel=rbf, total=   0.0s\n",
      "[CV] C=0.1, gamma=0.1, kernel=rbf ....................................\n",
      "[CV] ..................... C=0.1, gamma=0.1, kernel=rbf, total=   0.0s\n",
      "[CV] C=0.1, gamma=0.1, kernel=rbf ....................................\n",
      "[CV] ..................... C=0.1, gamma=0.1, kernel=rbf, total=   0.0s\n",
      "[CV] C=0.1, gamma=0.1, kernel=rbf ....................................\n",
      "[CV] ..................... C=0.1, gamma=0.1, kernel=rbf, total=   0.0s\n",
      "[CV] C=0.1, gamma=0.3, kernel=rbf ....................................\n",
      "[CV] ..................... C=0.1, gamma=0.3, kernel=rbf, total=   0.0s\n",
      "[CV] C=0.1, gamma=0.3, kernel=rbf ....................................\n",
      "[CV] ..................... C=0.1, gamma=0.3, kernel=rbf, total=   0.0s\n",
      "[CV] C=0.1, gamma=0.3, kernel=rbf ....................................\n",
      "[CV] ..................... C=0.1, gamma=0.3, kernel=rbf, total=   0.0s\n",
      "[CV] C=0.1, gamma=0.3, kernel=rbf ....................................\n",
      "[CV] ..................... C=0.1, gamma=0.3, kernel=rbf, total=   0.0s\n",
      "[CV] C=0.1, gamma=0.3, kernel=rbf ....................................\n",
      "[CV] ..................... C=0.1, gamma=0.3, kernel=rbf, total=   0.0s\n",
      "[CV] C=0.1, gamma=1.0, kernel=rbf ....................................\n",
      "[CV] ..................... C=0.1, gamma=1.0, kernel=rbf, total=   0.0s\n",
      "[CV] C=0.1, gamma=1.0, kernel=rbf ....................................\n",
      "[CV] ..................... C=0.1, gamma=1.0, kernel=rbf, total=   0.0s\n",
      "[CV] C=0.1, gamma=1.0, kernel=rbf ....................................\n",
      "[CV] ..................... C=0.1, gamma=1.0, kernel=rbf, total=   0.0s\n",
      "[CV] C=0.1, gamma=1.0, kernel=rbf ....................................\n",
      "[CV] ..................... C=0.1, gamma=1.0, kernel=rbf, total=   0.0s\n",
      "[CV] C=0.1, gamma=1.0, kernel=rbf ....................................\n",
      "[CV] ..................... C=0.1, gamma=1.0, kernel=rbf, total=   0.0s\n",
      "[CV] C=0.1, gamma=3, kernel=rbf ......................................\n"
     ]
    },
    {
     "name": "stderr",
     "output_type": "stream",
     "text": [
      "[Parallel(n_jobs=1)]: Using backend SequentialBackend with 1 concurrent workers.\n",
      "[Parallel(n_jobs=1)]: Done   1 out of   1 | elapsed:    0.0s remaining:    0.0s\n"
     ]
    },
    {
     "name": "stdout",
     "output_type": "stream",
     "text": [
      "[CV] ....................... C=0.1, gamma=3, kernel=rbf, total=   0.0s\n",
      "[CV] C=0.1, gamma=3, kernel=rbf ......................................\n",
      "[CV] ....................... C=0.1, gamma=3, kernel=rbf, total=   0.0s\n",
      "[CV] C=0.1, gamma=3, kernel=rbf ......................................\n",
      "[CV] ....................... C=0.1, gamma=3, kernel=rbf, total=   0.0s\n",
      "[CV] C=0.1, gamma=3, kernel=rbf ......................................\n",
      "[CV] ....................... C=0.1, gamma=3, kernel=rbf, total=   0.0s\n",
      "[CV] C=0.1, gamma=3, kernel=rbf ......................................\n",
      "[CV] ....................... C=0.1, gamma=3, kernel=rbf, total=   0.0s\n",
      "[CV] C=1, gamma=0.01, kernel=rbf .....................................\n",
      "[CV] ...................... C=1, gamma=0.01, kernel=rbf, total=   0.0s\n",
      "[CV] C=1, gamma=0.01, kernel=rbf .....................................\n",
      "[CV] ...................... C=1, gamma=0.01, kernel=rbf, total=   0.0s\n",
      "[CV] C=1, gamma=0.01, kernel=rbf .....................................\n",
      "[CV] ...................... C=1, gamma=0.01, kernel=rbf, total=   0.0s\n",
      "[CV] C=1, gamma=0.01, kernel=rbf .....................................\n",
      "[CV] ...................... C=1, gamma=0.01, kernel=rbf, total=   0.0s\n",
      "[CV] C=1, gamma=0.01, kernel=rbf .....................................\n",
      "[CV] ...................... C=1, gamma=0.01, kernel=rbf, total=   0.0s\n",
      "[CV] C=1, gamma=0.03, kernel=rbf .....................................\n",
      "[CV] ...................... C=1, gamma=0.03, kernel=rbf, total=   0.0s\n",
      "[CV] C=1, gamma=0.03, kernel=rbf .....................................\n",
      "[CV] ...................... C=1, gamma=0.03, kernel=rbf, total=   0.0s\n",
      "[CV] C=1, gamma=0.03, kernel=rbf .....................................\n",
      "[CV] ...................... C=1, gamma=0.03, kernel=rbf, total=   0.0s\n",
      "[CV] C=1, gamma=0.03, kernel=rbf .....................................\n",
      "[CV] ...................... C=1, gamma=0.03, kernel=rbf, total=   0.0s\n",
      "[CV] C=1, gamma=0.03, kernel=rbf .....................................\n",
      "[CV] ...................... C=1, gamma=0.03, kernel=rbf, total=   0.0s\n",
      "[CV] C=1, gamma=0.1, kernel=rbf ......................................\n",
      "[CV] ....................... C=1, gamma=0.1, kernel=rbf, total=   0.0s\n",
      "[CV] C=1, gamma=0.1, kernel=rbf ......................................\n",
      "[CV] ....................... C=1, gamma=0.1, kernel=rbf, total=   0.0s\n",
      "[CV] C=1, gamma=0.1, kernel=rbf ......................................\n",
      "[CV] ....................... C=1, gamma=0.1, kernel=rbf, total=   0.0s\n",
      "[CV] C=1, gamma=0.1, kernel=rbf ......................................\n",
      "[CV] ....................... C=1, gamma=0.1, kernel=rbf, total=   0.0s\n",
      "[CV] C=1, gamma=0.1, kernel=rbf ......................................\n",
      "[CV] ....................... C=1, gamma=0.1, kernel=rbf, total=   0.0s\n",
      "[CV] C=1, gamma=0.3, kernel=rbf ......................................\n",
      "[CV] ....................... C=1, gamma=0.3, kernel=rbf, total=   0.0s\n",
      "[CV] C=1, gamma=0.3, kernel=rbf ......................................\n",
      "[CV] ....................... C=1, gamma=0.3, kernel=rbf, total=   0.0s\n",
      "[CV] C=1, gamma=0.3, kernel=rbf ......................................\n",
      "[CV] ....................... C=1, gamma=0.3, kernel=rbf, total=   0.0s\n",
      "[CV] C=1, gamma=0.3, kernel=rbf ......................................\n",
      "[CV] ....................... C=1, gamma=0.3, kernel=rbf, total=   0.0s\n",
      "[CV] C=1, gamma=0.3, kernel=rbf ......................................\n",
      "[CV] ....................... C=1, gamma=0.3, kernel=rbf, total=   0.0s\n",
      "[CV] C=1, gamma=1.0, kernel=rbf ......................................\n",
      "[CV] ....................... C=1, gamma=1.0, kernel=rbf, total=   0.0s\n",
      "[CV] C=1, gamma=1.0, kernel=rbf ......................................\n",
      "[CV] ....................... C=1, gamma=1.0, kernel=rbf, total=   0.0s\n",
      "[CV] C=1, gamma=1.0, kernel=rbf ......................................\n",
      "[CV] ....................... C=1, gamma=1.0, kernel=rbf, total=   0.0s\n",
      "[CV] C=1, gamma=1.0, kernel=rbf ......................................\n",
      "[CV] ....................... C=1, gamma=1.0, kernel=rbf, total=   0.0s\n",
      "[CV] C=1, gamma=1.0, kernel=rbf ......................................\n",
      "[CV] ....................... C=1, gamma=1.0, kernel=rbf, total=   0.0s\n",
      "[CV] C=1, gamma=3, kernel=rbf ........................................\n",
      "[CV] ......................... C=1, gamma=3, kernel=rbf, total=   0.0s\n",
      "[CV] C=1, gamma=3, kernel=rbf ........................................\n",
      "[CV] ......................... C=1, gamma=3, kernel=rbf, total=   0.0s\n",
      "[CV] C=1, gamma=3, kernel=rbf ........................................\n",
      "[CV] ......................... C=1, gamma=3, kernel=rbf, total=   0.0s\n",
      "[CV] C=1, gamma=3, kernel=rbf ........................................\n",
      "[CV] ......................... C=1, gamma=3, kernel=rbf, total=   0.0s\n",
      "[CV] C=1, gamma=3, kernel=rbf ........................................\n",
      "[CV] ......................... C=1, gamma=3, kernel=rbf, total=   0.0s\n",
      "[CV] C=10, gamma=0.01, kernel=rbf ....................................\n",
      "[CV] ..................... C=10, gamma=0.01, kernel=rbf, total=   0.0s\n",
      "[CV] C=10, gamma=0.01, kernel=rbf ....................................\n",
      "[CV] ..................... C=10, gamma=0.01, kernel=rbf, total=   0.0s\n",
      "[CV] C=10, gamma=0.01, kernel=rbf ....................................\n",
      "[CV] ..................... C=10, gamma=0.01, kernel=rbf, total=   0.0s\n",
      "[CV] C=10, gamma=0.01, kernel=rbf ....................................\n",
      "[CV] ..................... C=10, gamma=0.01, kernel=rbf, total=   0.0s\n",
      "[CV] C=10, gamma=0.01, kernel=rbf ....................................\n",
      "[CV] ..................... C=10, gamma=0.01, kernel=rbf, total=   0.0s\n",
      "[CV] C=10, gamma=0.03, kernel=rbf ....................................\n",
      "[CV] ..................... C=10, gamma=0.03, kernel=rbf, total=   0.0s\n",
      "[CV] C=10, gamma=0.03, kernel=rbf ....................................\n",
      "[CV] ..................... C=10, gamma=0.03, kernel=rbf, total=   0.0s\n",
      "[CV] C=10, gamma=0.03, kernel=rbf ....................................\n",
      "[CV] ..................... C=10, gamma=0.03, kernel=rbf, total=   0.0s\n",
      "[CV] C=10, gamma=0.03, kernel=rbf ....................................\n",
      "[CV] ..................... C=10, gamma=0.03, kernel=rbf, total=   0.0s\n",
      "[CV] C=10, gamma=0.03, kernel=rbf ....................................\n",
      "[CV] ..................... C=10, gamma=0.03, kernel=rbf, total=   0.0s\n",
      "[CV] C=10, gamma=0.1, kernel=rbf .....................................\n",
      "[CV] ...................... C=10, gamma=0.1, kernel=rbf, total=   0.0s\n",
      "[CV] C=10, gamma=0.1, kernel=rbf .....................................\n",
      "[CV] ...................... C=10, gamma=0.1, kernel=rbf, total=   0.0s\n",
      "[CV] C=10, gamma=0.1, kernel=rbf .....................................\n",
      "[CV] ...................... C=10, gamma=0.1, kernel=rbf, total=   0.0s\n",
      "[CV] C=10, gamma=0.1, kernel=rbf .....................................\n",
      "[CV] ...................... C=10, gamma=0.1, kernel=rbf, total=   0.0s\n",
      "[CV] C=10, gamma=0.1, kernel=rbf .....................................\n",
      "[CV] ...................... C=10, gamma=0.1, kernel=rbf, total=   0.0s\n",
      "[CV] C=10, gamma=0.3, kernel=rbf .....................................\n",
      "[CV] ...................... C=10, gamma=0.3, kernel=rbf, total=   0.0s\n",
      "[CV] C=10, gamma=0.3, kernel=rbf .....................................\n",
      "[CV] ...................... C=10, gamma=0.3, kernel=rbf, total=   0.0s\n",
      "[CV] C=10, gamma=0.3, kernel=rbf .....................................\n",
      "[CV] ...................... C=10, gamma=0.3, kernel=rbf, total=   0.0s\n",
      "[CV] C=10, gamma=0.3, kernel=rbf .....................................\n",
      "[CV] ...................... C=10, gamma=0.3, kernel=rbf, total=   0.0s\n",
      "[CV] C=10, gamma=0.3, kernel=rbf .....................................\n",
      "[CV] ...................... C=10, gamma=0.3, kernel=rbf, total=   0.0s\n",
      "[CV] C=10, gamma=1.0, kernel=rbf .....................................\n",
      "[CV] ...................... C=10, gamma=1.0, kernel=rbf, total=   0.0s\n",
      "[CV] C=10, gamma=1.0, kernel=rbf .....................................\n",
      "[CV] ...................... C=10, gamma=1.0, kernel=rbf, total=   0.0s\n",
      "[CV] C=10, gamma=1.0, kernel=rbf .....................................\n",
      "[CV] ...................... C=10, gamma=1.0, kernel=rbf, total=   0.0s\n",
      "[CV] C=10, gamma=1.0, kernel=rbf .....................................\n",
      "[CV] ...................... C=10, gamma=1.0, kernel=rbf, total=   0.0s\n",
      "[CV] C=10, gamma=1.0, kernel=rbf .....................................\n",
      "[CV] ...................... C=10, gamma=1.0, kernel=rbf, total=   0.0s\n",
      "[CV] C=10, gamma=3, kernel=rbf .......................................\n",
      "[CV] ........................ C=10, gamma=3, kernel=rbf, total=   0.0s\n",
      "[CV] C=10, gamma=3, kernel=rbf .......................................\n",
      "[CV] ........................ C=10, gamma=3, kernel=rbf, total=   0.0s\n",
      "[CV] C=10, gamma=3, kernel=rbf .......................................\n",
      "[CV] ........................ C=10, gamma=3, kernel=rbf, total=   0.0s\n",
      "[CV] C=10, gamma=3, kernel=rbf .......................................\n",
      "[CV] ........................ C=10, gamma=3, kernel=rbf, total=   0.0s\n",
      "[CV] C=10, gamma=3, kernel=rbf .......................................\n",
      "[CV] ........................ C=10, gamma=3, kernel=rbf, total=   0.0s\n",
      "[CV] C=100, gamma=0.01, kernel=rbf ...................................\n",
      "[CV] .................... C=100, gamma=0.01, kernel=rbf, total=   0.0s\n",
      "[CV] C=100, gamma=0.01, kernel=rbf ...................................\n"
     ]
    },
    {
     "name": "stdout",
     "output_type": "stream",
     "text": [
      "[CV] .................... C=100, gamma=0.01, kernel=rbf, total=   0.0s\n",
      "[CV] C=100, gamma=0.01, kernel=rbf ...................................\n",
      "[CV] .................... C=100, gamma=0.01, kernel=rbf, total=   0.0s\n",
      "[CV] C=100, gamma=0.01, kernel=rbf ...................................\n",
      "[CV] .................... C=100, gamma=0.01, kernel=rbf, total=   0.0s\n",
      "[CV] C=100, gamma=0.01, kernel=rbf ...................................\n",
      "[CV] .................... C=100, gamma=0.01, kernel=rbf, total=   0.0s\n",
      "[CV] C=100, gamma=0.03, kernel=rbf ...................................\n",
      "[CV] .................... C=100, gamma=0.03, kernel=rbf, total=   0.0s\n",
      "[CV] C=100, gamma=0.03, kernel=rbf ...................................\n",
      "[CV] .................... C=100, gamma=0.03, kernel=rbf, total=   0.0s\n",
      "[CV] C=100, gamma=0.03, kernel=rbf ...................................\n",
      "[CV] .................... C=100, gamma=0.03, kernel=rbf, total=   0.0s\n",
      "[CV] C=100, gamma=0.03, kernel=rbf ...................................\n",
      "[CV] .................... C=100, gamma=0.03, kernel=rbf, total=   0.0s\n",
      "[CV] C=100, gamma=0.03, kernel=rbf ...................................\n",
      "[CV] .................... C=100, gamma=0.03, kernel=rbf, total=   0.0s\n",
      "[CV] C=100, gamma=0.1, kernel=rbf ....................................\n",
      "[CV] ..................... C=100, gamma=0.1, kernel=rbf, total=   0.0s\n",
      "[CV] C=100, gamma=0.1, kernel=rbf ....................................\n",
      "[CV] ..................... C=100, gamma=0.1, kernel=rbf, total=   0.0s\n",
      "[CV] C=100, gamma=0.1, kernel=rbf ....................................\n",
      "[CV] ..................... C=100, gamma=0.1, kernel=rbf, total=   0.0s\n",
      "[CV] C=100, gamma=0.1, kernel=rbf ....................................\n",
      "[CV] ..................... C=100, gamma=0.1, kernel=rbf, total=   0.0s\n",
      "[CV] C=100, gamma=0.1, kernel=rbf ....................................\n",
      "[CV] ..................... C=100, gamma=0.1, kernel=rbf, total=   0.0s\n",
      "[CV] C=100, gamma=0.3, kernel=rbf ....................................\n",
      "[CV] ..................... C=100, gamma=0.3, kernel=rbf, total=   0.0s\n",
      "[CV] C=100, gamma=0.3, kernel=rbf ....................................\n",
      "[CV] ..................... C=100, gamma=0.3, kernel=rbf, total=   0.0s\n",
      "[CV] C=100, gamma=0.3, kernel=rbf ....................................\n",
      "[CV] ..................... C=100, gamma=0.3, kernel=rbf, total=   0.0s\n",
      "[CV] C=100, gamma=0.3, kernel=rbf ....................................\n",
      "[CV] ..................... C=100, gamma=0.3, kernel=rbf, total=   0.0s\n",
      "[CV] C=100, gamma=0.3, kernel=rbf ....................................\n",
      "[CV] ..................... C=100, gamma=0.3, kernel=rbf, total=   0.0s\n",
      "[CV] C=100, gamma=1.0, kernel=rbf ....................................\n",
      "[CV] ..................... C=100, gamma=1.0, kernel=rbf, total=   0.0s\n",
      "[CV] C=100, gamma=1.0, kernel=rbf ....................................\n",
      "[CV] ..................... C=100, gamma=1.0, kernel=rbf, total=   0.0s\n",
      "[CV] C=100, gamma=1.0, kernel=rbf ....................................\n",
      "[CV] ..................... C=100, gamma=1.0, kernel=rbf, total=   0.0s\n",
      "[CV] C=100, gamma=1.0, kernel=rbf ....................................\n",
      "[CV] ..................... C=100, gamma=1.0, kernel=rbf, total=   0.0s\n",
      "[CV] C=100, gamma=1.0, kernel=rbf ....................................\n",
      "[CV] ..................... C=100, gamma=1.0, kernel=rbf, total=   0.0s\n",
      "[CV] C=100, gamma=3, kernel=rbf ......................................\n",
      "[CV] ....................... C=100, gamma=3, kernel=rbf, total=   0.0s\n",
      "[CV] C=100, gamma=3, kernel=rbf ......................................\n",
      "[CV] ....................... C=100, gamma=3, kernel=rbf, total=   0.0s\n",
      "[CV] C=100, gamma=3, kernel=rbf ......................................\n",
      "[CV] ....................... C=100, gamma=3, kernel=rbf, total=   0.0s\n",
      "[CV] C=100, gamma=3, kernel=rbf ......................................\n",
      "[CV] ....................... C=100, gamma=3, kernel=rbf, total=   0.0s\n",
      "[CV] C=100, gamma=3, kernel=rbf ......................................\n",
      "[CV] ....................... C=100, gamma=3, kernel=rbf, total=   0.1s\n",
      "[CV] C=10, kernel=linear .............................................\n",
      "[CV] .............................. C=10, kernel=linear, total=   0.0s\n",
      "[CV] C=10, kernel=linear .............................................\n",
      "[CV] .............................. C=10, kernel=linear, total=   0.0s\n",
      "[CV] C=10, kernel=linear .............................................\n",
      "[CV] .............................. C=10, kernel=linear, total=   0.0s\n",
      "[CV] C=10, kernel=linear .............................................\n",
      "[CV] .............................. C=10, kernel=linear, total=   0.0s\n",
      "[CV] C=10, kernel=linear .............................................\n",
      "[CV] .............................. C=10, kernel=linear, total=   0.0s\n",
      "[CV] C=30, kernel=linear .............................................\n",
      "[CV] .............................. C=30, kernel=linear, total=   0.0s\n",
      "[CV] C=30, kernel=linear .............................................\n",
      "[CV] .............................. C=30, kernel=linear, total=   0.0s\n",
      "[CV] C=30, kernel=linear .............................................\n",
      "[CV] .............................. C=30, kernel=linear, total=   0.0s\n",
      "[CV] C=30, kernel=linear .............................................\n",
      "[CV] .............................. C=30, kernel=linear, total=   0.1s\n",
      "[CV] C=30, kernel=linear .............................................\n",
      "[CV] .............................. C=30, kernel=linear, total=   0.1s\n",
      "[CV] C=60, kernel=linear .............................................\n",
      "[CV] .............................. C=60, kernel=linear, total=   0.0s\n",
      "[CV] C=60, kernel=linear .............................................\n",
      "[CV] .............................. C=60, kernel=linear, total=   0.0s\n",
      "[CV] C=60, kernel=linear .............................................\n",
      "[CV] .............................. C=60, kernel=linear, total=   0.0s\n",
      "[CV] C=60, kernel=linear .............................................\n",
      "[CV] .............................. C=60, kernel=linear, total=   0.1s\n",
      "[CV] C=60, kernel=linear .............................................\n",
      "[CV] .............................. C=60, kernel=linear, total=   0.1s\n",
      "[CV] C=100, kernel=linear ............................................\n",
      "[CV] ............................. C=100, kernel=linear, total=   0.1s\n",
      "[CV] C=100, kernel=linear ............................................\n",
      "[CV] ............................. C=100, kernel=linear, total=   0.1s\n",
      "[CV] C=100, kernel=linear ............................................\n",
      "[CV] ............................. C=100, kernel=linear, total=   0.1s\n",
      "[CV] C=100, kernel=linear ............................................\n",
      "[CV] ............................. C=100, kernel=linear, total=   0.2s\n",
      "[CV] C=100, kernel=linear ............................................\n",
      "[CV] ............................. C=100, kernel=linear, total=   0.2s\n"
     ]
    },
    {
     "name": "stderr",
     "output_type": "stream",
     "text": [
      "[Parallel(n_jobs=1)]: Done 140 out of 140 | elapsed:    2.6s finished\n"
     ]
    },
    {
     "data": {
      "text/plain": [
       "GridSearchCV(cv=5, estimator=SVC(),\n",
       "             param_grid=[{'C': [0.1, 1, 10, 100],\n",
       "                          'gamma': [0.01, 0.03, 0.1, 0.3, 1.0, 3],\n",
       "                          'kernel': ['rbf']},\n",
       "                         {'C': [10, 30, 60, 100], 'kernel': ['linear']}],\n",
       "             scoring='f1', verbose=2)"
      ]
     },
     "execution_count": 48,
     "metadata": {},
     "output_type": "execute_result"
    }
   ],
   "source": [
    "# GridSearchCV 를 통해 파라미터 튜닝을 진행\n",
    "tuned_parameters_2 = [\n",
    "    {\"kernel\": [\"rbf\"], \"C\": [0.1,1,10, 100],'gamma' : [0.01,0.03,0.1,0.3,1.0,3]},\n",
    "    {\"kernel\": [\"linear\"], \"C\": [10,30,60, 100]},\n",
    "]\n",
    "\n",
    "svr_reg_tuned_2 = GridSearchCV(SVC(),tuned_parameters_2,cv = 5,scoring=\"f1\",verbose=2,refit=True)\n",
    "svr_reg_tuned_2.fit(X_train,y_train)"
   ]
  },
  {
   "cell_type": "code",
   "execution_count": 49,
   "id": "263de6fe",
   "metadata": {},
   "outputs": [
    {
     "data": {
      "text/plain": [
       "(0.7613389883883762, SVC(C=1, gamma=0.1))"
      ]
     },
     "execution_count": 49,
     "metadata": {},
     "output_type": "execute_result"
    }
   ],
   "source": [
    "svr_reg_tuned_2.best_score_ , svr_reg_tuned_2.best_estimator_# gamma 가 가장 작은 0.1 이 나왔기 때문에 이 값을 낮춰서 다시 진행"
   ]
  },
  {
   "cell_type": "code",
   "execution_count": 50,
   "id": "2e264e53",
   "metadata": {},
   "outputs": [
    {
     "name": "stdout",
     "output_type": "stream",
     "text": [
      "recall_score : 0.8269230769230769\n",
      "precision_score : 0.671875\n",
      "f1_score : 0.7413793103448276\n",
      "coufusion_matrix : \n",
      "[[106  21]\n",
      " [  9  43]]\n"
     ]
    }
   ],
   "source": [
    "model_eval(svr_reg_tuned_2.predict(X_val),y_val)"
   ]
  },
  {
   "cell_type": "code",
   "execution_count": 51,
   "id": "0528716d",
   "metadata": {
    "scrolled": true
   },
   "outputs": [
    {
     "name": "stdout",
     "output_type": "stream",
     "text": [
      "Fitting 5 folds for each of 8 candidates, totalling 40 fits\n",
      "[CV] C=0.1, gamma=0.0003, kernel=rbf .................................\n",
      "[CV] .................. C=0.1, gamma=0.0003, kernel=rbf, total=   0.0s\n",
      "[CV] C=0.1, gamma=0.0003, kernel=rbf .................................\n",
      "[CV] .................. C=0.1, gamma=0.0003, kernel=rbf, total=   0.0s\n",
      "[CV] C=0.1, gamma=0.0003, kernel=rbf .................................\n",
      "[CV] .................. C=0.1, gamma=0.0003, kernel=rbf, total=   0.0s\n",
      "[CV] C=0.1, gamma=0.0003, kernel=rbf .................................\n",
      "[CV] .................. C=0.1, gamma=0.0003, kernel=rbf, total=   0.0s\n",
      "[CV] C=0.1, gamma=0.0003, kernel=rbf .................................\n",
      "[CV] .................. C=0.1, gamma=0.0003, kernel=rbf, total=   0.0s\n",
      "[CV] C=0.1, gamma=0.001, kernel=rbf ..................................\n",
      "[CV] ................... C=0.1, gamma=0.001, kernel=rbf, total=   0.0s\n",
      "[CV] C=0.1, gamma=0.001, kernel=rbf ..................................\n",
      "[CV] ................... C=0.1, gamma=0.001, kernel=rbf, total=   0.0s\n",
      "[CV] C=0.1, gamma=0.001, kernel=rbf ..................................\n",
      "[CV] ................... C=0.1, gamma=0.001, kernel=rbf, total=   0.0s\n",
      "[CV] C=0.1, gamma=0.001, kernel=rbf ..................................\n",
      "[CV] ................... C=0.1, gamma=0.001, kernel=rbf, total=   0.0s\n",
      "[CV] C=0.1, gamma=0.001, kernel=rbf ..................................\n",
      "[CV] ................... C=0.1, gamma=0.001, kernel=rbf, total=   0.0s\n",
      "[CV] C=0.1, gamma=0.003, kernel=rbf ..................................\n",
      "[CV] ................... C=0.1, gamma=0.003, kernel=rbf, total=   0.0s\n",
      "[CV] C=0.1, gamma=0.003, kernel=rbf ..................................\n",
      "[CV] ................... C=0.1, gamma=0.003, kernel=rbf, total=   0.0s\n",
      "[CV] C=0.1, gamma=0.003, kernel=rbf ..................................\n",
      "[CV] ................... C=0.1, gamma=0.003, kernel=rbf, total=   0.0s\n",
      "[CV] C=0.1, gamma=0.003, kernel=rbf ..................................\n",
      "[CV] ................... C=0.1, gamma=0.003, kernel=rbf, total=   0.0s\n",
      "[CV] C=0.1, gamma=0.003, kernel=rbf ..................................\n"
     ]
    },
    {
     "name": "stderr",
     "output_type": "stream",
     "text": [
      "[Parallel(n_jobs=1)]: Using backend SequentialBackend with 1 concurrent workers.\n",
      "[Parallel(n_jobs=1)]: Done   1 out of   1 | elapsed:    0.0s remaining:    0.0s\n"
     ]
    },
    {
     "name": "stdout",
     "output_type": "stream",
     "text": [
      "[CV] ................... C=0.1, gamma=0.003, kernel=rbf, total=   0.0s\n",
      "[CV] C=0.1, gamma=0.01, kernel=rbf ...................................\n",
      "[CV] .................... C=0.1, gamma=0.01, kernel=rbf, total=   0.0s\n",
      "[CV] C=0.1, gamma=0.01, kernel=rbf ...................................\n",
      "[CV] .................... C=0.1, gamma=0.01, kernel=rbf, total=   0.0s\n",
      "[CV] C=0.1, gamma=0.01, kernel=rbf ...................................\n",
      "[CV] .................... C=0.1, gamma=0.01, kernel=rbf, total=   0.0s\n",
      "[CV] C=0.1, gamma=0.01, kernel=rbf ...................................\n",
      "[CV] .................... C=0.1, gamma=0.01, kernel=rbf, total=   0.0s\n",
      "[CV] C=0.1, gamma=0.01, kernel=rbf ...................................\n",
      "[CV] .................... C=0.1, gamma=0.01, kernel=rbf, total=   0.0s\n",
      "[CV] C=1, gamma=0.0003, kernel=rbf ...................................\n",
      "[CV] .................... C=1, gamma=0.0003, kernel=rbf, total=   0.0s\n",
      "[CV] C=1, gamma=0.0003, kernel=rbf ...................................\n",
      "[CV] .................... C=1, gamma=0.0003, kernel=rbf, total=   0.0s\n",
      "[CV] C=1, gamma=0.0003, kernel=rbf ...................................\n",
      "[CV] .................... C=1, gamma=0.0003, kernel=rbf, total=   0.0s\n",
      "[CV] C=1, gamma=0.0003, kernel=rbf ...................................\n",
      "[CV] .................... C=1, gamma=0.0003, kernel=rbf, total=   0.0s\n",
      "[CV] C=1, gamma=0.0003, kernel=rbf ...................................\n",
      "[CV] .................... C=1, gamma=0.0003, kernel=rbf, total=   0.0s\n",
      "[CV] C=1, gamma=0.001, kernel=rbf ....................................\n",
      "[CV] ..................... C=1, gamma=0.001, kernel=rbf, total=   0.0s\n",
      "[CV] C=1, gamma=0.001, kernel=rbf ....................................\n",
      "[CV] ..................... C=1, gamma=0.001, kernel=rbf, total=   0.0s\n",
      "[CV] C=1, gamma=0.001, kernel=rbf ....................................\n",
      "[CV] ..................... C=1, gamma=0.001, kernel=rbf, total=   0.0s\n",
      "[CV] C=1, gamma=0.001, kernel=rbf ....................................\n",
      "[CV] ..................... C=1, gamma=0.001, kernel=rbf, total=   0.0s\n",
      "[CV] C=1, gamma=0.001, kernel=rbf ....................................\n",
      "[CV] ..................... C=1, gamma=0.001, kernel=rbf, total=   0.0s\n",
      "[CV] C=1, gamma=0.003, kernel=rbf ....................................\n",
      "[CV] ..................... C=1, gamma=0.003, kernel=rbf, total=   0.0s\n",
      "[CV] C=1, gamma=0.003, kernel=rbf ....................................\n",
      "[CV] ..................... C=1, gamma=0.003, kernel=rbf, total=   0.0s\n",
      "[CV] C=1, gamma=0.003, kernel=rbf ....................................\n",
      "[CV] ..................... C=1, gamma=0.003, kernel=rbf, total=   0.0s\n",
      "[CV] C=1, gamma=0.003, kernel=rbf ....................................\n",
      "[CV] ..................... C=1, gamma=0.003, kernel=rbf, total=   0.0s\n",
      "[CV] C=1, gamma=0.003, kernel=rbf ....................................\n",
      "[CV] ..................... C=1, gamma=0.003, kernel=rbf, total=   0.0s\n",
      "[CV] C=1, gamma=0.01, kernel=rbf .....................................\n",
      "[CV] ...................... C=1, gamma=0.01, kernel=rbf, total=   0.0s\n",
      "[CV] C=1, gamma=0.01, kernel=rbf .....................................\n",
      "[CV] ...................... C=1, gamma=0.01, kernel=rbf, total=   0.0s\n",
      "[CV] C=1, gamma=0.01, kernel=rbf .....................................\n",
      "[CV] ...................... C=1, gamma=0.01, kernel=rbf, total=   0.0s\n",
      "[CV] C=1, gamma=0.01, kernel=rbf .....................................\n",
      "[CV] ...................... C=1, gamma=0.01, kernel=rbf, total=   0.0s\n",
      "[CV] C=1, gamma=0.01, kernel=rbf .....................................\n",
      "[CV] ...................... C=1, gamma=0.01, kernel=rbf, total=   0.0s\n"
     ]
    },
    {
     "name": "stderr",
     "output_type": "stream",
     "text": [
      "[Parallel(n_jobs=1)]: Done  40 out of  40 | elapsed:    0.3s finished\n"
     ]
    },
    {
     "data": {
      "text/plain": [
       "GridSearchCV(cv=5, estimator=SVC(),\n",
       "             param_grid=[{'C': [0.1, 1], 'gamma': [0.0003, 0.001, 0.003, 0.01],\n",
       "                          'kernel': ['rbf']}],\n",
       "             scoring='f1', verbose=2)"
      ]
     },
     "execution_count": 51,
     "metadata": {},
     "output_type": "execute_result"
    }
   ],
   "source": [
    "tuned_parameters_3 = [\n",
    "    {\"kernel\": [\"rbf\"], \"C\": [0.1,1],'gamma' : [0.0003,0.001,0.003,0.01]}\n",
    "]\n",
    "\n",
    "svr_reg_tuned_3 = GridSearchCV(SVC(),tuned_parameters_3,cv = 5,scoring=\"f1\",verbose=2,refit=True)\n",
    "svr_reg_tuned_3.fit(X_train,y_train)"
   ]
  },
  {
   "cell_type": "code",
   "execution_count": 52,
   "id": "2997d097",
   "metadata": {
    "scrolled": true
   },
   "outputs": [
    {
     "data": {
      "text/plain": [
       "(0.7158342705435381, SVC(C=1, gamma=0.01))"
      ]
     },
     "execution_count": 52,
     "metadata": {},
     "output_type": "execute_result"
    }
   ],
   "source": [
    "svr_reg_tuned_3.best_score_ , svr_reg_tuned_3.best_estimator_"
   ]
  },
  {
   "cell_type": "code",
   "execution_count": 53,
   "id": "ecafd66c",
   "metadata": {
    "scrolled": true
   },
   "outputs": [
    {
     "name": "stdout",
     "output_type": "stream",
     "text": [
      "recall_score : 0.7636363636363637\n",
      "precision_score : 0.65625\n",
      "f1_score : 0.7058823529411765\n",
      "coufusion_matrix : \n",
      "[[102  22]\n",
      " [ 13  42]]\n"
     ]
    }
   ],
   "source": [
    "model_eval(svr_reg_tuned_3.predict(X_val),y_val) # 오히려 성능이 떨어져서 사용 X"
   ]
  },
  {
   "cell_type": "markdown",
   "id": "56af8f16",
   "metadata": {},
   "source": [
    "# 결과 제출"
   ]
  },
  {
   "cell_type": "markdown",
   "id": "72c071b9",
   "metadata": {},
   "source": [
    "최종적으로 성능이 가장 잘나온 SVC(kernel='rbf',C=1,gamma=0.1) 모델을 사용"
   ]
  },
  {
   "cell_type": "code",
   "execution_count": 54,
   "id": "ffce7e77",
   "metadata": {},
   "outputs": [
    {
     "data": {
      "text/plain": [
       "array([0, 1, 0, 0, 1, 0, 1, 0, 1, 0, 0, 0, 1, 0, 1, 1, 0, 0, 1, 1, 0, 1,\n",
       "       1, 0, 1, 0, 1, 0, 0, 0, 0, 0, 0, 0, 0, 0, 1, 1, 0, 0, 0, 0, 0, 1,\n",
       "       1, 0, 0, 0, 1, 1, 0, 0, 1, 1, 0, 0, 0, 0, 0, 1, 0, 0, 0, 1, 1, 1,\n",
       "       1, 0, 0, 0, 1, 0, 1, 0, 1, 0, 0, 1, 0, 1, 1, 0, 0, 0, 0, 0, 1, 1,\n",
       "       1, 1, 1, 0, 1, 0, 0, 0, 1, 0, 1, 0, 1, 0, 0, 0, 1, 0, 0, 0, 0, 0,\n",
       "       0, 1, 1, 1, 1, 0, 0, 1, 0, 1, 1, 0, 1, 0, 0, 1, 0, 1, 0, 0, 0, 0,\n",
       "       0, 0, 0, 0, 0, 0, 1, 0, 0, 1, 0, 0, 0, 0, 0, 0, 0, 0, 1, 0, 0, 1,\n",
       "       0, 0, 1, 1, 0, 1, 1, 1, 1, 0, 0, 1, 0, 0, 1, 1, 0, 0, 0, 0, 0, 1,\n",
       "       1, 0, 1, 1, 0, 0, 1, 0, 1, 0, 1, 0, 0, 0, 0, 0, 0, 0, 1, 0, 1, 1,\n",
       "       0, 1, 1, 1, 0, 1, 0, 0, 1, 0, 1, 0, 0, 0, 0, 1, 0, 0, 1, 0, 1, 0,\n",
       "       1, 0, 1, 0, 1, 1, 0, 1, 0, 0, 0, 1, 0, 0, 0, 0, 0, 0, 1, 1, 1, 1,\n",
       "       0, 0, 0, 0, 1, 0, 1, 1, 1, 0, 0, 0, 0, 0, 0, 0, 1, 0, 0, 0, 1, 1,\n",
       "       0, 0, 0, 0, 1, 0, 0, 0, 1, 1, 0, 1, 0, 0, 0, 0, 1, 1, 1, 1, 1, 0,\n",
       "       0, 0, 0, 0, 0, 1, 0, 0, 0, 0, 1, 0, 0, 0, 0, 0, 0, 0, 1, 1, 0, 1,\n",
       "       0, 1, 0, 0, 0, 1, 1, 1, 0, 0, 0, 0, 0, 0, 0, 0, 1, 0, 1, 0, 0, 0,\n",
       "       1, 0, 0, 1, 0, 0, 0, 0, 0, 0, 0, 0, 0, 1, 0, 1, 0, 1, 0, 1, 1, 0,\n",
       "       0, 0, 1, 0, 1, 0, 0, 1, 0, 1, 1, 0, 1, 0, 0, 1, 1, 0, 0, 1, 0, 0,\n",
       "       1, 1, 0, 0, 0, 0, 0, 0, 1, 1, 0, 1, 0, 0, 0, 0, 0, 1, 1, 0, 0, 1,\n",
       "       0, 1, 0, 0, 1, 0, 1, 0, 0, 0, 0, 0, 1, 1, 1, 1, 1, 0, 1, 0, 0, 0],\n",
       "      dtype=int64)"
      ]
     },
     "execution_count": 54,
     "metadata": {},
     "output_type": "execute_result"
    }
   ],
   "source": [
    "svr_reg_tuned_2.predict(test_prepared) "
   ]
  },
  {
   "cell_type": "code",
   "execution_count": 55,
   "id": "5276ae74",
   "metadata": {},
   "outputs": [],
   "source": [
    "submission = pd.read_csv('./Data/titanic/submission(3).csv')"
   ]
  },
  {
   "cell_type": "code",
   "execution_count": 56,
   "id": "6af41430",
   "metadata": {},
   "outputs": [],
   "source": [
    "submission['Survived'] = svr_reg_tuned_2.predict(test_prepared)"
   ]
  },
  {
   "cell_type": "code",
   "execution_count": 57,
   "id": "f4e5ef9e",
   "metadata": {},
   "outputs": [],
   "source": [
    "submission.to_csv('./Data/titanic/submission_17011733_윤지환.csv',index = False)"
   ]
  },
  {
   "cell_type": "code",
   "execution_count": null,
   "id": "2126606f",
   "metadata": {},
   "outputs": [],
   "source": []
  }
 ],
 "metadata": {
  "kernelspec": {
   "display_name": "Python 3",
   "language": "python",
   "name": "python3"
  },
  "language_info": {
   "codemirror_mode": {
    "name": "ipython",
    "version": 3
   },
   "file_extension": ".py",
   "mimetype": "text/x-python",
   "name": "python",
   "nbconvert_exporter": "python",
   "pygments_lexer": "ipython3",
   "version": "3.8.8"
  },
  "toc": {
   "base_numbering": 1,
   "nav_menu": {},
   "number_sections": true,
   "sideBar": true,
   "skip_h1_title": false,
   "title_cell": "Table of Contents",
   "title_sidebar": "Contents",
   "toc_cell": false,
   "toc_position": {},
   "toc_section_display": true,
   "toc_window_display": false
  }
 },
 "nbformat": 4,
 "nbformat_minor": 5
}
