{
 "cells": [
  {
   "cell_type": "code",
   "execution_count": 8,
   "metadata": {
    "pycharm": {
     "name": "#%%\n"
    }
   },
   "outputs": [],
   "source": [
    "import pandas as pd\n",
    "import numpy as np\n",
    "import seaborn as sns\n",
    "import matplotlib.pyplot as plt\n",
    "import matplotlib.font_manager as fm"
   ]
  },
  {
   "cell_type": "code",
   "execution_count": 9,
   "metadata": {
    "pycharm": {
     "name": "#%%\n"
    }
   },
   "outputs": [],
   "source": [
    "plt.rc('font', family='NanumBarunGothic')  # 폰트 설정\n",
    "font_location = 'C:/Windows/Fonts/MALGUNSL.TTF' # for windows\n",
    "font_name = fm.FontProperties(fname=font_location).get_name()\n",
    "plt.rc('font', family=font_name)"
   ]
  },
  {
   "cell_type": "code",
   "execution_count": 10,
   "metadata": {
    "pycharm": {
     "name": "#%%\n"
    }
   },
   "outputs": [],
   "source": [
    "%matplotlib inline\n",
    "# 그래프 설정\n",
    "import matplotlib as mpl\n",
    "mpl.rc('axes',labelsize = 16)\n",
    "mpl.rc('xtick',labelsize = 12)\n",
    "mpl.rc('ytick',labelsize = 12)"
   ]
  },
  {
   "cell_type": "markdown",
   "metadata": {},
   "source": [
    "# 데이터 불러오기"
   ]
  },
  {
   "cell_type": "code",
   "execution_count": 11,
   "metadata": {
    "pycharm": {
     "name": "#%%\n"
    }
   },
   "outputs": [],
   "source": [
    "df = pd.read_csv('C:/Users/yoon9/PycharmProjects/Sejong_Project/AI Class/Data/Movie Data/train(2).csv') #파일 불러오기\n",
    "df2 = pd.read_csv('C:/Users/yoon9/PycharmProjects/Sejong_Project/AI Class/Data/Movie Data/test(2).csv')"
   ]
  },
  {
   "cell_type": "code",
   "execution_count": 12,
   "metadata": {
    "pycharm": {
     "name": "#%%\n"
    }
   },
   "outputs": [],
   "source": [
    "df = pd.concat([df,df2],axis=0) # 데이터 전처리 전 test 셋 합치기"
   ]
  },
  {
   "cell_type": "code",
   "execution_count": 13,
   "metadata": {
    "pycharm": {
     "name": "#%%\n"
    }
   },
   "outputs": [
    {
     "data": {
      "text/html": [
       "<div>\n",
       "<style scoped>\n",
       "    .dataframe tbody tr th:only-of-type {\n",
       "        vertical-align: middle;\n",
       "    }\n",
       "\n",
       "    .dataframe tbody tr th {\n",
       "        vertical-align: top;\n",
       "    }\n",
       "\n",
       "    .dataframe thead th {\n",
       "        text-align: right;\n",
       "    }\n",
       "</style>\n",
       "<table border=\"1\" class=\"dataframe\">\n",
       "  <thead>\n",
       "    <tr style=\"text-align: right;\">\n",
       "      <th></th>\n",
       "      <th>title</th>\n",
       "      <th>distributor</th>\n",
       "      <th>genre</th>\n",
       "      <th>release_time</th>\n",
       "      <th>time</th>\n",
       "      <th>screening_rat</th>\n",
       "      <th>director</th>\n",
       "      <th>dir_prev_bfnum</th>\n",
       "      <th>dir_prev_num</th>\n",
       "      <th>num_staff</th>\n",
       "      <th>num_actor</th>\n",
       "      <th>box_off_num</th>\n",
       "    </tr>\n",
       "  </thead>\n",
       "  <tbody>\n",
       "    <tr>\n",
       "      <th>0</th>\n",
       "      <td>개들의 전쟁</td>\n",
       "      <td>롯데엔터테인먼트</td>\n",
       "      <td>액션</td>\n",
       "      <td>2012-11-22</td>\n",
       "      <td>96</td>\n",
       "      <td>청소년 관람불가</td>\n",
       "      <td>조병옥</td>\n",
       "      <td>NaN</td>\n",
       "      <td>0</td>\n",
       "      <td>91</td>\n",
       "      <td>2</td>\n",
       "      <td>23398.0</td>\n",
       "    </tr>\n",
       "    <tr>\n",
       "      <th>1</th>\n",
       "      <td>내부자들</td>\n",
       "      <td>(주)쇼박스</td>\n",
       "      <td>느와르</td>\n",
       "      <td>2015-11-19</td>\n",
       "      <td>130</td>\n",
       "      <td>청소년 관람불가</td>\n",
       "      <td>우민호</td>\n",
       "      <td>1161602.50</td>\n",
       "      <td>2</td>\n",
       "      <td>387</td>\n",
       "      <td>3</td>\n",
       "      <td>7072501.0</td>\n",
       "    </tr>\n",
       "    <tr>\n",
       "      <th>2</th>\n",
       "      <td>은밀하게 위대하게</td>\n",
       "      <td>(주)쇼박스</td>\n",
       "      <td>액션</td>\n",
       "      <td>2013-06-05</td>\n",
       "      <td>123</td>\n",
       "      <td>15세 관람가</td>\n",
       "      <td>장철수</td>\n",
       "      <td>220775.25</td>\n",
       "      <td>4</td>\n",
       "      <td>343</td>\n",
       "      <td>4</td>\n",
       "      <td>6959083.0</td>\n",
       "    </tr>\n",
       "    <tr>\n",
       "      <th>3</th>\n",
       "      <td>나는 공무원이다</td>\n",
       "      <td>(주)NEW</td>\n",
       "      <td>코미디</td>\n",
       "      <td>2012-07-12</td>\n",
       "      <td>101</td>\n",
       "      <td>전체 관람가</td>\n",
       "      <td>구자홍</td>\n",
       "      <td>23894.00</td>\n",
       "      <td>2</td>\n",
       "      <td>20</td>\n",
       "      <td>6</td>\n",
       "      <td>217866.0</td>\n",
       "    </tr>\n",
       "    <tr>\n",
       "      <th>4</th>\n",
       "      <td>불량남녀</td>\n",
       "      <td>쇼박스(주)미디어플렉스</td>\n",
       "      <td>코미디</td>\n",
       "      <td>2010-11-04</td>\n",
       "      <td>108</td>\n",
       "      <td>15세 관람가</td>\n",
       "      <td>신근호</td>\n",
       "      <td>1.00</td>\n",
       "      <td>1</td>\n",
       "      <td>251</td>\n",
       "      <td>2</td>\n",
       "      <td>483387.0</td>\n",
       "    </tr>\n",
       "    <tr>\n",
       "      <th>...</th>\n",
       "      <td>...</td>\n",
       "      <td>...</td>\n",
       "      <td>...</td>\n",
       "      <td>...</td>\n",
       "      <td>...</td>\n",
       "      <td>...</td>\n",
       "      <td>...</td>\n",
       "      <td>...</td>\n",
       "      <td>...</td>\n",
       "      <td>...</td>\n",
       "      <td>...</td>\n",
       "      <td>...</td>\n",
       "    </tr>\n",
       "    <tr>\n",
       "      <th>238</th>\n",
       "      <td>해에게서 소년에게</td>\n",
       "      <td>디씨드</td>\n",
       "      <td>드라마</td>\n",
       "      <td>2015-11-19</td>\n",
       "      <td>78</td>\n",
       "      <td>15세 관람가</td>\n",
       "      <td>안슬기</td>\n",
       "      <td>2590.00</td>\n",
       "      <td>1</td>\n",
       "      <td>4</td>\n",
       "      <td>4</td>\n",
       "      <td>NaN</td>\n",
       "    </tr>\n",
       "    <tr>\n",
       "      <th>239</th>\n",
       "      <td>울보 권투부</td>\n",
       "      <td>인디스토리</td>\n",
       "      <td>다큐멘터리</td>\n",
       "      <td>2015-10-29</td>\n",
       "      <td>86</td>\n",
       "      <td>12세 관람가</td>\n",
       "      <td>이일하</td>\n",
       "      <td>NaN</td>\n",
       "      <td>0</td>\n",
       "      <td>18</td>\n",
       "      <td>2</td>\n",
       "      <td>NaN</td>\n",
       "    </tr>\n",
       "    <tr>\n",
       "      <th>240</th>\n",
       "      <td>어떤살인</td>\n",
       "      <td>(주)컨텐츠온미디어</td>\n",
       "      <td>느와르</td>\n",
       "      <td>2015-10-28</td>\n",
       "      <td>107</td>\n",
       "      <td>청소년 관람불가</td>\n",
       "      <td>안용훈</td>\n",
       "      <td>NaN</td>\n",
       "      <td>0</td>\n",
       "      <td>224</td>\n",
       "      <td>4</td>\n",
       "      <td>NaN</td>\n",
       "    </tr>\n",
       "    <tr>\n",
       "      <th>241</th>\n",
       "      <td>말하지 못한 비밀</td>\n",
       "      <td>(주)씨타마운틴픽쳐스</td>\n",
       "      <td>드라마</td>\n",
       "      <td>2015-10-22</td>\n",
       "      <td>102</td>\n",
       "      <td>청소년 관람불가</td>\n",
       "      <td>송동윤</td>\n",
       "      <td>50699.00</td>\n",
       "      <td>1</td>\n",
       "      <td>68</td>\n",
       "      <td>7</td>\n",
       "      <td>NaN</td>\n",
       "    </tr>\n",
       "    <tr>\n",
       "      <th>242</th>\n",
       "      <td>조선안방 스캔들-칠거지악 2</td>\n",
       "      <td>(주) 케이알씨지</td>\n",
       "      <td>멜로/로맨스</td>\n",
       "      <td>2015-10-22</td>\n",
       "      <td>76</td>\n",
       "      <td>청소년 관람불가</td>\n",
       "      <td>이전</td>\n",
       "      <td>NaN</td>\n",
       "      <td>0</td>\n",
       "      <td>10</td>\n",
       "      <td>4</td>\n",
       "      <td>NaN</td>\n",
       "    </tr>\n",
       "  </tbody>\n",
       "</table>\n",
       "<p>843 rows × 12 columns</p>\n",
       "</div>"
      ],
      "text/plain": [
       "               title   distributor   genre release_time  time screening_rat  \\\n",
       "0             개들의 전쟁      롯데엔터테인먼트      액션   2012-11-22    96      청소년 관람불가   \n",
       "1               내부자들        (주)쇼박스     느와르   2015-11-19   130      청소년 관람불가   \n",
       "2          은밀하게 위대하게        (주)쇼박스      액션   2013-06-05   123       15세 관람가   \n",
       "3           나는 공무원이다        (주)NEW     코미디   2012-07-12   101        전체 관람가   \n",
       "4               불량남녀  쇼박스(주)미디어플렉스     코미디   2010-11-04   108       15세 관람가   \n",
       "..               ...           ...     ...          ...   ...           ...   \n",
       "238        해에게서 소년에게           디씨드     드라마   2015-11-19    78       15세 관람가   \n",
       "239           울보 권투부         인디스토리   다큐멘터리   2015-10-29    86       12세 관람가   \n",
       "240             어떤살인    (주)컨텐츠온미디어     느와르   2015-10-28   107      청소년 관람불가   \n",
       "241        말하지 못한 비밀   (주)씨타마운틴픽쳐스     드라마   2015-10-22   102      청소년 관람불가   \n",
       "242  조선안방 스캔들-칠거지악 2     (주) 케이알씨지  멜로/로맨스   2015-10-22    76      청소년 관람불가   \n",
       "\n",
       "    director  dir_prev_bfnum  dir_prev_num  num_staff  num_actor  box_off_num  \n",
       "0        조병옥             NaN             0         91          2      23398.0  \n",
       "1        우민호      1161602.50             2        387          3    7072501.0  \n",
       "2        장철수       220775.25             4        343          4    6959083.0  \n",
       "3        구자홍        23894.00             2         20          6     217866.0  \n",
       "4        신근호            1.00             1        251          2     483387.0  \n",
       "..       ...             ...           ...        ...        ...          ...  \n",
       "238      안슬기         2590.00             1          4          4          NaN  \n",
       "239      이일하             NaN             0         18          2          NaN  \n",
       "240      안용훈             NaN             0        224          4          NaN  \n",
       "241      송동윤        50699.00             1         68          7          NaN  \n",
       "242       이전             NaN             0         10          4          NaN  \n",
       "\n",
       "[843 rows x 12 columns]"
      ]
     },
     "execution_count": 13,
     "metadata": {},
     "output_type": "execute_result"
    }
   ],
   "source": [
    "df # 데이터 프레임 5줄만 확인"
   ]
  },
  {
   "cell_type": "code",
   "execution_count": 14,
   "metadata": {
    "pycharm": {
     "name": "#%%\n"
    }
   },
   "outputs": [
    {
     "name": "stdout",
     "output_type": "stream",
     "text": [
      "<class 'pandas.core.frame.DataFrame'>\n",
      "Int64Index: 843 entries, 0 to 242\n",
      "Data columns (total 12 columns):\n",
      " #   Column          Non-Null Count  Dtype  \n",
      "---  ------          --------------  -----  \n",
      " 0   title           843 non-null    object \n",
      " 1   distributor     843 non-null    object \n",
      " 2   genre           843 non-null    object \n",
      " 3   release_time    843 non-null    object \n",
      " 4   time            843 non-null    int64  \n",
      " 5   screening_rat   843 non-null    object \n",
      " 6   director        843 non-null    object \n",
      " 7   dir_prev_bfnum  377 non-null    float64\n",
      " 8   dir_prev_num    843 non-null    int64  \n",
      " 9   num_staff       843 non-null    int64  \n",
      " 10  num_actor       843 non-null    int64  \n",
      " 11  box_off_num     600 non-null    float64\n",
      "dtypes: float64(2), int64(4), object(6)\n",
      "memory usage: 85.6+ KB\n"
     ]
    }
   ],
   "source": [
    "df.info() # 데이터 프레임 type 과 Row 개수 확인"
   ]
  },
  {
   "cell_type": "markdown",
   "metadata": {
    "pycharm": {
     "name": "#%% md\n"
    }
   },
   "source": [
    "title : 영화의 제목\n",
    "distributor : 배급사\n",
    "genre : 장르\n",
    "release_time : 개봉일\n",
    "time : 상영시간\n",
    "screening_rat : 상영 등급\n",
    "director : 감독이름\n",
    "dir_prev_bfnum : 감독의 이전 작품의 관객 수 평균\n",
    "dir_prev_num : 감독이 만든 이전 작품의 개수\n",
    "num_staff : 스텝 수\n",
    "num_actor : 주연배우 수"
   ]
  },
  {
   "cell_type": "markdown",
   "metadata": {
    "pycharm": {
     "name": "#%% md\n"
    }
   },
   "source": [
    "## 결측치 처리"
   ]
  },
  {
   "cell_type": "code",
   "execution_count": 15,
   "metadata": {
    "pycharm": {
     "name": "#%%\n"
    }
   },
   "outputs": [
    {
     "data": {
      "text/plain": [
       "title               0\n",
       "distributor         0\n",
       "genre               0\n",
       "release_time        0\n",
       "time                0\n",
       "screening_rat       0\n",
       "director            0\n",
       "dir_prev_bfnum    466\n",
       "dir_prev_num        0\n",
       "num_staff           0\n",
       "num_actor           0\n",
       "box_off_num       243\n",
       "dtype: int64"
      ]
     },
     "execution_count": 15,
     "metadata": {},
     "output_type": "execute_result"
    }
   ],
   "source": [
    "df.isnull().sum() # 데이터 프레임 결측치 개수 확인\n",
    "\n",
    "# 결과 : dir_prev_num 에서 600개 중 50 % 이상에 결측치 확인"
   ]
  },
  {
   "cell_type": "code",
   "execution_count": 16,
   "metadata": {
    "pycharm": {
     "name": "#%%\n"
    }
   },
   "outputs": [
    {
     "data": {
      "text/html": [
       "<div>\n",
       "<style scoped>\n",
       "    .dataframe tbody tr th:only-of-type {\n",
       "        vertical-align: middle;\n",
       "    }\n",
       "\n",
       "    .dataframe tbody tr th {\n",
       "        vertical-align: top;\n",
       "    }\n",
       "\n",
       "    .dataframe thead th {\n",
       "        text-align: right;\n",
       "    }\n",
       "</style>\n",
       "<table border=\"1\" class=\"dataframe\">\n",
       "  <thead>\n",
       "    <tr style=\"text-align: right;\">\n",
       "      <th></th>\n",
       "      <th>title</th>\n",
       "      <th>distributor</th>\n",
       "      <th>genre</th>\n",
       "      <th>release_time</th>\n",
       "      <th>time</th>\n",
       "      <th>screening_rat</th>\n",
       "      <th>director</th>\n",
       "      <th>dir_prev_bfnum</th>\n",
       "      <th>dir_prev_num</th>\n",
       "      <th>num_staff</th>\n",
       "      <th>num_actor</th>\n",
       "      <th>box_off_num</th>\n",
       "    </tr>\n",
       "  </thead>\n",
       "  <tbody>\n",
       "    <tr>\n",
       "      <th>0</th>\n",
       "      <td>개들의 전쟁</td>\n",
       "      <td>롯데엔터테인먼트</td>\n",
       "      <td>액션</td>\n",
       "      <td>2012-11-22</td>\n",
       "      <td>96</td>\n",
       "      <td>청소년 관람불가</td>\n",
       "      <td>조병옥</td>\n",
       "      <td>NaN</td>\n",
       "      <td>0</td>\n",
       "      <td>91</td>\n",
       "      <td>2</td>\n",
       "      <td>23398.0</td>\n",
       "    </tr>\n",
       "    <tr>\n",
       "      <th>6</th>\n",
       "      <td>길위에서</td>\n",
       "      <td>백두대간</td>\n",
       "      <td>다큐멘터리</td>\n",
       "      <td>2013-05-23</td>\n",
       "      <td>104</td>\n",
       "      <td>전체 관람가</td>\n",
       "      <td>이창재</td>\n",
       "      <td>NaN</td>\n",
       "      <td>0</td>\n",
       "      <td>32</td>\n",
       "      <td>5</td>\n",
       "      <td>53526.0</td>\n",
       "    </tr>\n",
       "    <tr>\n",
       "      <th>8</th>\n",
       "      <td>1789, 바스티유의 연인들</td>\n",
       "      <td>유니버설픽쳐스인터내셔널코리아</td>\n",
       "      <td>뮤지컬</td>\n",
       "      <td>2014-09-18</td>\n",
       "      <td>129</td>\n",
       "      <td>전체 관람가</td>\n",
       "      <td>정성복</td>\n",
       "      <td>NaN</td>\n",
       "      <td>0</td>\n",
       "      <td>3</td>\n",
       "      <td>5</td>\n",
       "      <td>4778.0</td>\n",
       "    </tr>\n",
       "    <tr>\n",
       "      <th>9</th>\n",
       "      <td>청춘그루브</td>\n",
       "      <td>(주)두타연</td>\n",
       "      <td>드라마</td>\n",
       "      <td>2012-03-15</td>\n",
       "      <td>94</td>\n",
       "      <td>15세 관람가</td>\n",
       "      <td>변성현</td>\n",
       "      <td>NaN</td>\n",
       "      <td>0</td>\n",
       "      <td>138</td>\n",
       "      <td>3</td>\n",
       "      <td>868.0</td>\n",
       "    </tr>\n",
       "    <tr>\n",
       "      <th>10</th>\n",
       "      <td>AV 아이돌</td>\n",
       "      <td>(주) 케이알씨지</td>\n",
       "      <td>멜로/로맨스</td>\n",
       "      <td>2015-07-27</td>\n",
       "      <td>89</td>\n",
       "      <td>청소년 관람불가</td>\n",
       "      <td>조조 히데오</td>\n",
       "      <td>NaN</td>\n",
       "      <td>0</td>\n",
       "      <td>0</td>\n",
       "      <td>4</td>\n",
       "      <td>745.0</td>\n",
       "    </tr>\n",
       "    <tr>\n",
       "      <th>...</th>\n",
       "      <td>...</td>\n",
       "      <td>...</td>\n",
       "      <td>...</td>\n",
       "      <td>...</td>\n",
       "      <td>...</td>\n",
       "      <td>...</td>\n",
       "      <td>...</td>\n",
       "      <td>...</td>\n",
       "      <td>...</td>\n",
       "      <td>...</td>\n",
       "      <td>...</td>\n",
       "      <td>...</td>\n",
       "    </tr>\n",
       "    <tr>\n",
       "      <th>235</th>\n",
       "      <td>타이밍</td>\n",
       "      <td>(주)스톰픽쳐스코리아</td>\n",
       "      <td>애니메이션</td>\n",
       "      <td>2015-12-10</td>\n",
       "      <td>100</td>\n",
       "      <td>15세 관람가</td>\n",
       "      <td>민경조</td>\n",
       "      <td>NaN</td>\n",
       "      <td>0</td>\n",
       "      <td>56</td>\n",
       "      <td>1</td>\n",
       "      <td>NaN</td>\n",
       "    </tr>\n",
       "    <tr>\n",
       "      <th>237</th>\n",
       "      <td>어떤이의 꿈</td>\n",
       "      <td>하준사</td>\n",
       "      <td>드라마</td>\n",
       "      <td>2015-11-26</td>\n",
       "      <td>72</td>\n",
       "      <td>12세 관람가</td>\n",
       "      <td>조성규</td>\n",
       "      <td>NaN</td>\n",
       "      <td>0</td>\n",
       "      <td>29</td>\n",
       "      <td>3</td>\n",
       "      <td>NaN</td>\n",
       "    </tr>\n",
       "    <tr>\n",
       "      <th>239</th>\n",
       "      <td>울보 권투부</td>\n",
       "      <td>인디스토리</td>\n",
       "      <td>다큐멘터리</td>\n",
       "      <td>2015-10-29</td>\n",
       "      <td>86</td>\n",
       "      <td>12세 관람가</td>\n",
       "      <td>이일하</td>\n",
       "      <td>NaN</td>\n",
       "      <td>0</td>\n",
       "      <td>18</td>\n",
       "      <td>2</td>\n",
       "      <td>NaN</td>\n",
       "    </tr>\n",
       "    <tr>\n",
       "      <th>240</th>\n",
       "      <td>어떤살인</td>\n",
       "      <td>(주)컨텐츠온미디어</td>\n",
       "      <td>느와르</td>\n",
       "      <td>2015-10-28</td>\n",
       "      <td>107</td>\n",
       "      <td>청소년 관람불가</td>\n",
       "      <td>안용훈</td>\n",
       "      <td>NaN</td>\n",
       "      <td>0</td>\n",
       "      <td>224</td>\n",
       "      <td>4</td>\n",
       "      <td>NaN</td>\n",
       "    </tr>\n",
       "    <tr>\n",
       "      <th>242</th>\n",
       "      <td>조선안방 스캔들-칠거지악 2</td>\n",
       "      <td>(주) 케이알씨지</td>\n",
       "      <td>멜로/로맨스</td>\n",
       "      <td>2015-10-22</td>\n",
       "      <td>76</td>\n",
       "      <td>청소년 관람불가</td>\n",
       "      <td>이전</td>\n",
       "      <td>NaN</td>\n",
       "      <td>0</td>\n",
       "      <td>10</td>\n",
       "      <td>4</td>\n",
       "      <td>NaN</td>\n",
       "    </tr>\n",
       "  </tbody>\n",
       "</table>\n",
       "<p>466 rows × 12 columns</p>\n",
       "</div>"
      ],
      "text/plain": [
       "               title      distributor   genre release_time  time  \\\n",
       "0             개들의 전쟁         롯데엔터테인먼트      액션   2012-11-22    96   \n",
       "6               길위에서             백두대간   다큐멘터리   2013-05-23   104   \n",
       "8    1789, 바스티유의 연인들  유니버설픽쳐스인터내셔널코리아     뮤지컬   2014-09-18   129   \n",
       "9              청춘그루브           (주)두타연     드라마   2012-03-15    94   \n",
       "10            AV 아이돌        (주) 케이알씨지  멜로/로맨스   2015-07-27    89   \n",
       "..               ...              ...     ...          ...   ...   \n",
       "235              타이밍      (주)스톰픽쳐스코리아   애니메이션   2015-12-10   100   \n",
       "237           어떤이의 꿈              하준사     드라마   2015-11-26    72   \n",
       "239           울보 권투부            인디스토리   다큐멘터리   2015-10-29    86   \n",
       "240             어떤살인       (주)컨텐츠온미디어     느와르   2015-10-28   107   \n",
       "242  조선안방 스캔들-칠거지악 2        (주) 케이알씨지  멜로/로맨스   2015-10-22    76   \n",
       "\n",
       "    screening_rat director  dir_prev_bfnum  dir_prev_num  num_staff  \\\n",
       "0        청소년 관람불가      조병옥             NaN             0         91   \n",
       "6          전체 관람가      이창재             NaN             0         32   \n",
       "8          전체 관람가      정성복             NaN             0          3   \n",
       "9         15세 관람가      변성현             NaN             0        138   \n",
       "10       청소년 관람불가   조조 히데오             NaN             0          0   \n",
       "..            ...      ...             ...           ...        ...   \n",
       "235       15세 관람가      민경조             NaN             0         56   \n",
       "237       12세 관람가      조성규             NaN             0         29   \n",
       "239       12세 관람가      이일하             NaN             0         18   \n",
       "240      청소년 관람불가      안용훈             NaN             0        224   \n",
       "242      청소년 관람불가       이전             NaN             0         10   \n",
       "\n",
       "     num_actor  box_off_num  \n",
       "0            2      23398.0  \n",
       "6            5      53526.0  \n",
       "8            5       4778.0  \n",
       "9            3        868.0  \n",
       "10           4        745.0  \n",
       "..         ...          ...  \n",
       "235          1          NaN  \n",
       "237          3          NaN  \n",
       "239          2          NaN  \n",
       "240          4          NaN  \n",
       "242          4          NaN  \n",
       "\n",
       "[466 rows x 12 columns]"
      ]
     },
     "execution_count": 16,
     "metadata": {},
     "output_type": "execute_result"
    }
   ],
   "source": [
    "df[df['dir_prev_bfnum'].isnull()]  ## 결측치가 있는 행 확인"
   ]
  },
  {
   "cell_type": "code",
   "execution_count": 17,
   "metadata": {
    "pycharm": {
     "name": "#%%\n"
    }
   },
   "outputs": [
    {
     "data": {
      "text/html": [
       "<div>\n",
       "<style scoped>\n",
       "    .dataframe tbody tr th:only-of-type {\n",
       "        vertical-align: middle;\n",
       "    }\n",
       "\n",
       "    .dataframe tbody tr th {\n",
       "        vertical-align: top;\n",
       "    }\n",
       "\n",
       "    .dataframe thead th {\n",
       "        text-align: right;\n",
       "    }\n",
       "</style>\n",
       "<table border=\"1\" class=\"dataframe\">\n",
       "  <thead>\n",
       "    <tr style=\"text-align: right;\">\n",
       "      <th></th>\n",
       "      <th>title</th>\n",
       "      <th>distributor</th>\n",
       "      <th>genre</th>\n",
       "      <th>release_time</th>\n",
       "      <th>time</th>\n",
       "      <th>screening_rat</th>\n",
       "      <th>director</th>\n",
       "      <th>dir_prev_bfnum</th>\n",
       "      <th>dir_prev_num</th>\n",
       "      <th>num_staff</th>\n",
       "      <th>num_actor</th>\n",
       "      <th>box_off_num</th>\n",
       "    </tr>\n",
       "  </thead>\n",
       "  <tbody>\n",
       "    <tr>\n",
       "      <th>1</th>\n",
       "      <td>내부자들</td>\n",
       "      <td>(주)쇼박스</td>\n",
       "      <td>느와르</td>\n",
       "      <td>2015-11-19</td>\n",
       "      <td>130</td>\n",
       "      <td>청소년 관람불가</td>\n",
       "      <td>우민호</td>\n",
       "      <td>1161602.50</td>\n",
       "      <td>2</td>\n",
       "      <td>387</td>\n",
       "      <td>3</td>\n",
       "      <td>7072501.0</td>\n",
       "    </tr>\n",
       "    <tr>\n",
       "      <th>2</th>\n",
       "      <td>은밀하게 위대하게</td>\n",
       "      <td>(주)쇼박스</td>\n",
       "      <td>액션</td>\n",
       "      <td>2013-06-05</td>\n",
       "      <td>123</td>\n",
       "      <td>15세 관람가</td>\n",
       "      <td>장철수</td>\n",
       "      <td>220775.25</td>\n",
       "      <td>4</td>\n",
       "      <td>343</td>\n",
       "      <td>4</td>\n",
       "      <td>6959083.0</td>\n",
       "    </tr>\n",
       "    <tr>\n",
       "      <th>3</th>\n",
       "      <td>나는 공무원이다</td>\n",
       "      <td>(주)NEW</td>\n",
       "      <td>코미디</td>\n",
       "      <td>2012-07-12</td>\n",
       "      <td>101</td>\n",
       "      <td>전체 관람가</td>\n",
       "      <td>구자홍</td>\n",
       "      <td>23894.00</td>\n",
       "      <td>2</td>\n",
       "      <td>20</td>\n",
       "      <td>6</td>\n",
       "      <td>217866.0</td>\n",
       "    </tr>\n",
       "    <tr>\n",
       "      <th>4</th>\n",
       "      <td>불량남녀</td>\n",
       "      <td>쇼박스(주)미디어플렉스</td>\n",
       "      <td>코미디</td>\n",
       "      <td>2010-11-04</td>\n",
       "      <td>108</td>\n",
       "      <td>15세 관람가</td>\n",
       "      <td>신근호</td>\n",
       "      <td>1.00</td>\n",
       "      <td>1</td>\n",
       "      <td>251</td>\n",
       "      <td>2</td>\n",
       "      <td>483387.0</td>\n",
       "    </tr>\n",
       "    <tr>\n",
       "      <th>5</th>\n",
       "      <td>강철대오 : 구국의 철가방</td>\n",
       "      <td>롯데엔터테인먼트</td>\n",
       "      <td>코미디</td>\n",
       "      <td>2012-10-25</td>\n",
       "      <td>113</td>\n",
       "      <td>15세 관람가</td>\n",
       "      <td>육상효</td>\n",
       "      <td>837969.00</td>\n",
       "      <td>2</td>\n",
       "      <td>262</td>\n",
       "      <td>4</td>\n",
       "      <td>233211.0</td>\n",
       "    </tr>\n",
       "    <tr>\n",
       "      <th>...</th>\n",
       "      <td>...</td>\n",
       "      <td>...</td>\n",
       "      <td>...</td>\n",
       "      <td>...</td>\n",
       "      <td>...</td>\n",
       "      <td>...</td>\n",
       "      <td>...</td>\n",
       "      <td>...</td>\n",
       "      <td>...</td>\n",
       "      <td>...</td>\n",
       "      <td>...</td>\n",
       "      <td>...</td>\n",
       "    </tr>\n",
       "    <tr>\n",
       "      <th>232</th>\n",
       "      <td>마돈나</td>\n",
       "      <td>리틀빅픽처스</td>\n",
       "      <td>드라마</td>\n",
       "      <td>2015-07-02</td>\n",
       "      <td>120</td>\n",
       "      <td>청소년 관람불가</td>\n",
       "      <td>신수원</td>\n",
       "      <td>771699.00</td>\n",
       "      <td>1</td>\n",
       "      <td>126</td>\n",
       "      <td>4</td>\n",
       "      <td>NaN</td>\n",
       "    </tr>\n",
       "    <tr>\n",
       "      <th>233</th>\n",
       "      <td>나의 아들, 나의 어머니</td>\n",
       "      <td>인디플러그</td>\n",
       "      <td>다큐멘터리</td>\n",
       "      <td>2015-12-17</td>\n",
       "      <td>70</td>\n",
       "      <td>전체 관람가</td>\n",
       "      <td>안재민</td>\n",
       "      <td>3568.00</td>\n",
       "      <td>3</td>\n",
       "      <td>1</td>\n",
       "      <td>2</td>\n",
       "      <td>NaN</td>\n",
       "    </tr>\n",
       "    <tr>\n",
       "      <th>236</th>\n",
       "      <td>타투</td>\n",
       "      <td>(주)다세포클럽</td>\n",
       "      <td>공포</td>\n",
       "      <td>2015-12-10</td>\n",
       "      <td>92</td>\n",
       "      <td>청소년 관람불가</td>\n",
       "      <td>이서</td>\n",
       "      <td>2099029.00</td>\n",
       "      <td>2</td>\n",
       "      <td>162</td>\n",
       "      <td>4</td>\n",
       "      <td>NaN</td>\n",
       "    </tr>\n",
       "    <tr>\n",
       "      <th>238</th>\n",
       "      <td>해에게서 소년에게</td>\n",
       "      <td>디씨드</td>\n",
       "      <td>드라마</td>\n",
       "      <td>2015-11-19</td>\n",
       "      <td>78</td>\n",
       "      <td>15세 관람가</td>\n",
       "      <td>안슬기</td>\n",
       "      <td>2590.00</td>\n",
       "      <td>1</td>\n",
       "      <td>4</td>\n",
       "      <td>4</td>\n",
       "      <td>NaN</td>\n",
       "    </tr>\n",
       "    <tr>\n",
       "      <th>241</th>\n",
       "      <td>말하지 못한 비밀</td>\n",
       "      <td>(주)씨타마운틴픽쳐스</td>\n",
       "      <td>드라마</td>\n",
       "      <td>2015-10-22</td>\n",
       "      <td>102</td>\n",
       "      <td>청소년 관람불가</td>\n",
       "      <td>송동윤</td>\n",
       "      <td>50699.00</td>\n",
       "      <td>1</td>\n",
       "      <td>68</td>\n",
       "      <td>7</td>\n",
       "      <td>NaN</td>\n",
       "    </tr>\n",
       "  </tbody>\n",
       "</table>\n",
       "<p>377 rows × 12 columns</p>\n",
       "</div>"
      ],
      "text/plain": [
       "              title   distributor  genre release_time  time screening_rat  \\\n",
       "1              내부자들        (주)쇼박스    느와르   2015-11-19   130      청소년 관람불가   \n",
       "2         은밀하게 위대하게        (주)쇼박스     액션   2013-06-05   123       15세 관람가   \n",
       "3          나는 공무원이다        (주)NEW    코미디   2012-07-12   101        전체 관람가   \n",
       "4              불량남녀  쇼박스(주)미디어플렉스    코미디   2010-11-04   108       15세 관람가   \n",
       "5    강철대오 : 구국의 철가방      롯데엔터테인먼트    코미디   2012-10-25   113       15세 관람가   \n",
       "..              ...           ...    ...          ...   ...           ...   \n",
       "232             마돈나        리틀빅픽처스    드라마   2015-07-02   120      청소년 관람불가   \n",
       "233   나의 아들, 나의 어머니         인디플러그  다큐멘터리   2015-12-17    70        전체 관람가   \n",
       "236              타투      (주)다세포클럽     공포   2015-12-10    92      청소년 관람불가   \n",
       "238       해에게서 소년에게           디씨드    드라마   2015-11-19    78       15세 관람가   \n",
       "241       말하지 못한 비밀   (주)씨타마운틴픽쳐스    드라마   2015-10-22   102      청소년 관람불가   \n",
       "\n",
       "    director  dir_prev_bfnum  dir_prev_num  num_staff  num_actor  box_off_num  \n",
       "1        우민호      1161602.50             2        387          3    7072501.0  \n",
       "2        장철수       220775.25             4        343          4    6959083.0  \n",
       "3        구자홍        23894.00             2         20          6     217866.0  \n",
       "4        신근호            1.00             1        251          2     483387.0  \n",
       "5        육상효       837969.00             2        262          4     233211.0  \n",
       "..       ...             ...           ...        ...        ...          ...  \n",
       "232      신수원       771699.00             1        126          4          NaN  \n",
       "233      안재민         3568.00             3          1          2          NaN  \n",
       "236       이서      2099029.00             2        162          4          NaN  \n",
       "238      안슬기         2590.00             1          4          4          NaN  \n",
       "241      송동윤        50699.00             1         68          7          NaN  \n",
       "\n",
       "[377 rows x 12 columns]"
      ]
     },
     "execution_count": 17,
     "metadata": {},
     "output_type": "execute_result"
    }
   ],
   "source": [
    "df[~df['dir_prev_bfnum'].isnull()]  ## 결측치가 없는 행 확인"
   ]
  },
  {
   "cell_type": "markdown",
   "metadata": {
    "pycharm": {
     "name": "#%% md\n"
    }
   },
   "source": [
    "분석 결과 이전 작품의 수가 0 인 영화에서 dir_prev_bfnum 이 결측치인 것이 확인\n",
    "왜냐하면 이전 작품이 없으니 이전 작품의 관객 수가 0이다.\n",
    "따라서 결측치를 0으로 대체 (아래의 코드에서 진행)"
   ]
  },
  {
   "cell_type": "markdown",
   "metadata": {
    "pycharm": {
     "name": "#%% md\n"
    }
   },
   "source": [
    "## 변수 별 데이터 전처리"
   ]
  },
  {
   "cell_type": "code",
   "execution_count": 18,
   "metadata": {
    "pycharm": {
     "name": "#%%\n"
    }
   },
   "outputs": [
    {
     "data": {
      "text/plain": [
       "Index(['title', 'distributor', 'genre', 'release_time', 'time',\n",
       "       'screening_rat', 'director', 'dir_prev_bfnum', 'dir_prev_num',\n",
       "       'num_staff', 'num_actor', 'box_off_num'],\n",
       "      dtype='object')"
      ]
     },
     "execution_count": 18,
     "metadata": {},
     "output_type": "execute_result"
    }
   ],
   "source": [
    "df.columns"
   ]
  },
  {
   "cell_type": "markdown",
   "metadata": {},
   "source": [
    "### distributor(제작사) 전처리"
   ]
  },
  {
   "cell_type": "code",
   "execution_count": 19,
   "metadata": {
    "pycharm": {
     "name": "#%%\n"
    }
   },
   "outputs": [],
   "source": [
    "df_distributor = df['distributor'].value_counts() #제작사가 제작한 영화의 수 데이터 프레임 제작"
   ]
  },
  {
   "cell_type": "code",
   "execution_count": 20,
   "metadata": {
    "pycharm": {
     "name": "#%%\n"
    }
   },
   "outputs": [],
   "source": [
    "df_distributor = df_distributor.reset_index() # 인덱스 초기화"
   ]
  },
  {
   "cell_type": "code",
   "execution_count": 21,
   "metadata": {
    "pycharm": {
     "name": "#%%\n"
    }
   },
   "outputs": [
    {
     "data": {
      "text/html": [
       "<div>\n",
       "<style scoped>\n",
       "    .dataframe tbody tr th:only-of-type {\n",
       "        vertical-align: middle;\n",
       "    }\n",
       "\n",
       "    .dataframe tbody tr th {\n",
       "        vertical-align: top;\n",
       "    }\n",
       "\n",
       "    .dataframe thead th {\n",
       "        text-align: right;\n",
       "    }\n",
       "</style>\n",
       "<table border=\"1\" class=\"dataframe\">\n",
       "  <thead>\n",
       "    <tr style=\"text-align: right;\">\n",
       "      <th></th>\n",
       "      <th>index</th>\n",
       "      <th>distributor</th>\n",
       "    </tr>\n",
       "  </thead>\n",
       "  <tbody>\n",
       "    <tr>\n",
       "      <th>0</th>\n",
       "      <td>CJ 엔터테인먼트</td>\n",
       "      <td>85</td>\n",
       "    </tr>\n",
       "    <tr>\n",
       "      <th>1</th>\n",
       "      <td>롯데엔터테인먼트</td>\n",
       "      <td>76</td>\n",
       "    </tr>\n",
       "    <tr>\n",
       "      <th>2</th>\n",
       "      <td>(주)마운틴픽쳐스</td>\n",
       "      <td>43</td>\n",
       "    </tr>\n",
       "    <tr>\n",
       "      <th>3</th>\n",
       "      <td>(주)쇼박스</td>\n",
       "      <td>38</td>\n",
       "    </tr>\n",
       "    <tr>\n",
       "      <th>4</th>\n",
       "      <td>인디스토리</td>\n",
       "      <td>37</td>\n",
       "    </tr>\n",
       "    <tr>\n",
       "      <th>...</th>\n",
       "      <td>...</td>\n",
       "      <td>...</td>\n",
       "    </tr>\n",
       "    <tr>\n",
       "      <th>199</th>\n",
       "      <td>찬란</td>\n",
       "      <td>1</td>\n",
       "    </tr>\n",
       "    <tr>\n",
       "      <th>200</th>\n",
       "      <td>(주)디씨드</td>\n",
       "      <td>1</td>\n",
       "    </tr>\n",
       "    <tr>\n",
       "      <th>201</th>\n",
       "      <td>(주)패뷸러스</td>\n",
       "      <td>1</td>\n",
       "    </tr>\n",
       "    <tr>\n",
       "      <th>202</th>\n",
       "      <td>영화사 조아</td>\n",
       "      <td>1</td>\n",
       "    </tr>\n",
       "    <tr>\n",
       "      <th>203</th>\n",
       "      <td>(주)팝 파트너스</td>\n",
       "      <td>1</td>\n",
       "    </tr>\n",
       "  </tbody>\n",
       "</table>\n",
       "<p>204 rows × 2 columns</p>\n",
       "</div>"
      ],
      "text/plain": [
       "         index  distributor\n",
       "0    CJ 엔터테인먼트           85\n",
       "1     롯데엔터테인먼트           76\n",
       "2    (주)마운틴픽쳐스           43\n",
       "3       (주)쇼박스           38\n",
       "4        인디스토리           37\n",
       "..         ...          ...\n",
       "199         찬란            1\n",
       "200     (주)디씨드            1\n",
       "201    (주)패뷸러스            1\n",
       "202     영화사 조아            1\n",
       "203  (주)팝 파트너스            1\n",
       "\n",
       "[204 rows x 2 columns]"
      ]
     },
     "execution_count": 21,
     "metadata": {},
     "output_type": "execute_result"
    }
   ],
   "source": [
    "df_distributor\n",
    "\n",
    "## 분석 결과 대부분의 제작사가 1번씩 등장했다.\n",
    "# 효과적인 학습을 위해 제작사가 제작한 영화사에 따라서 등급을 부여\n",
    "# 초대형제작사 : 0 , 대형 제작사 : 1 , 중형제작사 : 2 , 소형제작사 : 3"
   ]
  },
  {
   "cell_type": "code",
   "execution_count": 22,
   "metadata": {
    "pycharm": {
     "name": "#%%\n"
    }
   },
   "outputs": [
    {
     "data": {
      "text/plain": [
       "<AxesSubplot:xlabel='index', ylabel='distributor'>"
      ]
     },
     "execution_count": 22,
     "metadata": {},
     "output_type": "execute_result"
    },
    {
     "data": {
      "image/png": "[encoded data removed]",
      "text/plain": [
       "<Figure size 432x288 with 1 Axes>"
      ]
     },
     "metadata": {
      "needs_background": "light"
     },
     "output_type": "display_data"
    }
   ],
   "source": [
    "sns.barplot(data = df_distributor, x = df_distributor['index'], y = df_distributor['distributor']) # 전체 시각화를 Barplot 이용하여 시각화"
   ]
  },
  {
   "cell_type": "code",
   "execution_count": 23,
   "metadata": {
    "pycharm": {
     "name": "#%%\n"
    }
   },
   "outputs": [
    {
     "data": {
      "text/html": [
       "<div>\n",
       "<style scoped>\n",
       "    .dataframe tbody tr th:only-of-type {\n",
       "        vertical-align: middle;\n",
       "    }\n",
       "\n",
       "    .dataframe tbody tr th {\n",
       "        vertical-align: top;\n",
       "    }\n",
       "\n",
       "    .dataframe thead th {\n",
       "        text-align: right;\n",
       "    }\n",
       "</style>\n",
       "<table border=\"1\" class=\"dataframe\">\n",
       "  <thead>\n",
       "    <tr style=\"text-align: right;\">\n",
       "      <th></th>\n",
       "      <th>distributor</th>\n",
       "    </tr>\n",
       "  </thead>\n",
       "  <tbody>\n",
       "    <tr>\n",
       "      <th>count</th>\n",
       "      <td>81.000000</td>\n",
       "    </tr>\n",
       "    <tr>\n",
       "      <th>mean</th>\n",
       "      <td>8.888889</td>\n",
       "    </tr>\n",
       "    <tr>\n",
       "      <th>std</th>\n",
       "      <td>14.316075</td>\n",
       "    </tr>\n",
       "    <tr>\n",
       "      <th>min</th>\n",
       "      <td>2.000000</td>\n",
       "    </tr>\n",
       "    <tr>\n",
       "      <th>25%</th>\n",
       "      <td>2.000000</td>\n",
       "    </tr>\n",
       "    <tr>\n",
       "      <th>50%</th>\n",
       "      <td>4.000000</td>\n",
       "    </tr>\n",
       "    <tr>\n",
       "      <th>75%</th>\n",
       "      <td>9.000000</td>\n",
       "    </tr>\n",
       "    <tr>\n",
       "      <th>max</th>\n",
       "      <td>85.000000</td>\n",
       "    </tr>\n",
       "  </tbody>\n",
       "</table>\n",
       "</div>"
      ],
      "text/plain": [
       "       distributor\n",
       "count    81.000000\n",
       "mean      8.888889\n",
       "std      14.316075\n",
       "min       2.000000\n",
       "25%       2.000000\n",
       "50%       4.000000\n",
       "75%       9.000000\n",
       "max      85.000000"
      ]
     },
     "execution_count": 23,
     "metadata": {},
     "output_type": "execute_result"
    }
   ],
   "source": [
    "df_distributor[df_distributor['distributor'] != 1].describe()  # 제작한 영화가 1개 이상인 곳을 확인\n",
    "\n",
    "# 초대형과 대형을 나누는 기준 : 제작 영화가 20개를 넘는 제작사는 대형 제작사\n",
    "# 대형과 중형을 나누는 기준 : 평균값인 7.43 을 넘는 제작사는 대형 제작사"
   ]
  },
  {
   "cell_type": "code",
   "execution_count": 24,
   "metadata": {
    "pycharm": {
     "name": "#%%\n"
    }
   },
   "outputs": [],
   "source": [
    "def distributor_def(cnt): #등급을 나누는 함수\n",
    "    if int(cnt) > 20:\n",
    "       return 0\n",
    "    elif (int(cnt) > 7 and int(cnt) < 20):\n",
    "        return 1\n",
    "    elif (int(cnt) > 2 and int(cnt) < 8):\n",
    "        return 2\n",
    "    else :\n",
    "        return 3\n",
    "\n",
    "df_distributor['distributor_grade'] = df_distributor['distributor'].apply(lambda x : distributor_def(x)) # 제작사 등급 나누기"
   ]
  },
  {
   "cell_type": "code",
   "execution_count": 25,
   "metadata": {
    "pycharm": {
     "name": "#%%\n"
    }
   },
   "outputs": [
    {
     "data": {
      "text/html": [
       "<div>\n",
       "<style scoped>\n",
       "    .dataframe tbody tr th:only-of-type {\n",
       "        vertical-align: middle;\n",
       "    }\n",
       "\n",
       "    .dataframe tbody tr th {\n",
       "        vertical-align: top;\n",
       "    }\n",
       "\n",
       "    .dataframe thead th {\n",
       "        text-align: right;\n",
       "    }\n",
       "</style>\n",
       "<table border=\"1\" class=\"dataframe\">\n",
       "  <thead>\n",
       "    <tr style=\"text-align: right;\">\n",
       "      <th></th>\n",
       "      <th>index</th>\n",
       "      <th>distributor</th>\n",
       "      <th>distributor_grade</th>\n",
       "    </tr>\n",
       "  </thead>\n",
       "  <tbody>\n",
       "    <tr>\n",
       "      <th>0</th>\n",
       "      <td>CJ 엔터테인먼트</td>\n",
       "      <td>85</td>\n",
       "      <td>0</td>\n",
       "    </tr>\n",
       "    <tr>\n",
       "      <th>1</th>\n",
       "      <td>롯데엔터테인먼트</td>\n",
       "      <td>76</td>\n",
       "      <td>0</td>\n",
       "    </tr>\n",
       "    <tr>\n",
       "      <th>2</th>\n",
       "      <td>(주)마운틴픽쳐스</td>\n",
       "      <td>43</td>\n",
       "      <td>0</td>\n",
       "    </tr>\n",
       "    <tr>\n",
       "      <th>3</th>\n",
       "      <td>(주)쇼박스</td>\n",
       "      <td>38</td>\n",
       "      <td>0</td>\n",
       "    </tr>\n",
       "    <tr>\n",
       "      <th>4</th>\n",
       "      <td>인디스토리</td>\n",
       "      <td>37</td>\n",
       "      <td>0</td>\n",
       "    </tr>\n",
       "    <tr>\n",
       "      <th>...</th>\n",
       "      <td>...</td>\n",
       "      <td>...</td>\n",
       "      <td>...</td>\n",
       "    </tr>\n",
       "    <tr>\n",
       "      <th>199</th>\n",
       "      <td>찬란</td>\n",
       "      <td>1</td>\n",
       "      <td>3</td>\n",
       "    </tr>\n",
       "    <tr>\n",
       "      <th>200</th>\n",
       "      <td>(주)디씨드</td>\n",
       "      <td>1</td>\n",
       "      <td>3</td>\n",
       "    </tr>\n",
       "    <tr>\n",
       "      <th>201</th>\n",
       "      <td>(주)패뷸러스</td>\n",
       "      <td>1</td>\n",
       "      <td>3</td>\n",
       "    </tr>\n",
       "    <tr>\n",
       "      <th>202</th>\n",
       "      <td>영화사 조아</td>\n",
       "      <td>1</td>\n",
       "      <td>3</td>\n",
       "    </tr>\n",
       "    <tr>\n",
       "      <th>203</th>\n",
       "      <td>(주)팝 파트너스</td>\n",
       "      <td>1</td>\n",
       "      <td>3</td>\n",
       "    </tr>\n",
       "  </tbody>\n",
       "</table>\n",
       "<p>204 rows × 3 columns</p>\n",
       "</div>"
      ],
      "text/plain": [
       "         index  distributor  distributor_grade\n",
       "0    CJ 엔터테인먼트           85                  0\n",
       "1     롯데엔터테인먼트           76                  0\n",
       "2    (주)마운틴픽쳐스           43                  0\n",
       "3       (주)쇼박스           38                  0\n",
       "4        인디스토리           37                  0\n",
       "..         ...          ...                ...\n",
       "199         찬란            1                  3\n",
       "200     (주)디씨드            1                  3\n",
       "201    (주)패뷸러스            1                  3\n",
       "202     영화사 조아            1                  3\n",
       "203  (주)팝 파트너스            1                  3\n",
       "\n",
       "[204 rows x 3 columns]"
      ]
     },
     "execution_count": 25,
     "metadata": {},
     "output_type": "execute_result"
    }
   ],
   "source": [
    "df_distributor"
   ]
  },
  {
   "cell_type": "code",
   "execution_count": 26,
   "metadata": {
    "pycharm": {
     "name": "#%%\n"
    }
   },
   "outputs": [],
   "source": [
    "# 각 등급에 따른 제작사 리스트 저장\n",
    "\n",
    "grade_0 = df_distributor[df_distributor['distributor_grade'] == 0]['index'].tolist()\n",
    "grade_1 = df_distributor[df_distributor['distributor_grade'] == 1]['index'].tolist()\n",
    "grade_2 = df_distributor[df_distributor['distributor_grade'] == 2]['index'].tolist()\n",
    "grade_3 = df_distributor[df_distributor['distributor_grade'] == 3]['index'].tolist()"
   ]
  },
  {
   "cell_type": "code",
   "execution_count": 27,
   "metadata": {
    "pycharm": {
     "name": "#%%\n"
    }
   },
   "outputs": [],
   "source": [
    "def distributor_grade_def(name):\n",
    "    if name in grade_0:\n",
    "       return 0\n",
    "    elif name in grade_1:\n",
    "        return 1\n",
    "    elif name in grade_2:\n",
    "        return 2\n",
    "    else :\n",
    "        return 3\n",
    "\n",
    "df['distributor'] = df['distributor'].apply(lambda x : distributor_grade_def(x))"
   ]
  },
  {
   "cell_type": "code",
   "execution_count": 28,
   "metadata": {
    "pycharm": {
     "name": "#%%\n"
    }
   },
   "outputs": [
    {
     "data": {
      "text/html": [
       "<div>\n",
       "<style scoped>\n",
       "    .dataframe tbody tr th:only-of-type {\n",
       "        vertical-align: middle;\n",
       "    }\n",
       "\n",
       "    .dataframe tbody tr th {\n",
       "        vertical-align: top;\n",
       "    }\n",
       "\n",
       "    .dataframe thead th {\n",
       "        text-align: right;\n",
       "    }\n",
       "</style>\n",
       "<table border=\"1\" class=\"dataframe\">\n",
       "  <thead>\n",
       "    <tr style=\"text-align: right;\">\n",
       "      <th></th>\n",
       "      <th>title</th>\n",
       "      <th>distributor</th>\n",
       "      <th>genre</th>\n",
       "      <th>release_time</th>\n",
       "      <th>time</th>\n",
       "      <th>screening_rat</th>\n",
       "      <th>director</th>\n",
       "      <th>dir_prev_bfnum</th>\n",
       "      <th>dir_prev_num</th>\n",
       "      <th>num_staff</th>\n",
       "      <th>num_actor</th>\n",
       "      <th>box_off_num</th>\n",
       "    </tr>\n",
       "  </thead>\n",
       "  <tbody>\n",
       "    <tr>\n",
       "      <th>0</th>\n",
       "      <td>개들의 전쟁</td>\n",
       "      <td>0</td>\n",
       "      <td>액션</td>\n",
       "      <td>2012-11-22</td>\n",
       "      <td>96</td>\n",
       "      <td>청소년 관람불가</td>\n",
       "      <td>조병옥</td>\n",
       "      <td>NaN</td>\n",
       "      <td>0</td>\n",
       "      <td>91</td>\n",
       "      <td>2</td>\n",
       "      <td>23398.0</td>\n",
       "    </tr>\n",
       "    <tr>\n",
       "      <th>1</th>\n",
       "      <td>내부자들</td>\n",
       "      <td>0</td>\n",
       "      <td>느와르</td>\n",
       "      <td>2015-11-19</td>\n",
       "      <td>130</td>\n",
       "      <td>청소년 관람불가</td>\n",
       "      <td>우민호</td>\n",
       "      <td>1161602.50</td>\n",
       "      <td>2</td>\n",
       "      <td>387</td>\n",
       "      <td>3</td>\n",
       "      <td>7072501.0</td>\n",
       "    </tr>\n",
       "    <tr>\n",
       "      <th>2</th>\n",
       "      <td>은밀하게 위대하게</td>\n",
       "      <td>0</td>\n",
       "      <td>액션</td>\n",
       "      <td>2013-06-05</td>\n",
       "      <td>123</td>\n",
       "      <td>15세 관람가</td>\n",
       "      <td>장철수</td>\n",
       "      <td>220775.25</td>\n",
       "      <td>4</td>\n",
       "      <td>343</td>\n",
       "      <td>4</td>\n",
       "      <td>6959083.0</td>\n",
       "    </tr>\n",
       "    <tr>\n",
       "      <th>3</th>\n",
       "      <td>나는 공무원이다</td>\n",
       "      <td>0</td>\n",
       "      <td>코미디</td>\n",
       "      <td>2012-07-12</td>\n",
       "      <td>101</td>\n",
       "      <td>전체 관람가</td>\n",
       "      <td>구자홍</td>\n",
       "      <td>23894.00</td>\n",
       "      <td>2</td>\n",
       "      <td>20</td>\n",
       "      <td>6</td>\n",
       "      <td>217866.0</td>\n",
       "    </tr>\n",
       "    <tr>\n",
       "      <th>4</th>\n",
       "      <td>불량남녀</td>\n",
       "      <td>2</td>\n",
       "      <td>코미디</td>\n",
       "      <td>2010-11-04</td>\n",
       "      <td>108</td>\n",
       "      <td>15세 관람가</td>\n",
       "      <td>신근호</td>\n",
       "      <td>1.00</td>\n",
       "      <td>1</td>\n",
       "      <td>251</td>\n",
       "      <td>2</td>\n",
       "      <td>483387.0</td>\n",
       "    </tr>\n",
       "    <tr>\n",
       "      <th>...</th>\n",
       "      <td>...</td>\n",
       "      <td>...</td>\n",
       "      <td>...</td>\n",
       "      <td>...</td>\n",
       "      <td>...</td>\n",
       "      <td>...</td>\n",
       "      <td>...</td>\n",
       "      <td>...</td>\n",
       "      <td>...</td>\n",
       "      <td>...</td>\n",
       "      <td>...</td>\n",
       "      <td>...</td>\n",
       "    </tr>\n",
       "    <tr>\n",
       "      <th>238</th>\n",
       "      <td>해에게서 소년에게</td>\n",
       "      <td>3</td>\n",
       "      <td>드라마</td>\n",
       "      <td>2015-11-19</td>\n",
       "      <td>78</td>\n",
       "      <td>15세 관람가</td>\n",
       "      <td>안슬기</td>\n",
       "      <td>2590.00</td>\n",
       "      <td>1</td>\n",
       "      <td>4</td>\n",
       "      <td>4</td>\n",
       "      <td>NaN</td>\n",
       "    </tr>\n",
       "    <tr>\n",
       "      <th>239</th>\n",
       "      <td>울보 권투부</td>\n",
       "      <td>0</td>\n",
       "      <td>다큐멘터리</td>\n",
       "      <td>2015-10-29</td>\n",
       "      <td>86</td>\n",
       "      <td>12세 관람가</td>\n",
       "      <td>이일하</td>\n",
       "      <td>NaN</td>\n",
       "      <td>0</td>\n",
       "      <td>18</td>\n",
       "      <td>2</td>\n",
       "      <td>NaN</td>\n",
       "    </tr>\n",
       "    <tr>\n",
       "      <th>240</th>\n",
       "      <td>어떤살인</td>\n",
       "      <td>3</td>\n",
       "      <td>느와르</td>\n",
       "      <td>2015-10-28</td>\n",
       "      <td>107</td>\n",
       "      <td>청소년 관람불가</td>\n",
       "      <td>안용훈</td>\n",
       "      <td>NaN</td>\n",
       "      <td>0</td>\n",
       "      <td>224</td>\n",
       "      <td>4</td>\n",
       "      <td>NaN</td>\n",
       "    </tr>\n",
       "    <tr>\n",
       "      <th>241</th>\n",
       "      <td>말하지 못한 비밀</td>\n",
       "      <td>3</td>\n",
       "      <td>드라마</td>\n",
       "      <td>2015-10-22</td>\n",
       "      <td>102</td>\n",
       "      <td>청소년 관람불가</td>\n",
       "      <td>송동윤</td>\n",
       "      <td>50699.00</td>\n",
       "      <td>1</td>\n",
       "      <td>68</td>\n",
       "      <td>7</td>\n",
       "      <td>NaN</td>\n",
       "    </tr>\n",
       "    <tr>\n",
       "      <th>242</th>\n",
       "      <td>조선안방 스캔들-칠거지악 2</td>\n",
       "      <td>1</td>\n",
       "      <td>멜로/로맨스</td>\n",
       "      <td>2015-10-22</td>\n",
       "      <td>76</td>\n",
       "      <td>청소년 관람불가</td>\n",
       "      <td>이전</td>\n",
       "      <td>NaN</td>\n",
       "      <td>0</td>\n",
       "      <td>10</td>\n",
       "      <td>4</td>\n",
       "      <td>NaN</td>\n",
       "    </tr>\n",
       "  </tbody>\n",
       "</table>\n",
       "<p>843 rows × 12 columns</p>\n",
       "</div>"
      ],
      "text/plain": [
       "               title  distributor   genre release_time  time screening_rat  \\\n",
       "0             개들의 전쟁            0      액션   2012-11-22    96      청소년 관람불가   \n",
       "1               내부자들            0     느와르   2015-11-19   130      청소년 관람불가   \n",
       "2          은밀하게 위대하게            0      액션   2013-06-05   123       15세 관람가   \n",
       "3           나는 공무원이다            0     코미디   2012-07-12   101        전체 관람가   \n",
       "4               불량남녀            2     코미디   2010-11-04   108       15세 관람가   \n",
       "..               ...          ...     ...          ...   ...           ...   \n",
       "238        해에게서 소년에게            3     드라마   2015-11-19    78       15세 관람가   \n",
       "239           울보 권투부            0   다큐멘터리   2015-10-29    86       12세 관람가   \n",
       "240             어떤살인            3     느와르   2015-10-28   107      청소년 관람불가   \n",
       "241        말하지 못한 비밀            3     드라마   2015-10-22   102      청소년 관람불가   \n",
       "242  조선안방 스캔들-칠거지악 2            1  멜로/로맨스   2015-10-22    76      청소년 관람불가   \n",
       "\n",
       "    director  dir_prev_bfnum  dir_prev_num  num_staff  num_actor  box_off_num  \n",
       "0        조병옥             NaN             0         91          2      23398.0  \n",
       "1        우민호      1161602.50             2        387          3    7072501.0  \n",
       "2        장철수       220775.25             4        343          4    6959083.0  \n",
       "3        구자홍        23894.00             2         20          6     217866.0  \n",
       "4        신근호            1.00             1        251          2     483387.0  \n",
       "..       ...             ...           ...        ...        ...          ...  \n",
       "238      안슬기         2590.00             1          4          4          NaN  \n",
       "239      이일하             NaN             0         18          2          NaN  \n",
       "240      안용훈             NaN             0        224          4          NaN  \n",
       "241      송동윤        50699.00             1         68          7          NaN  \n",
       "242       이전             NaN             0         10          4          NaN  \n",
       "\n",
       "[843 rows x 12 columns]"
      ]
     },
     "execution_count": 28,
     "metadata": {},
     "output_type": "execute_result"
    }
   ],
   "source": [
    "df"
   ]
  },
  {
   "cell_type": "markdown",
   "metadata": {},
   "source": [
    "### Genre"
   ]
  },
  {
   "cell_type": "code",
   "execution_count": 29,
   "metadata": {
    "pycharm": {
     "name": "#%%\n"
    }
   },
   "outputs": [
    {
     "data": {
      "text/plain": [
       "드라마       299\n",
       "다큐멘터리     126\n",
       "멜로/로맨스    117\n",
       "코미디        76\n",
       "공포         61\n",
       "액션         49\n",
       "느와르        39\n",
       "애니메이션      29\n",
       "미스터리       24\n",
       "SF         14\n",
       "뮤지컬         6\n",
       "서스펜스        3\n",
       "Name: genre, dtype: int64"
      ]
     },
     "execution_count": 29,
     "metadata": {},
     "output_type": "execute_result"
    }
   ],
   "source": [
    "df['genre'].value_counts() # 장르별 개수 확인\n",
    "\n",
    "# 12개여서 나중에 One-hot-encoding"
   ]
  },
  {
   "cell_type": "code",
   "execution_count": 30,
   "metadata": {
    "pycharm": {
     "name": "#%%\n"
    }
   },
   "outputs": [
    {
     "data": {
      "image/png": "[encoded data removed]",
      "text/plain": [
       "<Figure size 1080x864 with 1 Axes>"
      ]
     },
     "metadata": {
      "needs_background": "light"
     },
     "output_type": "display_data"
    }
   ],
   "source": [
    "plt.figure(figsize= (15,12)) # 시각화\n",
    "sns.countplot(data = df, x = df['genre'])\n",
    "plt.xticks(rotation = 45)\n",
    "plt.show()"
   ]
  },
  {
   "cell_type": "markdown",
   "metadata": {},
   "source": [
    "### Release_time"
   ]
  },
  {
   "cell_type": "code",
   "execution_count": 31,
   "metadata": {
    "pycharm": {
     "name": "#%%\n"
    }
   },
   "outputs": [],
   "source": [
    "df['release_time']  = pd.to_datetime(df['release_time']) # 데이터 type 을 시간을 나타내는 type 인 datetime 으로 변경"
   ]
  },
  {
   "cell_type": "code",
   "execution_count": 32,
   "metadata": {
    "pycharm": {
     "name": "#%%\n"
    }
   },
   "outputs": [],
   "source": [
    "# 날짜를 다 사용하지 않고 개봉한 월 까지만 사용\n",
    "\n",
    "df['release_time'] = df['release_time'].dt.strftime('%m')"
   ]
  },
  {
   "cell_type": "code",
   "execution_count": 33,
   "metadata": {
    "pycharm": {
     "name": "#%%\n"
    }
   },
   "outputs": [],
   "source": [
    "df['release_time'] = df['release_time'].astype(int)"
   ]
  },
  {
   "cell_type": "markdown",
   "metadata": {},
   "source": [
    "### screening_rat"
   ]
  },
  {
   "cell_type": "code",
   "execution_count": 34,
   "metadata": {
    "pycharm": {
     "name": "#%%\n"
    }
   },
   "outputs": [
    {
     "data": {
      "text/plain": [
       "청소년 관람불가    297\n",
       "15세 관람가     275\n",
       "12세 관람가     142\n",
       "전체 관람가      129\n",
       "Name: screening_rat, dtype: int64"
      ]
     },
     "execution_count": 34,
     "metadata": {},
     "output_type": "execute_result"
    }
   ],
   "source": [
    "df['screening_rat'].value_counts()  # 총 4개여서 나중에 One-hot-incoding 실시"
   ]
  },
  {
   "cell_type": "code",
   "execution_count": 35,
   "metadata": {
    "pycharm": {
     "name": "#%%\n"
    }
   },
   "outputs": [
    {
     "data": {
      "image/png": "[encoded data removed]",
      "text/plain": [
       "<Figure size 864x648 with 1 Axes>"
      ]
     },
     "metadata": {
      "needs_background": "light"
     },
     "output_type": "display_data"
    }
   ],
   "source": [
    "plt.figure(figsize= (12,9))\n",
    "sns.countplot(data = df, x = df['screening_rat'])\n",
    "plt.xticks(rotation = 45)\n",
    "plt.show()"
   ]
  },
  {
   "cell_type": "markdown",
   "metadata": {},
   "source": [
    "### Director"
   ]
  },
  {
   "cell_type": "code",
   "execution_count": 36,
   "metadata": {
    "pycharm": {
     "name": "#%%\n"
    }
   },
   "outputs": [
    {
     "data": {
      "text/plain": [
       "홍상수    8\n",
       "조성규    6\n",
       "전규환    6\n",
       "우민호    4\n",
       "곽경택    4\n",
       "      ..\n",
       "이홍재    1\n",
       "주경중    1\n",
       "김학순    1\n",
       "고석진    1\n",
       "김명준    1\n",
       "Name: director, Length: 614, dtype: int64"
      ]
     },
     "execution_count": 36,
     "metadata": {},
     "output_type": "execute_result"
    }
   ],
   "source": [
    "df['director'].value_counts() # 감독의 경우 너무 많아서 이 피쳐는 사용하지 않고 'dir_prev_bfnum', 'dir_prev_num' 을 사용해서 감독을 학습"
   ]
  },
  {
   "cell_type": "markdown",
   "metadata": {},
   "source": [
    "### dir_prev_bfnum , dir_prev_num"
   ]
  },
  {
   "cell_type": "code",
   "execution_count": 37,
   "metadata": {
    "pycharm": {
     "name": "#%%\n"
    }
   },
   "outputs": [
    {
     "data": {
      "text/html": [
       "<div>\n",
       "<style scoped>\n",
       "    .dataframe tbody tr th:only-of-type {\n",
       "        vertical-align: middle;\n",
       "    }\n",
       "\n",
       "    .dataframe tbody tr th {\n",
       "        vertical-align: top;\n",
       "    }\n",
       "\n",
       "    .dataframe thead th {\n",
       "        text-align: right;\n",
       "    }\n",
       "</style>\n",
       "<table border=\"1\" class=\"dataframe\">\n",
       "  <thead>\n",
       "    <tr style=\"text-align: right;\">\n",
       "      <th></th>\n",
       "      <th>title</th>\n",
       "      <th>dir_prev_num</th>\n",
       "      <th>dir_prev_bfnum</th>\n",
       "    </tr>\n",
       "  </thead>\n",
       "  <tbody>\n",
       "    <tr>\n",
       "      <th>0</th>\n",
       "      <td>개들의 전쟁</td>\n",
       "      <td>0</td>\n",
       "      <td>NaN</td>\n",
       "    </tr>\n",
       "    <tr>\n",
       "      <th>1</th>\n",
       "      <td>내부자들</td>\n",
       "      <td>2</td>\n",
       "      <td>1161602.50</td>\n",
       "    </tr>\n",
       "    <tr>\n",
       "      <th>2</th>\n",
       "      <td>은밀하게 위대하게</td>\n",
       "      <td>4</td>\n",
       "      <td>220775.25</td>\n",
       "    </tr>\n",
       "    <tr>\n",
       "      <th>3</th>\n",
       "      <td>나는 공무원이다</td>\n",
       "      <td>2</td>\n",
       "      <td>23894.00</td>\n",
       "    </tr>\n",
       "    <tr>\n",
       "      <th>4</th>\n",
       "      <td>불량남녀</td>\n",
       "      <td>1</td>\n",
       "      <td>1.00</td>\n",
       "    </tr>\n",
       "    <tr>\n",
       "      <th>...</th>\n",
       "      <td>...</td>\n",
       "      <td>...</td>\n",
       "      <td>...</td>\n",
       "    </tr>\n",
       "    <tr>\n",
       "      <th>238</th>\n",
       "      <td>해에게서 소년에게</td>\n",
       "      <td>1</td>\n",
       "      <td>2590.00</td>\n",
       "    </tr>\n",
       "    <tr>\n",
       "      <th>239</th>\n",
       "      <td>울보 권투부</td>\n",
       "      <td>0</td>\n",
       "      <td>NaN</td>\n",
       "    </tr>\n",
       "    <tr>\n",
       "      <th>240</th>\n",
       "      <td>어떤살인</td>\n",
       "      <td>0</td>\n",
       "      <td>NaN</td>\n",
       "    </tr>\n",
       "    <tr>\n",
       "      <th>241</th>\n",
       "      <td>말하지 못한 비밀</td>\n",
       "      <td>1</td>\n",
       "      <td>50699.00</td>\n",
       "    </tr>\n",
       "    <tr>\n",
       "      <th>242</th>\n",
       "      <td>조선안방 스캔들-칠거지악 2</td>\n",
       "      <td>0</td>\n",
       "      <td>NaN</td>\n",
       "    </tr>\n",
       "  </tbody>\n",
       "</table>\n",
       "<p>843 rows × 3 columns</p>\n",
       "</div>"
      ],
      "text/plain": [
       "               title  dir_prev_num  dir_prev_bfnum\n",
       "0             개들의 전쟁             0             NaN\n",
       "1               내부자들             2      1161602.50\n",
       "2          은밀하게 위대하게             4       220775.25\n",
       "3           나는 공무원이다             2        23894.00\n",
       "4               불량남녀             1            1.00\n",
       "..               ...           ...             ...\n",
       "238        해에게서 소년에게             1         2590.00\n",
       "239           울보 권투부             0             NaN\n",
       "240             어떤살인             0             NaN\n",
       "241        말하지 못한 비밀             1        50699.00\n",
       "242  조선안방 스캔들-칠거지악 2             0             NaN\n",
       "\n",
       "[843 rows x 3 columns]"
      ]
     },
     "execution_count": 37,
     "metadata": {},
     "output_type": "execute_result"
    }
   ],
   "source": [
    "df[['title','dir_prev_num','dir_prev_bfnum']]"
   ]
  },
  {
   "cell_type": "markdown",
   "metadata": {},
   "source": [
    "결측치가 있기 때문에 결측치 처리\n",
    "\n",
    "결측치의 경우 감독의 이전 작품이 0일 경우 발생하기 때문에 이전 작품의 관객 수인 결측치를 0으로 처리"
   ]
  },
  {
   "cell_type": "code",
   "execution_count": 38,
   "metadata": {
    "pycharm": {
     "name": "#%%\n"
    }
   },
   "outputs": [],
   "source": [
    "df.fillna(0,inplace=True)"
   ]
  },
  {
   "cell_type": "code",
   "execution_count": 39,
   "metadata": {
    "pycharm": {
     "name": "#%%\n"
    }
   },
   "outputs": [
    {
     "data": {
      "text/plain": [
       "title             843\n",
       "distributor       843\n",
       "genre             843\n",
       "release_time      843\n",
       "time              843\n",
       "screening_rat     843\n",
       "director          843\n",
       "dir_prev_bfnum    843\n",
       "dir_prev_num      843\n",
       "num_staff         843\n",
       "num_actor         843\n",
       "box_off_num       843\n",
       "dtype: int64"
      ]
     },
     "execution_count": 39,
     "metadata": {},
     "output_type": "execute_result"
    }
   ],
   "source": [
    "df.isnull().count() # 결측치 처리 확인"
   ]
  },
  {
   "cell_type": "code",
   "execution_count": 40,
   "metadata": {
    "pycharm": {
     "name": "#%%\n"
    }
   },
   "outputs": [
    {
     "data": {
      "text/plain": [
       "Index(['title', 'distributor', 'genre', 'release_time', 'time',\n",
       "       'screening_rat', 'director', 'dir_prev_bfnum', 'dir_prev_num',\n",
       "       'num_staff', 'num_actor', 'box_off_num'],\n",
       "      dtype='object')"
      ]
     },
     "execution_count": 40,
     "metadata": {},
     "output_type": "execute_result"
    }
   ],
   "source": [
    "df.columns"
   ]
  },
  {
   "cell_type": "markdown",
   "metadata": {},
   "source": [
    "### num_staff , num_actor 은 숫자형이기 때문에 그대로 사용"
   ]
  },
  {
   "cell_type": "markdown",
   "metadata": {},
   "source": [
    "## 이상치 확인"
   ]
  },
  {
   "cell_type": "code",
   "execution_count": 41,
   "metadata": {
    "pycharm": {
     "name": "#%%\n"
    }
   },
   "outputs": [
    {
     "data": {
      "text/plain": [
       "<AxesSubplot:>"
      ]
     },
     "execution_count": 41,
     "metadata": {},
     "output_type": "execute_result"
    },
    {
     "data": {
      "image/png": "[encoded data removed]",
      "text/plain": [
       "<Figure size 432x288 with 1 Axes>"
      ]
     },
     "metadata": {
      "needs_background": "light"
     },
     "output_type": "display_data"
    }
   ],
   "source": [
    "sns.boxplot(data = df[['release_time','time','dir_prev_bfnum', 'dir_prev_num','num_staff', 'num_actor']]) # 결과 dir_prev_bfnum 을 제와하고 이상치가 없는 것으로 확인"
   ]
  },
  {
   "cell_type": "markdown",
   "metadata": {},
   "source": [
    "## One-Hot-encoding, Scalering"
   ]
  },
  {
   "cell_type": "markdown",
   "metadata": {},
   "source": []
  },
  {
   "cell_type": "code",
   "execution_count": 42,
   "metadata": {
    "pycharm": {
     "name": "#%%\n"
    }
   },
   "outputs": [],
   "source": [
    "from sklearn.preprocessing import OneHotEncoder\n",
    "from sklearn.preprocessing import OrdinalEncoder\n",
    "from sklearn.preprocessing import StandardScaler\n"
   ]
  },
  {
   "cell_type": "code",
   "execution_count": 43,
   "metadata": {
    "pycharm": {
     "name": "#%%\n"
    }
   },
   "outputs": [
    {
     "data": {
      "text/html": [
       "<div>\n",
       "<style scoped>\n",
       "    .dataframe tbody tr th:only-of-type {\n",
       "        vertical-align: middle;\n",
       "    }\n",
       "\n",
       "    .dataframe tbody tr th {\n",
       "        vertical-align: top;\n",
       "    }\n",
       "\n",
       "    .dataframe thead th {\n",
       "        text-align: right;\n",
       "    }\n",
       "</style>\n",
       "<table border=\"1\" class=\"dataframe\">\n",
       "  <thead>\n",
       "    <tr style=\"text-align: right;\">\n",
       "      <th></th>\n",
       "      <th>distributor</th>\n",
       "      <th>genre</th>\n",
       "      <th>release_time</th>\n",
       "      <th>time</th>\n",
       "      <th>screening_rat</th>\n",
       "      <th>dir_prev_bfnum</th>\n",
       "      <th>dir_prev_num</th>\n",
       "      <th>num_staff</th>\n",
       "      <th>num_actor</th>\n",
       "    </tr>\n",
       "  </thead>\n",
       "  <tbody>\n",
       "    <tr>\n",
       "      <th>0</th>\n",
       "      <td>0</td>\n",
       "      <td>액션</td>\n",
       "      <td>11</td>\n",
       "      <td>96</td>\n",
       "      <td>청소년 관람불가</td>\n",
       "      <td>0.00</td>\n",
       "      <td>0</td>\n",
       "      <td>91</td>\n",
       "      <td>2</td>\n",
       "    </tr>\n",
       "    <tr>\n",
       "      <th>1</th>\n",
       "      <td>0</td>\n",
       "      <td>느와르</td>\n",
       "      <td>11</td>\n",
       "      <td>130</td>\n",
       "      <td>청소년 관람불가</td>\n",
       "      <td>1161602.50</td>\n",
       "      <td>2</td>\n",
       "      <td>387</td>\n",
       "      <td>3</td>\n",
       "    </tr>\n",
       "    <tr>\n",
       "      <th>2</th>\n",
       "      <td>0</td>\n",
       "      <td>액션</td>\n",
       "      <td>6</td>\n",
       "      <td>123</td>\n",
       "      <td>15세 관람가</td>\n",
       "      <td>220775.25</td>\n",
       "      <td>4</td>\n",
       "      <td>343</td>\n",
       "      <td>4</td>\n",
       "    </tr>\n",
       "    <tr>\n",
       "      <th>3</th>\n",
       "      <td>0</td>\n",
       "      <td>코미디</td>\n",
       "      <td>7</td>\n",
       "      <td>101</td>\n",
       "      <td>전체 관람가</td>\n",
       "      <td>23894.00</td>\n",
       "      <td>2</td>\n",
       "      <td>20</td>\n",
       "      <td>6</td>\n",
       "    </tr>\n",
       "    <tr>\n",
       "      <th>4</th>\n",
       "      <td>2</td>\n",
       "      <td>코미디</td>\n",
       "      <td>11</td>\n",
       "      <td>108</td>\n",
       "      <td>15세 관람가</td>\n",
       "      <td>1.00</td>\n",
       "      <td>1</td>\n",
       "      <td>251</td>\n",
       "      <td>2</td>\n",
       "    </tr>\n",
       "    <tr>\n",
       "      <th>...</th>\n",
       "      <td>...</td>\n",
       "      <td>...</td>\n",
       "      <td>...</td>\n",
       "      <td>...</td>\n",
       "      <td>...</td>\n",
       "      <td>...</td>\n",
       "      <td>...</td>\n",
       "      <td>...</td>\n",
       "      <td>...</td>\n",
       "    </tr>\n",
       "    <tr>\n",
       "      <th>238</th>\n",
       "      <td>3</td>\n",
       "      <td>드라마</td>\n",
       "      <td>11</td>\n",
       "      <td>78</td>\n",
       "      <td>15세 관람가</td>\n",
       "      <td>2590.00</td>\n",
       "      <td>1</td>\n",
       "      <td>4</td>\n",
       "      <td>4</td>\n",
       "    </tr>\n",
       "    <tr>\n",
       "      <th>239</th>\n",
       "      <td>0</td>\n",
       "      <td>다큐멘터리</td>\n",
       "      <td>10</td>\n",
       "      <td>86</td>\n",
       "      <td>12세 관람가</td>\n",
       "      <td>0.00</td>\n",
       "      <td>0</td>\n",
       "      <td>18</td>\n",
       "      <td>2</td>\n",
       "    </tr>\n",
       "    <tr>\n",
       "      <th>240</th>\n",
       "      <td>3</td>\n",
       "      <td>느와르</td>\n",
       "      <td>10</td>\n",
       "      <td>107</td>\n",
       "      <td>청소년 관람불가</td>\n",
       "      <td>0.00</td>\n",
       "      <td>0</td>\n",
       "      <td>224</td>\n",
       "      <td>4</td>\n",
       "    </tr>\n",
       "    <tr>\n",
       "      <th>241</th>\n",
       "      <td>3</td>\n",
       "      <td>드라마</td>\n",
       "      <td>10</td>\n",
       "      <td>102</td>\n",
       "      <td>청소년 관람불가</td>\n",
       "      <td>50699.00</td>\n",
       "      <td>1</td>\n",
       "      <td>68</td>\n",
       "      <td>7</td>\n",
       "    </tr>\n",
       "    <tr>\n",
       "      <th>242</th>\n",
       "      <td>1</td>\n",
       "      <td>멜로/로맨스</td>\n",
       "      <td>10</td>\n",
       "      <td>76</td>\n",
       "      <td>청소년 관람불가</td>\n",
       "      <td>0.00</td>\n",
       "      <td>0</td>\n",
       "      <td>10</td>\n",
       "      <td>4</td>\n",
       "    </tr>\n",
       "  </tbody>\n",
       "</table>\n",
       "<p>843 rows × 9 columns</p>\n",
       "</div>"
      ],
      "text/plain": [
       "     distributor   genre  release_time  time screening_rat  dir_prev_bfnum  \\\n",
       "0              0      액션            11    96      청소년 관람불가            0.00   \n",
       "1              0     느와르            11   130      청소년 관람불가      1161602.50   \n",
       "2              0      액션             6   123       15세 관람가       220775.25   \n",
       "3              0     코미디             7   101        전체 관람가        23894.00   \n",
       "4              2     코미디            11   108       15세 관람가            1.00   \n",
       "..           ...     ...           ...   ...           ...             ...   \n",
       "238            3     드라마            11    78       15세 관람가         2590.00   \n",
       "239            0   다큐멘터리            10    86       12세 관람가            0.00   \n",
       "240            3     느와르            10   107      청소년 관람불가            0.00   \n",
       "241            3     드라마            10   102      청소년 관람불가        50699.00   \n",
       "242            1  멜로/로맨스            10    76      청소년 관람불가            0.00   \n",
       "\n",
       "     dir_prev_num  num_staff  num_actor  \n",
       "0               0         91          2  \n",
       "1               2        387          3  \n",
       "2               4        343          4  \n",
       "3               2         20          6  \n",
       "4               1        251          2  \n",
       "..            ...        ...        ...  \n",
       "238             1          4          4  \n",
       "239             0         18          2  \n",
       "240             0        224          4  \n",
       "241             1         68          7  \n",
       "242             0         10          4  \n",
       "\n",
       "[843 rows x 9 columns]"
      ]
     },
     "execution_count": 43,
     "metadata": {},
     "output_type": "execute_result"
    }
   ],
   "source": [
    "# One-hot-encoding, 스케일링 전 데이터 분리\n",
    "# 학습에 사용하지 않는 피쳐, X, y 로 구분\n",
    "X = df.drop(columns=['title','director','box_off_num'])\n",
    "y = df['box_off_num']\n",
    "X"
   ]
  },
  {
   "cell_type": "code",
   "execution_count": 44,
   "metadata": {
    "pycharm": {
     "name": "#%%\n"
    }
   },
   "outputs": [
    {
     "data": {
      "text/plain": [
       "distributor         int64\n",
       "genre              object\n",
       "release_time        int32\n",
       "time                int64\n",
       "screening_rat      object\n",
       "dir_prev_bfnum    float64\n",
       "dir_prev_num        int64\n",
       "num_staff           int64\n",
       "num_actor           int64\n",
       "dtype: object"
      ]
     },
     "execution_count": 44,
     "metadata": {},
     "output_type": "execute_result"
    }
   ],
   "source": [
    "## 타입 확인 후 수치형 범주형 분리\n",
    "X.dtypes"
   ]
  },
  {
   "cell_type": "markdown",
   "metadata": {},
   "source": []
  },
  {
   "cell_type": "code",
   "execution_count": 45,
   "metadata": {
    "pycharm": {
     "name": "#%%\n"
    }
   },
   "outputs": [],
   "source": [
    "# release time, time, dir_prev_num, dir_prev_bfnum, num_staff, num_actor 연속형 수치형 변수\n",
    "# distributor, genre, screening rat 범주형 변수\n",
    "\n",
    "number_attribs = X.drop(columns=['distributor','genre','screening_rat']) # 스케일링을 진행할 수치형 변수\n",
    "cat_ordi_attribs = X[['distributor']]  # 순서가 있는 범주형\n",
    "cat_one_hot_attribs = X[['genre','screening_rat']] # 순서가 없는 범주형"
   ]
  },
  {
   "cell_type": "code",
   "execution_count": 46,
   "metadata": {
    "pycharm": {
     "name": "#%%\n"
    }
   },
   "outputs": [],
   "source": [
    "# 수치형 변수 스케일링\n",
    "scaler = StandardScaler()\n",
    "X_scale = scaler.fit_transform(number_attribs)"
   ]
  },
  {
   "cell_type": "code",
   "execution_count": 47,
   "metadata": {
    "pycharm": {
     "name": "#%%\n"
    }
   },
   "outputs": [],
   "source": [
    "X_scale = pd.DataFrame(X_scale, columns=number_attribs.columns) # 스케일링 데이터 프레임화"
   ]
  },
  {
   "cell_type": "code",
   "execution_count": 48,
   "metadata": {
    "pycharm": {
     "name": "#%%\n"
    }
   },
   "outputs": [
    {
     "data": {
      "text/html": [
       "<div>\n",
       "<style scoped>\n",
       "    .dataframe tbody tr th:only-of-type {\n",
       "        vertical-align: middle;\n",
       "    }\n",
       "\n",
       "    .dataframe tbody tr th {\n",
       "        vertical-align: top;\n",
       "    }\n",
       "\n",
       "    .dataframe thead th {\n",
       "        text-align: right;\n",
       "    }\n",
       "</style>\n",
       "<table border=\"1\" class=\"dataframe\">\n",
       "  <thead>\n",
       "    <tr style=\"text-align: right;\">\n",
       "      <th></th>\n",
       "      <th>release_time</th>\n",
       "      <th>time</th>\n",
       "      <th>dir_prev_bfnum</th>\n",
       "      <th>dir_prev_num</th>\n",
       "      <th>num_staff</th>\n",
       "      <th>num_actor</th>\n",
       "    </tr>\n",
       "  </thead>\n",
       "  <tbody>\n",
       "    <tr>\n",
       "      <th>0</th>\n",
       "      <td>1.184476</td>\n",
       "      <td>-0.108917</td>\n",
       "      <td>-0.371783</td>\n",
       "      <td>-0.732566</td>\n",
       "      <td>-0.379286</td>\n",
       "      <td>-0.696722</td>\n",
       "    </tr>\n",
       "    <tr>\n",
       "      <th>1</th>\n",
       "      <td>1.184476</td>\n",
       "      <td>0.388896</td>\n",
       "      <td>0.588730</td>\n",
       "      <td>0.952435</td>\n",
       "      <td>1.417543</td>\n",
       "      <td>-0.272039</td>\n",
       "    </tr>\n",
       "    <tr>\n",
       "      <th>2</th>\n",
       "      <td>-0.278333</td>\n",
       "      <td>0.286405</td>\n",
       "      <td>-0.189227</td>\n",
       "      <td>2.637436</td>\n",
       "      <td>1.150446</td>\n",
       "      <td>0.152644</td>\n",
       "    </tr>\n",
       "    <tr>\n",
       "      <th>3</th>\n",
       "      <td>0.014229</td>\n",
       "      <td>-0.035709</td>\n",
       "      <td>-0.352025</td>\n",
       "      <td>0.952435</td>\n",
       "      <td>-0.810283</td>\n",
       "      <td>1.002011</td>\n",
       "    </tr>\n",
       "    <tr>\n",
       "      <th>4</th>\n",
       "      <td>1.184476</td>\n",
       "      <td>0.066782</td>\n",
       "      <td>-0.371782</td>\n",
       "      <td>0.109935</td>\n",
       "      <td>0.591973</td>\n",
       "      <td>-0.696722</td>\n",
       "    </tr>\n",
       "    <tr>\n",
       "      <th>...</th>\n",
       "      <td>...</td>\n",
       "      <td>...</td>\n",
       "      <td>...</td>\n",
       "      <td>...</td>\n",
       "      <td>...</td>\n",
       "      <td>...</td>\n",
       "    </tr>\n",
       "    <tr>\n",
       "      <th>838</th>\n",
       "      <td>1.184476</td>\n",
       "      <td>-0.372466</td>\n",
       "      <td>-0.369641</td>\n",
       "      <td>0.109935</td>\n",
       "      <td>-0.907408</td>\n",
       "      <td>0.152644</td>\n",
       "    </tr>\n",
       "    <tr>\n",
       "      <th>839</th>\n",
       "      <td>0.891914</td>\n",
       "      <td>-0.255333</td>\n",
       "      <td>-0.371783</td>\n",
       "      <td>-0.732566</td>\n",
       "      <td>-0.822423</td>\n",
       "      <td>-0.696722</td>\n",
       "    </tr>\n",
       "    <tr>\n",
       "      <th>840</th>\n",
       "      <td>0.891914</td>\n",
       "      <td>0.052140</td>\n",
       "      <td>-0.371783</td>\n",
       "      <td>-0.732566</td>\n",
       "      <td>0.428073</td>\n",
       "      <td>0.152644</td>\n",
       "    </tr>\n",
       "    <tr>\n",
       "      <th>841</th>\n",
       "      <td>0.891914</td>\n",
       "      <td>-0.021068</td>\n",
       "      <td>-0.329861</td>\n",
       "      <td>0.109935</td>\n",
       "      <td>-0.518905</td>\n",
       "      <td>1.426694</td>\n",
       "    </tr>\n",
       "    <tr>\n",
       "      <th>842</th>\n",
       "      <td>0.891914</td>\n",
       "      <td>-0.401749</td>\n",
       "      <td>-0.371783</td>\n",
       "      <td>-0.732566</td>\n",
       "      <td>-0.870986</td>\n",
       "      <td>0.152644</td>\n",
       "    </tr>\n",
       "  </tbody>\n",
       "</table>\n",
       "<p>843 rows × 6 columns</p>\n",
       "</div>"
      ],
      "text/plain": [
       "     release_time      time  dir_prev_bfnum  dir_prev_num  num_staff  \\\n",
       "0        1.184476 -0.108917       -0.371783     -0.732566  -0.379286   \n",
       "1        1.184476  0.388896        0.588730      0.952435   1.417543   \n",
       "2       -0.278333  0.286405       -0.189227      2.637436   1.150446   \n",
       "3        0.014229 -0.035709       -0.352025      0.952435  -0.810283   \n",
       "4        1.184476  0.066782       -0.371782      0.109935   0.591973   \n",
       "..            ...       ...             ...           ...        ...   \n",
       "838      1.184476 -0.372466       -0.369641      0.109935  -0.907408   \n",
       "839      0.891914 -0.255333       -0.371783     -0.732566  -0.822423   \n",
       "840      0.891914  0.052140       -0.371783     -0.732566   0.428073   \n",
       "841      0.891914 -0.021068       -0.329861      0.109935  -0.518905   \n",
       "842      0.891914 -0.401749       -0.371783     -0.732566  -0.870986   \n",
       "\n",
       "     num_actor  \n",
       "0    -0.696722  \n",
       "1    -0.272039  \n",
       "2     0.152644  \n",
       "3     1.002011  \n",
       "4    -0.696722  \n",
       "..         ...  \n",
       "838   0.152644  \n",
       "839  -0.696722  \n",
       "840   0.152644  \n",
       "841   1.426694  \n",
       "842   0.152644  \n",
       "\n",
       "[843 rows x 6 columns]"
      ]
     },
     "execution_count": 48,
     "metadata": {},
     "output_type": "execute_result"
    }
   ],
   "source": [
    "X_scale"
   ]
  },
  {
   "cell_type": "code",
   "execution_count": 49,
   "metadata": {
    "pycharm": {
     "name": "#%%\n"
    }
   },
   "outputs": [
    {
     "data": {
      "text/plain": [
       "array([[0., 0., 0., ..., 0., 0., 1.],\n",
       "       [0., 0., 1., ..., 0., 0., 1.],\n",
       "       [0., 0., 0., ..., 1., 0., 0.],\n",
       "       ...,\n",
       "       [0., 0., 1., ..., 0., 0., 1.],\n",
       "       [0., 0., 0., ..., 0., 0., 1.],\n",
       "       [0., 0., 0., ..., 0., 0., 1.]])"
      ]
     },
     "execution_count": 49,
     "metadata": {},
     "output_type": "execute_result"
    }
   ],
   "source": [
    "# 원핫인코딩 함수 적용\n",
    "hot1_encoder = OneHotEncoder(sparse=False)\n",
    "X_1hot = hot1_encoder.fit_transform(cat_one_hot_attribs)\n",
    "X_1hot"
   ]
  },
  {
   "cell_type": "markdown",
   "metadata": {},
   "source": []
  },
  {
   "cell_type": "code",
   "execution_count": 50,
   "metadata": {
    "pycharm": {
     "name": "#%%\n"
    }
   },
   "outputs": [],
   "source": [
    "X_1hot = pd.DataFrame(X_1hot, columns=['SF', '공포', '느와르', '다큐멘터리', '드라마', '멜로/로맨스', '뮤지컬', '미스터리', '서스펜스','애니메이션', '액션', '코미디','12세 관람가', '15세 관람가', '전체 관람가', '청소년 관람불가'])\n",
    "# 데이터 프레임화"
   ]
  },
  {
   "cell_type": "code",
   "execution_count": 51,
   "metadata": {
    "pycharm": {
     "name": "#%%\n"
    }
   },
   "outputs": [
    {
     "data": {
      "text/html": [
       "<div>\n",
       "<style scoped>\n",
       "    .dataframe tbody tr th:only-of-type {\n",
       "        vertical-align: middle;\n",
       "    }\n",
       "\n",
       "    .dataframe tbody tr th {\n",
       "        vertical-align: top;\n",
       "    }\n",
       "\n",
       "    .dataframe thead th {\n",
       "        text-align: right;\n",
       "    }\n",
       "</style>\n",
       "<table border=\"1\" class=\"dataframe\">\n",
       "  <thead>\n",
       "    <tr style=\"text-align: right;\">\n",
       "      <th></th>\n",
       "      <th>SF</th>\n",
       "      <th>공포</th>\n",
       "      <th>느와르</th>\n",
       "      <th>다큐멘터리</th>\n",
       "      <th>드라마</th>\n",
       "      <th>멜로/로맨스</th>\n",
       "      <th>뮤지컬</th>\n",
       "      <th>미스터리</th>\n",
       "      <th>서스펜스</th>\n",
       "      <th>애니메이션</th>\n",
       "      <th>액션</th>\n",
       "      <th>코미디</th>\n",
       "      <th>12세 관람가</th>\n",
       "      <th>15세 관람가</th>\n",
       "      <th>전체 관람가</th>\n",
       "      <th>청소년 관람불가</th>\n",
       "    </tr>\n",
       "  </thead>\n",
       "  <tbody>\n",
       "    <tr>\n",
       "      <th>0</th>\n",
       "      <td>0.0</td>\n",
       "      <td>0.0</td>\n",
       "      <td>0.0</td>\n",
       "      <td>0.0</td>\n",
       "      <td>0.0</td>\n",
       "      <td>0.0</td>\n",
       "      <td>0.0</td>\n",
       "      <td>0.0</td>\n",
       "      <td>0.0</td>\n",
       "      <td>0.0</td>\n",
       "      <td>1.0</td>\n",
       "      <td>0.0</td>\n",
       "      <td>0.0</td>\n",
       "      <td>0.0</td>\n",
       "      <td>0.0</td>\n",
       "      <td>1.0</td>\n",
       "    </tr>\n",
       "    <tr>\n",
       "      <th>1</th>\n",
       "      <td>0.0</td>\n",
       "      <td>0.0</td>\n",
       "      <td>1.0</td>\n",
       "      <td>0.0</td>\n",
       "      <td>0.0</td>\n",
       "      <td>0.0</td>\n",
       "      <td>0.0</td>\n",
       "      <td>0.0</td>\n",
       "      <td>0.0</td>\n",
       "      <td>0.0</td>\n",
       "      <td>0.0</td>\n",
       "      <td>0.0</td>\n",
       "      <td>0.0</td>\n",
       "      <td>0.0</td>\n",
       "      <td>0.0</td>\n",
       "      <td>1.0</td>\n",
       "    </tr>\n",
       "    <tr>\n",
       "      <th>2</th>\n",
       "      <td>0.0</td>\n",
       "      <td>0.0</td>\n",
       "      <td>0.0</td>\n",
       "      <td>0.0</td>\n",
       "      <td>0.0</td>\n",
       "      <td>0.0</td>\n",
       "      <td>0.0</td>\n",
       "      <td>0.0</td>\n",
       "      <td>0.0</td>\n",
       "      <td>0.0</td>\n",
       "      <td>1.0</td>\n",
       "      <td>0.0</td>\n",
       "      <td>0.0</td>\n",
       "      <td>1.0</td>\n",
       "      <td>0.0</td>\n",
       "      <td>0.0</td>\n",
       "    </tr>\n",
       "    <tr>\n",
       "      <th>3</th>\n",
       "      <td>0.0</td>\n",
       "      <td>0.0</td>\n",
       "      <td>0.0</td>\n",
       "      <td>0.0</td>\n",
       "      <td>0.0</td>\n",
       "      <td>0.0</td>\n",
       "      <td>0.0</td>\n",
       "      <td>0.0</td>\n",
       "      <td>0.0</td>\n",
       "      <td>0.0</td>\n",
       "      <td>0.0</td>\n",
       "      <td>1.0</td>\n",
       "      <td>0.0</td>\n",
       "      <td>0.0</td>\n",
       "      <td>1.0</td>\n",
       "      <td>0.0</td>\n",
       "    </tr>\n",
       "    <tr>\n",
       "      <th>4</th>\n",
       "      <td>0.0</td>\n",
       "      <td>0.0</td>\n",
       "      <td>0.0</td>\n",
       "      <td>0.0</td>\n",
       "      <td>0.0</td>\n",
       "      <td>0.0</td>\n",
       "      <td>0.0</td>\n",
       "      <td>0.0</td>\n",
       "      <td>0.0</td>\n",
       "      <td>0.0</td>\n",
       "      <td>0.0</td>\n",
       "      <td>1.0</td>\n",
       "      <td>0.0</td>\n",
       "      <td>1.0</td>\n",
       "      <td>0.0</td>\n",
       "      <td>0.0</td>\n",
       "    </tr>\n",
       "    <tr>\n",
       "      <th>...</th>\n",
       "      <td>...</td>\n",
       "      <td>...</td>\n",
       "      <td>...</td>\n",
       "      <td>...</td>\n",
       "      <td>...</td>\n",
       "      <td>...</td>\n",
       "      <td>...</td>\n",
       "      <td>...</td>\n",
       "      <td>...</td>\n",
       "      <td>...</td>\n",
       "      <td>...</td>\n",
       "      <td>...</td>\n",
       "      <td>...</td>\n",
       "      <td>...</td>\n",
       "      <td>...</td>\n",
       "      <td>...</td>\n",
       "    </tr>\n",
       "    <tr>\n",
       "      <th>838</th>\n",
       "      <td>0.0</td>\n",
       "      <td>0.0</td>\n",
       "      <td>0.0</td>\n",
       "      <td>0.0</td>\n",
       "      <td>1.0</td>\n",
       "      <td>0.0</td>\n",
       "      <td>0.0</td>\n",
       "      <td>0.0</td>\n",
       "      <td>0.0</td>\n",
       "      <td>0.0</td>\n",
       "      <td>0.0</td>\n",
       "      <td>0.0</td>\n",
       "      <td>0.0</td>\n",
       "      <td>1.0</td>\n",
       "      <td>0.0</td>\n",
       "      <td>0.0</td>\n",
       "    </tr>\n",
       "    <tr>\n",
       "      <th>839</th>\n",
       "      <td>0.0</td>\n",
       "      <td>0.0</td>\n",
       "      <td>0.0</td>\n",
       "      <td>1.0</td>\n",
       "      <td>0.0</td>\n",
       "      <td>0.0</td>\n",
       "      <td>0.0</td>\n",
       "      <td>0.0</td>\n",
       "      <td>0.0</td>\n",
       "      <td>0.0</td>\n",
       "      <td>0.0</td>\n",
       "      <td>0.0</td>\n",
       "      <td>1.0</td>\n",
       "      <td>0.0</td>\n",
       "      <td>0.0</td>\n",
       "      <td>0.0</td>\n",
       "    </tr>\n",
       "    <tr>\n",
       "      <th>840</th>\n",
       "      <td>0.0</td>\n",
       "      <td>0.0</td>\n",
       "      <td>1.0</td>\n",
       "      <td>0.0</td>\n",
       "      <td>0.0</td>\n",
       "      <td>0.0</td>\n",
       "      <td>0.0</td>\n",
       "      <td>0.0</td>\n",
       "      <td>0.0</td>\n",
       "      <td>0.0</td>\n",
       "      <td>0.0</td>\n",
       "      <td>0.0</td>\n",
       "      <td>0.0</td>\n",
       "      <td>0.0</td>\n",
       "      <td>0.0</td>\n",
       "      <td>1.0</td>\n",
       "    </tr>\n",
       "    <tr>\n",
       "      <th>841</th>\n",
       "      <td>0.0</td>\n",
       "      <td>0.0</td>\n",
       "      <td>0.0</td>\n",
       "      <td>0.0</td>\n",
       "      <td>1.0</td>\n",
       "      <td>0.0</td>\n",
       "      <td>0.0</td>\n",
       "      <td>0.0</td>\n",
       "      <td>0.0</td>\n",
       "      <td>0.0</td>\n",
       "      <td>0.0</td>\n",
       "      <td>0.0</td>\n",
       "      <td>0.0</td>\n",
       "      <td>0.0</td>\n",
       "      <td>0.0</td>\n",
       "      <td>1.0</td>\n",
       "    </tr>\n",
       "    <tr>\n",
       "      <th>842</th>\n",
       "      <td>0.0</td>\n",
       "      <td>0.0</td>\n",
       "      <td>0.0</td>\n",
       "      <td>0.0</td>\n",
       "      <td>0.0</td>\n",
       "      <td>1.0</td>\n",
       "      <td>0.0</td>\n",
       "      <td>0.0</td>\n",
       "      <td>0.0</td>\n",
       "      <td>0.0</td>\n",
       "      <td>0.0</td>\n",
       "      <td>0.0</td>\n",
       "      <td>0.0</td>\n",
       "      <td>0.0</td>\n",
       "      <td>0.0</td>\n",
       "      <td>1.0</td>\n",
       "    </tr>\n",
       "  </tbody>\n",
       "</table>\n",
       "<p>843 rows × 16 columns</p>\n",
       "</div>"
      ],
      "text/plain": [
       "      SF   공포  느와르  다큐멘터리  드라마  멜로/로맨스  뮤지컬  미스터리  서스펜스  애니메이션   액션  코미디  \\\n",
       "0    0.0  0.0  0.0    0.0  0.0     0.0  0.0   0.0   0.0    0.0  1.0  0.0   \n",
       "1    0.0  0.0  1.0    0.0  0.0     0.0  0.0   0.0   0.0    0.0  0.0  0.0   \n",
       "2    0.0  0.0  0.0    0.0  0.0     0.0  0.0   0.0   0.0    0.0  1.0  0.0   \n",
       "3    0.0  0.0  0.0    0.0  0.0     0.0  0.0   0.0   0.0    0.0  0.0  1.0   \n",
       "4    0.0  0.0  0.0    0.0  0.0     0.0  0.0   0.0   0.0    0.0  0.0  1.0   \n",
       "..   ...  ...  ...    ...  ...     ...  ...   ...   ...    ...  ...  ...   \n",
       "838  0.0  0.0  0.0    0.0  1.0     0.0  0.0   0.0   0.0    0.0  0.0  0.0   \n",
       "839  0.0  0.0  0.0    1.0  0.0     0.0  0.0   0.0   0.0    0.0  0.0  0.0   \n",
       "840  0.0  0.0  1.0    0.0  0.0     0.0  0.0   0.0   0.0    0.0  0.0  0.0   \n",
       "841  0.0  0.0  0.0    0.0  1.0     0.0  0.0   0.0   0.0    0.0  0.0  0.0   \n",
       "842  0.0  0.0  0.0    0.0  0.0     1.0  0.0   0.0   0.0    0.0  0.0  0.0   \n",
       "\n",
       "     12세 관람가  15세 관람가  전체 관람가  청소년 관람불가  \n",
       "0        0.0      0.0     0.0       1.0  \n",
       "1        0.0      0.0     0.0       1.0  \n",
       "2        0.0      1.0     0.0       0.0  \n",
       "3        0.0      0.0     1.0       0.0  \n",
       "4        0.0      1.0     0.0       0.0  \n",
       "..       ...      ...     ...       ...  \n",
       "838      0.0      1.0     0.0       0.0  \n",
       "839      1.0      0.0     0.0       0.0  \n",
       "840      0.0      0.0     0.0       1.0  \n",
       "841      0.0      0.0     0.0       1.0  \n",
       "842      0.0      0.0     0.0       1.0  \n",
       "\n",
       "[843 rows x 16 columns]"
      ]
     },
     "execution_count": 51,
     "metadata": {},
     "output_type": "execute_result"
    }
   ],
   "source": [
    "X_1hot"
   ]
  },
  {
   "cell_type": "code",
   "execution_count": 52,
   "metadata": {
    "pycharm": {
     "name": "#%%\n"
    }
   },
   "outputs": [],
   "source": [
    "ord_encoder = OrdinalEncoder()\n",
    "X_ord = ord_encoder.fit_transform(cat_ordi_attribs)\n",
    "X_ord = pd.DataFrame(X_ord, columns= ['distributor'])  # Ordinal Eocoder 적용"
   ]
  },
  {
   "cell_type": "code",
   "execution_count": 53,
   "metadata": {
    "pycharm": {
     "name": "#%%\n"
    }
   },
   "outputs": [],
   "source": [
    "X = pd.concat([X_scale, X_1hot, X_ord], axis = 1)  ## 최종적인 데이터 프레임 합치기"
   ]
  },
  {
   "cell_type": "markdown",
   "metadata": {},
   "source": [
    "## train test 분리"
   ]
  },
  {
   "cell_type": "code",
   "execution_count": 54,
   "metadata": {
    "pycharm": {
     "name": "#%%\n"
    }
   },
   "outputs": [],
   "source": [
    "test = X[600:]\n",
    "X = X[0:600]\n",
    "y = y[:600]"
   ]
  },
  {
   "cell_type": "code",
   "execution_count": 55,
   "metadata": {
    "pycharm": {
     "name": "#%%\n"
    }
   },
   "outputs": [
    {
     "data": {
      "text/html": [
       "<div>\n",
       "<style scoped>\n",
       "    .dataframe tbody tr th:only-of-type {\n",
       "        vertical-align: middle;\n",
       "    }\n",
       "\n",
       "    .dataframe tbody tr th {\n",
       "        vertical-align: top;\n",
       "    }\n",
       "\n",
       "    .dataframe thead th {\n",
       "        text-align: right;\n",
       "    }\n",
       "</style>\n",
       "<table border=\"1\" class=\"dataframe\">\n",
       "  <thead>\n",
       "    <tr style=\"text-align: right;\">\n",
       "      <th></th>\n",
       "      <th>release_time</th>\n",
       "      <th>time</th>\n",
       "      <th>dir_prev_bfnum</th>\n",
       "      <th>dir_prev_num</th>\n",
       "      <th>num_staff</th>\n",
       "      <th>num_actor</th>\n",
       "      <th>SF</th>\n",
       "      <th>공포</th>\n",
       "      <th>느와르</th>\n",
       "      <th>다큐멘터리</th>\n",
       "      <th>...</th>\n",
       "      <th>미스터리</th>\n",
       "      <th>서스펜스</th>\n",
       "      <th>애니메이션</th>\n",
       "      <th>액션</th>\n",
       "      <th>코미디</th>\n",
       "      <th>12세 관람가</th>\n",
       "      <th>15세 관람가</th>\n",
       "      <th>전체 관람가</th>\n",
       "      <th>청소년 관람불가</th>\n",
       "      <th>distributor</th>\n",
       "    </tr>\n",
       "  </thead>\n",
       "  <tbody>\n",
       "    <tr>\n",
       "      <th>600</th>\n",
       "      <td>-1.741142</td>\n",
       "      <td>0.315688</td>\n",
       "      <td>-0.123280</td>\n",
       "      <td>0.952435</td>\n",
       "      <td>0.913702</td>\n",
       "      <td>-0.272039</td>\n",
       "      <td>0.0</td>\n",
       "      <td>0.0</td>\n",
       "      <td>1.0</td>\n",
       "      <td>0.0</td>\n",
       "      <td>...</td>\n",
       "      <td>0.0</td>\n",
       "      <td>0.0</td>\n",
       "      <td>0.0</td>\n",
       "      <td>0.0</td>\n",
       "      <td>0.0</td>\n",
       "      <td>0.0</td>\n",
       "      <td>0.0</td>\n",
       "      <td>0.0</td>\n",
       "      <td>1.0</td>\n",
       "      <td>2.0</td>\n",
       "    </tr>\n",
       "    <tr>\n",
       "      <th>601</th>\n",
       "      <td>-1.741142</td>\n",
       "      <td>0.139989</td>\n",
       "      <td>-0.088409</td>\n",
       "      <td>2.637436</td>\n",
       "      <td>0.737661</td>\n",
       "      <td>-0.272039</td>\n",
       "      <td>0.0</td>\n",
       "      <td>0.0</td>\n",
       "      <td>0.0</td>\n",
       "      <td>0.0</td>\n",
       "      <td>...</td>\n",
       "      <td>0.0</td>\n",
       "      <td>0.0</td>\n",
       "      <td>0.0</td>\n",
       "      <td>0.0</td>\n",
       "      <td>0.0</td>\n",
       "      <td>1.0</td>\n",
       "      <td>0.0</td>\n",
       "      <td>0.0</td>\n",
       "      <td>0.0</td>\n",
       "      <td>0.0</td>\n",
       "    </tr>\n",
       "    <tr>\n",
       "      <th>602</th>\n",
       "      <td>-1.741142</td>\n",
       "      <td>0.169273</td>\n",
       "      <td>3.106604</td>\n",
       "      <td>1.794936</td>\n",
       "      <td>1.611794</td>\n",
       "      <td>1.426694</td>\n",
       "      <td>0.0</td>\n",
       "      <td>0.0</td>\n",
       "      <td>0.0</td>\n",
       "      <td>0.0</td>\n",
       "      <td>...</td>\n",
       "      <td>0.0</td>\n",
       "      <td>0.0</td>\n",
       "      <td>0.0</td>\n",
       "      <td>0.0</td>\n",
       "      <td>0.0</td>\n",
       "      <td>1.0</td>\n",
       "      <td>0.0</td>\n",
       "      <td>0.0</td>\n",
       "      <td>0.0</td>\n",
       "      <td>0.0</td>\n",
       "    </tr>\n",
       "    <tr>\n",
       "      <th>603</th>\n",
       "      <td>-1.448580</td>\n",
       "      <td>0.183914</td>\n",
       "      <td>0.199878</td>\n",
       "      <td>0.952435</td>\n",
       "      <td>1.545020</td>\n",
       "      <td>-0.696722</td>\n",
       "      <td>0.0</td>\n",
       "      <td>0.0</td>\n",
       "      <td>0.0</td>\n",
       "      <td>0.0</td>\n",
       "      <td>...</td>\n",
       "      <td>0.0</td>\n",
       "      <td>0.0</td>\n",
       "      <td>0.0</td>\n",
       "      <td>1.0</td>\n",
       "      <td>0.0</td>\n",
       "      <td>0.0</td>\n",
       "      <td>1.0</td>\n",
       "      <td>0.0</td>\n",
       "      <td>0.0</td>\n",
       "      <td>0.0</td>\n",
       "    </tr>\n",
       "    <tr>\n",
       "      <th>604</th>\n",
       "      <td>-1.448580</td>\n",
       "      <td>0.096065</td>\n",
       "      <td>-0.345539</td>\n",
       "      <td>0.109935</td>\n",
       "      <td>1.375050</td>\n",
       "      <td>-1.121406</td>\n",
       "      <td>0.0</td>\n",
       "      <td>1.0</td>\n",
       "      <td>0.0</td>\n",
       "      <td>0.0</td>\n",
       "      <td>...</td>\n",
       "      <td>0.0</td>\n",
       "      <td>0.0</td>\n",
       "      <td>0.0</td>\n",
       "      <td>0.0</td>\n",
       "      <td>0.0</td>\n",
       "      <td>0.0</td>\n",
       "      <td>1.0</td>\n",
       "      <td>0.0</td>\n",
       "      <td>0.0</td>\n",
       "      <td>0.0</td>\n",
       "    </tr>\n",
       "    <tr>\n",
       "      <th>...</th>\n",
       "      <td>...</td>\n",
       "      <td>...</td>\n",
       "      <td>...</td>\n",
       "      <td>...</td>\n",
       "      <td>...</td>\n",
       "      <td>...</td>\n",
       "      <td>...</td>\n",
       "      <td>...</td>\n",
       "      <td>...</td>\n",
       "      <td>...</td>\n",
       "      <td>...</td>\n",
       "      <td>...</td>\n",
       "      <td>...</td>\n",
       "      <td>...</td>\n",
       "      <td>...</td>\n",
       "      <td>...</td>\n",
       "      <td>...</td>\n",
       "      <td>...</td>\n",
       "      <td>...</td>\n",
       "      <td>...</td>\n",
       "      <td>...</td>\n",
       "    </tr>\n",
       "    <tr>\n",
       "      <th>838</th>\n",
       "      <td>1.184476</td>\n",
       "      <td>-0.372466</td>\n",
       "      <td>-0.369641</td>\n",
       "      <td>0.109935</td>\n",
       "      <td>-0.907408</td>\n",
       "      <td>0.152644</td>\n",
       "      <td>0.0</td>\n",
       "      <td>0.0</td>\n",
       "      <td>0.0</td>\n",
       "      <td>0.0</td>\n",
       "      <td>...</td>\n",
       "      <td>0.0</td>\n",
       "      <td>0.0</td>\n",
       "      <td>0.0</td>\n",
       "      <td>0.0</td>\n",
       "      <td>0.0</td>\n",
       "      <td>0.0</td>\n",
       "      <td>1.0</td>\n",
       "      <td>0.0</td>\n",
       "      <td>0.0</td>\n",
       "      <td>3.0</td>\n",
       "    </tr>\n",
       "    <tr>\n",
       "      <th>839</th>\n",
       "      <td>0.891914</td>\n",
       "      <td>-0.255333</td>\n",
       "      <td>-0.371783</td>\n",
       "      <td>-0.732566</td>\n",
       "      <td>-0.822423</td>\n",
       "      <td>-0.696722</td>\n",
       "      <td>0.0</td>\n",
       "      <td>0.0</td>\n",
       "      <td>0.0</td>\n",
       "      <td>1.0</td>\n",
       "      <td>...</td>\n",
       "      <td>0.0</td>\n",
       "      <td>0.0</td>\n",
       "      <td>0.0</td>\n",
       "      <td>0.0</td>\n",
       "      <td>0.0</td>\n",
       "      <td>1.0</td>\n",
       "      <td>0.0</td>\n",
       "      <td>0.0</td>\n",
       "      <td>0.0</td>\n",
       "      <td>0.0</td>\n",
       "    </tr>\n",
       "    <tr>\n",
       "      <th>840</th>\n",
       "      <td>0.891914</td>\n",
       "      <td>0.052140</td>\n",
       "      <td>-0.371783</td>\n",
       "      <td>-0.732566</td>\n",
       "      <td>0.428073</td>\n",
       "      <td>0.152644</td>\n",
       "      <td>0.0</td>\n",
       "      <td>0.0</td>\n",
       "      <td>1.0</td>\n",
       "      <td>0.0</td>\n",
       "      <td>...</td>\n",
       "      <td>0.0</td>\n",
       "      <td>0.0</td>\n",
       "      <td>0.0</td>\n",
       "      <td>0.0</td>\n",
       "      <td>0.0</td>\n",
       "      <td>0.0</td>\n",
       "      <td>0.0</td>\n",
       "      <td>0.0</td>\n",
       "      <td>1.0</td>\n",
       "      <td>3.0</td>\n",
       "    </tr>\n",
       "    <tr>\n",
       "      <th>841</th>\n",
       "      <td>0.891914</td>\n",
       "      <td>-0.021068</td>\n",
       "      <td>-0.329861</td>\n",
       "      <td>0.109935</td>\n",
       "      <td>-0.518905</td>\n",
       "      <td>1.426694</td>\n",
       "      <td>0.0</td>\n",
       "      <td>0.0</td>\n",
       "      <td>0.0</td>\n",
       "      <td>0.0</td>\n",
       "      <td>...</td>\n",
       "      <td>0.0</td>\n",
       "      <td>0.0</td>\n",
       "      <td>0.0</td>\n",
       "      <td>0.0</td>\n",
       "      <td>0.0</td>\n",
       "      <td>0.0</td>\n",
       "      <td>0.0</td>\n",
       "      <td>0.0</td>\n",
       "      <td>1.0</td>\n",
       "      <td>3.0</td>\n",
       "    </tr>\n",
       "    <tr>\n",
       "      <th>842</th>\n",
       "      <td>0.891914</td>\n",
       "      <td>-0.401749</td>\n",
       "      <td>-0.371783</td>\n",
       "      <td>-0.732566</td>\n",
       "      <td>-0.870986</td>\n",
       "      <td>0.152644</td>\n",
       "      <td>0.0</td>\n",
       "      <td>0.0</td>\n",
       "      <td>0.0</td>\n",
       "      <td>0.0</td>\n",
       "      <td>...</td>\n",
       "      <td>0.0</td>\n",
       "      <td>0.0</td>\n",
       "      <td>0.0</td>\n",
       "      <td>0.0</td>\n",
       "      <td>0.0</td>\n",
       "      <td>0.0</td>\n",
       "      <td>0.0</td>\n",
       "      <td>0.0</td>\n",
       "      <td>1.0</td>\n",
       "      <td>1.0</td>\n",
       "    </tr>\n",
       "  </tbody>\n",
       "</table>\n",
       "<p>243 rows × 23 columns</p>\n",
       "</div>"
      ],
      "text/plain": [
       "     release_time      time  dir_prev_bfnum  dir_prev_num  num_staff  \\\n",
       "600     -1.741142  0.315688       -0.123280      0.952435   0.913702   \n",
       "601     -1.741142  0.139989       -0.088409      2.637436   0.737661   \n",
       "602     -1.741142  0.169273        3.106604      1.794936   1.611794   \n",
       "603     -1.448580  0.183914        0.199878      0.952435   1.545020   \n",
       "604     -1.448580  0.096065       -0.345539      0.109935   1.375050   \n",
       "..            ...       ...             ...           ...        ...   \n",
       "838      1.184476 -0.372466       -0.369641      0.109935  -0.907408   \n",
       "839      0.891914 -0.255333       -0.371783     -0.732566  -0.822423   \n",
       "840      0.891914  0.052140       -0.371783     -0.732566   0.428073   \n",
       "841      0.891914 -0.021068       -0.329861      0.109935  -0.518905   \n",
       "842      0.891914 -0.401749       -0.371783     -0.732566  -0.870986   \n",
       "\n",
       "     num_actor   SF   공포  느와르  다큐멘터리  ...  미스터리  서스펜스  애니메이션   액션  코미디  \\\n",
       "600  -0.272039  0.0  0.0  1.0    0.0  ...   0.0   0.0    0.0  0.0  0.0   \n",
       "601  -0.272039  0.0  0.0  0.0    0.0  ...   0.0   0.0    0.0  0.0  0.0   \n",
       "602   1.426694  0.0  0.0  0.0    0.0  ...   0.0   0.0    0.0  0.0  0.0   \n",
       "603  -0.696722  0.0  0.0  0.0    0.0  ...   0.0   0.0    0.0  1.0  0.0   \n",
       "604  -1.121406  0.0  1.0  0.0    0.0  ...   0.0   0.0    0.0  0.0  0.0   \n",
       "..         ...  ...  ...  ...    ...  ...   ...   ...    ...  ...  ...   \n",
       "838   0.152644  0.0  0.0  0.0    0.0  ...   0.0   0.0    0.0  0.0  0.0   \n",
       "839  -0.696722  0.0  0.0  0.0    1.0  ...   0.0   0.0    0.0  0.0  0.0   \n",
       "840   0.152644  0.0  0.0  1.0    0.0  ...   0.0   0.0    0.0  0.0  0.0   \n",
       "841   1.426694  0.0  0.0  0.0    0.0  ...   0.0   0.0    0.0  0.0  0.0   \n",
       "842   0.152644  0.0  0.0  0.0    0.0  ...   0.0   0.0    0.0  0.0  0.0   \n",
       "\n",
       "     12세 관람가  15세 관람가  전체 관람가  청소년 관람불가  distributor  \n",
       "600      0.0      0.0     0.0       1.0          2.0  \n",
       "601      1.0      0.0     0.0       0.0          0.0  \n",
       "602      1.0      0.0     0.0       0.0          0.0  \n",
       "603      0.0      1.0     0.0       0.0          0.0  \n",
       "604      0.0      1.0     0.0       0.0          0.0  \n",
       "..       ...      ...     ...       ...          ...  \n",
       "838      0.0      1.0     0.0       0.0          3.0  \n",
       "839      1.0      0.0     0.0       0.0          0.0  \n",
       "840      0.0      0.0     0.0       1.0          3.0  \n",
       "841      0.0      0.0     0.0       1.0          3.0  \n",
       "842      0.0      0.0     0.0       1.0          1.0  \n",
       "\n",
       "[243 rows x 23 columns]"
      ]
     },
     "execution_count": 55,
     "metadata": {},
     "output_type": "execute_result"
    }
   ],
   "source": [
    "test"
   ]
  },
  {
   "cell_type": "code",
   "execution_count": 56,
   "metadata": {
    "pycharm": {
     "name": "#%%\n"
    }
   },
   "outputs": [
    {
     "data": {
      "text/plain": [
       "((540, 23), (60, 23), (540,), (60,))"
      ]
     },
     "execution_count": 56,
     "metadata": {},
     "output_type": "execute_result"
    }
   ],
   "source": [
    "from sklearn.model_selection import train_test_split\n",
    "\n",
    "X_train, X_test, y_train, y_test = train_test_split(X, y, test_size= 0.1, shuffle= 1004)\n",
    "X_train.shape, X_test.shape, y_train.shape, y_test.shape"
   ]
  },
  {
   "cell_type": "markdown",
   "metadata": {},
   "source": [
    "## 모델 학습"
   ]
  },
  {
   "cell_type": "code",
   "execution_count": 57,
   "metadata": {
    "pycharm": {
     "name": "#%%\n"
    }
   },
   "outputs": [],
   "source": [
    "# 모델 import\n",
    "from sklearn.linear_model import LinearRegression\n",
    "from sklearn.metrics import r2_score, mean_squared_error, mean_absolute_error"
   ]
  },
  {
   "cell_type": "code",
   "execution_count": 58,
   "metadata": {
    "pycharm": {
     "name": "#%%\n"
    }
   },
   "outputs": [],
   "source": [
    "model = LinearRegression() # 모델 생성"
   ]
  },
  {
   "cell_type": "code",
   "execution_count": 59,
   "metadata": {
    "pycharm": {
     "name": "#%%\n"
    }
   },
   "outputs": [
    {
     "data": {
      "text/plain": [
       "LinearRegression()"
      ]
     },
     "execution_count": 59,
     "metadata": {},
     "output_type": "execute_result"
    }
   ],
   "source": [
    "model.fit(X_train,y_train) # 모델 학습"
   ]
  },
  {
   "cell_type": "code",
   "execution_count": 60,
   "metadata": {
    "pycharm": {
     "name": "#%%\n"
    }
   },
   "outputs": [],
   "source": [
    "Linear_predicted = model.predict(X_test)"
   ]
  },
  {
   "cell_type": "code",
   "execution_count": 61,
   "metadata": {
    "pycharm": {
     "name": "#%%\n"
    }
   },
   "outputs": [
    {
     "name": "stdout",
     "output_type": "stream",
     "text": [
      "r2 score : 0.05063210699580456\n",
      "RMSE : 648070.0913035746\n",
      "MAE : 526388.2036263522\n"
     ]
    }
   ],
   "source": [
    "\n",
    "print(f'r2 score : {r2_score(y_test, Linear_predicted)}')\n",
    "print(f'RMSE : {np.sqrt(mean_squared_error(y_test, Linear_predicted))}')\n",
    "print(f'MAE : {mean_absolute_error(y_test, Linear_predicted)}')"
   ]
  },
  {
   "cell_type": "markdown",
   "metadata": {
    "pycharm": {
     "name": "#%% md\n"
    }
   },
   "source": [
    "평가결과 R2 score 는 0.299 가 나왔다.\n",
    "RMSE 를 통해 평가 결과를 보자면 모델이 예측한 결과와 실제 값과의 차이가 보통 1849577 이 나온다는 것을 알 수 있다."
   ]
  },
  {
   "cell_type": "code",
   "execution_count": 62,
   "metadata": {
    "pycharm": {
     "name": "#%%\n"
    }
   },
   "outputs": [
    {
     "data": {
      "text/plain": [
       "(array([  45349.92123269, 1243297.89390172,  160765.71449153,\n",
       "         -75993.71020925,  638457.66545969,   98908.83004166,\n",
       "         539629.51747601, -359665.7781654 ,  507313.12346437,\n",
       "         -60644.15717473, -381354.21501535, -285064.64886083,\n",
       "          89188.73899417, -258639.38683269,   49924.16413484,\n",
       "         -44597.34478505,  323725.38446943, -119815.39770478,\n",
       "         100774.47226129,  156359.90847571,  -19857.87497541,\n",
       "        -237276.50576159, -155179.57975423]),\n",
       " 1166679.4644830623)"
      ]
     },
     "execution_count": 62,
     "metadata": {},
     "output_type": "execute_result"
    }
   ],
   "source": [
    "model.coef_ , model.intercept_ # 가중치와 y절편 확인"
   ]
  },
  {
   "cell_type": "code",
   "execution_count": 63,
   "metadata": {
    "pycharm": {
     "name": "#%%\n"
    }
   },
   "outputs": [
    {
     "data": {
      "text/plain": [
       "Index(['release_time', 'time', 'dir_prev_bfnum', 'dir_prev_num', 'num_staff',\n",
       "       'num_actor', 'SF', '공포', '느와르', '다큐멘터리', '드라마', '멜로/로맨스', '뮤지컬', '미스터리',\n",
       "       '서스펜스', '애니메이션', '액션', '코미디', '12세 관람가', '15세 관람가', '전체 관람가',\n",
       "       '청소년 관람불가', 'distributor'],\n",
       "      dtype='object')"
      ]
     },
     "execution_count": 63,
     "metadata": {},
     "output_type": "execute_result"
    }
   ],
   "source": [
    "X_train.columns"
   ]
  },
  {
   "cell_type": "markdown",
   "metadata": {},
   "source": [
    "모델 학습 결과로 나온 피쳐 별 가중치\n",
    "즉 y = a1 * x1 + a2 * x2 + a3 * x3 ... + b 로 보면\n",
    "y = 49690.08300627 * releas_time +  1107554.98372725 * time +  169183.06302911 * dir_prev_bfnum ... + 1039850.8676761545 와 같은 다중선형회귀 식을 뽑을 수 있다."
   ]
  },
  {
   "cell_type": "code",
   "execution_count": 64,
   "metadata": {
    "pycharm": {
     "name": "#%%\n"
    }
   },
   "outputs": [
    {
     "name": "stderr",
     "output_type": "stream",
     "text": [
      "C:\\Users\\yoon9\\anaconda3\\lib\\site-packages\\matplotlib\\backends\\backend_agg.py:238: RuntimeWarning: Glyph 8722 missing from current font.\n",
      "  font.set_text(s, 0.0, flags=flags)\n",
      "C:\\Users\\yoon9\\anaconda3\\lib\\site-packages\\matplotlib\\backends\\backend_agg.py:201: RuntimeWarning: Glyph 8722 missing from current font.\n",
      "  font.set_text(s, 0, flags=flags)\n"
     ]
    },
    {
     "data": {
      "image/png": "[encoded data removed]",
      "text/plain": [
       "<Figure size 1080x864 with 1 Axes>"
      ]
     },
     "metadata": {
      "needs_background": "light"
     },
     "output_type": "display_data"
    }
   ],
   "source": [
    "plt.figure(figsize= (15,12))  # 피쳐의 중요도, 가중치 시각화\n",
    "sns.barplot(x = X_train.columns, y = model.coef_)\n",
    "plt.xticks(rotation = 90)\n",
    "plt.show()"
   ]
  },
  {
   "cell_type": "markdown",
   "metadata": {},
   "source": [
    "모델 성능을 높이기 위해 비슷한 다중 선형 회귀 모델 중에서 feature의 가중치를 조절해주는 모델인 Lasso 모델을 사용"
   ]
  },
  {
   "cell_type": "code",
   "execution_count": 65,
   "metadata": {
    "pycharm": {
     "name": "#%%\n"
    }
   },
   "outputs": [
    {
     "name": "stderr",
     "output_type": "stream",
     "text": [
      "C:\\Users\\yoon9\\AppData\\Roaming\\Python\\Python38\\site-packages\\sklearn\\linear_model\\_coordinate_descent.py:529: ConvergenceWarning: Objective did not converge. You might want to increase the number of iterations. Duality gap: 193890352258163.88, tolerance: 196300646541.86923\n",
      "  model = cd_fast.enet_coordinate_descent(\n"
     ]
    },
    {
     "data": {
      "text/plain": [
       "Lasso(alpha=3)"
      ]
     },
     "execution_count": 65,
     "metadata": {},
     "output_type": "execute_result"
    }
   ],
   "source": [
    "from sklearn.linear_model import Lasso\n",
    "\n",
    "lasso_model_3 = Lasso(alpha= 3)\n",
    "lasso_model_3.fit(X_train,y_train)"
   ]
  },
  {
   "cell_type": "code",
   "execution_count": 66,
   "metadata": {
    "pycharm": {
     "name": "#%%\n"
    }
   },
   "outputs": [
    {
     "data": {
      "text/plain": [
       "(array([  45349.70057287, 1243230.07902345,  160764.59391369,\n",
       "         -75985.56845133,  638463.61475005,   98909.74646322,\n",
       "         687150.90385312, -211981.08712081,  654901.01492221,\n",
       "          86957.73779154, -233713.89006479, -137421.35031763,\n",
       "         235976.21117696, -110912.65863233,  195919.06875046,\n",
       "         102914.91432252,  471279.63467764,   27771.78147009,\n",
       "         211579.16651323,  267164.62897266,   90975.69113958,\n",
       "        -126463.73117288, -155174.52710748]),\n",
       " 908242.5264767093)"
      ]
     },
     "execution_count": 66,
     "metadata": {},
     "output_type": "execute_result"
    }
   ],
   "source": [
    "lasso_model_3.coef_ , lasso_model_3.intercept_  # 각 피쳐별 가중치가 작아진 것을 확인할 수 있다."
   ]
  },
  {
   "cell_type": "code",
   "execution_count": 67,
   "metadata": {
    "pycharm": {
     "name": "#%%\n"
    }
   },
   "outputs": [
    {
     "name": "stderr",
     "output_type": "stream",
     "text": [
      "C:\\Users\\yoon9\\anaconda3\\lib\\site-packages\\matplotlib\\backends\\backend_agg.py:238: RuntimeWarning: Glyph 8722 missing from current font.\n",
      "  font.set_text(s, 0.0, flags=flags)\n",
      "C:\\Users\\yoon9\\anaconda3\\lib\\site-packages\\matplotlib\\backends\\backend_agg.py:201: RuntimeWarning: Glyph 8722 missing from current font.\n",
      "  font.set_text(s, 0, flags=flags)\n"
     ]
    },
    {
     "data": {
      "image/png": "[encoded data removed]",
      "text/plain": [
       "<Figure size 1080x864 with 1 Axes>"
      ]
     },
     "metadata": {
      "needs_background": "light"
     },
     "output_type": "display_data"
    }
   ],
   "source": [
    "plt.figure(figsize= (15,12))  # 피쳐의 중요도, 가중치 시각화\n",
    "sns.barplot(x = X_train.columns, y = lasso_model_3.coef_)\n",
    "plt.xticks(rotation = 90)\n",
    "plt.show()"
   ]
  },
  {
   "cell_type": "code",
   "execution_count": 68,
   "metadata": {
    "pycharm": {
     "name": "#%%\n"
    }
   },
   "outputs": [],
   "source": [
    "lasso_3_predicted = lasso_model_3.predict(X_test) # Lasso 모델 예측"
   ]
  },
  {
   "cell_type": "code",
   "execution_count": 69,
   "metadata": {
    "pycharm": {
     "name": "#%%\n"
    }
   },
   "outputs": [
    {
     "name": "stdout",
     "output_type": "stream",
     "text": [
      "r2 score : 0.050942975819408876\n",
      "RMSE : 647963.9779183405\n",
      "MAE : 526302.3823956097\n"
     ]
    }
   ],
   "source": [
    "#lasso model 평가\n",
    "\n",
    "print(f'r2 score : {r2_score(y_test, lasso_3_predicted)}')\n",
    "print(f'RMSE : {np.sqrt(mean_squared_error(y_test, lasso_3_predicted))}')\n",
    "print(f'MAE : {mean_absolute_error(y_test, lasso_3_predicted)}')"
   ]
  },
  {
   "cell_type": "code",
   "execution_count": 70,
   "metadata": {
    "pycharm": {
     "name": "#%%\n"
    }
   },
   "outputs": [
    {
     "data": {
      "text/plain": [
       "(array([  31397.38479637, 1032738.27353461,  154294.49029118,\n",
       "         -50157.52144213,  685873.93977509,   95284.78497576,\n",
       "         227354.35054638, -123905.71815678,  388041.53816536,\n",
       "              0.        , -233672.30297731, -109853.48008411,\n",
       "              0.        ,      -0.        ,       0.        ,\n",
       "              0.        ,  170924.45637414,      -0.        ,\n",
       "              0.        ,   69922.26995116,      -0.        ,\n",
       "        -273781.6700094 , -150546.42927939]),\n",
       " 1103975.749293789)"
      ]
     },
     "execution_count": 70,
     "metadata": {},
     "output_type": "execute_result"
    }
   ],
   "source": [
    "from sklearn.linear_model import Lasso\n",
    "\n",
    "lasso_model_10 = Lasso(alpha=10000)\n",
    "lasso_model_10.fit(X_train, y_train)\n",
    "lasso_model_10.coef_, lasso_model_10.intercept_ # 각 피쳐별 가중치가 작아진 것을 확인할 수 있다.\n",
    "\n",
    "\n"
   ]
  },
  {
   "cell_type": "code",
   "execution_count": 71,
   "metadata": {
    "pycharm": {
     "name": "#%%\n"
    }
   },
   "outputs": [
    {
     "name": "stdout",
     "output_type": "stream",
     "text": [
      "r2 score : 0.21163132760131687\n",
      "RMSE : 590567.289060576\n",
      "MAE : 469655.7187267617\n"
     ]
    }
   ],
   "source": [
    "lasso_10_predicted = lasso_model_10.predict(X_test)  # Lasso 모델 예측\n",
    "#lasso model 평가\n",
    "\n",
    "print(f'r2 score : {r2_score(y_test, lasso_10_predicted)}')\n",
    "print(f'RMSE : {np.sqrt(mean_squared_error(y_test, lasso_10_predicted))}')\n",
    "print(f'MAE : {mean_absolute_error(y_test, lasso_10_predicted)}')"
   ]
  },
  {
   "cell_type": "code",
   "execution_count": 72,
   "metadata": {
    "pycharm": {
     "name": "#%%\n"
    }
   },
   "outputs": [
    {
     "name": "stderr",
     "output_type": "stream",
     "text": [
      "C:\\Users\\yoon9\\anaconda3\\lib\\site-packages\\matplotlib\\backends\\backend_agg.py:238: RuntimeWarning: Glyph 8722 missing from current font.\n",
      "  font.set_text(s, 0.0, flags=flags)\n",
      "C:\\Users\\yoon9\\anaconda3\\lib\\site-packages\\matplotlib\\backends\\backend_agg.py:201: RuntimeWarning: Glyph 8722 missing from current font.\n",
      "  font.set_text(s, 0, flags=flags)\n"
     ]
    },
    {
     "data": {
      "image/png": "[encoded data removed]",
      "text/plain": [
       "<Figure size 1080x864 with 1 Axes>"
      ]
     },
     "metadata": {
      "needs_background": "light"
     },
     "output_type": "display_data"
    }
   ],
   "source": [
    "plt.figure(figsize=(15, 12))  # 피쳐의 중요도, 가중치 시각화\n",
    "sns.barplot(x=X_train.columns, y=lasso_model_10.coef_)\n",
    "plt.xticks(rotation=90)\n",
    "plt.show()"
   ]
  },
  {
   "cell_type": "markdown",
   "metadata": {
    "pycharm": {
     "name": "#%% md\n"
    }
   },
   "source": [
    "모델 평가 결과 : Lasso model 과 Linear model이 성능 차이가 많이 나지 않는 이유\n",
    "추측 1 : 데이터 프레임의 피쳐가 많지 않기 가중치에 차이가 있어도 전반적인 선형 모델은 같다.\n",
    "추측 2 : 결국 Lasso 과 다중 선형 회귀 모델은 같은 선형 회귀 모델이고 거기에 Lasso 는 제약이 있는 모델인데\n",
    "        Lasso 알고리즘에 걸리는 제약이 많지 않아서 결과가 같은 것 같습니다. --> 그래서 alpha 이 켜질 경우 성능이 좋아지는 것을 확인할 수 있습니다.."
   ]
  },
  {
   "cell_type": "markdown",
   "metadata": {},
   "source": [
    "## 결과물 제출"
   ]
  },
  {
   "cell_type": "code",
   "execution_count": 73,
   "metadata": {
    "pycharm": {
     "name": "#%%\n"
    }
   },
   "outputs": [],
   "source": [
    "submission = pd.read_csv('C:/Users/yoon9/PycharmProjects/Sejong_Project/AI Class/Data/Movie Data/submission(2).csv')"
   ]
  },
  {
   "cell_type": "code",
   "execution_count": 74,
   "metadata": {
    "pycharm": {
     "name": "#%%\n"
    }
   },
   "outputs": [],
   "source": [
    "test_predict = lasso_model_10.predict(test)"
   ]
  },
  {
   "cell_type": "code",
   "execution_count": 75,
   "metadata": {
    "pycharm": {
     "name": "#%%\n"
    }
   },
   "outputs": [
    {
     "data": {
      "text/html": [
       "<div>\n",
       "<style scoped>\n",
       "    .dataframe tbody tr th:only-of-type {\n",
       "        vertical-align: middle;\n",
       "    }\n",
       "\n",
       "    .dataframe tbody tr th {\n",
       "        vertical-align: top;\n",
       "    }\n",
       "\n",
       "    .dataframe thead th {\n",
       "        text-align: right;\n",
       "    }\n",
       "</style>\n",
       "<table border=\"1\" class=\"dataframe\">\n",
       "  <thead>\n",
       "    <tr style=\"text-align: right;\">\n",
       "      <th></th>\n",
       "      <th>release_time</th>\n",
       "      <th>time</th>\n",
       "      <th>dir_prev_bfnum</th>\n",
       "      <th>dir_prev_num</th>\n",
       "      <th>num_staff</th>\n",
       "      <th>num_actor</th>\n",
       "      <th>SF</th>\n",
       "      <th>공포</th>\n",
       "      <th>느와르</th>\n",
       "      <th>다큐멘터리</th>\n",
       "      <th>...</th>\n",
       "      <th>미스터리</th>\n",
       "      <th>서스펜스</th>\n",
       "      <th>애니메이션</th>\n",
       "      <th>액션</th>\n",
       "      <th>코미디</th>\n",
       "      <th>12세 관람가</th>\n",
       "      <th>15세 관람가</th>\n",
       "      <th>전체 관람가</th>\n",
       "      <th>청소년 관람불가</th>\n",
       "      <th>distributor</th>\n",
       "    </tr>\n",
       "  </thead>\n",
       "  <tbody>\n",
       "    <tr>\n",
       "      <th>600</th>\n",
       "      <td>-1.741142</td>\n",
       "      <td>0.315688</td>\n",
       "      <td>-0.123280</td>\n",
       "      <td>0.952435</td>\n",
       "      <td>0.913702</td>\n",
       "      <td>-0.272039</td>\n",
       "      <td>0.0</td>\n",
       "      <td>0.0</td>\n",
       "      <td>1.0</td>\n",
       "      <td>0.0</td>\n",
       "      <td>...</td>\n",
       "      <td>0.0</td>\n",
       "      <td>0.0</td>\n",
       "      <td>0.0</td>\n",
       "      <td>0.0</td>\n",
       "      <td>0.0</td>\n",
       "      <td>0.0</td>\n",
       "      <td>0.0</td>\n",
       "      <td>0.0</td>\n",
       "      <td>1.0</td>\n",
       "      <td>2.0</td>\n",
       "    </tr>\n",
       "    <tr>\n",
       "      <th>601</th>\n",
       "      <td>-1.741142</td>\n",
       "      <td>0.139989</td>\n",
       "      <td>-0.088409</td>\n",
       "      <td>2.637436</td>\n",
       "      <td>0.737661</td>\n",
       "      <td>-0.272039</td>\n",
       "      <td>0.0</td>\n",
       "      <td>0.0</td>\n",
       "      <td>0.0</td>\n",
       "      <td>0.0</td>\n",
       "      <td>...</td>\n",
       "      <td>0.0</td>\n",
       "      <td>0.0</td>\n",
       "      <td>0.0</td>\n",
       "      <td>0.0</td>\n",
       "      <td>0.0</td>\n",
       "      <td>1.0</td>\n",
       "      <td>0.0</td>\n",
       "      <td>0.0</td>\n",
       "      <td>0.0</td>\n",
       "      <td>0.0</td>\n",
       "    </tr>\n",
       "    <tr>\n",
       "      <th>602</th>\n",
       "      <td>-1.741142</td>\n",
       "      <td>0.169273</td>\n",
       "      <td>3.106604</td>\n",
       "      <td>1.794936</td>\n",
       "      <td>1.611794</td>\n",
       "      <td>1.426694</td>\n",
       "      <td>0.0</td>\n",
       "      <td>0.0</td>\n",
       "      <td>0.0</td>\n",
       "      <td>0.0</td>\n",
       "      <td>...</td>\n",
       "      <td>0.0</td>\n",
       "      <td>0.0</td>\n",
       "      <td>0.0</td>\n",
       "      <td>0.0</td>\n",
       "      <td>0.0</td>\n",
       "      <td>1.0</td>\n",
       "      <td>0.0</td>\n",
       "      <td>0.0</td>\n",
       "      <td>0.0</td>\n",
       "      <td>0.0</td>\n",
       "    </tr>\n",
       "    <tr>\n",
       "      <th>603</th>\n",
       "      <td>-1.448580</td>\n",
       "      <td>0.183914</td>\n",
       "      <td>0.199878</td>\n",
       "      <td>0.952435</td>\n",
       "      <td>1.545020</td>\n",
       "      <td>-0.696722</td>\n",
       "      <td>0.0</td>\n",
       "      <td>0.0</td>\n",
       "      <td>0.0</td>\n",
       "      <td>0.0</td>\n",
       "      <td>...</td>\n",
       "      <td>0.0</td>\n",
       "      <td>0.0</td>\n",
       "      <td>0.0</td>\n",
       "      <td>1.0</td>\n",
       "      <td>0.0</td>\n",
       "      <td>0.0</td>\n",
       "      <td>1.0</td>\n",
       "      <td>0.0</td>\n",
       "      <td>0.0</td>\n",
       "      <td>0.0</td>\n",
       "    </tr>\n",
       "    <tr>\n",
       "      <th>604</th>\n",
       "      <td>-1.448580</td>\n",
       "      <td>0.096065</td>\n",
       "      <td>-0.345539</td>\n",
       "      <td>0.109935</td>\n",
       "      <td>1.375050</td>\n",
       "      <td>-1.121406</td>\n",
       "      <td>0.0</td>\n",
       "      <td>1.0</td>\n",
       "      <td>0.0</td>\n",
       "      <td>0.0</td>\n",
       "      <td>...</td>\n",
       "      <td>0.0</td>\n",
       "      <td>0.0</td>\n",
       "      <td>0.0</td>\n",
       "      <td>0.0</td>\n",
       "      <td>0.0</td>\n",
       "      <td>0.0</td>\n",
       "      <td>1.0</td>\n",
       "      <td>0.0</td>\n",
       "      <td>0.0</td>\n",
       "      <td>0.0</td>\n",
       "    </tr>\n",
       "    <tr>\n",
       "      <th>...</th>\n",
       "      <td>...</td>\n",
       "      <td>...</td>\n",
       "      <td>...</td>\n",
       "      <td>...</td>\n",
       "      <td>...</td>\n",
       "      <td>...</td>\n",
       "      <td>...</td>\n",
       "      <td>...</td>\n",
       "      <td>...</td>\n",
       "      <td>...</td>\n",
       "      <td>...</td>\n",
       "      <td>...</td>\n",
       "      <td>...</td>\n",
       "      <td>...</td>\n",
       "      <td>...</td>\n",
       "      <td>...</td>\n",
       "      <td>...</td>\n",
       "      <td>...</td>\n",
       "      <td>...</td>\n",
       "      <td>...</td>\n",
       "      <td>...</td>\n",
       "    </tr>\n",
       "    <tr>\n",
       "      <th>838</th>\n",
       "      <td>1.184476</td>\n",
       "      <td>-0.372466</td>\n",
       "      <td>-0.369641</td>\n",
       "      <td>0.109935</td>\n",
       "      <td>-0.907408</td>\n",
       "      <td>0.152644</td>\n",
       "      <td>0.0</td>\n",
       "      <td>0.0</td>\n",
       "      <td>0.0</td>\n",
       "      <td>0.0</td>\n",
       "      <td>...</td>\n",
       "      <td>0.0</td>\n",
       "      <td>0.0</td>\n",
       "      <td>0.0</td>\n",
       "      <td>0.0</td>\n",
       "      <td>0.0</td>\n",
       "      <td>0.0</td>\n",
       "      <td>1.0</td>\n",
       "      <td>0.0</td>\n",
       "      <td>0.0</td>\n",
       "      <td>3.0</td>\n",
       "    </tr>\n",
       "    <tr>\n",
       "      <th>839</th>\n",
       "      <td>0.891914</td>\n",
       "      <td>-0.255333</td>\n",
       "      <td>-0.371783</td>\n",
       "      <td>-0.732566</td>\n",
       "      <td>-0.822423</td>\n",
       "      <td>-0.696722</td>\n",
       "      <td>0.0</td>\n",
       "      <td>0.0</td>\n",
       "      <td>0.0</td>\n",
       "      <td>1.0</td>\n",
       "      <td>...</td>\n",
       "      <td>0.0</td>\n",
       "      <td>0.0</td>\n",
       "      <td>0.0</td>\n",
       "      <td>0.0</td>\n",
       "      <td>0.0</td>\n",
       "      <td>1.0</td>\n",
       "      <td>0.0</td>\n",
       "      <td>0.0</td>\n",
       "      <td>0.0</td>\n",
       "      <td>0.0</td>\n",
       "    </tr>\n",
       "    <tr>\n",
       "      <th>840</th>\n",
       "      <td>0.891914</td>\n",
       "      <td>0.052140</td>\n",
       "      <td>-0.371783</td>\n",
       "      <td>-0.732566</td>\n",
       "      <td>0.428073</td>\n",
       "      <td>0.152644</td>\n",
       "      <td>0.0</td>\n",
       "      <td>0.0</td>\n",
       "      <td>1.0</td>\n",
       "      <td>0.0</td>\n",
       "      <td>...</td>\n",
       "      <td>0.0</td>\n",
       "      <td>0.0</td>\n",
       "      <td>0.0</td>\n",
       "      <td>0.0</td>\n",
       "      <td>0.0</td>\n",
       "      <td>0.0</td>\n",
       "      <td>0.0</td>\n",
       "      <td>0.0</td>\n",
       "      <td>1.0</td>\n",
       "      <td>3.0</td>\n",
       "    </tr>\n",
       "    <tr>\n",
       "      <th>841</th>\n",
       "      <td>0.891914</td>\n",
       "      <td>-0.021068</td>\n",
       "      <td>-0.329861</td>\n",
       "      <td>0.109935</td>\n",
       "      <td>-0.518905</td>\n",
       "      <td>1.426694</td>\n",
       "      <td>0.0</td>\n",
       "      <td>0.0</td>\n",
       "      <td>0.0</td>\n",
       "      <td>0.0</td>\n",
       "      <td>...</td>\n",
       "      <td>0.0</td>\n",
       "      <td>0.0</td>\n",
       "      <td>0.0</td>\n",
       "      <td>0.0</td>\n",
       "      <td>0.0</td>\n",
       "      <td>0.0</td>\n",
       "      <td>0.0</td>\n",
       "      <td>0.0</td>\n",
       "      <td>1.0</td>\n",
       "      <td>3.0</td>\n",
       "    </tr>\n",
       "    <tr>\n",
       "      <th>842</th>\n",
       "      <td>0.891914</td>\n",
       "      <td>-0.401749</td>\n",
       "      <td>-0.371783</td>\n",
       "      <td>-0.732566</td>\n",
       "      <td>-0.870986</td>\n",
       "      <td>0.152644</td>\n",
       "      <td>0.0</td>\n",
       "      <td>0.0</td>\n",
       "      <td>0.0</td>\n",
       "      <td>0.0</td>\n",
       "      <td>...</td>\n",
       "      <td>0.0</td>\n",
       "      <td>0.0</td>\n",
       "      <td>0.0</td>\n",
       "      <td>0.0</td>\n",
       "      <td>0.0</td>\n",
       "      <td>0.0</td>\n",
       "      <td>0.0</td>\n",
       "      <td>0.0</td>\n",
       "      <td>1.0</td>\n",
       "      <td>1.0</td>\n",
       "    </tr>\n",
       "  </tbody>\n",
       "</table>\n",
       "<p>243 rows × 23 columns</p>\n",
       "</div>"
      ],
      "text/plain": [
       "     release_time      time  dir_prev_bfnum  dir_prev_num  num_staff  \\\n",
       "600     -1.741142  0.315688       -0.123280      0.952435   0.913702   \n",
       "601     -1.741142  0.139989       -0.088409      2.637436   0.737661   \n",
       "602     -1.741142  0.169273        3.106604      1.794936   1.611794   \n",
       "603     -1.448580  0.183914        0.199878      0.952435   1.545020   \n",
       "604     -1.448580  0.096065       -0.345539      0.109935   1.375050   \n",
       "..            ...       ...             ...           ...        ...   \n",
       "838      1.184476 -0.372466       -0.369641      0.109935  -0.907408   \n",
       "839      0.891914 -0.255333       -0.371783     -0.732566  -0.822423   \n",
       "840      0.891914  0.052140       -0.371783     -0.732566   0.428073   \n",
       "841      0.891914 -0.021068       -0.329861      0.109935  -0.518905   \n",
       "842      0.891914 -0.401749       -0.371783     -0.732566  -0.870986   \n",
       "\n",
       "     num_actor   SF   공포  느와르  다큐멘터리  ...  미스터리  서스펜스  애니메이션   액션  코미디  \\\n",
       "600  -0.272039  0.0  0.0  1.0    0.0  ...   0.0   0.0    0.0  0.0  0.0   \n",
       "601  -0.272039  0.0  0.0  0.0    0.0  ...   0.0   0.0    0.0  0.0  0.0   \n",
       "602   1.426694  0.0  0.0  0.0    0.0  ...   0.0   0.0    0.0  0.0  0.0   \n",
       "603  -0.696722  0.0  0.0  0.0    0.0  ...   0.0   0.0    0.0  1.0  0.0   \n",
       "604  -1.121406  0.0  1.0  0.0    0.0  ...   0.0   0.0    0.0  0.0  0.0   \n",
       "..         ...  ...  ...  ...    ...  ...   ...   ...    ...  ...  ...   \n",
       "838   0.152644  0.0  0.0  0.0    0.0  ...   0.0   0.0    0.0  0.0  0.0   \n",
       "839  -0.696722  0.0  0.0  0.0    1.0  ...   0.0   0.0    0.0  0.0  0.0   \n",
       "840   0.152644  0.0  0.0  1.0    0.0  ...   0.0   0.0    0.0  0.0  0.0   \n",
       "841   1.426694  0.0  0.0  0.0    0.0  ...   0.0   0.0    0.0  0.0  0.0   \n",
       "842   0.152644  0.0  0.0  0.0    0.0  ...   0.0   0.0    0.0  0.0  0.0   \n",
       "\n",
       "     12세 관람가  15세 관람가  전체 관람가  청소년 관람불가  distributor  \n",
       "600      0.0      0.0     0.0       1.0          2.0  \n",
       "601      1.0      0.0     0.0       0.0          0.0  \n",
       "602      1.0      0.0     0.0       0.0          0.0  \n",
       "603      0.0      1.0     0.0       0.0          0.0  \n",
       "604      0.0      1.0     0.0       0.0          0.0  \n",
       "..       ...      ...     ...       ...          ...  \n",
       "838      0.0      1.0     0.0       0.0          3.0  \n",
       "839      1.0      0.0     0.0       0.0          0.0  \n",
       "840      0.0      0.0     0.0       1.0          3.0  \n",
       "841      0.0      0.0     0.0       1.0          3.0  \n",
       "842      0.0      0.0     0.0       1.0          1.0  \n",
       "\n",
       "[243 rows x 23 columns]"
      ]
     },
     "execution_count": 75,
     "metadata": {},
     "output_type": "execute_result"
    }
   ],
   "source": [
    "test"
   ]
  },
  {
   "cell_type": "code",
   "execution_count": 76,
   "metadata": {
    "pycharm": {
     "name": "#%%\n"
    }
   },
   "outputs": [],
   "source": [
    "submission['box_off_num'] = test_predict"
   ]
  },
  {
   "cell_type": "code",
   "execution_count": 77,
   "metadata": {
    "pycharm": {
     "name": "#%%\n"
    }
   },
   "outputs": [
    {
     "data": {
      "text/html": [
       "<div>\n",
       "<style scoped>\n",
       "    .dataframe tbody tr th:only-of-type {\n",
       "        vertical-align: middle;\n",
       "    }\n",
       "\n",
       "    .dataframe tbody tr th {\n",
       "        vertical-align: top;\n",
       "    }\n",
       "\n",
       "    .dataframe thead th {\n",
       "        text-align: right;\n",
       "    }\n",
       "</style>\n",
       "<table border=\"1\" class=\"dataframe\">\n",
       "  <thead>\n",
       "    <tr style=\"text-align: right;\">\n",
       "      <th></th>\n",
       "      <th>title</th>\n",
       "      <th>box_off_num</th>\n",
       "    </tr>\n",
       "  </thead>\n",
       "  <tbody>\n",
       "    <tr>\n",
       "      <th>0</th>\n",
       "      <td>용서는 없다</td>\n",
       "      <td>1.722469e+06</td>\n",
       "    </tr>\n",
       "    <tr>\n",
       "      <th>1</th>\n",
       "      <td>아빠가 여자를 좋아해</td>\n",
       "      <td>1.418121e+06</td>\n",
       "    </tr>\n",
       "    <tr>\n",
       "      <th>2</th>\n",
       "      <td>하모니</td>\n",
       "      <td>2.621183e+06</td>\n",
       "    </tr>\n",
       "    <tr>\n",
       "      <th>3</th>\n",
       "      <td>의형제</td>\n",
       "      <td>2.465646e+06</td>\n",
       "    </tr>\n",
       "    <tr>\n",
       "      <th>4</th>\n",
       "      <td>평행 이론</td>\n",
       "      <td>1.881150e+06</td>\n",
       "    </tr>\n",
       "    <tr>\n",
       "      <th>...</th>\n",
       "      <td>...</td>\n",
       "      <td>...</td>\n",
       "    </tr>\n",
       "    <tr>\n",
       "      <th>238</th>\n",
       "      <td>해에게서 소년에게</td>\n",
       "      <td>-5.292545e+05</td>\n",
       "    </tr>\n",
       "    <tr>\n",
       "      <th>239</th>\n",
       "      <td>울보 권투부</td>\n",
       "      <td>2.172011e+05</td>\n",
       "    </tr>\n",
       "    <tr>\n",
       "      <th>240</th>\n",
       "      <td>어떤살인</td>\n",
       "      <td>1.135975e+06</td>\n",
       "    </tr>\n",
       "    <tr>\n",
       "      <th>241</th>\n",
       "      <td>말하지 못한 비밀</td>\n",
       "      <td>-1.252422e+05</td>\n",
       "    </tr>\n",
       "    <tr>\n",
       "      <th>242</th>\n",
       "      <td>조선안방 스캔들-칠거지악 2</td>\n",
       "      <td>-4.205660e+05</td>\n",
       "    </tr>\n",
       "  </tbody>\n",
       "</table>\n",
       "<p>243 rows × 2 columns</p>\n",
       "</div>"
      ],
      "text/plain": [
       "               title   box_off_num\n",
       "0             용서는 없다  1.722469e+06\n",
       "1        아빠가 여자를 좋아해  1.418121e+06\n",
       "2                하모니  2.621183e+06\n",
       "3                의형제  2.465646e+06\n",
       "4              평행 이론  1.881150e+06\n",
       "..               ...           ...\n",
       "238        해에게서 소년에게 -5.292545e+05\n",
       "239           울보 권투부  2.172011e+05\n",
       "240             어떤살인  1.135975e+06\n",
       "241        말하지 못한 비밀 -1.252422e+05\n",
       "242  조선안방 스캔들-칠거지악 2 -4.205660e+05\n",
       "\n",
       "[243 rows x 2 columns]"
      ]
     },
     "execution_count": 77,
     "metadata": {},
     "output_type": "execute_result"
    }
   ],
   "source": [
    "submission"
   ]
  },
  {
   "cell_type": "code",
   "execution_count": 78,
   "metadata": {
    "pycharm": {
     "name": "#%%\n"
    }
   },
   "outputs": [],
   "source": [
    "submission.to_csv('C:/Users/yoon9/Desktop/3-2/인공지능/17011733_윤지환_Assignment1_submission.csv',index = False,encoding = 'cp949')"
   ]
  },
  {
   "cell_type": "code",
   "execution_count": 78,
   "metadata": {
    "pycharm": {
     "name": "#%%\n"
    }
   },
   "outputs": [],
   "source": []
  }
 ],
 "metadata": {
  "kernelspec": {
   "display_name": "Python 3",
   "language": "python",
   "name": "python3"
  },
  "language_info": {
   "codemirror_mode": {
    "name": "ipython",
    "version": 3
   },
   "file_extension": ".py",
   "mimetype": "text/x-python",
   "name": "python",
   "nbconvert_exporter": "python",
   "pygments_lexer": "ipython3",
   "version": "3.8.8"
  },
  "toc": {
   "base_numbering": 1,
   "nav_menu": {},
   "number_sections": true,
   "sideBar": true,
   "skip_h1_title": false,
   "title_cell": "Table of Contents",
   "title_sidebar": "Contents",
   "toc_cell": false,
   "toc_position": {},
   "toc_section_display": true,
   "toc_window_display": false
  }
 },
 "nbformat": 4,
 "nbformat_minor": 1
}
