{
 "cells": [
  {
   "cell_type": "code",
   "execution_count": 1,
   "outputs": [],
   "source": [
    "import pandas as pd\n",
    "import numpy as np\n",
    "import seaborn as sns\n",
    "import matplotlib.pyplot as plt\n",
    "from sklearn.model_selection import RandomizedSearchCV\n",
    "import matplotlib.font_manager as fm\n",
    "from sklearn.model_selection import train_test_split\n",
    "from sklearn.ensemble import RandomForestClassifier"
   ],
   "metadata": {
    "collapsed": false,
    "pycharm": {
     "name": "#%%\n"
    }
   }
  },
  {
   "cell_type": "code",
   "execution_count": 2,
   "outputs": [],
   "source": [
    "plt.rc('font', family='NanumBarunGothic')\n",
    "font_location = 'C:/Windows/Fonts/MALGUNSL.TTF' # for windows\n",
    "font_name = fm.FontProperties(fname=font_location).get_name()\n",
    "plt.rc('font', family=font_name)"
   ],
   "metadata": {
    "collapsed": false,
    "pycharm": {
     "name": "#%%\n"
    }
   }
  },
  {
   "cell_type": "code",
   "execution_count": 3,
   "outputs": [],
   "source": [
    "%matplotlib inline\n",
    "import matplotlib as mpl\n",
    "mpl.rc('axes',labelsize = 16)\n",
    "mpl.rc('xtick',labelsize = 12)\n",
    "mpl.rc('ytick',labelsize = 12)"
   ],
   "metadata": {
    "collapsed": false,
    "pycharm": {
     "name": "#%%\n"
    }
   }
  },
  {
   "cell_type": "code",
   "execution_count": 4,
   "outputs": [],
   "source": [
    "train = pd.read_csv(r'C:\\Users\\yoon9\\PycharmProjects\\Sejong_Project\\data\\construct_Oil_data\\train.csv',encoding = 'cp949')\n",
    "test = pd.read_csv(r'C:\\Users\\yoon9\\PycharmProjects\\Sejong_Project\\data\\construct_Oil_data\\test.csv',encoding = 'cp949')"
   ],
   "metadata": {
    "collapsed": false,
    "pycharm": {
     "name": "#%%\n"
    }
   }
  },
  {
   "cell_type": "code",
   "execution_count": 5,
   "outputs": [],
   "source": [
    "test = test.rename(columns={'ANONYMOUS_1' : '수치형데이터1','ANONYMOUS_2' : '수치형데이터2','COMPONENT_ARBITRARY':'샘플오일관련부품','AG':'은','CO':'일산화탄소','CR':'크로뮴','CU':'구리','FE':'철','H2O':'물','MN':'망가니즈','MO':'몰리브데넘','NI':'니켈','TI':'타이타늄','V':'바나듐','ZN':'아연','PQINDEX':'입자 정량 지수','V40':'점도 40도','YEAR':'진단년도'})\n",
    "train = train.rename(columns={'ANONYMOUS_1' : '수치형데이터1','ANONYMOUS_2' : '수치형데이터2','COMPONENT_ARBITRARY':'샘플오일관련부품','AG':'은','CO':'일산화탄소','CR':'크로뮴','CU':'구리','FE':'철','H2O':'물','MN':'망가니즈','MO':'몰리브데넘','NI':'니켈','TI':'타이타늄','V':'바나듐','ZN':'아연','PQINDEX':'입자 정량 지수','V40':'점도 40도','YEAR':'진단년도'})"
   ],
   "metadata": {
    "collapsed": false,
    "pycharm": {
     "name": "#%%\n"
    }
   }
  },
  {
   "cell_type": "markdown",
   "source": [
    "## 결측치가 많은 컬럼 제거"
   ],
   "metadata": {
    "collapsed": false
   }
  },
  {
   "cell_type": "code",
   "execution_count": 6,
   "outputs": [],
   "source": [
    "drop_columns=['FH2O','FNOX','FOPTIMETHGLY','FOXID','FSO4','FTBN','FUEL','SOOTPERCENTAGE','U100','U75','U50','U25','U20','U14','U6','U4','V100']"
   ],
   "metadata": {
    "collapsed": false,
    "pycharm": {
     "name": "#%%\n"
    }
   }
  },
  {
   "cell_type": "code",
   "execution_count": 7,
   "outputs": [],
   "source": [
    "train = train.drop(columns=drop_columns)"
   ],
   "metadata": {
    "collapsed": false,
    "pycharm": {
     "name": "#%%\n"
    }
   }
  },
  {
   "cell_type": "code",
   "execution_count": 8,
   "outputs": [],
   "source": [
    "test_columns_list = test.columns"
   ],
   "metadata": {
    "collapsed": false,
    "pycharm": {
     "name": "#%%\n"
    }
   }
  },
  {
   "cell_type": "code",
   "execution_count": 9,
   "outputs": [
    {
     "data": {
      "text/plain": "0        0\n1        0\n2        1\n3        0\n4        0\n        ..\n14090    0\n14091    0\n14092    0\n14093    0\n14094    0\nName: Y_LABEL, Length: 14095, dtype: int64"
     },
     "execution_count": 9,
     "metadata": {},
     "output_type": "execute_result"
    }
   ],
   "source": [
    "train['Y_LABEL']"
   ],
   "metadata": {
    "collapsed": false,
    "pycharm": {
     "name": "#%%\n"
    }
   }
  },
  {
   "cell_type": "code",
   "execution_count": 10,
   "outputs": [
    {
     "data": {
      "text/plain": "                ID    샘플오일관련부품  수치형데이터1  진단년도  수치형데이터2  은  일산화탄소  크로뮴   구리  \\\n0      TRAIN_00000  COMPONENT3     1486  2011      200  0      0   13   78   \n1      TRAIN_00001  COMPONENT2     1350  2021      375  0      0    0   31   \n2      TRAIN_00002  COMPONENT2     2415  2015      200  0      0    1    2   \n3      TRAIN_00003  COMPONENT3     7389  2010      200  0      0    0    1   \n4      TRAIN_00004  COMPONENT3     3954  2015      200  0      0    0    0   \n...            ...         ...      ...   ...      ... ..    ...  ...  ...   \n14090  TRAIN_14090  COMPONENT3     1616  2014      200  0      0    0    3   \n14091  TRAIN_14091  COMPONENT1     2784  2013      200  0      0    0    2   \n14092  TRAIN_14092  COMPONENT3     1788  2008      550  0      0    4    7   \n14093  TRAIN_14093  COMPONENT2     2498  2009      550  0      0    0  170   \n14094  TRAIN_14094  COMPONENT2     1902  2012      200  0      0    0  110   \n\n         철    물  망가니즈  몰리브데넘  니켈  입자 정량 지수  타이타늄  바나듐  점도 40도    아연  \n0      888  0.0    16      1   6      8504     5    0   154.0    75  \n1        2  0.0     0      0   0        19     0    0    44.0   652  \n2        4  0.0     0      0   0        17     0    0    72.6   412  \n3       37  0.0     1      0   0        44     0    0   133.3     7  \n4       71  0.0     0      0   0       217     0    0   133.1   128  \n...    ...  ...   ...    ...  ..       ...   ...  ...     ...   ...  \n14090   23  0.0     0      0   0        35     0    0   135.4    16  \n14091   12  0.0     0    224   0         9     0    0   117.5  1408  \n14092  415  0.0     7     10   1       645     0    0    54.0  1301  \n14093   19  0.0     0      1   0        11     0    0    44.3   652  \n14094   10  0.0     0      0   0        81     2    0    47.0   612  \n\n[14095 rows x 19 columns]",
      "text/html": "<div>\n<style scoped>\n    .dataframe tbody tr th:only-of-type {\n        vertical-align: middle;\n    }\n\n    .dataframe tbody tr th {\n        vertical-align: top;\n    }\n\n    .dataframe thead th {\n        text-align: right;\n    }\n</style>\n<table border=\"1\" class=\"dataframe\">\n  <thead>\n    <tr style=\"text-align: right;\">\n      <th></th>\n      <th>ID</th>\n      <th>샘플오일관련부품</th>\n      <th>수치형데이터1</th>\n      <th>진단년도</th>\n      <th>수치형데이터2</th>\n      <th>은</th>\n      <th>일산화탄소</th>\n      <th>크로뮴</th>\n      <th>구리</th>\n      <th>철</th>\n      <th>물</th>\n      <th>망가니즈</th>\n      <th>몰리브데넘</th>\n      <th>니켈</th>\n      <th>입자 정량 지수</th>\n      <th>타이타늄</th>\n      <th>바나듐</th>\n      <th>점도 40도</th>\n      <th>아연</th>\n    </tr>\n  </thead>\n  <tbody>\n    <tr>\n      <th>0</th>\n      <td>TRAIN_00000</td>\n      <td>COMPONENT3</td>\n      <td>1486</td>\n      <td>2011</td>\n      <td>200</td>\n      <td>0</td>\n      <td>0</td>\n      <td>13</td>\n      <td>78</td>\n      <td>888</td>\n      <td>0.0</td>\n      <td>16</td>\n      <td>1</td>\n      <td>6</td>\n      <td>8504</td>\n      <td>5</td>\n      <td>0</td>\n      <td>154.0</td>\n      <td>75</td>\n    </tr>\n    <tr>\n      <th>1</th>\n      <td>TRAIN_00001</td>\n      <td>COMPONENT2</td>\n      <td>1350</td>\n      <td>2021</td>\n      <td>375</td>\n      <td>0</td>\n      <td>0</td>\n      <td>0</td>\n      <td>31</td>\n      <td>2</td>\n      <td>0.0</td>\n      <td>0</td>\n      <td>0</td>\n      <td>0</td>\n      <td>19</td>\n      <td>0</td>\n      <td>0</td>\n      <td>44.0</td>\n      <td>652</td>\n    </tr>\n    <tr>\n      <th>2</th>\n      <td>TRAIN_00002</td>\n      <td>COMPONENT2</td>\n      <td>2415</td>\n      <td>2015</td>\n      <td>200</td>\n      <td>0</td>\n      <td>0</td>\n      <td>1</td>\n      <td>2</td>\n      <td>4</td>\n      <td>0.0</td>\n      <td>0</td>\n      <td>0</td>\n      <td>0</td>\n      <td>17</td>\n      <td>0</td>\n      <td>0</td>\n      <td>72.6</td>\n      <td>412</td>\n    </tr>\n    <tr>\n      <th>3</th>\n      <td>TRAIN_00003</td>\n      <td>COMPONENT3</td>\n      <td>7389</td>\n      <td>2010</td>\n      <td>200</td>\n      <td>0</td>\n      <td>0</td>\n      <td>0</td>\n      <td>1</td>\n      <td>37</td>\n      <td>0.0</td>\n      <td>1</td>\n      <td>0</td>\n      <td>0</td>\n      <td>44</td>\n      <td>0</td>\n      <td>0</td>\n      <td>133.3</td>\n      <td>7</td>\n    </tr>\n    <tr>\n      <th>4</th>\n      <td>TRAIN_00004</td>\n      <td>COMPONENT3</td>\n      <td>3954</td>\n      <td>2015</td>\n      <td>200</td>\n      <td>0</td>\n      <td>0</td>\n      <td>0</td>\n      <td>0</td>\n      <td>71</td>\n      <td>0.0</td>\n      <td>0</td>\n      <td>0</td>\n      <td>0</td>\n      <td>217</td>\n      <td>0</td>\n      <td>0</td>\n      <td>133.1</td>\n      <td>128</td>\n    </tr>\n    <tr>\n      <th>...</th>\n      <td>...</td>\n      <td>...</td>\n      <td>...</td>\n      <td>...</td>\n      <td>...</td>\n      <td>...</td>\n      <td>...</td>\n      <td>...</td>\n      <td>...</td>\n      <td>...</td>\n      <td>...</td>\n      <td>...</td>\n      <td>...</td>\n      <td>...</td>\n      <td>...</td>\n      <td>...</td>\n      <td>...</td>\n      <td>...</td>\n      <td>...</td>\n    </tr>\n    <tr>\n      <th>14090</th>\n      <td>TRAIN_14090</td>\n      <td>COMPONENT3</td>\n      <td>1616</td>\n      <td>2014</td>\n      <td>200</td>\n      <td>0</td>\n      <td>0</td>\n      <td>0</td>\n      <td>3</td>\n      <td>23</td>\n      <td>0.0</td>\n      <td>0</td>\n      <td>0</td>\n      <td>0</td>\n      <td>35</td>\n      <td>0</td>\n      <td>0</td>\n      <td>135.4</td>\n      <td>16</td>\n    </tr>\n    <tr>\n      <th>14091</th>\n      <td>TRAIN_14091</td>\n      <td>COMPONENT1</td>\n      <td>2784</td>\n      <td>2013</td>\n      <td>200</td>\n      <td>0</td>\n      <td>0</td>\n      <td>0</td>\n      <td>2</td>\n      <td>12</td>\n      <td>0.0</td>\n      <td>0</td>\n      <td>224</td>\n      <td>0</td>\n      <td>9</td>\n      <td>0</td>\n      <td>0</td>\n      <td>117.5</td>\n      <td>1408</td>\n    </tr>\n    <tr>\n      <th>14092</th>\n      <td>TRAIN_14092</td>\n      <td>COMPONENT3</td>\n      <td>1788</td>\n      <td>2008</td>\n      <td>550</td>\n      <td>0</td>\n      <td>0</td>\n      <td>4</td>\n      <td>7</td>\n      <td>415</td>\n      <td>0.0</td>\n      <td>7</td>\n      <td>10</td>\n      <td>1</td>\n      <td>645</td>\n      <td>0</td>\n      <td>0</td>\n      <td>54.0</td>\n      <td>1301</td>\n    </tr>\n    <tr>\n      <th>14093</th>\n      <td>TRAIN_14093</td>\n      <td>COMPONENT2</td>\n      <td>2498</td>\n      <td>2009</td>\n      <td>550</td>\n      <td>0</td>\n      <td>0</td>\n      <td>0</td>\n      <td>170</td>\n      <td>19</td>\n      <td>0.0</td>\n      <td>0</td>\n      <td>1</td>\n      <td>0</td>\n      <td>11</td>\n      <td>0</td>\n      <td>0</td>\n      <td>44.3</td>\n      <td>652</td>\n    </tr>\n    <tr>\n      <th>14094</th>\n      <td>TRAIN_14094</td>\n      <td>COMPONENT2</td>\n      <td>1902</td>\n      <td>2012</td>\n      <td>200</td>\n      <td>0</td>\n      <td>0</td>\n      <td>0</td>\n      <td>110</td>\n      <td>10</td>\n      <td>0.0</td>\n      <td>0</td>\n      <td>0</td>\n      <td>0</td>\n      <td>81</td>\n      <td>2</td>\n      <td>0</td>\n      <td>47.0</td>\n      <td>612</td>\n    </tr>\n  </tbody>\n</table>\n<p>14095 rows × 19 columns</p>\n</div>"
     },
     "execution_count": 10,
     "metadata": {},
     "output_type": "execute_result"
    }
   ],
   "source": [
    "train[test_columns_list]"
   ],
   "metadata": {
    "collapsed": false,
    "pycharm": {
     "name": "#%%\n"
    }
   }
  },
  {
   "cell_type": "code",
   "execution_count": 11,
   "outputs": [],
   "source": [
    "train_test_col = train[test_columns_list]"
   ],
   "metadata": {
    "collapsed": false,
    "pycharm": {
     "name": "#%%\n"
    }
   }
  },
  {
   "cell_type": "code",
   "execution_count": 12,
   "outputs": [
    {
     "data": {
      "text/plain": "                ID    샘플오일관련부품  수치형데이터1  진단년도  수치형데이터2  은  일산화탄소  크로뮴   구리  \\\n0      TRAIN_00000  COMPONENT3     1486  2011      200  0      0   13   78   \n1      TRAIN_00001  COMPONENT2     1350  2021      375  0      0    0   31   \n2      TRAIN_00002  COMPONENT2     2415  2015      200  0      0    1    2   \n3      TRAIN_00003  COMPONENT3     7389  2010      200  0      0    0    1   \n4      TRAIN_00004  COMPONENT3     3954  2015      200  0      0    0    0   \n...            ...         ...      ...   ...      ... ..    ...  ...  ...   \n14090  TRAIN_14090  COMPONENT3     1616  2014      200  0      0    0    3   \n14091  TRAIN_14091  COMPONENT1     2784  2013      200  0      0    0    2   \n14092  TRAIN_14092  COMPONENT3     1788  2008      550  0      0    4    7   \n14093  TRAIN_14093  COMPONENT2     2498  2009      550  0      0    0  170   \n14094  TRAIN_14094  COMPONENT2     1902  2012      200  0      0    0  110   \n\n         철    물  망가니즈  몰리브데넘  니켈  입자 정량 지수  타이타늄  바나듐  점도 40도    아연  \n0      888  0.0    16      1   6      8504     5    0   154.0    75  \n1        2  0.0     0      0   0        19     0    0    44.0   652  \n2        4  0.0     0      0   0        17     0    0    72.6   412  \n3       37  0.0     1      0   0        44     0    0   133.3     7  \n4       71  0.0     0      0   0       217     0    0   133.1   128  \n...    ...  ...   ...    ...  ..       ...   ...  ...     ...   ...  \n14090   23  0.0     0      0   0        35     0    0   135.4    16  \n14091   12  0.0     0    224   0         9     0    0   117.5  1408  \n14092  415  0.0     7     10   1       645     0    0    54.0  1301  \n14093   19  0.0     0      1   0        11     0    0    44.3   652  \n14094   10  0.0     0      0   0        81     2    0    47.0   612  \n\n[14095 rows x 19 columns]",
      "text/html": "<div>\n<style scoped>\n    .dataframe tbody tr th:only-of-type {\n        vertical-align: middle;\n    }\n\n    .dataframe tbody tr th {\n        vertical-align: top;\n    }\n\n    .dataframe thead th {\n        text-align: right;\n    }\n</style>\n<table border=\"1\" class=\"dataframe\">\n  <thead>\n    <tr style=\"text-align: right;\">\n      <th></th>\n      <th>ID</th>\n      <th>샘플오일관련부품</th>\n      <th>수치형데이터1</th>\n      <th>진단년도</th>\n      <th>수치형데이터2</th>\n      <th>은</th>\n      <th>일산화탄소</th>\n      <th>크로뮴</th>\n      <th>구리</th>\n      <th>철</th>\n      <th>물</th>\n      <th>망가니즈</th>\n      <th>몰리브데넘</th>\n      <th>니켈</th>\n      <th>입자 정량 지수</th>\n      <th>타이타늄</th>\n      <th>바나듐</th>\n      <th>점도 40도</th>\n      <th>아연</th>\n    </tr>\n  </thead>\n  <tbody>\n    <tr>\n      <th>0</th>\n      <td>TRAIN_00000</td>\n      <td>COMPONENT3</td>\n      <td>1486</td>\n      <td>2011</td>\n      <td>200</td>\n      <td>0</td>\n      <td>0</td>\n      <td>13</td>\n      <td>78</td>\n      <td>888</td>\n      <td>0.0</td>\n      <td>16</td>\n      <td>1</td>\n      <td>6</td>\n      <td>8504</td>\n      <td>5</td>\n      <td>0</td>\n      <td>154.0</td>\n      <td>75</td>\n    </tr>\n    <tr>\n      <th>1</th>\n      <td>TRAIN_00001</td>\n      <td>COMPONENT2</td>\n      <td>1350</td>\n      <td>2021</td>\n      <td>375</td>\n      <td>0</td>\n      <td>0</td>\n      <td>0</td>\n      <td>31</td>\n      <td>2</td>\n      <td>0.0</td>\n      <td>0</td>\n      <td>0</td>\n      <td>0</td>\n      <td>19</td>\n      <td>0</td>\n      <td>0</td>\n      <td>44.0</td>\n      <td>652</td>\n    </tr>\n    <tr>\n      <th>2</th>\n      <td>TRAIN_00002</td>\n      <td>COMPONENT2</td>\n      <td>2415</td>\n      <td>2015</td>\n      <td>200</td>\n      <td>0</td>\n      <td>0</td>\n      <td>1</td>\n      <td>2</td>\n      <td>4</td>\n      <td>0.0</td>\n      <td>0</td>\n      <td>0</td>\n      <td>0</td>\n      <td>17</td>\n      <td>0</td>\n      <td>0</td>\n      <td>72.6</td>\n      <td>412</td>\n    </tr>\n    <tr>\n      <th>3</th>\n      <td>TRAIN_00003</td>\n      <td>COMPONENT3</td>\n      <td>7389</td>\n      <td>2010</td>\n      <td>200</td>\n      <td>0</td>\n      <td>0</td>\n      <td>0</td>\n      <td>1</td>\n      <td>37</td>\n      <td>0.0</td>\n      <td>1</td>\n      <td>0</td>\n      <td>0</td>\n      <td>44</td>\n      <td>0</td>\n      <td>0</td>\n      <td>133.3</td>\n      <td>7</td>\n    </tr>\n    <tr>\n      <th>4</th>\n      <td>TRAIN_00004</td>\n      <td>COMPONENT3</td>\n      <td>3954</td>\n      <td>2015</td>\n      <td>200</td>\n      <td>0</td>\n      <td>0</td>\n      <td>0</td>\n      <td>0</td>\n      <td>71</td>\n      <td>0.0</td>\n      <td>0</td>\n      <td>0</td>\n      <td>0</td>\n      <td>217</td>\n      <td>0</td>\n      <td>0</td>\n      <td>133.1</td>\n      <td>128</td>\n    </tr>\n    <tr>\n      <th>...</th>\n      <td>...</td>\n      <td>...</td>\n      <td>...</td>\n      <td>...</td>\n      <td>...</td>\n      <td>...</td>\n      <td>...</td>\n      <td>...</td>\n      <td>...</td>\n      <td>...</td>\n      <td>...</td>\n      <td>...</td>\n      <td>...</td>\n      <td>...</td>\n      <td>...</td>\n      <td>...</td>\n      <td>...</td>\n      <td>...</td>\n      <td>...</td>\n    </tr>\n    <tr>\n      <th>14090</th>\n      <td>TRAIN_14090</td>\n      <td>COMPONENT3</td>\n      <td>1616</td>\n      <td>2014</td>\n      <td>200</td>\n      <td>0</td>\n      <td>0</td>\n      <td>0</td>\n      <td>3</td>\n      <td>23</td>\n      <td>0.0</td>\n      <td>0</td>\n      <td>0</td>\n      <td>0</td>\n      <td>35</td>\n      <td>0</td>\n      <td>0</td>\n      <td>135.4</td>\n      <td>16</td>\n    </tr>\n    <tr>\n      <th>14091</th>\n      <td>TRAIN_14091</td>\n      <td>COMPONENT1</td>\n      <td>2784</td>\n      <td>2013</td>\n      <td>200</td>\n      <td>0</td>\n      <td>0</td>\n      <td>0</td>\n      <td>2</td>\n      <td>12</td>\n      <td>0.0</td>\n      <td>0</td>\n      <td>224</td>\n      <td>0</td>\n      <td>9</td>\n      <td>0</td>\n      <td>0</td>\n      <td>117.5</td>\n      <td>1408</td>\n    </tr>\n    <tr>\n      <th>14092</th>\n      <td>TRAIN_14092</td>\n      <td>COMPONENT3</td>\n      <td>1788</td>\n      <td>2008</td>\n      <td>550</td>\n      <td>0</td>\n      <td>0</td>\n      <td>4</td>\n      <td>7</td>\n      <td>415</td>\n      <td>0.0</td>\n      <td>7</td>\n      <td>10</td>\n      <td>1</td>\n      <td>645</td>\n      <td>0</td>\n      <td>0</td>\n      <td>54.0</td>\n      <td>1301</td>\n    </tr>\n    <tr>\n      <th>14093</th>\n      <td>TRAIN_14093</td>\n      <td>COMPONENT2</td>\n      <td>2498</td>\n      <td>2009</td>\n      <td>550</td>\n      <td>0</td>\n      <td>0</td>\n      <td>0</td>\n      <td>170</td>\n      <td>19</td>\n      <td>0.0</td>\n      <td>0</td>\n      <td>1</td>\n      <td>0</td>\n      <td>11</td>\n      <td>0</td>\n      <td>0</td>\n      <td>44.3</td>\n      <td>652</td>\n    </tr>\n    <tr>\n      <th>14094</th>\n      <td>TRAIN_14094</td>\n      <td>COMPONENT2</td>\n      <td>1902</td>\n      <td>2012</td>\n      <td>200</td>\n      <td>0</td>\n      <td>0</td>\n      <td>0</td>\n      <td>110</td>\n      <td>10</td>\n      <td>0.0</td>\n      <td>0</td>\n      <td>0</td>\n      <td>0</td>\n      <td>81</td>\n      <td>2</td>\n      <td>0</td>\n      <td>47.0</td>\n      <td>612</td>\n    </tr>\n  </tbody>\n</table>\n<p>14095 rows × 19 columns</p>\n</div>"
     },
     "execution_count": 12,
     "metadata": {},
     "output_type": "execute_result"
    }
   ],
   "source": [
    "train_test_col"
   ],
   "metadata": {
    "collapsed": false,
    "pycharm": {
     "name": "#%%\n"
    }
   }
  },
  {
   "cell_type": "code",
   "execution_count": 13,
   "outputs": [
    {
     "data": {
      "text/plain": "             ID    샘플오일관련부품  수치형데이터1  진단년도  수치형데이터2  은  일산화탄소  크로뮴   구리     철  \\\n0     TEST_0000  COMPONENT1     2192  2016      200  0      0    0    1    12   \n1     TEST_0001  COMPONENT3     2794  2011      200  0      0    2    1   278   \n2     TEST_0002  COMPONENT2     1982  2010      200  0      0    0   16     5   \n3     TEST_0003  COMPONENT3     1404  2009      200  0      0    3    4   163   \n4     TEST_0004  COMPONENT2     8225  2013      200  0      0    0    6    13   \n...         ...         ...      ...   ...      ... ..    ...  ...  ...   ...   \n6036  TEST_6036  COMPONENT3     1714  2014      200  0      0    3  130  1047   \n6037  TEST_6037  COMPONENT3     4131  2016      200  0      0    5    2   736   \n6038  TEST_6038  COMPONENT3     4325  2014      200  0      0    0    0    53   \n6039  TEST_6039  COMPONENT2     1364  2013      200  0      0    0   62     2   \n6040  TEST_6040  COMPONENT1     2397  2016     1597  1      0    0    0     4   \n\n        물  망가니즈  몰리브데넘  니켈  입자 정량 지수  타이타늄  바나듐  점도 40도    아연  \n0     0.0     0      0   0        10     0    0    91.3  1091  \n1     0.0     3      0   0      2732     1    0   126.9    12  \n2     0.0     0      0   0        11     0    0    44.3   714  \n3     0.0     4      3   0      8007     0    0   142.8    94  \n4     0.0     0      0   0        16     0    0    63.4   469  \n...   ...   ...    ...  ..       ...   ...  ...     ...   ...  \n6036  0.0    65      5   2      1999     0    0    71.2  1163  \n6037  0.0     5      0   0       693     0    0   137.8    13  \n6038  0.0     0      0   0        69     0    0   302.2    13  \n6039  0.0     0      0   0         5     0    0    51.1   478  \n6040  0.0     0      2   0        14     0    0    80.0   970  \n\n[6041 rows x 19 columns]",
      "text/html": "<div>\n<style scoped>\n    .dataframe tbody tr th:only-of-type {\n        vertical-align: middle;\n    }\n\n    .dataframe tbody tr th {\n        vertical-align: top;\n    }\n\n    .dataframe thead th {\n        text-align: right;\n    }\n</style>\n<table border=\"1\" class=\"dataframe\">\n  <thead>\n    <tr style=\"text-align: right;\">\n      <th></th>\n      <th>ID</th>\n      <th>샘플오일관련부품</th>\n      <th>수치형데이터1</th>\n      <th>진단년도</th>\n      <th>수치형데이터2</th>\n      <th>은</th>\n      <th>일산화탄소</th>\n      <th>크로뮴</th>\n      <th>구리</th>\n      <th>철</th>\n      <th>물</th>\n      <th>망가니즈</th>\n      <th>몰리브데넘</th>\n      <th>니켈</th>\n      <th>입자 정량 지수</th>\n      <th>타이타늄</th>\n      <th>바나듐</th>\n      <th>점도 40도</th>\n      <th>아연</th>\n    </tr>\n  </thead>\n  <tbody>\n    <tr>\n      <th>0</th>\n      <td>TEST_0000</td>\n      <td>COMPONENT1</td>\n      <td>2192</td>\n      <td>2016</td>\n      <td>200</td>\n      <td>0</td>\n      <td>0</td>\n      <td>0</td>\n      <td>1</td>\n      <td>12</td>\n      <td>0.0</td>\n      <td>0</td>\n      <td>0</td>\n      <td>0</td>\n      <td>10</td>\n      <td>0</td>\n      <td>0</td>\n      <td>91.3</td>\n      <td>1091</td>\n    </tr>\n    <tr>\n      <th>1</th>\n      <td>TEST_0001</td>\n      <td>COMPONENT3</td>\n      <td>2794</td>\n      <td>2011</td>\n      <td>200</td>\n      <td>0</td>\n      <td>0</td>\n      <td>2</td>\n      <td>1</td>\n      <td>278</td>\n      <td>0.0</td>\n      <td>3</td>\n      <td>0</td>\n      <td>0</td>\n      <td>2732</td>\n      <td>1</td>\n      <td>0</td>\n      <td>126.9</td>\n      <td>12</td>\n    </tr>\n    <tr>\n      <th>2</th>\n      <td>TEST_0002</td>\n      <td>COMPONENT2</td>\n      <td>1982</td>\n      <td>2010</td>\n      <td>200</td>\n      <td>0</td>\n      <td>0</td>\n      <td>0</td>\n      <td>16</td>\n      <td>5</td>\n      <td>0.0</td>\n      <td>0</td>\n      <td>0</td>\n      <td>0</td>\n      <td>11</td>\n      <td>0</td>\n      <td>0</td>\n      <td>44.3</td>\n      <td>714</td>\n    </tr>\n    <tr>\n      <th>3</th>\n      <td>TEST_0003</td>\n      <td>COMPONENT3</td>\n      <td>1404</td>\n      <td>2009</td>\n      <td>200</td>\n      <td>0</td>\n      <td>0</td>\n      <td>3</td>\n      <td>4</td>\n      <td>163</td>\n      <td>0.0</td>\n      <td>4</td>\n      <td>3</td>\n      <td>0</td>\n      <td>8007</td>\n      <td>0</td>\n      <td>0</td>\n      <td>142.8</td>\n      <td>94</td>\n    </tr>\n    <tr>\n      <th>4</th>\n      <td>TEST_0004</td>\n      <td>COMPONENT2</td>\n      <td>8225</td>\n      <td>2013</td>\n      <td>200</td>\n      <td>0</td>\n      <td>0</td>\n      <td>0</td>\n      <td>6</td>\n      <td>13</td>\n      <td>0.0</td>\n      <td>0</td>\n      <td>0</td>\n      <td>0</td>\n      <td>16</td>\n      <td>0</td>\n      <td>0</td>\n      <td>63.4</td>\n      <td>469</td>\n    </tr>\n    <tr>\n      <th>...</th>\n      <td>...</td>\n      <td>...</td>\n      <td>...</td>\n      <td>...</td>\n      <td>...</td>\n      <td>...</td>\n      <td>...</td>\n      <td>...</td>\n      <td>...</td>\n      <td>...</td>\n      <td>...</td>\n      <td>...</td>\n      <td>...</td>\n      <td>...</td>\n      <td>...</td>\n      <td>...</td>\n      <td>...</td>\n      <td>...</td>\n      <td>...</td>\n    </tr>\n    <tr>\n      <th>6036</th>\n      <td>TEST_6036</td>\n      <td>COMPONENT3</td>\n      <td>1714</td>\n      <td>2014</td>\n      <td>200</td>\n      <td>0</td>\n      <td>0</td>\n      <td>3</td>\n      <td>130</td>\n      <td>1047</td>\n      <td>0.0</td>\n      <td>65</td>\n      <td>5</td>\n      <td>2</td>\n      <td>1999</td>\n      <td>0</td>\n      <td>0</td>\n      <td>71.2</td>\n      <td>1163</td>\n    </tr>\n    <tr>\n      <th>6037</th>\n      <td>TEST_6037</td>\n      <td>COMPONENT3</td>\n      <td>4131</td>\n      <td>2016</td>\n      <td>200</td>\n      <td>0</td>\n      <td>0</td>\n      <td>5</td>\n      <td>2</td>\n      <td>736</td>\n      <td>0.0</td>\n      <td>5</td>\n      <td>0</td>\n      <td>0</td>\n      <td>693</td>\n      <td>0</td>\n      <td>0</td>\n      <td>137.8</td>\n      <td>13</td>\n    </tr>\n    <tr>\n      <th>6038</th>\n      <td>TEST_6038</td>\n      <td>COMPONENT3</td>\n      <td>4325</td>\n      <td>2014</td>\n      <td>200</td>\n      <td>0</td>\n      <td>0</td>\n      <td>0</td>\n      <td>0</td>\n      <td>53</td>\n      <td>0.0</td>\n      <td>0</td>\n      <td>0</td>\n      <td>0</td>\n      <td>69</td>\n      <td>0</td>\n      <td>0</td>\n      <td>302.2</td>\n      <td>13</td>\n    </tr>\n    <tr>\n      <th>6039</th>\n      <td>TEST_6039</td>\n      <td>COMPONENT2</td>\n      <td>1364</td>\n      <td>2013</td>\n      <td>200</td>\n      <td>0</td>\n      <td>0</td>\n      <td>0</td>\n      <td>62</td>\n      <td>2</td>\n      <td>0.0</td>\n      <td>0</td>\n      <td>0</td>\n      <td>0</td>\n      <td>5</td>\n      <td>0</td>\n      <td>0</td>\n      <td>51.1</td>\n      <td>478</td>\n    </tr>\n    <tr>\n      <th>6040</th>\n      <td>TEST_6040</td>\n      <td>COMPONENT1</td>\n      <td>2397</td>\n      <td>2016</td>\n      <td>1597</td>\n      <td>1</td>\n      <td>0</td>\n      <td>0</td>\n      <td>0</td>\n      <td>4</td>\n      <td>0.0</td>\n      <td>0</td>\n      <td>2</td>\n      <td>0</td>\n      <td>14</td>\n      <td>0</td>\n      <td>0</td>\n      <td>80.0</td>\n      <td>970</td>\n    </tr>\n  </tbody>\n</table>\n<p>6041 rows × 19 columns</p>\n</div>"
     },
     "execution_count": 13,
     "metadata": {},
     "output_type": "execute_result"
    }
   ],
   "source": [
    "test"
   ],
   "metadata": {
    "collapsed": false,
    "pycharm": {
     "name": "#%%\n"
    }
   }
  },
  {
   "cell_type": "code",
   "execution_count": 14,
   "outputs": [
    {
     "data": {
      "text/plain": "               ID    샘플오일관련부품  수치형데이터1  진단년도  수치형데이터2  은  일산화탄소  크로뮴   구리  \\\n0     TRAIN_00000  COMPONENT3     1486  2011      200  0      0   13   78   \n1     TRAIN_00001  COMPONENT2     1350  2021      375  0      0    0   31   \n2     TRAIN_00002  COMPONENT2     2415  2015      200  0      0    1    2   \n3     TRAIN_00003  COMPONENT3     7389  2010      200  0      0    0    1   \n4     TRAIN_00004  COMPONENT3     3954  2015      200  0      0    0    0   \n...           ...         ...      ...   ...      ... ..    ...  ...  ...   \n6036    TEST_6036  COMPONENT3     1714  2014      200  0      0    3  130   \n6037    TEST_6037  COMPONENT3     4131  2016      200  0      0    5    2   \n6038    TEST_6038  COMPONENT3     4325  2014      200  0      0    0    0   \n6039    TEST_6039  COMPONENT2     1364  2013      200  0      0    0   62   \n6040    TEST_6040  COMPONENT1     2397  2016     1597  1      0    0    0   \n\n         철    물  망가니즈  몰리브데넘  니켈  입자 정량 지수  타이타늄  바나듐  점도 40도    아연  \n0      888  0.0    16      1   6      8504     5    0   154.0    75  \n1        2  0.0     0      0   0        19     0    0    44.0   652  \n2        4  0.0     0      0   0        17     0    0    72.6   412  \n3       37  0.0     1      0   0        44     0    0   133.3     7  \n4       71  0.0     0      0   0       217     0    0   133.1   128  \n...    ...  ...   ...    ...  ..       ...   ...  ...     ...   ...  \n6036  1047  0.0    65      5   2      1999     0    0    71.2  1163  \n6037   736  0.0     5      0   0       693     0    0   137.8    13  \n6038    53  0.0     0      0   0        69     0    0   302.2    13  \n6039     2  0.0     0      0   0         5     0    0    51.1   478  \n6040     4  0.0     0      2   0        14     0    0    80.0   970  \n\n[20136 rows x 19 columns]",
      "text/html": "<div>\n<style scoped>\n    .dataframe tbody tr th:only-of-type {\n        vertical-align: middle;\n    }\n\n    .dataframe tbody tr th {\n        vertical-align: top;\n    }\n\n    .dataframe thead th {\n        text-align: right;\n    }\n</style>\n<table border=\"1\" class=\"dataframe\">\n  <thead>\n    <tr style=\"text-align: right;\">\n      <th></th>\n      <th>ID</th>\n      <th>샘플오일관련부품</th>\n      <th>수치형데이터1</th>\n      <th>진단년도</th>\n      <th>수치형데이터2</th>\n      <th>은</th>\n      <th>일산화탄소</th>\n      <th>크로뮴</th>\n      <th>구리</th>\n      <th>철</th>\n      <th>물</th>\n      <th>망가니즈</th>\n      <th>몰리브데넘</th>\n      <th>니켈</th>\n      <th>입자 정량 지수</th>\n      <th>타이타늄</th>\n      <th>바나듐</th>\n      <th>점도 40도</th>\n      <th>아연</th>\n    </tr>\n  </thead>\n  <tbody>\n    <tr>\n      <th>0</th>\n      <td>TRAIN_00000</td>\n      <td>COMPONENT3</td>\n      <td>1486</td>\n      <td>2011</td>\n      <td>200</td>\n      <td>0</td>\n      <td>0</td>\n      <td>13</td>\n      <td>78</td>\n      <td>888</td>\n      <td>0.0</td>\n      <td>16</td>\n      <td>1</td>\n      <td>6</td>\n      <td>8504</td>\n      <td>5</td>\n      <td>0</td>\n      <td>154.0</td>\n      <td>75</td>\n    </tr>\n    <tr>\n      <th>1</th>\n      <td>TRAIN_00001</td>\n      <td>COMPONENT2</td>\n      <td>1350</td>\n      <td>2021</td>\n      <td>375</td>\n      <td>0</td>\n      <td>0</td>\n      <td>0</td>\n      <td>31</td>\n      <td>2</td>\n      <td>0.0</td>\n      <td>0</td>\n      <td>0</td>\n      <td>0</td>\n      <td>19</td>\n      <td>0</td>\n      <td>0</td>\n      <td>44.0</td>\n      <td>652</td>\n    </tr>\n    <tr>\n      <th>2</th>\n      <td>TRAIN_00002</td>\n      <td>COMPONENT2</td>\n      <td>2415</td>\n      <td>2015</td>\n      <td>200</td>\n      <td>0</td>\n      <td>0</td>\n      <td>1</td>\n      <td>2</td>\n      <td>4</td>\n      <td>0.0</td>\n      <td>0</td>\n      <td>0</td>\n      <td>0</td>\n      <td>17</td>\n      <td>0</td>\n      <td>0</td>\n      <td>72.6</td>\n      <td>412</td>\n    </tr>\n    <tr>\n      <th>3</th>\n      <td>TRAIN_00003</td>\n      <td>COMPONENT3</td>\n      <td>7389</td>\n      <td>2010</td>\n      <td>200</td>\n      <td>0</td>\n      <td>0</td>\n      <td>0</td>\n      <td>1</td>\n      <td>37</td>\n      <td>0.0</td>\n      <td>1</td>\n      <td>0</td>\n      <td>0</td>\n      <td>44</td>\n      <td>0</td>\n      <td>0</td>\n      <td>133.3</td>\n      <td>7</td>\n    </tr>\n    <tr>\n      <th>4</th>\n      <td>TRAIN_00004</td>\n      <td>COMPONENT3</td>\n      <td>3954</td>\n      <td>2015</td>\n      <td>200</td>\n      <td>0</td>\n      <td>0</td>\n      <td>0</td>\n      <td>0</td>\n      <td>71</td>\n      <td>0.0</td>\n      <td>0</td>\n      <td>0</td>\n      <td>0</td>\n      <td>217</td>\n      <td>0</td>\n      <td>0</td>\n      <td>133.1</td>\n      <td>128</td>\n    </tr>\n    <tr>\n      <th>...</th>\n      <td>...</td>\n      <td>...</td>\n      <td>...</td>\n      <td>...</td>\n      <td>...</td>\n      <td>...</td>\n      <td>...</td>\n      <td>...</td>\n      <td>...</td>\n      <td>...</td>\n      <td>...</td>\n      <td>...</td>\n      <td>...</td>\n      <td>...</td>\n      <td>...</td>\n      <td>...</td>\n      <td>...</td>\n      <td>...</td>\n      <td>...</td>\n    </tr>\n    <tr>\n      <th>6036</th>\n      <td>TEST_6036</td>\n      <td>COMPONENT3</td>\n      <td>1714</td>\n      <td>2014</td>\n      <td>200</td>\n      <td>0</td>\n      <td>0</td>\n      <td>3</td>\n      <td>130</td>\n      <td>1047</td>\n      <td>0.0</td>\n      <td>65</td>\n      <td>5</td>\n      <td>2</td>\n      <td>1999</td>\n      <td>0</td>\n      <td>0</td>\n      <td>71.2</td>\n      <td>1163</td>\n    </tr>\n    <tr>\n      <th>6037</th>\n      <td>TEST_6037</td>\n      <td>COMPONENT3</td>\n      <td>4131</td>\n      <td>2016</td>\n      <td>200</td>\n      <td>0</td>\n      <td>0</td>\n      <td>5</td>\n      <td>2</td>\n      <td>736</td>\n      <td>0.0</td>\n      <td>5</td>\n      <td>0</td>\n      <td>0</td>\n      <td>693</td>\n      <td>0</td>\n      <td>0</td>\n      <td>137.8</td>\n      <td>13</td>\n    </tr>\n    <tr>\n      <th>6038</th>\n      <td>TEST_6038</td>\n      <td>COMPONENT3</td>\n      <td>4325</td>\n      <td>2014</td>\n      <td>200</td>\n      <td>0</td>\n      <td>0</td>\n      <td>0</td>\n      <td>0</td>\n      <td>53</td>\n      <td>0.0</td>\n      <td>0</td>\n      <td>0</td>\n      <td>0</td>\n      <td>69</td>\n      <td>0</td>\n      <td>0</td>\n      <td>302.2</td>\n      <td>13</td>\n    </tr>\n    <tr>\n      <th>6039</th>\n      <td>TEST_6039</td>\n      <td>COMPONENT2</td>\n      <td>1364</td>\n      <td>2013</td>\n      <td>200</td>\n      <td>0</td>\n      <td>0</td>\n      <td>0</td>\n      <td>62</td>\n      <td>2</td>\n      <td>0.0</td>\n      <td>0</td>\n      <td>0</td>\n      <td>0</td>\n      <td>5</td>\n      <td>0</td>\n      <td>0</td>\n      <td>51.1</td>\n      <td>478</td>\n    </tr>\n    <tr>\n      <th>6040</th>\n      <td>TEST_6040</td>\n      <td>COMPONENT1</td>\n      <td>2397</td>\n      <td>2016</td>\n      <td>1597</td>\n      <td>1</td>\n      <td>0</td>\n      <td>0</td>\n      <td>0</td>\n      <td>4</td>\n      <td>0.0</td>\n      <td>0</td>\n      <td>2</td>\n      <td>0</td>\n      <td>14</td>\n      <td>0</td>\n      <td>0</td>\n      <td>80.0</td>\n      <td>970</td>\n    </tr>\n  </tbody>\n</table>\n<p>20136 rows × 19 columns</p>\n</div>"
     },
     "execution_count": 14,
     "metadata": {},
     "output_type": "execute_result"
    }
   ],
   "source": [
    "df = pd.concat([train_test_col,test])\n",
    "df"
   ],
   "metadata": {
    "collapsed": false,
    "pycharm": {
     "name": "#%%\n"
    }
   }
  },
  {
   "cell_type": "markdown",
   "source": [
    "# 피처 엔지니어링"
   ],
   "metadata": {
    "collapsed": false,
    "pycharm": {
     "name": "#%% md\n"
    }
   }
  },
  {
   "cell_type": "code",
   "execution_count": 15,
   "outputs": [],
   "source": [
    "from sklearn.preprocessing import StandardScaler # 스케일링 라이브러리\n",
    "from sklearn.preprocessing import OneHotEncoder\n",
    "from sklearn.preprocessing import OrdinalEncoder\n",
    "from sklearn.preprocessing import MinMaxScaler\n",
    "from sklearn.preprocessing import LabelEncoder\n",
    "from sklearn.preprocessing import RobustScaler"
   ],
   "metadata": {
    "collapsed": false,
    "pycharm": {
     "name": "#%%\n"
    }
   }
  },
  {
   "cell_type": "code",
   "execution_count": 16,
   "outputs": [],
   "source": [
    "num_attribss_list = df.drop(columns = ['ID','샘플오일관련부품']).columns"
   ],
   "metadata": {
    "collapsed": false,
    "pycharm": {
     "name": "#%%\n"
    }
   }
  },
  {
   "cell_type": "code",
   "execution_count": 17,
   "outputs": [],
   "source": [
    "num_attribss_list_drop_mang = df.drop(columns = ['ID','샘플오일관련부품','타이타늄']).columns"
   ],
   "metadata": {
    "collapsed": false,
    "pycharm": {
     "name": "#%%\n"
    }
   }
  },
  {
   "cell_type": "code",
   "execution_count": 18,
   "outputs": [],
   "source": [
    "num_attribss = df[num_attribss_list]\n",
    "cat_attribs = df[['샘플오일관련부품']]\n",
    "y = train['Y_LABEL']\n",
    "\n",
    "num_attribss_mang = df[num_attribss_list_drop_mang]\n",
    "# 변수별 타입 나누기"
   ],
   "metadata": {
    "collapsed": false,
    "pycharm": {
     "name": "#%%\n"
    }
   }
  },
  {
   "cell_type": "code",
   "execution_count": 19,
   "outputs": [
    {
     "data": {
      "text/plain": "               ID    샘플오일관련부품  수치형데이터1  진단년도  수치형데이터2  은  일산화탄소  크로뮴   구리  \\\n0     TRAIN_00000  COMPONENT3     1486  2011      200  0      0   13   78   \n1     TRAIN_00001  COMPONENT2     1350  2021      375  0      0    0   31   \n2     TRAIN_00002  COMPONENT2     2415  2015      200  0      0    1    2   \n3     TRAIN_00003  COMPONENT3     7389  2010      200  0      0    0    1   \n4     TRAIN_00004  COMPONENT3     3954  2015      200  0      0    0    0   \n...           ...         ...      ...   ...      ... ..    ...  ...  ...   \n6036    TEST_6036  COMPONENT3     1714  2014      200  0      0    3  130   \n6037    TEST_6037  COMPONENT3     4131  2016      200  0      0    5    2   \n6038    TEST_6038  COMPONENT3     4325  2014      200  0      0    0    0   \n6039    TEST_6039  COMPONENT2     1364  2013      200  0      0    0   62   \n6040    TEST_6040  COMPONENT1     2397  2016     1597  1      0    0    0   \n\n         철    물  망가니즈  몰리브데넘  니켈  입자 정량 지수  타이타늄  바나듐  점도 40도    아연  \n0      888  0.0    16      1   6      8504     5    0   154.0    75  \n1        2  0.0     0      0   0        19     0    0    44.0   652  \n2        4  0.0     0      0   0        17     0    0    72.6   412  \n3       37  0.0     1      0   0        44     0    0   133.3     7  \n4       71  0.0     0      0   0       217     0    0   133.1   128  \n...    ...  ...   ...    ...  ..       ...   ...  ...     ...   ...  \n6036  1047  0.0    65      5   2      1999     0    0    71.2  1163  \n6037   736  0.0     5      0   0       693     0    0   137.8    13  \n6038    53  0.0     0      0   0        69     0    0   302.2    13  \n6039     2  0.0     0      0   0         5     0    0    51.1   478  \n6040     4  0.0     0      2   0        14     0    0    80.0   970  \n\n[20136 rows x 19 columns]",
      "text/html": "<div>\n<style scoped>\n    .dataframe tbody tr th:only-of-type {\n        vertical-align: middle;\n    }\n\n    .dataframe tbody tr th {\n        vertical-align: top;\n    }\n\n    .dataframe thead th {\n        text-align: right;\n    }\n</style>\n<table border=\"1\" class=\"dataframe\">\n  <thead>\n    <tr style=\"text-align: right;\">\n      <th></th>\n      <th>ID</th>\n      <th>샘플오일관련부품</th>\n      <th>수치형데이터1</th>\n      <th>진단년도</th>\n      <th>수치형데이터2</th>\n      <th>은</th>\n      <th>일산화탄소</th>\n      <th>크로뮴</th>\n      <th>구리</th>\n      <th>철</th>\n      <th>물</th>\n      <th>망가니즈</th>\n      <th>몰리브데넘</th>\n      <th>니켈</th>\n      <th>입자 정량 지수</th>\n      <th>타이타늄</th>\n      <th>바나듐</th>\n      <th>점도 40도</th>\n      <th>아연</th>\n    </tr>\n  </thead>\n  <tbody>\n    <tr>\n      <th>0</th>\n      <td>TRAIN_00000</td>\n      <td>COMPONENT3</td>\n      <td>1486</td>\n      <td>2011</td>\n      <td>200</td>\n      <td>0</td>\n      <td>0</td>\n      <td>13</td>\n      <td>78</td>\n      <td>888</td>\n      <td>0.0</td>\n      <td>16</td>\n      <td>1</td>\n      <td>6</td>\n      <td>8504</td>\n      <td>5</td>\n      <td>0</td>\n      <td>154.0</td>\n      <td>75</td>\n    </tr>\n    <tr>\n      <th>1</th>\n      <td>TRAIN_00001</td>\n      <td>COMPONENT2</td>\n      <td>1350</td>\n      <td>2021</td>\n      <td>375</td>\n      <td>0</td>\n      <td>0</td>\n      <td>0</td>\n      <td>31</td>\n      <td>2</td>\n      <td>0.0</td>\n      <td>0</td>\n      <td>0</td>\n      <td>0</td>\n      <td>19</td>\n      <td>0</td>\n      <td>0</td>\n      <td>44.0</td>\n      <td>652</td>\n    </tr>\n    <tr>\n      <th>2</th>\n      <td>TRAIN_00002</td>\n      <td>COMPONENT2</td>\n      <td>2415</td>\n      <td>2015</td>\n      <td>200</td>\n      <td>0</td>\n      <td>0</td>\n      <td>1</td>\n      <td>2</td>\n      <td>4</td>\n      <td>0.0</td>\n      <td>0</td>\n      <td>0</td>\n      <td>0</td>\n      <td>17</td>\n      <td>0</td>\n      <td>0</td>\n      <td>72.6</td>\n      <td>412</td>\n    </tr>\n    <tr>\n      <th>3</th>\n      <td>TRAIN_00003</td>\n      <td>COMPONENT3</td>\n      <td>7389</td>\n      <td>2010</td>\n      <td>200</td>\n      <td>0</td>\n      <td>0</td>\n      <td>0</td>\n      <td>1</td>\n      <td>37</td>\n      <td>0.0</td>\n      <td>1</td>\n      <td>0</td>\n      <td>0</td>\n      <td>44</td>\n      <td>0</td>\n      <td>0</td>\n      <td>133.3</td>\n      <td>7</td>\n    </tr>\n    <tr>\n      <th>4</th>\n      <td>TRAIN_00004</td>\n      <td>COMPONENT3</td>\n      <td>3954</td>\n      <td>2015</td>\n      <td>200</td>\n      <td>0</td>\n      <td>0</td>\n      <td>0</td>\n      <td>0</td>\n      <td>71</td>\n      <td>0.0</td>\n      <td>0</td>\n      <td>0</td>\n      <td>0</td>\n      <td>217</td>\n      <td>0</td>\n      <td>0</td>\n      <td>133.1</td>\n      <td>128</td>\n    </tr>\n    <tr>\n      <th>...</th>\n      <td>...</td>\n      <td>...</td>\n      <td>...</td>\n      <td>...</td>\n      <td>...</td>\n      <td>...</td>\n      <td>...</td>\n      <td>...</td>\n      <td>...</td>\n      <td>...</td>\n      <td>...</td>\n      <td>...</td>\n      <td>...</td>\n      <td>...</td>\n      <td>...</td>\n      <td>...</td>\n      <td>...</td>\n      <td>...</td>\n      <td>...</td>\n    </tr>\n    <tr>\n      <th>6036</th>\n      <td>TEST_6036</td>\n      <td>COMPONENT3</td>\n      <td>1714</td>\n      <td>2014</td>\n      <td>200</td>\n      <td>0</td>\n      <td>0</td>\n      <td>3</td>\n      <td>130</td>\n      <td>1047</td>\n      <td>0.0</td>\n      <td>65</td>\n      <td>5</td>\n      <td>2</td>\n      <td>1999</td>\n      <td>0</td>\n      <td>0</td>\n      <td>71.2</td>\n      <td>1163</td>\n    </tr>\n    <tr>\n      <th>6037</th>\n      <td>TEST_6037</td>\n      <td>COMPONENT3</td>\n      <td>4131</td>\n      <td>2016</td>\n      <td>200</td>\n      <td>0</td>\n      <td>0</td>\n      <td>5</td>\n      <td>2</td>\n      <td>736</td>\n      <td>0.0</td>\n      <td>5</td>\n      <td>0</td>\n      <td>0</td>\n      <td>693</td>\n      <td>0</td>\n      <td>0</td>\n      <td>137.8</td>\n      <td>13</td>\n    </tr>\n    <tr>\n      <th>6038</th>\n      <td>TEST_6038</td>\n      <td>COMPONENT3</td>\n      <td>4325</td>\n      <td>2014</td>\n      <td>200</td>\n      <td>0</td>\n      <td>0</td>\n      <td>0</td>\n      <td>0</td>\n      <td>53</td>\n      <td>0.0</td>\n      <td>0</td>\n      <td>0</td>\n      <td>0</td>\n      <td>69</td>\n      <td>0</td>\n      <td>0</td>\n      <td>302.2</td>\n      <td>13</td>\n    </tr>\n    <tr>\n      <th>6039</th>\n      <td>TEST_6039</td>\n      <td>COMPONENT2</td>\n      <td>1364</td>\n      <td>2013</td>\n      <td>200</td>\n      <td>0</td>\n      <td>0</td>\n      <td>0</td>\n      <td>62</td>\n      <td>2</td>\n      <td>0.0</td>\n      <td>0</td>\n      <td>0</td>\n      <td>0</td>\n      <td>5</td>\n      <td>0</td>\n      <td>0</td>\n      <td>51.1</td>\n      <td>478</td>\n    </tr>\n    <tr>\n      <th>6040</th>\n      <td>TEST_6040</td>\n      <td>COMPONENT1</td>\n      <td>2397</td>\n      <td>2016</td>\n      <td>1597</td>\n      <td>1</td>\n      <td>0</td>\n      <td>0</td>\n      <td>0</td>\n      <td>4</td>\n      <td>0.0</td>\n      <td>0</td>\n      <td>2</td>\n      <td>0</td>\n      <td>14</td>\n      <td>0</td>\n      <td>0</td>\n      <td>80.0</td>\n      <td>970</td>\n    </tr>\n  </tbody>\n</table>\n<p>20136 rows × 19 columns</p>\n</div>"
     },
     "execution_count": 19,
     "metadata": {},
     "output_type": "execute_result"
    }
   ],
   "source": [
    "df"
   ],
   "metadata": {
    "collapsed": false,
    "pycharm": {
     "name": "#%%\n"
    }
   }
  },
  {
   "cell_type": "markdown",
   "source": [
    "## 이상치 제거"
   ],
   "metadata": {
    "collapsed": false
   }
  },
  {
   "cell_type": "code",
   "source": [
    "q3 = df.quantile(0.75)  # df['국어'].quantile(0.75) 처럼 특정 열만 적용 가능\n",
    "q1 = df.quantile(0.25)\n",
    "\n",
    "iqr = q3 - q1\n",
    "\n",
    "iqr"
   ],
   "metadata": {
    "collapsed": false,
    "pycharm": {
     "name": "#%%\n"
    }
   },
   "execution_count": 20,
   "outputs": [
    {
     "name": "stderr",
     "output_type": "stream",
     "text": [
      "C:\\Users\\yoon9\\AppData\\Local\\Temp\\ipykernel_13436\\764714985.py:1: FutureWarning: The default value of numeric_only in DataFrame.quantile is deprecated. In a future version, it will default to False. Select only valid columns or specify the value of numeric_only to silence this warning.\n",
      "  q3 = df.quantile(0.75)  # df['국어'].quantile(0.75) 처럼 특정 열만 적용 가능\n",
      "C:\\Users\\yoon9\\AppData\\Local\\Temp\\ipykernel_13436\\764714985.py:2: FutureWarning: The default value of numeric_only in DataFrame.quantile is deprecated. In a future version, it will default to False. Select only valid columns or specify the value of numeric_only to silence this warning.\n",
      "  q1 = df.quantile(0.25)\n"
     ]
    },
    {
     "data": {
      "text/plain": "수치형데이터1     2149.25\n진단년도           7.00\n수치형데이터2      212.00\n은              0.00\n일산화탄소          0.00\n크로뮴            3.00\n구리            16.00\n철            127.00\n물              0.00\n망가니즈           2.00\n몰리브데넘          7.00\n니켈             0.00\n입자 정량 지수     166.00\n타이타늄           0.00\n바나듐            0.00\n점도 40도        65.30\n아연          1080.00\ndtype: float64"
     },
     "execution_count": 20,
     "metadata": {},
     "output_type": "execute_result"
    }
   ]
  },
  {
   "cell_type": "code",
   "execution_count": 21,
   "outputs": [
    {
     "name": "stderr",
     "output_type": "stream",
     "text": [
      "C:\\Users\\yoon9\\AppData\\Local\\Temp\\ipykernel_13436\\1438212298.py:2: SettingWithCopyWarning: \n",
      "A value is trying to be set on a copy of a slice from a DataFrame.\n",
      "Try using .loc[row_indexer,col_indexer] = value instead\n",
      "\n",
      "See the caveats in the documentation: https://pandas.pydata.org/pandas-docs/stable/user_guide/indexing.html#returning-a-view-versus-a-copy\n",
      "  train_out['Y_LABEL'] = train['Y_LABEL']\n"
     ]
    },
    {
     "data": {
      "text/plain": "                ID    샘플오일관련부품  수치형데이터1  진단년도  수치형데이터2  은  일산화탄소  크로뮴   구리  \\\n0      TRAIN_00000  COMPONENT3     1486  2011      200  0      0   13   78   \n1      TRAIN_00001  COMPONENT2     1350  2021      375  0      0    0   31   \n2      TRAIN_00002  COMPONENT2     2415  2015      200  0      0    1    2   \n3      TRAIN_00003  COMPONENT3     7389  2010      200  0      0    0    1   \n4      TRAIN_00004  COMPONENT3     3954  2015      200  0      0    0    0   \n...            ...         ...      ...   ...      ... ..    ...  ...  ...   \n14090  TRAIN_14090  COMPONENT3     1616  2014      200  0      0    0    3   \n14091  TRAIN_14091  COMPONENT1     2784  2013      200  0      0    0    2   \n14092  TRAIN_14092  COMPONENT3     1788  2008      550  0      0    4    7   \n14093  TRAIN_14093  COMPONENT2     2498  2009      550  0      0    0  170   \n14094  TRAIN_14094  COMPONENT2     1902  2012      200  0      0    0  110   \n\n         철    물  망가니즈  몰리브데넘  니켈  입자 정량 지수  타이타늄  바나듐  점도 40도    아연  Y_LABEL  \n0      888  0.0    16      1   6      8504     5    0   154.0    75        0  \n1        2  0.0     0      0   0        19     0    0    44.0   652        0  \n2        4  0.0     0      0   0        17     0    0    72.6   412        1  \n3       37  0.0     1      0   0        44     0    0   133.3     7        0  \n4       71  0.0     0      0   0       217     0    0   133.1   128        0  \n...    ...  ...   ...    ...  ..       ...   ...  ...     ...   ...      ...  \n14090   23  0.0     0      0   0        35     0    0   135.4    16        0  \n14091   12  0.0     0    224   0         9     0    0   117.5  1408        0  \n14092  415  0.0     7     10   1       645     0    0    54.0  1301        0  \n14093   19  0.0     0      1   0        11     0    0    44.3   652        0  \n14094   10  0.0     0      0   0        81     2    0    47.0   612        0  \n\n[14095 rows x 20 columns]",
      "text/html": "<div>\n<style scoped>\n    .dataframe tbody tr th:only-of-type {\n        vertical-align: middle;\n    }\n\n    .dataframe tbody tr th {\n        vertical-align: top;\n    }\n\n    .dataframe thead th {\n        text-align: right;\n    }\n</style>\n<table border=\"1\" class=\"dataframe\">\n  <thead>\n    <tr style=\"text-align: right;\">\n      <th></th>\n      <th>ID</th>\n      <th>샘플오일관련부품</th>\n      <th>수치형데이터1</th>\n      <th>진단년도</th>\n      <th>수치형데이터2</th>\n      <th>은</th>\n      <th>일산화탄소</th>\n      <th>크로뮴</th>\n      <th>구리</th>\n      <th>철</th>\n      <th>물</th>\n      <th>망가니즈</th>\n      <th>몰리브데넘</th>\n      <th>니켈</th>\n      <th>입자 정량 지수</th>\n      <th>타이타늄</th>\n      <th>바나듐</th>\n      <th>점도 40도</th>\n      <th>아연</th>\n      <th>Y_LABEL</th>\n    </tr>\n  </thead>\n  <tbody>\n    <tr>\n      <th>0</th>\n      <td>TRAIN_00000</td>\n      <td>COMPONENT3</td>\n      <td>1486</td>\n      <td>2011</td>\n      <td>200</td>\n      <td>0</td>\n      <td>0</td>\n      <td>13</td>\n      <td>78</td>\n      <td>888</td>\n      <td>0.0</td>\n      <td>16</td>\n      <td>1</td>\n      <td>6</td>\n      <td>8504</td>\n      <td>5</td>\n      <td>0</td>\n      <td>154.0</td>\n      <td>75</td>\n      <td>0</td>\n    </tr>\n    <tr>\n      <th>1</th>\n      <td>TRAIN_00001</td>\n      <td>COMPONENT2</td>\n      <td>1350</td>\n      <td>2021</td>\n      <td>375</td>\n      <td>0</td>\n      <td>0</td>\n      <td>0</td>\n      <td>31</td>\n      <td>2</td>\n      <td>0.0</td>\n      <td>0</td>\n      <td>0</td>\n      <td>0</td>\n      <td>19</td>\n      <td>0</td>\n      <td>0</td>\n      <td>44.0</td>\n      <td>652</td>\n      <td>0</td>\n    </tr>\n    <tr>\n      <th>2</th>\n      <td>TRAIN_00002</td>\n      <td>COMPONENT2</td>\n      <td>2415</td>\n      <td>2015</td>\n      <td>200</td>\n      <td>0</td>\n      <td>0</td>\n      <td>1</td>\n      <td>2</td>\n      <td>4</td>\n      <td>0.0</td>\n      <td>0</td>\n      <td>0</td>\n      <td>0</td>\n      <td>17</td>\n      <td>0</td>\n      <td>0</td>\n      <td>72.6</td>\n      <td>412</td>\n      <td>1</td>\n    </tr>\n    <tr>\n      <th>3</th>\n      <td>TRAIN_00003</td>\n      <td>COMPONENT3</td>\n      <td>7389</td>\n      <td>2010</td>\n      <td>200</td>\n      <td>0</td>\n      <td>0</td>\n      <td>0</td>\n      <td>1</td>\n      <td>37</td>\n      <td>0.0</td>\n      <td>1</td>\n      <td>0</td>\n      <td>0</td>\n      <td>44</td>\n      <td>0</td>\n      <td>0</td>\n      <td>133.3</td>\n      <td>7</td>\n      <td>0</td>\n    </tr>\n    <tr>\n      <th>4</th>\n      <td>TRAIN_00004</td>\n      <td>COMPONENT3</td>\n      <td>3954</td>\n      <td>2015</td>\n      <td>200</td>\n      <td>0</td>\n      <td>0</td>\n      <td>0</td>\n      <td>0</td>\n      <td>71</td>\n      <td>0.0</td>\n      <td>0</td>\n      <td>0</td>\n      <td>0</td>\n      <td>217</td>\n      <td>0</td>\n      <td>0</td>\n      <td>133.1</td>\n      <td>128</td>\n      <td>0</td>\n    </tr>\n    <tr>\n      <th>...</th>\n      <td>...</td>\n      <td>...</td>\n      <td>...</td>\n      <td>...</td>\n      <td>...</td>\n      <td>...</td>\n      <td>...</td>\n      <td>...</td>\n      <td>...</td>\n      <td>...</td>\n      <td>...</td>\n      <td>...</td>\n      <td>...</td>\n      <td>...</td>\n      <td>...</td>\n      <td>...</td>\n      <td>...</td>\n      <td>...</td>\n      <td>...</td>\n      <td>...</td>\n    </tr>\n    <tr>\n      <th>14090</th>\n      <td>TRAIN_14090</td>\n      <td>COMPONENT3</td>\n      <td>1616</td>\n      <td>2014</td>\n      <td>200</td>\n      <td>0</td>\n      <td>0</td>\n      <td>0</td>\n      <td>3</td>\n      <td>23</td>\n      <td>0.0</td>\n      <td>0</td>\n      <td>0</td>\n      <td>0</td>\n      <td>35</td>\n      <td>0</td>\n      <td>0</td>\n      <td>135.4</td>\n      <td>16</td>\n      <td>0</td>\n    </tr>\n    <tr>\n      <th>14091</th>\n      <td>TRAIN_14091</td>\n      <td>COMPONENT1</td>\n      <td>2784</td>\n      <td>2013</td>\n      <td>200</td>\n      <td>0</td>\n      <td>0</td>\n      <td>0</td>\n      <td>2</td>\n      <td>12</td>\n      <td>0.0</td>\n      <td>0</td>\n      <td>224</td>\n      <td>0</td>\n      <td>9</td>\n      <td>0</td>\n      <td>0</td>\n      <td>117.5</td>\n      <td>1408</td>\n      <td>0</td>\n    </tr>\n    <tr>\n      <th>14092</th>\n      <td>TRAIN_14092</td>\n      <td>COMPONENT3</td>\n      <td>1788</td>\n      <td>2008</td>\n      <td>550</td>\n      <td>0</td>\n      <td>0</td>\n      <td>4</td>\n      <td>7</td>\n      <td>415</td>\n      <td>0.0</td>\n      <td>7</td>\n      <td>10</td>\n      <td>1</td>\n      <td>645</td>\n      <td>0</td>\n      <td>0</td>\n      <td>54.0</td>\n      <td>1301</td>\n      <td>0</td>\n    </tr>\n    <tr>\n      <th>14093</th>\n      <td>TRAIN_14093</td>\n      <td>COMPONENT2</td>\n      <td>2498</td>\n      <td>2009</td>\n      <td>550</td>\n      <td>0</td>\n      <td>0</td>\n      <td>0</td>\n      <td>170</td>\n      <td>19</td>\n      <td>0.0</td>\n      <td>0</td>\n      <td>1</td>\n      <td>0</td>\n      <td>11</td>\n      <td>0</td>\n      <td>0</td>\n      <td>44.3</td>\n      <td>652</td>\n      <td>0</td>\n    </tr>\n    <tr>\n      <th>14094</th>\n      <td>TRAIN_14094</td>\n      <td>COMPONENT2</td>\n      <td>1902</td>\n      <td>2012</td>\n      <td>200</td>\n      <td>0</td>\n      <td>0</td>\n      <td>0</td>\n      <td>110</td>\n      <td>10</td>\n      <td>0.0</td>\n      <td>0</td>\n      <td>0</td>\n      <td>0</td>\n      <td>81</td>\n      <td>2</td>\n      <td>0</td>\n      <td>47.0</td>\n      <td>612</td>\n      <td>0</td>\n    </tr>\n  </tbody>\n</table>\n<p>14095 rows × 20 columns</p>\n</div>"
     },
     "execution_count": 21,
     "metadata": {},
     "output_type": "execute_result"
    }
   ],
   "source": [
    "train_out = train[test_columns_list]\n",
    "train_out['Y_LABEL'] = train['Y_LABEL']\n",
    "train_out"
   ],
   "metadata": {
    "collapsed": false,
    "pycharm": {
     "name": "#%%\n"
    }
   }
  },
  {
   "cell_type": "code",
   "execution_count": 22,
   "outputs": [],
   "source": [
    "# '국어' 열에 대하여 이상치 여부를 판별해주는 함수\n",
    "\n",
    "def remove_out(dataframe, remove_col):\n",
    "    dff = dataframe\n",
    "    for k in remove_col:\n",
    "        level_1q = dff[k].quantile(0.25)\n",
    "        level_3q = dff[k].quantile(0.75)\n",
    "        IQR = level_3q - level_1q\n",
    "        rev_range = 3  # 제거 범위 조절 변수\n",
    "        dff = dff[(dff[k] <= level_3q + (rev_range * IQR)) & (dff[k] >= level_1q - (rev_range * IQR))]\n",
    "        dff = dff.reset_index(drop=True)\n",
    "    return dff"
   ],
   "metadata": {
    "collapsed": false,
    "pycharm": {
     "name": "#%%\n"
    }
   }
  },
  {
   "cell_type": "code",
   "execution_count": 23,
   "outputs": [],
   "source": [
    "train_outlier = remove_out(train_out,num_attribss_list)"
   ],
   "metadata": {
    "collapsed": false,
    "pycharm": {
     "name": "#%%\n"
    }
   }
  },
  {
   "cell_type": "code",
   "execution_count": 24,
   "outputs": [
    {
     "data": {
      "text/plain": "               ID    샘플오일관련부품  수치형데이터1  진단년도  수치형데이터2  은  일산화탄소  크로뮴  구리   철  \\\n0     TRAIN_00001  COMPONENT2     1350  2021      375  0      0    0  31   2   \n1     TRAIN_00002  COMPONENT2     2415  2015      200  0      0    1   2   4   \n2     TRAIN_00003  COMPONENT3     7389  2010      200  0      0    0   1  37   \n3     TRAIN_00004  COMPONENT3     3954  2015      200  0      0    0   0  71   \n4     TRAIN_00006  COMPONENT3     1416  2015      616  0      0    0   3  35   \n...           ...         ...      ...   ...      ... ..    ...  ...  ..  ..   \n6111  TRAIN_14085  COMPONENT2     4976  2013      200  0      0    0  14   3   \n6112  TRAIN_14087  COMPONENT1     1192  2014      200  0      0    0   0   9   \n6113  TRAIN_14088  COMPONENT3     1311  2010      511  0      0    0   8  43   \n6114  TRAIN_14089  COMPONENT2     1552  2007      375  0      0    0  41  15   \n6115  TRAIN_14090  COMPONENT3     1616  2014      200  0      0    0   3  23   \n\n        물  망가니즈  몰리브데넘  니켈  입자 정량 지수  타이타늄  바나듐  점도 40도    아연  Y_LABEL  \n0     0.0     0      0   0        19     0    0    44.0   652        0  \n1     0.0     0      0   0        17     0    0    72.6   412        1  \n2     0.0     1      0   0        44     0    0   133.3     7        0  \n3     0.0     0      0   0       217     0    0   133.1   128        0  \n4     0.0     0      0   0        26     0    0   148.5    24        0  \n...   ...   ...    ...  ..       ...   ...  ...     ...   ...      ...  \n6111  0.0     0      0   0         7     0    0    44.0   651        0  \n6112  0.0     0      0   0        11     0    0   106.2  1204        0  \n6113  0.0     0      0   0        16     0    0   128.9    20        0  \n6114  0.0     0      0   0        35     0    0    59.8   395        1  \n6115  0.0     0      0   0        35     0    0   135.4    16        0  \n\n[6116 rows x 20 columns]",
      "text/html": "<div>\n<style scoped>\n    .dataframe tbody tr th:only-of-type {\n        vertical-align: middle;\n    }\n\n    .dataframe tbody tr th {\n        vertical-align: top;\n    }\n\n    .dataframe thead th {\n        text-align: right;\n    }\n</style>\n<table border=\"1\" class=\"dataframe\">\n  <thead>\n    <tr style=\"text-align: right;\">\n      <th></th>\n      <th>ID</th>\n      <th>샘플오일관련부품</th>\n      <th>수치형데이터1</th>\n      <th>진단년도</th>\n      <th>수치형데이터2</th>\n      <th>은</th>\n      <th>일산화탄소</th>\n      <th>크로뮴</th>\n      <th>구리</th>\n      <th>철</th>\n      <th>물</th>\n      <th>망가니즈</th>\n      <th>몰리브데넘</th>\n      <th>니켈</th>\n      <th>입자 정량 지수</th>\n      <th>타이타늄</th>\n      <th>바나듐</th>\n      <th>점도 40도</th>\n      <th>아연</th>\n      <th>Y_LABEL</th>\n    </tr>\n  </thead>\n  <tbody>\n    <tr>\n      <th>0</th>\n      <td>TRAIN_00001</td>\n      <td>COMPONENT2</td>\n      <td>1350</td>\n      <td>2021</td>\n      <td>375</td>\n      <td>0</td>\n      <td>0</td>\n      <td>0</td>\n      <td>31</td>\n      <td>2</td>\n      <td>0.0</td>\n      <td>0</td>\n      <td>0</td>\n      <td>0</td>\n      <td>19</td>\n      <td>0</td>\n      <td>0</td>\n      <td>44.0</td>\n      <td>652</td>\n      <td>0</td>\n    </tr>\n    <tr>\n      <th>1</th>\n      <td>TRAIN_00002</td>\n      <td>COMPONENT2</td>\n      <td>2415</td>\n      <td>2015</td>\n      <td>200</td>\n      <td>0</td>\n      <td>0</td>\n      <td>1</td>\n      <td>2</td>\n      <td>4</td>\n      <td>0.0</td>\n      <td>0</td>\n      <td>0</td>\n      <td>0</td>\n      <td>17</td>\n      <td>0</td>\n      <td>0</td>\n      <td>72.6</td>\n      <td>412</td>\n      <td>1</td>\n    </tr>\n    <tr>\n      <th>2</th>\n      <td>TRAIN_00003</td>\n      <td>COMPONENT3</td>\n      <td>7389</td>\n      <td>2010</td>\n      <td>200</td>\n      <td>0</td>\n      <td>0</td>\n      <td>0</td>\n      <td>1</td>\n      <td>37</td>\n      <td>0.0</td>\n      <td>1</td>\n      <td>0</td>\n      <td>0</td>\n      <td>44</td>\n      <td>0</td>\n      <td>0</td>\n      <td>133.3</td>\n      <td>7</td>\n      <td>0</td>\n    </tr>\n    <tr>\n      <th>3</th>\n      <td>TRAIN_00004</td>\n      <td>COMPONENT3</td>\n      <td>3954</td>\n      <td>2015</td>\n      <td>200</td>\n      <td>0</td>\n      <td>0</td>\n      <td>0</td>\n      <td>0</td>\n      <td>71</td>\n      <td>0.0</td>\n      <td>0</td>\n      <td>0</td>\n      <td>0</td>\n      <td>217</td>\n      <td>0</td>\n      <td>0</td>\n      <td>133.1</td>\n      <td>128</td>\n      <td>0</td>\n    </tr>\n    <tr>\n      <th>4</th>\n      <td>TRAIN_00006</td>\n      <td>COMPONENT3</td>\n      <td>1416</td>\n      <td>2015</td>\n      <td>616</td>\n      <td>0</td>\n      <td>0</td>\n      <td>0</td>\n      <td>3</td>\n      <td>35</td>\n      <td>0.0</td>\n      <td>0</td>\n      <td>0</td>\n      <td>0</td>\n      <td>26</td>\n      <td>0</td>\n      <td>0</td>\n      <td>148.5</td>\n      <td>24</td>\n      <td>0</td>\n    </tr>\n    <tr>\n      <th>...</th>\n      <td>...</td>\n      <td>...</td>\n      <td>...</td>\n      <td>...</td>\n      <td>...</td>\n      <td>...</td>\n      <td>...</td>\n      <td>...</td>\n      <td>...</td>\n      <td>...</td>\n      <td>...</td>\n      <td>...</td>\n      <td>...</td>\n      <td>...</td>\n      <td>...</td>\n      <td>...</td>\n      <td>...</td>\n      <td>...</td>\n      <td>...</td>\n      <td>...</td>\n    </tr>\n    <tr>\n      <th>6111</th>\n      <td>TRAIN_14085</td>\n      <td>COMPONENT2</td>\n      <td>4976</td>\n      <td>2013</td>\n      <td>200</td>\n      <td>0</td>\n      <td>0</td>\n      <td>0</td>\n      <td>14</td>\n      <td>3</td>\n      <td>0.0</td>\n      <td>0</td>\n      <td>0</td>\n      <td>0</td>\n      <td>7</td>\n      <td>0</td>\n      <td>0</td>\n      <td>44.0</td>\n      <td>651</td>\n      <td>0</td>\n    </tr>\n    <tr>\n      <th>6112</th>\n      <td>TRAIN_14087</td>\n      <td>COMPONENT1</td>\n      <td>1192</td>\n      <td>2014</td>\n      <td>200</td>\n      <td>0</td>\n      <td>0</td>\n      <td>0</td>\n      <td>0</td>\n      <td>9</td>\n      <td>0.0</td>\n      <td>0</td>\n      <td>0</td>\n      <td>0</td>\n      <td>11</td>\n      <td>0</td>\n      <td>0</td>\n      <td>106.2</td>\n      <td>1204</td>\n      <td>0</td>\n    </tr>\n    <tr>\n      <th>6113</th>\n      <td>TRAIN_14088</td>\n      <td>COMPONENT3</td>\n      <td>1311</td>\n      <td>2010</td>\n      <td>511</td>\n      <td>0</td>\n      <td>0</td>\n      <td>0</td>\n      <td>8</td>\n      <td>43</td>\n      <td>0.0</td>\n      <td>0</td>\n      <td>0</td>\n      <td>0</td>\n      <td>16</td>\n      <td>0</td>\n      <td>0</td>\n      <td>128.9</td>\n      <td>20</td>\n      <td>0</td>\n    </tr>\n    <tr>\n      <th>6114</th>\n      <td>TRAIN_14089</td>\n      <td>COMPONENT2</td>\n      <td>1552</td>\n      <td>2007</td>\n      <td>375</td>\n      <td>0</td>\n      <td>0</td>\n      <td>0</td>\n      <td>41</td>\n      <td>15</td>\n      <td>0.0</td>\n      <td>0</td>\n      <td>0</td>\n      <td>0</td>\n      <td>35</td>\n      <td>0</td>\n      <td>0</td>\n      <td>59.8</td>\n      <td>395</td>\n      <td>1</td>\n    </tr>\n    <tr>\n      <th>6115</th>\n      <td>TRAIN_14090</td>\n      <td>COMPONENT3</td>\n      <td>1616</td>\n      <td>2014</td>\n      <td>200</td>\n      <td>0</td>\n      <td>0</td>\n      <td>0</td>\n      <td>3</td>\n      <td>23</td>\n      <td>0.0</td>\n      <td>0</td>\n      <td>0</td>\n      <td>0</td>\n      <td>35</td>\n      <td>0</td>\n      <td>0</td>\n      <td>135.4</td>\n      <td>16</td>\n      <td>0</td>\n    </tr>\n  </tbody>\n</table>\n<p>6116 rows × 20 columns</p>\n</div>"
     },
     "execution_count": 24,
     "metadata": {},
     "output_type": "execute_result"
    }
   ],
   "source": [
    "train_outlier"
   ],
   "metadata": {
    "collapsed": false,
    "pycharm": {
     "name": "#%%\n"
    }
   }
  },
  {
   "cell_type": "code",
   "execution_count": 143,
   "outputs": [
    {
     "data": {
      "text/plain": "<Figure size 2000x800 with 1 Axes>",
      "image/png": "[encoded data removed]"
     },
     "metadata": {},
     "output_type": "display_data"
    }
   ],
   "source": [
    "plt.figure(figsize=(20,8))\n",
    "sns.boxplot(train_outlier)\n",
    "plt.show()"
   ],
   "metadata": {
    "collapsed": false,
    "pycharm": {
     "name": "#%%\n"
    }
   }
  },
  {
   "cell_type": "code",
   "execution_count": 25,
   "outputs": [],
   "source": [
    "df_out = pd.concat([train_outlier,test])"
   ],
   "metadata": {
    "collapsed": false,
    "pycharm": {
     "name": "#%%\n"
    }
   }
  },
  {
   "cell_type": "markdown",
   "source": [
    "## 스케일링"
   ],
   "metadata": {
    "collapsed": false
   }
  },
  {
   "cell_type": "markdown",
   "source": [
    "### StandardScaler"
   ],
   "metadata": {
    "collapsed": false
   }
  },
  {
   "cell_type": "code",
   "execution_count": 26,
   "outputs": [],
   "source": [
    "# 스탠다드 스케일러\n",
    "def standard_scale(df):\n",
    "    # 수치형 변수 스케일링\n",
    "    sta_scaler = StandardScaler()\n",
    "    sta_X_scale = sta_scaler.fit_transform(df)\n",
    "    sta_X_scale = pd.DataFrame(sta_X_scale, columns=df.columns)\n",
    "    return sta_X_scale  # 스케일링 데이터 프레임화\n",
    "\n",
    "# MinMax scaler\n",
    "def MM_scale(df):\n",
    "    MM_scaler = MinMaxScaler()\n",
    "    MM_X_scale = MM_scaler.fit_transform(df)\n",
    "    MM_X_scale = pd.DataFrame(MM_X_scale, columns=df.columns)\n",
    "    return MM_X_scale  # 스케일링 데이터 프레임화\n",
    "\n",
    "# robust scaler\n",
    "def robust_scale(df):\n",
    "    robustScaler = RobustScaler()\n",
    "    print(robustScaler.fit(df))\n",
    "    train_data_robustScaled = robustScaler.transform(df)\n",
    "    robust_X_scale = pd.DataFrame(train_data_robustScaled, columns=num_attribss.columns)\n",
    "    return robust_X_scale"
   ],
   "metadata": {
    "collapsed": false,
    "pycharm": {
     "name": "#%%\n"
    }
   }
  },
  {
   "cell_type": "markdown",
   "source": [
    "# 인코딩"
   ],
   "metadata": {
    "collapsed": false,
    "pycharm": {
     "name": "#%% md\n"
    }
   }
  },
  {
   "cell_type": "code",
   "execution_count": 27,
   "outputs": [],
   "source": [
    "# 원핫인코딩 함수 적용\n",
    "def hot1_encoding(df):\n",
    "    hot1_encoder = OneHotEncoder(sparse=False,drop='if_binary')\n",
    "    X_1hot = hot1_encoder.fit_transform(df)\n",
    "    X_1hot = pd.DataFrame(X_1hot, columns=hot1_encoder.get_feature_names())\n",
    "    return X_1hot\n",
    "\n",
    "# 라벨 인코딩\n",
    "def label_encoding(df):\n",
    "    X_label = df.copy()\n",
    "    lab_encoder = LabelEncoder()  #순서가 있는 카테고리형\n",
    "    for name in df.columns:\n",
    "        X_label[name] = lab_encoder.fit_transform(df[name])\n",
    "    X_label_ob = X_label.astype('object')\n",
    "    return X_label_ob"
   ],
   "metadata": {
    "collapsed": false,
    "pycharm": {
     "name": "#%%\n"
    }
   }
  },
  {
   "cell_type": "markdown",
   "source": [
    "# 데이터 프레임 합치기"
   ],
   "metadata": {
    "collapsed": false
   }
  },
  {
   "cell_type": "code",
   "execution_count": 28,
   "outputs": [],
   "source": [
    "def cocnat_df(df1,df2):\n",
    "    df1 = df1.reset_index()\n",
    "    df2 = df2.reset_index()\n",
    "    df_all = pd.concat([df1,df2],axis=1)\n",
    "    df_all = df_all.drop(columns=['index'])\n",
    "    return df_all"
   ],
   "metadata": {
    "collapsed": false,
    "pycharm": {
     "name": "#%%\n"
    }
   }
  },
  {
   "cell_type": "code",
   "execution_count": 29,
   "outputs": [],
   "source": [
    "df_base = cocnat_df(num_attribss,label_encoding(cat_attribs))"
   ],
   "metadata": {
    "collapsed": false,
    "pycharm": {
     "name": "#%%\n"
    }
   }
  },
  {
   "cell_type": "code",
   "execution_count": 30,
   "outputs": [
    {
     "data": {
      "text/plain": "       수치형데이터1  진단년도  수치형데이터2  은  일산화탄소  크로뮴   구리     철    물  망가니즈  몰리브데넘  니켈  \\\n0         1486  2011      200  0      0   13   78   888  0.0    16      1   6   \n1         1350  2021      375  0      0    0   31     2  0.0     0      0   0   \n2         2415  2015      200  0      0    1    2     4  0.0     0      0   0   \n3         7389  2010      200  0      0    0    1    37  0.0     1      0   0   \n4         3954  2015      200  0      0    0    0    71  0.0     0      0   0   \n...        ...   ...      ... ..    ...  ...  ...   ...  ...   ...    ...  ..   \n20131     1714  2014      200  0      0    3  130  1047  0.0    65      5   2   \n20132     4131  2016      200  0      0    5    2   736  0.0     5      0   0   \n20133     4325  2014      200  0      0    0    0    53  0.0     0      0   0   \n20134     1364  2013      200  0      0    0   62     2  0.0     0      0   0   \n20135     2397  2016     1597  1      0    0    0     4  0.0     0      2   0   \n\n       입자 정량 지수  타이타늄  바나듐  점도 40도    아연 샘플오일관련부품  \n0          8504     5    0   154.0    75        2  \n1            19     0    0    44.0   652        1  \n2            17     0    0    72.6   412        1  \n3            44     0    0   133.3     7        2  \n4           217     0    0   133.1   128        2  \n...         ...   ...  ...     ...   ...      ...  \n20131      1999     0    0    71.2  1163        2  \n20132       693     0    0   137.8    13        2  \n20133        69     0    0   302.2    13        2  \n20134         5     0    0    51.1   478        1  \n20135        14     0    0    80.0   970        0  \n\n[20136 rows x 18 columns]",
      "text/html": "<div>\n<style scoped>\n    .dataframe tbody tr th:only-of-type {\n        vertical-align: middle;\n    }\n\n    .dataframe tbody tr th {\n        vertical-align: top;\n    }\n\n    .dataframe thead th {\n        text-align: right;\n    }\n</style>\n<table border=\"1\" class=\"dataframe\">\n  <thead>\n    <tr style=\"text-align: right;\">\n      <th></th>\n      <th>수치형데이터1</th>\n      <th>진단년도</th>\n      <th>수치형데이터2</th>\n      <th>은</th>\n      <th>일산화탄소</th>\n      <th>크로뮴</th>\n      <th>구리</th>\n      <th>철</th>\n      <th>물</th>\n      <th>망가니즈</th>\n      <th>몰리브데넘</th>\n      <th>니켈</th>\n      <th>입자 정량 지수</th>\n      <th>타이타늄</th>\n      <th>바나듐</th>\n      <th>점도 40도</th>\n      <th>아연</th>\n      <th>샘플오일관련부품</th>\n    </tr>\n  </thead>\n  <tbody>\n    <tr>\n      <th>0</th>\n      <td>1486</td>\n      <td>2011</td>\n      <td>200</td>\n      <td>0</td>\n      <td>0</td>\n      <td>13</td>\n      <td>78</td>\n      <td>888</td>\n      <td>0.0</td>\n      <td>16</td>\n      <td>1</td>\n      <td>6</td>\n      <td>8504</td>\n      <td>5</td>\n      <td>0</td>\n      <td>154.0</td>\n      <td>75</td>\n      <td>2</td>\n    </tr>\n    <tr>\n      <th>1</th>\n      <td>1350</td>\n      <td>2021</td>\n      <td>375</td>\n      <td>0</td>\n      <td>0</td>\n      <td>0</td>\n      <td>31</td>\n      <td>2</td>\n      <td>0.0</td>\n      <td>0</td>\n      <td>0</td>\n      <td>0</td>\n      <td>19</td>\n      <td>0</td>\n      <td>0</td>\n      <td>44.0</td>\n      <td>652</td>\n      <td>1</td>\n    </tr>\n    <tr>\n      <th>2</th>\n      <td>2415</td>\n      <td>2015</td>\n      <td>200</td>\n      <td>0</td>\n      <td>0</td>\n      <td>1</td>\n      <td>2</td>\n      <td>4</td>\n      <td>0.0</td>\n      <td>0</td>\n      <td>0</td>\n      <td>0</td>\n      <td>17</td>\n      <td>0</td>\n      <td>0</td>\n      <td>72.6</td>\n      <td>412</td>\n      <td>1</td>\n    </tr>\n    <tr>\n      <th>3</th>\n      <td>7389</td>\n      <td>2010</td>\n      <td>200</td>\n      <td>0</td>\n      <td>0</td>\n      <td>0</td>\n      <td>1</td>\n      <td>37</td>\n      <td>0.0</td>\n      <td>1</td>\n      <td>0</td>\n      <td>0</td>\n      <td>44</td>\n      <td>0</td>\n      <td>0</td>\n      <td>133.3</td>\n      <td>7</td>\n      <td>2</td>\n    </tr>\n    <tr>\n      <th>4</th>\n      <td>3954</td>\n      <td>2015</td>\n      <td>200</td>\n      <td>0</td>\n      <td>0</td>\n      <td>0</td>\n      <td>0</td>\n      <td>71</td>\n      <td>0.0</td>\n      <td>0</td>\n      <td>0</td>\n      <td>0</td>\n      <td>217</td>\n      <td>0</td>\n      <td>0</td>\n      <td>133.1</td>\n      <td>128</td>\n      <td>2</td>\n    </tr>\n    <tr>\n      <th>...</th>\n      <td>...</td>\n      <td>...</td>\n      <td>...</td>\n      <td>...</td>\n      <td>...</td>\n      <td>...</td>\n      <td>...</td>\n      <td>...</td>\n      <td>...</td>\n      <td>...</td>\n      <td>...</td>\n      <td>...</td>\n      <td>...</td>\n      <td>...</td>\n      <td>...</td>\n      <td>...</td>\n      <td>...</td>\n      <td>...</td>\n    </tr>\n    <tr>\n      <th>20131</th>\n      <td>1714</td>\n      <td>2014</td>\n      <td>200</td>\n      <td>0</td>\n      <td>0</td>\n      <td>3</td>\n      <td>130</td>\n      <td>1047</td>\n      <td>0.0</td>\n      <td>65</td>\n      <td>5</td>\n      <td>2</td>\n      <td>1999</td>\n      <td>0</td>\n      <td>0</td>\n      <td>71.2</td>\n      <td>1163</td>\n      <td>2</td>\n    </tr>\n    <tr>\n      <th>20132</th>\n      <td>4131</td>\n      <td>2016</td>\n      <td>200</td>\n      <td>0</td>\n      <td>0</td>\n      <td>5</td>\n      <td>2</td>\n      <td>736</td>\n      <td>0.0</td>\n      <td>5</td>\n      <td>0</td>\n      <td>0</td>\n      <td>693</td>\n      <td>0</td>\n      <td>0</td>\n      <td>137.8</td>\n      <td>13</td>\n      <td>2</td>\n    </tr>\n    <tr>\n      <th>20133</th>\n      <td>4325</td>\n      <td>2014</td>\n      <td>200</td>\n      <td>0</td>\n      <td>0</td>\n      <td>0</td>\n      <td>0</td>\n      <td>53</td>\n      <td>0.0</td>\n      <td>0</td>\n      <td>0</td>\n      <td>0</td>\n      <td>69</td>\n      <td>0</td>\n      <td>0</td>\n      <td>302.2</td>\n      <td>13</td>\n      <td>2</td>\n    </tr>\n    <tr>\n      <th>20134</th>\n      <td>1364</td>\n      <td>2013</td>\n      <td>200</td>\n      <td>0</td>\n      <td>0</td>\n      <td>0</td>\n      <td>62</td>\n      <td>2</td>\n      <td>0.0</td>\n      <td>0</td>\n      <td>0</td>\n      <td>0</td>\n      <td>5</td>\n      <td>0</td>\n      <td>0</td>\n      <td>51.1</td>\n      <td>478</td>\n      <td>1</td>\n    </tr>\n    <tr>\n      <th>20135</th>\n      <td>2397</td>\n      <td>2016</td>\n      <td>1597</td>\n      <td>1</td>\n      <td>0</td>\n      <td>0</td>\n      <td>0</td>\n      <td>4</td>\n      <td>0.0</td>\n      <td>0</td>\n      <td>2</td>\n      <td>0</td>\n      <td>14</td>\n      <td>0</td>\n      <td>0</td>\n      <td>80.0</td>\n      <td>970</td>\n      <td>0</td>\n    </tr>\n  </tbody>\n</table>\n<p>20136 rows × 18 columns</p>\n</div>"
     },
     "execution_count": 30,
     "metadata": {},
     "output_type": "execute_result"
    }
   ],
   "source": [
    "df_base"
   ],
   "metadata": {
    "collapsed": false,
    "pycharm": {
     "name": "#%%\n"
    }
   }
  },
  {
   "cell_type": "markdown",
   "source": [
    "# 데이터 나누기"
   ],
   "metadata": {
    "collapsed": false,
    "pycharm": {
     "name": "#%% md\n"
    }
   }
  },
  {
   "cell_type": "code",
   "execution_count": 31,
   "outputs": [],
   "source": [
    "def split_train_test(df):\n",
    "\n",
    "    train = df[:14095]\n",
    "    test = df[14095:]\n",
    "    return train, test\n",
    "\n",
    "def split_train_test_out(df):\n",
    "\n",
    "    train = df[:6116]\n",
    "    test = df[6116:]\n",
    "    return train, test\n",
    "\n",
    "def split_train_val(df,y):\n",
    "\n",
    "    X_train, X_val, y_train, y_val = train_test_split(df, y, test_size=0.3, shuffle=True, stratify=y, random_state=42)\n",
    "    print(X_train.shape, X_val.shape, y_train.shape, y_val.shape)\n",
    "\n",
    "    return X_train, X_val, y_train, y_val\n"
   ],
   "metadata": {
    "collapsed": false,
    "pycharm": {
     "name": "#%%\n"
    }
   }
  },
  {
   "cell_type": "markdown",
   "source": [
    "## 모델 평가 함수"
   ],
   "metadata": {
    "collapsed": false
   }
  },
  {
   "cell_type": "code",
   "execution_count": 32,
   "outputs": [],
   "source": [
    "from sklearn.metrics import precision_score, recall_score\n",
    "from sklearn.metrics import f1_score\n",
    "from sklearn.metrics import confusion_matrix\n",
    "from sklearn.metrics import accuracy_score"
   ],
   "metadata": {
    "collapsed": false,
    "pycharm": {
     "name": "#%%\n"
    }
   }
  },
  {
   "cell_type": "code",
   "execution_count": 33,
   "outputs": [],
   "source": [
    "def model_eval(pred, answer):\n",
    "    print(f'accuracy_score : {accuracy_score(pred,answer)}')\n",
    "    print(f'recall_score : {recall_score(pred,answer)}')\n",
    "    print(f'precision_score : {precision_score(pred,answer)}')\n",
    "    print(f'f1_score : {f1_score(pred,answer)}')\n",
    "    print(f'coufusion_matrix : ')\n",
    "    print(confusion_matrix(pred,answer))"
   ],
   "metadata": {
    "collapsed": false,
    "pycharm": {
     "name": "#%%\n"
    }
   }
  },
  {
   "cell_type": "markdown",
   "source": [
    "## 모델 학습 및 평가 함수"
   ],
   "metadata": {
    "collapsed": false
   }
  },
  {
   "cell_type": "code",
   "execution_count": 34,
   "outputs": [],
   "source": [
    "from sklearn.ensemble import RandomForestClassifier"
   ],
   "metadata": {
    "collapsed": false,
    "pycharm": {
     "name": "#%%\n"
    }
   }
  },
  {
   "cell_type": "code",
   "execution_count": 35,
   "outputs": [],
   "source": [
    "def pipeline_RF(X_train,X_val,y_train,y_val):\n",
    "    model_rf = RandomForestClassifier(max_depth=10,n_estimators=100)\n",
    "    model_rf.fit(X_train,y_train)\n",
    "    print(model_rf)\n",
    "    X_val_predicted = model_rf.predict(X_val)\n",
    "\n",
    "    print(model_eval(X_val_predicted,y_val))\n",
    "\n",
    "    return model_rf"
   ],
   "metadata": {
    "collapsed": false,
    "pycharm": {
     "name": "#%%\n"
    }
   }
  },
  {
   "cell_type": "markdown",
   "source": [
    "# 예측 함수"
   ],
   "metadata": {
    "collapsed": false,
    "pycharm": {
     "name": "#%% md\n"
    }
   }
  },
  {
   "cell_type": "code",
   "execution_count": 36,
   "outputs": [],
   "source": [
    "def make_submission(model,test,submission):\n",
    "    name = input(str)\n",
    "    pred_test = model.predict(test)\n",
    "    submission['Y_LABEL'] = pred_test\n",
    "    print(submission)\n",
    "    submission.to_csv(rf'C:\\Users\\yoon9\\PycharmProjects\\Sejong_Project\\data\\construct_Oil_data\\submission_{name}.csv',index = False)\n",
    "    print('Done')\n"
   ],
   "metadata": {
    "collapsed": false,
    "pycharm": {
     "name": "#%%\n"
    }
   }
  },
  {
   "cell_type": "markdown",
   "source": [
    "## X_base Baseline 모델 (피쳐엔지니어링 X + Label Encoding)"
   ],
   "metadata": {
    "collapsed": false,
    "pycharm": {
     "name": "#%% md\n"
    }
   }
  },
  {
   "cell_type": "code",
   "execution_count": 37,
   "outputs": [],
   "source": [
    "train_base, test_base = split_train_test(df_base)"
   ],
   "metadata": {
    "collapsed": false,
    "pycharm": {
     "name": "#%%\n"
    }
   }
  },
  {
   "cell_type": "code",
   "execution_count": 38,
   "outputs": [
    {
     "data": {
      "text/plain": "       수치형데이터1  진단년도  수치형데이터2  은  일산화탄소  크로뮴   구리     철    물  망가니즈  몰리브데넘  니켈  \\\n14095     2192  2016      200  0      0    0    1    12  0.0     0      0   0   \n14096     2794  2011      200  0      0    2    1   278  0.0     3      0   0   \n14097     1982  2010      200  0      0    0   16     5  0.0     0      0   0   \n14098     1404  2009      200  0      0    3    4   163  0.0     4      3   0   \n14099     8225  2013      200  0      0    0    6    13  0.0     0      0   0   \n...        ...   ...      ... ..    ...  ...  ...   ...  ...   ...    ...  ..   \n20131     1714  2014      200  0      0    3  130  1047  0.0    65      5   2   \n20132     4131  2016      200  0      0    5    2   736  0.0     5      0   0   \n20133     4325  2014      200  0      0    0    0    53  0.0     0      0   0   \n20134     1364  2013      200  0      0    0   62     2  0.0     0      0   0   \n20135     2397  2016     1597  1      0    0    0     4  0.0     0      2   0   \n\n       입자 정량 지수  타이타늄  바나듐  점도 40도    아연 샘플오일관련부품  \n14095        10     0    0    91.3  1091        0  \n14096      2732     1    0   126.9    12        2  \n14097        11     0    0    44.3   714        1  \n14098      8007     0    0   142.8    94        2  \n14099        16     0    0    63.4   469        1  \n...         ...   ...  ...     ...   ...      ...  \n20131      1999     0    0    71.2  1163        2  \n20132       693     0    0   137.8    13        2  \n20133        69     0    0   302.2    13        2  \n20134         5     0    0    51.1   478        1  \n20135        14     0    0    80.0   970        0  \n\n[6041 rows x 18 columns]",
      "text/html": "<div>\n<style scoped>\n    .dataframe tbody tr th:only-of-type {\n        vertical-align: middle;\n    }\n\n    .dataframe tbody tr th {\n        vertical-align: top;\n    }\n\n    .dataframe thead th {\n        text-align: right;\n    }\n</style>\n<table border=\"1\" class=\"dataframe\">\n  <thead>\n    <tr style=\"text-align: right;\">\n      <th></th>\n      <th>수치형데이터1</th>\n      <th>진단년도</th>\n      <th>수치형데이터2</th>\n      <th>은</th>\n      <th>일산화탄소</th>\n      <th>크로뮴</th>\n      <th>구리</th>\n      <th>철</th>\n      <th>물</th>\n      <th>망가니즈</th>\n      <th>몰리브데넘</th>\n      <th>니켈</th>\n      <th>입자 정량 지수</th>\n      <th>타이타늄</th>\n      <th>바나듐</th>\n      <th>점도 40도</th>\n      <th>아연</th>\n      <th>샘플오일관련부품</th>\n    </tr>\n  </thead>\n  <tbody>\n    <tr>\n      <th>14095</th>\n      <td>2192</td>\n      <td>2016</td>\n      <td>200</td>\n      <td>0</td>\n      <td>0</td>\n      <td>0</td>\n      <td>1</td>\n      <td>12</td>\n      <td>0.0</td>\n      <td>0</td>\n      <td>0</td>\n      <td>0</td>\n      <td>10</td>\n      <td>0</td>\n      <td>0</td>\n      <td>91.3</td>\n      <td>1091</td>\n      <td>0</td>\n    </tr>\n    <tr>\n      <th>14096</th>\n      <td>2794</td>\n      <td>2011</td>\n      <td>200</td>\n      <td>0</td>\n      <td>0</td>\n      <td>2</td>\n      <td>1</td>\n      <td>278</td>\n      <td>0.0</td>\n      <td>3</td>\n      <td>0</td>\n      <td>0</td>\n      <td>2732</td>\n      <td>1</td>\n      <td>0</td>\n      <td>126.9</td>\n      <td>12</td>\n      <td>2</td>\n    </tr>\n    <tr>\n      <th>14097</th>\n      <td>1982</td>\n      <td>2010</td>\n      <td>200</td>\n      <td>0</td>\n      <td>0</td>\n      <td>0</td>\n      <td>16</td>\n      <td>5</td>\n      <td>0.0</td>\n      <td>0</td>\n      <td>0</td>\n      <td>0</td>\n      <td>11</td>\n      <td>0</td>\n      <td>0</td>\n      <td>44.3</td>\n      <td>714</td>\n      <td>1</td>\n    </tr>\n    <tr>\n      <th>14098</th>\n      <td>1404</td>\n      <td>2009</td>\n      <td>200</td>\n      <td>0</td>\n      <td>0</td>\n      <td>3</td>\n      <td>4</td>\n      <td>163</td>\n      <td>0.0</td>\n      <td>4</td>\n      <td>3</td>\n      <td>0</td>\n      <td>8007</td>\n      <td>0</td>\n      <td>0</td>\n      <td>142.8</td>\n      <td>94</td>\n      <td>2</td>\n    </tr>\n    <tr>\n      <th>14099</th>\n      <td>8225</td>\n      <td>2013</td>\n      <td>200</td>\n      <td>0</td>\n      <td>0</td>\n      <td>0</td>\n      <td>6</td>\n      <td>13</td>\n      <td>0.0</td>\n      <td>0</td>\n      <td>0</td>\n      <td>0</td>\n      <td>16</td>\n      <td>0</td>\n      <td>0</td>\n      <td>63.4</td>\n      <td>469</td>\n      <td>1</td>\n    </tr>\n    <tr>\n      <th>...</th>\n      <td>...</td>\n      <td>...</td>\n      <td>...</td>\n      <td>...</td>\n      <td>...</td>\n      <td>...</td>\n      <td>...</td>\n      <td>...</td>\n      <td>...</td>\n      <td>...</td>\n      <td>...</td>\n      <td>...</td>\n      <td>...</td>\n      <td>...</td>\n      <td>...</td>\n      <td>...</td>\n      <td>...</td>\n      <td>...</td>\n    </tr>\n    <tr>\n      <th>20131</th>\n      <td>1714</td>\n      <td>2014</td>\n      <td>200</td>\n      <td>0</td>\n      <td>0</td>\n      <td>3</td>\n      <td>130</td>\n      <td>1047</td>\n      <td>0.0</td>\n      <td>65</td>\n      <td>5</td>\n      <td>2</td>\n      <td>1999</td>\n      <td>0</td>\n      <td>0</td>\n      <td>71.2</td>\n      <td>1163</td>\n      <td>2</td>\n    </tr>\n    <tr>\n      <th>20132</th>\n      <td>4131</td>\n      <td>2016</td>\n      <td>200</td>\n      <td>0</td>\n      <td>0</td>\n      <td>5</td>\n      <td>2</td>\n      <td>736</td>\n      <td>0.0</td>\n      <td>5</td>\n      <td>0</td>\n      <td>0</td>\n      <td>693</td>\n      <td>0</td>\n      <td>0</td>\n      <td>137.8</td>\n      <td>13</td>\n      <td>2</td>\n    </tr>\n    <tr>\n      <th>20133</th>\n      <td>4325</td>\n      <td>2014</td>\n      <td>200</td>\n      <td>0</td>\n      <td>0</td>\n      <td>0</td>\n      <td>0</td>\n      <td>53</td>\n      <td>0.0</td>\n      <td>0</td>\n      <td>0</td>\n      <td>0</td>\n      <td>69</td>\n      <td>0</td>\n      <td>0</td>\n      <td>302.2</td>\n      <td>13</td>\n      <td>2</td>\n    </tr>\n    <tr>\n      <th>20134</th>\n      <td>1364</td>\n      <td>2013</td>\n      <td>200</td>\n      <td>0</td>\n      <td>0</td>\n      <td>0</td>\n      <td>62</td>\n      <td>2</td>\n      <td>0.0</td>\n      <td>0</td>\n      <td>0</td>\n      <td>0</td>\n      <td>5</td>\n      <td>0</td>\n      <td>0</td>\n      <td>51.1</td>\n      <td>478</td>\n      <td>1</td>\n    </tr>\n    <tr>\n      <th>20135</th>\n      <td>2397</td>\n      <td>2016</td>\n      <td>1597</td>\n      <td>1</td>\n      <td>0</td>\n      <td>0</td>\n      <td>0</td>\n      <td>4</td>\n      <td>0.0</td>\n      <td>0</td>\n      <td>2</td>\n      <td>0</td>\n      <td>14</td>\n      <td>0</td>\n      <td>0</td>\n      <td>80.0</td>\n      <td>970</td>\n      <td>0</td>\n    </tr>\n  </tbody>\n</table>\n<p>6041 rows × 18 columns</p>\n</div>"
     },
     "execution_count": 38,
     "metadata": {},
     "output_type": "execute_result"
    }
   ],
   "source": [
    "test_base"
   ],
   "metadata": {
    "collapsed": false,
    "pycharm": {
     "name": "#%%\n"
    }
   }
  },
  {
   "cell_type": "code",
   "execution_count": 39,
   "outputs": [
    {
     "name": "stdout",
     "output_type": "stream",
     "text": [
      "(9866, 18) (4229, 18) (9866,) (4229,)\n"
     ]
    }
   ],
   "source": [
    "X_train_base, X_val_base, y_train_base, y_val_base = split_train_val(train_base,y)"
   ],
   "metadata": {
    "collapsed": false,
    "pycharm": {
     "name": "#%%\n"
    }
   }
  },
  {
   "cell_type": "code",
   "execution_count": 40,
   "outputs": [
    {
     "name": "stdout",
     "output_type": "stream",
     "text": [
      "RandomForestClassifier(max_depth=10)\n",
      "accuracy_score : 0.9153464175928115\n",
      "recall_score : 0.8\n",
      "precision_score : 0.0110803324099723\n",
      "f1_score : 0.02185792349726776\n",
      "coufusion_matrix : \n",
      "[[3867  357]\n",
      " [   1    4]]\n",
      "None\n"
     ]
    }
   ],
   "source": [
    "model_base = pipeline_RF(X_train_base, X_val_base, y_train_base, y_val_base)"
   ],
   "metadata": {
    "collapsed": false,
    "pycharm": {
     "name": "#%%\n"
    }
   }
  },
  {
   "cell_type": "code",
   "execution_count": 41,
   "outputs": [],
   "source": [
    "submission = pd.read_csv(r'C:\\Users\\yoon9\\PycharmProjects\\Sejong_Project\\data\\construct_Oil_data\\sample_submission.csv')"
   ],
   "metadata": {
    "collapsed": false,
    "pycharm": {
     "name": "#%%\n"
    }
   }
  },
  {
   "cell_type": "code",
   "execution_count": 42,
   "outputs": [
    {
     "name": "stdout",
     "output_type": "stream",
     "text": [
      "             ID  Y_LABEL\n",
      "0     TEST_0000        0\n",
      "1     TEST_0001        0\n",
      "2     TEST_0002        0\n",
      "3     TEST_0003        0\n",
      "4     TEST_0004        0\n",
      "...         ...      ...\n",
      "6036  TEST_6036        0\n",
      "6037  TEST_6037        0\n",
      "6038  TEST_6038        0\n",
      "6039  TEST_6039        0\n",
      "6040  TEST_6040        0\n",
      "\n",
      "[6041 rows x 2 columns]\n",
      "Done\n"
     ]
    }
   ],
   "source": [
    "#make_submission(model_base,test_base,submission)"
   ],
   "metadata": {
    "collapsed": false,
    "pycharm": {
     "name": "#%%\n"
    }
   }
  },
  {
   "cell_type": "markdown",
   "source": [
    "# 타겟 불균형 문제 해결"
   ],
   "metadata": {
    "collapsed": false
   }
  },
  {
   "cell_type": "code",
   "execution_count": 43,
   "outputs": [],
   "source": [
    "from imblearn.combine import SMOTEENN\n",
    "from imblearn.combine import SMOTETomek\n",
    "\n",
    "def add_smote_enn(train,y):\n",
    "    smote_enn = SMOTEENN(random_state=42)\n",
    "    X_resampled, y_resampled = smote_enn.fit_resample(train, y)\n",
    "    return X_resampled,y_resampled\n",
    "\n",
    "def add_smote_tomek(train,y):\n",
    "\n",
    "    smote_tomek = SMOTETomek(random_state=42)\n",
    "    X_resampled, y_resampled = smote_tomek.fit_resample(train, y)\n",
    "\n",
    "    return X_resampled,y_resampled\n",
    "\n"
   ],
   "metadata": {
    "collapsed": false,
    "pycharm": {
     "name": "#%%\n"
    }
   }
  },
  {
   "cell_type": "code",
   "execution_count": 44,
   "outputs": [
    {
     "data": {
      "text/plain": "(       수치형데이터1  진단년도  수치형데이터2  은  일산화탄소  크로뮴   구리    철    물  망가니즈  몰리브데넘  니켈  \\\n 0         1486  2011      200  0      0   13   78  888  0.0    16      1   6   \n 1         1350  2021      375  0      0    0   31    2  0.0     0      0   0   \n 2         2061  2008      550  0      0    3  179  550  0.0    42     11   4   \n 3         1416  2015      616  0      0    0    3   35  0.0     0      0   0   \n 4         1170  2009      370  0      0    3    6   81  0.0     2      1   0   \n ...        ...   ...      ... ..    ...  ...  ...  ...  ...   ...    ...  ..   \n 18470     1642  2015      200  0      0    3    1  308  0.0     2      2   0   \n 18471     3219  2011      200  0      0    2    3   23  0.0     0     17   0   \n 18472     3901  2014      200  0      0    0    1   19  0.0     0      0   0   \n 18473     1992  2018     2074  0      0    2   12  102  0.0     1      0   0   \n 18474     6860  2012      200  0      0    0    9   53  0.0     0      0   0   \n \n        입자 정량 지수  타이타늄  바나듐      점도 40도    아연 샘플오일관련부품  \n 0          8504     5    0  154.000000    75      2.0  \n 1            19     0    0   44.000000   652      1.0  \n 2           329     0    0   69.700000  1015      2.0  \n 3            26     0    0  148.500000    24      2.0  \n 4          7735     0    0  142.900000    16      2.0  \n ...         ...   ...  ...         ...   ...      ...  \n 18470       695     1    0  130.661320    35      2.0  \n 18471        25     0    0  103.792754  1224      0.0  \n 18472        12     0    0   92.372596  1302  0.27637  \n 18473       136     0    0  129.887277    23      2.0  \n 18474       113     0    0  132.847914    16      2.0  \n \n [18475 rows x 18 columns],\n 0        0\n 1        0\n 2        0\n 3        0\n 4        0\n         ..\n 18470    1\n 18471    1\n 18472    1\n 18473    1\n 18474    1\n Name: Y_LABEL, Length: 18475, dtype: int64)"
     },
     "execution_count": 44,
     "metadata": {},
     "output_type": "execute_result"
    }
   ],
   "source": [
    "add_smote_enn(train_base,y)"
   ],
   "metadata": {
    "collapsed": false,
    "pycharm": {
     "name": "#%%\n"
    }
   }
  },
  {
   "cell_type": "code",
   "execution_count": 45,
   "outputs": [
    {
     "data": {
      "text/plain": "                ID    샘플오일관련부품  수치형데이터1  진단년도  SAMPLE_TRANSFER_DAY  수치형데이터2  \\\n0      TRAIN_00000  COMPONENT3     1486  2011                    7      200   \n1      TRAIN_00001  COMPONENT2     1350  2021                   51      375   \n2      TRAIN_00002  COMPONENT2     2415  2015                    2      200   \n3      TRAIN_00003  COMPONENT3     7389  2010                    2      200   \n4      TRAIN_00004  COMPONENT3     3954  2015                    4      200   \n...            ...         ...      ...   ...                  ...      ...   \n14090  TRAIN_14090  COMPONENT3     1616  2014                    8      200   \n14091  TRAIN_14091  COMPONENT1     2784  2013                    2      200   \n14092  TRAIN_14092  COMPONENT3     1788  2008                    9      550   \n14093  TRAIN_14093  COMPONENT2     2498  2009                   19      550   \n14094  TRAIN_14094  COMPONENT2     1902  2012                   15      200   \n\n       은   AL    B  BA  ...  입자 정량 지수      S  SB   SI  SN  타이타늄  바나듐  점도 40도  \\\n0      0    3   93   0  ...      8504  21370   0  427   2     5    0   154.0   \n1      0    2   19   0  ...        19   1117   0    0   0     0    0    44.0   \n2      0  110    1   1  ...        17   1334   0    0   1     0    0    72.6   \n3      0    8    3   0  ...        44  21774   2    1   1     0    0   133.3   \n4      0    1  157   0  ...       217  18470   0    2   0     0    0   133.1   \n...   ..  ...  ...  ..  ...       ...    ...  ..  ...  ..   ...  ...     ...   \n14090  0    2  201   1  ...        35  22000   0    2   0     0    0   135.4   \n14091  0    3   85   0  ...         9   5494   0    5   0     0    0   117.5   \n14092  0    6    0   1  ...       645   9640   2   18   0     0    0    54.0   \n14093  0    2    4   0  ...        11   1313   0    0   0     0    0    44.3   \n14094  0    0   77   0  ...        81   2057   0    6   0     2    0    47.0   \n\n         아연  Y_LABEL  \n0        75        0  \n1       652        0  \n2       412        1  \n3         7        0  \n4       128        0  \n...     ...      ...  \n14090    16        0  \n14091  1408        0  \n14092  1301        0  \n14093   652        0  \n14094   612        0  \n\n[14095 rows x 37 columns]",
      "text/html": "<div>\n<style scoped>\n    .dataframe tbody tr th:only-of-type {\n        vertical-align: middle;\n    }\n\n    .dataframe tbody tr th {\n        vertical-align: top;\n    }\n\n    .dataframe thead th {\n        text-align: right;\n    }\n</style>\n<table border=\"1\" class=\"dataframe\">\n  <thead>\n    <tr style=\"text-align: right;\">\n      <th></th>\n      <th>ID</th>\n      <th>샘플오일관련부품</th>\n      <th>수치형데이터1</th>\n      <th>진단년도</th>\n      <th>SAMPLE_TRANSFER_DAY</th>\n      <th>수치형데이터2</th>\n      <th>은</th>\n      <th>AL</th>\n      <th>B</th>\n      <th>BA</th>\n      <th>...</th>\n      <th>입자 정량 지수</th>\n      <th>S</th>\n      <th>SB</th>\n      <th>SI</th>\n      <th>SN</th>\n      <th>타이타늄</th>\n      <th>바나듐</th>\n      <th>점도 40도</th>\n      <th>아연</th>\n      <th>Y_LABEL</th>\n    </tr>\n  </thead>\n  <tbody>\n    <tr>\n      <th>0</th>\n      <td>TRAIN_00000</td>\n      <td>COMPONENT3</td>\n      <td>1486</td>\n      <td>2011</td>\n      <td>7</td>\n      <td>200</td>\n      <td>0</td>\n      <td>3</td>\n      <td>93</td>\n      <td>0</td>\n      <td>...</td>\n      <td>8504</td>\n      <td>21370</td>\n      <td>0</td>\n      <td>427</td>\n      <td>2</td>\n      <td>5</td>\n      <td>0</td>\n      <td>154.0</td>\n      <td>75</td>\n      <td>0</td>\n    </tr>\n    <tr>\n      <th>1</th>\n      <td>TRAIN_00001</td>\n      <td>COMPONENT2</td>\n      <td>1350</td>\n      <td>2021</td>\n      <td>51</td>\n      <td>375</td>\n      <td>0</td>\n      <td>2</td>\n      <td>19</td>\n      <td>0</td>\n      <td>...</td>\n      <td>19</td>\n      <td>1117</td>\n      <td>0</td>\n      <td>0</td>\n      <td>0</td>\n      <td>0</td>\n      <td>0</td>\n      <td>44.0</td>\n      <td>652</td>\n      <td>0</td>\n    </tr>\n    <tr>\n      <th>2</th>\n      <td>TRAIN_00002</td>\n      <td>COMPONENT2</td>\n      <td>2415</td>\n      <td>2015</td>\n      <td>2</td>\n      <td>200</td>\n      <td>0</td>\n      <td>110</td>\n      <td>1</td>\n      <td>1</td>\n      <td>...</td>\n      <td>17</td>\n      <td>1334</td>\n      <td>0</td>\n      <td>0</td>\n      <td>1</td>\n      <td>0</td>\n      <td>0</td>\n      <td>72.6</td>\n      <td>412</td>\n      <td>1</td>\n    </tr>\n    <tr>\n      <th>3</th>\n      <td>TRAIN_00003</td>\n      <td>COMPONENT3</td>\n      <td>7389</td>\n      <td>2010</td>\n      <td>2</td>\n      <td>200</td>\n      <td>0</td>\n      <td>8</td>\n      <td>3</td>\n      <td>0</td>\n      <td>...</td>\n      <td>44</td>\n      <td>21774</td>\n      <td>2</td>\n      <td>1</td>\n      <td>1</td>\n      <td>0</td>\n      <td>0</td>\n      <td>133.3</td>\n      <td>7</td>\n      <td>0</td>\n    </tr>\n    <tr>\n      <th>4</th>\n      <td>TRAIN_00004</td>\n      <td>COMPONENT3</td>\n      <td>3954</td>\n      <td>2015</td>\n      <td>4</td>\n      <td>200</td>\n      <td>0</td>\n      <td>1</td>\n      <td>157</td>\n      <td>0</td>\n      <td>...</td>\n      <td>217</td>\n      <td>18470</td>\n      <td>0</td>\n      <td>2</td>\n      <td>0</td>\n      <td>0</td>\n      <td>0</td>\n      <td>133.1</td>\n      <td>128</td>\n      <td>0</td>\n    </tr>\n    <tr>\n      <th>...</th>\n      <td>...</td>\n      <td>...</td>\n      <td>...</td>\n      <td>...</td>\n      <td>...</td>\n      <td>...</td>\n      <td>...</td>\n      <td>...</td>\n      <td>...</td>\n      <td>...</td>\n      <td>...</td>\n      <td>...</td>\n      <td>...</td>\n      <td>...</td>\n      <td>...</td>\n      <td>...</td>\n      <td>...</td>\n      <td>...</td>\n      <td>...</td>\n      <td>...</td>\n      <td>...</td>\n    </tr>\n    <tr>\n      <th>14090</th>\n      <td>TRAIN_14090</td>\n      <td>COMPONENT3</td>\n      <td>1616</td>\n      <td>2014</td>\n      <td>8</td>\n      <td>200</td>\n      <td>0</td>\n      <td>2</td>\n      <td>201</td>\n      <td>1</td>\n      <td>...</td>\n      <td>35</td>\n      <td>22000</td>\n      <td>0</td>\n      <td>2</td>\n      <td>0</td>\n      <td>0</td>\n      <td>0</td>\n      <td>135.4</td>\n      <td>16</td>\n      <td>0</td>\n    </tr>\n    <tr>\n      <th>14091</th>\n      <td>TRAIN_14091</td>\n      <td>COMPONENT1</td>\n      <td>2784</td>\n      <td>2013</td>\n      <td>2</td>\n      <td>200</td>\n      <td>0</td>\n      <td>3</td>\n      <td>85</td>\n      <td>0</td>\n      <td>...</td>\n      <td>9</td>\n      <td>5494</td>\n      <td>0</td>\n      <td>5</td>\n      <td>0</td>\n      <td>0</td>\n      <td>0</td>\n      <td>117.5</td>\n      <td>1408</td>\n      <td>0</td>\n    </tr>\n    <tr>\n      <th>14092</th>\n      <td>TRAIN_14092</td>\n      <td>COMPONENT3</td>\n      <td>1788</td>\n      <td>2008</td>\n      <td>9</td>\n      <td>550</td>\n      <td>0</td>\n      <td>6</td>\n      <td>0</td>\n      <td>1</td>\n      <td>...</td>\n      <td>645</td>\n      <td>9640</td>\n      <td>2</td>\n      <td>18</td>\n      <td>0</td>\n      <td>0</td>\n      <td>0</td>\n      <td>54.0</td>\n      <td>1301</td>\n      <td>0</td>\n    </tr>\n    <tr>\n      <th>14093</th>\n      <td>TRAIN_14093</td>\n      <td>COMPONENT2</td>\n      <td>2498</td>\n      <td>2009</td>\n      <td>19</td>\n      <td>550</td>\n      <td>0</td>\n      <td>2</td>\n      <td>4</td>\n      <td>0</td>\n      <td>...</td>\n      <td>11</td>\n      <td>1313</td>\n      <td>0</td>\n      <td>0</td>\n      <td>0</td>\n      <td>0</td>\n      <td>0</td>\n      <td>44.3</td>\n      <td>652</td>\n      <td>0</td>\n    </tr>\n    <tr>\n      <th>14094</th>\n      <td>TRAIN_14094</td>\n      <td>COMPONENT2</td>\n      <td>1902</td>\n      <td>2012</td>\n      <td>15</td>\n      <td>200</td>\n      <td>0</td>\n      <td>0</td>\n      <td>77</td>\n      <td>0</td>\n      <td>...</td>\n      <td>81</td>\n      <td>2057</td>\n      <td>0</td>\n      <td>6</td>\n      <td>0</td>\n      <td>2</td>\n      <td>0</td>\n      <td>47.0</td>\n      <td>612</td>\n      <td>0</td>\n    </tr>\n  </tbody>\n</table>\n<p>14095 rows × 37 columns</p>\n</div>"
     },
     "execution_count": 45,
     "metadata": {},
     "output_type": "execute_result"
    }
   ],
   "source": [
    "train"
   ],
   "metadata": {
    "collapsed": false,
    "pycharm": {
     "name": "#%%\n"
    }
   }
  },
  {
   "cell_type": "code",
   "execution_count": 46,
   "outputs": [],
   "source": [
    "X_train_SME, X_val_SME, y_train_SME, y_val_SME = split_train_val(X_resampled, y_resampled)\n",
    "\n",
    "#model_SMT = pipeline_RF(X_train_SME, X_val_SME, y_train_SME, y_val_SME)"
   ],
   "metadata": {
    "collapsed": false,
    "pycharm": {
     "name": "#%%\n"
    }
   }
  },
  {
   "cell_type": "code",
   "execution_count": 47,
   "outputs": [
    {
     "ename": "NameError",
     "evalue": "name 'dd' is not defined",
     "output_type": "error",
     "traceback": [
      "\u001B[1;31m---------------------------------------------------------------------------\u001B[0m",
      "\u001B[1;31mNameError\u001B[0m                                 Traceback (most recent call last)",
      "Cell \u001B[1;32mIn[47], line 2\u001B[0m\n\u001B[0;32m      1\u001B[0m \u001B[38;5;66;03m# make_submission(model_SMT,test_base,submission)\u001B[39;00m\n\u001B[1;32m----> 2\u001B[0m \u001B[43mdd\u001B[49m\n",
      "\u001B[1;31mNameError\u001B[0m: name 'dd' is not defined"
     ]
    }
   ],
   "source": [
    "# make_submission(model_SMT,test_base,submission)"
   ],
   "metadata": {
    "collapsed": false,
    "pycharm": {
     "name": "#%%\n"
    }
   }
  },
  {
   "cell_type": "markdown",
   "source": [
    "# 피쳐 엔지니어링 테스트"
   ],
   "metadata": {
    "collapsed": false,
    "pycharm": {
     "name": "#%% md\n"
    }
   }
  },
  {
   "cell_type": "markdown",
   "source": [
    "### smoteENN + scaler X + Label-encoding"
   ],
   "metadata": {
    "collapsed": false
   }
  },
  {
   "cell_type": "code",
   "execution_count": 125,
   "outputs": [
    {
     "data": {
      "text/plain": "       수치형데이터1  진단년도  수치형데이터2  은  일산화탄소  크로뮴   구리     철    물  망가니즈  몰리브데넘  니켈  \\\n0         1486  2011      200  0      0   13   78   888  0.0    16      1   6   \n1         1350  2021      375  0      0    0   31     2  0.0     0      0   0   \n2         2415  2015      200  0      0    1    2     4  0.0     0      0   0   \n3         7389  2010      200  0      0    0    1    37  0.0     1      0   0   \n4         3954  2015      200  0      0    0    0    71  0.0     0      0   0   \n...        ...   ...      ... ..    ...  ...  ...   ...  ...   ...    ...  ..   \n20131     1714  2014      200  0      0    3  130  1047  0.0    65      5   2   \n20132     4131  2016      200  0      0    5    2   736  0.0     5      0   0   \n20133     4325  2014      200  0      0    0    0    53  0.0     0      0   0   \n20134     1364  2013      200  0      0    0   62     2  0.0     0      0   0   \n20135     2397  2016     1597  1      0    0    0     4  0.0     0      2   0   \n\n       입자 정량 지수  타이타늄  바나듐  점도 40도    아연 샘플오일관련부품  \n0          8504     5    0   154.0    75        2  \n1            19     0    0    44.0   652        1  \n2            17     0    0    72.6   412        1  \n3            44     0    0   133.3     7        2  \n4           217     0    0   133.1   128        2  \n...         ...   ...  ...     ...   ...      ...  \n20131      1999     0    0    71.2  1163        2  \n20132       693     0    0   137.8    13        2  \n20133        69     0    0   302.2    13        2  \n20134         5     0    0    51.1   478        1  \n20135        14     0    0    80.0   970        0  \n\n[20136 rows x 18 columns]",
      "text/html": "<div>\n<style scoped>\n    .dataframe tbody tr th:only-of-type {\n        vertical-align: middle;\n    }\n\n    .dataframe tbody tr th {\n        vertical-align: top;\n    }\n\n    .dataframe thead th {\n        text-align: right;\n    }\n</style>\n<table border=\"1\" class=\"dataframe\">\n  <thead>\n    <tr style=\"text-align: right;\">\n      <th></th>\n      <th>수치형데이터1</th>\n      <th>진단년도</th>\n      <th>수치형데이터2</th>\n      <th>은</th>\n      <th>일산화탄소</th>\n      <th>크로뮴</th>\n      <th>구리</th>\n      <th>철</th>\n      <th>물</th>\n      <th>망가니즈</th>\n      <th>몰리브데넘</th>\n      <th>니켈</th>\n      <th>입자 정량 지수</th>\n      <th>타이타늄</th>\n      <th>바나듐</th>\n      <th>점도 40도</th>\n      <th>아연</th>\n      <th>샘플오일관련부품</th>\n    </tr>\n  </thead>\n  <tbody>\n    <tr>\n      <th>0</th>\n      <td>1486</td>\n      <td>2011</td>\n      <td>200</td>\n      <td>0</td>\n      <td>0</td>\n      <td>13</td>\n      <td>78</td>\n      <td>888</td>\n      <td>0.0</td>\n      <td>16</td>\n      <td>1</td>\n      <td>6</td>\n      <td>8504</td>\n      <td>5</td>\n      <td>0</td>\n      <td>154.0</td>\n      <td>75</td>\n      <td>2</td>\n    </tr>\n    <tr>\n      <th>1</th>\n      <td>1350</td>\n      <td>2021</td>\n      <td>375</td>\n      <td>0</td>\n      <td>0</td>\n      <td>0</td>\n      <td>31</td>\n      <td>2</td>\n      <td>0.0</td>\n      <td>0</td>\n      <td>0</td>\n      <td>0</td>\n      <td>19</td>\n      <td>0</td>\n      <td>0</td>\n      <td>44.0</td>\n      <td>652</td>\n      <td>1</td>\n    </tr>\n    <tr>\n      <th>2</th>\n      <td>2415</td>\n      <td>2015</td>\n      <td>200</td>\n      <td>0</td>\n      <td>0</td>\n      <td>1</td>\n      <td>2</td>\n      <td>4</td>\n      <td>0.0</td>\n      <td>0</td>\n      <td>0</td>\n      <td>0</td>\n      <td>17</td>\n      <td>0</td>\n      <td>0</td>\n      <td>72.6</td>\n      <td>412</td>\n      <td>1</td>\n    </tr>\n    <tr>\n      <th>3</th>\n      <td>7389</td>\n      <td>2010</td>\n      <td>200</td>\n      <td>0</td>\n      <td>0</td>\n      <td>0</td>\n      <td>1</td>\n      <td>37</td>\n      <td>0.0</td>\n      <td>1</td>\n      <td>0</td>\n      <td>0</td>\n      <td>44</td>\n      <td>0</td>\n      <td>0</td>\n      <td>133.3</td>\n      <td>7</td>\n      <td>2</td>\n    </tr>\n    <tr>\n      <th>4</th>\n      <td>3954</td>\n      <td>2015</td>\n      <td>200</td>\n      <td>0</td>\n      <td>0</td>\n      <td>0</td>\n      <td>0</td>\n      <td>71</td>\n      <td>0.0</td>\n      <td>0</td>\n      <td>0</td>\n      <td>0</td>\n      <td>217</td>\n      <td>0</td>\n      <td>0</td>\n      <td>133.1</td>\n      <td>128</td>\n      <td>2</td>\n    </tr>\n    <tr>\n      <th>...</th>\n      <td>...</td>\n      <td>...</td>\n      <td>...</td>\n      <td>...</td>\n      <td>...</td>\n      <td>...</td>\n      <td>...</td>\n      <td>...</td>\n      <td>...</td>\n      <td>...</td>\n      <td>...</td>\n      <td>...</td>\n      <td>...</td>\n      <td>...</td>\n      <td>...</td>\n      <td>...</td>\n      <td>...</td>\n      <td>...</td>\n    </tr>\n    <tr>\n      <th>20131</th>\n      <td>1714</td>\n      <td>2014</td>\n      <td>200</td>\n      <td>0</td>\n      <td>0</td>\n      <td>3</td>\n      <td>130</td>\n      <td>1047</td>\n      <td>0.0</td>\n      <td>65</td>\n      <td>5</td>\n      <td>2</td>\n      <td>1999</td>\n      <td>0</td>\n      <td>0</td>\n      <td>71.2</td>\n      <td>1163</td>\n      <td>2</td>\n    </tr>\n    <tr>\n      <th>20132</th>\n      <td>4131</td>\n      <td>2016</td>\n      <td>200</td>\n      <td>0</td>\n      <td>0</td>\n      <td>5</td>\n      <td>2</td>\n      <td>736</td>\n      <td>0.0</td>\n      <td>5</td>\n      <td>0</td>\n      <td>0</td>\n      <td>693</td>\n      <td>0</td>\n      <td>0</td>\n      <td>137.8</td>\n      <td>13</td>\n      <td>2</td>\n    </tr>\n    <tr>\n      <th>20133</th>\n      <td>4325</td>\n      <td>2014</td>\n      <td>200</td>\n      <td>0</td>\n      <td>0</td>\n      <td>0</td>\n      <td>0</td>\n      <td>53</td>\n      <td>0.0</td>\n      <td>0</td>\n      <td>0</td>\n      <td>0</td>\n      <td>69</td>\n      <td>0</td>\n      <td>0</td>\n      <td>302.2</td>\n      <td>13</td>\n      <td>2</td>\n    </tr>\n    <tr>\n      <th>20134</th>\n      <td>1364</td>\n      <td>2013</td>\n      <td>200</td>\n      <td>0</td>\n      <td>0</td>\n      <td>0</td>\n      <td>62</td>\n      <td>2</td>\n      <td>0.0</td>\n      <td>0</td>\n      <td>0</td>\n      <td>0</td>\n      <td>5</td>\n      <td>0</td>\n      <td>0</td>\n      <td>51.1</td>\n      <td>478</td>\n      <td>1</td>\n    </tr>\n    <tr>\n      <th>20135</th>\n      <td>2397</td>\n      <td>2016</td>\n      <td>1597</td>\n      <td>1</td>\n      <td>0</td>\n      <td>0</td>\n      <td>0</td>\n      <td>4</td>\n      <td>0.0</td>\n      <td>0</td>\n      <td>2</td>\n      <td>0</td>\n      <td>14</td>\n      <td>0</td>\n      <td>0</td>\n      <td>80.0</td>\n      <td>970</td>\n      <td>0</td>\n    </tr>\n  </tbody>\n</table>\n<p>20136 rows × 18 columns</p>\n</div>"
     },
     "execution_count": 125,
     "metadata": {},
     "output_type": "execute_result"
    }
   ],
   "source": [
    "df_stand_1hot = cocnat_df(num_attribss,label_encoding(cat_attribs))\n",
    "df_stand_1hot"
   ],
   "metadata": {
    "collapsed": false,
    "pycharm": {
     "name": "#%%\n"
    }
   }
  },
  {
   "cell_type": "code",
   "execution_count": 126,
   "outputs": [],
   "source": [
    "train_stand_1hot, test_stand_1hot = split_train_test(df_stand_1hot)"
   ],
   "metadata": {
    "collapsed": false,
    "pycharm": {
     "name": "#%%\n"
    }
   }
  },
  {
   "cell_type": "code",
   "execution_count": 127,
   "outputs": [],
   "source": [
    "train_stand_1hot, y_stand_1hot = add_smote_enn(train_stand_1hot,y)"
   ],
   "metadata": {
    "collapsed": false,
    "pycharm": {
     "name": "#%%\n"
    }
   }
  },
  {
   "cell_type": "code",
   "execution_count": 129,
   "outputs": [
    {
     "data": {
      "text/plain": "(18475, 18)"
     },
     "execution_count": 129,
     "metadata": {},
     "output_type": "execute_result"
    }
   ],
   "source": [
    "train_stand_1hot.shape"
   ],
   "metadata": {
    "collapsed": false,
    "pycharm": {
     "name": "#%%\n"
    }
   }
  },
  {
   "cell_type": "code",
   "execution_count": 128,
   "outputs": [
    {
     "data": {
      "text/plain": "1    10763\n0     7712\nName: Y_LABEL, dtype: int64"
     },
     "execution_count": 128,
     "metadata": {},
     "output_type": "execute_result"
    }
   ],
   "source": [
    "y_stand_1hot.value_counts()"
   ],
   "metadata": {
    "collapsed": false,
    "pycharm": {
     "name": "#%%\n"
    }
   }
  },
  {
   "cell_type": "code",
   "execution_count": 51,
   "outputs": [
    {
     "name": "stdout",
     "output_type": "stream",
     "text": [
      "(12932, 18) (5543, 18) (12932,) (5543,)\n"
     ]
    }
   ],
   "source": [
    "X_train_stand_1hot, X_val_stand_1hot, y_train_stand_1hot, y_val_stand_1hot = split_train_val(train_stand_1hot,y_stand_1hot)"
   ],
   "metadata": {
    "collapsed": false,
    "pycharm": {
     "name": "#%%\n"
    }
   }
  },
  {
   "cell_type": "code",
   "execution_count": 52,
   "outputs": [
    {
     "name": "stdout",
     "output_type": "stream",
     "text": [
      "RandomForestClassifier(max_depth=10)\n",
      "accuracy_score : 0.823020025257081\n",
      "recall_score : 0.8016639828234031\n",
      "precision_score : 0.9250541963456178\n",
      "f1_score : 0.8589503953989935\n",
      "coufusion_matrix : \n",
      "[[1575  242]\n",
      " [ 739 2987]]\n",
      "None\n"
     ]
    }
   ],
   "source": [
    "model_stand_1hot = pipeline_RF(X_train_stand_1hot, X_val_stand_1hot, y_train_stand_1hot, y_val_stand_1hot)"
   ],
   "metadata": {
    "collapsed": false,
    "pycharm": {
     "name": "#%%\n"
    }
   }
  },
  {
   "cell_type": "markdown",
   "source": [
    "### smoteTomek + scaler X + Label-encoding"
   ],
   "metadata": {
    "collapsed": false
   }
  },
  {
   "cell_type": "code",
   "execution_count": 130,
   "outputs": [
    {
     "data": {
      "text/plain": "       수치형데이터1  진단년도  수치형데이터2  은  일산화탄소  크로뮴   구리     철    물  망가니즈  몰리브데넘  니켈  \\\n0         1486  2011      200  0      0   13   78   888  0.0    16      1   6   \n1         1350  2021      375  0      0    0   31     2  0.0     0      0   0   \n2         2415  2015      200  0      0    1    2     4  0.0     0      0   0   \n3         7389  2010      200  0      0    0    1    37  0.0     1      0   0   \n4         3954  2015      200  0      0    0    0    71  0.0     0      0   0   \n...        ...   ...      ... ..    ...  ...  ...   ...  ...   ...    ...  ..   \n20131     1714  2014      200  0      0    3  130  1047  0.0    65      5   2   \n20132     4131  2016      200  0      0    5    2   736  0.0     5      0   0   \n20133     4325  2014      200  0      0    0    0    53  0.0     0      0   0   \n20134     1364  2013      200  0      0    0   62     2  0.0     0      0   0   \n20135     2397  2016     1597  1      0    0    0     4  0.0     0      2   0   \n\n       입자 정량 지수  타이타늄  바나듐  점도 40도    아연 샘플오일관련부품  \n0          8504     5    0   154.0    75        2  \n1            19     0    0    44.0   652        1  \n2            17     0    0    72.6   412        1  \n3            44     0    0   133.3     7        2  \n4           217     0    0   133.1   128        2  \n...         ...   ...  ...     ...   ...      ...  \n20131      1999     0    0    71.2  1163        2  \n20132       693     0    0   137.8    13        2  \n20133        69     0    0   302.2    13        2  \n20134         5     0    0    51.1   478        1  \n20135        14     0    0    80.0   970        0  \n\n[20136 rows x 18 columns]",
      "text/html": "<div>\n<style scoped>\n    .dataframe tbody tr th:only-of-type {\n        vertical-align: middle;\n    }\n\n    .dataframe tbody tr th {\n        vertical-align: top;\n    }\n\n    .dataframe thead th {\n        text-align: right;\n    }\n</style>\n<table border=\"1\" class=\"dataframe\">\n  <thead>\n    <tr style=\"text-align: right;\">\n      <th></th>\n      <th>수치형데이터1</th>\n      <th>진단년도</th>\n      <th>수치형데이터2</th>\n      <th>은</th>\n      <th>일산화탄소</th>\n      <th>크로뮴</th>\n      <th>구리</th>\n      <th>철</th>\n      <th>물</th>\n      <th>망가니즈</th>\n      <th>몰리브데넘</th>\n      <th>니켈</th>\n      <th>입자 정량 지수</th>\n      <th>타이타늄</th>\n      <th>바나듐</th>\n      <th>점도 40도</th>\n      <th>아연</th>\n      <th>샘플오일관련부품</th>\n    </tr>\n  </thead>\n  <tbody>\n    <tr>\n      <th>0</th>\n      <td>1486</td>\n      <td>2011</td>\n      <td>200</td>\n      <td>0</td>\n      <td>0</td>\n      <td>13</td>\n      <td>78</td>\n      <td>888</td>\n      <td>0.0</td>\n      <td>16</td>\n      <td>1</td>\n      <td>6</td>\n      <td>8504</td>\n      <td>5</td>\n      <td>0</td>\n      <td>154.0</td>\n      <td>75</td>\n      <td>2</td>\n    </tr>\n    <tr>\n      <th>1</th>\n      <td>1350</td>\n      <td>2021</td>\n      <td>375</td>\n      <td>0</td>\n      <td>0</td>\n      <td>0</td>\n      <td>31</td>\n      <td>2</td>\n      <td>0.0</td>\n      <td>0</td>\n      <td>0</td>\n      <td>0</td>\n      <td>19</td>\n      <td>0</td>\n      <td>0</td>\n      <td>44.0</td>\n      <td>652</td>\n      <td>1</td>\n    </tr>\n    <tr>\n      <th>2</th>\n      <td>2415</td>\n      <td>2015</td>\n      <td>200</td>\n      <td>0</td>\n      <td>0</td>\n      <td>1</td>\n      <td>2</td>\n      <td>4</td>\n      <td>0.0</td>\n      <td>0</td>\n      <td>0</td>\n      <td>0</td>\n      <td>17</td>\n      <td>0</td>\n      <td>0</td>\n      <td>72.6</td>\n      <td>412</td>\n      <td>1</td>\n    </tr>\n    <tr>\n      <th>3</th>\n      <td>7389</td>\n      <td>2010</td>\n      <td>200</td>\n      <td>0</td>\n      <td>0</td>\n      <td>0</td>\n      <td>1</td>\n      <td>37</td>\n      <td>0.0</td>\n      <td>1</td>\n      <td>0</td>\n      <td>0</td>\n      <td>44</td>\n      <td>0</td>\n      <td>0</td>\n      <td>133.3</td>\n      <td>7</td>\n      <td>2</td>\n    </tr>\n    <tr>\n      <th>4</th>\n      <td>3954</td>\n      <td>2015</td>\n      <td>200</td>\n      <td>0</td>\n      <td>0</td>\n      <td>0</td>\n      <td>0</td>\n      <td>71</td>\n      <td>0.0</td>\n      <td>0</td>\n      <td>0</td>\n      <td>0</td>\n      <td>217</td>\n      <td>0</td>\n      <td>0</td>\n      <td>133.1</td>\n      <td>128</td>\n      <td>2</td>\n    </tr>\n    <tr>\n      <th>...</th>\n      <td>...</td>\n      <td>...</td>\n      <td>...</td>\n      <td>...</td>\n      <td>...</td>\n      <td>...</td>\n      <td>...</td>\n      <td>...</td>\n      <td>...</td>\n      <td>...</td>\n      <td>...</td>\n      <td>...</td>\n      <td>...</td>\n      <td>...</td>\n      <td>...</td>\n      <td>...</td>\n      <td>...</td>\n      <td>...</td>\n    </tr>\n    <tr>\n      <th>20131</th>\n      <td>1714</td>\n      <td>2014</td>\n      <td>200</td>\n      <td>0</td>\n      <td>0</td>\n      <td>3</td>\n      <td>130</td>\n      <td>1047</td>\n      <td>0.0</td>\n      <td>65</td>\n      <td>5</td>\n      <td>2</td>\n      <td>1999</td>\n      <td>0</td>\n      <td>0</td>\n      <td>71.2</td>\n      <td>1163</td>\n      <td>2</td>\n    </tr>\n    <tr>\n      <th>20132</th>\n      <td>4131</td>\n      <td>2016</td>\n      <td>200</td>\n      <td>0</td>\n      <td>0</td>\n      <td>5</td>\n      <td>2</td>\n      <td>736</td>\n      <td>0.0</td>\n      <td>5</td>\n      <td>0</td>\n      <td>0</td>\n      <td>693</td>\n      <td>0</td>\n      <td>0</td>\n      <td>137.8</td>\n      <td>13</td>\n      <td>2</td>\n    </tr>\n    <tr>\n      <th>20133</th>\n      <td>4325</td>\n      <td>2014</td>\n      <td>200</td>\n      <td>0</td>\n      <td>0</td>\n      <td>0</td>\n      <td>0</td>\n      <td>53</td>\n      <td>0.0</td>\n      <td>0</td>\n      <td>0</td>\n      <td>0</td>\n      <td>69</td>\n      <td>0</td>\n      <td>0</td>\n      <td>302.2</td>\n      <td>13</td>\n      <td>2</td>\n    </tr>\n    <tr>\n      <th>20134</th>\n      <td>1364</td>\n      <td>2013</td>\n      <td>200</td>\n      <td>0</td>\n      <td>0</td>\n      <td>0</td>\n      <td>62</td>\n      <td>2</td>\n      <td>0.0</td>\n      <td>0</td>\n      <td>0</td>\n      <td>0</td>\n      <td>5</td>\n      <td>0</td>\n      <td>0</td>\n      <td>51.1</td>\n      <td>478</td>\n      <td>1</td>\n    </tr>\n    <tr>\n      <th>20135</th>\n      <td>2397</td>\n      <td>2016</td>\n      <td>1597</td>\n      <td>1</td>\n      <td>0</td>\n      <td>0</td>\n      <td>0</td>\n      <td>4</td>\n      <td>0.0</td>\n      <td>0</td>\n      <td>2</td>\n      <td>0</td>\n      <td>14</td>\n      <td>0</td>\n      <td>0</td>\n      <td>80.0</td>\n      <td>970</td>\n      <td>0</td>\n    </tr>\n  </tbody>\n</table>\n<p>20136 rows × 18 columns</p>\n</div>"
     },
     "execution_count": 130,
     "metadata": {},
     "output_type": "execute_result"
    }
   ],
   "source": [
    "df_stand_1hot = cocnat_df(num_attribss,label_encoding(cat_attribs))\n",
    "df_stand_1hot"
   ],
   "metadata": {
    "collapsed": false,
    "pycharm": {
     "name": "#%%\n"
    }
   }
  },
  {
   "cell_type": "code",
   "execution_count": 131,
   "outputs": [],
   "source": [
    "train_stand_1hot, test_stand_1hot = split_train_test(df_stand_1hot)"
   ],
   "metadata": {
    "collapsed": false,
    "pycharm": {
     "name": "#%%\n"
    }
   }
  },
  {
   "cell_type": "code",
   "execution_count": 132,
   "outputs": [],
   "source": [
    "train_stand_1hot, y_stand_1hot = add_smote_tomek(train_stand_1hot,y)"
   ],
   "metadata": {
    "collapsed": false,
    "pycharm": {
     "name": "#%%\n"
    }
   }
  },
  {
   "cell_type": "code",
   "execution_count": 133,
   "outputs": [
    {
     "data": {
      "text/plain": "0    12552\n1    12552\nName: Y_LABEL, dtype: int64"
     },
     "execution_count": 133,
     "metadata": {},
     "output_type": "execute_result"
    }
   ],
   "source": [
    "y_stand_1hot.value_counts()"
   ],
   "metadata": {
    "collapsed": false,
    "pycharm": {
     "name": "#%%\n"
    }
   }
  },
  {
   "cell_type": "code",
   "execution_count": null,
   "outputs": [],
   "source": [
    "X_train_stand_1hot, X_val_stand_1hot, y_train_stand_1hot, y_val_stand_1hot = split_train_val(train_stand_1hot,y_stand_1hot)"
   ],
   "metadata": {
    "collapsed": false,
    "pycharm": {
     "name": "#%%\n"
    }
   }
  },
  {
   "cell_type": "code",
   "execution_count": null,
   "outputs": [],
   "source": [
    "model_stand_1hot = pipeline_RF(X_train_stand_1hot, X_val_stand_1hot, y_train_stand_1hot, y_val_stand_1hot)"
   ],
   "metadata": {
    "collapsed": false,
    "pycharm": {
     "name": "#%%\n"
    }
   }
  },
  {
   "cell_type": "markdown",
   "source": [
    "### smoteENN + Standard scaler + Label-encoding"
   ],
   "metadata": {
    "collapsed": false
   }
  },
  {
   "cell_type": "code",
   "execution_count": 58,
   "outputs": [
    {
     "data": {
      "text/plain": "        수치형데이터1      진단년도   수치형데이터2         은     일산화탄소       크로뮴        구리  \\\n0     -0.379987 -0.668748 -0.341059 -0.149807 -0.096143  0.366670  0.311033   \n1     -0.410821  1.851308 -0.025252 -0.149807 -0.096143 -0.122537 -0.032219   \n2     -0.169362  0.339274 -0.341059 -0.149807 -0.096143 -0.084906 -0.244013   \n3      0.958355 -0.920754 -0.341059 -0.149807 -0.096143 -0.122537 -0.251316   \n4      0.179564  0.339274 -0.341059 -0.149807 -0.096143 -0.122537 -0.258619   \n...         ...       ...       ...       ...       ...       ...       ...   \n20131 -0.328294  0.087268 -0.341059 -0.149807 -0.096143 -0.009643  0.690801   \n20132  0.219694  0.591280 -0.341059 -0.149807 -0.096143  0.065619 -0.244013   \n20133  0.263678  0.087268 -0.341059 -0.149807 -0.096143 -0.122537 -0.258619   \n20134 -0.407647 -0.164737 -0.341059 -0.149807 -0.096143 -0.122537  0.194181   \n20135 -0.173443  0.591280  2.179983  5.585000 -0.096143 -0.122537 -0.258619   \n\n              철       물      망가니즈     몰리브데넘        니켈  입자 정량 지수      타이타늄  \\\n0      1.202754 -0.0441  1.171823 -0.384823  1.170325  4.985286  0.605756   \n1     -0.311592 -0.0441 -0.258298 -0.401334 -0.173878 -0.255810 -0.104342   \n2     -0.308173 -0.0441 -0.258298 -0.401334 -0.173878 -0.257045 -0.104342   \n3     -0.251770 -0.0441 -0.168915 -0.401334 -0.173878 -0.240368 -0.104342   \n4     -0.193657 -0.0441 -0.258298 -0.401334 -0.173878 -0.133507 -0.104342   \n...         ...     ...       ...       ...       ...       ...       ...   \n20131  1.474515 -0.0441  5.551570 -0.318780  0.274190  0.967215 -0.104342   \n20132  0.942956 -0.0441  0.188615 -0.401334 -0.173878  0.160513 -0.104342   \n20133 -0.224423 -0.0441 -0.258298 -0.401334 -0.173878 -0.224925 -0.104342   \n20134 -0.311592 -0.0441 -0.258298 -0.401334 -0.173878 -0.264457 -0.104342   \n20135 -0.308173 -0.0441 -0.258298 -0.368313 -0.173878 -0.258898 -0.104342   \n\n            바나듐    점도 40도        아연 샘플오일관련부품  \n0     -0.109985  0.915670 -0.962299        2  \n1     -0.109985 -1.357880  0.123421        1  \n2     -0.109985 -0.766757 -0.328178        1  \n3     -0.109985  0.487829 -1.090252        2  \n4     -0.109985  0.483695 -0.862570        2  \n...         ...       ...       ...      ...  \n20131 -0.109985 -0.795693  1.084950        2  \n20132 -0.109985  0.580838 -1.078962        2  \n20133 -0.109985  3.978762 -1.078962        2  \n20134 -0.109985 -1.211133 -0.203988        1  \n20135 -0.109985 -0.613809  0.721790        0  \n\n[20136 rows x 18 columns]",
      "text/html": "<div>\n<style scoped>\n    .dataframe tbody tr th:only-of-type {\n        vertical-align: middle;\n    }\n\n    .dataframe tbody tr th {\n        vertical-align: top;\n    }\n\n    .dataframe thead th {\n        text-align: right;\n    }\n</style>\n<table border=\"1\" class=\"dataframe\">\n  <thead>\n    <tr style=\"text-align: right;\">\n      <th></th>\n      <th>수치형데이터1</th>\n      <th>진단년도</th>\n      <th>수치형데이터2</th>\n      <th>은</th>\n      <th>일산화탄소</th>\n      <th>크로뮴</th>\n      <th>구리</th>\n      <th>철</th>\n      <th>물</th>\n      <th>망가니즈</th>\n      <th>몰리브데넘</th>\n      <th>니켈</th>\n      <th>입자 정량 지수</th>\n      <th>타이타늄</th>\n      <th>바나듐</th>\n      <th>점도 40도</th>\n      <th>아연</th>\n      <th>샘플오일관련부품</th>\n    </tr>\n  </thead>\n  <tbody>\n    <tr>\n      <th>0</th>\n      <td>-0.379987</td>\n      <td>-0.668748</td>\n      <td>-0.341059</td>\n      <td>-0.149807</td>\n      <td>-0.096143</td>\n      <td>0.366670</td>\n      <td>0.311033</td>\n      <td>1.202754</td>\n      <td>-0.0441</td>\n      <td>1.171823</td>\n      <td>-0.384823</td>\n      <td>1.170325</td>\n      <td>4.985286</td>\n      <td>0.605756</td>\n      <td>-0.109985</td>\n      <td>0.915670</td>\n      <td>-0.962299</td>\n      <td>2</td>\n    </tr>\n    <tr>\n      <th>1</th>\n      <td>-0.410821</td>\n      <td>1.851308</td>\n      <td>-0.025252</td>\n      <td>-0.149807</td>\n      <td>-0.096143</td>\n      <td>-0.122537</td>\n      <td>-0.032219</td>\n      <td>-0.311592</td>\n      <td>-0.0441</td>\n      <td>-0.258298</td>\n      <td>-0.401334</td>\n      <td>-0.173878</td>\n      <td>-0.255810</td>\n      <td>-0.104342</td>\n      <td>-0.109985</td>\n      <td>-1.357880</td>\n      <td>0.123421</td>\n      <td>1</td>\n    </tr>\n    <tr>\n      <th>2</th>\n      <td>-0.169362</td>\n      <td>0.339274</td>\n      <td>-0.341059</td>\n      <td>-0.149807</td>\n      <td>-0.096143</td>\n      <td>-0.084906</td>\n      <td>-0.244013</td>\n      <td>-0.308173</td>\n      <td>-0.0441</td>\n      <td>-0.258298</td>\n      <td>-0.401334</td>\n      <td>-0.173878</td>\n      <td>-0.257045</td>\n      <td>-0.104342</td>\n      <td>-0.109985</td>\n      <td>-0.766757</td>\n      <td>-0.328178</td>\n      <td>1</td>\n    </tr>\n    <tr>\n      <th>3</th>\n      <td>0.958355</td>\n      <td>-0.920754</td>\n      <td>-0.341059</td>\n      <td>-0.149807</td>\n      <td>-0.096143</td>\n      <td>-0.122537</td>\n      <td>-0.251316</td>\n      <td>-0.251770</td>\n      <td>-0.0441</td>\n      <td>-0.168915</td>\n      <td>-0.401334</td>\n      <td>-0.173878</td>\n      <td>-0.240368</td>\n      <td>-0.104342</td>\n      <td>-0.109985</td>\n      <td>0.487829</td>\n      <td>-1.090252</td>\n      <td>2</td>\n    </tr>\n    <tr>\n      <th>4</th>\n      <td>0.179564</td>\n      <td>0.339274</td>\n      <td>-0.341059</td>\n      <td>-0.149807</td>\n      <td>-0.096143</td>\n      <td>-0.122537</td>\n      <td>-0.258619</td>\n      <td>-0.193657</td>\n      <td>-0.0441</td>\n      <td>-0.258298</td>\n      <td>-0.401334</td>\n      <td>-0.173878</td>\n      <td>-0.133507</td>\n      <td>-0.104342</td>\n      <td>-0.109985</td>\n      <td>0.483695</td>\n      <td>-0.862570</td>\n      <td>2</td>\n    </tr>\n    <tr>\n      <th>...</th>\n      <td>...</td>\n      <td>...</td>\n      <td>...</td>\n      <td>...</td>\n      <td>...</td>\n      <td>...</td>\n      <td>...</td>\n      <td>...</td>\n      <td>...</td>\n      <td>...</td>\n      <td>...</td>\n      <td>...</td>\n      <td>...</td>\n      <td>...</td>\n      <td>...</td>\n      <td>...</td>\n      <td>...</td>\n      <td>...</td>\n    </tr>\n    <tr>\n      <th>20131</th>\n      <td>-0.328294</td>\n      <td>0.087268</td>\n      <td>-0.341059</td>\n      <td>-0.149807</td>\n      <td>-0.096143</td>\n      <td>-0.009643</td>\n      <td>0.690801</td>\n      <td>1.474515</td>\n      <td>-0.0441</td>\n      <td>5.551570</td>\n      <td>-0.318780</td>\n      <td>0.274190</td>\n      <td>0.967215</td>\n      <td>-0.104342</td>\n      <td>-0.109985</td>\n      <td>-0.795693</td>\n      <td>1.084950</td>\n      <td>2</td>\n    </tr>\n    <tr>\n      <th>20132</th>\n      <td>0.219694</td>\n      <td>0.591280</td>\n      <td>-0.341059</td>\n      <td>-0.149807</td>\n      <td>-0.096143</td>\n      <td>0.065619</td>\n      <td>-0.244013</td>\n      <td>0.942956</td>\n      <td>-0.0441</td>\n      <td>0.188615</td>\n      <td>-0.401334</td>\n      <td>-0.173878</td>\n      <td>0.160513</td>\n      <td>-0.104342</td>\n      <td>-0.109985</td>\n      <td>0.580838</td>\n      <td>-1.078962</td>\n      <td>2</td>\n    </tr>\n    <tr>\n      <th>20133</th>\n      <td>0.263678</td>\n      <td>0.087268</td>\n      <td>-0.341059</td>\n      <td>-0.149807</td>\n      <td>-0.096143</td>\n      <td>-0.122537</td>\n      <td>-0.258619</td>\n      <td>-0.224423</td>\n      <td>-0.0441</td>\n      <td>-0.258298</td>\n      <td>-0.401334</td>\n      <td>-0.173878</td>\n      <td>-0.224925</td>\n      <td>-0.104342</td>\n      <td>-0.109985</td>\n      <td>3.978762</td>\n      <td>-1.078962</td>\n      <td>2</td>\n    </tr>\n    <tr>\n      <th>20134</th>\n      <td>-0.407647</td>\n      <td>-0.164737</td>\n      <td>-0.341059</td>\n      <td>-0.149807</td>\n      <td>-0.096143</td>\n      <td>-0.122537</td>\n      <td>0.194181</td>\n      <td>-0.311592</td>\n      <td>-0.0441</td>\n      <td>-0.258298</td>\n      <td>-0.401334</td>\n      <td>-0.173878</td>\n      <td>-0.264457</td>\n      <td>-0.104342</td>\n      <td>-0.109985</td>\n      <td>-1.211133</td>\n      <td>-0.203988</td>\n      <td>1</td>\n    </tr>\n    <tr>\n      <th>20135</th>\n      <td>-0.173443</td>\n      <td>0.591280</td>\n      <td>2.179983</td>\n      <td>5.585000</td>\n      <td>-0.096143</td>\n      <td>-0.122537</td>\n      <td>-0.258619</td>\n      <td>-0.308173</td>\n      <td>-0.0441</td>\n      <td>-0.258298</td>\n      <td>-0.368313</td>\n      <td>-0.173878</td>\n      <td>-0.258898</td>\n      <td>-0.104342</td>\n      <td>-0.109985</td>\n      <td>-0.613809</td>\n      <td>0.721790</td>\n      <td>0</td>\n    </tr>\n  </tbody>\n</table>\n<p>20136 rows × 18 columns</p>\n</div>"
     },
     "execution_count": 58,
     "metadata": {},
     "output_type": "execute_result"
    }
   ],
   "source": [
    "df_stand_1hot = cocnat_df(standard_scale(num_attribss),label_encoding(cat_attribs))\n",
    "df_stand_1hot"
   ],
   "metadata": {
    "collapsed": false,
    "pycharm": {
     "name": "#%%\n"
    }
   }
  },
  {
   "cell_type": "code",
   "execution_count": null,
   "outputs": [],
   "source": [
    "train_stand_1hot, test_stand_1hot = split_train_test(df_stand_1hot)"
   ],
   "metadata": {
    "collapsed": false,
    "pycharm": {
     "name": "#%%\n"
    }
   }
  },
  {
   "cell_type": "code",
   "execution_count": null,
   "outputs": [],
   "source": [
    "train_stand_1hot, y_stand_1hot = add_smote_enn(train_stand_1hot,y)"
   ],
   "metadata": {
    "collapsed": false,
    "pycharm": {
     "name": "#%%\n"
    }
   }
  },
  {
   "cell_type": "code",
   "execution_count": null,
   "outputs": [],
   "source": [
    "X_train_stand_1hot, X_val_stand_1hot, y_train_stand_1hot, y_val_stand_1hot = split_train_val(train_stand_1hot,y_stand_1hot)"
   ],
   "metadata": {
    "collapsed": false,
    "pycharm": {
     "name": "#%%\n"
    }
   }
  },
  {
   "cell_type": "code",
   "execution_count": null,
   "outputs": [],
   "source": [
    "model_stand_1hot = pipeline_RF(X_train_stand_1hot, X_val_stand_1hot, y_train_stand_1hot, y_val_stand_1hot)"
   ],
   "metadata": {
    "collapsed": false,
    "pycharm": {
     "name": "#%%\n"
    }
   }
  },
  {
   "cell_type": "markdown",
   "source": [
    "### smoteENN + MinMax scaler + Label-encoding"
   ],
   "metadata": {
    "collapsed": false
   }
  },
  {
   "cell_type": "code",
   "execution_count": null,
   "outputs": [],
   "source": [
    "df_stand_1hot = cocnat_df(MM_scale(num_attribss),label_encoding(cat_attribs))\n",
    "df_stand_1hot"
   ],
   "metadata": {
    "collapsed": false,
    "pycharm": {
     "name": "#%%\n"
    }
   }
  },
  {
   "cell_type": "code",
   "execution_count": 59,
   "outputs": [],
   "source": [
    "train_stand_1hot, test_stand_1hot = split_train_test(df_stand_1hot)"
   ],
   "metadata": {
    "collapsed": false,
    "pycharm": {
     "name": "#%%\n"
    }
   }
  },
  {
   "cell_type": "code",
   "execution_count": 60,
   "outputs": [],
   "source": [
    "train_stand_1hot, y_stand_1hot = add_smote_enn(train_stand_1hot,y)"
   ],
   "metadata": {
    "collapsed": false,
    "pycharm": {
     "name": "#%%\n"
    }
   }
  },
  {
   "cell_type": "code",
   "execution_count": 61,
   "outputs": [
    {
     "name": "stdout",
     "output_type": "stream",
     "text": [
      "(14056, 18) (6024, 18) (14056,) (6024,)\n"
     ]
    }
   ],
   "source": [
    "X_train_stand_1hot, X_val_stand_1hot, y_train_stand_1hot, y_val_stand_1hot = split_train_val(train_stand_1hot,y_stand_1hot)"
   ],
   "metadata": {
    "collapsed": false,
    "pycharm": {
     "name": "#%%\n"
    }
   }
  },
  {
   "cell_type": "code",
   "execution_count": 62,
   "outputs": [
    {
     "name": "stdout",
     "output_type": "stream",
     "text": [
      "RandomForestClassifier(max_depth=10)\n",
      "accuracy_score : 0.8778220451527224\n",
      "recall_score : 0.865334717176959\n",
      "precision_score : 0.9389076576576577\n",
      "f1_score : 0.9006211180124224\n",
      "coufusion_matrix : \n",
      "[[1953  217]\n",
      " [ 519 3335]]\n",
      "None\n"
     ]
    }
   ],
   "source": [
    "model_stand_1hot = pipeline_RF(X_train_stand_1hot, X_val_stand_1hot, y_train_stand_1hot, y_val_stand_1hot)"
   ],
   "metadata": {
    "collapsed": false,
    "pycharm": {
     "name": "#%%\n"
    }
   }
  },
  {
   "cell_type": "markdown",
   "source": [
    "### smoteENN + Robust scaler + Label-encoding"
   ],
   "metadata": {
    "collapsed": false,
    "pycharm": {
     "name": "#%% md\n"
    }
   }
  },
  {
   "cell_type": "code",
   "execution_count": 68,
   "outputs": [
    {
     "name": "stdout",
     "output_type": "stream",
     "text": [
      "RobustScaler()\n"
     ]
    },
    {
     "data": {
      "text/plain": "        수치형데이터1      진단년도   수치형데이터2    은  일산화탄소       크로뮴      구리         철  \\\n0     -0.348959 -0.428571  0.000000  0.0    0.0  4.000000  4.6250  6.669291   \n1     -0.412237  1.000000  0.825472  0.0    0.0 -0.333333  1.6875 -0.307087   \n2      0.083285  0.142857  0.000000  0.0    0.0  0.000000 -0.1250 -0.291339   \n3      2.397581 -0.571429  0.000000  0.0    0.0 -0.333333 -0.1875 -0.031496   \n4      0.799349  0.142857  0.000000  0.0    0.0 -0.333333 -0.2500  0.236220   \n...         ...       ...       ...  ...    ...       ...     ...       ...   \n20131 -0.242875  0.000000  0.000000  0.0    0.0  0.666667  7.8750  7.921260   \n20132  0.881703  0.285714  0.000000  0.0    0.0  1.333333 -0.1250  5.472441   \n20133  0.971967  0.000000  0.000000  0.0    0.0 -0.333333 -0.2500  0.094488   \n20134 -0.405723 -0.142857  0.000000  0.0    0.0 -0.333333  3.6250 -0.307087   \n20135  0.074910  0.285714  6.589623  1.0    0.0 -0.333333 -0.2500 -0.291339   \n\n         물  망가니즈     몰리브데넘   니켈   입자 정량 지수  타이타늄  바나듐    점도 40도        아연  \\\n0      0.0   7.5  0.000000  6.0  51.048193   5.0  0.0  0.650842 -0.400000   \n1      0.0  -0.5 -0.142857  0.0  -0.066265   0.0  0.0 -1.033691  0.134259   \n2      0.0  -0.5 -0.142857  0.0  -0.078313   0.0  0.0 -0.595712 -0.087963   \n3      0.0   0.0 -0.142857  0.0   0.084337   0.0  0.0  0.333844 -0.462963   \n4      0.0  -0.5 -0.142857  0.0   1.126506   0.0  0.0  0.330781 -0.350926   \n...    ...   ...       ...  ...        ...   ...  ...       ...       ...   \n20131  0.0  32.0  0.571429  2.0  11.861446   0.0  0.0 -0.617152  0.607407   \n20132  0.0   2.0 -0.142857  0.0   3.993976   0.0  0.0  0.402757 -0.457407   \n20133  0.0  -0.5 -0.142857  0.0   0.234940   0.0  0.0  2.920368 -0.457407   \n20134  0.0  -0.5 -0.142857  0.0  -0.150602   0.0  0.0 -0.924962 -0.026852   \n20135  0.0  -0.5  0.142857  0.0  -0.096386   0.0  0.0 -0.482389  0.428704   \n\n      샘플오일관련부품  \n0            2  \n1            1  \n2            1  \n3            2  \n4            2  \n...        ...  \n20131        2  \n20132        2  \n20133        2  \n20134        1  \n20135        0  \n\n[20136 rows x 18 columns]",
      "text/html": "<div>\n<style scoped>\n    .dataframe tbody tr th:only-of-type {\n        vertical-align: middle;\n    }\n\n    .dataframe tbody tr th {\n        vertical-align: top;\n    }\n\n    .dataframe thead th {\n        text-align: right;\n    }\n</style>\n<table border=\"1\" class=\"dataframe\">\n  <thead>\n    <tr style=\"text-align: right;\">\n      <th></th>\n      <th>수치형데이터1</th>\n      <th>진단년도</th>\n      <th>수치형데이터2</th>\n      <th>은</th>\n      <th>일산화탄소</th>\n      <th>크로뮴</th>\n      <th>구리</th>\n      <th>철</th>\n      <th>물</th>\n      <th>망가니즈</th>\n      <th>몰리브데넘</th>\n      <th>니켈</th>\n      <th>입자 정량 지수</th>\n      <th>타이타늄</th>\n      <th>바나듐</th>\n      <th>점도 40도</th>\n      <th>아연</th>\n      <th>샘플오일관련부품</th>\n    </tr>\n  </thead>\n  <tbody>\n    <tr>\n      <th>0</th>\n      <td>-0.348959</td>\n      <td>-0.428571</td>\n      <td>0.000000</td>\n      <td>0.0</td>\n      <td>0.0</td>\n      <td>4.000000</td>\n      <td>4.6250</td>\n      <td>6.669291</td>\n      <td>0.0</td>\n      <td>7.5</td>\n      <td>0.000000</td>\n      <td>6.0</td>\n      <td>51.048193</td>\n      <td>5.0</td>\n      <td>0.0</td>\n      <td>0.650842</td>\n      <td>-0.400000</td>\n      <td>2</td>\n    </tr>\n    <tr>\n      <th>1</th>\n      <td>-0.412237</td>\n      <td>1.000000</td>\n      <td>0.825472</td>\n      <td>0.0</td>\n      <td>0.0</td>\n      <td>-0.333333</td>\n      <td>1.6875</td>\n      <td>-0.307087</td>\n      <td>0.0</td>\n      <td>-0.5</td>\n      <td>-0.142857</td>\n      <td>0.0</td>\n      <td>-0.066265</td>\n      <td>0.0</td>\n      <td>0.0</td>\n      <td>-1.033691</td>\n      <td>0.134259</td>\n      <td>1</td>\n    </tr>\n    <tr>\n      <th>2</th>\n      <td>0.083285</td>\n      <td>0.142857</td>\n      <td>0.000000</td>\n      <td>0.0</td>\n      <td>0.0</td>\n      <td>0.000000</td>\n      <td>-0.1250</td>\n      <td>-0.291339</td>\n      <td>0.0</td>\n      <td>-0.5</td>\n      <td>-0.142857</td>\n      <td>0.0</td>\n      <td>-0.078313</td>\n      <td>0.0</td>\n      <td>0.0</td>\n      <td>-0.595712</td>\n      <td>-0.087963</td>\n      <td>1</td>\n    </tr>\n    <tr>\n      <th>3</th>\n      <td>2.397581</td>\n      <td>-0.571429</td>\n      <td>0.000000</td>\n      <td>0.0</td>\n      <td>0.0</td>\n      <td>-0.333333</td>\n      <td>-0.1875</td>\n      <td>-0.031496</td>\n      <td>0.0</td>\n      <td>0.0</td>\n      <td>-0.142857</td>\n      <td>0.0</td>\n      <td>0.084337</td>\n      <td>0.0</td>\n      <td>0.0</td>\n      <td>0.333844</td>\n      <td>-0.462963</td>\n      <td>2</td>\n    </tr>\n    <tr>\n      <th>4</th>\n      <td>0.799349</td>\n      <td>0.142857</td>\n      <td>0.000000</td>\n      <td>0.0</td>\n      <td>0.0</td>\n      <td>-0.333333</td>\n      <td>-0.2500</td>\n      <td>0.236220</td>\n      <td>0.0</td>\n      <td>-0.5</td>\n      <td>-0.142857</td>\n      <td>0.0</td>\n      <td>1.126506</td>\n      <td>0.0</td>\n      <td>0.0</td>\n      <td>0.330781</td>\n      <td>-0.350926</td>\n      <td>2</td>\n    </tr>\n    <tr>\n      <th>...</th>\n      <td>...</td>\n      <td>...</td>\n      <td>...</td>\n      <td>...</td>\n      <td>...</td>\n      <td>...</td>\n      <td>...</td>\n      <td>...</td>\n      <td>...</td>\n      <td>...</td>\n      <td>...</td>\n      <td>...</td>\n      <td>...</td>\n      <td>...</td>\n      <td>...</td>\n      <td>...</td>\n      <td>...</td>\n      <td>...</td>\n    </tr>\n    <tr>\n      <th>20131</th>\n      <td>-0.242875</td>\n      <td>0.000000</td>\n      <td>0.000000</td>\n      <td>0.0</td>\n      <td>0.0</td>\n      <td>0.666667</td>\n      <td>7.8750</td>\n      <td>7.921260</td>\n      <td>0.0</td>\n      <td>32.0</td>\n      <td>0.571429</td>\n      <td>2.0</td>\n      <td>11.861446</td>\n      <td>0.0</td>\n      <td>0.0</td>\n      <td>-0.617152</td>\n      <td>0.607407</td>\n      <td>2</td>\n    </tr>\n    <tr>\n      <th>20132</th>\n      <td>0.881703</td>\n      <td>0.285714</td>\n      <td>0.000000</td>\n      <td>0.0</td>\n      <td>0.0</td>\n      <td>1.333333</td>\n      <td>-0.1250</td>\n      <td>5.472441</td>\n      <td>0.0</td>\n      <td>2.0</td>\n      <td>-0.142857</td>\n      <td>0.0</td>\n      <td>3.993976</td>\n      <td>0.0</td>\n      <td>0.0</td>\n      <td>0.402757</td>\n      <td>-0.457407</td>\n      <td>2</td>\n    </tr>\n    <tr>\n      <th>20133</th>\n      <td>0.971967</td>\n      <td>0.000000</td>\n      <td>0.000000</td>\n      <td>0.0</td>\n      <td>0.0</td>\n      <td>-0.333333</td>\n      <td>-0.2500</td>\n      <td>0.094488</td>\n      <td>0.0</td>\n      <td>-0.5</td>\n      <td>-0.142857</td>\n      <td>0.0</td>\n      <td>0.234940</td>\n      <td>0.0</td>\n      <td>0.0</td>\n      <td>2.920368</td>\n      <td>-0.457407</td>\n      <td>2</td>\n    </tr>\n    <tr>\n      <th>20134</th>\n      <td>-0.405723</td>\n      <td>-0.142857</td>\n      <td>0.000000</td>\n      <td>0.0</td>\n      <td>0.0</td>\n      <td>-0.333333</td>\n      <td>3.6250</td>\n      <td>-0.307087</td>\n      <td>0.0</td>\n      <td>-0.5</td>\n      <td>-0.142857</td>\n      <td>0.0</td>\n      <td>-0.150602</td>\n      <td>0.0</td>\n      <td>0.0</td>\n      <td>-0.924962</td>\n      <td>-0.026852</td>\n      <td>1</td>\n    </tr>\n    <tr>\n      <th>20135</th>\n      <td>0.074910</td>\n      <td>0.285714</td>\n      <td>6.589623</td>\n      <td>1.0</td>\n      <td>0.0</td>\n      <td>-0.333333</td>\n      <td>-0.2500</td>\n      <td>-0.291339</td>\n      <td>0.0</td>\n      <td>-0.5</td>\n      <td>0.142857</td>\n      <td>0.0</td>\n      <td>-0.096386</td>\n      <td>0.0</td>\n      <td>0.0</td>\n      <td>-0.482389</td>\n      <td>0.428704</td>\n      <td>0</td>\n    </tr>\n  </tbody>\n</table>\n<p>20136 rows × 18 columns</p>\n</div>"
     },
     "execution_count": 68,
     "metadata": {},
     "output_type": "execute_result"
    }
   ],
   "source": [
    "df_stand_1hot = cocnat_df(robust_scale(num_attribss),label_encoding(cat_attribs))\n",
    "df_stand_1hot"
   ],
   "metadata": {
    "collapsed": false,
    "pycharm": {
     "name": "#%%\n"
    }
   }
  },
  {
   "cell_type": "code",
   "execution_count": 69,
   "outputs": [],
   "source": [
    "train_stand_1hot, test_stand_1hot = split_train_test(df_stand_1hot)"
   ],
   "metadata": {
    "collapsed": false,
    "pycharm": {
     "name": "#%%\n"
    }
   }
  },
  {
   "cell_type": "code",
   "execution_count": 70,
   "outputs": [],
   "source": [
    "train_stand_1hot, y_stand_1hot = add_smote_enn(train_stand_1hot,y)"
   ],
   "metadata": {
    "collapsed": false,
    "pycharm": {
     "name": "#%%\n"
    }
   }
  },
  {
   "cell_type": "code",
   "execution_count": 71,
   "outputs": [
    {
     "name": "stdout",
     "output_type": "stream",
     "text": [
      "(13902, 18) (5958, 18) (13902,) (5958,)\n"
     ]
    }
   ],
   "source": [
    "X_train_stand_1hot, X_val_stand_1hot, y_train_stand_1hot, y_val_stand_1hot = split_train_val(train_stand_1hot,y_stand_1hot)"
   ],
   "metadata": {
    "collapsed": false,
    "pycharm": {
     "name": "#%%\n"
    }
   }
  },
  {
   "cell_type": "code",
   "execution_count": 72,
   "outputs": [
    {
     "name": "stdout",
     "output_type": "stream",
     "text": [
      "RandomForestClassifier(max_depth=10)\n",
      "accuracy_score : 0.8751258811681772\n",
      "recall_score : 0.85977766548762\n",
      "precision_score : 0.9473830734966593\n",
      "f1_score : 0.9014569536423842\n",
      "coufusion_matrix : \n",
      "[[1811  189]\n",
      " [ 555 3403]]\n",
      "None\n"
     ]
    }
   ],
   "source": [
    "model_stand_1hot = pipeline_RF(X_train_stand_1hot, X_val_stand_1hot, y_train_stand_1hot, y_val_stand_1hot)"
   ],
   "metadata": {
    "collapsed": false,
    "pycharm": {
     "name": "#%%\n"
    }
   }
  },
  {
   "cell_type": "code",
   "execution_count": null,
   "outputs": [],
   "source": [],
   "metadata": {
    "collapsed": false,
    "pycharm": {
     "name": "#%%\n"
    }
   }
  },
  {
   "cell_type": "markdown",
   "source": [
    "## smoteENN + Standard scaler + One-hot-encoding"
   ],
   "metadata": {
    "collapsed": false,
    "pycharm": {
     "name": "#%% md\n"
    }
   }
  },
  {
   "cell_type": "code",
   "execution_count": 99,
   "outputs": [
    {
     "name": "stderr",
     "output_type": "stream",
     "text": [
      "C:\\Users\\yoon9\\AppData\\Roaming\\Python\\Python310\\site-packages\\sklearn\\utils\\deprecation.py:87: FutureWarning: Function get_feature_names is deprecated; get_feature_names is deprecated in 1.0 and will be removed in 1.2. Please use get_feature_names_out instead.\n",
      "  warnings.warn(msg, category=FutureWarning)\n"
     ]
    },
    {
     "data": {
      "text/plain": "        수치형데이터1      진단년도   수치형데이터2         은     일산화탄소       크로뮴        구리  \\\n0     -0.379987 -0.668748 -0.341059 -0.149807 -0.096143  0.366670  0.311033   \n1     -0.410821  1.851308 -0.025252 -0.149807 -0.096143 -0.122537 -0.032219   \n2     -0.169362  0.339274 -0.341059 -0.149807 -0.096143 -0.084906 -0.244013   \n3      0.958355 -0.920754 -0.341059 -0.149807 -0.096143 -0.122537 -0.251316   \n4      0.179564  0.339274 -0.341059 -0.149807 -0.096143 -0.122537 -0.258619   \n...         ...       ...       ...       ...       ...       ...       ...   \n20131 -0.328294  0.087268 -0.341059 -0.149807 -0.096143 -0.009643  0.690801   \n20132  0.219694  0.591280 -0.341059 -0.149807 -0.096143  0.065619 -0.244013   \n20133  0.263678  0.087268 -0.341059 -0.149807 -0.096143 -0.122537 -0.258619   \n20134 -0.407647 -0.164737 -0.341059 -0.149807 -0.096143 -0.122537  0.194181   \n20135 -0.173443  0.591280  2.179983  5.585000 -0.096143 -0.122537 -0.258619   \n\n              철       물      망가니즈  ...        니켈  입자 정량 지수      타이타늄  \\\n0      1.202754 -0.0441  1.171823  ...  1.170325  4.985286  0.605756   \n1     -0.311592 -0.0441 -0.258298  ... -0.173878 -0.255810 -0.104342   \n2     -0.308173 -0.0441 -0.258298  ... -0.173878 -0.257045 -0.104342   \n3     -0.251770 -0.0441 -0.168915  ... -0.173878 -0.240368 -0.104342   \n4     -0.193657 -0.0441 -0.258298  ... -0.173878 -0.133507 -0.104342   \n...         ...     ...       ...  ...       ...       ...       ...   \n20131  1.474515 -0.0441  5.551570  ...  0.274190  0.967215 -0.104342   \n20132  0.942956 -0.0441  0.188615  ... -0.173878  0.160513 -0.104342   \n20133 -0.224423 -0.0441 -0.258298  ... -0.173878 -0.224925 -0.104342   \n20134 -0.311592 -0.0441 -0.258298  ... -0.173878 -0.264457 -0.104342   \n20135 -0.308173 -0.0441 -0.258298  ... -0.173878 -0.258898 -0.104342   \n\n            바나듐    점도 40도        아연  x0_COMPONENT1  x0_COMPONENT2  \\\n0     -0.109985  0.915670 -0.962299            0.0            0.0   \n1     -0.109985 -1.357880  0.123421            0.0            1.0   \n2     -0.109985 -0.766757 -0.328178            0.0            1.0   \n3     -0.109985  0.487829 -1.090252            0.0            0.0   \n4     -0.109985  0.483695 -0.862570            0.0            0.0   \n...         ...       ...       ...            ...            ...   \n20131 -0.109985 -0.795693  1.084950            0.0            0.0   \n20132 -0.109985  0.580838 -1.078962            0.0            0.0   \n20133 -0.109985  3.978762 -1.078962            0.0            0.0   \n20134 -0.109985 -1.211133 -0.203988            0.0            1.0   \n20135 -0.109985 -0.613809  0.721790            1.0            0.0   \n\n       x0_COMPONENT3  x0_COMPONENT4  \n0                1.0            0.0  \n1                0.0            0.0  \n2                0.0            0.0  \n3                1.0            0.0  \n4                1.0            0.0  \n...              ...            ...  \n20131            1.0            0.0  \n20132            1.0            0.0  \n20133            1.0            0.0  \n20134            0.0            0.0  \n20135            0.0            0.0  \n\n[20136 rows x 21 columns]",
      "text/html": "<div>\n<style scoped>\n    .dataframe tbody tr th:only-of-type {\n        vertical-align: middle;\n    }\n\n    .dataframe tbody tr th {\n        vertical-align: top;\n    }\n\n    .dataframe thead th {\n        text-align: right;\n    }\n</style>\n<table border=\"1\" class=\"dataframe\">\n  <thead>\n    <tr style=\"text-align: right;\">\n      <th></th>\n      <th>수치형데이터1</th>\n      <th>진단년도</th>\n      <th>수치형데이터2</th>\n      <th>은</th>\n      <th>일산화탄소</th>\n      <th>크로뮴</th>\n      <th>구리</th>\n      <th>철</th>\n      <th>물</th>\n      <th>망가니즈</th>\n      <th>...</th>\n      <th>니켈</th>\n      <th>입자 정량 지수</th>\n      <th>타이타늄</th>\n      <th>바나듐</th>\n      <th>점도 40도</th>\n      <th>아연</th>\n      <th>x0_COMPONENT1</th>\n      <th>x0_COMPONENT2</th>\n      <th>x0_COMPONENT3</th>\n      <th>x0_COMPONENT4</th>\n    </tr>\n  </thead>\n  <tbody>\n    <tr>\n      <th>0</th>\n      <td>-0.379987</td>\n      <td>-0.668748</td>\n      <td>-0.341059</td>\n      <td>-0.149807</td>\n      <td>-0.096143</td>\n      <td>0.366670</td>\n      <td>0.311033</td>\n      <td>1.202754</td>\n      <td>-0.0441</td>\n      <td>1.171823</td>\n      <td>...</td>\n      <td>1.170325</td>\n      <td>4.985286</td>\n      <td>0.605756</td>\n      <td>-0.109985</td>\n      <td>0.915670</td>\n      <td>-0.962299</td>\n      <td>0.0</td>\n      <td>0.0</td>\n      <td>1.0</td>\n      <td>0.0</td>\n    </tr>\n    <tr>\n      <th>1</th>\n      <td>-0.410821</td>\n      <td>1.851308</td>\n      <td>-0.025252</td>\n      <td>-0.149807</td>\n      <td>-0.096143</td>\n      <td>-0.122537</td>\n      <td>-0.032219</td>\n      <td>-0.311592</td>\n      <td>-0.0441</td>\n      <td>-0.258298</td>\n      <td>...</td>\n      <td>-0.173878</td>\n      <td>-0.255810</td>\n      <td>-0.104342</td>\n      <td>-0.109985</td>\n      <td>-1.357880</td>\n      <td>0.123421</td>\n      <td>0.0</td>\n      <td>1.0</td>\n      <td>0.0</td>\n      <td>0.0</td>\n    </tr>\n    <tr>\n      <th>2</th>\n      <td>-0.169362</td>\n      <td>0.339274</td>\n      <td>-0.341059</td>\n      <td>-0.149807</td>\n      <td>-0.096143</td>\n      <td>-0.084906</td>\n      <td>-0.244013</td>\n      <td>-0.308173</td>\n      <td>-0.0441</td>\n      <td>-0.258298</td>\n      <td>...</td>\n      <td>-0.173878</td>\n      <td>-0.257045</td>\n      <td>-0.104342</td>\n      <td>-0.109985</td>\n      <td>-0.766757</td>\n      <td>-0.328178</td>\n      <td>0.0</td>\n      <td>1.0</td>\n      <td>0.0</td>\n      <td>0.0</td>\n    </tr>\n    <tr>\n      <th>3</th>\n      <td>0.958355</td>\n      <td>-0.920754</td>\n      <td>-0.341059</td>\n      <td>-0.149807</td>\n      <td>-0.096143</td>\n      <td>-0.122537</td>\n      <td>-0.251316</td>\n      <td>-0.251770</td>\n      <td>-0.0441</td>\n      <td>-0.168915</td>\n      <td>...</td>\n      <td>-0.173878</td>\n      <td>-0.240368</td>\n      <td>-0.104342</td>\n      <td>-0.109985</td>\n      <td>0.487829</td>\n      <td>-1.090252</td>\n      <td>0.0</td>\n      <td>0.0</td>\n      <td>1.0</td>\n      <td>0.0</td>\n    </tr>\n    <tr>\n      <th>4</th>\n      <td>0.179564</td>\n      <td>0.339274</td>\n      <td>-0.341059</td>\n      <td>-0.149807</td>\n      <td>-0.096143</td>\n      <td>-0.122537</td>\n      <td>-0.258619</td>\n      <td>-0.193657</td>\n      <td>-0.0441</td>\n      <td>-0.258298</td>\n      <td>...</td>\n      <td>-0.173878</td>\n      <td>-0.133507</td>\n      <td>-0.104342</td>\n      <td>-0.109985</td>\n      <td>0.483695</td>\n      <td>-0.862570</td>\n      <td>0.0</td>\n      <td>0.0</td>\n      <td>1.0</td>\n      <td>0.0</td>\n    </tr>\n    <tr>\n      <th>...</th>\n      <td>...</td>\n      <td>...</td>\n      <td>...</td>\n      <td>...</td>\n      <td>...</td>\n      <td>...</td>\n      <td>...</td>\n      <td>...</td>\n      <td>...</td>\n      <td>...</td>\n      <td>...</td>\n      <td>...</td>\n      <td>...</td>\n      <td>...</td>\n      <td>...</td>\n      <td>...</td>\n      <td>...</td>\n      <td>...</td>\n      <td>...</td>\n      <td>...</td>\n      <td>...</td>\n    </tr>\n    <tr>\n      <th>20131</th>\n      <td>-0.328294</td>\n      <td>0.087268</td>\n      <td>-0.341059</td>\n      <td>-0.149807</td>\n      <td>-0.096143</td>\n      <td>-0.009643</td>\n      <td>0.690801</td>\n      <td>1.474515</td>\n      <td>-0.0441</td>\n      <td>5.551570</td>\n      <td>...</td>\n      <td>0.274190</td>\n      <td>0.967215</td>\n      <td>-0.104342</td>\n      <td>-0.109985</td>\n      <td>-0.795693</td>\n      <td>1.084950</td>\n      <td>0.0</td>\n      <td>0.0</td>\n      <td>1.0</td>\n      <td>0.0</td>\n    </tr>\n    <tr>\n      <th>20132</th>\n      <td>0.219694</td>\n      <td>0.591280</td>\n      <td>-0.341059</td>\n      <td>-0.149807</td>\n      <td>-0.096143</td>\n      <td>0.065619</td>\n      <td>-0.244013</td>\n      <td>0.942956</td>\n      <td>-0.0441</td>\n      <td>0.188615</td>\n      <td>...</td>\n      <td>-0.173878</td>\n      <td>0.160513</td>\n      <td>-0.104342</td>\n      <td>-0.109985</td>\n      <td>0.580838</td>\n      <td>-1.078962</td>\n      <td>0.0</td>\n      <td>0.0</td>\n      <td>1.0</td>\n      <td>0.0</td>\n    </tr>\n    <tr>\n      <th>20133</th>\n      <td>0.263678</td>\n      <td>0.087268</td>\n      <td>-0.341059</td>\n      <td>-0.149807</td>\n      <td>-0.096143</td>\n      <td>-0.122537</td>\n      <td>-0.258619</td>\n      <td>-0.224423</td>\n      <td>-0.0441</td>\n      <td>-0.258298</td>\n      <td>...</td>\n      <td>-0.173878</td>\n      <td>-0.224925</td>\n      <td>-0.104342</td>\n      <td>-0.109985</td>\n      <td>3.978762</td>\n      <td>-1.078962</td>\n      <td>0.0</td>\n      <td>0.0</td>\n      <td>1.0</td>\n      <td>0.0</td>\n    </tr>\n    <tr>\n      <th>20134</th>\n      <td>-0.407647</td>\n      <td>-0.164737</td>\n      <td>-0.341059</td>\n      <td>-0.149807</td>\n      <td>-0.096143</td>\n      <td>-0.122537</td>\n      <td>0.194181</td>\n      <td>-0.311592</td>\n      <td>-0.0441</td>\n      <td>-0.258298</td>\n      <td>...</td>\n      <td>-0.173878</td>\n      <td>-0.264457</td>\n      <td>-0.104342</td>\n      <td>-0.109985</td>\n      <td>-1.211133</td>\n      <td>-0.203988</td>\n      <td>0.0</td>\n      <td>1.0</td>\n      <td>0.0</td>\n      <td>0.0</td>\n    </tr>\n    <tr>\n      <th>20135</th>\n      <td>-0.173443</td>\n      <td>0.591280</td>\n      <td>2.179983</td>\n      <td>5.585000</td>\n      <td>-0.096143</td>\n      <td>-0.122537</td>\n      <td>-0.258619</td>\n      <td>-0.308173</td>\n      <td>-0.0441</td>\n      <td>-0.258298</td>\n      <td>...</td>\n      <td>-0.173878</td>\n      <td>-0.258898</td>\n      <td>-0.104342</td>\n      <td>-0.109985</td>\n      <td>-0.613809</td>\n      <td>0.721790</td>\n      <td>1.0</td>\n      <td>0.0</td>\n      <td>0.0</td>\n      <td>0.0</td>\n    </tr>\n  </tbody>\n</table>\n<p>20136 rows × 21 columns</p>\n</div>"
     },
     "execution_count": 99,
     "metadata": {},
     "output_type": "execute_result"
    }
   ],
   "source": [
    "df_stand_1hot = cocnat_df(standard_scale(num_attribss),hot1_encoding(cat_attribs))\n",
    "df_stand_1hot"
   ],
   "metadata": {
    "collapsed": false,
    "pycharm": {
     "name": "#%%\n"
    }
   }
  },
  {
   "cell_type": "code",
   "execution_count": 100,
   "outputs": [],
   "source": [
    "train_stand_1hot, test_stand_1hot = split_train_test(df_stand_1hot)"
   ],
   "metadata": {
    "collapsed": false,
    "pycharm": {
     "name": "#%%\n"
    }
   }
  },
  {
   "cell_type": "code",
   "execution_count": 101,
   "outputs": [],
   "source": [
    "train_stand_1hot, y_stand_1hot = add_smote_enn(train_stand_1hot,y)"
   ],
   "metadata": {
    "collapsed": false,
    "pycharm": {
     "name": "#%%\n"
    }
   }
  },
  {
   "cell_type": "code",
   "execution_count": 102,
   "outputs": [
    {
     "name": "stdout",
     "output_type": "stream",
     "text": [
      "(14064, 21) (6028, 21) (14064,) (6028,)\n"
     ]
    }
   ],
   "source": [
    "X_train_stand_1hot, X_val_stand_1hot, y_train_stand_1hot, y_val_stand_1hot = split_train_val(train_stand_1hot,y_stand_1hot)"
   ],
   "metadata": {
    "collapsed": false,
    "pycharm": {
     "name": "#%%\n"
    }
   }
  },
  {
   "cell_type": "code",
   "execution_count": 103,
   "outputs": [
    {
     "name": "stdout",
     "output_type": "stream",
     "text": [
      "RandomForestClassifier(max_depth=10)\n",
      "accuracy_score : 0.8765759787657598\n",
      "recall_score : 0.8611468243764464\n",
      "precision_score : 0.9425837320574163\n",
      "f1_score : 0.9000268744961031\n",
      "coufusion_matrix : \n",
      "[[1935  204]\n",
      " [ 540 3349]]\n",
      "None\n"
     ]
    }
   ],
   "source": [
    "model_stand_1hot = pipeline_RF(X_train_stand_1hot, X_val_stand_1hot, y_train_stand_1hot, y_val_stand_1hot)"
   ],
   "metadata": {
    "collapsed": false,
    "pycharm": {
     "name": "#%%\n"
    }
   }
  },
  {
   "cell_type": "markdown",
   "source": [
    "## smoteENN + MinMax scaler + One-hot-encoding"
   ],
   "metadata": {
    "collapsed": false,
    "pycharm": {
     "name": "#%% md\n"
    }
   }
  },
  {
   "cell_type": "code",
   "execution_count": 104,
   "outputs": [
    {
     "name": "stderr",
     "output_type": "stream",
     "text": [
      "C:\\Users\\yoon9\\AppData\\Roaming\\Python\\Python310\\site-packages\\sklearn\\utils\\deprecation.py:87: FutureWarning: Function get_feature_names is deprecated; get_feature_names is deprecated in 1.0 and will be removed in 1.2. Please use get_feature_names_out instead.\n",
      "  warnings.warn(msg, category=FutureWarning)\n"
     ]
    },
    {
     "data": {
      "text/plain": "        수치형데이터1      진단년도   수치형데이터2         은  일산화탄소       크로뮴        구리  \\\n0      0.001656  0.266667  0.000000  0.000000    0.0  0.005421  0.013682   \n1      0.001193  0.933333  0.018519  0.000000    0.0  0.000000  0.005438   \n2      0.004822  0.533333  0.000000  0.000000    0.0  0.000417  0.000351   \n3      0.021772  0.200000  0.000000  0.000000    0.0  0.000000  0.000175   \n4      0.010066  0.533333  0.000000  0.000000    0.0  0.000000  0.000000   \n...         ...       ...       ...       ...    ...       ...       ...   \n20131  0.002433  0.466667  0.000000  0.000000    0.0  0.001251  0.022803   \n20132  0.010670  0.600000  0.000000  0.000000    0.0  0.002085  0.000351   \n20133  0.011331  0.466667  0.000000  0.000000    0.0  0.000000  0.000000   \n20134  0.001240  0.400000  0.000000  0.000000    0.0  0.000000  0.010875   \n20135  0.004761  0.600000  0.147831  0.333333    0.0  0.000000  0.000000   \n\n              철    물      망가니즈  ...        니켈  입자 정량 지수      타이타늄  바나듐  \\\n0      0.028007  0.0  0.018244  ...  0.034091  0.149821  0.012407  0.0   \n1      0.000063  0.0  0.000000  ...  0.000000  0.000335  0.000000  0.0   \n2      0.000126  0.0  0.000000  ...  0.000000  0.000300  0.000000  0.0   \n3      0.001167  0.0  0.001140  ...  0.000000  0.000775  0.000000  0.0   \n4      0.002239  0.0  0.000000  ...  0.000000  0.003823  0.000000  0.0   \n...         ...  ...       ...  ...       ...       ...       ...  ...   \n20131  0.033022  0.0  0.074116  ...  0.011364  0.035218  0.000000  0.0   \n20132  0.023213  0.0  0.005701  ...  0.000000  0.012209  0.000000  0.0   \n20133  0.001672  0.0  0.000000  ...  0.000000  0.001216  0.000000  0.0   \n20134  0.000063  0.0  0.000000  ...  0.000000  0.000088  0.000000  0.0   \n20135  0.000126  0.0  0.000000  ...  0.000000  0.000247  0.000000  0.0   \n\n         점도 40도        아연  x0_COMPONENT1  x0_COMPONENT2  x0_COMPONENT3  \\\n0      0.053249  0.035178            0.0            0.0            1.0   \n1      0.014484  0.305816            0.0            1.0            0.0   \n2      0.024563  0.193246            0.0            1.0            0.0   \n3      0.045954  0.003283            0.0            0.0            1.0   \n4      0.045884  0.060038            0.0            0.0            1.0   \n...         ...       ...            ...            ...            ...   \n20131  0.024070  0.545497            0.0            0.0            1.0   \n20132  0.047540  0.006098            0.0            0.0            1.0   \n20133  0.105476  0.006098            0.0            0.0            1.0   \n20134  0.016986  0.224203            0.0            1.0            0.0   \n20135  0.027171  0.454972            1.0            0.0            0.0   \n\n       x0_COMPONENT4  \n0                0.0  \n1                0.0  \n2                0.0  \n3                0.0  \n4                0.0  \n...              ...  \n20131            0.0  \n20132            0.0  \n20133            0.0  \n20134            0.0  \n20135            0.0  \n\n[20136 rows x 21 columns]",
      "text/html": "<div>\n<style scoped>\n    .dataframe tbody tr th:only-of-type {\n        vertical-align: middle;\n    }\n\n    .dataframe tbody tr th {\n        vertical-align: top;\n    }\n\n    .dataframe thead th {\n        text-align: right;\n    }\n</style>\n<table border=\"1\" class=\"dataframe\">\n  <thead>\n    <tr style=\"text-align: right;\">\n      <th></th>\n      <th>수치형데이터1</th>\n      <th>진단년도</th>\n      <th>수치형데이터2</th>\n      <th>은</th>\n      <th>일산화탄소</th>\n      <th>크로뮴</th>\n      <th>구리</th>\n      <th>철</th>\n      <th>물</th>\n      <th>망가니즈</th>\n      <th>...</th>\n      <th>니켈</th>\n      <th>입자 정량 지수</th>\n      <th>타이타늄</th>\n      <th>바나듐</th>\n      <th>점도 40도</th>\n      <th>아연</th>\n      <th>x0_COMPONENT1</th>\n      <th>x0_COMPONENT2</th>\n      <th>x0_COMPONENT3</th>\n      <th>x0_COMPONENT4</th>\n    </tr>\n  </thead>\n  <tbody>\n    <tr>\n      <th>0</th>\n      <td>0.001656</td>\n      <td>0.266667</td>\n      <td>0.000000</td>\n      <td>0.000000</td>\n      <td>0.0</td>\n      <td>0.005421</td>\n      <td>0.013682</td>\n      <td>0.028007</td>\n      <td>0.0</td>\n      <td>0.018244</td>\n      <td>...</td>\n      <td>0.034091</td>\n      <td>0.149821</td>\n      <td>0.012407</td>\n      <td>0.0</td>\n      <td>0.053249</td>\n      <td>0.035178</td>\n      <td>0.0</td>\n      <td>0.0</td>\n      <td>1.0</td>\n      <td>0.0</td>\n    </tr>\n    <tr>\n      <th>1</th>\n      <td>0.001193</td>\n      <td>0.933333</td>\n      <td>0.018519</td>\n      <td>0.000000</td>\n      <td>0.0</td>\n      <td>0.000000</td>\n      <td>0.005438</td>\n      <td>0.000063</td>\n      <td>0.0</td>\n      <td>0.000000</td>\n      <td>...</td>\n      <td>0.000000</td>\n      <td>0.000335</td>\n      <td>0.000000</td>\n      <td>0.0</td>\n      <td>0.014484</td>\n      <td>0.305816</td>\n      <td>0.0</td>\n      <td>1.0</td>\n      <td>0.0</td>\n      <td>0.0</td>\n    </tr>\n    <tr>\n      <th>2</th>\n      <td>0.004822</td>\n      <td>0.533333</td>\n      <td>0.000000</td>\n      <td>0.000000</td>\n      <td>0.0</td>\n      <td>0.000417</td>\n      <td>0.000351</td>\n      <td>0.000126</td>\n      <td>0.0</td>\n      <td>0.000000</td>\n      <td>...</td>\n      <td>0.000000</td>\n      <td>0.000300</td>\n      <td>0.000000</td>\n      <td>0.0</td>\n      <td>0.024563</td>\n      <td>0.193246</td>\n      <td>0.0</td>\n      <td>1.0</td>\n      <td>0.0</td>\n      <td>0.0</td>\n    </tr>\n    <tr>\n      <th>3</th>\n      <td>0.021772</td>\n      <td>0.200000</td>\n      <td>0.000000</td>\n      <td>0.000000</td>\n      <td>0.0</td>\n      <td>0.000000</td>\n      <td>0.000175</td>\n      <td>0.001167</td>\n      <td>0.0</td>\n      <td>0.001140</td>\n      <td>...</td>\n      <td>0.000000</td>\n      <td>0.000775</td>\n      <td>0.000000</td>\n      <td>0.0</td>\n      <td>0.045954</td>\n      <td>0.003283</td>\n      <td>0.0</td>\n      <td>0.0</td>\n      <td>1.0</td>\n      <td>0.0</td>\n    </tr>\n    <tr>\n      <th>4</th>\n      <td>0.010066</td>\n      <td>0.533333</td>\n      <td>0.000000</td>\n      <td>0.000000</td>\n      <td>0.0</td>\n      <td>0.000000</td>\n      <td>0.000000</td>\n      <td>0.002239</td>\n      <td>0.0</td>\n      <td>0.000000</td>\n      <td>...</td>\n      <td>0.000000</td>\n      <td>0.003823</td>\n      <td>0.000000</td>\n      <td>0.0</td>\n      <td>0.045884</td>\n      <td>0.060038</td>\n      <td>0.0</td>\n      <td>0.0</td>\n      <td>1.0</td>\n      <td>0.0</td>\n    </tr>\n    <tr>\n      <th>...</th>\n      <td>...</td>\n      <td>...</td>\n      <td>...</td>\n      <td>...</td>\n      <td>...</td>\n      <td>...</td>\n      <td>...</td>\n      <td>...</td>\n      <td>...</td>\n      <td>...</td>\n      <td>...</td>\n      <td>...</td>\n      <td>...</td>\n      <td>...</td>\n      <td>...</td>\n      <td>...</td>\n      <td>...</td>\n      <td>...</td>\n      <td>...</td>\n      <td>...</td>\n      <td>...</td>\n    </tr>\n    <tr>\n      <th>20131</th>\n      <td>0.002433</td>\n      <td>0.466667</td>\n      <td>0.000000</td>\n      <td>0.000000</td>\n      <td>0.0</td>\n      <td>0.001251</td>\n      <td>0.022803</td>\n      <td>0.033022</td>\n      <td>0.0</td>\n      <td>0.074116</td>\n      <td>...</td>\n      <td>0.011364</td>\n      <td>0.035218</td>\n      <td>0.000000</td>\n      <td>0.0</td>\n      <td>0.024070</td>\n      <td>0.545497</td>\n      <td>0.0</td>\n      <td>0.0</td>\n      <td>1.0</td>\n      <td>0.0</td>\n    </tr>\n    <tr>\n      <th>20132</th>\n      <td>0.010670</td>\n      <td>0.600000</td>\n      <td>0.000000</td>\n      <td>0.000000</td>\n      <td>0.0</td>\n      <td>0.002085</td>\n      <td>0.000351</td>\n      <td>0.023213</td>\n      <td>0.0</td>\n      <td>0.005701</td>\n      <td>...</td>\n      <td>0.000000</td>\n      <td>0.012209</td>\n      <td>0.000000</td>\n      <td>0.0</td>\n      <td>0.047540</td>\n      <td>0.006098</td>\n      <td>0.0</td>\n      <td>0.0</td>\n      <td>1.0</td>\n      <td>0.0</td>\n    </tr>\n    <tr>\n      <th>20133</th>\n      <td>0.011331</td>\n      <td>0.466667</td>\n      <td>0.000000</td>\n      <td>0.000000</td>\n      <td>0.0</td>\n      <td>0.000000</td>\n      <td>0.000000</td>\n      <td>0.001672</td>\n      <td>0.0</td>\n      <td>0.000000</td>\n      <td>...</td>\n      <td>0.000000</td>\n      <td>0.001216</td>\n      <td>0.000000</td>\n      <td>0.0</td>\n      <td>0.105476</td>\n      <td>0.006098</td>\n      <td>0.0</td>\n      <td>0.0</td>\n      <td>1.0</td>\n      <td>0.0</td>\n    </tr>\n    <tr>\n      <th>20134</th>\n      <td>0.001240</td>\n      <td>0.400000</td>\n      <td>0.000000</td>\n      <td>0.000000</td>\n      <td>0.0</td>\n      <td>0.000000</td>\n      <td>0.010875</td>\n      <td>0.000063</td>\n      <td>0.0</td>\n      <td>0.000000</td>\n      <td>...</td>\n      <td>0.000000</td>\n      <td>0.000088</td>\n      <td>0.000000</td>\n      <td>0.0</td>\n      <td>0.016986</td>\n      <td>0.224203</td>\n      <td>0.0</td>\n      <td>1.0</td>\n      <td>0.0</td>\n      <td>0.0</td>\n    </tr>\n    <tr>\n      <th>20135</th>\n      <td>0.004761</td>\n      <td>0.600000</td>\n      <td>0.147831</td>\n      <td>0.333333</td>\n      <td>0.0</td>\n      <td>0.000000</td>\n      <td>0.000000</td>\n      <td>0.000126</td>\n      <td>0.0</td>\n      <td>0.000000</td>\n      <td>...</td>\n      <td>0.000000</td>\n      <td>0.000247</td>\n      <td>0.000000</td>\n      <td>0.0</td>\n      <td>0.027171</td>\n      <td>0.454972</td>\n      <td>1.0</td>\n      <td>0.0</td>\n      <td>0.0</td>\n      <td>0.0</td>\n    </tr>\n  </tbody>\n</table>\n<p>20136 rows × 21 columns</p>\n</div>"
     },
     "execution_count": 104,
     "metadata": {},
     "output_type": "execute_result"
    }
   ],
   "source": [
    "df_MM_1hot = cocnat_df(MM_scale(num_attribss),hot1_encoding(cat_attribs))\n",
    "df_MM_1hot"
   ],
   "metadata": {
    "collapsed": false,
    "pycharm": {
     "name": "#%%\n"
    }
   }
  },
  {
   "cell_type": "code",
   "execution_count": 105,
   "outputs": [],
   "source": [
    "train_stand_MM, test_stand_MM = split_train_test(df_MM_1hot)"
   ],
   "metadata": {
    "collapsed": false,
    "pycharm": {
     "name": "#%%\n"
    }
   }
  },
  {
   "cell_type": "code",
   "execution_count": 106,
   "outputs": [],
   "source": [
    "train_stand_MM, y_stand_MM = add_smote_enn(train_stand_MM,y)"
   ],
   "metadata": {
    "collapsed": false,
    "pycharm": {
     "name": "#%%\n"
    }
   }
  },
  {
   "cell_type": "code",
   "execution_count": 107,
   "outputs": [
    {
     "name": "stdout",
     "output_type": "stream",
     "text": [
      "(13307, 21) (5704, 21) (13307,) (5704,)\n"
     ]
    }
   ],
   "source": [
    "X_train_stand_MM, X_val_stand_MM, y_train_stand_MM, y_val_stand_MM = split_train_val(train_stand_MM,y_stand_MM)"
   ],
   "metadata": {
    "collapsed": false,
    "pycharm": {
     "name": "#%%\n"
    }
   }
  },
  {
   "cell_type": "code",
   "execution_count": 108,
   "outputs": [
    {
     "name": "stdout",
     "output_type": "stream",
     "text": [
      "RandomForestClassifier(max_depth=10)\n",
      "accuracy_score : 0.8788569424964937\n",
      "recall_score : 0.863700366094058\n",
      "precision_score : 0.9367745876603543\n",
      "f1_score : 0.8987545787545786\n",
      "coufusion_matrix : \n",
      "[[1946  207]\n",
      " [ 484 3067]]\n",
      "None\n"
     ]
    }
   ],
   "source": [
    "model_stand_MM = pipeline_RF(X_train_stand_MM, X_val_stand_MM, y_train_stand_MM, y_val_stand_MM)"
   ],
   "metadata": {
    "collapsed": false,
    "pycharm": {
     "name": "#%%\n"
    }
   }
  },
  {
   "cell_type": "markdown",
   "source": [
    "### robust + label"
   ],
   "metadata": {
    "collapsed": false,
    "pycharm": {
     "name": "#%% md\n"
    }
   }
  },
  {
   "cell_type": "code",
   "execution_count": 109,
   "outputs": [
    {
     "name": "stdout",
     "output_type": "stream",
     "text": [
      "RobustScaler()\n"
     ]
    },
    {
     "name": "stderr",
     "output_type": "stream",
     "text": [
      "C:\\Users\\yoon9\\AppData\\Roaming\\Python\\Python310\\site-packages\\sklearn\\utils\\deprecation.py:87: FutureWarning: Function get_feature_names is deprecated; get_feature_names is deprecated in 1.0 and will be removed in 1.2. Please use get_feature_names_out instead.\n",
      "  warnings.warn(msg, category=FutureWarning)\n"
     ]
    },
    {
     "data": {
      "text/plain": "        수치형데이터1      진단년도   수치형데이터2    은  일산화탄소       크로뮴      구리         철  \\\n0     -0.348959 -0.428571  0.000000  0.0    0.0  4.000000  4.6250  6.669291   \n1     -0.412237  1.000000  0.825472  0.0    0.0 -0.333333  1.6875 -0.307087   \n2      0.083285  0.142857  0.000000  0.0    0.0  0.000000 -0.1250 -0.291339   \n3      2.397581 -0.571429  0.000000  0.0    0.0 -0.333333 -0.1875 -0.031496   \n4      0.799349  0.142857  0.000000  0.0    0.0 -0.333333 -0.2500  0.236220   \n...         ...       ...       ...  ...    ...       ...     ...       ...   \n20131 -0.242875  0.000000  0.000000  0.0    0.0  0.666667  7.8750  7.921260   \n20132  0.881703  0.285714  0.000000  0.0    0.0  1.333333 -0.1250  5.472441   \n20133  0.971967  0.000000  0.000000  0.0    0.0 -0.333333 -0.2500  0.094488   \n20134 -0.405723 -0.142857  0.000000  0.0    0.0 -0.333333  3.6250 -0.307087   \n20135  0.074910  0.285714  6.589623  1.0    0.0 -0.333333 -0.2500 -0.291339   \n\n         물  망가니즈  ...   니켈   입자 정량 지수  타이타늄  바나듐    점도 40도        아연  \\\n0      0.0   7.5  ...  6.0  51.048193   5.0  0.0  0.650842 -0.400000   \n1      0.0  -0.5  ...  0.0  -0.066265   0.0  0.0 -1.033691  0.134259   \n2      0.0  -0.5  ...  0.0  -0.078313   0.0  0.0 -0.595712 -0.087963   \n3      0.0   0.0  ...  0.0   0.084337   0.0  0.0  0.333844 -0.462963   \n4      0.0  -0.5  ...  0.0   1.126506   0.0  0.0  0.330781 -0.350926   \n...    ...   ...  ...  ...        ...   ...  ...       ...       ...   \n20131  0.0  32.0  ...  2.0  11.861446   0.0  0.0 -0.617152  0.607407   \n20132  0.0   2.0  ...  0.0   3.993976   0.0  0.0  0.402757 -0.457407   \n20133  0.0  -0.5  ...  0.0   0.234940   0.0  0.0  2.920368 -0.457407   \n20134  0.0  -0.5  ...  0.0  -0.150602   0.0  0.0 -0.924962 -0.026852   \n20135  0.0  -0.5  ...  0.0  -0.096386   0.0  0.0 -0.482389  0.428704   \n\n       x0_COMPONENT1  x0_COMPONENT2  x0_COMPONENT3  x0_COMPONENT4  \n0                0.0            0.0            1.0            0.0  \n1                0.0            1.0            0.0            0.0  \n2                0.0            1.0            0.0            0.0  \n3                0.0            0.0            1.0            0.0  \n4                0.0            0.0            1.0            0.0  \n...              ...            ...            ...            ...  \n20131            0.0            0.0            1.0            0.0  \n20132            0.0            0.0            1.0            0.0  \n20133            0.0            0.0            1.0            0.0  \n20134            0.0            1.0            0.0            0.0  \n20135            1.0            0.0            0.0            0.0  \n\n[20136 rows x 21 columns]",
      "text/html": "<div>\n<style scoped>\n    .dataframe tbody tr th:only-of-type {\n        vertical-align: middle;\n    }\n\n    .dataframe tbody tr th {\n        vertical-align: top;\n    }\n\n    .dataframe thead th {\n        text-align: right;\n    }\n</style>\n<table border=\"1\" class=\"dataframe\">\n  <thead>\n    <tr style=\"text-align: right;\">\n      <th></th>\n      <th>수치형데이터1</th>\n      <th>진단년도</th>\n      <th>수치형데이터2</th>\n      <th>은</th>\n      <th>일산화탄소</th>\n      <th>크로뮴</th>\n      <th>구리</th>\n      <th>철</th>\n      <th>물</th>\n      <th>망가니즈</th>\n      <th>...</th>\n      <th>니켈</th>\n      <th>입자 정량 지수</th>\n      <th>타이타늄</th>\n      <th>바나듐</th>\n      <th>점도 40도</th>\n      <th>아연</th>\n      <th>x0_COMPONENT1</th>\n      <th>x0_COMPONENT2</th>\n      <th>x0_COMPONENT3</th>\n      <th>x0_COMPONENT4</th>\n    </tr>\n  </thead>\n  <tbody>\n    <tr>\n      <th>0</th>\n      <td>-0.348959</td>\n      <td>-0.428571</td>\n      <td>0.000000</td>\n      <td>0.0</td>\n      <td>0.0</td>\n      <td>4.000000</td>\n      <td>4.6250</td>\n      <td>6.669291</td>\n      <td>0.0</td>\n      <td>7.5</td>\n      <td>...</td>\n      <td>6.0</td>\n      <td>51.048193</td>\n      <td>5.0</td>\n      <td>0.0</td>\n      <td>0.650842</td>\n      <td>-0.400000</td>\n      <td>0.0</td>\n      <td>0.0</td>\n      <td>1.0</td>\n      <td>0.0</td>\n    </tr>\n    <tr>\n      <th>1</th>\n      <td>-0.412237</td>\n      <td>1.000000</td>\n      <td>0.825472</td>\n      <td>0.0</td>\n      <td>0.0</td>\n      <td>-0.333333</td>\n      <td>1.6875</td>\n      <td>-0.307087</td>\n      <td>0.0</td>\n      <td>-0.5</td>\n      <td>...</td>\n      <td>0.0</td>\n      <td>-0.066265</td>\n      <td>0.0</td>\n      <td>0.0</td>\n      <td>-1.033691</td>\n      <td>0.134259</td>\n      <td>0.0</td>\n      <td>1.0</td>\n      <td>0.0</td>\n      <td>0.0</td>\n    </tr>\n    <tr>\n      <th>2</th>\n      <td>0.083285</td>\n      <td>0.142857</td>\n      <td>0.000000</td>\n      <td>0.0</td>\n      <td>0.0</td>\n      <td>0.000000</td>\n      <td>-0.1250</td>\n      <td>-0.291339</td>\n      <td>0.0</td>\n      <td>-0.5</td>\n      <td>...</td>\n      <td>0.0</td>\n      <td>-0.078313</td>\n      <td>0.0</td>\n      <td>0.0</td>\n      <td>-0.595712</td>\n      <td>-0.087963</td>\n      <td>0.0</td>\n      <td>1.0</td>\n      <td>0.0</td>\n      <td>0.0</td>\n    </tr>\n    <tr>\n      <th>3</th>\n      <td>2.397581</td>\n      <td>-0.571429</td>\n      <td>0.000000</td>\n      <td>0.0</td>\n      <td>0.0</td>\n      <td>-0.333333</td>\n      <td>-0.1875</td>\n      <td>-0.031496</td>\n      <td>0.0</td>\n      <td>0.0</td>\n      <td>...</td>\n      <td>0.0</td>\n      <td>0.084337</td>\n      <td>0.0</td>\n      <td>0.0</td>\n      <td>0.333844</td>\n      <td>-0.462963</td>\n      <td>0.0</td>\n      <td>0.0</td>\n      <td>1.0</td>\n      <td>0.0</td>\n    </tr>\n    <tr>\n      <th>4</th>\n      <td>0.799349</td>\n      <td>0.142857</td>\n      <td>0.000000</td>\n      <td>0.0</td>\n      <td>0.0</td>\n      <td>-0.333333</td>\n      <td>-0.2500</td>\n      <td>0.236220</td>\n      <td>0.0</td>\n      <td>-0.5</td>\n      <td>...</td>\n      <td>0.0</td>\n      <td>1.126506</td>\n      <td>0.0</td>\n      <td>0.0</td>\n      <td>0.330781</td>\n      <td>-0.350926</td>\n      <td>0.0</td>\n      <td>0.0</td>\n      <td>1.0</td>\n      <td>0.0</td>\n    </tr>\n    <tr>\n      <th>...</th>\n      <td>...</td>\n      <td>...</td>\n      <td>...</td>\n      <td>...</td>\n      <td>...</td>\n      <td>...</td>\n      <td>...</td>\n      <td>...</td>\n      <td>...</td>\n      <td>...</td>\n      <td>...</td>\n      <td>...</td>\n      <td>...</td>\n      <td>...</td>\n      <td>...</td>\n      <td>...</td>\n      <td>...</td>\n      <td>...</td>\n      <td>...</td>\n      <td>...</td>\n      <td>...</td>\n    </tr>\n    <tr>\n      <th>20131</th>\n      <td>-0.242875</td>\n      <td>0.000000</td>\n      <td>0.000000</td>\n      <td>0.0</td>\n      <td>0.0</td>\n      <td>0.666667</td>\n      <td>7.8750</td>\n      <td>7.921260</td>\n      <td>0.0</td>\n      <td>32.0</td>\n      <td>...</td>\n      <td>2.0</td>\n      <td>11.861446</td>\n      <td>0.0</td>\n      <td>0.0</td>\n      <td>-0.617152</td>\n      <td>0.607407</td>\n      <td>0.0</td>\n      <td>0.0</td>\n      <td>1.0</td>\n      <td>0.0</td>\n    </tr>\n    <tr>\n      <th>20132</th>\n      <td>0.881703</td>\n      <td>0.285714</td>\n      <td>0.000000</td>\n      <td>0.0</td>\n      <td>0.0</td>\n      <td>1.333333</td>\n      <td>-0.1250</td>\n      <td>5.472441</td>\n      <td>0.0</td>\n      <td>2.0</td>\n      <td>...</td>\n      <td>0.0</td>\n      <td>3.993976</td>\n      <td>0.0</td>\n      <td>0.0</td>\n      <td>0.402757</td>\n      <td>-0.457407</td>\n      <td>0.0</td>\n      <td>0.0</td>\n      <td>1.0</td>\n      <td>0.0</td>\n    </tr>\n    <tr>\n      <th>20133</th>\n      <td>0.971967</td>\n      <td>0.000000</td>\n      <td>0.000000</td>\n      <td>0.0</td>\n      <td>0.0</td>\n      <td>-0.333333</td>\n      <td>-0.2500</td>\n      <td>0.094488</td>\n      <td>0.0</td>\n      <td>-0.5</td>\n      <td>...</td>\n      <td>0.0</td>\n      <td>0.234940</td>\n      <td>0.0</td>\n      <td>0.0</td>\n      <td>2.920368</td>\n      <td>-0.457407</td>\n      <td>0.0</td>\n      <td>0.0</td>\n      <td>1.0</td>\n      <td>0.0</td>\n    </tr>\n    <tr>\n      <th>20134</th>\n      <td>-0.405723</td>\n      <td>-0.142857</td>\n      <td>0.000000</td>\n      <td>0.0</td>\n      <td>0.0</td>\n      <td>-0.333333</td>\n      <td>3.6250</td>\n      <td>-0.307087</td>\n      <td>0.0</td>\n      <td>-0.5</td>\n      <td>...</td>\n      <td>0.0</td>\n      <td>-0.150602</td>\n      <td>0.0</td>\n      <td>0.0</td>\n      <td>-0.924962</td>\n      <td>-0.026852</td>\n      <td>0.0</td>\n      <td>1.0</td>\n      <td>0.0</td>\n      <td>0.0</td>\n    </tr>\n    <tr>\n      <th>20135</th>\n      <td>0.074910</td>\n      <td>0.285714</td>\n      <td>6.589623</td>\n      <td>1.0</td>\n      <td>0.0</td>\n      <td>-0.333333</td>\n      <td>-0.2500</td>\n      <td>-0.291339</td>\n      <td>0.0</td>\n      <td>-0.5</td>\n      <td>...</td>\n      <td>0.0</td>\n      <td>-0.096386</td>\n      <td>0.0</td>\n      <td>0.0</td>\n      <td>-0.482389</td>\n      <td>0.428704</td>\n      <td>1.0</td>\n      <td>0.0</td>\n      <td>0.0</td>\n      <td>0.0</td>\n    </tr>\n  </tbody>\n</table>\n<p>20136 rows × 21 columns</p>\n</div>"
     },
     "execution_count": 109,
     "metadata": {},
     "output_type": "execute_result"
    }
   ],
   "source": [
    "df_ro_label = cocnat_df(robust_scale(num_attribss),hot1_encoding(cat_attribs))\n",
    "df_ro_label"
   ],
   "metadata": {
    "collapsed": false,
    "pycharm": {
     "name": "#%%\n"
    }
   }
  },
  {
   "cell_type": "code",
   "execution_count": 110,
   "outputs": [],
   "source": [
    "train_ro_label, test_ro_label = split_train_test(df_ro_label)"
   ],
   "metadata": {
    "collapsed": false,
    "pycharm": {
     "name": "#%%\n"
    }
   }
  },
  {
   "cell_type": "code",
   "execution_count": 111,
   "outputs": [],
   "source": [
    "train_ro_label, y_ro_label = add_smote_enn(train_ro_label,y)"
   ],
   "metadata": {
    "collapsed": false,
    "pycharm": {
     "name": "#%%\n"
    }
   }
  },
  {
   "cell_type": "code",
   "execution_count": 112,
   "outputs": [
    {
     "name": "stdout",
     "output_type": "stream",
     "text": [
      "(13917, 21) (5965, 21) (13917,) (5965,)\n"
     ]
    }
   ],
   "source": [
    "X_train_ro_label, X_val_ro_label, y_train_ro_label, y_val_ro_label = split_train_val(train_ro_label,y_ro_label)"
   ],
   "metadata": {
    "collapsed": false,
    "pycharm": {
     "name": "#%%\n"
    }
   }
  },
  {
   "cell_type": "code",
   "execution_count": 113,
   "outputs": [
    {
     "name": "stdout",
     "output_type": "stream",
     "text": [
      "RandomForestClassifier(max_depth=10)\n",
      "accuracy_score : 0.8645431684828164\n",
      "recall_score : 0.847766408784627\n",
      "precision_score : 0.944923504867872\n",
      "f1_score : 0.8937121810049987\n",
      "coufusion_matrix : \n",
      "[[1760  198]\n",
      " [ 610 3397]]\n",
      "None\n"
     ]
    }
   ],
   "source": [
    "model_ro_label = pipeline_RF(X_train_ro_label, X_val_ro_label, y_train_ro_label, y_val_ro_label)"
   ],
   "metadata": {
    "collapsed": false,
    "pycharm": {
     "name": "#%%\n"
    }
   }
  },
  {
   "cell_type": "markdown",
   "source": [
    "### drop 타이타늄 / Stand+label+smoteENN"
   ],
   "metadata": {
    "collapsed": false
   }
  },
  {
   "cell_type": "code",
   "execution_count": null,
   "outputs": [],
   "source": [
    "df_stand_1hot = cocnat_df(standard_scale(num_attribss_mang),label_encoding(cat_attribs))\n",
    "df_stand_1hot"
   ],
   "metadata": {
    "collapsed": false,
    "pycharm": {
     "name": "#%%\n"
    }
   }
  },
  {
   "cell_type": "code",
   "execution_count": null,
   "outputs": [],
   "source": [
    "train_stand_1hot, test_stand_1hot = split_train_test(df_stand_1hot)"
   ],
   "metadata": {
    "collapsed": false,
    "pycharm": {
     "name": "#%%\n"
    }
   }
  },
  {
   "cell_type": "code",
   "execution_count": null,
   "outputs": [],
   "source": [
    "train_stand_1hot, y_stand_1hot = add_smote_enn(train_stand_1hot,y)"
   ],
   "metadata": {
    "collapsed": false,
    "pycharm": {
     "name": "#%%\n"
    }
   }
  },
  {
   "cell_type": "code",
   "execution_count": null,
   "outputs": [],
   "source": [
    "X_train_stand_1hot, X_val_stand_1hot, y_train_stand_1hot, y_val_stand_1hot = split_train_val(train_stand_1hot,y_stand_1hot)"
   ],
   "metadata": {
    "collapsed": false,
    "pycharm": {
     "name": "#%%\n"
    }
   }
  },
  {
   "cell_type": "code",
   "execution_count": null,
   "outputs": [],
   "source": [
    "model_stand_1hot = pipeline_RF(X_train_stand_1hot, X_val_stand_1hot, y_train_stand_1hot, y_val_stand_1hot)"
   ],
   "metadata": {
    "collapsed": false,
    "pycharm": {
     "name": "#%%\n"
    }
   }
  },
  {
   "cell_type": "markdown",
   "source": [
    "### 이상치 제거"
   ],
   "metadata": {
    "collapsed": false
   }
  },
  {
   "cell_type": "code",
   "execution_count": 134,
   "outputs": [],
   "source": [
    "num_attribss_out = df_out[num_attribss_list]\n",
    "cat_attribs_out = df_out[['샘플오일관련부품']]\n",
    "y_out = df_out[:6116]['Y_LABEL']"
   ],
   "metadata": {
    "collapsed": false,
    "pycharm": {
     "name": "#%%\n"
    }
   }
  },
  {
   "cell_type": "code",
   "execution_count": 135,
   "outputs": [
    {
     "data": {
      "text/plain": "        수치형데이터1      진단년도   수치형데이터2         은     일산화탄소       크로뮴        구리  \\\n0     -0.482645  1.762894  0.056225 -0.104458 -0.080683 -0.130910  0.082528   \n1     -0.191775  0.212564 -0.358880 -0.104458 -0.080683 -0.064064 -0.181618   \n2      1.166708 -1.079378 -0.358880 -0.104458 -0.080683 -0.130910 -0.190727   \n3      0.228552  0.212564 -0.358880 -0.104458 -0.080683 -0.130910 -0.199835   \n4     -0.464619  0.212564  0.627885 -0.104458 -0.080683 -0.130910 -0.172510   \n...         ...       ...       ...       ...       ...       ...       ...   \n12152 -0.383230 -0.045824 -0.358880 -0.104458 -0.080683  0.069629  0.984267   \n12153  0.276893  0.470953 -0.358880 -0.104458 -0.080683  0.203321 -0.181618   \n12154  0.329878 -0.045824 -0.358880 -0.104458 -0.080683 -0.130910 -0.199835   \n12155 -0.478821 -0.304213 -0.358880 -0.104458 -0.080683 -0.130910  0.364891   \n12156 -0.196691  0.470953  2.954847  7.734436 -0.080683 -0.130910 -0.199835   \n\n              철         물      망가니즈     몰리브데넘        니켈  입자 정량 지수      타이타늄  \\\n0     -0.245064 -0.051625 -0.223329 -0.297123 -0.108446 -0.190226 -0.076071   \n1     -0.241019 -0.051625 -0.223329 -0.297123 -0.108446 -0.191770 -0.076071   \n2     -0.174283 -0.051625 -0.099998 -0.297123 -0.108446 -0.170932 -0.076071   \n3     -0.105525 -0.051625 -0.223329 -0.297123 -0.108446 -0.037419 -0.076071   \n4     -0.178328 -0.051625 -0.223329 -0.297123 -0.108446 -0.184824 -0.076071   \n...         ...       ...       ...       ...       ...       ...       ...   \n12152  1.868243 -0.051625  7.793185 -0.187179  0.385608  1.337840 -0.076071   \n12153  1.239307 -0.051625  0.393326 -0.297123 -0.108446  0.329934 -0.076071   \n12154 -0.141926 -0.051625 -0.223329 -0.297123 -0.108446 -0.151639 -0.076071   \n12155 -0.245064 -0.051625 -0.223329 -0.297123 -0.108446 -0.201031 -0.076071   \n12156 -0.241019 -0.051625 -0.223329 -0.253145 -0.108446 -0.194085 -0.076071   \n\n            바나듐    점도 40도        아연 샘플오일관련부품  \n0     -0.086964 -1.473684  0.177580        1  \n1     -0.086964 -0.808229 -0.286735        1  \n2     -0.086964  0.604118 -1.070268        2  \n3     -0.086964  0.599465 -0.836175        2  \n4     -0.086964  0.957787 -1.037379        2  \n...         ...       ...       ...      ...  \n12152 -0.086964 -0.840804  1.166184        2  \n12153 -0.086964  0.708823 -1.058660        2  \n12154 -0.086964  4.534027 -1.058660        2  \n12155 -0.086964 -1.308484 -0.159049        1  \n12156 -0.086964 -0.636048  0.792798        0  \n\n[12157 rows x 18 columns]",
      "text/html": "<div>\n<style scoped>\n    .dataframe tbody tr th:only-of-type {\n        vertical-align: middle;\n    }\n\n    .dataframe tbody tr th {\n        vertical-align: top;\n    }\n\n    .dataframe thead th {\n        text-align: right;\n    }\n</style>\n<table border=\"1\" class=\"dataframe\">\n  <thead>\n    <tr style=\"text-align: right;\">\n      <th></th>\n      <th>수치형데이터1</th>\n      <th>진단년도</th>\n      <th>수치형데이터2</th>\n      <th>은</th>\n      <th>일산화탄소</th>\n      <th>크로뮴</th>\n      <th>구리</th>\n      <th>철</th>\n      <th>물</th>\n      <th>망가니즈</th>\n      <th>몰리브데넘</th>\n      <th>니켈</th>\n      <th>입자 정량 지수</th>\n      <th>타이타늄</th>\n      <th>바나듐</th>\n      <th>점도 40도</th>\n      <th>아연</th>\n      <th>샘플오일관련부품</th>\n    </tr>\n  </thead>\n  <tbody>\n    <tr>\n      <th>0</th>\n      <td>-0.482645</td>\n      <td>1.762894</td>\n      <td>0.056225</td>\n      <td>-0.104458</td>\n      <td>-0.080683</td>\n      <td>-0.130910</td>\n      <td>0.082528</td>\n      <td>-0.245064</td>\n      <td>-0.051625</td>\n      <td>-0.223329</td>\n      <td>-0.297123</td>\n      <td>-0.108446</td>\n      <td>-0.190226</td>\n      <td>-0.076071</td>\n      <td>-0.086964</td>\n      <td>-1.473684</td>\n      <td>0.177580</td>\n      <td>1</td>\n    </tr>\n    <tr>\n      <th>1</th>\n      <td>-0.191775</td>\n      <td>0.212564</td>\n      <td>-0.358880</td>\n      <td>-0.104458</td>\n      <td>-0.080683</td>\n      <td>-0.064064</td>\n      <td>-0.181618</td>\n      <td>-0.241019</td>\n      <td>-0.051625</td>\n      <td>-0.223329</td>\n      <td>-0.297123</td>\n      <td>-0.108446</td>\n      <td>-0.191770</td>\n      <td>-0.076071</td>\n      <td>-0.086964</td>\n      <td>-0.808229</td>\n      <td>-0.286735</td>\n      <td>1</td>\n    </tr>\n    <tr>\n      <th>2</th>\n      <td>1.166708</td>\n      <td>-1.079378</td>\n      <td>-0.358880</td>\n      <td>-0.104458</td>\n      <td>-0.080683</td>\n      <td>-0.130910</td>\n      <td>-0.190727</td>\n      <td>-0.174283</td>\n      <td>-0.051625</td>\n      <td>-0.099998</td>\n      <td>-0.297123</td>\n      <td>-0.108446</td>\n      <td>-0.170932</td>\n      <td>-0.076071</td>\n      <td>-0.086964</td>\n      <td>0.604118</td>\n      <td>-1.070268</td>\n      <td>2</td>\n    </tr>\n    <tr>\n      <th>3</th>\n      <td>0.228552</td>\n      <td>0.212564</td>\n      <td>-0.358880</td>\n      <td>-0.104458</td>\n      <td>-0.080683</td>\n      <td>-0.130910</td>\n      <td>-0.199835</td>\n      <td>-0.105525</td>\n      <td>-0.051625</td>\n      <td>-0.223329</td>\n      <td>-0.297123</td>\n      <td>-0.108446</td>\n      <td>-0.037419</td>\n      <td>-0.076071</td>\n      <td>-0.086964</td>\n      <td>0.599465</td>\n      <td>-0.836175</td>\n      <td>2</td>\n    </tr>\n    <tr>\n      <th>4</th>\n      <td>-0.464619</td>\n      <td>0.212564</td>\n      <td>0.627885</td>\n      <td>-0.104458</td>\n      <td>-0.080683</td>\n      <td>-0.130910</td>\n      <td>-0.172510</td>\n      <td>-0.178328</td>\n      <td>-0.051625</td>\n      <td>-0.223329</td>\n      <td>-0.297123</td>\n      <td>-0.108446</td>\n      <td>-0.184824</td>\n      <td>-0.076071</td>\n      <td>-0.086964</td>\n      <td>0.957787</td>\n      <td>-1.037379</td>\n      <td>2</td>\n    </tr>\n    <tr>\n      <th>...</th>\n      <td>...</td>\n      <td>...</td>\n      <td>...</td>\n      <td>...</td>\n      <td>...</td>\n      <td>...</td>\n      <td>...</td>\n      <td>...</td>\n      <td>...</td>\n      <td>...</td>\n      <td>...</td>\n      <td>...</td>\n      <td>...</td>\n      <td>...</td>\n      <td>...</td>\n      <td>...</td>\n      <td>...</td>\n      <td>...</td>\n    </tr>\n    <tr>\n      <th>12152</th>\n      <td>-0.383230</td>\n      <td>-0.045824</td>\n      <td>-0.358880</td>\n      <td>-0.104458</td>\n      <td>-0.080683</td>\n      <td>0.069629</td>\n      <td>0.984267</td>\n      <td>1.868243</td>\n      <td>-0.051625</td>\n      <td>7.793185</td>\n      <td>-0.187179</td>\n      <td>0.385608</td>\n      <td>1.337840</td>\n      <td>-0.076071</td>\n      <td>-0.086964</td>\n      <td>-0.840804</td>\n      <td>1.166184</td>\n      <td>2</td>\n    </tr>\n    <tr>\n      <th>12153</th>\n      <td>0.276893</td>\n      <td>0.470953</td>\n      <td>-0.358880</td>\n      <td>-0.104458</td>\n      <td>-0.080683</td>\n      <td>0.203321</td>\n      <td>-0.181618</td>\n      <td>1.239307</td>\n      <td>-0.051625</td>\n      <td>0.393326</td>\n      <td>-0.297123</td>\n      <td>-0.108446</td>\n      <td>0.329934</td>\n      <td>-0.076071</td>\n      <td>-0.086964</td>\n      <td>0.708823</td>\n      <td>-1.058660</td>\n      <td>2</td>\n    </tr>\n    <tr>\n      <th>12154</th>\n      <td>0.329878</td>\n      <td>-0.045824</td>\n      <td>-0.358880</td>\n      <td>-0.104458</td>\n      <td>-0.080683</td>\n      <td>-0.130910</td>\n      <td>-0.199835</td>\n      <td>-0.141926</td>\n      <td>-0.051625</td>\n      <td>-0.223329</td>\n      <td>-0.297123</td>\n      <td>-0.108446</td>\n      <td>-0.151639</td>\n      <td>-0.076071</td>\n      <td>-0.086964</td>\n      <td>4.534027</td>\n      <td>-1.058660</td>\n      <td>2</td>\n    </tr>\n    <tr>\n      <th>12155</th>\n      <td>-0.478821</td>\n      <td>-0.304213</td>\n      <td>-0.358880</td>\n      <td>-0.104458</td>\n      <td>-0.080683</td>\n      <td>-0.130910</td>\n      <td>0.364891</td>\n      <td>-0.245064</td>\n      <td>-0.051625</td>\n      <td>-0.223329</td>\n      <td>-0.297123</td>\n      <td>-0.108446</td>\n      <td>-0.201031</td>\n      <td>-0.076071</td>\n      <td>-0.086964</td>\n      <td>-1.308484</td>\n      <td>-0.159049</td>\n      <td>1</td>\n    </tr>\n    <tr>\n      <th>12156</th>\n      <td>-0.196691</td>\n      <td>0.470953</td>\n      <td>2.954847</td>\n      <td>7.734436</td>\n      <td>-0.080683</td>\n      <td>-0.130910</td>\n      <td>-0.199835</td>\n      <td>-0.241019</td>\n      <td>-0.051625</td>\n      <td>-0.223329</td>\n      <td>-0.253145</td>\n      <td>-0.108446</td>\n      <td>-0.194085</td>\n      <td>-0.076071</td>\n      <td>-0.086964</td>\n      <td>-0.636048</td>\n      <td>0.792798</td>\n      <td>0</td>\n    </tr>\n  </tbody>\n</table>\n<p>12157 rows × 18 columns</p>\n</div>"
     },
     "execution_count": 135,
     "metadata": {},
     "output_type": "execute_result"
    }
   ],
   "source": [
    "df_stand_out = cocnat_df(standard_scale(num_attribss_out),label_encoding(cat_attribs_out))\n",
    "df_stand_out"
   ],
   "metadata": {
    "collapsed": false,
    "pycharm": {
     "name": "#%%\n"
    }
   }
  },
  {
   "cell_type": "code",
   "execution_count": 141,
   "outputs": [
    {
     "data": {
      "text/plain": "               ID    샘플오일관련부품  수치형데이터1  진단년도  수치형데이터2  은  일산화탄소  크로뮴   구리  \\\n0     TRAIN_00001  COMPONENT2     1350  2021      375  0      0    0   31   \n1     TRAIN_00002  COMPONENT2     2415  2015      200  0      0    1    2   \n2     TRAIN_00003  COMPONENT3     7389  2010      200  0      0    0    1   \n3     TRAIN_00004  COMPONENT3     3954  2015      200  0      0    0    0   \n4     TRAIN_00006  COMPONENT3     1416  2015      616  0      0    0    3   \n...           ...         ...      ...   ...      ... ..    ...  ...  ...   \n6036    TEST_6036  COMPONENT3     1714  2014      200  0      0    3  130   \n6037    TEST_6037  COMPONENT3     4131  2016      200  0      0    5    2   \n6038    TEST_6038  COMPONENT3     4325  2014      200  0      0    0    0   \n6039    TEST_6039  COMPONENT2     1364  2013      200  0      0    0   62   \n6040    TEST_6040  COMPONENT1     2397  2016     1597  1      0    0    0   \n\n         철    물  망가니즈  몰리브데넘  니켈  입자 정량 지수  타이타늄  바나듐  점도 40도    아연  Y_LABEL  \n0        2  0.0     0      0   0        19     0    0    44.0   652      0.0  \n1        4  0.0     0      0   0        17     0    0    72.6   412      1.0  \n2       37  0.0     1      0   0        44     0    0   133.3     7      0.0  \n3       71  0.0     0      0   0       217     0    0   133.1   128      0.0  \n4       35  0.0     0      0   0        26     0    0   148.5    24      0.0  \n...    ...  ...   ...    ...  ..       ...   ...  ...     ...   ...      ...  \n6036  1047  0.0    65      5   2      1999     0    0    71.2  1163      NaN  \n6037   736  0.0     5      0   0       693     0    0   137.8    13      NaN  \n6038    53  0.0     0      0   0        69     0    0   302.2    13      NaN  \n6039     2  0.0     0      0   0         5     0    0    51.1   478      NaN  \n6040     4  0.0     0      2   0        14     0    0    80.0   970      NaN  \n\n[12157 rows x 20 columns]",
      "text/html": "<div>\n<style scoped>\n    .dataframe tbody tr th:only-of-type {\n        vertical-align: middle;\n    }\n\n    .dataframe tbody tr th {\n        vertical-align: top;\n    }\n\n    .dataframe thead th {\n        text-align: right;\n    }\n</style>\n<table border=\"1\" class=\"dataframe\">\n  <thead>\n    <tr style=\"text-align: right;\">\n      <th></th>\n      <th>ID</th>\n      <th>샘플오일관련부품</th>\n      <th>수치형데이터1</th>\n      <th>진단년도</th>\n      <th>수치형데이터2</th>\n      <th>은</th>\n      <th>일산화탄소</th>\n      <th>크로뮴</th>\n      <th>구리</th>\n      <th>철</th>\n      <th>물</th>\n      <th>망가니즈</th>\n      <th>몰리브데넘</th>\n      <th>니켈</th>\n      <th>입자 정량 지수</th>\n      <th>타이타늄</th>\n      <th>바나듐</th>\n      <th>점도 40도</th>\n      <th>아연</th>\n      <th>Y_LABEL</th>\n    </tr>\n  </thead>\n  <tbody>\n    <tr>\n      <th>0</th>\n      <td>TRAIN_00001</td>\n      <td>COMPONENT2</td>\n      <td>1350</td>\n      <td>2021</td>\n      <td>375</td>\n      <td>0</td>\n      <td>0</td>\n      <td>0</td>\n      <td>31</td>\n      <td>2</td>\n      <td>0.0</td>\n      <td>0</td>\n      <td>0</td>\n      <td>0</td>\n      <td>19</td>\n      <td>0</td>\n      <td>0</td>\n      <td>44.0</td>\n      <td>652</td>\n      <td>0.0</td>\n    </tr>\n    <tr>\n      <th>1</th>\n      <td>TRAIN_00002</td>\n      <td>COMPONENT2</td>\n      <td>2415</td>\n      <td>2015</td>\n      <td>200</td>\n      <td>0</td>\n      <td>0</td>\n      <td>1</td>\n      <td>2</td>\n      <td>4</td>\n      <td>0.0</td>\n      <td>0</td>\n      <td>0</td>\n      <td>0</td>\n      <td>17</td>\n      <td>0</td>\n      <td>0</td>\n      <td>72.6</td>\n      <td>412</td>\n      <td>1.0</td>\n    </tr>\n    <tr>\n      <th>2</th>\n      <td>TRAIN_00003</td>\n      <td>COMPONENT3</td>\n      <td>7389</td>\n      <td>2010</td>\n      <td>200</td>\n      <td>0</td>\n      <td>0</td>\n      <td>0</td>\n      <td>1</td>\n      <td>37</td>\n      <td>0.0</td>\n      <td>1</td>\n      <td>0</td>\n      <td>0</td>\n      <td>44</td>\n      <td>0</td>\n      <td>0</td>\n      <td>133.3</td>\n      <td>7</td>\n      <td>0.0</td>\n    </tr>\n    <tr>\n      <th>3</th>\n      <td>TRAIN_00004</td>\n      <td>COMPONENT3</td>\n      <td>3954</td>\n      <td>2015</td>\n      <td>200</td>\n      <td>0</td>\n      <td>0</td>\n      <td>0</td>\n      <td>0</td>\n      <td>71</td>\n      <td>0.0</td>\n      <td>0</td>\n      <td>0</td>\n      <td>0</td>\n      <td>217</td>\n      <td>0</td>\n      <td>0</td>\n      <td>133.1</td>\n      <td>128</td>\n      <td>0.0</td>\n    </tr>\n    <tr>\n      <th>4</th>\n      <td>TRAIN_00006</td>\n      <td>COMPONENT3</td>\n      <td>1416</td>\n      <td>2015</td>\n      <td>616</td>\n      <td>0</td>\n      <td>0</td>\n      <td>0</td>\n      <td>3</td>\n      <td>35</td>\n      <td>0.0</td>\n      <td>0</td>\n      <td>0</td>\n      <td>0</td>\n      <td>26</td>\n      <td>0</td>\n      <td>0</td>\n      <td>148.5</td>\n      <td>24</td>\n      <td>0.0</td>\n    </tr>\n    <tr>\n      <th>...</th>\n      <td>...</td>\n      <td>...</td>\n      <td>...</td>\n      <td>...</td>\n      <td>...</td>\n      <td>...</td>\n      <td>...</td>\n      <td>...</td>\n      <td>...</td>\n      <td>...</td>\n      <td>...</td>\n      <td>...</td>\n      <td>...</td>\n      <td>...</td>\n      <td>...</td>\n      <td>...</td>\n      <td>...</td>\n      <td>...</td>\n      <td>...</td>\n      <td>...</td>\n    </tr>\n    <tr>\n      <th>6036</th>\n      <td>TEST_6036</td>\n      <td>COMPONENT3</td>\n      <td>1714</td>\n      <td>2014</td>\n      <td>200</td>\n      <td>0</td>\n      <td>0</td>\n      <td>3</td>\n      <td>130</td>\n      <td>1047</td>\n      <td>0.0</td>\n      <td>65</td>\n      <td>5</td>\n      <td>2</td>\n      <td>1999</td>\n      <td>0</td>\n      <td>0</td>\n      <td>71.2</td>\n      <td>1163</td>\n      <td>NaN</td>\n    </tr>\n    <tr>\n      <th>6037</th>\n      <td>TEST_6037</td>\n      <td>COMPONENT3</td>\n      <td>4131</td>\n      <td>2016</td>\n      <td>200</td>\n      <td>0</td>\n      <td>0</td>\n      <td>5</td>\n      <td>2</td>\n      <td>736</td>\n      <td>0.0</td>\n      <td>5</td>\n      <td>0</td>\n      <td>0</td>\n      <td>693</td>\n      <td>0</td>\n      <td>0</td>\n      <td>137.8</td>\n      <td>13</td>\n      <td>NaN</td>\n    </tr>\n    <tr>\n      <th>6038</th>\n      <td>TEST_6038</td>\n      <td>COMPONENT3</td>\n      <td>4325</td>\n      <td>2014</td>\n      <td>200</td>\n      <td>0</td>\n      <td>0</td>\n      <td>0</td>\n      <td>0</td>\n      <td>53</td>\n      <td>0.0</td>\n      <td>0</td>\n      <td>0</td>\n      <td>0</td>\n      <td>69</td>\n      <td>0</td>\n      <td>0</td>\n      <td>302.2</td>\n      <td>13</td>\n      <td>NaN</td>\n    </tr>\n    <tr>\n      <th>6039</th>\n      <td>TEST_6039</td>\n      <td>COMPONENT2</td>\n      <td>1364</td>\n      <td>2013</td>\n      <td>200</td>\n      <td>0</td>\n      <td>0</td>\n      <td>0</td>\n      <td>62</td>\n      <td>2</td>\n      <td>0.0</td>\n      <td>0</td>\n      <td>0</td>\n      <td>0</td>\n      <td>5</td>\n      <td>0</td>\n      <td>0</td>\n      <td>51.1</td>\n      <td>478</td>\n      <td>NaN</td>\n    </tr>\n    <tr>\n      <th>6040</th>\n      <td>TEST_6040</td>\n      <td>COMPONENT1</td>\n      <td>2397</td>\n      <td>2016</td>\n      <td>1597</td>\n      <td>1</td>\n      <td>0</td>\n      <td>0</td>\n      <td>0</td>\n      <td>4</td>\n      <td>0.0</td>\n      <td>0</td>\n      <td>2</td>\n      <td>0</td>\n      <td>14</td>\n      <td>0</td>\n      <td>0</td>\n      <td>80.0</td>\n      <td>970</td>\n      <td>NaN</td>\n    </tr>\n  </tbody>\n</table>\n<p>12157 rows × 20 columns</p>\n</div>"
     },
     "execution_count": 141,
     "metadata": {},
     "output_type": "execute_result"
    }
   ],
   "source": [
    "df_out"
   ],
   "metadata": {
    "collapsed": false,
    "pycharm": {
     "name": "#%%\n"
    }
   }
  },
  {
   "cell_type": "code",
   "execution_count": 136,
   "outputs": [],
   "source": [
    "train_stand_out, test_stand_out = split_train_test_out(df_stand_out)"
   ],
   "metadata": {
    "collapsed": false,
    "pycharm": {
     "name": "#%%\n"
    }
   }
  },
  {
   "cell_type": "code",
   "execution_count": 137,
   "outputs": [],
   "source": [
    "train_stand_out, y_stand_out = add_smote_enn(train_stand_out,y_out)"
   ],
   "metadata": {
    "collapsed": false,
    "pycharm": {
     "name": "#%%\n"
    }
   }
  },
  {
   "cell_type": "code",
   "execution_count": 140,
   "outputs": [
    {
     "data": {
      "text/plain": "       수치형데이터1      진단년도   수치형데이터2         은     일산화탄소       크로뮴        구리  \\\n0    -0.464619  0.212564  0.627885 -0.104458 -0.080683 -0.130910 -0.172510   \n1     0.991640  0.212564 -0.358880 -0.104458 -0.080683 -0.130910 -0.181618   \n2    -0.531259  0.987729  0.056225 -0.104458 -0.080683 -0.130910 -0.199835   \n3     0.097729  0.470953 -0.358880 -0.104458 -0.080683 -0.130910 -0.063208   \n4    -0.351548  0.212564  0.471331 -0.104458 -0.080683 -0.130910 -0.117859   \n...        ...       ...       ...       ...       ...       ...       ...   \n8970  0.953893  1.298530 -0.358880 -0.104458 -0.080683 -0.103791 -0.185184   \n8971  0.535910  0.470953 -0.358880 -0.104458 -0.080683 -0.085353 -0.191133   \n8972  1.253244 -0.161184 -0.358880 -0.104458 -0.080683 -0.130910 -0.163401   \n8973  1.277176 -0.252950 -0.358880 -0.104458 -0.080683 -0.130910 -0.170629   \n8974  0.484673 -0.508783 -0.358880 -0.104458 -0.080683  0.002782 -0.148979   \n\n             철         물      망가니즈     몰리브데넘        니켈  입자 정량 지수      타이타늄  \\\n0    -0.178328 -0.051625 -0.223329 -0.297123 -0.108446 -0.184824 -0.076071   \n1    -0.224841 -0.051625 -0.223329 -0.231157 -0.108446 -0.201031 -0.076071   \n2    -0.186417 -0.051625 -0.223329 -0.297123 -0.108446 -0.097616 -0.076071   \n3    -0.202595 -0.051625 -0.223329 -0.297123 -0.108446 -0.187139 -0.076071   \n4    -0.245064 -0.051625 -0.223329 -0.297123 -0.108446 -0.201031 -0.076071   \n...        ...       ...       ...       ...       ...       ...       ...   \n8970 -0.143344 -0.051625 -0.173295 -0.090930 -0.108446 -0.178318 -0.076071   \n8971 -0.016260 -0.051625 -0.060721 -0.297123 -0.108446 -0.140495 -0.076071   \n8972 -0.198967 -0.051625 -0.189194 -0.297123 -0.108446 -0.190915 -0.076071   \n8973 -0.180675 -0.051625 -0.223329 -0.284035 -0.108446 -0.186104 -0.076071   \n8974  0.010740 -0.051625  0.074709 -0.113901 -0.108446 -0.185917 -0.076071   \n\n           바나듐    점도 40도        아연  샘플오일관련부품  \n0    -0.086964  0.957787 -1.037379       2.0  \n1    -0.086964 -0.196289  0.889530       0.0  \n2    -0.086964  1.546459 -1.076072       2.0  \n3    -0.086964  0.155052  1.019151       2.0  \n4    -0.086964 -1.231701 -0.230631       1.0  \n...        ...       ...       ...       ...  \n8970 -0.086964 -0.535478  1.506422  2.797155  \n8971 -0.086964  1.608629 -1.056972       2.0  \n8972 -0.086964  0.578355 -1.071460       2.0  \n8973 -0.086964  0.548145 -1.072218       2.0  \n8974 -0.086964  0.525493 -0.952023       2.0  \n\n[8975 rows x 18 columns]",
      "text/html": "<div>\n<style scoped>\n    .dataframe tbody tr th:only-of-type {\n        vertical-align: middle;\n    }\n\n    .dataframe tbody tr th {\n        vertical-align: top;\n    }\n\n    .dataframe thead th {\n        text-align: right;\n    }\n</style>\n<table border=\"1\" class=\"dataframe\">\n  <thead>\n    <tr style=\"text-align: right;\">\n      <th></th>\n      <th>수치형데이터1</th>\n      <th>진단년도</th>\n      <th>수치형데이터2</th>\n      <th>은</th>\n      <th>일산화탄소</th>\n      <th>크로뮴</th>\n      <th>구리</th>\n      <th>철</th>\n      <th>물</th>\n      <th>망가니즈</th>\n      <th>몰리브데넘</th>\n      <th>니켈</th>\n      <th>입자 정량 지수</th>\n      <th>타이타늄</th>\n      <th>바나듐</th>\n      <th>점도 40도</th>\n      <th>아연</th>\n      <th>샘플오일관련부품</th>\n    </tr>\n  </thead>\n  <tbody>\n    <tr>\n      <th>0</th>\n      <td>-0.464619</td>\n      <td>0.212564</td>\n      <td>0.627885</td>\n      <td>-0.104458</td>\n      <td>-0.080683</td>\n      <td>-0.130910</td>\n      <td>-0.172510</td>\n      <td>-0.178328</td>\n      <td>-0.051625</td>\n      <td>-0.223329</td>\n      <td>-0.297123</td>\n      <td>-0.108446</td>\n      <td>-0.184824</td>\n      <td>-0.076071</td>\n      <td>-0.086964</td>\n      <td>0.957787</td>\n      <td>-1.037379</td>\n      <td>2.0</td>\n    </tr>\n    <tr>\n      <th>1</th>\n      <td>0.991640</td>\n      <td>0.212564</td>\n      <td>-0.358880</td>\n      <td>-0.104458</td>\n      <td>-0.080683</td>\n      <td>-0.130910</td>\n      <td>-0.181618</td>\n      <td>-0.224841</td>\n      <td>-0.051625</td>\n      <td>-0.223329</td>\n      <td>-0.231157</td>\n      <td>-0.108446</td>\n      <td>-0.201031</td>\n      <td>-0.076071</td>\n      <td>-0.086964</td>\n      <td>-0.196289</td>\n      <td>0.889530</td>\n      <td>0.0</td>\n    </tr>\n    <tr>\n      <th>2</th>\n      <td>-0.531259</td>\n      <td>0.987729</td>\n      <td>0.056225</td>\n      <td>-0.104458</td>\n      <td>-0.080683</td>\n      <td>-0.130910</td>\n      <td>-0.199835</td>\n      <td>-0.186417</td>\n      <td>-0.051625</td>\n      <td>-0.223329</td>\n      <td>-0.297123</td>\n      <td>-0.108446</td>\n      <td>-0.097616</td>\n      <td>-0.076071</td>\n      <td>-0.086964</td>\n      <td>1.546459</td>\n      <td>-1.076072</td>\n      <td>2.0</td>\n    </tr>\n    <tr>\n      <th>3</th>\n      <td>0.097729</td>\n      <td>0.470953</td>\n      <td>-0.358880</td>\n      <td>-0.104458</td>\n      <td>-0.080683</td>\n      <td>-0.130910</td>\n      <td>-0.063208</td>\n      <td>-0.202595</td>\n      <td>-0.051625</td>\n      <td>-0.223329</td>\n      <td>-0.297123</td>\n      <td>-0.108446</td>\n      <td>-0.187139</td>\n      <td>-0.076071</td>\n      <td>-0.086964</td>\n      <td>0.155052</td>\n      <td>1.019151</td>\n      <td>2.0</td>\n    </tr>\n    <tr>\n      <th>4</th>\n      <td>-0.351548</td>\n      <td>0.212564</td>\n      <td>0.471331</td>\n      <td>-0.104458</td>\n      <td>-0.080683</td>\n      <td>-0.130910</td>\n      <td>-0.117859</td>\n      <td>-0.245064</td>\n      <td>-0.051625</td>\n      <td>-0.223329</td>\n      <td>-0.297123</td>\n      <td>-0.108446</td>\n      <td>-0.201031</td>\n      <td>-0.076071</td>\n      <td>-0.086964</td>\n      <td>-1.231701</td>\n      <td>-0.230631</td>\n      <td>1.0</td>\n    </tr>\n    <tr>\n      <th>...</th>\n      <td>...</td>\n      <td>...</td>\n      <td>...</td>\n      <td>...</td>\n      <td>...</td>\n      <td>...</td>\n      <td>...</td>\n      <td>...</td>\n      <td>...</td>\n      <td>...</td>\n      <td>...</td>\n      <td>...</td>\n      <td>...</td>\n      <td>...</td>\n      <td>...</td>\n      <td>...</td>\n      <td>...</td>\n      <td>...</td>\n    </tr>\n    <tr>\n      <th>8970</th>\n      <td>0.953893</td>\n      <td>1.298530</td>\n      <td>-0.358880</td>\n      <td>-0.104458</td>\n      <td>-0.080683</td>\n      <td>-0.103791</td>\n      <td>-0.185184</td>\n      <td>-0.143344</td>\n      <td>-0.051625</td>\n      <td>-0.173295</td>\n      <td>-0.090930</td>\n      <td>-0.108446</td>\n      <td>-0.178318</td>\n      <td>-0.076071</td>\n      <td>-0.086964</td>\n      <td>-0.535478</td>\n      <td>1.506422</td>\n      <td>2.797155</td>\n    </tr>\n    <tr>\n      <th>8971</th>\n      <td>0.535910</td>\n      <td>0.470953</td>\n      <td>-0.358880</td>\n      <td>-0.104458</td>\n      <td>-0.080683</td>\n      <td>-0.085353</td>\n      <td>-0.191133</td>\n      <td>-0.016260</td>\n      <td>-0.051625</td>\n      <td>-0.060721</td>\n      <td>-0.297123</td>\n      <td>-0.108446</td>\n      <td>-0.140495</td>\n      <td>-0.076071</td>\n      <td>-0.086964</td>\n      <td>1.608629</td>\n      <td>-1.056972</td>\n      <td>2.0</td>\n    </tr>\n    <tr>\n      <th>8972</th>\n      <td>1.253244</td>\n      <td>-0.161184</td>\n      <td>-0.358880</td>\n      <td>-0.104458</td>\n      <td>-0.080683</td>\n      <td>-0.130910</td>\n      <td>-0.163401</td>\n      <td>-0.198967</td>\n      <td>-0.051625</td>\n      <td>-0.189194</td>\n      <td>-0.297123</td>\n      <td>-0.108446</td>\n      <td>-0.190915</td>\n      <td>-0.076071</td>\n      <td>-0.086964</td>\n      <td>0.578355</td>\n      <td>-1.071460</td>\n      <td>2.0</td>\n    </tr>\n    <tr>\n      <th>8973</th>\n      <td>1.277176</td>\n      <td>-0.252950</td>\n      <td>-0.358880</td>\n      <td>-0.104458</td>\n      <td>-0.080683</td>\n      <td>-0.130910</td>\n      <td>-0.170629</td>\n      <td>-0.180675</td>\n      <td>-0.051625</td>\n      <td>-0.223329</td>\n      <td>-0.284035</td>\n      <td>-0.108446</td>\n      <td>-0.186104</td>\n      <td>-0.076071</td>\n      <td>-0.086964</td>\n      <td>0.548145</td>\n      <td>-1.072218</td>\n      <td>2.0</td>\n    </tr>\n    <tr>\n      <th>8974</th>\n      <td>0.484673</td>\n      <td>-0.508783</td>\n      <td>-0.358880</td>\n      <td>-0.104458</td>\n      <td>-0.080683</td>\n      <td>0.002782</td>\n      <td>-0.148979</td>\n      <td>0.010740</td>\n      <td>-0.051625</td>\n      <td>0.074709</td>\n      <td>-0.113901</td>\n      <td>-0.108446</td>\n      <td>-0.185917</td>\n      <td>-0.076071</td>\n      <td>-0.086964</td>\n      <td>0.525493</td>\n      <td>-0.952023</td>\n      <td>2.0</td>\n    </tr>\n  </tbody>\n</table>\n<p>8975 rows × 18 columns</p>\n</div>"
     },
     "execution_count": 140,
     "metadata": {},
     "output_type": "execute_result"
    }
   ],
   "source": [
    "train_stand_out"
   ],
   "metadata": {
    "collapsed": false,
    "pycharm": {
     "name": "#%%\n"
    }
   }
  },
  {
   "cell_type": "code",
   "execution_count": 138,
   "outputs": [
    {
     "name": "stdout",
     "output_type": "stream",
     "text": [
      "(6282, 18) (2693, 18) (6282,) (2693,)\n"
     ]
    }
   ],
   "source": [
    "X_train_stand_out, X_val_stand_out, y_train_stand_out, y_val_stand_out = split_train_val(train_stand_out,y_stand_out)"
   ],
   "metadata": {
    "collapsed": false,
    "pycharm": {
     "name": "#%%\n"
    }
   }
  },
  {
   "cell_type": "code",
   "execution_count": 139,
   "outputs": [
    {
     "name": "stdout",
     "output_type": "stream",
     "text": [
      "RandomForestClassifier(max_depth=10)\n",
      "accuracy_score : 0.8982547344968437\n",
      "recall_score : 0.8787346221441125\n",
      "precision_score : 0.9572431397574984\n",
      "f1_score : 0.916310323762981\n",
      "coufusion_matrix : \n",
      "[[ 919   67]\n",
      " [ 207 1500]]\n",
      "None\n"
     ]
    }
   ],
   "source": [
    "model_stand_out = pipeline_RF(X_train_stand_out, X_val_stand_out, y_train_stand_out, y_val_stand_out)"
   ],
   "metadata": {
    "collapsed": false,
    "pycharm": {
     "name": "#%%\n"
    }
   }
  },
  {
   "cell_type": "code",
   "execution_count": null,
   "outputs": [],
   "source": [
    "#make_submission(model_stand_out,test_stand_out,submission)"
   ],
   "metadata": {
    "collapsed": false,
    "pycharm": {
     "name": "#%%\n"
    }
   }
  },
  {
   "cell_type": "code",
   "execution_count": 150,
   "outputs": [
    {
     "data": {
      "text/plain": "2355    0.0\n5595    1.0\n7611    0.0\n4230    2.0\n3490    0.0\n       ... \n7461    1.0\n1556    2.0\n6063    0.0\n6587    0.0\n1966    1.0\nName: 샘플오일관련부품, Length: 6282, dtype: object"
     },
     "execution_count": 150,
     "metadata": {},
     "output_type": "execute_result"
    }
   ],
   "source": [
    "X_train_stand_out['샘플오일관련부품']"
   ],
   "metadata": {
    "collapsed": false,
    "pycharm": {
     "name": "#%%\n"
    }
   }
  },
  {
   "cell_type": "markdown",
   "source": [
    "# LightGBM"
   ],
   "metadata": {
    "collapsed": false,
    "pycharm": {
     "name": "#%% md\n"
    }
   }
  },
  {
   "cell_type": "code",
   "execution_count": 144,
   "outputs": [],
   "source": [
    "import lightgbm as lgb"
   ],
   "metadata": {
    "collapsed": false,
    "pycharm": {
     "name": "#%%\n"
    }
   }
  },
  {
   "cell_type": "code",
   "execution_count": 152,
   "outputs": [
    {
     "name": "stderr",
     "output_type": "stream",
     "text": [
      "C:\\Users\\yoon9\\AppData\\Local\\Temp\\ipykernel_13436\\2853975344.py:3: SettingWithCopyWarning: \n",
      "A value is trying to be set on a copy of a slice from a DataFrame.\n",
      "Try using .loc[row_indexer,col_indexer] = value instead\n",
      "\n",
      "See the caveats in the documentation: https://pandas.pydata.org/pandas-docs/stable/user_guide/indexing.html#returning-a-view-versus-a-copy\n",
      "  test_stand_out['샘플오일관련부품'] = pd.to_numeric(test_stand_out['샘플오일관련부품'])\n"
     ]
    }
   ],
   "source": [
    "X_train_stand_1hot['샘플오일관련부품'] = pd.to_numeric(X_train_stand_1hot['샘플오일관련부품'])\n",
    "X_val_stand_1hot['샘플오일관련부품'] = pd.to_numeric(X_val_stand_1hot['샘플오일관련부품'])\n",
    "test_stand_1hot['샘플오일관련부품'] = pd.to_numeric(test_stand_1hot['샘플오일관련부품'])"
   ],
   "metadata": {
    "collapsed": false,
    "pycharm": {
     "name": "#%%\n"
    }
   }
  },
  {
   "cell_type": "code",
   "execution_count": 153,
   "outputs": [],
   "source": [
    "train_data_plus = lgb.Dataset(X_train_stand_1hot, label=y_train_stand_1hot)\n",
    "test_data_plus = lgb.Dataset(X_val_stand_1hot, label=y_val_stand_1hot)"
   ],
   "metadata": {
    "collapsed": false,
    "pycharm": {
     "name": "#%%\n"
    }
   }
  },
  {
   "cell_type": "code",
   "execution_count": 154,
   "outputs": [
    {
     "data": {
      "text/plain": "<lightgbm.basic.Dataset at 0x2c45fed1c60>"
     },
     "execution_count": 154,
     "metadata": {},
     "output_type": "execute_result"
    }
   ],
   "source": [
    "train_data_plus"
   ],
   "metadata": {
    "collapsed": false,
    "pycharm": {
     "name": "#%%\n"
    }
   }
  },
  {
   "cell_type": "code",
   "execution_count": 155,
   "outputs": [],
   "source": [
    "params = {\n",
    "    \"max_bin\": 512,\n",
    "    \"learning_rate\": 0.05,\n",
    "    \"boosting_type\": \"gbdt\",\n",
    "    \"objective\": \"binary\",\n",
    "    \"metric\": ['auc',\"binary_logloss\"],\n",
    "    \"num_leaves\": 10,\n",
    "    \"verbose\": -1,\n",
    "    \"min_data\": 100,\n",
    "    \"boost_from_average\": True\n",
    "}\n",
    "\n"
   ],
   "metadata": {
    "collapsed": false,
    "pycharm": {
     "name": "#%%\n"
    }
   }
  },
  {
   "cell_type": "code",
   "execution_count": 156,
   "outputs": [
    {
     "name": "stderr",
     "output_type": "stream",
     "text": [
      "C:\\Users\\yoon9\\anaconda3\\envs\\Sejong_project\\lib\\site-packages\\lightgbm\\engine.py:181: UserWarning: 'early_stopping_rounds' argument is deprecated and will be removed in a future release of LightGBM. Pass 'early_stopping()' callback via 'callbacks' argument instead.\n",
      "  _log_warning(\"'early_stopping_rounds' argument is deprecated and will be removed in a future release of LightGBM. \"\n"
     ]
    },
    {
     "name": "stdout",
     "output_type": "stream",
     "text": [
      "[1]\tvalid_0's auc: 0.753993\tvalid_0's binary_logloss: 0.668201\n",
      "Training until validation scores don't improve for 50 rounds\n",
      "[2]\tvalid_0's auc: 0.783941\tvalid_0's binary_logloss: 0.658429\n",
      "[3]\tvalid_0's auc: 0.802864\tvalid_0's binary_logloss: 0.648676\n",
      "[4]\tvalid_0's auc: 0.811256\tvalid_0's binary_logloss: 0.639684\n",
      "[5]\tvalid_0's auc: 0.827538\tvalid_0's binary_logloss: 0.630894\n",
      "[6]\tvalid_0's auc: 0.831902\tvalid_0's binary_logloss: 0.623139\n",
      "[7]\tvalid_0's auc: 0.833709\tvalid_0's binary_logloss: 0.616187\n",
      "[8]\tvalid_0's auc: 0.837898\tvalid_0's binary_logloss: 0.6086\n",
      "[9]\tvalid_0's auc: 0.842254\tvalid_0's binary_logloss: 0.601304\n",
      "[10]\tvalid_0's auc: 0.843486\tvalid_0's binary_logloss: 0.595211\n",
      "[11]\tvalid_0's auc: 0.84729\tvalid_0's binary_logloss: 0.58847\n",
      "[12]\tvalid_0's auc: 0.846213\tvalid_0's binary_logloss: 0.583023\n",
      "[13]\tvalid_0's auc: 0.861953\tvalid_0's binary_logloss: 0.573294\n",
      "[14]\tvalid_0's auc: 0.869142\tvalid_0's binary_logloss: 0.564896\n",
      "[15]\tvalid_0's auc: 0.868379\tvalid_0's binary_logloss: 0.560285\n",
      "[16]\tvalid_0's auc: 0.875588\tvalid_0's binary_logloss: 0.552203\n",
      "[17]\tvalid_0's auc: 0.8751\tvalid_0's binary_logloss: 0.54813\n",
      "[18]\tvalid_0's auc: 0.879758\tvalid_0's binary_logloss: 0.540962\n",
      "[19]\tvalid_0's auc: 0.878862\tvalid_0's binary_logloss: 0.537128\n",
      "[20]\tvalid_0's auc: 0.885412\tvalid_0's binary_logloss: 0.529677\n",
      "[21]\tvalid_0's auc: 0.891013\tvalid_0's binary_logloss: 0.522411\n",
      "[22]\tvalid_0's auc: 0.889767\tvalid_0's binary_logloss: 0.519032\n",
      "[23]\tvalid_0's auc: 0.894288\tvalid_0's binary_logloss: 0.51248\n",
      "[24]\tvalid_0's auc: 0.899486\tvalid_0's binary_logloss: 0.505825\n",
      "[25]\tvalid_0's auc: 0.905689\tvalid_0's binary_logloss: 0.497985\n",
      "[26]\tvalid_0's auc: 0.907487\tvalid_0's binary_logloss: 0.493575\n",
      "[27]\tvalid_0's auc: 0.910312\tvalid_0's binary_logloss: 0.48762\n",
      "[28]\tvalid_0's auc: 0.91416\tvalid_0's binary_logloss: 0.481365\n",
      "[29]\tvalid_0's auc: 0.914769\tvalid_0's binary_logloss: 0.477269\n",
      "[30]\tvalid_0's auc: 0.916855\tvalid_0's binary_logloss: 0.471633\n",
      "[31]\tvalid_0's auc: 0.920672\tvalid_0's binary_logloss: 0.465021\n",
      "[32]\tvalid_0's auc: 0.922081\tvalid_0's binary_logloss: 0.460093\n",
      "[33]\tvalid_0's auc: 0.92517\tvalid_0's binary_logloss: 0.454022\n",
      "[34]\tvalid_0's auc: 0.927629\tvalid_0's binary_logloss: 0.448802\n",
      "[35]\tvalid_0's auc: 0.928656\tvalid_0's binary_logloss: 0.444525\n",
      "[36]\tvalid_0's auc: 0.930685\tvalid_0's binary_logloss: 0.439711\n",
      "[37]\tvalid_0's auc: 0.932743\tvalid_0's binary_logloss: 0.434629\n",
      "[38]\tvalid_0's auc: 0.933714\tvalid_0's binary_logloss: 0.430499\n",
      "[39]\tvalid_0's auc: 0.93324\tvalid_0's binary_logloss: 0.428794\n",
      "[40]\tvalid_0's auc: 0.935032\tvalid_0's binary_logloss: 0.424466\n",
      "[41]\tvalid_0's auc: 0.936321\tvalid_0's binary_logloss: 0.420451\n",
      "[42]\tvalid_0's auc: 0.937857\tvalid_0's binary_logloss: 0.416031\n",
      "[43]\tvalid_0's auc: 0.939904\tvalid_0's binary_logloss: 0.410897\n",
      "[44]\tvalid_0's auc: 0.940042\tvalid_0's binary_logloss: 0.407768\n",
      "[45]\tvalid_0's auc: 0.940937\tvalid_0's binary_logloss: 0.404337\n",
      "[46]\tvalid_0's auc: 0.941258\tvalid_0's binary_logloss: 0.402435\n",
      "[47]\tvalid_0's auc: 0.942075\tvalid_0's binary_logloss: 0.39928\n",
      "[48]\tvalid_0's auc: 0.942833\tvalid_0's binary_logloss: 0.39605\n",
      "[49]\tvalid_0's auc: 0.942801\tvalid_0's binary_logloss: 0.394257\n",
      "[50]\tvalid_0's auc: 0.943808\tvalid_0's binary_logloss: 0.391053\n",
      "[51]\tvalid_0's auc: 0.944585\tvalid_0's binary_logloss: 0.38757\n",
      "[52]\tvalid_0's auc: 0.944954\tvalid_0's binary_logloss: 0.384862\n",
      "[53]\tvalid_0's auc: 0.945248\tvalid_0's binary_logloss: 0.382249\n",
      "[54]\tvalid_0's auc: 0.94661\tvalid_0's binary_logloss: 0.378226\n",
      "[55]\tvalid_0's auc: 0.946923\tvalid_0's binary_logloss: 0.375867\n",
      "[56]\tvalid_0's auc: 0.94752\tvalid_0's binary_logloss: 0.373192\n",
      "[57]\tvalid_0's auc: 0.947911\tvalid_0's binary_logloss: 0.370429\n",
      "[58]\tvalid_0's auc: 0.948925\tvalid_0's binary_logloss: 0.367016\n",
      "[59]\tvalid_0's auc: 0.949657\tvalid_0's binary_logloss: 0.364405\n",
      "[60]\tvalid_0's auc: 0.9499\tvalid_0's binary_logloss: 0.3627\n",
      "[61]\tvalid_0's auc: 0.950219\tvalid_0's binary_logloss: 0.360128\n",
      "[62]\tvalid_0's auc: 0.950213\tvalid_0's binary_logloss: 0.359049\n",
      "[63]\tvalid_0's auc: 0.950678\tvalid_0's binary_logloss: 0.356705\n",
      "[64]\tvalid_0's auc: 0.951382\tvalid_0's binary_logloss: 0.354128\n",
      "[65]\tvalid_0's auc: 0.951202\tvalid_0's binary_logloss: 0.353282\n",
      "[66]\tvalid_0's auc: 0.952001\tvalid_0's binary_logloss: 0.350332\n",
      "[67]\tvalid_0's auc: 0.95201\tvalid_0's binary_logloss: 0.349431\n",
      "[68]\tvalid_0's auc: 0.952883\tvalid_0's binary_logloss: 0.347227\n",
      "[69]\tvalid_0's auc: 0.953566\tvalid_0's binary_logloss: 0.344504\n",
      "[70]\tvalid_0's auc: 0.95369\tvalid_0's binary_logloss: 0.342672\n",
      "[71]\tvalid_0's auc: 0.954147\tvalid_0's binary_logloss: 0.341273\n",
      "[72]\tvalid_0's auc: 0.95453\tvalid_0's binary_logloss: 0.338949\n",
      "[73]\tvalid_0's auc: 0.954813\tvalid_0's binary_logloss: 0.337854\n",
      "[74]\tvalid_0's auc: 0.954845\tvalid_0's binary_logloss: 0.336353\n",
      "[75]\tvalid_0's auc: 0.955224\tvalid_0's binary_logloss: 0.334431\n",
      "[76]\tvalid_0's auc: 0.955504\tvalid_0's binary_logloss: 0.332302\n",
      "[77]\tvalid_0's auc: 0.9558\tvalid_0's binary_logloss: 0.330567\n",
      "[78]\tvalid_0's auc: 0.956087\tvalid_0's binary_logloss: 0.329618\n",
      "[79]\tvalid_0's auc: 0.956106\tvalid_0's binary_logloss: 0.328405\n",
      "[80]\tvalid_0's auc: 0.956342\tvalid_0's binary_logloss: 0.326393\n",
      "[81]\tvalid_0's auc: 0.956686\tvalid_0's binary_logloss: 0.324542\n",
      "[82]\tvalid_0's auc: 0.956853\tvalid_0's binary_logloss: 0.323184\n",
      "[83]\tvalid_0's auc: 0.956929\tvalid_0's binary_logloss: 0.322428\n",
      "[84]\tvalid_0's auc: 0.95715\tvalid_0's binary_logloss: 0.320602\n",
      "[85]\tvalid_0's auc: 0.957566\tvalid_0's binary_logloss: 0.319215\n",
      "[86]\tvalid_0's auc: 0.957759\tvalid_0's binary_logloss: 0.317847\n",
      "[87]\tvalid_0's auc: 0.95782\tvalid_0's binary_logloss: 0.316988\n",
      "[88]\tvalid_0's auc: 0.958027\tvalid_0's binary_logloss: 0.316103\n",
      "[89]\tvalid_0's auc: 0.958204\tvalid_0's binary_logloss: 0.314595\n",
      "[90]\tvalid_0's auc: 0.958463\tvalid_0's binary_logloss: 0.312954\n",
      "[91]\tvalid_0's auc: 0.958712\tvalid_0's binary_logloss: 0.31175\n",
      "[92]\tvalid_0's auc: 0.95878\tvalid_0's binary_logloss: 0.311236\n",
      "[93]\tvalid_0's auc: 0.959091\tvalid_0's binary_logloss: 0.310417\n",
      "[94]\tvalid_0's auc: 0.959295\tvalid_0's binary_logloss: 0.309226\n",
      "[95]\tvalid_0's auc: 0.959496\tvalid_0's binary_logloss: 0.308075\n",
      "[96]\tvalid_0's auc: 0.95972\tvalid_0's binary_logloss: 0.306495\n",
      "[97]\tvalid_0's auc: 0.959849\tvalid_0's binary_logloss: 0.305376\n",
      "[98]\tvalid_0's auc: 0.960135\tvalid_0's binary_logloss: 0.304437\n",
      "[99]\tvalid_0's auc: 0.960439\tvalid_0's binary_logloss: 0.302776\n",
      "[100]\tvalid_0's auc: 0.961023\tvalid_0's binary_logloss: 0.301195\n",
      "[101]\tvalid_0's auc: 0.961097\tvalid_0's binary_logloss: 0.300629\n",
      "[102]\tvalid_0's auc: 0.961415\tvalid_0's binary_logloss: 0.299716\n",
      "[103]\tvalid_0's auc: 0.961658\tvalid_0's binary_logloss: 0.298595\n",
      "[104]\tvalid_0's auc: 0.961838\tvalid_0's binary_logloss: 0.297268\n",
      "[105]\tvalid_0's auc: 0.96196\tvalid_0's binary_logloss: 0.296714\n",
      "[106]\tvalid_0's auc: 0.962089\tvalid_0's binary_logloss: 0.295818\n",
      "[107]\tvalid_0's auc: 0.962213\tvalid_0's binary_logloss: 0.294929\n",
      "[108]\tvalid_0's auc: 0.962323\tvalid_0's binary_logloss: 0.294147\n",
      "[109]\tvalid_0's auc: 0.96246\tvalid_0's binary_logloss: 0.293614\n",
      "[110]\tvalid_0's auc: 0.962644\tvalid_0's binary_logloss: 0.292966\n",
      "[111]\tvalid_0's auc: 0.96286\tvalid_0's binary_logloss: 0.292363\n",
      "[112]\tvalid_0's auc: 0.962906\tvalid_0's binary_logloss: 0.292116\n",
      "[113]\tvalid_0's auc: 0.963027\tvalid_0's binary_logloss: 0.291298\n",
      "[114]\tvalid_0's auc: 0.963339\tvalid_0's binary_logloss: 0.290158\n",
      "[115]\tvalid_0's auc: 0.963487\tvalid_0's binary_logloss: 0.288852\n",
      "[116]\tvalid_0's auc: 0.963574\tvalid_0's binary_logloss: 0.28818\n",
      "[117]\tvalid_0's auc: 0.963748\tvalid_0's binary_logloss: 0.287526\n",
      "[118]\tvalid_0's auc: 0.963715\tvalid_0's binary_logloss: 0.287148\n",
      "[119]\tvalid_0's auc: 0.963859\tvalid_0's binary_logloss: 0.286288\n",
      "[120]\tvalid_0's auc: 0.964164\tvalid_0's binary_logloss: 0.285433\n",
      "[121]\tvalid_0's auc: 0.96435\tvalid_0's binary_logloss: 0.284155\n",
      "[122]\tvalid_0's auc: 0.964655\tvalid_0's binary_logloss: 0.283471\n",
      "[123]\tvalid_0's auc: 0.964762\tvalid_0's binary_logloss: 0.283067\n",
      "[124]\tvalid_0's auc: 0.964794\tvalid_0's binary_logloss: 0.282515\n",
      "[125]\tvalid_0's auc: 0.96488\tvalid_0's binary_logloss: 0.281769\n",
      "[126]\tvalid_0's auc: 0.965102\tvalid_0's binary_logloss: 0.280844\n",
      "[127]\tvalid_0's auc: 0.965145\tvalid_0's binary_logloss: 0.279736\n",
      "[128]\tvalid_0's auc: 0.965313\tvalid_0's binary_logloss: 0.279172\n",
      "[129]\tvalid_0's auc: 0.965483\tvalid_0's binary_logloss: 0.278675\n",
      "[130]\tvalid_0's auc: 0.965653\tvalid_0's binary_logloss: 0.277954\n",
      "[131]\tvalid_0's auc: 0.965873\tvalid_0's binary_logloss: 0.277152\n",
      "[132]\tvalid_0's auc: 0.965874\tvalid_0's binary_logloss: 0.276286\n",
      "[133]\tvalid_0's auc: 0.966057\tvalid_0's binary_logloss: 0.275455\n",
      "[134]\tvalid_0's auc: 0.966128\tvalid_0's binary_logloss: 0.275122\n",
      "[135]\tvalid_0's auc: 0.966141\tvalid_0's binary_logloss: 0.274412\n",
      "[136]\tvalid_0's auc: 0.966286\tvalid_0's binary_logloss: 0.273719\n",
      "[137]\tvalid_0's auc: 0.966397\tvalid_0's binary_logloss: 0.27306\n",
      "[138]\tvalid_0's auc: 0.966482\tvalid_0's binary_logloss: 0.272733\n",
      "[139]\tvalid_0's auc: 0.966629\tvalid_0's binary_logloss: 0.272068\n",
      "[140]\tvalid_0's auc: 0.96661\tvalid_0's binary_logloss: 0.271604\n",
      "[141]\tvalid_0's auc: 0.966774\tvalid_0's binary_logloss: 0.270979\n",
      "[142]\tvalid_0's auc: 0.966911\tvalid_0's binary_logloss: 0.270229\n",
      "[143]\tvalid_0's auc: 0.966964\tvalid_0's binary_logloss: 0.269611\n",
      "[144]\tvalid_0's auc: 0.967077\tvalid_0's binary_logloss: 0.2694\n",
      "[145]\tvalid_0's auc: 0.967082\tvalid_0's binary_logloss: 0.268972\n",
      "[146]\tvalid_0's auc: 0.96714\tvalid_0's binary_logloss: 0.268262\n",
      "[147]\tvalid_0's auc: 0.967157\tvalid_0's binary_logloss: 0.267971\n",
      "[148]\tvalid_0's auc: 0.967254\tvalid_0's binary_logloss: 0.267432\n",
      "[149]\tvalid_0's auc: 0.967334\tvalid_0's binary_logloss: 0.266532\n",
      "[150]\tvalid_0's auc: 0.96745\tvalid_0's binary_logloss: 0.266088\n",
      "[151]\tvalid_0's auc: 0.967559\tvalid_0's binary_logloss: 0.265409\n",
      "[152]\tvalid_0's auc: 0.967573\tvalid_0's binary_logloss: 0.265206\n",
      "[153]\tvalid_0's auc: 0.967778\tvalid_0's binary_logloss: 0.264345\n",
      "[154]\tvalid_0's auc: 0.968026\tvalid_0's binary_logloss: 0.263502\n",
      "[155]\tvalid_0's auc: 0.968737\tvalid_0's binary_logloss: 0.261355\n",
      "[156]\tvalid_0's auc: 0.968778\tvalid_0's binary_logloss: 0.260998\n",
      "[157]\tvalid_0's auc: 0.968934\tvalid_0's binary_logloss: 0.260349\n",
      "[158]\tvalid_0's auc: 0.968945\tvalid_0's binary_logloss: 0.260152\n",
      "[159]\tvalid_0's auc: 0.969219\tvalid_0's binary_logloss: 0.25925\n",
      "[160]\tvalid_0's auc: 0.969398\tvalid_0's binary_logloss: 0.258485\n",
      "[161]\tvalid_0's auc: 0.96947\tvalid_0's binary_logloss: 0.25804\n",
      "[162]\tvalid_0's auc: 0.969444\tvalid_0's binary_logloss: 0.257694\n",
      "[163]\tvalid_0's auc: 0.969626\tvalid_0's binary_logloss: 0.257066\n",
      "[164]\tvalid_0's auc: 0.969739\tvalid_0's binary_logloss: 0.256633\n",
      "[165]\tvalid_0's auc: 0.969875\tvalid_0's binary_logloss: 0.256269\n",
      "[166]\tvalid_0's auc: 0.970486\tvalid_0's binary_logloss: 0.254332\n",
      "[167]\tvalid_0's auc: 0.970565\tvalid_0's binary_logloss: 0.253766\n",
      "[168]\tvalid_0's auc: 0.970613\tvalid_0's binary_logloss: 0.253272\n",
      "[169]\tvalid_0's auc: 0.97062\tvalid_0's binary_logloss: 0.253093\n",
      "[170]\tvalid_0's auc: 0.970853\tvalid_0's binary_logloss: 0.252173\n",
      "[171]\tvalid_0's auc: 0.970897\tvalid_0's binary_logloss: 0.251812\n",
      "[172]\tvalid_0's auc: 0.971008\tvalid_0's binary_logloss: 0.251304\n",
      "[173]\tvalid_0's auc: 0.97108\tvalid_0's binary_logloss: 0.250889\n",
      "[174]\tvalid_0's auc: 0.971093\tvalid_0's binary_logloss: 0.250503\n",
      "[175]\tvalid_0's auc: 0.97129\tvalid_0's binary_logloss: 0.249877\n",
      "[176]\tvalid_0's auc: 0.971473\tvalid_0's binary_logloss: 0.249257\n",
      "[177]\tvalid_0's auc: 0.971583\tvalid_0's binary_logloss: 0.248885\n",
      "[178]\tvalid_0's auc: 0.971671\tvalid_0's binary_logloss: 0.248425\n",
      "[179]\tvalid_0's auc: 0.971745\tvalid_0's binary_logloss: 0.248106\n",
      "[180]\tvalid_0's auc: 0.971726\tvalid_0's binary_logloss: 0.248008\n",
      "[181]\tvalid_0's auc: 0.971716\tvalid_0's binary_logloss: 0.247685\n",
      "[182]\tvalid_0's auc: 0.97186\tvalid_0's binary_logloss: 0.246842\n",
      "[183]\tvalid_0's auc: 0.971944\tvalid_0's binary_logloss: 0.246082\n",
      "[184]\tvalid_0's auc: 0.971969\tvalid_0's binary_logloss: 0.245654\n",
      "[185]\tvalid_0's auc: 0.971957\tvalid_0's binary_logloss: 0.245352\n",
      "[186]\tvalid_0's auc: 0.972098\tvalid_0's binary_logloss: 0.244541\n",
      "[187]\tvalid_0's auc: 0.972127\tvalid_0's binary_logloss: 0.244222\n",
      "[188]\tvalid_0's auc: 0.972196\tvalid_0's binary_logloss: 0.243833\n",
      "[189]\tvalid_0's auc: 0.972249\tvalid_0's binary_logloss: 0.243233\n",
      "[190]\tvalid_0's auc: 0.972404\tvalid_0's binary_logloss: 0.242799\n",
      "[191]\tvalid_0's auc: 0.972583\tvalid_0's binary_logloss: 0.242138\n",
      "[192]\tvalid_0's auc: 0.97262\tvalid_0's binary_logloss: 0.241891\n",
      "[193]\tvalid_0's auc: 0.97259\tvalid_0's binary_logloss: 0.241516\n",
      "[194]\tvalid_0's auc: 0.972729\tvalid_0's binary_logloss: 0.241175\n",
      "[195]\tvalid_0's auc: 0.972824\tvalid_0's binary_logloss: 0.240743\n",
      "[196]\tvalid_0's auc: 0.9729\tvalid_0's binary_logloss: 0.240038\n",
      "[197]\tvalid_0's auc: 0.97291\tvalid_0's binary_logloss: 0.239764\n",
      "[198]\tvalid_0's auc: 0.973355\tvalid_0's binary_logloss: 0.238084\n",
      "[199]\tvalid_0's auc: 0.973373\tvalid_0's binary_logloss: 0.237981\n",
      "[200]\tvalid_0's auc: 0.973447\tvalid_0's binary_logloss: 0.237757\n",
      "[201]\tvalid_0's auc: 0.97359\tvalid_0's binary_logloss: 0.237117\n",
      "[202]\tvalid_0's auc: 0.973932\tvalid_0's binary_logloss: 0.235828\n",
      "[203]\tvalid_0's auc: 0.973999\tvalid_0's binary_logloss: 0.235466\n",
      "[204]\tvalid_0's auc: 0.974126\tvalid_0's binary_logloss: 0.234992\n",
      "[205]\tvalid_0's auc: 0.974101\tvalid_0's binary_logloss: 0.234857\n",
      "[206]\tvalid_0's auc: 0.974152\tvalid_0's binary_logloss: 0.234509\n",
      "[207]\tvalid_0's auc: 0.974175\tvalid_0's binary_logloss: 0.234225\n",
      "[208]\tvalid_0's auc: 0.974265\tvalid_0's binary_logloss: 0.233874\n",
      "[209]\tvalid_0's auc: 0.974321\tvalid_0's binary_logloss: 0.23346\n",
      "[210]\tvalid_0's auc: 0.974322\tvalid_0's binary_logloss: 0.233269\n",
      "[211]\tvalid_0's auc: 0.974443\tvalid_0's binary_logloss: 0.232834\n",
      "[212]\tvalid_0's auc: 0.97457\tvalid_0's binary_logloss: 0.232157\n",
      "[213]\tvalid_0's auc: 0.97461\tvalid_0's binary_logloss: 0.231889\n",
      "[214]\tvalid_0's auc: 0.974679\tvalid_0's binary_logloss: 0.231456\n",
      "[215]\tvalid_0's auc: 0.974696\tvalid_0's binary_logloss: 0.231348\n",
      "[216]\tvalid_0's auc: 0.974717\tvalid_0's binary_logloss: 0.231019\n",
      "[217]\tvalid_0's auc: 0.974736\tvalid_0's binary_logloss: 0.230711\n",
      "[218]\tvalid_0's auc: 0.974907\tvalid_0's binary_logloss: 0.229504\n",
      "[219]\tvalid_0's auc: 0.97491\tvalid_0's binary_logloss: 0.229419\n",
      "[220]\tvalid_0's auc: 0.974982\tvalid_0's binary_logloss: 0.228903\n",
      "[221]\tvalid_0's auc: 0.975061\tvalid_0's binary_logloss: 0.228472\n",
      "[222]\tvalid_0's auc: 0.975159\tvalid_0's binary_logloss: 0.228073\n",
      "[223]\tvalid_0's auc: 0.975213\tvalid_0's binary_logloss: 0.227732\n",
      "[224]\tvalid_0's auc: 0.975338\tvalid_0's binary_logloss: 0.227282\n",
      "[225]\tvalid_0's auc: 0.975379\tvalid_0's binary_logloss: 0.226987\n",
      "[226]\tvalid_0's auc: 0.975419\tvalid_0's binary_logloss: 0.226676\n",
      "[227]\tvalid_0's auc: 0.975516\tvalid_0's binary_logloss: 0.225691\n",
      "[228]\tvalid_0's auc: 0.975604\tvalid_0's binary_logloss: 0.225234\n",
      "[229]\tvalid_0's auc: 0.975684\tvalid_0's binary_logloss: 0.224827\n",
      "[230]\tvalid_0's auc: 0.975699\tvalid_0's binary_logloss: 0.224672\n",
      "[231]\tvalid_0's auc: 0.975783\tvalid_0's binary_logloss: 0.224347\n",
      "[232]\tvalid_0's auc: 0.975847\tvalid_0's binary_logloss: 0.224115\n",
      "[233]\tvalid_0's auc: 0.975977\tvalid_0's binary_logloss: 0.22374\n",
      "[234]\tvalid_0's auc: 0.97598\tvalid_0's binary_logloss: 0.223496\n",
      "[235]\tvalid_0's auc: 0.976013\tvalid_0's binary_logloss: 0.223287\n",
      "[236]\tvalid_0's auc: 0.976019\tvalid_0's binary_logloss: 0.223068\n",
      "[237]\tvalid_0's auc: 0.976086\tvalid_0's binary_logloss: 0.22282\n",
      "[238]\tvalid_0's auc: 0.976125\tvalid_0's binary_logloss: 0.222474\n",
      "[239]\tvalid_0's auc: 0.976155\tvalid_0's binary_logloss: 0.222209\n",
      "[240]\tvalid_0's auc: 0.976168\tvalid_0's binary_logloss: 0.221947\n",
      "[241]\tvalid_0's auc: 0.976233\tvalid_0's binary_logloss: 0.221561\n",
      "[242]\tvalid_0's auc: 0.976362\tvalid_0's binary_logloss: 0.22109\n",
      "[243]\tvalid_0's auc: 0.976368\tvalid_0's binary_logloss: 0.220924\n",
      "[244]\tvalid_0's auc: 0.97648\tvalid_0's binary_logloss: 0.22048\n",
      "[245]\tvalid_0's auc: 0.97648\tvalid_0's binary_logloss: 0.220254\n",
      "[246]\tvalid_0's auc: 0.976576\tvalid_0's binary_logloss: 0.219929\n",
      "[247]\tvalid_0's auc: 0.976707\tvalid_0's binary_logloss: 0.219392\n",
      "[248]\tvalid_0's auc: 0.976729\tvalid_0's binary_logloss: 0.219176\n",
      "[249]\tvalid_0's auc: 0.976787\tvalid_0's binary_logloss: 0.218856\n",
      "[250]\tvalid_0's auc: 0.977032\tvalid_0's binary_logloss: 0.217856\n",
      "[251]\tvalid_0's auc: 0.977082\tvalid_0's binary_logloss: 0.217478\n",
      "[252]\tvalid_0's auc: 0.977146\tvalid_0's binary_logloss: 0.217098\n",
      "[253]\tvalid_0's auc: 0.977258\tvalid_0's binary_logloss: 0.216757\n",
      "[254]\tvalid_0's auc: 0.977274\tvalid_0's binary_logloss: 0.21655\n",
      "[255]\tvalid_0's auc: 0.977279\tvalid_0's binary_logloss: 0.216248\n",
      "[256]\tvalid_0's auc: 0.977341\tvalid_0's binary_logloss: 0.216016\n",
      "[257]\tvalid_0's auc: 0.977353\tvalid_0's binary_logloss: 0.215727\n",
      "[258]\tvalid_0's auc: 0.977405\tvalid_0's binary_logloss: 0.215396\n",
      "[259]\tvalid_0's auc: 0.977535\tvalid_0's binary_logloss: 0.2149\n",
      "[260]\tvalid_0's auc: 0.977567\tvalid_0's binary_logloss: 0.214566\n",
      "[261]\tvalid_0's auc: 0.977697\tvalid_0's binary_logloss: 0.214083\n",
      "[262]\tvalid_0's auc: 0.977758\tvalid_0's binary_logloss: 0.213806\n",
      "[263]\tvalid_0's auc: 0.977847\tvalid_0's binary_logloss: 0.213459\n",
      "[264]\tvalid_0's auc: 0.977871\tvalid_0's binary_logloss: 0.213354\n",
      "[265]\tvalid_0's auc: 0.977948\tvalid_0's binary_logloss: 0.212999\n",
      "[266]\tvalid_0's auc: 0.977978\tvalid_0's binary_logloss: 0.212758\n",
      "[267]\tvalid_0's auc: 0.977968\tvalid_0's binary_logloss: 0.212611\n",
      "[268]\tvalid_0's auc: 0.978047\tvalid_0's binary_logloss: 0.212371\n",
      "[269]\tvalid_0's auc: 0.978072\tvalid_0's binary_logloss: 0.212116\n",
      "[270]\tvalid_0's auc: 0.978173\tvalid_0's binary_logloss: 0.211745\n",
      "[271]\tvalid_0's auc: 0.978262\tvalid_0's binary_logloss: 0.211306\n",
      "[272]\tvalid_0's auc: 0.978299\tvalid_0's binary_logloss: 0.210848\n",
      "[273]\tvalid_0's auc: 0.97833\tvalid_0's binary_logloss: 0.210629\n",
      "[274]\tvalid_0's auc: 0.978414\tvalid_0's binary_logloss: 0.210293\n",
      "[275]\tvalid_0's auc: 0.978495\tvalid_0's binary_logloss: 0.209977\n",
      "[276]\tvalid_0's auc: 0.97862\tvalid_0's binary_logloss: 0.209497\n",
      "[277]\tvalid_0's auc: 0.978641\tvalid_0's binary_logloss: 0.209235\n",
      "[278]\tvalid_0's auc: 0.978669\tvalid_0's binary_logloss: 0.20913\n",
      "[279]\tvalid_0's auc: 0.97864\tvalid_0's binary_logloss: 0.209034\n",
      "[280]\tvalid_0's auc: 0.978677\tvalid_0's binary_logloss: 0.208761\n",
      "[281]\tvalid_0's auc: 0.9787\tvalid_0's binary_logloss: 0.208526\n",
      "[282]\tvalid_0's auc: 0.978764\tvalid_0's binary_logloss: 0.208241\n",
      "[283]\tvalid_0's auc: 0.97875\tvalid_0's binary_logloss: 0.207979\n",
      "[284]\tvalid_0's auc: 0.978756\tvalid_0's binary_logloss: 0.207732\n",
      "[285]\tvalid_0's auc: 0.978836\tvalid_0's binary_logloss: 0.207321\n",
      "[286]\tvalid_0's auc: 0.978868\tvalid_0's binary_logloss: 0.207164\n",
      "[287]\tvalid_0's auc: 0.978895\tvalid_0's binary_logloss: 0.206925\n",
      "[288]\tvalid_0's auc: 0.978899\tvalid_0's binary_logloss: 0.206829\n",
      "[289]\tvalid_0's auc: 0.978954\tvalid_0's binary_logloss: 0.206481\n",
      "[290]\tvalid_0's auc: 0.978998\tvalid_0's binary_logloss: 0.206181\n",
      "[291]\tvalid_0's auc: 0.979075\tvalid_0's binary_logloss: 0.205734\n",
      "[292]\tvalid_0's auc: 0.97907\tvalid_0's binary_logloss: 0.205679\n",
      "[293]\tvalid_0's auc: 0.979108\tvalid_0's binary_logloss: 0.205481\n",
      "[294]\tvalid_0's auc: 0.979062\tvalid_0's binary_logloss: 0.205472\n",
      "[295]\tvalid_0's auc: 0.979111\tvalid_0's binary_logloss: 0.205211\n",
      "[296]\tvalid_0's auc: 0.979141\tvalid_0's binary_logloss: 0.205011\n",
      "[297]\tvalid_0's auc: 0.979086\tvalid_0's binary_logloss: 0.205057\n",
      "[298]\tvalid_0's auc: 0.979087\tvalid_0's binary_logloss: 0.204918\n",
      "[299]\tvalid_0's auc: 0.979106\tvalid_0's binary_logloss: 0.204736\n",
      "[300]\tvalid_0's auc: 0.979117\tvalid_0's binary_logloss: 0.204601\n",
      "[301]\tvalid_0's auc: 0.97917\tvalid_0's binary_logloss: 0.204277\n",
      "[302]\tvalid_0's auc: 0.979209\tvalid_0's binary_logloss: 0.204049\n",
      "[303]\tvalid_0's auc: 0.97943\tvalid_0's binary_logloss: 0.203199\n",
      "[304]\tvalid_0's auc: 0.979448\tvalid_0's binary_logloss: 0.202885\n",
      "[305]\tvalid_0's auc: 0.97954\tvalid_0's binary_logloss: 0.202375\n",
      "[306]\tvalid_0's auc: 0.979562\tvalid_0's binary_logloss: 0.20226\n",
      "[307]\tvalid_0's auc: 0.97962\tvalid_0's binary_logloss: 0.201962\n",
      "[308]\tvalid_0's auc: 0.979594\tvalid_0's binary_logloss: 0.201889\n",
      "[309]\tvalid_0's auc: 0.979616\tvalid_0's binary_logloss: 0.201673\n",
      "[310]\tvalid_0's auc: 0.979667\tvalid_0's binary_logloss: 0.201259\n",
      "[311]\tvalid_0's auc: 0.979854\tvalid_0's binary_logloss: 0.200471\n",
      "[312]\tvalid_0's auc: 0.979883\tvalid_0's binary_logloss: 0.200214\n",
      "[313]\tvalid_0's auc: 0.979954\tvalid_0's binary_logloss: 0.199968\n",
      "[314]\tvalid_0's auc: 0.98007\tvalid_0's binary_logloss: 0.199261\n",
      "[315]\tvalid_0's auc: 0.980231\tvalid_0's binary_logloss: 0.198397\n",
      "[316]\tvalid_0's auc: 0.980258\tvalid_0's binary_logloss: 0.198019\n",
      "[317]\tvalid_0's auc: 0.980271\tvalid_0's binary_logloss: 0.197624\n",
      "[318]\tvalid_0's auc: 0.980274\tvalid_0's binary_logloss: 0.197508\n",
      "[319]\tvalid_0's auc: 0.98028\tvalid_0's binary_logloss: 0.197312\n",
      "[320]\tvalid_0's auc: 0.980287\tvalid_0's binary_logloss: 0.197198\n",
      "[321]\tvalid_0's auc: 0.980368\tvalid_0's binary_logloss: 0.196888\n",
      "[322]\tvalid_0's auc: 0.980355\tvalid_0's binary_logloss: 0.196786\n",
      "[323]\tvalid_0's auc: 0.980372\tvalid_0's binary_logloss: 0.196549\n",
      "[324]\tvalid_0's auc: 0.980414\tvalid_0's binary_logloss: 0.196365\n",
      "[325]\tvalid_0's auc: 0.980371\tvalid_0's binary_logloss: 0.196376\n",
      "[326]\tvalid_0's auc: 0.980358\tvalid_0's binary_logloss: 0.196144\n",
      "[327]\tvalid_0's auc: 0.980413\tvalid_0's binary_logloss: 0.195877\n",
      "[328]\tvalid_0's auc: 0.980402\tvalid_0's binary_logloss: 0.19583\n",
      "[329]\tvalid_0's auc: 0.98046\tvalid_0's binary_logloss: 0.195537\n",
      "[330]\tvalid_0's auc: 0.980481\tvalid_0's binary_logloss: 0.195319\n",
      "[331]\tvalid_0's auc: 0.980479\tvalid_0's binary_logloss: 0.195169\n",
      "[332]\tvalid_0's auc: 0.980541\tvalid_0's binary_logloss: 0.194733\n",
      "[333]\tvalid_0's auc: 0.980554\tvalid_0's binary_logloss: 0.194572\n",
      "[334]\tvalid_0's auc: 0.980563\tvalid_0's binary_logloss: 0.194384\n",
      "[335]\tvalid_0's auc: 0.980554\tvalid_0's binary_logloss: 0.194292\n",
      "[336]\tvalid_0's auc: 0.980581\tvalid_0's binary_logloss: 0.194183\n",
      "[337]\tvalid_0's auc: 0.980627\tvalid_0's binary_logloss: 0.193944\n",
      "[338]\tvalid_0's auc: 0.980717\tvalid_0's binary_logloss: 0.193383\n",
      "[339]\tvalid_0's auc: 0.980705\tvalid_0's binary_logloss: 0.193344\n",
      "[340]\tvalid_0's auc: 0.980715\tvalid_0's binary_logloss: 0.193209\n",
      "[341]\tvalid_0's auc: 0.980736\tvalid_0's binary_logloss: 0.19301\n",
      "[342]\tvalid_0's auc: 0.980738\tvalid_0's binary_logloss: 0.192965\n",
      "[343]\tvalid_0's auc: 0.980775\tvalid_0's binary_logloss: 0.192809\n",
      "[344]\tvalid_0's auc: 0.980798\tvalid_0's binary_logloss: 0.192417\n",
      "[345]\tvalid_0's auc: 0.980785\tvalid_0's binary_logloss: 0.192148\n",
      "[346]\tvalid_0's auc: 0.980824\tvalid_0's binary_logloss: 0.191953\n",
      "[347]\tvalid_0's auc: 0.980905\tvalid_0's binary_logloss: 0.191489\n",
      "[348]\tvalid_0's auc: 0.980995\tvalid_0's binary_logloss: 0.190931\n",
      "[349]\tvalid_0's auc: 0.981002\tvalid_0's binary_logloss: 0.190901\n",
      "[350]\tvalid_0's auc: 0.980993\tvalid_0's binary_logloss: 0.190641\n",
      "[351]\tvalid_0's auc: 0.980988\tvalid_0's binary_logloss: 0.190388\n",
      "[352]\tvalid_0's auc: 0.980989\tvalid_0's binary_logloss: 0.190292\n",
      "[353]\tvalid_0's auc: 0.981054\tvalid_0's binary_logloss: 0.189953\n",
      "[354]\tvalid_0's auc: 0.981079\tvalid_0's binary_logloss: 0.189808\n",
      "[355]\tvalid_0's auc: 0.981084\tvalid_0's binary_logloss: 0.189743\n",
      "[356]\tvalid_0's auc: 0.981099\tvalid_0's binary_logloss: 0.189476\n",
      "[357]\tvalid_0's auc: 0.981137\tvalid_0's binary_logloss: 0.189351\n",
      "[358]\tvalid_0's auc: 0.981131\tvalid_0's binary_logloss: 0.189217\n",
      "[359]\tvalid_0's auc: 0.981159\tvalid_0's binary_logloss: 0.188975\n",
      "[360]\tvalid_0's auc: 0.981212\tvalid_0's binary_logloss: 0.188763\n",
      "[361]\tvalid_0's auc: 0.981196\tvalid_0's binary_logloss: 0.188722\n",
      "[362]\tvalid_0's auc: 0.981246\tvalid_0's binary_logloss: 0.188556\n",
      "[363]\tvalid_0's auc: 0.981299\tvalid_0's binary_logloss: 0.188248\n",
      "[364]\tvalid_0's auc: 0.981315\tvalid_0's binary_logloss: 0.188077\n",
      "[365]\tvalid_0's auc: 0.981347\tvalid_0's binary_logloss: 0.187911\n",
      "[366]\tvalid_0's auc: 0.981378\tvalid_0's binary_logloss: 0.187756\n",
      "[367]\tvalid_0's auc: 0.981385\tvalid_0's binary_logloss: 0.187658\n",
      "[368]\tvalid_0's auc: 0.98142\tvalid_0's binary_logloss: 0.187444\n",
      "[369]\tvalid_0's auc: 0.981403\tvalid_0's binary_logloss: 0.187402\n",
      "[370]\tvalid_0's auc: 0.981397\tvalid_0's binary_logloss: 0.187292\n",
      "[371]\tvalid_0's auc: 0.981451\tvalid_0's binary_logloss: 0.18702\n",
      "[372]\tvalid_0's auc: 0.981477\tvalid_0's binary_logloss: 0.186829\n",
      "[373]\tvalid_0's auc: 0.981483\tvalid_0's binary_logloss: 0.186665\n",
      "[374]\tvalid_0's auc: 0.98148\tvalid_0's binary_logloss: 0.186577\n",
      "[375]\tvalid_0's auc: 0.981518\tvalid_0's binary_logloss: 0.186301\n",
      "[376]\tvalid_0's auc: 0.981538\tvalid_0's binary_logloss: 0.186121\n",
      "[377]\tvalid_0's auc: 0.98158\tvalid_0's binary_logloss: 0.185878\n",
      "[378]\tvalid_0's auc: 0.981581\tvalid_0's binary_logloss: 0.185737\n",
      "[379]\tvalid_0's auc: 0.981561\tvalid_0's binary_logloss: 0.185707\n",
      "[380]\tvalid_0's auc: 0.981551\tvalid_0's binary_logloss: 0.185702\n",
      "[381]\tvalid_0's auc: 0.98157\tvalid_0's binary_logloss: 0.185561\n",
      "[382]\tvalid_0's auc: 0.981599\tvalid_0's binary_logloss: 0.185389\n",
      "[383]\tvalid_0's auc: 0.981582\tvalid_0's binary_logloss: 0.185305\n",
      "[384]\tvalid_0's auc: 0.981594\tvalid_0's binary_logloss: 0.185187\n",
      "[385]\tvalid_0's auc: 0.981576\tvalid_0's binary_logloss: 0.185177\n",
      "[386]\tvalid_0's auc: 0.981577\tvalid_0's binary_logloss: 0.185136\n",
      "[387]\tvalid_0's auc: 0.981637\tvalid_0's binary_logloss: 0.184729\n",
      "[388]\tvalid_0's auc: 0.981622\tvalid_0's binary_logloss: 0.184585\n",
      "[389]\tvalid_0's auc: 0.981621\tvalid_0's binary_logloss: 0.184343\n",
      "[390]\tvalid_0's auc: 0.981584\tvalid_0's binary_logloss: 0.184398\n",
      "[391]\tvalid_0's auc: 0.981605\tvalid_0's binary_logloss: 0.184214\n",
      "[392]\tvalid_0's auc: 0.98166\tvalid_0's binary_logloss: 0.183872\n",
      "[393]\tvalid_0's auc: 0.981681\tvalid_0's binary_logloss: 0.183762\n",
      "[394]\tvalid_0's auc: 0.981734\tvalid_0's binary_logloss: 0.183546\n",
      "[395]\tvalid_0's auc: 0.981748\tvalid_0's binary_logloss: 0.183354\n",
      "[396]\tvalid_0's auc: 0.981791\tvalid_0's binary_logloss: 0.183043\n",
      "[397]\tvalid_0's auc: 0.981804\tvalid_0's binary_logloss: 0.182889\n",
      "[398]\tvalid_0's auc: 0.981811\tvalid_0's binary_logloss: 0.182681\n",
      "[399]\tvalid_0's auc: 0.981823\tvalid_0's binary_logloss: 0.18259\n",
      "[400]\tvalid_0's auc: 0.981822\tvalid_0's binary_logloss: 0.182523\n",
      "[401]\tvalid_0's auc: 0.981812\tvalid_0's binary_logloss: 0.1825\n",
      "[402]\tvalid_0's auc: 0.981794\tvalid_0's binary_logloss: 0.182445\n",
      "[403]\tvalid_0's auc: 0.981839\tvalid_0's binary_logloss: 0.18222\n",
      "[404]\tvalid_0's auc: 0.981871\tvalid_0's binary_logloss: 0.181967\n",
      "[405]\tvalid_0's auc: 0.981859\tvalid_0's binary_logloss: 0.18183\n",
      "[406]\tvalid_0's auc: 0.981816\tvalid_0's binary_logloss: 0.181838\n",
      "[407]\tvalid_0's auc: 0.981847\tvalid_0's binary_logloss: 0.181626\n",
      "[408]\tvalid_0's auc: 0.98182\tvalid_0's binary_logloss: 0.181646\n",
      "[409]\tvalid_0's auc: 0.981825\tvalid_0's binary_logloss: 0.181517\n",
      "[410]\tvalid_0's auc: 0.981855\tvalid_0's binary_logloss: 0.181372\n",
      "[411]\tvalid_0's auc: 0.981917\tvalid_0's binary_logloss: 0.181129\n",
      "[412]\tvalid_0's auc: 0.981912\tvalid_0's binary_logloss: 0.181033\n",
      "[413]\tvalid_0's auc: 0.981935\tvalid_0's binary_logloss: 0.180922\n",
      "[414]\tvalid_0's auc: 0.98193\tvalid_0's binary_logloss: 0.18082\n",
      "[415]\tvalid_0's auc: 0.981978\tvalid_0's binary_logloss: 0.180524\n",
      "[416]\tvalid_0's auc: 0.981934\tvalid_0's binary_logloss: 0.180568\n",
      "[417]\tvalid_0's auc: 0.981914\tvalid_0's binary_logloss: 0.180473\n",
      "[418]\tvalid_0's auc: 0.981945\tvalid_0's binary_logloss: 0.180344\n",
      "[419]\tvalid_0's auc: 0.981977\tvalid_0's binary_logloss: 0.180136\n",
      "[420]\tvalid_0's auc: 0.982008\tvalid_0's binary_logloss: 0.179949\n",
      "[421]\tvalid_0's auc: 0.982027\tvalid_0's binary_logloss: 0.179876\n",
      "[422]\tvalid_0's auc: 0.982006\tvalid_0's binary_logloss: 0.179822\n",
      "[423]\tvalid_0's auc: 0.982022\tvalid_0's binary_logloss: 0.179644\n",
      "[424]\tvalid_0's auc: 0.982002\tvalid_0's binary_logloss: 0.179641\n",
      "[425]\tvalid_0's auc: 0.981994\tvalid_0's binary_logloss: 0.179575\n",
      "[426]\tvalid_0's auc: 0.982005\tvalid_0's binary_logloss: 0.179497\n",
      "[427]\tvalid_0's auc: 0.982005\tvalid_0's binary_logloss: 0.179494\n",
      "[428]\tvalid_0's auc: 0.982011\tvalid_0's binary_logloss: 0.179463\n",
      "[429]\tvalid_0's auc: 0.982072\tvalid_0's binary_logloss: 0.179278\n",
      "[430]\tvalid_0's auc: 0.982067\tvalid_0's binary_logloss: 0.179183\n",
      "[431]\tvalid_0's auc: 0.982073\tvalid_0's binary_logloss: 0.179078\n",
      "[432]\tvalid_0's auc: 0.982059\tvalid_0's binary_logloss: 0.178975\n",
      "[433]\tvalid_0's auc: 0.982062\tvalid_0's binary_logloss: 0.178926\n",
      "[434]\tvalid_0's auc: 0.982077\tvalid_0's binary_logloss: 0.178796\n",
      "[435]\tvalid_0's auc: 0.982067\tvalid_0's binary_logloss: 0.178746\n",
      "[436]\tvalid_0's auc: 0.982112\tvalid_0's binary_logloss: 0.178561\n",
      "[437]\tvalid_0's auc: 0.982137\tvalid_0's binary_logloss: 0.178424\n",
      "[438]\tvalid_0's auc: 0.982189\tvalid_0's binary_logloss: 0.178275\n",
      "[439]\tvalid_0's auc: 0.98218\tvalid_0's binary_logloss: 0.178016\n",
      "[440]\tvalid_0's auc: 0.98218\tvalid_0's binary_logloss: 0.177926\n",
      "[441]\tvalid_0's auc: 0.982173\tvalid_0's binary_logloss: 0.177855\n",
      "[442]\tvalid_0's auc: 0.982168\tvalid_0's binary_logloss: 0.177833\n",
      "[443]\tvalid_0's auc: 0.982193\tvalid_0's binary_logloss: 0.177686\n",
      "[444]\tvalid_0's auc: 0.982135\tvalid_0's binary_logloss: 0.177751\n",
      "[445]\tvalid_0's auc: 0.98216\tvalid_0's binary_logloss: 0.177628\n",
      "[446]\tvalid_0's auc: 0.982189\tvalid_0's binary_logloss: 0.177439\n",
      "[447]\tvalid_0's auc: 0.982184\tvalid_0's binary_logloss: 0.177398\n",
      "[448]\tvalid_0's auc: 0.982179\tvalid_0's binary_logloss: 0.177292\n",
      "[449]\tvalid_0's auc: 0.98218\tvalid_0's binary_logloss: 0.177225\n",
      "[450]\tvalid_0's auc: 0.982179\tvalid_0's binary_logloss: 0.17716\n",
      "[451]\tvalid_0's auc: 0.982171\tvalid_0's binary_logloss: 0.177105\n",
      "[452]\tvalid_0's auc: 0.982174\tvalid_0's binary_logloss: 0.176958\n",
      "[453]\tvalid_0's auc: 0.982199\tvalid_0's binary_logloss: 0.17683\n",
      "[454]\tvalid_0's auc: 0.982247\tvalid_0's binary_logloss: 0.17653\n",
      "[455]\tvalid_0's auc: 0.982274\tvalid_0's binary_logloss: 0.176442\n",
      "[456]\tvalid_0's auc: 0.982245\tvalid_0's binary_logloss: 0.176448\n",
      "[457]\tvalid_0's auc: 0.982247\tvalid_0's binary_logloss: 0.176421\n",
      "[458]\tvalid_0's auc: 0.982249\tvalid_0's binary_logloss: 0.17632\n",
      "[459]\tvalid_0's auc: 0.982282\tvalid_0's binary_logloss: 0.176105\n",
      "[460]\tvalid_0's auc: 0.982259\tvalid_0's binary_logloss: 0.176031\n",
      "[461]\tvalid_0's auc: 0.98226\tvalid_0's binary_logloss: 0.175943\n",
      "[462]\tvalid_0's auc: 0.982258\tvalid_0's binary_logloss: 0.175893\n",
      "[463]\tvalid_0's auc: 0.982262\tvalid_0's binary_logloss: 0.175779\n",
      "[464]\tvalid_0's auc: 0.982224\tvalid_0's binary_logloss: 0.175824\n",
      "[465]\tvalid_0's auc: 0.982223\tvalid_0's binary_logloss: 0.175712\n",
      "[466]\tvalid_0's auc: 0.982249\tvalid_0's binary_logloss: 0.17545\n",
      "[467]\tvalid_0's auc: 0.982275\tvalid_0's binary_logloss: 0.175318\n",
      "[468]\tvalid_0's auc: 0.982304\tvalid_0's binary_logloss: 0.17519\n",
      "[469]\tvalid_0's auc: 0.982285\tvalid_0's binary_logloss: 0.175189\n",
      "[470]\tvalid_0's auc: 0.982287\tvalid_0's binary_logloss: 0.17508\n",
      "[471]\tvalid_0's auc: 0.982324\tvalid_0's binary_logloss: 0.174883\n",
      "[472]\tvalid_0's auc: 0.982358\tvalid_0's binary_logloss: 0.174697\n",
      "[473]\tvalid_0's auc: 0.982342\tvalid_0's binary_logloss: 0.17471\n",
      "[474]\tvalid_0's auc: 0.982366\tvalid_0's binary_logloss: 0.174609\n",
      "[475]\tvalid_0's auc: 0.982331\tvalid_0's binary_logloss: 0.174614\n",
      "[476]\tvalid_0's auc: 0.982369\tvalid_0's binary_logloss: 0.17431\n",
      "[477]\tvalid_0's auc: 0.982407\tvalid_0's binary_logloss: 0.174053\n",
      "[478]\tvalid_0's auc: 0.982434\tvalid_0's binary_logloss: 0.173956\n",
      "[479]\tvalid_0's auc: 0.982425\tvalid_0's binary_logloss: 0.1739\n",
      "[480]\tvalid_0's auc: 0.982416\tvalid_0's binary_logloss: 0.173861\n",
      "[481]\tvalid_0's auc: 0.982469\tvalid_0's binary_logloss: 0.17358\n",
      "[482]\tvalid_0's auc: 0.98246\tvalid_0's binary_logloss: 0.173535\n",
      "[483]\tvalid_0's auc: 0.982473\tvalid_0's binary_logloss: 0.173411\n",
      "[484]\tvalid_0's auc: 0.982513\tvalid_0's binary_logloss: 0.173255\n",
      "[485]\tvalid_0's auc: 0.982511\tvalid_0's binary_logloss: 0.173248\n",
      "[486]\tvalid_0's auc: 0.98254\tvalid_0's binary_logloss: 0.17297\n",
      "[487]\tvalid_0's auc: 0.982538\tvalid_0's binary_logloss: 0.172913\n",
      "[488]\tvalid_0's auc: 0.982541\tvalid_0's binary_logloss: 0.17287\n",
      "[489]\tvalid_0's auc: 0.982515\tvalid_0's binary_logloss: 0.172855\n",
      "[490]\tvalid_0's auc: 0.982513\tvalid_0's binary_logloss: 0.172762\n",
      "[491]\tvalid_0's auc: 0.982559\tvalid_0's binary_logloss: 0.172458\n",
      "[492]\tvalid_0's auc: 0.982536\tvalid_0's binary_logloss: 0.172484\n",
      "[493]\tvalid_0's auc: 0.982514\tvalid_0's binary_logloss: 0.172505\n",
      "[494]\tvalid_0's auc: 0.982517\tvalid_0's binary_logloss: 0.172468\n",
      "[495]\tvalid_0's auc: 0.982508\tvalid_0's binary_logloss: 0.172437\n",
      "[496]\tvalid_0's auc: 0.982538\tvalid_0's binary_logloss: 0.172229\n",
      "[497]\tvalid_0's auc: 0.982553\tvalid_0's binary_logloss: 0.172038\n",
      "[498]\tvalid_0's auc: 0.982536\tvalid_0's binary_logloss: 0.172039\n",
      "[499]\tvalid_0's auc: 0.982515\tvalid_0's binary_logloss: 0.172057\n",
      "[500]\tvalid_0's auc: 0.982511\tvalid_0's binary_logloss: 0.172033\n",
      "[501]\tvalid_0's auc: 0.982508\tvalid_0's binary_logloss: 0.171943\n",
      "[502]\tvalid_0's auc: 0.982521\tvalid_0's binary_logloss: 0.171743\n",
      "[503]\tvalid_0's auc: 0.982496\tvalid_0's binary_logloss: 0.171721\n",
      "[504]\tvalid_0's auc: 0.982514\tvalid_0's binary_logloss: 0.171557\n",
      "[505]\tvalid_0's auc: 0.982532\tvalid_0's binary_logloss: 0.171409\n",
      "[506]\tvalid_0's auc: 0.982524\tvalid_0's binary_logloss: 0.171392\n",
      "[507]\tvalid_0's auc: 0.982554\tvalid_0's binary_logloss: 0.171224\n",
      "[508]\tvalid_0's auc: 0.982601\tvalid_0's binary_logloss: 0.170928\n",
      "[509]\tvalid_0's auc: 0.982637\tvalid_0's binary_logloss: 0.170812\n",
      "[510]\tvalid_0's auc: 0.982662\tvalid_0's binary_logloss: 0.170638\n",
      "[511]\tvalid_0's auc: 0.982648\tvalid_0's binary_logloss: 0.170644\n",
      "[512]\tvalid_0's auc: 0.982653\tvalid_0's binary_logloss: 0.170606\n",
      "[513]\tvalid_0's auc: 0.982649\tvalid_0's binary_logloss: 0.170609\n",
      "[514]\tvalid_0's auc: 0.982668\tvalid_0's binary_logloss: 0.170543\n",
      "[515]\tvalid_0's auc: 0.982665\tvalid_0's binary_logloss: 0.170505\n",
      "[516]\tvalid_0's auc: 0.98263\tvalid_0's binary_logloss: 0.170506\n",
      "[517]\tvalid_0's auc: 0.982614\tvalid_0's binary_logloss: 0.170413\n",
      "[518]\tvalid_0's auc: 0.982657\tvalid_0's binary_logloss: 0.170201\n",
      "[519]\tvalid_0's auc: 0.982694\tvalid_0's binary_logloss: 0.169937\n",
      "[520]\tvalid_0's auc: 0.982661\tvalid_0's binary_logloss: 0.169973\n",
      "[521]\tvalid_0's auc: 0.982673\tvalid_0's binary_logloss: 0.169852\n",
      "[522]\tvalid_0's auc: 0.98267\tvalid_0's binary_logloss: 0.1698\n",
      "[523]\tvalid_0's auc: 0.982664\tvalid_0's binary_logloss: 0.169769\n",
      "[524]\tvalid_0's auc: 0.982659\tvalid_0's binary_logloss: 0.169693\n",
      "[525]\tvalid_0's auc: 0.982652\tvalid_0's binary_logloss: 0.169645\n",
      "[526]\tvalid_0's auc: 0.982647\tvalid_0's binary_logloss: 0.169707\n",
      "[527]\tvalid_0's auc: 0.98267\tvalid_0's binary_logloss: 0.169594\n",
      "[528]\tvalid_0's auc: 0.982678\tvalid_0's binary_logloss: 0.169486\n",
      "[529]\tvalid_0's auc: 0.982694\tvalid_0's binary_logloss: 0.169429\n",
      "[530]\tvalid_0's auc: 0.982727\tvalid_0's binary_logloss: 0.169112\n",
      "[531]\tvalid_0's auc: 0.982755\tvalid_0's binary_logloss: 0.168985\n",
      "[532]\tvalid_0's auc: 0.982758\tvalid_0's binary_logloss: 0.168818\n",
      "[533]\tvalid_0's auc: 0.982759\tvalid_0's binary_logloss: 0.168713\n",
      "[534]\tvalid_0's auc: 0.982784\tvalid_0's binary_logloss: 0.168613\n",
      "[535]\tvalid_0's auc: 0.982832\tvalid_0's binary_logloss: 0.168463\n",
      "[536]\tvalid_0's auc: 0.982822\tvalid_0's binary_logloss: 0.168464\n",
      "[537]\tvalid_0's auc: 0.982833\tvalid_0's binary_logloss: 0.168318\n",
      "[538]\tvalid_0's auc: 0.982825\tvalid_0's binary_logloss: 0.168288\n",
      "[539]\tvalid_0's auc: 0.982852\tvalid_0's binary_logloss: 0.168153\n",
      "[540]\tvalid_0's auc: 0.982825\tvalid_0's binary_logloss: 0.168198\n",
      "[541]\tvalid_0's auc: 0.98285\tvalid_0's binary_logloss: 0.168029\n",
      "[542]\tvalid_0's auc: 0.982852\tvalid_0's binary_logloss: 0.168007\n",
      "[543]\tvalid_0's auc: 0.982867\tvalid_0's binary_logloss: 0.167886\n",
      "[544]\tvalid_0's auc: 0.982893\tvalid_0's binary_logloss: 0.167801\n",
      "[545]\tvalid_0's auc: 0.982916\tvalid_0's binary_logloss: 0.167615\n",
      "[546]\tvalid_0's auc: 0.982911\tvalid_0's binary_logloss: 0.167538\n",
      "[547]\tvalid_0's auc: 0.982923\tvalid_0's binary_logloss: 0.167349\n",
      "[548]\tvalid_0's auc: 0.982953\tvalid_0's binary_logloss: 0.167254\n",
      "[549]\tvalid_0's auc: 0.982937\tvalid_0's binary_logloss: 0.167256\n",
      "[550]\tvalid_0's auc: 0.982925\tvalid_0's binary_logloss: 0.167286\n",
      "[551]\tvalid_0's auc: 0.982936\tvalid_0's binary_logloss: 0.167084\n",
      "[552]\tvalid_0's auc: 0.982945\tvalid_0's binary_logloss: 0.167004\n",
      "[553]\tvalid_0's auc: 0.982939\tvalid_0's binary_logloss: 0.166955\n",
      "[554]\tvalid_0's auc: 0.982933\tvalid_0's binary_logloss: 0.166924\n",
      "[555]\tvalid_0's auc: 0.982968\tvalid_0's binary_logloss: 0.16678\n",
      "[556]\tvalid_0's auc: 0.982944\tvalid_0's binary_logloss: 0.166835\n",
      "[557]\tvalid_0's auc: 0.982952\tvalid_0's binary_logloss: 0.166802\n",
      "[558]\tvalid_0's auc: 0.982952\tvalid_0's binary_logloss: 0.166683\n",
      "[559]\tvalid_0's auc: 0.982958\tvalid_0's binary_logloss: 0.16666\n",
      "[560]\tvalid_0's auc: 0.982926\tvalid_0's binary_logloss: 0.166691\n",
      "[561]\tvalid_0's auc: 0.982927\tvalid_0's binary_logloss: 0.166637\n",
      "[562]\tvalid_0's auc: 0.98295\tvalid_0's binary_logloss: 0.166541\n",
      "[563]\tvalid_0's auc: 0.982984\tvalid_0's binary_logloss: 0.166434\n",
      "[564]\tvalid_0's auc: 0.983003\tvalid_0's binary_logloss: 0.166245\n",
      "[565]\tvalid_0's auc: 0.982991\tvalid_0's binary_logloss: 0.166228\n",
      "[566]\tvalid_0's auc: 0.983001\tvalid_0's binary_logloss: 0.166154\n",
      "[567]\tvalid_0's auc: 0.982969\tvalid_0's binary_logloss: 0.166207\n",
      "[568]\tvalid_0's auc: 0.982958\tvalid_0's binary_logloss: 0.166176\n",
      "[569]\tvalid_0's auc: 0.98298\tvalid_0's binary_logloss: 0.166078\n",
      "[570]\tvalid_0's auc: 0.98301\tvalid_0's binary_logloss: 0.165796\n",
      "[571]\tvalid_0's auc: 0.983001\tvalid_0's binary_logloss: 0.1658\n",
      "[572]\tvalid_0's auc: 0.982999\tvalid_0's binary_logloss: 0.165679\n",
      "[573]\tvalid_0's auc: 0.98301\tvalid_0's binary_logloss: 0.16565\n",
      "[574]\tvalid_0's auc: 0.983033\tvalid_0's binary_logloss: 0.165499\n",
      "[575]\tvalid_0's auc: 0.983024\tvalid_0's binary_logloss: 0.165482\n",
      "[576]\tvalid_0's auc: 0.983048\tvalid_0's binary_logloss: 0.165362\n",
      "[577]\tvalid_0's auc: 0.983067\tvalid_0's binary_logloss: 0.165068\n",
      "[578]\tvalid_0's auc: 0.983072\tvalid_0's binary_logloss: 0.16496\n",
      "[579]\tvalid_0's auc: 0.983083\tvalid_0's binary_logloss: 0.164934\n",
      "[580]\tvalid_0's auc: 0.983071\tvalid_0's binary_logloss: 0.164879\n",
      "[581]\tvalid_0's auc: 0.983067\tvalid_0's binary_logloss: 0.164833\n",
      "[582]\tvalid_0's auc: 0.983069\tvalid_0's binary_logloss: 0.164832\n",
      "[583]\tvalid_0's auc: 0.983053\tvalid_0's binary_logloss: 0.16486\n",
      "[584]\tvalid_0's auc: 0.983047\tvalid_0's binary_logloss: 0.16482\n",
      "[585]\tvalid_0's auc: 0.983027\tvalid_0's binary_logloss: 0.164798\n",
      "[586]\tvalid_0's auc: 0.983016\tvalid_0's binary_logloss: 0.164782\n",
      "[587]\tvalid_0's auc: 0.98301\tvalid_0's binary_logloss: 0.164782\n",
      "[588]\tvalid_0's auc: 0.983007\tvalid_0's binary_logloss: 0.164733\n",
      "[589]\tvalid_0's auc: 0.982987\tvalid_0's binary_logloss: 0.164747\n",
      "[590]\tvalid_0's auc: 0.982993\tvalid_0's binary_logloss: 0.164657\n",
      "[591]\tvalid_0's auc: 0.983025\tvalid_0's binary_logloss: 0.164564\n",
      "[592]\tvalid_0's auc: 0.983085\tvalid_0's binary_logloss: 0.164307\n",
      "[593]\tvalid_0's auc: 0.983099\tvalid_0's binary_logloss: 0.16427\n",
      "[594]\tvalid_0's auc: 0.983074\tvalid_0's binary_logloss: 0.16435\n",
      "[595]\tvalid_0's auc: 0.983067\tvalid_0's binary_logloss: 0.164291\n",
      "[596]\tvalid_0's auc: 0.983068\tvalid_0's binary_logloss: 0.164242\n",
      "[597]\tvalid_0's auc: 0.983061\tvalid_0's binary_logloss: 0.164231\n",
      "[598]\tvalid_0's auc: 0.983094\tvalid_0's binary_logloss: 0.164156\n",
      "[599]\tvalid_0's auc: 0.983101\tvalid_0's binary_logloss: 0.164069\n",
      "[600]\tvalid_0's auc: 0.98313\tvalid_0's binary_logloss: 0.163942\n",
      "[601]\tvalid_0's auc: 0.983116\tvalid_0's binary_logloss: 0.163874\n",
      "[602]\tvalid_0's auc: 0.983128\tvalid_0's binary_logloss: 0.163851\n",
      "[603]\tvalid_0's auc: 0.983148\tvalid_0's binary_logloss: 0.163728\n",
      "[604]\tvalid_0's auc: 0.983148\tvalid_0's binary_logloss: 0.163665\n",
      "[605]\tvalid_0's auc: 0.983108\tvalid_0's binary_logloss: 0.163739\n",
      "[606]\tvalid_0's auc: 0.983126\tvalid_0's binary_logloss: 0.163539\n",
      "[607]\tvalid_0's auc: 0.983124\tvalid_0's binary_logloss: 0.163479\n",
      "[608]\tvalid_0's auc: 0.983088\tvalid_0's binary_logloss: 0.163513\n",
      "[609]\tvalid_0's auc: 0.983077\tvalid_0's binary_logloss: 0.163504\n",
      "[610]\tvalid_0's auc: 0.983088\tvalid_0's binary_logloss: 0.163409\n",
      "[611]\tvalid_0's auc: 0.983079\tvalid_0's binary_logloss: 0.163396\n",
      "[612]\tvalid_0's auc: 0.98309\tvalid_0's binary_logloss: 0.16332\n",
      "[613]\tvalid_0's auc: 0.983071\tvalid_0's binary_logloss: 0.163355\n",
      "[614]\tvalid_0's auc: 0.983065\tvalid_0's binary_logloss: 0.163347\n",
      "[615]\tvalid_0's auc: 0.983096\tvalid_0's binary_logloss: 0.163137\n",
      "[616]\tvalid_0's auc: 0.98313\tvalid_0's binary_logloss: 0.163016\n",
      "[617]\tvalid_0's auc: 0.983122\tvalid_0's binary_logloss: 0.162957\n",
      "[618]\tvalid_0's auc: 0.98314\tvalid_0's binary_logloss: 0.162835\n",
      "[619]\tvalid_0's auc: 0.983176\tvalid_0's binary_logloss: 0.162694\n",
      "[620]\tvalid_0's auc: 0.983183\tvalid_0's binary_logloss: 0.162632\n",
      "[621]\tvalid_0's auc: 0.983185\tvalid_0's binary_logloss: 0.162557\n",
      "[622]\tvalid_0's auc: 0.983194\tvalid_0's binary_logloss: 0.162425\n",
      "[623]\tvalid_0's auc: 0.983201\tvalid_0's binary_logloss: 0.162355\n",
      "[624]\tvalid_0's auc: 0.983188\tvalid_0's binary_logloss: 0.162377\n",
      "[625]\tvalid_0's auc: 0.983171\tvalid_0's binary_logloss: 0.162364\n",
      "[626]\tvalid_0's auc: 0.98314\tvalid_0's binary_logloss: 0.162379\n",
      "[627]\tvalid_0's auc: 0.983198\tvalid_0's binary_logloss: 0.162219\n",
      "[628]\tvalid_0's auc: 0.983216\tvalid_0's binary_logloss: 0.162117\n",
      "[629]\tvalid_0's auc: 0.983208\tvalid_0's binary_logloss: 0.162076\n",
      "[630]\tvalid_0's auc: 0.983221\tvalid_0's binary_logloss: 0.161989\n",
      "[631]\tvalid_0's auc: 0.983212\tvalid_0's binary_logloss: 0.161966\n",
      "[632]\tvalid_0's auc: 0.983221\tvalid_0's binary_logloss: 0.16186\n",
      "[633]\tvalid_0's auc: 0.983243\tvalid_0's binary_logloss: 0.161766\n",
      "[634]\tvalid_0's auc: 0.983256\tvalid_0's binary_logloss: 0.161664\n",
      "[635]\tvalid_0's auc: 0.98326\tvalid_0's binary_logloss: 0.161574\n",
      "[636]\tvalid_0's auc: 0.983282\tvalid_0's binary_logloss: 0.161466\n",
      "[637]\tvalid_0's auc: 0.983272\tvalid_0's binary_logloss: 0.161432\n",
      "[638]\tvalid_0's auc: 0.983276\tvalid_0's binary_logloss: 0.161369\n",
      "[639]\tvalid_0's auc: 0.983301\tvalid_0's binary_logloss: 0.161307\n",
      "[640]\tvalid_0's auc: 0.983323\tvalid_0's binary_logloss: 0.161218\n",
      "[641]\tvalid_0's auc: 0.983332\tvalid_0's binary_logloss: 0.161108\n",
      "[642]\tvalid_0's auc: 0.983339\tvalid_0's binary_logloss: 0.161005\n",
      "[643]\tvalid_0's auc: 0.983335\tvalid_0's binary_logloss: 0.160934\n",
      "[644]\tvalid_0's auc: 0.983344\tvalid_0's binary_logloss: 0.160829\n",
      "[645]\tvalid_0's auc: 0.983334\tvalid_0's binary_logloss: 0.160862\n",
      "[646]\tvalid_0's auc: 0.983345\tvalid_0's binary_logloss: 0.160706\n",
      "[647]\tvalid_0's auc: 0.983342\tvalid_0's binary_logloss: 0.16071\n",
      "[648]\tvalid_0's auc: 0.983334\tvalid_0's binary_logloss: 0.160686\n",
      "[649]\tvalid_0's auc: 0.983314\tvalid_0's binary_logloss: 0.160697\n",
      "[650]\tvalid_0's auc: 0.983295\tvalid_0's binary_logloss: 0.160739\n",
      "[651]\tvalid_0's auc: 0.9833\tvalid_0's binary_logloss: 0.160702\n",
      "[652]\tvalid_0's auc: 0.983328\tvalid_0's binary_logloss: 0.160596\n",
      "[653]\tvalid_0's auc: 0.983325\tvalid_0's binary_logloss: 0.160569\n",
      "[654]\tvalid_0's auc: 0.983303\tvalid_0's binary_logloss: 0.160588\n",
      "[655]\tvalid_0's auc: 0.983318\tvalid_0's binary_logloss: 0.160495\n",
      "[656]\tvalid_0's auc: 0.983334\tvalid_0's binary_logloss: 0.160413\n",
      "[657]\tvalid_0's auc: 0.983326\tvalid_0's binary_logloss: 0.160399\n",
      "[658]\tvalid_0's auc: 0.983332\tvalid_0's binary_logloss: 0.160304\n",
      "[659]\tvalid_0's auc: 0.983344\tvalid_0's binary_logloss: 0.160272\n",
      "[660]\tvalid_0's auc: 0.983338\tvalid_0's binary_logloss: 0.160269\n",
      "[661]\tvalid_0's auc: 0.983347\tvalid_0's binary_logloss: 0.160168\n",
      "[662]\tvalid_0's auc: 0.983356\tvalid_0's binary_logloss: 0.160111\n",
      "[663]\tvalid_0's auc: 0.983377\tvalid_0's binary_logloss: 0.160036\n",
      "[664]\tvalid_0's auc: 0.983394\tvalid_0's binary_logloss: 0.159986\n",
      "[665]\tvalid_0's auc: 0.98342\tvalid_0's binary_logloss: 0.159903\n",
      "[666]\tvalid_0's auc: 0.983417\tvalid_0's binary_logloss: 0.15988\n",
      "[667]\tvalid_0's auc: 0.983429\tvalid_0's binary_logloss: 0.159799\n",
      "[668]\tvalid_0's auc: 0.983432\tvalid_0's binary_logloss: 0.159784\n",
      "[669]\tvalid_0's auc: 0.983432\tvalid_0's binary_logloss: 0.159767\n",
      "[670]\tvalid_0's auc: 0.98345\tvalid_0's binary_logloss: 0.159703\n",
      "[671]\tvalid_0's auc: 0.983468\tvalid_0's binary_logloss: 0.159571\n",
      "[672]\tvalid_0's auc: 0.983483\tvalid_0's binary_logloss: 0.159511\n",
      "[673]\tvalid_0's auc: 0.983471\tvalid_0's binary_logloss: 0.159544\n",
      "[674]\tvalid_0's auc: 0.983491\tvalid_0's binary_logloss: 0.159476\n",
      "[675]\tvalid_0's auc: 0.983501\tvalid_0's binary_logloss: 0.15937\n",
      "[676]\tvalid_0's auc: 0.983479\tvalid_0's binary_logloss: 0.15939\n",
      "[677]\tvalid_0's auc: 0.983493\tvalid_0's binary_logloss: 0.159245\n",
      "[678]\tvalid_0's auc: 0.983497\tvalid_0's binary_logloss: 0.159203\n",
      "[679]\tvalid_0's auc: 0.983532\tvalid_0's binary_logloss: 0.159056\n",
      "[680]\tvalid_0's auc: 0.983518\tvalid_0's binary_logloss: 0.15908\n",
      "[681]\tvalid_0's auc: 0.983538\tvalid_0's binary_logloss: 0.15898\n",
      "[682]\tvalid_0's auc: 0.983526\tvalid_0's binary_logloss: 0.159007\n",
      "[683]\tvalid_0's auc: 0.983515\tvalid_0's binary_logloss: 0.158951\n",
      "[684]\tvalid_0's auc: 0.983534\tvalid_0's binary_logloss: 0.15877\n",
      "[685]\tvalid_0's auc: 0.983524\tvalid_0's binary_logloss: 0.158781\n",
      "[686]\tvalid_0's auc: 0.983494\tvalid_0's binary_logloss: 0.158798\n",
      "[687]\tvalid_0's auc: 0.98353\tvalid_0's binary_logloss: 0.158685\n",
      "[688]\tvalid_0's auc: 0.983569\tvalid_0's binary_logloss: 0.158565\n",
      "[689]\tvalid_0's auc: 0.983542\tvalid_0's binary_logloss: 0.158619\n",
      "[690]\tvalid_0's auc: 0.983512\tvalid_0's binary_logloss: 0.158654\n",
      "[691]\tvalid_0's auc: 0.983513\tvalid_0's binary_logloss: 0.158639\n",
      "[692]\tvalid_0's auc: 0.98349\tvalid_0's binary_logloss: 0.158656\n",
      "[693]\tvalid_0's auc: 0.983488\tvalid_0's binary_logloss: 0.158696\n",
      "[694]\tvalid_0's auc: 0.983497\tvalid_0's binary_logloss: 0.15861\n",
      "[695]\tvalid_0's auc: 0.983489\tvalid_0's binary_logloss: 0.158617\n",
      "[696]\tvalid_0's auc: 0.983487\tvalid_0's binary_logloss: 0.158658\n",
      "[697]\tvalid_0's auc: 0.983487\tvalid_0's binary_logloss: 0.158632\n",
      "[698]\tvalid_0's auc: 0.983497\tvalid_0's binary_logloss: 0.158565\n",
      "[699]\tvalid_0's auc: 0.983496\tvalid_0's binary_logloss: 0.158549\n",
      "[700]\tvalid_0's auc: 0.983492\tvalid_0's binary_logloss: 0.158526\n",
      "[701]\tvalid_0's auc: 0.983489\tvalid_0's binary_logloss: 0.158523\n",
      "[702]\tvalid_0's auc: 0.983479\tvalid_0's binary_logloss: 0.158532\n",
      "[703]\tvalid_0's auc: 0.983462\tvalid_0's binary_logloss: 0.158519\n",
      "[704]\tvalid_0's auc: 0.983456\tvalid_0's binary_logloss: 0.158505\n",
      "[705]\tvalid_0's auc: 0.983451\tvalid_0's binary_logloss: 0.158536\n",
      "[706]\tvalid_0's auc: 0.983444\tvalid_0's binary_logloss: 0.158494\n",
      "[707]\tvalid_0's auc: 0.983446\tvalid_0's binary_logloss: 0.158404\n",
      "[708]\tvalid_0's auc: 0.983438\tvalid_0's binary_logloss: 0.158393\n",
      "[709]\tvalid_0's auc: 0.983443\tvalid_0's binary_logloss: 0.158401\n",
      "[710]\tvalid_0's auc: 0.983448\tvalid_0's binary_logloss: 0.158315\n",
      "[711]\tvalid_0's auc: 0.983466\tvalid_0's binary_logloss: 0.158146\n",
      "[712]\tvalid_0's auc: 0.983467\tvalid_0's binary_logloss: 0.158173\n",
      "[713]\tvalid_0's auc: 0.98344\tvalid_0's binary_logloss: 0.158238\n",
      "[714]\tvalid_0's auc: 0.983423\tvalid_0's binary_logloss: 0.15827\n",
      "[715]\tvalid_0's auc: 0.983417\tvalid_0's binary_logloss: 0.158293\n",
      "[716]\tvalid_0's auc: 0.983417\tvalid_0's binary_logloss: 0.158315\n",
      "[717]\tvalid_0's auc: 0.983393\tvalid_0's binary_logloss: 0.158316\n",
      "[718]\tvalid_0's auc: 0.983386\tvalid_0's binary_logloss: 0.158312\n",
      "[719]\tvalid_0's auc: 0.983386\tvalid_0's binary_logloss: 0.158303\n",
      "[720]\tvalid_0's auc: 0.983428\tvalid_0's binary_logloss: 0.158159\n",
      "[721]\tvalid_0's auc: 0.983437\tvalid_0's binary_logloss: 0.158122\n",
      "[722]\tvalid_0's auc: 0.98344\tvalid_0's binary_logloss: 0.158123\n",
      "[723]\tvalid_0's auc: 0.983438\tvalid_0's binary_logloss: 0.158055\n",
      "[724]\tvalid_0's auc: 0.983454\tvalid_0's binary_logloss: 0.157984\n",
      "[725]\tvalid_0's auc: 0.983443\tvalid_0's binary_logloss: 0.158021\n",
      "[726]\tvalid_0's auc: 0.983442\tvalid_0's binary_logloss: 0.158036\n",
      "[727]\tvalid_0's auc: 0.983439\tvalid_0's binary_logloss: 0.157964\n",
      "[728]\tvalid_0's auc: 0.983432\tvalid_0's binary_logloss: 0.158008\n",
      "[729]\tvalid_0's auc: 0.983436\tvalid_0's binary_logloss: 0.157886\n",
      "[730]\tvalid_0's auc: 0.983432\tvalid_0's binary_logloss: 0.157862\n",
      "[731]\tvalid_0's auc: 0.983433\tvalid_0's binary_logloss: 0.15785\n",
      "[732]\tvalid_0's auc: 0.983412\tvalid_0's binary_logloss: 0.157806\n",
      "[733]\tvalid_0's auc: 0.983443\tvalid_0's binary_logloss: 0.157746\n",
      "[734]\tvalid_0's auc: 0.983448\tvalid_0's binary_logloss: 0.157633\n",
      "[735]\tvalid_0's auc: 0.983451\tvalid_0's binary_logloss: 0.157589\n",
      "[736]\tvalid_0's auc: 0.983457\tvalid_0's binary_logloss: 0.157501\n",
      "[737]\tvalid_0's auc: 0.983441\tvalid_0's binary_logloss: 0.157533\n",
      "[738]\tvalid_0's auc: 0.983463\tvalid_0's binary_logloss: 0.157499\n",
      "Early stopping, best iteration is:\n",
      "[688]\tvalid_0's auc: 0.983569\tvalid_0's binary_logloss: 0.158565\n"
     ]
    }
   ],
   "source": [
    "num_round = 4000\n",
    "\n",
    "model = lgb.train(params, train_data_plus, num_round, valid_sets=[test_data_plus],early_stopping_rounds=50)"
   ],
   "metadata": {
    "collapsed": false,
    "pycharm": {
     "name": "#%%\n"
    }
   }
  },
  {
   "cell_type": "code",
   "execution_count": 159,
   "outputs": [],
   "source": [
    "# 예측\n",
    "preds_proba = model.predict(X_val_stand_1hot)\n",
    "preds = np.where(preds_proba > 0.5, 1, 0)\n"
   ],
   "metadata": {
    "collapsed": false,
    "pycharm": {
     "name": "#%%\n"
    }
   }
  },
  {
   "cell_type": "code",
   "execution_count": 160,
   "outputs": [
    {
     "name": "stdout",
     "output_type": "stream",
     "text": [
      "accuracy_score : 0.9461567025621983\n",
      "recall_score : 0.9323548181238035\n",
      "precision_score : 0.974\n",
      "f1_score : 0.9527225301597653\n",
      "coufusion_matrix : \n",
      "[[1087   39]\n",
      " [ 106 1461]]\n"
     ]
    }
   ],
   "source": [
    "model_eval(y_val_stand_1hot, preds)"
   ],
   "metadata": {
    "collapsed": false,
    "pycharm": {
     "name": "#%%\n"
    }
   }
  },
  {
   "cell_type": "code",
   "execution_count": 162,
   "outputs": [],
   "source": [
    "preds_proba = model.predict(test_stand_1hot)\n",
    "test_preds = np.where(preds_proba > 0.5, 1, 0)"
   ],
   "metadata": {
    "collapsed": false,
    "pycharm": {
     "name": "#%%\n"
    }
   }
  },
  {
   "cell_type": "code",
   "execution_count": 163,
   "outputs": [],
   "source": [
    "submission['Y_LABEL'] = test_preds"
   ],
   "metadata": {
    "collapsed": false,
    "pycharm": {
     "name": "#%%\n"
    }
   }
  },
  {
   "cell_type": "code",
   "execution_count": 165,
   "outputs": [],
   "source": [
    "submission.to_csv(r'C:\\Users\\yoon9\\PycharmProjects\\Sejong_Project\\data\\construct_Oil_data\\submission_lightgbm_base.csv',index = False)"
   ],
   "metadata": {
    "collapsed": false,
    "pycharm": {
     "name": "#%%\n"
    }
   }
  },
  {
   "cell_type": "code",
   "execution_count": null,
   "outputs": [],
   "source": [],
   "metadata": {
    "collapsed": false,
    "pycharm": {
     "name": "#%%\n"
    }
   }
  }
 ],
 "metadata": {
  "kernelspec": {
   "display_name": "Python 3",
   "language": "python",
   "name": "python3"
  },
  "language_info": {
   "codemirror_mode": {
    "name": "ipython",
    "version": 2
   },
   "file_extension": ".py",
   "mimetype": "text/x-python",
   "name": "python",
   "nbconvert_exporter": "python",
   "pygments_lexer": "ipython2",
   "version": "2.7.6"
  }
 },
 "nbformat": 4,
 "nbformat_minor": 0
}