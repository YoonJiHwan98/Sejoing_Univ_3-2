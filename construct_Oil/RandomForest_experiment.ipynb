{
 "cells": [
  {
   "cell_type": "code",
   "execution_count": 9,
   "outputs": [],
   "source": [
    "import pandas as pd\n",
    "import numpy as np\n",
    "import seaborn as sns\n",
    "import matplotlib.pyplot as plt\n",
    "from sklearn.model_selection import RandomizedSearchCV\n",
    "import matplotlib.font_manager as fm\n",
    "from sklearn.model_selection import train_test_split\n",
    "from sklearn.ensemble import RandomForestClassifier"
   ],
   "metadata": {
    "collapsed": false,
    "pycharm": {
     "name": "#%%\n"
    }
   }
  },
  {
   "cell_type": "code",
   "execution_count": 10,
   "outputs": [],
   "source": [
    "plt.rc('font', family='NanumBarunGothic')\n",
    "font_location = 'C:/Windows/Fonts/MALGUNSL.TTF' # for windows\n",
    "font_name = fm.FontProperties(fname=font_location).get_name()\n",
    "plt.rc('font', family=font_name)"
   ],
   "metadata": {
    "collapsed": false,
    "pycharm": {
     "name": "#%%\n"
    }
   }
  },
  {
   "cell_type": "code",
   "execution_count": 11,
   "outputs": [],
   "source": [
    "%matplotlib inline\n",
    "import matplotlib as mpl\n",
    "mpl.rc('axes',labelsize = 16)\n",
    "mpl.rc('xtick',labelsize = 12)\n",
    "mpl.rc('ytick',labelsize = 12)"
   ],
   "metadata": {
    "collapsed": false,
    "pycharm": {
     "name": "#%%\n"
    }
   }
  },
  {
   "cell_type": "code",
   "execution_count": 12,
   "outputs": [],
   "source": [
    "train = pd.read_csv(r'C:\\Users\\yoon9\\PycharmProjects\\Sejong_Project\\data\\construct_Oil_data\\train.csv',encoding = 'cp949')\n",
    "test = pd.read_csv(r'C:\\Users\\yoon9\\PycharmProjects\\Sejong_Project\\data\\construct_Oil_data\\test.csv',encoding = 'cp949')"
   ],
   "metadata": {
    "collapsed": false,
    "pycharm": {
     "name": "#%%\n"
    }
   }
  },
  {
   "cell_type": "code",
   "execution_count": 13,
   "outputs": [],
   "source": [
    "test = test.rename(columns={'ANONYMOUS_1' : '수치형데이터1','ANONYMOUS_2' : '수치형데이터2','COMPONENT_ARBITRARY':'샘플오일관련부품','AG':'은','CO':'일산화탄소','CR':'크로뮴','CU':'구리','FE':'철','H2O':'물','MN':'망가니즈','MO':'몰리브데넘','NI':'니켈','TI':'타이타늄','V':'바나듐','ZN':'아연','PQINDEX':'입자 정량 지수','V40':'점도 40도','YEAR':'진단년도'})\n",
    "train = train.rename(columns={'ANONYMOUS_1' : '수치형데이터1','ANONYMOUS_2' : '수치형데이터2','COMPONENT_ARBITRARY':'샘플오일관련부품','AG':'은','CO':'일산화탄소','CR':'크로뮴','CU':'구리','FE':'철','H2O':'물','MN':'망가니즈','MO':'몰리브데넘','NI':'니켈','TI':'타이타늄','V':'바나듐','ZN':'아연','PQINDEX':'입자 정량 지수','V40':'점도 40도','YEAR':'진단년도'})"
   ],
   "metadata": {
    "collapsed": false,
    "pycharm": {
     "name": "#%%\n"
    }
   }
  },
  {
   "cell_type": "markdown",
   "source": [
    "## 결측치가 많은 컬럼 제거"
   ],
   "metadata": {
    "collapsed": false
   }
  },
  {
   "cell_type": "code",
   "execution_count": 37,
   "outputs": [],
   "source": [
    "drop_columns=['FH2O','FNOX','FOPTIMETHGLY','FOXID','FSO4','FTBN','FUEL','SOOTPERCENTAGE','U100','U75','U50','U25','U20','U14','U6','U4','V100']"
   ],
   "metadata": {
    "collapsed": false,
    "pycharm": {
     "name": "#%%\n"
    }
   }
  },
  {
   "cell_type": "code",
   "execution_count": 38,
   "outputs": [
    {
     "ename": "KeyError",
     "evalue": "\"['FH2O', 'FNOX', 'FOPTIMETHGLY', 'FOXID', 'FSO4', 'FTBN', 'FUEL', 'SOOTPERCENTAGE', 'U100', 'U75', 'U50', 'U25', 'U20', 'U14', 'U6', 'U4', 'V100'] not found in axis\"",
     "output_type": "error",
     "traceback": [
      "\u001B[1;31m---------------------------------------------------------------------------\u001B[0m",
      "\u001B[1;31mKeyError\u001B[0m                                  Traceback (most recent call last)",
      "Cell \u001B[1;32mIn[38], line 1\u001B[0m\n\u001B[1;32m----> 1\u001B[0m train \u001B[38;5;241m=\u001B[39m \u001B[43mtrain\u001B[49m\u001B[38;5;241;43m.\u001B[39;49m\u001B[43mdrop\u001B[49m\u001B[43m(\u001B[49m\u001B[43mcolumns\u001B[49m\u001B[38;5;241;43m=\u001B[39;49m\u001B[43mdrop_columns\u001B[49m\u001B[43m)\u001B[49m\n",
      "File \u001B[1;32m~\\anaconda3\\envs\\Sejong_project\\lib\\site-packages\\pandas\\util\\_decorators.py:331\u001B[0m, in \u001B[0;36mdeprecate_nonkeyword_arguments.<locals>.decorate.<locals>.wrapper\u001B[1;34m(*args, **kwargs)\u001B[0m\n\u001B[0;32m    325\u001B[0m \u001B[38;5;28;01mif\u001B[39;00m \u001B[38;5;28mlen\u001B[39m(args) \u001B[38;5;241m>\u001B[39m num_allow_args:\n\u001B[0;32m    326\u001B[0m     warnings\u001B[38;5;241m.\u001B[39mwarn(\n\u001B[0;32m    327\u001B[0m         msg\u001B[38;5;241m.\u001B[39mformat(arguments\u001B[38;5;241m=\u001B[39m_format_argument_list(allow_args)),\n\u001B[0;32m    328\u001B[0m         \u001B[38;5;167;01mFutureWarning\u001B[39;00m,\n\u001B[0;32m    329\u001B[0m         stacklevel\u001B[38;5;241m=\u001B[39mfind_stack_level(),\n\u001B[0;32m    330\u001B[0m     )\n\u001B[1;32m--> 331\u001B[0m \u001B[38;5;28;01mreturn\u001B[39;00m func(\u001B[38;5;241m*\u001B[39margs, \u001B[38;5;241m*\u001B[39m\u001B[38;5;241m*\u001B[39mkwargs)\n",
      "File \u001B[1;32m~\\anaconda3\\envs\\Sejong_project\\lib\\site-packages\\pandas\\core\\frame.py:5396\u001B[0m, in \u001B[0;36mDataFrame.drop\u001B[1;34m(self, labels, axis, index, columns, level, inplace, errors)\u001B[0m\n\u001B[0;32m   5248\u001B[0m \u001B[38;5;129m@deprecate_nonkeyword_arguments\u001B[39m(version\u001B[38;5;241m=\u001B[39m\u001B[38;5;28;01mNone\u001B[39;00m, allowed_args\u001B[38;5;241m=\u001B[39m[\u001B[38;5;124m\"\u001B[39m\u001B[38;5;124mself\u001B[39m\u001B[38;5;124m\"\u001B[39m, \u001B[38;5;124m\"\u001B[39m\u001B[38;5;124mlabels\u001B[39m\u001B[38;5;124m\"\u001B[39m])\n\u001B[0;32m   5249\u001B[0m \u001B[38;5;28;01mdef\u001B[39;00m \u001B[38;5;21mdrop\u001B[39m(  \u001B[38;5;66;03m# type: ignore[override]\u001B[39;00m\n\u001B[0;32m   5250\u001B[0m     \u001B[38;5;28mself\u001B[39m,\n\u001B[1;32m   (...)\u001B[0m\n\u001B[0;32m   5257\u001B[0m     errors: IgnoreRaise \u001B[38;5;241m=\u001B[39m \u001B[38;5;124m\"\u001B[39m\u001B[38;5;124mraise\u001B[39m\u001B[38;5;124m\"\u001B[39m,\n\u001B[0;32m   5258\u001B[0m ) \u001B[38;5;241m-\u001B[39m\u001B[38;5;241m>\u001B[39m DataFrame \u001B[38;5;241m|\u001B[39m \u001B[38;5;28;01mNone\u001B[39;00m:\n\u001B[0;32m   5259\u001B[0m     \u001B[38;5;124;03m\"\"\"\u001B[39;00m\n\u001B[0;32m   5260\u001B[0m \u001B[38;5;124;03m    Drop specified labels from rows or columns.\u001B[39;00m\n\u001B[0;32m   5261\u001B[0m \n\u001B[1;32m   (...)\u001B[0m\n\u001B[0;32m   5394\u001B[0m \u001B[38;5;124;03m            weight  1.0     0.8\u001B[39;00m\n\u001B[0;32m   5395\u001B[0m \u001B[38;5;124;03m    \"\"\"\u001B[39;00m\n\u001B[1;32m-> 5396\u001B[0m     \u001B[38;5;28;01mreturn\u001B[39;00m \u001B[38;5;28;43msuper\u001B[39;49m\u001B[43m(\u001B[49m\u001B[43m)\u001B[49m\u001B[38;5;241;43m.\u001B[39;49m\u001B[43mdrop\u001B[49m\u001B[43m(\u001B[49m\n\u001B[0;32m   5397\u001B[0m \u001B[43m        \u001B[49m\u001B[43mlabels\u001B[49m\u001B[38;5;241;43m=\u001B[39;49m\u001B[43mlabels\u001B[49m\u001B[43m,\u001B[49m\n\u001B[0;32m   5398\u001B[0m \u001B[43m        \u001B[49m\u001B[43maxis\u001B[49m\u001B[38;5;241;43m=\u001B[39;49m\u001B[43maxis\u001B[49m\u001B[43m,\u001B[49m\n\u001B[0;32m   5399\u001B[0m \u001B[43m        \u001B[49m\u001B[43mindex\u001B[49m\u001B[38;5;241;43m=\u001B[39;49m\u001B[43mindex\u001B[49m\u001B[43m,\u001B[49m\n\u001B[0;32m   5400\u001B[0m \u001B[43m        \u001B[49m\u001B[43mcolumns\u001B[49m\u001B[38;5;241;43m=\u001B[39;49m\u001B[43mcolumns\u001B[49m\u001B[43m,\u001B[49m\n\u001B[0;32m   5401\u001B[0m \u001B[43m        \u001B[49m\u001B[43mlevel\u001B[49m\u001B[38;5;241;43m=\u001B[39;49m\u001B[43mlevel\u001B[49m\u001B[43m,\u001B[49m\n\u001B[0;32m   5402\u001B[0m \u001B[43m        \u001B[49m\u001B[43minplace\u001B[49m\u001B[38;5;241;43m=\u001B[39;49m\u001B[43minplace\u001B[49m\u001B[43m,\u001B[49m\n\u001B[0;32m   5403\u001B[0m \u001B[43m        \u001B[49m\u001B[43merrors\u001B[49m\u001B[38;5;241;43m=\u001B[39;49m\u001B[43merrors\u001B[49m\u001B[43m,\u001B[49m\n\u001B[0;32m   5404\u001B[0m \u001B[43m    \u001B[49m\u001B[43m)\u001B[49m\n",
      "File \u001B[1;32m~\\anaconda3\\envs\\Sejong_project\\lib\\site-packages\\pandas\\util\\_decorators.py:331\u001B[0m, in \u001B[0;36mdeprecate_nonkeyword_arguments.<locals>.decorate.<locals>.wrapper\u001B[1;34m(*args, **kwargs)\u001B[0m\n\u001B[0;32m    325\u001B[0m \u001B[38;5;28;01mif\u001B[39;00m \u001B[38;5;28mlen\u001B[39m(args) \u001B[38;5;241m>\u001B[39m num_allow_args:\n\u001B[0;32m    326\u001B[0m     warnings\u001B[38;5;241m.\u001B[39mwarn(\n\u001B[0;32m    327\u001B[0m         msg\u001B[38;5;241m.\u001B[39mformat(arguments\u001B[38;5;241m=\u001B[39m_format_argument_list(allow_args)),\n\u001B[0;32m    328\u001B[0m         \u001B[38;5;167;01mFutureWarning\u001B[39;00m,\n\u001B[0;32m    329\u001B[0m         stacklevel\u001B[38;5;241m=\u001B[39mfind_stack_level(),\n\u001B[0;32m    330\u001B[0m     )\n\u001B[1;32m--> 331\u001B[0m \u001B[38;5;28;01mreturn\u001B[39;00m func(\u001B[38;5;241m*\u001B[39margs, \u001B[38;5;241m*\u001B[39m\u001B[38;5;241m*\u001B[39mkwargs)\n",
      "File \u001B[1;32m~\\anaconda3\\envs\\Sejong_project\\lib\\site-packages\\pandas\\core\\generic.py:4505\u001B[0m, in \u001B[0;36mNDFrame.drop\u001B[1;34m(self, labels, axis, index, columns, level, inplace, errors)\u001B[0m\n\u001B[0;32m   4503\u001B[0m \u001B[38;5;28;01mfor\u001B[39;00m axis, labels \u001B[38;5;129;01min\u001B[39;00m axes\u001B[38;5;241m.\u001B[39mitems():\n\u001B[0;32m   4504\u001B[0m     \u001B[38;5;28;01mif\u001B[39;00m labels \u001B[38;5;129;01mis\u001B[39;00m \u001B[38;5;129;01mnot\u001B[39;00m \u001B[38;5;28;01mNone\u001B[39;00m:\n\u001B[1;32m-> 4505\u001B[0m         obj \u001B[38;5;241m=\u001B[39m \u001B[43mobj\u001B[49m\u001B[38;5;241;43m.\u001B[39;49m\u001B[43m_drop_axis\u001B[49m\u001B[43m(\u001B[49m\u001B[43mlabels\u001B[49m\u001B[43m,\u001B[49m\u001B[43m \u001B[49m\u001B[43maxis\u001B[49m\u001B[43m,\u001B[49m\u001B[43m \u001B[49m\u001B[43mlevel\u001B[49m\u001B[38;5;241;43m=\u001B[39;49m\u001B[43mlevel\u001B[49m\u001B[43m,\u001B[49m\u001B[43m \u001B[49m\u001B[43merrors\u001B[49m\u001B[38;5;241;43m=\u001B[39;49m\u001B[43merrors\u001B[49m\u001B[43m)\u001B[49m\n\u001B[0;32m   4507\u001B[0m \u001B[38;5;28;01mif\u001B[39;00m inplace:\n\u001B[0;32m   4508\u001B[0m     \u001B[38;5;28mself\u001B[39m\u001B[38;5;241m.\u001B[39m_update_inplace(obj)\n",
      "File \u001B[1;32m~\\anaconda3\\envs\\Sejong_project\\lib\\site-packages\\pandas\\core\\generic.py:4546\u001B[0m, in \u001B[0;36mNDFrame._drop_axis\u001B[1;34m(self, labels, axis, level, errors, only_slice)\u001B[0m\n\u001B[0;32m   4544\u001B[0m         new_axis \u001B[38;5;241m=\u001B[39m axis\u001B[38;5;241m.\u001B[39mdrop(labels, level\u001B[38;5;241m=\u001B[39mlevel, errors\u001B[38;5;241m=\u001B[39merrors)\n\u001B[0;32m   4545\u001B[0m     \u001B[38;5;28;01melse\u001B[39;00m:\n\u001B[1;32m-> 4546\u001B[0m         new_axis \u001B[38;5;241m=\u001B[39m \u001B[43maxis\u001B[49m\u001B[38;5;241;43m.\u001B[39;49m\u001B[43mdrop\u001B[49m\u001B[43m(\u001B[49m\u001B[43mlabels\u001B[49m\u001B[43m,\u001B[49m\u001B[43m \u001B[49m\u001B[43merrors\u001B[49m\u001B[38;5;241;43m=\u001B[39;49m\u001B[43merrors\u001B[49m\u001B[43m)\u001B[49m\n\u001B[0;32m   4547\u001B[0m     indexer \u001B[38;5;241m=\u001B[39m axis\u001B[38;5;241m.\u001B[39mget_indexer(new_axis)\n\u001B[0;32m   4549\u001B[0m \u001B[38;5;66;03m# Case for non-unique axis\u001B[39;00m\n\u001B[0;32m   4550\u001B[0m \u001B[38;5;28;01melse\u001B[39;00m:\n",
      "File \u001B[1;32m~\\anaconda3\\envs\\Sejong_project\\lib\\site-packages\\pandas\\core\\indexes\\base.py:6977\u001B[0m, in \u001B[0;36mIndex.drop\u001B[1;34m(self, labels, errors)\u001B[0m\n\u001B[0;32m   6975\u001B[0m \u001B[38;5;28;01mif\u001B[39;00m mask\u001B[38;5;241m.\u001B[39many():\n\u001B[0;32m   6976\u001B[0m     \u001B[38;5;28;01mif\u001B[39;00m errors \u001B[38;5;241m!=\u001B[39m \u001B[38;5;124m\"\u001B[39m\u001B[38;5;124mignore\u001B[39m\u001B[38;5;124m\"\u001B[39m:\n\u001B[1;32m-> 6977\u001B[0m         \u001B[38;5;28;01mraise\u001B[39;00m \u001B[38;5;167;01mKeyError\u001B[39;00m(\u001B[38;5;124mf\u001B[39m\u001B[38;5;124m\"\u001B[39m\u001B[38;5;132;01m{\u001B[39;00m\u001B[38;5;28mlist\u001B[39m(labels[mask])\u001B[38;5;132;01m}\u001B[39;00m\u001B[38;5;124m not found in axis\u001B[39m\u001B[38;5;124m\"\u001B[39m)\n\u001B[0;32m   6978\u001B[0m     indexer \u001B[38;5;241m=\u001B[39m indexer[\u001B[38;5;241m~\u001B[39mmask]\n\u001B[0;32m   6979\u001B[0m \u001B[38;5;28;01mreturn\u001B[39;00m \u001B[38;5;28mself\u001B[39m\u001B[38;5;241m.\u001B[39mdelete(indexer)\n",
      "\u001B[1;31mKeyError\u001B[0m: \"['FH2O', 'FNOX', 'FOPTIMETHGLY', 'FOXID', 'FSO4', 'FTBN', 'FUEL', 'SOOTPERCENTAGE', 'U100', 'U75', 'U50', 'U25', 'U20', 'U14', 'U6', 'U4', 'V100'] not found in axis\""
     ]
    }
   ],
   "source": [
    "train = train.drop(columns=drop_columns)"
   ],
   "metadata": {
    "collapsed": false,
    "pycharm": {
     "name": "#%%\n"
    }
   }
  },
  {
   "cell_type": "code",
   "execution_count": null,
   "outputs": [],
   "source": [
    "test_columns_list = test.columns"
   ],
   "metadata": {
    "collapsed": false,
    "pycharm": {
     "name": "#%%\n"
    }
   }
  },
  {
   "cell_type": "code",
   "execution_count": null,
   "outputs": [],
   "source": [
    "train['Y_LABEL']"
   ],
   "metadata": {
    "collapsed": false,
    "pycharm": {
     "name": "#%%\n"
    }
   }
  },
  {
   "cell_type": "code",
   "execution_count": null,
   "outputs": [],
   "source": [
    "train[test_columns_list]"
   ],
   "metadata": {
    "collapsed": false,
    "pycharm": {
     "name": "#%%\n"
    }
   }
  },
  {
   "cell_type": "code",
   "execution_count": null,
   "outputs": [],
   "source": [
    "train_test_col = train[test_columns_list]"
   ],
   "metadata": {
    "collapsed": false,
    "pycharm": {
     "name": "#%%\n"
    }
   }
  },
  {
   "cell_type": "code",
   "execution_count": 39,
   "outputs": [
    {
     "data": {
      "text/plain": "                ID    샘플오일관련부품  수치형데이터1  진단년도  수치형데이터2  은  일산화탄소  크로뮴   구리  \\\n0      TRAIN_00000  COMPONENT3     1486  2011      200  0      0   13   78   \n1      TRAIN_00001  COMPONENT2     1350  2021      375  0      0    0   31   \n2      TRAIN_00002  COMPONENT2     2415  2015      200  0      0    1    2   \n3      TRAIN_00003  COMPONENT3     7389  2010      200  0      0    0    1   \n4      TRAIN_00004  COMPONENT3     3954  2015      200  0      0    0    0   \n...            ...         ...      ...   ...      ... ..    ...  ...  ...   \n14090  TRAIN_14090  COMPONENT3     1616  2014      200  0      0    0    3   \n14091  TRAIN_14091  COMPONENT1     2784  2013      200  0      0    0    2   \n14092  TRAIN_14092  COMPONENT3     1788  2008      550  0      0    4    7   \n14093  TRAIN_14093  COMPONENT2     2498  2009      550  0      0    0  170   \n14094  TRAIN_14094  COMPONENT2     1902  2012      200  0      0    0  110   \n\n         철    물  망가니즈  몰리브데넘  니켈  입자 정량 지수  타이타늄  바나듐  점도 40도    아연  \n0      888  0.0    16      1   6      8504     5    0   154.0    75  \n1        2  0.0     0      0   0        19     0    0    44.0   652  \n2        4  0.0     0      0   0        17     0    0    72.6   412  \n3       37  0.0     1      0   0        44     0    0   133.3     7  \n4       71  0.0     0      0   0       217     0    0   133.1   128  \n...    ...  ...   ...    ...  ..       ...   ...  ...     ...   ...  \n14090   23  0.0     0      0   0        35     0    0   135.4    16  \n14091   12  0.0     0    224   0         9     0    0   117.5  1408  \n14092  415  0.0     7     10   1       645     0    0    54.0  1301  \n14093   19  0.0     0      1   0        11     0    0    44.3   652  \n14094   10  0.0     0      0   0        81     2    0    47.0   612  \n\n[14095 rows x 19 columns]",
      "text/html": "<div>\n<style scoped>\n    .dataframe tbody tr th:only-of-type {\n        vertical-align: middle;\n    }\n\n    .dataframe tbody tr th {\n        vertical-align: top;\n    }\n\n    .dataframe thead th {\n        text-align: right;\n    }\n</style>\n<table border=\"1\" class=\"dataframe\">\n  <thead>\n    <tr style=\"text-align: right;\">\n      <th></th>\n      <th>ID</th>\n      <th>샘플오일관련부품</th>\n      <th>수치형데이터1</th>\n      <th>진단년도</th>\n      <th>수치형데이터2</th>\n      <th>은</th>\n      <th>일산화탄소</th>\n      <th>크로뮴</th>\n      <th>구리</th>\n      <th>철</th>\n      <th>물</th>\n      <th>망가니즈</th>\n      <th>몰리브데넘</th>\n      <th>니켈</th>\n      <th>입자 정량 지수</th>\n      <th>타이타늄</th>\n      <th>바나듐</th>\n      <th>점도 40도</th>\n      <th>아연</th>\n    </tr>\n  </thead>\n  <tbody>\n    <tr>\n      <th>0</th>\n      <td>TRAIN_00000</td>\n      <td>COMPONENT3</td>\n      <td>1486</td>\n      <td>2011</td>\n      <td>200</td>\n      <td>0</td>\n      <td>0</td>\n      <td>13</td>\n      <td>78</td>\n      <td>888</td>\n      <td>0.0</td>\n      <td>16</td>\n      <td>1</td>\n      <td>6</td>\n      <td>8504</td>\n      <td>5</td>\n      <td>0</td>\n      <td>154.0</td>\n      <td>75</td>\n    </tr>\n    <tr>\n      <th>1</th>\n      <td>TRAIN_00001</td>\n      <td>COMPONENT2</td>\n      <td>1350</td>\n      <td>2021</td>\n      <td>375</td>\n      <td>0</td>\n      <td>0</td>\n      <td>0</td>\n      <td>31</td>\n      <td>2</td>\n      <td>0.0</td>\n      <td>0</td>\n      <td>0</td>\n      <td>0</td>\n      <td>19</td>\n      <td>0</td>\n      <td>0</td>\n      <td>44.0</td>\n      <td>652</td>\n    </tr>\n    <tr>\n      <th>2</th>\n      <td>TRAIN_00002</td>\n      <td>COMPONENT2</td>\n      <td>2415</td>\n      <td>2015</td>\n      <td>200</td>\n      <td>0</td>\n      <td>0</td>\n      <td>1</td>\n      <td>2</td>\n      <td>4</td>\n      <td>0.0</td>\n      <td>0</td>\n      <td>0</td>\n      <td>0</td>\n      <td>17</td>\n      <td>0</td>\n      <td>0</td>\n      <td>72.6</td>\n      <td>412</td>\n    </tr>\n    <tr>\n      <th>3</th>\n      <td>TRAIN_00003</td>\n      <td>COMPONENT3</td>\n      <td>7389</td>\n      <td>2010</td>\n      <td>200</td>\n      <td>0</td>\n      <td>0</td>\n      <td>0</td>\n      <td>1</td>\n      <td>37</td>\n      <td>0.0</td>\n      <td>1</td>\n      <td>0</td>\n      <td>0</td>\n      <td>44</td>\n      <td>0</td>\n      <td>0</td>\n      <td>133.3</td>\n      <td>7</td>\n    </tr>\n    <tr>\n      <th>4</th>\n      <td>TRAIN_00004</td>\n      <td>COMPONENT3</td>\n      <td>3954</td>\n      <td>2015</td>\n      <td>200</td>\n      <td>0</td>\n      <td>0</td>\n      <td>0</td>\n      <td>0</td>\n      <td>71</td>\n      <td>0.0</td>\n      <td>0</td>\n      <td>0</td>\n      <td>0</td>\n      <td>217</td>\n      <td>0</td>\n      <td>0</td>\n      <td>133.1</td>\n      <td>128</td>\n    </tr>\n    <tr>\n      <th>...</th>\n      <td>...</td>\n      <td>...</td>\n      <td>...</td>\n      <td>...</td>\n      <td>...</td>\n      <td>...</td>\n      <td>...</td>\n      <td>...</td>\n      <td>...</td>\n      <td>...</td>\n      <td>...</td>\n      <td>...</td>\n      <td>...</td>\n      <td>...</td>\n      <td>...</td>\n      <td>...</td>\n      <td>...</td>\n      <td>...</td>\n      <td>...</td>\n    </tr>\n    <tr>\n      <th>14090</th>\n      <td>TRAIN_14090</td>\n      <td>COMPONENT3</td>\n      <td>1616</td>\n      <td>2014</td>\n      <td>200</td>\n      <td>0</td>\n      <td>0</td>\n      <td>0</td>\n      <td>3</td>\n      <td>23</td>\n      <td>0.0</td>\n      <td>0</td>\n      <td>0</td>\n      <td>0</td>\n      <td>35</td>\n      <td>0</td>\n      <td>0</td>\n      <td>135.4</td>\n      <td>16</td>\n    </tr>\n    <tr>\n      <th>14091</th>\n      <td>TRAIN_14091</td>\n      <td>COMPONENT1</td>\n      <td>2784</td>\n      <td>2013</td>\n      <td>200</td>\n      <td>0</td>\n      <td>0</td>\n      <td>0</td>\n      <td>2</td>\n      <td>12</td>\n      <td>0.0</td>\n      <td>0</td>\n      <td>224</td>\n      <td>0</td>\n      <td>9</td>\n      <td>0</td>\n      <td>0</td>\n      <td>117.5</td>\n      <td>1408</td>\n    </tr>\n    <tr>\n      <th>14092</th>\n      <td>TRAIN_14092</td>\n      <td>COMPONENT3</td>\n      <td>1788</td>\n      <td>2008</td>\n      <td>550</td>\n      <td>0</td>\n      <td>0</td>\n      <td>4</td>\n      <td>7</td>\n      <td>415</td>\n      <td>0.0</td>\n      <td>7</td>\n      <td>10</td>\n      <td>1</td>\n      <td>645</td>\n      <td>0</td>\n      <td>0</td>\n      <td>54.0</td>\n      <td>1301</td>\n    </tr>\n    <tr>\n      <th>14093</th>\n      <td>TRAIN_14093</td>\n      <td>COMPONENT2</td>\n      <td>2498</td>\n      <td>2009</td>\n      <td>550</td>\n      <td>0</td>\n      <td>0</td>\n      <td>0</td>\n      <td>170</td>\n      <td>19</td>\n      <td>0.0</td>\n      <td>0</td>\n      <td>1</td>\n      <td>0</td>\n      <td>11</td>\n      <td>0</td>\n      <td>0</td>\n      <td>44.3</td>\n      <td>652</td>\n    </tr>\n    <tr>\n      <th>14094</th>\n      <td>TRAIN_14094</td>\n      <td>COMPONENT2</td>\n      <td>1902</td>\n      <td>2012</td>\n      <td>200</td>\n      <td>0</td>\n      <td>0</td>\n      <td>0</td>\n      <td>110</td>\n      <td>10</td>\n      <td>0.0</td>\n      <td>0</td>\n      <td>0</td>\n      <td>0</td>\n      <td>81</td>\n      <td>2</td>\n      <td>0</td>\n      <td>47.0</td>\n      <td>612</td>\n    </tr>\n  </tbody>\n</table>\n<p>14095 rows × 19 columns</p>\n</div>"
     },
     "execution_count": 39,
     "metadata": {},
     "output_type": "execute_result"
    }
   ],
   "source": [
    "train_test_col"
   ],
   "metadata": {
    "collapsed": false,
    "pycharm": {
     "name": "#%%\n"
    }
   }
  },
  {
   "cell_type": "code",
   "execution_count": 40,
   "outputs": [
    {
     "data": {
      "text/plain": "             ID    샘플오일관련부품  수치형데이터1  진단년도  수치형데이터2  은  일산화탄소  크로뮴   구리     철  \\\n0     TEST_0000  COMPONENT1     2192  2016      200  0      0    0    1    12   \n1     TEST_0001  COMPONENT3     2794  2011      200  0      0    2    1   278   \n2     TEST_0002  COMPONENT2     1982  2010      200  0      0    0   16     5   \n3     TEST_0003  COMPONENT3     1404  2009      200  0      0    3    4   163   \n4     TEST_0004  COMPONENT2     8225  2013      200  0      0    0    6    13   \n...         ...         ...      ...   ...      ... ..    ...  ...  ...   ...   \n6036  TEST_6036  COMPONENT3     1714  2014      200  0      0    3  130  1047   \n6037  TEST_6037  COMPONENT3     4131  2016      200  0      0    5    2   736   \n6038  TEST_6038  COMPONENT3     4325  2014      200  0      0    0    0    53   \n6039  TEST_6039  COMPONENT2     1364  2013      200  0      0    0   62     2   \n6040  TEST_6040  COMPONENT1     2397  2016     1597  1      0    0    0     4   \n\n        물  망가니즈  몰리브데넘  니켈  입자 정량 지수  타이타늄  바나듐  점도 40도    아연  \n0     0.0     0      0   0        10     0    0    91.3  1091  \n1     0.0     3      0   0      2732     1    0   126.9    12  \n2     0.0     0      0   0        11     0    0    44.3   714  \n3     0.0     4      3   0      8007     0    0   142.8    94  \n4     0.0     0      0   0        16     0    0    63.4   469  \n...   ...   ...    ...  ..       ...   ...  ...     ...   ...  \n6036  0.0    65      5   2      1999     0    0    71.2  1163  \n6037  0.0     5      0   0       693     0    0   137.8    13  \n6038  0.0     0      0   0        69     0    0   302.2    13  \n6039  0.0     0      0   0         5     0    0    51.1   478  \n6040  0.0     0      2   0        14     0    0    80.0   970  \n\n[6041 rows x 19 columns]",
      "text/html": "<div>\n<style scoped>\n    .dataframe tbody tr th:only-of-type {\n        vertical-align: middle;\n    }\n\n    .dataframe tbody tr th {\n        vertical-align: top;\n    }\n\n    .dataframe thead th {\n        text-align: right;\n    }\n</style>\n<table border=\"1\" class=\"dataframe\">\n  <thead>\n    <tr style=\"text-align: right;\">\n      <th></th>\n      <th>ID</th>\n      <th>샘플오일관련부품</th>\n      <th>수치형데이터1</th>\n      <th>진단년도</th>\n      <th>수치형데이터2</th>\n      <th>은</th>\n      <th>일산화탄소</th>\n      <th>크로뮴</th>\n      <th>구리</th>\n      <th>철</th>\n      <th>물</th>\n      <th>망가니즈</th>\n      <th>몰리브데넘</th>\n      <th>니켈</th>\n      <th>입자 정량 지수</th>\n      <th>타이타늄</th>\n      <th>바나듐</th>\n      <th>점도 40도</th>\n      <th>아연</th>\n    </tr>\n  </thead>\n  <tbody>\n    <tr>\n      <th>0</th>\n      <td>TEST_0000</td>\n      <td>COMPONENT1</td>\n      <td>2192</td>\n      <td>2016</td>\n      <td>200</td>\n      <td>0</td>\n      <td>0</td>\n      <td>0</td>\n      <td>1</td>\n      <td>12</td>\n      <td>0.0</td>\n      <td>0</td>\n      <td>0</td>\n      <td>0</td>\n      <td>10</td>\n      <td>0</td>\n      <td>0</td>\n      <td>91.3</td>\n      <td>1091</td>\n    </tr>\n    <tr>\n      <th>1</th>\n      <td>TEST_0001</td>\n      <td>COMPONENT3</td>\n      <td>2794</td>\n      <td>2011</td>\n      <td>200</td>\n      <td>0</td>\n      <td>0</td>\n      <td>2</td>\n      <td>1</td>\n      <td>278</td>\n      <td>0.0</td>\n      <td>3</td>\n      <td>0</td>\n      <td>0</td>\n      <td>2732</td>\n      <td>1</td>\n      <td>0</td>\n      <td>126.9</td>\n      <td>12</td>\n    </tr>\n    <tr>\n      <th>2</th>\n      <td>TEST_0002</td>\n      <td>COMPONENT2</td>\n      <td>1982</td>\n      <td>2010</td>\n      <td>200</td>\n      <td>0</td>\n      <td>0</td>\n      <td>0</td>\n      <td>16</td>\n      <td>5</td>\n      <td>0.0</td>\n      <td>0</td>\n      <td>0</td>\n      <td>0</td>\n      <td>11</td>\n      <td>0</td>\n      <td>0</td>\n      <td>44.3</td>\n      <td>714</td>\n    </tr>\n    <tr>\n      <th>3</th>\n      <td>TEST_0003</td>\n      <td>COMPONENT3</td>\n      <td>1404</td>\n      <td>2009</td>\n      <td>200</td>\n      <td>0</td>\n      <td>0</td>\n      <td>3</td>\n      <td>4</td>\n      <td>163</td>\n      <td>0.0</td>\n      <td>4</td>\n      <td>3</td>\n      <td>0</td>\n      <td>8007</td>\n      <td>0</td>\n      <td>0</td>\n      <td>142.8</td>\n      <td>94</td>\n    </tr>\n    <tr>\n      <th>4</th>\n      <td>TEST_0004</td>\n      <td>COMPONENT2</td>\n      <td>8225</td>\n      <td>2013</td>\n      <td>200</td>\n      <td>0</td>\n      <td>0</td>\n      <td>0</td>\n      <td>6</td>\n      <td>13</td>\n      <td>0.0</td>\n      <td>0</td>\n      <td>0</td>\n      <td>0</td>\n      <td>16</td>\n      <td>0</td>\n      <td>0</td>\n      <td>63.4</td>\n      <td>469</td>\n    </tr>\n    <tr>\n      <th>...</th>\n      <td>...</td>\n      <td>...</td>\n      <td>...</td>\n      <td>...</td>\n      <td>...</td>\n      <td>...</td>\n      <td>...</td>\n      <td>...</td>\n      <td>...</td>\n      <td>...</td>\n      <td>...</td>\n      <td>...</td>\n      <td>...</td>\n      <td>...</td>\n      <td>...</td>\n      <td>...</td>\n      <td>...</td>\n      <td>...</td>\n      <td>...</td>\n    </tr>\n    <tr>\n      <th>6036</th>\n      <td>TEST_6036</td>\n      <td>COMPONENT3</td>\n      <td>1714</td>\n      <td>2014</td>\n      <td>200</td>\n      <td>0</td>\n      <td>0</td>\n      <td>3</td>\n      <td>130</td>\n      <td>1047</td>\n      <td>0.0</td>\n      <td>65</td>\n      <td>5</td>\n      <td>2</td>\n      <td>1999</td>\n      <td>0</td>\n      <td>0</td>\n      <td>71.2</td>\n      <td>1163</td>\n    </tr>\n    <tr>\n      <th>6037</th>\n      <td>TEST_6037</td>\n      <td>COMPONENT3</td>\n      <td>4131</td>\n      <td>2016</td>\n      <td>200</td>\n      <td>0</td>\n      <td>0</td>\n      <td>5</td>\n      <td>2</td>\n      <td>736</td>\n      <td>0.0</td>\n      <td>5</td>\n      <td>0</td>\n      <td>0</td>\n      <td>693</td>\n      <td>0</td>\n      <td>0</td>\n      <td>137.8</td>\n      <td>13</td>\n    </tr>\n    <tr>\n      <th>6038</th>\n      <td>TEST_6038</td>\n      <td>COMPONENT3</td>\n      <td>4325</td>\n      <td>2014</td>\n      <td>200</td>\n      <td>0</td>\n      <td>0</td>\n      <td>0</td>\n      <td>0</td>\n      <td>53</td>\n      <td>0.0</td>\n      <td>0</td>\n      <td>0</td>\n      <td>0</td>\n      <td>69</td>\n      <td>0</td>\n      <td>0</td>\n      <td>302.2</td>\n      <td>13</td>\n    </tr>\n    <tr>\n      <th>6039</th>\n      <td>TEST_6039</td>\n      <td>COMPONENT2</td>\n      <td>1364</td>\n      <td>2013</td>\n      <td>200</td>\n      <td>0</td>\n      <td>0</td>\n      <td>0</td>\n      <td>62</td>\n      <td>2</td>\n      <td>0.0</td>\n      <td>0</td>\n      <td>0</td>\n      <td>0</td>\n      <td>5</td>\n      <td>0</td>\n      <td>0</td>\n      <td>51.1</td>\n      <td>478</td>\n    </tr>\n    <tr>\n      <th>6040</th>\n      <td>TEST_6040</td>\n      <td>COMPONENT1</td>\n      <td>2397</td>\n      <td>2016</td>\n      <td>1597</td>\n      <td>1</td>\n      <td>0</td>\n      <td>0</td>\n      <td>0</td>\n      <td>4</td>\n      <td>0.0</td>\n      <td>0</td>\n      <td>2</td>\n      <td>0</td>\n      <td>14</td>\n      <td>0</td>\n      <td>0</td>\n      <td>80.0</td>\n      <td>970</td>\n    </tr>\n  </tbody>\n</table>\n<p>6041 rows × 19 columns</p>\n</div>"
     },
     "execution_count": 40,
     "metadata": {},
     "output_type": "execute_result"
    }
   ],
   "source": [
    "test"
   ],
   "metadata": {
    "collapsed": false,
    "pycharm": {
     "name": "#%%\n"
    }
   }
  },
  {
   "cell_type": "code",
   "execution_count": 41,
   "outputs": [
    {
     "data": {
      "text/plain": "               ID    샘플오일관련부품  수치형데이터1  진단년도  수치형데이터2  은  일산화탄소  크로뮴   구리  \\\n0     TRAIN_00000  COMPONENT3     1486  2011      200  0      0   13   78   \n1     TRAIN_00001  COMPONENT2     1350  2021      375  0      0    0   31   \n2     TRAIN_00002  COMPONENT2     2415  2015      200  0      0    1    2   \n3     TRAIN_00003  COMPONENT3     7389  2010      200  0      0    0    1   \n4     TRAIN_00004  COMPONENT3     3954  2015      200  0      0    0    0   \n...           ...         ...      ...   ...      ... ..    ...  ...  ...   \n6036    TEST_6036  COMPONENT3     1714  2014      200  0      0    3  130   \n6037    TEST_6037  COMPONENT3     4131  2016      200  0      0    5    2   \n6038    TEST_6038  COMPONENT3     4325  2014      200  0      0    0    0   \n6039    TEST_6039  COMPONENT2     1364  2013      200  0      0    0   62   \n6040    TEST_6040  COMPONENT1     2397  2016     1597  1      0    0    0   \n\n         철    물  망가니즈  몰리브데넘  니켈  입자 정량 지수  타이타늄  바나듐  점도 40도    아연  \n0      888  0.0    16      1   6      8504     5    0   154.0    75  \n1        2  0.0     0      0   0        19     0    0    44.0   652  \n2        4  0.0     0      0   0        17     0    0    72.6   412  \n3       37  0.0     1      0   0        44     0    0   133.3     7  \n4       71  0.0     0      0   0       217     0    0   133.1   128  \n...    ...  ...   ...    ...  ..       ...   ...  ...     ...   ...  \n6036  1047  0.0    65      5   2      1999     0    0    71.2  1163  \n6037   736  0.0     5      0   0       693     0    0   137.8    13  \n6038    53  0.0     0      0   0        69     0    0   302.2    13  \n6039     2  0.0     0      0   0         5     0    0    51.1   478  \n6040     4  0.0     0      2   0        14     0    0    80.0   970  \n\n[20136 rows x 19 columns]",
      "text/html": "<div>\n<style scoped>\n    .dataframe tbody tr th:only-of-type {\n        vertical-align: middle;\n    }\n\n    .dataframe tbody tr th {\n        vertical-align: top;\n    }\n\n    .dataframe thead th {\n        text-align: right;\n    }\n</style>\n<table border=\"1\" class=\"dataframe\">\n  <thead>\n    <tr style=\"text-align: right;\">\n      <th></th>\n      <th>ID</th>\n      <th>샘플오일관련부품</th>\n      <th>수치형데이터1</th>\n      <th>진단년도</th>\n      <th>수치형데이터2</th>\n      <th>은</th>\n      <th>일산화탄소</th>\n      <th>크로뮴</th>\n      <th>구리</th>\n      <th>철</th>\n      <th>물</th>\n      <th>망가니즈</th>\n      <th>몰리브데넘</th>\n      <th>니켈</th>\n      <th>입자 정량 지수</th>\n      <th>타이타늄</th>\n      <th>바나듐</th>\n      <th>점도 40도</th>\n      <th>아연</th>\n    </tr>\n  </thead>\n  <tbody>\n    <tr>\n      <th>0</th>\n      <td>TRAIN_00000</td>\n      <td>COMPONENT3</td>\n      <td>1486</td>\n      <td>2011</td>\n      <td>200</td>\n      <td>0</td>\n      <td>0</td>\n      <td>13</td>\n      <td>78</td>\n      <td>888</td>\n      <td>0.0</td>\n      <td>16</td>\n      <td>1</td>\n      <td>6</td>\n      <td>8504</td>\n      <td>5</td>\n      <td>0</td>\n      <td>154.0</td>\n      <td>75</td>\n    </tr>\n    <tr>\n      <th>1</th>\n      <td>TRAIN_00001</td>\n      <td>COMPONENT2</td>\n      <td>1350</td>\n      <td>2021</td>\n      <td>375</td>\n      <td>0</td>\n      <td>0</td>\n      <td>0</td>\n      <td>31</td>\n      <td>2</td>\n      <td>0.0</td>\n      <td>0</td>\n      <td>0</td>\n      <td>0</td>\n      <td>19</td>\n      <td>0</td>\n      <td>0</td>\n      <td>44.0</td>\n      <td>652</td>\n    </tr>\n    <tr>\n      <th>2</th>\n      <td>TRAIN_00002</td>\n      <td>COMPONENT2</td>\n      <td>2415</td>\n      <td>2015</td>\n      <td>200</td>\n      <td>0</td>\n      <td>0</td>\n      <td>1</td>\n      <td>2</td>\n      <td>4</td>\n      <td>0.0</td>\n      <td>0</td>\n      <td>0</td>\n      <td>0</td>\n      <td>17</td>\n      <td>0</td>\n      <td>0</td>\n      <td>72.6</td>\n      <td>412</td>\n    </tr>\n    <tr>\n      <th>3</th>\n      <td>TRAIN_00003</td>\n      <td>COMPONENT3</td>\n      <td>7389</td>\n      <td>2010</td>\n      <td>200</td>\n      <td>0</td>\n      <td>0</td>\n      <td>0</td>\n      <td>1</td>\n      <td>37</td>\n      <td>0.0</td>\n      <td>1</td>\n      <td>0</td>\n      <td>0</td>\n      <td>44</td>\n      <td>0</td>\n      <td>0</td>\n      <td>133.3</td>\n      <td>7</td>\n    </tr>\n    <tr>\n      <th>4</th>\n      <td>TRAIN_00004</td>\n      <td>COMPONENT3</td>\n      <td>3954</td>\n      <td>2015</td>\n      <td>200</td>\n      <td>0</td>\n      <td>0</td>\n      <td>0</td>\n      <td>0</td>\n      <td>71</td>\n      <td>0.0</td>\n      <td>0</td>\n      <td>0</td>\n      <td>0</td>\n      <td>217</td>\n      <td>0</td>\n      <td>0</td>\n      <td>133.1</td>\n      <td>128</td>\n    </tr>\n    <tr>\n      <th>...</th>\n      <td>...</td>\n      <td>...</td>\n      <td>...</td>\n      <td>...</td>\n      <td>...</td>\n      <td>...</td>\n      <td>...</td>\n      <td>...</td>\n      <td>...</td>\n      <td>...</td>\n      <td>...</td>\n      <td>...</td>\n      <td>...</td>\n      <td>...</td>\n      <td>...</td>\n      <td>...</td>\n      <td>...</td>\n      <td>...</td>\n      <td>...</td>\n    </tr>\n    <tr>\n      <th>6036</th>\n      <td>TEST_6036</td>\n      <td>COMPONENT3</td>\n      <td>1714</td>\n      <td>2014</td>\n      <td>200</td>\n      <td>0</td>\n      <td>0</td>\n      <td>3</td>\n      <td>130</td>\n      <td>1047</td>\n      <td>0.0</td>\n      <td>65</td>\n      <td>5</td>\n      <td>2</td>\n      <td>1999</td>\n      <td>0</td>\n      <td>0</td>\n      <td>71.2</td>\n      <td>1163</td>\n    </tr>\n    <tr>\n      <th>6037</th>\n      <td>TEST_6037</td>\n      <td>COMPONENT3</td>\n      <td>4131</td>\n      <td>2016</td>\n      <td>200</td>\n      <td>0</td>\n      <td>0</td>\n      <td>5</td>\n      <td>2</td>\n      <td>736</td>\n      <td>0.0</td>\n      <td>5</td>\n      <td>0</td>\n      <td>0</td>\n      <td>693</td>\n      <td>0</td>\n      <td>0</td>\n      <td>137.8</td>\n      <td>13</td>\n    </tr>\n    <tr>\n      <th>6038</th>\n      <td>TEST_6038</td>\n      <td>COMPONENT3</td>\n      <td>4325</td>\n      <td>2014</td>\n      <td>200</td>\n      <td>0</td>\n      <td>0</td>\n      <td>0</td>\n      <td>0</td>\n      <td>53</td>\n      <td>0.0</td>\n      <td>0</td>\n      <td>0</td>\n      <td>0</td>\n      <td>69</td>\n      <td>0</td>\n      <td>0</td>\n      <td>302.2</td>\n      <td>13</td>\n    </tr>\n    <tr>\n      <th>6039</th>\n      <td>TEST_6039</td>\n      <td>COMPONENT2</td>\n      <td>1364</td>\n      <td>2013</td>\n      <td>200</td>\n      <td>0</td>\n      <td>0</td>\n      <td>0</td>\n      <td>62</td>\n      <td>2</td>\n      <td>0.0</td>\n      <td>0</td>\n      <td>0</td>\n      <td>0</td>\n      <td>5</td>\n      <td>0</td>\n      <td>0</td>\n      <td>51.1</td>\n      <td>478</td>\n    </tr>\n    <tr>\n      <th>6040</th>\n      <td>TEST_6040</td>\n      <td>COMPONENT1</td>\n      <td>2397</td>\n      <td>2016</td>\n      <td>1597</td>\n      <td>1</td>\n      <td>0</td>\n      <td>0</td>\n      <td>0</td>\n      <td>4</td>\n      <td>0.0</td>\n      <td>0</td>\n      <td>2</td>\n      <td>0</td>\n      <td>14</td>\n      <td>0</td>\n      <td>0</td>\n      <td>80.0</td>\n      <td>970</td>\n    </tr>\n  </tbody>\n</table>\n<p>20136 rows × 19 columns</p>\n</div>"
     },
     "execution_count": 41,
     "metadata": {},
     "output_type": "execute_result"
    }
   ],
   "source": [
    "df = pd.concat([train_test_col,test])\n",
    "df"
   ],
   "metadata": {
    "collapsed": false,
    "pycharm": {
     "name": "#%%\n"
    }
   }
  },
  {
   "cell_type": "markdown",
   "source": [
    "# 피처 엔지니어링"
   ],
   "metadata": {
    "collapsed": false,
    "pycharm": {
     "name": "#%% md\n"
    }
   }
  },
  {
   "cell_type": "code",
   "execution_count": 42,
   "outputs": [],
   "source": [
    "from sklearn.preprocessing import StandardScaler # 스케일링 라이브러리\n",
    "from sklearn.preprocessing import OneHotEncoder\n",
    "from sklearn.preprocessing import MinMaxScaler\n",
    "from sklearn.preprocessing import LabelEncoder\n",
    "from sklearn.preprocessing import RobustScaler"
   ],
   "metadata": {
    "collapsed": false,
    "pycharm": {
     "name": "#%%\n"
    }
   }
  },
  {
   "cell_type": "code",
   "execution_count": 43,
   "outputs": [],
   "source": [
    "num_attribss_list = df.drop(columns = ['ID','샘플오일관련부품']).columns"
   ],
   "metadata": {
    "collapsed": false,
    "pycharm": {
     "name": "#%%\n"
    }
   }
  },
  {
   "cell_type": "code",
   "execution_count": 44,
   "outputs": [],
   "source": [
    "num_attribss_list_drop_mang = df.drop(columns = ['ID','샘플오일관련부품','타이타늄']).columns"
   ],
   "metadata": {
    "collapsed": false,
    "pycharm": {
     "name": "#%%\n"
    }
   }
  },
  {
   "cell_type": "code",
   "execution_count": 45,
   "outputs": [],
   "source": [
    "num_attribss = df[num_attribss_list]\n",
    "cat_attribs = df[['샘플오일관련부품']]\n",
    "y = train['Y_LABEL']\n",
    "\n",
    "num_attribss_mang = df[num_attribss_list_drop_mang]\n",
    "# 변수별 타입 나누기"
   ],
   "metadata": {
    "collapsed": false,
    "pycharm": {
     "name": "#%%\n"
    }
   }
  },
  {
   "cell_type": "code",
   "execution_count": 46,
   "outputs": [
    {
     "data": {
      "text/plain": "      수치형데이터1  진단년도  수치형데이터2  은  일산화탄소  크로뮴   구리     철    물  망가니즈  몰리브데넘  니켈  \\\n0        1486  2011      200  0      0   13   78   888  0.0    16      1   6   \n1        1350  2021      375  0      0    0   31     2  0.0     0      0   0   \n2        2415  2015      200  0      0    1    2     4  0.0     0      0   0   \n3        7389  2010      200  0      0    0    1    37  0.0     1      0   0   \n4        3954  2015      200  0      0    0    0    71  0.0     0      0   0   \n...       ...   ...      ... ..    ...  ...  ...   ...  ...   ...    ...  ..   \n6036     1714  2014      200  0      0    3  130  1047  0.0    65      5   2   \n6037     4131  2016      200  0      0    5    2   736  0.0     5      0   0   \n6038     4325  2014      200  0      0    0    0    53  0.0     0      0   0   \n6039     1364  2013      200  0      0    0   62     2  0.0     0      0   0   \n6040     2397  2016     1597  1      0    0    0     4  0.0     0      2   0   \n\n      입자 정량 지수  바나듐  점도 40도    아연  \n0         8504    0   154.0    75  \n1           19    0    44.0   652  \n2           17    0    72.6   412  \n3           44    0   133.3     7  \n4          217    0   133.1   128  \n...        ...  ...     ...   ...  \n6036      1999    0    71.2  1163  \n6037       693    0   137.8    13  \n6038        69    0   302.2    13  \n6039         5    0    51.1   478  \n6040        14    0    80.0   970  \n\n[20136 rows x 16 columns]",
      "text/html": "<div>\n<style scoped>\n    .dataframe tbody tr th:only-of-type {\n        vertical-align: middle;\n    }\n\n    .dataframe tbody tr th {\n        vertical-align: top;\n    }\n\n    .dataframe thead th {\n        text-align: right;\n    }\n</style>\n<table border=\"1\" class=\"dataframe\">\n  <thead>\n    <tr style=\"text-align: right;\">\n      <th></th>\n      <th>수치형데이터1</th>\n      <th>진단년도</th>\n      <th>수치형데이터2</th>\n      <th>은</th>\n      <th>일산화탄소</th>\n      <th>크로뮴</th>\n      <th>구리</th>\n      <th>철</th>\n      <th>물</th>\n      <th>망가니즈</th>\n      <th>몰리브데넘</th>\n      <th>니켈</th>\n      <th>입자 정량 지수</th>\n      <th>바나듐</th>\n      <th>점도 40도</th>\n      <th>아연</th>\n    </tr>\n  </thead>\n  <tbody>\n    <tr>\n      <th>0</th>\n      <td>1486</td>\n      <td>2011</td>\n      <td>200</td>\n      <td>0</td>\n      <td>0</td>\n      <td>13</td>\n      <td>78</td>\n      <td>888</td>\n      <td>0.0</td>\n      <td>16</td>\n      <td>1</td>\n      <td>6</td>\n      <td>8504</td>\n      <td>0</td>\n      <td>154.0</td>\n      <td>75</td>\n    </tr>\n    <tr>\n      <th>1</th>\n      <td>1350</td>\n      <td>2021</td>\n      <td>375</td>\n      <td>0</td>\n      <td>0</td>\n      <td>0</td>\n      <td>31</td>\n      <td>2</td>\n      <td>0.0</td>\n      <td>0</td>\n      <td>0</td>\n      <td>0</td>\n      <td>19</td>\n      <td>0</td>\n      <td>44.0</td>\n      <td>652</td>\n    </tr>\n    <tr>\n      <th>2</th>\n      <td>2415</td>\n      <td>2015</td>\n      <td>200</td>\n      <td>0</td>\n      <td>0</td>\n      <td>1</td>\n      <td>2</td>\n      <td>4</td>\n      <td>0.0</td>\n      <td>0</td>\n      <td>0</td>\n      <td>0</td>\n      <td>17</td>\n      <td>0</td>\n      <td>72.6</td>\n      <td>412</td>\n    </tr>\n    <tr>\n      <th>3</th>\n      <td>7389</td>\n      <td>2010</td>\n      <td>200</td>\n      <td>0</td>\n      <td>0</td>\n      <td>0</td>\n      <td>1</td>\n      <td>37</td>\n      <td>0.0</td>\n      <td>1</td>\n      <td>0</td>\n      <td>0</td>\n      <td>44</td>\n      <td>0</td>\n      <td>133.3</td>\n      <td>7</td>\n    </tr>\n    <tr>\n      <th>4</th>\n      <td>3954</td>\n      <td>2015</td>\n      <td>200</td>\n      <td>0</td>\n      <td>0</td>\n      <td>0</td>\n      <td>0</td>\n      <td>71</td>\n      <td>0.0</td>\n      <td>0</td>\n      <td>0</td>\n      <td>0</td>\n      <td>217</td>\n      <td>0</td>\n      <td>133.1</td>\n      <td>128</td>\n    </tr>\n    <tr>\n      <th>...</th>\n      <td>...</td>\n      <td>...</td>\n      <td>...</td>\n      <td>...</td>\n      <td>...</td>\n      <td>...</td>\n      <td>...</td>\n      <td>...</td>\n      <td>...</td>\n      <td>...</td>\n      <td>...</td>\n      <td>...</td>\n      <td>...</td>\n      <td>...</td>\n      <td>...</td>\n      <td>...</td>\n    </tr>\n    <tr>\n      <th>6036</th>\n      <td>1714</td>\n      <td>2014</td>\n      <td>200</td>\n      <td>0</td>\n      <td>0</td>\n      <td>3</td>\n      <td>130</td>\n      <td>1047</td>\n      <td>0.0</td>\n      <td>65</td>\n      <td>5</td>\n      <td>2</td>\n      <td>1999</td>\n      <td>0</td>\n      <td>71.2</td>\n      <td>1163</td>\n    </tr>\n    <tr>\n      <th>6037</th>\n      <td>4131</td>\n      <td>2016</td>\n      <td>200</td>\n      <td>0</td>\n      <td>0</td>\n      <td>5</td>\n      <td>2</td>\n      <td>736</td>\n      <td>0.0</td>\n      <td>5</td>\n      <td>0</td>\n      <td>0</td>\n      <td>693</td>\n      <td>0</td>\n      <td>137.8</td>\n      <td>13</td>\n    </tr>\n    <tr>\n      <th>6038</th>\n      <td>4325</td>\n      <td>2014</td>\n      <td>200</td>\n      <td>0</td>\n      <td>0</td>\n      <td>0</td>\n      <td>0</td>\n      <td>53</td>\n      <td>0.0</td>\n      <td>0</td>\n      <td>0</td>\n      <td>0</td>\n      <td>69</td>\n      <td>0</td>\n      <td>302.2</td>\n      <td>13</td>\n    </tr>\n    <tr>\n      <th>6039</th>\n      <td>1364</td>\n      <td>2013</td>\n      <td>200</td>\n      <td>0</td>\n      <td>0</td>\n      <td>0</td>\n      <td>62</td>\n      <td>2</td>\n      <td>0.0</td>\n      <td>0</td>\n      <td>0</td>\n      <td>0</td>\n      <td>5</td>\n      <td>0</td>\n      <td>51.1</td>\n      <td>478</td>\n    </tr>\n    <tr>\n      <th>6040</th>\n      <td>2397</td>\n      <td>2016</td>\n      <td>1597</td>\n      <td>1</td>\n      <td>0</td>\n      <td>0</td>\n      <td>0</td>\n      <td>4</td>\n      <td>0.0</td>\n      <td>0</td>\n      <td>2</td>\n      <td>0</td>\n      <td>14</td>\n      <td>0</td>\n      <td>80.0</td>\n      <td>970</td>\n    </tr>\n  </tbody>\n</table>\n<p>20136 rows × 16 columns</p>\n</div>"
     },
     "execution_count": 46,
     "metadata": {},
     "output_type": "execute_result"
    }
   ],
   "source": [
    "num_attribss_mang"
   ],
   "metadata": {
    "collapsed": false,
    "pycharm": {
     "name": "#%%\n"
    }
   }
  },
  {
   "cell_type": "markdown",
   "source": [
    "## 이상치 제거"
   ],
   "metadata": {
    "collapsed": false
   }
  },
  {
   "cell_type": "code",
   "source": [
    "q3 = df.quantile(0.75)  # df['국어'].quantile(0.75) 처럼 특정 열만 적용 가능\n",
    "q1 = df.quantile(0.25)\n",
    "\n",
    "iqr = q3 - q1\n",
    "\n",
    "iqr"
   ],
   "metadata": {
    "collapsed": false,
    "pycharm": {
     "name": "#%%\n"
    }
   },
   "execution_count": 47,
   "outputs": [
    {
     "name": "stderr",
     "output_type": "stream",
     "text": [
      "C:\\Users\\yoon9\\AppData\\Local\\Temp\\ipykernel_27848\\764714985.py:1: FutureWarning: The default value of numeric_only in DataFrame.quantile is deprecated. In a future version, it will default to False. Select only valid columns or specify the value of numeric_only to silence this warning.\n",
      "  q3 = df.quantile(0.75)  # df['국어'].quantile(0.75) 처럼 특정 열만 적용 가능\n",
      "C:\\Users\\yoon9\\AppData\\Local\\Temp\\ipykernel_27848\\764714985.py:2: FutureWarning: The default value of numeric_only in DataFrame.quantile is deprecated. In a future version, it will default to False. Select only valid columns or specify the value of numeric_only to silence this warning.\n",
      "  q1 = df.quantile(0.25)\n"
     ]
    },
    {
     "data": {
      "text/plain": "수치형데이터1     2149.25\n진단년도           7.00\n수치형데이터2      212.00\n은              0.00\n일산화탄소          0.00\n크로뮴            3.00\n구리            16.00\n철            127.00\n물              0.00\n망가니즈           2.00\n몰리브데넘          7.00\n니켈             0.00\n입자 정량 지수     166.00\n타이타늄           0.00\n바나듐            0.00\n점도 40도        65.30\n아연          1080.00\ndtype: float64"
     },
     "execution_count": 47,
     "metadata": {},
     "output_type": "execute_result"
    }
   ]
  },
  {
   "cell_type": "code",
   "execution_count": 48,
   "outputs": [
    {
     "name": "stderr",
     "output_type": "stream",
     "text": [
      "C:\\Users\\yoon9\\AppData\\Local\\Temp\\ipykernel_27848\\1438212298.py:2: SettingWithCopyWarning: \n",
      "A value is trying to be set on a copy of a slice from a DataFrame.\n",
      "Try using .loc[row_indexer,col_indexer] = value instead\n",
      "\n",
      "See the caveats in the documentation: https://pandas.pydata.org/pandas-docs/stable/user_guide/indexing.html#returning-a-view-versus-a-copy\n",
      "  train_out['Y_LABEL'] = train['Y_LABEL']\n"
     ]
    },
    {
     "data": {
      "text/plain": "                ID    샘플오일관련부품  수치형데이터1  진단년도  수치형데이터2  은  일산화탄소  크로뮴   구리  \\\n0      TRAIN_00000  COMPONENT3     1486  2011      200  0      0   13   78   \n1      TRAIN_00001  COMPONENT2     1350  2021      375  0      0    0   31   \n2      TRAIN_00002  COMPONENT2     2415  2015      200  0      0    1    2   \n3      TRAIN_00003  COMPONENT3     7389  2010      200  0      0    0    1   \n4      TRAIN_00004  COMPONENT3     3954  2015      200  0      0    0    0   \n...            ...         ...      ...   ...      ... ..    ...  ...  ...   \n14090  TRAIN_14090  COMPONENT3     1616  2014      200  0      0    0    3   \n14091  TRAIN_14091  COMPONENT1     2784  2013      200  0      0    0    2   \n14092  TRAIN_14092  COMPONENT3     1788  2008      550  0      0    4    7   \n14093  TRAIN_14093  COMPONENT2     2498  2009      550  0      0    0  170   \n14094  TRAIN_14094  COMPONENT2     1902  2012      200  0      0    0  110   \n\n         철    물  망가니즈  몰리브데넘  니켈  입자 정량 지수  타이타늄  바나듐  점도 40도    아연  Y_LABEL  \n0      888  0.0    16      1   6      8504     5    0   154.0    75        0  \n1        2  0.0     0      0   0        19     0    0    44.0   652        0  \n2        4  0.0     0      0   0        17     0    0    72.6   412        1  \n3       37  0.0     1      0   0        44     0    0   133.3     7        0  \n4       71  0.0     0      0   0       217     0    0   133.1   128        0  \n...    ...  ...   ...    ...  ..       ...   ...  ...     ...   ...      ...  \n14090   23  0.0     0      0   0        35     0    0   135.4    16        0  \n14091   12  0.0     0    224   0         9     0    0   117.5  1408        0  \n14092  415  0.0     7     10   1       645     0    0    54.0  1301        0  \n14093   19  0.0     0      1   0        11     0    0    44.3   652        0  \n14094   10  0.0     0      0   0        81     2    0    47.0   612        0  \n\n[14095 rows x 20 columns]",
      "text/html": "<div>\n<style scoped>\n    .dataframe tbody tr th:only-of-type {\n        vertical-align: middle;\n    }\n\n    .dataframe tbody tr th {\n        vertical-align: top;\n    }\n\n    .dataframe thead th {\n        text-align: right;\n    }\n</style>\n<table border=\"1\" class=\"dataframe\">\n  <thead>\n    <tr style=\"text-align: right;\">\n      <th></th>\n      <th>ID</th>\n      <th>샘플오일관련부품</th>\n      <th>수치형데이터1</th>\n      <th>진단년도</th>\n      <th>수치형데이터2</th>\n      <th>은</th>\n      <th>일산화탄소</th>\n      <th>크로뮴</th>\n      <th>구리</th>\n      <th>철</th>\n      <th>물</th>\n      <th>망가니즈</th>\n      <th>몰리브데넘</th>\n      <th>니켈</th>\n      <th>입자 정량 지수</th>\n      <th>타이타늄</th>\n      <th>바나듐</th>\n      <th>점도 40도</th>\n      <th>아연</th>\n      <th>Y_LABEL</th>\n    </tr>\n  </thead>\n  <tbody>\n    <tr>\n      <th>0</th>\n      <td>TRAIN_00000</td>\n      <td>COMPONENT3</td>\n      <td>1486</td>\n      <td>2011</td>\n      <td>200</td>\n      <td>0</td>\n      <td>0</td>\n      <td>13</td>\n      <td>78</td>\n      <td>888</td>\n      <td>0.0</td>\n      <td>16</td>\n      <td>1</td>\n      <td>6</td>\n      <td>8504</td>\n      <td>5</td>\n      <td>0</td>\n      <td>154.0</td>\n      <td>75</td>\n      <td>0</td>\n    </tr>\n    <tr>\n      <th>1</th>\n      <td>TRAIN_00001</td>\n      <td>COMPONENT2</td>\n      <td>1350</td>\n      <td>2021</td>\n      <td>375</td>\n      <td>0</td>\n      <td>0</td>\n      <td>0</td>\n      <td>31</td>\n      <td>2</td>\n      <td>0.0</td>\n      <td>0</td>\n      <td>0</td>\n      <td>0</td>\n      <td>19</td>\n      <td>0</td>\n      <td>0</td>\n      <td>44.0</td>\n      <td>652</td>\n      <td>0</td>\n    </tr>\n    <tr>\n      <th>2</th>\n      <td>TRAIN_00002</td>\n      <td>COMPONENT2</td>\n      <td>2415</td>\n      <td>2015</td>\n      <td>200</td>\n      <td>0</td>\n      <td>0</td>\n      <td>1</td>\n      <td>2</td>\n      <td>4</td>\n      <td>0.0</td>\n      <td>0</td>\n      <td>0</td>\n      <td>0</td>\n      <td>17</td>\n      <td>0</td>\n      <td>0</td>\n      <td>72.6</td>\n      <td>412</td>\n      <td>1</td>\n    </tr>\n    <tr>\n      <th>3</th>\n      <td>TRAIN_00003</td>\n      <td>COMPONENT3</td>\n      <td>7389</td>\n      <td>2010</td>\n      <td>200</td>\n      <td>0</td>\n      <td>0</td>\n      <td>0</td>\n      <td>1</td>\n      <td>37</td>\n      <td>0.0</td>\n      <td>1</td>\n      <td>0</td>\n      <td>0</td>\n      <td>44</td>\n      <td>0</td>\n      <td>0</td>\n      <td>133.3</td>\n      <td>7</td>\n      <td>0</td>\n    </tr>\n    <tr>\n      <th>4</th>\n      <td>TRAIN_00004</td>\n      <td>COMPONENT3</td>\n      <td>3954</td>\n      <td>2015</td>\n      <td>200</td>\n      <td>0</td>\n      <td>0</td>\n      <td>0</td>\n      <td>0</td>\n      <td>71</td>\n      <td>0.0</td>\n      <td>0</td>\n      <td>0</td>\n      <td>0</td>\n      <td>217</td>\n      <td>0</td>\n      <td>0</td>\n      <td>133.1</td>\n      <td>128</td>\n      <td>0</td>\n    </tr>\n    <tr>\n      <th>...</th>\n      <td>...</td>\n      <td>...</td>\n      <td>...</td>\n      <td>...</td>\n      <td>...</td>\n      <td>...</td>\n      <td>...</td>\n      <td>...</td>\n      <td>...</td>\n      <td>...</td>\n      <td>...</td>\n      <td>...</td>\n      <td>...</td>\n      <td>...</td>\n      <td>...</td>\n      <td>...</td>\n      <td>...</td>\n      <td>...</td>\n      <td>...</td>\n      <td>...</td>\n    </tr>\n    <tr>\n      <th>14090</th>\n      <td>TRAIN_14090</td>\n      <td>COMPONENT3</td>\n      <td>1616</td>\n      <td>2014</td>\n      <td>200</td>\n      <td>0</td>\n      <td>0</td>\n      <td>0</td>\n      <td>3</td>\n      <td>23</td>\n      <td>0.0</td>\n      <td>0</td>\n      <td>0</td>\n      <td>0</td>\n      <td>35</td>\n      <td>0</td>\n      <td>0</td>\n      <td>135.4</td>\n      <td>16</td>\n      <td>0</td>\n    </tr>\n    <tr>\n      <th>14091</th>\n      <td>TRAIN_14091</td>\n      <td>COMPONENT1</td>\n      <td>2784</td>\n      <td>2013</td>\n      <td>200</td>\n      <td>0</td>\n      <td>0</td>\n      <td>0</td>\n      <td>2</td>\n      <td>12</td>\n      <td>0.0</td>\n      <td>0</td>\n      <td>224</td>\n      <td>0</td>\n      <td>9</td>\n      <td>0</td>\n      <td>0</td>\n      <td>117.5</td>\n      <td>1408</td>\n      <td>0</td>\n    </tr>\n    <tr>\n      <th>14092</th>\n      <td>TRAIN_14092</td>\n      <td>COMPONENT3</td>\n      <td>1788</td>\n      <td>2008</td>\n      <td>550</td>\n      <td>0</td>\n      <td>0</td>\n      <td>4</td>\n      <td>7</td>\n      <td>415</td>\n      <td>0.0</td>\n      <td>7</td>\n      <td>10</td>\n      <td>1</td>\n      <td>645</td>\n      <td>0</td>\n      <td>0</td>\n      <td>54.0</td>\n      <td>1301</td>\n      <td>0</td>\n    </tr>\n    <tr>\n      <th>14093</th>\n      <td>TRAIN_14093</td>\n      <td>COMPONENT2</td>\n      <td>2498</td>\n      <td>2009</td>\n      <td>550</td>\n      <td>0</td>\n      <td>0</td>\n      <td>0</td>\n      <td>170</td>\n      <td>19</td>\n      <td>0.0</td>\n      <td>0</td>\n      <td>1</td>\n      <td>0</td>\n      <td>11</td>\n      <td>0</td>\n      <td>0</td>\n      <td>44.3</td>\n      <td>652</td>\n      <td>0</td>\n    </tr>\n    <tr>\n      <th>14094</th>\n      <td>TRAIN_14094</td>\n      <td>COMPONENT2</td>\n      <td>1902</td>\n      <td>2012</td>\n      <td>200</td>\n      <td>0</td>\n      <td>0</td>\n      <td>0</td>\n      <td>110</td>\n      <td>10</td>\n      <td>0.0</td>\n      <td>0</td>\n      <td>0</td>\n      <td>0</td>\n      <td>81</td>\n      <td>2</td>\n      <td>0</td>\n      <td>47.0</td>\n      <td>612</td>\n      <td>0</td>\n    </tr>\n  </tbody>\n</table>\n<p>14095 rows × 20 columns</p>\n</div>"
     },
     "execution_count": 48,
     "metadata": {},
     "output_type": "execute_result"
    }
   ],
   "source": [
    "train_out = train[test_columns_list]\n",
    "train_out['Y_LABEL'] = train['Y_LABEL']\n",
    "train_out"
   ],
   "metadata": {
    "collapsed": false,
    "pycharm": {
     "name": "#%%\n"
    }
   }
  },
  {
   "cell_type": "code",
   "execution_count": 49,
   "outputs": [],
   "source": [
    "# '국어' 열에 대하여 이상치 여부를 판별해주는 함수\n",
    "\n",
    "def remove_out(dataframe, remove_col):\n",
    "    dff = dataframe\n",
    "    for k in remove_col:\n",
    "        level_1q = dff[k].quantile(0.25)\n",
    "        level_3q = dff[k].quantile(0.75)\n",
    "        IQR = level_3q - level_1q\n",
    "        rev_range = 3  # 제거 범위 조절 변수\n",
    "        dff = dff[(dff[k] <= level_3q + (rev_range * IQR)) & (dff[k] >= level_1q - (rev_range * IQR))]\n",
    "        dff = dff.reset_index(drop=True)\n",
    "    return dff"
   ],
   "metadata": {
    "collapsed": false,
    "pycharm": {
     "name": "#%%\n"
    }
   }
  },
  {
   "cell_type": "code",
   "execution_count": 50,
   "outputs": [],
   "source": [
    "train_outlier = remove_out(train_out,num_attribss_list)"
   ],
   "metadata": {
    "collapsed": false,
    "pycharm": {
     "name": "#%%\n"
    }
   }
  },
  {
   "cell_type": "code",
   "execution_count": 51,
   "outputs": [
    {
     "data": {
      "text/plain": "               ID    샘플오일관련부품  수치형데이터1  진단년도  수치형데이터2  은  일산화탄소  크로뮴  구리   철  \\\n0     TRAIN_00001  COMPONENT2     1350  2021      375  0      0    0  31   2   \n1     TRAIN_00002  COMPONENT2     2415  2015      200  0      0    1   2   4   \n2     TRAIN_00003  COMPONENT3     7389  2010      200  0      0    0   1  37   \n3     TRAIN_00004  COMPONENT3     3954  2015      200  0      0    0   0  71   \n4     TRAIN_00006  COMPONENT3     1416  2015      616  0      0    0   3  35   \n...           ...         ...      ...   ...      ... ..    ...  ...  ..  ..   \n6111  TRAIN_14085  COMPONENT2     4976  2013      200  0      0    0  14   3   \n6112  TRAIN_14087  COMPONENT1     1192  2014      200  0      0    0   0   9   \n6113  TRAIN_14088  COMPONENT3     1311  2010      511  0      0    0   8  43   \n6114  TRAIN_14089  COMPONENT2     1552  2007      375  0      0    0  41  15   \n6115  TRAIN_14090  COMPONENT3     1616  2014      200  0      0    0   3  23   \n\n        물  망가니즈  몰리브데넘  니켈  입자 정량 지수  타이타늄  바나듐  점도 40도    아연  Y_LABEL  \n0     0.0     0      0   0        19     0    0    44.0   652        0  \n1     0.0     0      0   0        17     0    0    72.6   412        1  \n2     0.0     1      0   0        44     0    0   133.3     7        0  \n3     0.0     0      0   0       217     0    0   133.1   128        0  \n4     0.0     0      0   0        26     0    0   148.5    24        0  \n...   ...   ...    ...  ..       ...   ...  ...     ...   ...      ...  \n6111  0.0     0      0   0         7     0    0    44.0   651        0  \n6112  0.0     0      0   0        11     0    0   106.2  1204        0  \n6113  0.0     0      0   0        16     0    0   128.9    20        0  \n6114  0.0     0      0   0        35     0    0    59.8   395        1  \n6115  0.0     0      0   0        35     0    0   135.4    16        0  \n\n[6116 rows x 20 columns]",
      "text/html": "<div>\n<style scoped>\n    .dataframe tbody tr th:only-of-type {\n        vertical-align: middle;\n    }\n\n    .dataframe tbody tr th {\n        vertical-align: top;\n    }\n\n    .dataframe thead th {\n        text-align: right;\n    }\n</style>\n<table border=\"1\" class=\"dataframe\">\n  <thead>\n    <tr style=\"text-align: right;\">\n      <th></th>\n      <th>ID</th>\n      <th>샘플오일관련부품</th>\n      <th>수치형데이터1</th>\n      <th>진단년도</th>\n      <th>수치형데이터2</th>\n      <th>은</th>\n      <th>일산화탄소</th>\n      <th>크로뮴</th>\n      <th>구리</th>\n      <th>철</th>\n      <th>물</th>\n      <th>망가니즈</th>\n      <th>몰리브데넘</th>\n      <th>니켈</th>\n      <th>입자 정량 지수</th>\n      <th>타이타늄</th>\n      <th>바나듐</th>\n      <th>점도 40도</th>\n      <th>아연</th>\n      <th>Y_LABEL</th>\n    </tr>\n  </thead>\n  <tbody>\n    <tr>\n      <th>0</th>\n      <td>TRAIN_00001</td>\n      <td>COMPONENT2</td>\n      <td>1350</td>\n      <td>2021</td>\n      <td>375</td>\n      <td>0</td>\n      <td>0</td>\n      <td>0</td>\n      <td>31</td>\n      <td>2</td>\n      <td>0.0</td>\n      <td>0</td>\n      <td>0</td>\n      <td>0</td>\n      <td>19</td>\n      <td>0</td>\n      <td>0</td>\n      <td>44.0</td>\n      <td>652</td>\n      <td>0</td>\n    </tr>\n    <tr>\n      <th>1</th>\n      <td>TRAIN_00002</td>\n      <td>COMPONENT2</td>\n      <td>2415</td>\n      <td>2015</td>\n      <td>200</td>\n      <td>0</td>\n      <td>0</td>\n      <td>1</td>\n      <td>2</td>\n      <td>4</td>\n      <td>0.0</td>\n      <td>0</td>\n      <td>0</td>\n      <td>0</td>\n      <td>17</td>\n      <td>0</td>\n      <td>0</td>\n      <td>72.6</td>\n      <td>412</td>\n      <td>1</td>\n    </tr>\n    <tr>\n      <th>2</th>\n      <td>TRAIN_00003</td>\n      <td>COMPONENT3</td>\n      <td>7389</td>\n      <td>2010</td>\n      <td>200</td>\n      <td>0</td>\n      <td>0</td>\n      <td>0</td>\n      <td>1</td>\n      <td>37</td>\n      <td>0.0</td>\n      <td>1</td>\n      <td>0</td>\n      <td>0</td>\n      <td>44</td>\n      <td>0</td>\n      <td>0</td>\n      <td>133.3</td>\n      <td>7</td>\n      <td>0</td>\n    </tr>\n    <tr>\n      <th>3</th>\n      <td>TRAIN_00004</td>\n      <td>COMPONENT3</td>\n      <td>3954</td>\n      <td>2015</td>\n      <td>200</td>\n      <td>0</td>\n      <td>0</td>\n      <td>0</td>\n      <td>0</td>\n      <td>71</td>\n      <td>0.0</td>\n      <td>0</td>\n      <td>0</td>\n      <td>0</td>\n      <td>217</td>\n      <td>0</td>\n      <td>0</td>\n      <td>133.1</td>\n      <td>128</td>\n      <td>0</td>\n    </tr>\n    <tr>\n      <th>4</th>\n      <td>TRAIN_00006</td>\n      <td>COMPONENT3</td>\n      <td>1416</td>\n      <td>2015</td>\n      <td>616</td>\n      <td>0</td>\n      <td>0</td>\n      <td>0</td>\n      <td>3</td>\n      <td>35</td>\n      <td>0.0</td>\n      <td>0</td>\n      <td>0</td>\n      <td>0</td>\n      <td>26</td>\n      <td>0</td>\n      <td>0</td>\n      <td>148.5</td>\n      <td>24</td>\n      <td>0</td>\n    </tr>\n    <tr>\n      <th>...</th>\n      <td>...</td>\n      <td>...</td>\n      <td>...</td>\n      <td>...</td>\n      <td>...</td>\n      <td>...</td>\n      <td>...</td>\n      <td>...</td>\n      <td>...</td>\n      <td>...</td>\n      <td>...</td>\n      <td>...</td>\n      <td>...</td>\n      <td>...</td>\n      <td>...</td>\n      <td>...</td>\n      <td>...</td>\n      <td>...</td>\n      <td>...</td>\n      <td>...</td>\n    </tr>\n    <tr>\n      <th>6111</th>\n      <td>TRAIN_14085</td>\n      <td>COMPONENT2</td>\n      <td>4976</td>\n      <td>2013</td>\n      <td>200</td>\n      <td>0</td>\n      <td>0</td>\n      <td>0</td>\n      <td>14</td>\n      <td>3</td>\n      <td>0.0</td>\n      <td>0</td>\n      <td>0</td>\n      <td>0</td>\n      <td>7</td>\n      <td>0</td>\n      <td>0</td>\n      <td>44.0</td>\n      <td>651</td>\n      <td>0</td>\n    </tr>\n    <tr>\n      <th>6112</th>\n      <td>TRAIN_14087</td>\n      <td>COMPONENT1</td>\n      <td>1192</td>\n      <td>2014</td>\n      <td>200</td>\n      <td>0</td>\n      <td>0</td>\n      <td>0</td>\n      <td>0</td>\n      <td>9</td>\n      <td>0.0</td>\n      <td>0</td>\n      <td>0</td>\n      <td>0</td>\n      <td>11</td>\n      <td>0</td>\n      <td>0</td>\n      <td>106.2</td>\n      <td>1204</td>\n      <td>0</td>\n    </tr>\n    <tr>\n      <th>6113</th>\n      <td>TRAIN_14088</td>\n      <td>COMPONENT3</td>\n      <td>1311</td>\n      <td>2010</td>\n      <td>511</td>\n      <td>0</td>\n      <td>0</td>\n      <td>0</td>\n      <td>8</td>\n      <td>43</td>\n      <td>0.0</td>\n      <td>0</td>\n      <td>0</td>\n      <td>0</td>\n      <td>16</td>\n      <td>0</td>\n      <td>0</td>\n      <td>128.9</td>\n      <td>20</td>\n      <td>0</td>\n    </tr>\n    <tr>\n      <th>6114</th>\n      <td>TRAIN_14089</td>\n      <td>COMPONENT2</td>\n      <td>1552</td>\n      <td>2007</td>\n      <td>375</td>\n      <td>0</td>\n      <td>0</td>\n      <td>0</td>\n      <td>41</td>\n      <td>15</td>\n      <td>0.0</td>\n      <td>0</td>\n      <td>0</td>\n      <td>0</td>\n      <td>35</td>\n      <td>0</td>\n      <td>0</td>\n      <td>59.8</td>\n      <td>395</td>\n      <td>1</td>\n    </tr>\n    <tr>\n      <th>6115</th>\n      <td>TRAIN_14090</td>\n      <td>COMPONENT3</td>\n      <td>1616</td>\n      <td>2014</td>\n      <td>200</td>\n      <td>0</td>\n      <td>0</td>\n      <td>0</td>\n      <td>3</td>\n      <td>23</td>\n      <td>0.0</td>\n      <td>0</td>\n      <td>0</td>\n      <td>0</td>\n      <td>35</td>\n      <td>0</td>\n      <td>0</td>\n      <td>135.4</td>\n      <td>16</td>\n      <td>0</td>\n    </tr>\n  </tbody>\n</table>\n<p>6116 rows × 20 columns</p>\n</div>"
     },
     "execution_count": 51,
     "metadata": {},
     "output_type": "execute_result"
    }
   ],
   "source": [
    "train_outlier"
   ],
   "metadata": {
    "collapsed": false,
    "pycharm": {
     "name": "#%%\n"
    }
   }
  },
  {
   "cell_type": "code",
   "execution_count": 52,
   "outputs": [
    {
     "data": {
      "text/plain": "<Figure size 2000x800 with 1 Axes>",
      "image/png": "[encoded data removed]"
     },
     "metadata": {},
     "output_type": "display_data"
    }
   ],
   "source": [
    "plt.figure(figsize=(20,8))\n",
    "sns.boxplot(train_outlier)\n",
    "plt.show()"
   ],
   "metadata": {
    "collapsed": false,
    "pycharm": {
     "name": "#%%\n"
    }
   }
  },
  {
   "cell_type": "code",
   "execution_count": 52,
   "outputs": [],
   "source": [],
   "metadata": {
    "collapsed": false,
    "pycharm": {
     "name": "#%%\n"
    }
   }
  },
  {
   "cell_type": "markdown",
   "source": [
    "## 스케일링"
   ],
   "metadata": {
    "collapsed": false
   }
  },
  {
   "cell_type": "markdown",
   "source": [
    "### StandardScaler"
   ],
   "metadata": {
    "collapsed": false
   }
  },
  {
   "cell_type": "code",
   "execution_count": 53,
   "outputs": [],
   "source": [
    "# 스탠다드 스케일러\n",
    "def standard_scale(df):\n",
    "    # 수치형 변수 스케일링\n",
    "    sta_scaler = StandardScaler()\n",
    "    sta_X_scale = sta_scaler.fit_transform(df)\n",
    "    sta_X_scale = pd.DataFrame(sta_X_scale, columns=df.columns)\n",
    "    return sta_X_scale  # 스케일링 데이터 프레임화\n",
    "\n",
    "# MinMax scaler\n",
    "def MM_scale(df):\n",
    "    MM_scaler = MinMaxScaler()\n",
    "    MM_X_scale = MM_scaler.fit_transform(df)\n",
    "    MM_X_scale = pd.DataFrame(MM_X_scale, columns=df.columns)\n",
    "    return MM_X_scale  # 스케일링 데이터 프레임화\n",
    "\n",
    "# robust scaler\n",
    "def robust_scale(df):\n",
    "    robustScaler = RobustScaler()\n",
    "    print(robustScaler.fit(df))\n",
    "    train_data_robustScaled = robustScaler.transform(df)\n",
    "    robust_X_scale = pd.DataFrame(train_data_robustScaled, columns=num_attribss.columns)\n",
    "    return robust_X_scale"
   ],
   "metadata": {
    "collapsed": false,
    "pycharm": {
     "name": "#%%\n"
    }
   }
  },
  {
   "cell_type": "markdown",
   "source": [
    "# 인코딩"
   ],
   "metadata": {
    "collapsed": false,
    "pycharm": {
     "name": "#%% md\n"
    }
   }
  },
  {
   "cell_type": "code",
   "execution_count": 54,
   "outputs": [],
   "source": [
    "# 원핫인코딩 함수 적용\n",
    "def hot1_encoding(df):\n",
    "    hot1_encoder = OneHotEncoder(sparse=False,drop='if_binary')\n",
    "    X_1hot = hot1_encoder.fit_transform(df)\n",
    "    X_1hot = pd.DataFrame(X_1hot, columns=hot1_encoder.get_feature_names())\n",
    "    return X_1hot\n",
    "\n",
    "# 라벨 인코딩\n",
    "def label_encoding(df):\n",
    "    X_label = df.copy()\n",
    "    lab_encoder = LabelEncoder()  #순서가 있는 카테고리형\n",
    "    for name in df.columns:\n",
    "        X_label[name] = lab_encoder.fit_transform(df[name])\n",
    "    X_label_ob = X_label.astype('object')\n",
    "    return X_label_ob"
   ],
   "metadata": {
    "collapsed": false,
    "pycharm": {
     "name": "#%%\n"
    }
   }
  },
  {
   "cell_type": "markdown",
   "source": [
    "# 데이터 프레임 합치기"
   ],
   "metadata": {
    "collapsed": false
   }
  },
  {
   "cell_type": "code",
   "execution_count": 55,
   "outputs": [],
   "source": [
    "def cocnat_df(df1,df2):\n",
    "    df1 = df1.reset_index()\n",
    "    df2 = df2.reset_index()\n",
    "    df_all = pd.concat([df1,df2],axis=1)\n",
    "    df_all = df_all.drop(columns=['index'])\n",
    "    return df_all"
   ],
   "metadata": {
    "collapsed": false,
    "pycharm": {
     "name": "#%%\n"
    }
   }
  },
  {
   "cell_type": "code",
   "execution_count": 56,
   "outputs": [],
   "source": [
    "df_base = cocnat_df(num_attribss,label_encoding(cat_attribs))"
   ],
   "metadata": {
    "collapsed": false,
    "pycharm": {
     "name": "#%%\n"
    }
   }
  },
  {
   "cell_type": "code",
   "execution_count": 57,
   "outputs": [
    {
     "data": {
      "text/plain": "       수치형데이터1  진단년도  수치형데이터2  은  일산화탄소  크로뮴   구리     철    물  망가니즈  몰리브데넘  니켈  \\\n0         1486  2011      200  0      0   13   78   888  0.0    16      1   6   \n1         1350  2021      375  0      0    0   31     2  0.0     0      0   0   \n2         2415  2015      200  0      0    1    2     4  0.0     0      0   0   \n3         7389  2010      200  0      0    0    1    37  0.0     1      0   0   \n4         3954  2015      200  0      0    0    0    71  0.0     0      0   0   \n...        ...   ...      ... ..    ...  ...  ...   ...  ...   ...    ...  ..   \n20131     1714  2014      200  0      0    3  130  1047  0.0    65      5   2   \n20132     4131  2016      200  0      0    5    2   736  0.0     5      0   0   \n20133     4325  2014      200  0      0    0    0    53  0.0     0      0   0   \n20134     1364  2013      200  0      0    0   62     2  0.0     0      0   0   \n20135     2397  2016     1597  1      0    0    0     4  0.0     0      2   0   \n\n       입자 정량 지수  타이타늄  바나듐  점도 40도    아연 샘플오일관련부품  \n0          8504     5    0   154.0    75        2  \n1            19     0    0    44.0   652        1  \n2            17     0    0    72.6   412        1  \n3            44     0    0   133.3     7        2  \n4           217     0    0   133.1   128        2  \n...         ...   ...  ...     ...   ...      ...  \n20131      1999     0    0    71.2  1163        2  \n20132       693     0    0   137.8    13        2  \n20133        69     0    0   302.2    13        2  \n20134         5     0    0    51.1   478        1  \n20135        14     0    0    80.0   970        0  \n\n[20136 rows x 18 columns]",
      "text/html": "<div>\n<style scoped>\n    .dataframe tbody tr th:only-of-type {\n        vertical-align: middle;\n    }\n\n    .dataframe tbody tr th {\n        vertical-align: top;\n    }\n\n    .dataframe thead th {\n        text-align: right;\n    }\n</style>\n<table border=\"1\" class=\"dataframe\">\n  <thead>\n    <tr style=\"text-align: right;\">\n      <th></th>\n      <th>수치형데이터1</th>\n      <th>진단년도</th>\n      <th>수치형데이터2</th>\n      <th>은</th>\n      <th>일산화탄소</th>\n      <th>크로뮴</th>\n      <th>구리</th>\n      <th>철</th>\n      <th>물</th>\n      <th>망가니즈</th>\n      <th>몰리브데넘</th>\n      <th>니켈</th>\n      <th>입자 정량 지수</th>\n      <th>타이타늄</th>\n      <th>바나듐</th>\n      <th>점도 40도</th>\n      <th>아연</th>\n      <th>샘플오일관련부품</th>\n    </tr>\n  </thead>\n  <tbody>\n    <tr>\n      <th>0</th>\n      <td>1486</td>\n      <td>2011</td>\n      <td>200</td>\n      <td>0</td>\n      <td>0</td>\n      <td>13</td>\n      <td>78</td>\n      <td>888</td>\n      <td>0.0</td>\n      <td>16</td>\n      <td>1</td>\n      <td>6</td>\n      <td>8504</td>\n      <td>5</td>\n      <td>0</td>\n      <td>154.0</td>\n      <td>75</td>\n      <td>2</td>\n    </tr>\n    <tr>\n      <th>1</th>\n      <td>1350</td>\n      <td>2021</td>\n      <td>375</td>\n      <td>0</td>\n      <td>0</td>\n      <td>0</td>\n      <td>31</td>\n      <td>2</td>\n      <td>0.0</td>\n      <td>0</td>\n      <td>0</td>\n      <td>0</td>\n      <td>19</td>\n      <td>0</td>\n      <td>0</td>\n      <td>44.0</td>\n      <td>652</td>\n      <td>1</td>\n    </tr>\n    <tr>\n      <th>2</th>\n      <td>2415</td>\n      <td>2015</td>\n      <td>200</td>\n      <td>0</td>\n      <td>0</td>\n      <td>1</td>\n      <td>2</td>\n      <td>4</td>\n      <td>0.0</td>\n      <td>0</td>\n      <td>0</td>\n      <td>0</td>\n      <td>17</td>\n      <td>0</td>\n      <td>0</td>\n      <td>72.6</td>\n      <td>412</td>\n      <td>1</td>\n    </tr>\n    <tr>\n      <th>3</th>\n      <td>7389</td>\n      <td>2010</td>\n      <td>200</td>\n      <td>0</td>\n      <td>0</td>\n      <td>0</td>\n      <td>1</td>\n      <td>37</td>\n      <td>0.0</td>\n      <td>1</td>\n      <td>0</td>\n      <td>0</td>\n      <td>44</td>\n      <td>0</td>\n      <td>0</td>\n      <td>133.3</td>\n      <td>7</td>\n      <td>2</td>\n    </tr>\n    <tr>\n      <th>4</th>\n      <td>3954</td>\n      <td>2015</td>\n      <td>200</td>\n      <td>0</td>\n      <td>0</td>\n      <td>0</td>\n      <td>0</td>\n      <td>71</td>\n      <td>0.0</td>\n      <td>0</td>\n      <td>0</td>\n      <td>0</td>\n      <td>217</td>\n      <td>0</td>\n      <td>0</td>\n      <td>133.1</td>\n      <td>128</td>\n      <td>2</td>\n    </tr>\n    <tr>\n      <th>...</th>\n      <td>...</td>\n      <td>...</td>\n      <td>...</td>\n      <td>...</td>\n      <td>...</td>\n      <td>...</td>\n      <td>...</td>\n      <td>...</td>\n      <td>...</td>\n      <td>...</td>\n      <td>...</td>\n      <td>...</td>\n      <td>...</td>\n      <td>...</td>\n      <td>...</td>\n      <td>...</td>\n      <td>...</td>\n      <td>...</td>\n    </tr>\n    <tr>\n      <th>20131</th>\n      <td>1714</td>\n      <td>2014</td>\n      <td>200</td>\n      <td>0</td>\n      <td>0</td>\n      <td>3</td>\n      <td>130</td>\n      <td>1047</td>\n      <td>0.0</td>\n      <td>65</td>\n      <td>5</td>\n      <td>2</td>\n      <td>1999</td>\n      <td>0</td>\n      <td>0</td>\n      <td>71.2</td>\n      <td>1163</td>\n      <td>2</td>\n    </tr>\n    <tr>\n      <th>20132</th>\n      <td>4131</td>\n      <td>2016</td>\n      <td>200</td>\n      <td>0</td>\n      <td>0</td>\n      <td>5</td>\n      <td>2</td>\n      <td>736</td>\n      <td>0.0</td>\n      <td>5</td>\n      <td>0</td>\n      <td>0</td>\n      <td>693</td>\n      <td>0</td>\n      <td>0</td>\n      <td>137.8</td>\n      <td>13</td>\n      <td>2</td>\n    </tr>\n    <tr>\n      <th>20133</th>\n      <td>4325</td>\n      <td>2014</td>\n      <td>200</td>\n      <td>0</td>\n      <td>0</td>\n      <td>0</td>\n      <td>0</td>\n      <td>53</td>\n      <td>0.0</td>\n      <td>0</td>\n      <td>0</td>\n      <td>0</td>\n      <td>69</td>\n      <td>0</td>\n      <td>0</td>\n      <td>302.2</td>\n      <td>13</td>\n      <td>2</td>\n    </tr>\n    <tr>\n      <th>20134</th>\n      <td>1364</td>\n      <td>2013</td>\n      <td>200</td>\n      <td>0</td>\n      <td>0</td>\n      <td>0</td>\n      <td>62</td>\n      <td>2</td>\n      <td>0.0</td>\n      <td>0</td>\n      <td>0</td>\n      <td>0</td>\n      <td>5</td>\n      <td>0</td>\n      <td>0</td>\n      <td>51.1</td>\n      <td>478</td>\n      <td>1</td>\n    </tr>\n    <tr>\n      <th>20135</th>\n      <td>2397</td>\n      <td>2016</td>\n      <td>1597</td>\n      <td>1</td>\n      <td>0</td>\n      <td>0</td>\n      <td>0</td>\n      <td>4</td>\n      <td>0.0</td>\n      <td>0</td>\n      <td>2</td>\n      <td>0</td>\n      <td>14</td>\n      <td>0</td>\n      <td>0</td>\n      <td>80.0</td>\n      <td>970</td>\n      <td>0</td>\n    </tr>\n  </tbody>\n</table>\n<p>20136 rows × 18 columns</p>\n</div>"
     },
     "execution_count": 57,
     "metadata": {},
     "output_type": "execute_result"
    }
   ],
   "source": [
    "df_base"
   ],
   "metadata": {
    "collapsed": false,
    "pycharm": {
     "name": "#%%\n"
    }
   }
  },
  {
   "cell_type": "markdown",
   "source": [
    "# 데이터 나누기"
   ],
   "metadata": {
    "collapsed": false,
    "pycharm": {
     "name": "#%% md\n"
    }
   }
  },
  {
   "cell_type": "code",
   "execution_count": 58,
   "outputs": [],
   "source": [
    "def split_train_test(df):\n",
    "\n",
    "    train = df[:14095]\n",
    "    test = df[14095:]\n",
    "    return train, test\n",
    "\n",
    "def split_train_test_out(df):\n",
    "\n",
    "    train = df[:6116]\n",
    "    test = df[6116:]\n",
    "    return train, test\n",
    "\n",
    "def split_train_val(df,y):\n",
    "\n",
    "    X_train, X_val, y_train, y_val = train_test_split(df, y, test_size=0.3, shuffle=True, stratify=y, random_state=42)\n",
    "    print(X_train.shape, X_val.shape, y_train.shape, y_val.shape)\n",
    "\n",
    "    return X_train, X_val, y_train, y_val\n"
   ],
   "metadata": {
    "collapsed": false,
    "pycharm": {
     "name": "#%%\n"
    }
   }
  },
  {
   "cell_type": "markdown",
   "source": [
    "## 모델 평가 함수"
   ],
   "metadata": {
    "collapsed": false
   }
  },
  {
   "cell_type": "code",
   "execution_count": 32,
   "outputs": [],
   "source": [
    "from sklearn.metrics import precision_score, recall_score\n",
    "from sklearn.metrics import f1_score\n",
    "from sklearn.metrics import confusion_matrix\n",
    "from sklearn.metrics import accuracy_score"
   ],
   "metadata": {
    "collapsed": false,
    "pycharm": {
     "name": "#%%\n"
    }
   }
  },
  {
   "cell_type": "code",
   "execution_count": 33,
   "outputs": [],
   "source": [
    "def model_eval(pred, answer):\n",
    "    print(f'accuracy_score : {accuracy_score(pred,answer)}')\n",
    "    print(f'recall_score : {recall_score(pred,answer)}')\n",
    "    print(f'precision_score : {precision_score(pred,answer)}')\n",
    "    print(f'f1_score : {f1_score(pred,answer)}')\n",
    "    print(f'coufusion_matrix : ')\n",
    "    print(confusion_matrix(pred,answer))"
   ],
   "metadata": {
    "collapsed": false,
    "pycharm": {
     "name": "#%%\n"
    }
   }
  },
  {
   "cell_type": "markdown",
   "source": [
    "## 모델 학습 및 평가 함수"
   ],
   "metadata": {
    "collapsed": false
   }
  },
  {
   "cell_type": "code",
   "execution_count": 34,
   "outputs": [],
   "source": [
    "from sklearn.ensemble import RandomForestClassifier"
   ],
   "metadata": {
    "collapsed": false,
    "pycharm": {
     "name": "#%%\n"
    }
   }
  },
  {
   "cell_type": "code",
   "execution_count": 35,
   "outputs": [],
   "source": [
    "def pipeline_RF(X_train,X_val,y_train,y_val):\n",
    "    model_rf = RandomForestClassifier(max_depth=10,n_estimators=100)\n",
    "    model_rf.fit(X_train,y_train)\n",
    "    print(model_rf)\n",
    "    X_val_predicted = model_rf.predict(X_val)\n",
    "\n",
    "    print(model_eval(X_val_predicted,y_val))\n",
    "\n",
    "    return model_rf"
   ],
   "metadata": {
    "collapsed": false,
    "pycharm": {
     "name": "#%%\n"
    }
   }
  },
  {
   "cell_type": "markdown",
   "source": [
    "# 예측 함수"
   ],
   "metadata": {
    "collapsed": false,
    "pycharm": {
     "name": "#%% md\n"
    }
   }
  },
  {
   "cell_type": "code",
   "execution_count": 36,
   "outputs": [],
   "source": [
    "def make_submission(model,test,submission):\n",
    "    name = input(str)\n",
    "    pred_test = model.predict(test)\n",
    "    submission['Y_LABEL'] = pred_test\n",
    "    print(submission)\n",
    "    submission.to_csv(rf'C:\\Users\\yoon9\\PycharmProjects\\Sejong_Project\\data\\construct_Oil_data\\submission_{name}.csv',index = False)\n",
    "    print('Done')\n"
   ],
   "metadata": {
    "collapsed": false,
    "pycharm": {
     "name": "#%%\n"
    }
   }
  },
  {
   "cell_type": "markdown",
   "source": [
    "## X_base Baseline 모델 (피쳐엔지니어링 X + Label Encoding)"
   ],
   "metadata": {
    "collapsed": false,
    "pycharm": {
     "name": "#%% md\n"
    }
   }
  },
  {
   "cell_type": "code",
   "execution_count": 37,
   "outputs": [],
   "source": [
    "train_base, test_base = split_train_test(df_base)"
   ],
   "metadata": {
    "collapsed": false,
    "pycharm": {
     "name": "#%%\n"
    }
   }
  },
  {
   "cell_type": "code",
   "execution_count": 38,
   "outputs": [
    {
     "data": {
      "text/plain": "       수치형데이터1  진단년도  수치형데이터2  은  일산화탄소  크로뮴   구리     철    물  망가니즈  몰리브데넘  니켈  \\\n14095     2192  2016      200  0      0    0    1    12  0.0     0      0   0   \n14096     2794  2011      200  0      0    2    1   278  0.0     3      0   0   \n14097     1982  2010      200  0      0    0   16     5  0.0     0      0   0   \n14098     1404  2009      200  0      0    3    4   163  0.0     4      3   0   \n14099     8225  2013      200  0      0    0    6    13  0.0     0      0   0   \n...        ...   ...      ... ..    ...  ...  ...   ...  ...   ...    ...  ..   \n20131     1714  2014      200  0      0    3  130  1047  0.0    65      5   2   \n20132     4131  2016      200  0      0    5    2   736  0.0     5      0   0   \n20133     4325  2014      200  0      0    0    0    53  0.0     0      0   0   \n20134     1364  2013      200  0      0    0   62     2  0.0     0      0   0   \n20135     2397  2016     1597  1      0    0    0     4  0.0     0      2   0   \n\n       입자 정량 지수  타이타늄  바나듐  점도 40도    아연 샘플오일관련부품  \n14095        10     0    0    91.3  1091        0  \n14096      2732     1    0   126.9    12        2  \n14097        11     0    0    44.3   714        1  \n14098      8007     0    0   142.8    94        2  \n14099        16     0    0    63.4   469        1  \n...         ...   ...  ...     ...   ...      ...  \n20131      1999     0    0    71.2  1163        2  \n20132       693     0    0   137.8    13        2  \n20133        69     0    0   302.2    13        2  \n20134         5     0    0    51.1   478        1  \n20135        14     0    0    80.0   970        0  \n\n[6041 rows x 18 columns]",
      "text/html": "<div>\n<style scoped>\n    .dataframe tbody tr th:only-of-type {\n        vertical-align: middle;\n    }\n\n    .dataframe tbody tr th {\n        vertical-align: top;\n    }\n\n    .dataframe thead th {\n        text-align: right;\n    }\n</style>\n<table border=\"1\" class=\"dataframe\">\n  <thead>\n    <tr style=\"text-align: right;\">\n      <th></th>\n      <th>수치형데이터1</th>\n      <th>진단년도</th>\n      <th>수치형데이터2</th>\n      <th>은</th>\n      <th>일산화탄소</th>\n      <th>크로뮴</th>\n      <th>구리</th>\n      <th>철</th>\n      <th>물</th>\n      <th>망가니즈</th>\n      <th>몰리브데넘</th>\n      <th>니켈</th>\n      <th>입자 정량 지수</th>\n      <th>타이타늄</th>\n      <th>바나듐</th>\n      <th>점도 40도</th>\n      <th>아연</th>\n      <th>샘플오일관련부품</th>\n    </tr>\n  </thead>\n  <tbody>\n    <tr>\n      <th>14095</th>\n      <td>2192</td>\n      <td>2016</td>\n      <td>200</td>\n      <td>0</td>\n      <td>0</td>\n      <td>0</td>\n      <td>1</td>\n      <td>12</td>\n      <td>0.0</td>\n      <td>0</td>\n      <td>0</td>\n      <td>0</td>\n      <td>10</td>\n      <td>0</td>\n      <td>0</td>\n      <td>91.3</td>\n      <td>1091</td>\n      <td>0</td>\n    </tr>\n    <tr>\n      <th>14096</th>\n      <td>2794</td>\n      <td>2011</td>\n      <td>200</td>\n      <td>0</td>\n      <td>0</td>\n      <td>2</td>\n      <td>1</td>\n      <td>278</td>\n      <td>0.0</td>\n      <td>3</td>\n      <td>0</td>\n      <td>0</td>\n      <td>2732</td>\n      <td>1</td>\n      <td>0</td>\n      <td>126.9</td>\n      <td>12</td>\n      <td>2</td>\n    </tr>\n    <tr>\n      <th>14097</th>\n      <td>1982</td>\n      <td>2010</td>\n      <td>200</td>\n      <td>0</td>\n      <td>0</td>\n      <td>0</td>\n      <td>16</td>\n      <td>5</td>\n      <td>0.0</td>\n      <td>0</td>\n      <td>0</td>\n      <td>0</td>\n      <td>11</td>\n      <td>0</td>\n      <td>0</td>\n      <td>44.3</td>\n      <td>714</td>\n      <td>1</td>\n    </tr>\n    <tr>\n      <th>14098</th>\n      <td>1404</td>\n      <td>2009</td>\n      <td>200</td>\n      <td>0</td>\n      <td>0</td>\n      <td>3</td>\n      <td>4</td>\n      <td>163</td>\n      <td>0.0</td>\n      <td>4</td>\n      <td>3</td>\n      <td>0</td>\n      <td>8007</td>\n      <td>0</td>\n      <td>0</td>\n      <td>142.8</td>\n      <td>94</td>\n      <td>2</td>\n    </tr>\n    <tr>\n      <th>14099</th>\n      <td>8225</td>\n      <td>2013</td>\n      <td>200</td>\n      <td>0</td>\n      <td>0</td>\n      <td>0</td>\n      <td>6</td>\n      <td>13</td>\n      <td>0.0</td>\n      <td>0</td>\n      <td>0</td>\n      <td>0</td>\n      <td>16</td>\n      <td>0</td>\n      <td>0</td>\n      <td>63.4</td>\n      <td>469</td>\n      <td>1</td>\n    </tr>\n    <tr>\n      <th>...</th>\n      <td>...</td>\n      <td>...</td>\n      <td>...</td>\n      <td>...</td>\n      <td>...</td>\n      <td>...</td>\n      <td>...</td>\n      <td>...</td>\n      <td>...</td>\n      <td>...</td>\n      <td>...</td>\n      <td>...</td>\n      <td>...</td>\n      <td>...</td>\n      <td>...</td>\n      <td>...</td>\n      <td>...</td>\n      <td>...</td>\n    </tr>\n    <tr>\n      <th>20131</th>\n      <td>1714</td>\n      <td>2014</td>\n      <td>200</td>\n      <td>0</td>\n      <td>0</td>\n      <td>3</td>\n      <td>130</td>\n      <td>1047</td>\n      <td>0.0</td>\n      <td>65</td>\n      <td>5</td>\n      <td>2</td>\n      <td>1999</td>\n      <td>0</td>\n      <td>0</td>\n      <td>71.2</td>\n      <td>1163</td>\n      <td>2</td>\n    </tr>\n    <tr>\n      <th>20132</th>\n      <td>4131</td>\n      <td>2016</td>\n      <td>200</td>\n      <td>0</td>\n      <td>0</td>\n      <td>5</td>\n      <td>2</td>\n      <td>736</td>\n      <td>0.0</td>\n      <td>5</td>\n      <td>0</td>\n      <td>0</td>\n      <td>693</td>\n      <td>0</td>\n      <td>0</td>\n      <td>137.8</td>\n      <td>13</td>\n      <td>2</td>\n    </tr>\n    <tr>\n      <th>20133</th>\n      <td>4325</td>\n      <td>2014</td>\n      <td>200</td>\n      <td>0</td>\n      <td>0</td>\n      <td>0</td>\n      <td>0</td>\n      <td>53</td>\n      <td>0.0</td>\n      <td>0</td>\n      <td>0</td>\n      <td>0</td>\n      <td>69</td>\n      <td>0</td>\n      <td>0</td>\n      <td>302.2</td>\n      <td>13</td>\n      <td>2</td>\n    </tr>\n    <tr>\n      <th>20134</th>\n      <td>1364</td>\n      <td>2013</td>\n      <td>200</td>\n      <td>0</td>\n      <td>0</td>\n      <td>0</td>\n      <td>62</td>\n      <td>2</td>\n      <td>0.0</td>\n      <td>0</td>\n      <td>0</td>\n      <td>0</td>\n      <td>5</td>\n      <td>0</td>\n      <td>0</td>\n      <td>51.1</td>\n      <td>478</td>\n      <td>1</td>\n    </tr>\n    <tr>\n      <th>20135</th>\n      <td>2397</td>\n      <td>2016</td>\n      <td>1597</td>\n      <td>1</td>\n      <td>0</td>\n      <td>0</td>\n      <td>0</td>\n      <td>4</td>\n      <td>0.0</td>\n      <td>0</td>\n      <td>2</td>\n      <td>0</td>\n      <td>14</td>\n      <td>0</td>\n      <td>0</td>\n      <td>80.0</td>\n      <td>970</td>\n      <td>0</td>\n    </tr>\n  </tbody>\n</table>\n<p>6041 rows × 18 columns</p>\n</div>"
     },
     "execution_count": 38,
     "metadata": {},
     "output_type": "execute_result"
    }
   ],
   "source": [
    "test_base"
   ],
   "metadata": {
    "collapsed": false,
    "pycharm": {
     "name": "#%%\n"
    }
   }
  },
  {
   "cell_type": "code",
   "execution_count": 39,
   "outputs": [
    {
     "name": "stdout",
     "output_type": "stream",
     "text": [
      "(9866, 18) (4229, 18) (9866,) (4229,)\n"
     ]
    }
   ],
   "source": [
    "X_train_base, X_val_base, y_train_base, y_val_base = split_train_val(train_base,y)"
   ],
   "metadata": {
    "collapsed": false,
    "pycharm": {
     "name": "#%%\n"
    }
   }
  },
  {
   "cell_type": "code",
   "execution_count": 40,
   "outputs": [
    {
     "name": "stdout",
     "output_type": "stream",
     "text": [
      "RandomForestClassifier(max_depth=10)\n",
      "accuracy_score : 0.9153464175928115\n",
      "recall_score : 0.8\n",
      "precision_score : 0.0110803324099723\n",
      "f1_score : 0.02185792349726776\n",
      "coufusion_matrix : \n",
      "[[3867  357]\n",
      " [   1    4]]\n",
      "None\n"
     ]
    }
   ],
   "source": [
    "model_base = pipeline_RF(X_train_base, X_val_base, y_train_base, y_val_base)"
   ],
   "metadata": {
    "collapsed": false,
    "pycharm": {
     "name": "#%%\n"
    }
   }
  },
  {
   "cell_type": "code",
   "execution_count": 41,
   "outputs": [],
   "source": [
    "submission = pd.read_csv(r'C:\\Users\\yoon9\\PycharmProjects\\Sejong_Project\\data\\construct_Oil_data\\sample_submission.csv')"
   ],
   "metadata": {
    "collapsed": false,
    "pycharm": {
     "name": "#%%\n"
    }
   }
  },
  {
   "cell_type": "code",
   "execution_count": 42,
   "outputs": [
    {
     "name": "stdout",
     "output_type": "stream",
     "text": [
      "             ID  Y_LABEL\n",
      "0     TEST_0000        0\n",
      "1     TEST_0001        0\n",
      "2     TEST_0002        0\n",
      "3     TEST_0003        0\n",
      "4     TEST_0004        0\n",
      "...         ...      ...\n",
      "6036  TEST_6036        0\n",
      "6037  TEST_6037        0\n",
      "6038  TEST_6038        0\n",
      "6039  TEST_6039        0\n",
      "6040  TEST_6040        0\n",
      "\n",
      "[6041 rows x 2 columns]\n",
      "Done\n"
     ]
    }
   ],
   "source": [
    "#make_submission(model_base,test_base,submission)"
   ],
   "metadata": {
    "collapsed": false,
    "pycharm": {
     "name": "#%%\n"
    }
   }
  },
  {
   "cell_type": "markdown",
   "source": [
    "# 타겟 불균형 문제 해결"
   ],
   "metadata": {
    "collapsed": false
   }
  },
  {
   "cell_type": "code",
   "execution_count": 64,
   "outputs": [],
   "source": [
    "from imblearn.combine import SMOTEENN\n",
    "from imblearn.combine import SMOTETomek\n",
    "\n",
    "def add_smote_enn(train,y):\n",
    "    smote_enn = SMOTEENN(random_state=42)\n",
    "    X_resampled, y_resampled = smote_enn.fit_resample(train, y)\n",
    "    return X_resampled,y_resampled\n",
    "\n",
    "def add_smote_tomek(train,y):\n",
    "\n",
    "    smote_tomek = SMOTETomek(random_state=42)\n",
    "    X_resampled, y_resampled = smote_tomek.fit_resample(train, y)\n",
    "\n",
    "    return X_resampled,y_resampled\n",
    "\n"
   ],
   "metadata": {
    "collapsed": false,
    "pycharm": {
     "name": "#%%\n"
    }
   }
  },
  {
   "cell_type": "code",
   "execution_count": 44,
   "outputs": [
    {
     "data": {
      "text/plain": "(       수치형데이터1  진단년도  수치형데이터2  은  일산화탄소  크로뮴   구리    철    물  망가니즈  몰리브데넘  니켈  \\\n 0         1486  2011      200  0      0   13   78  888  0.0    16      1   6   \n 1         1350  2021      375  0      0    0   31    2  0.0     0      0   0   \n 2         2061  2008      550  0      0    3  179  550  0.0    42     11   4   \n 3         1416  2015      616  0      0    0    3   35  0.0     0      0   0   \n 4         1170  2009      370  0      0    3    6   81  0.0     2      1   0   \n ...        ...   ...      ... ..    ...  ...  ...  ...  ...   ...    ...  ..   \n 18470     1642  2015      200  0      0    3    1  308  0.0     2      2   0   \n 18471     3219  2011      200  0      0    2    3   23  0.0     0     17   0   \n 18472     3901  2014      200  0      0    0    1   19  0.0     0      0   0   \n 18473     1992  2018     2074  0      0    2   12  102  0.0     1      0   0   \n 18474     6860  2012      200  0      0    0    9   53  0.0     0      0   0   \n \n        입자 정량 지수  타이타늄  바나듐      점도 40도    아연 샘플오일관련부품  \n 0          8504     5    0  154.000000    75      2.0  \n 1            19     0    0   44.000000   652      1.0  \n 2           329     0    0   69.700000  1015      2.0  \n 3            26     0    0  148.500000    24      2.0  \n 4          7735     0    0  142.900000    16      2.0  \n ...         ...   ...  ...         ...   ...      ...  \n 18470       695     1    0  130.661320    35      2.0  \n 18471        25     0    0  103.792754  1224      0.0  \n 18472        12     0    0   92.372596  1302  0.27637  \n 18473       136     0    0  129.887277    23      2.0  \n 18474       113     0    0  132.847914    16      2.0  \n \n [18475 rows x 18 columns],\n 0        0\n 1        0\n 2        0\n 3        0\n 4        0\n         ..\n 18470    1\n 18471    1\n 18472    1\n 18473    1\n 18474    1\n Name: Y_LABEL, Length: 18475, dtype: int64)"
     },
     "execution_count": 44,
     "metadata": {},
     "output_type": "execute_result"
    }
   ],
   "source": [
    "add_smote_enn(train_base,y)"
   ],
   "metadata": {
    "collapsed": false,
    "pycharm": {
     "name": "#%%\n"
    }
   }
  },
  {
   "cell_type": "code",
   "execution_count": 45,
   "outputs": [
    {
     "data": {
      "text/plain": "                ID    샘플오일관련부품  수치형데이터1  진단년도  SAMPLE_TRANSFER_DAY  수치형데이터2  \\\n0      TRAIN_00000  COMPONENT3     1486  2011                    7      200   \n1      TRAIN_00001  COMPONENT2     1350  2021                   51      375   \n2      TRAIN_00002  COMPONENT2     2415  2015                    2      200   \n3      TRAIN_00003  COMPONENT3     7389  2010                    2      200   \n4      TRAIN_00004  COMPONENT3     3954  2015                    4      200   \n...            ...         ...      ...   ...                  ...      ...   \n14090  TRAIN_14090  COMPONENT3     1616  2014                    8      200   \n14091  TRAIN_14091  COMPONENT1     2784  2013                    2      200   \n14092  TRAIN_14092  COMPONENT3     1788  2008                    9      550   \n14093  TRAIN_14093  COMPONENT2     2498  2009                   19      550   \n14094  TRAIN_14094  COMPONENT2     1902  2012                   15      200   \n\n       은   AL    B  BA  ...  입자 정량 지수      S  SB   SI  SN  타이타늄  바나듐  점도 40도  \\\n0      0    3   93   0  ...      8504  21370   0  427   2     5    0   154.0   \n1      0    2   19   0  ...        19   1117   0    0   0     0    0    44.0   \n2      0  110    1   1  ...        17   1334   0    0   1     0    0    72.6   \n3      0    8    3   0  ...        44  21774   2    1   1     0    0   133.3   \n4      0    1  157   0  ...       217  18470   0    2   0     0    0   133.1   \n...   ..  ...  ...  ..  ...       ...    ...  ..  ...  ..   ...  ...     ...   \n14090  0    2  201   1  ...        35  22000   0    2   0     0    0   135.4   \n14091  0    3   85   0  ...         9   5494   0    5   0     0    0   117.5   \n14092  0    6    0   1  ...       645   9640   2   18   0     0    0    54.0   \n14093  0    2    4   0  ...        11   1313   0    0   0     0    0    44.3   \n14094  0    0   77   0  ...        81   2057   0    6   0     2    0    47.0   \n\n         아연  Y_LABEL  \n0        75        0  \n1       652        0  \n2       412        1  \n3         7        0  \n4       128        0  \n...     ...      ...  \n14090    16        0  \n14091  1408        0  \n14092  1301        0  \n14093   652        0  \n14094   612        0  \n\n[14095 rows x 37 columns]",
      "text/html": "<div>\n<style scoped>\n    .dataframe tbody tr th:only-of-type {\n        vertical-align: middle;\n    }\n\n    .dataframe tbody tr th {\n        vertical-align: top;\n    }\n\n    .dataframe thead th {\n        text-align: right;\n    }\n</style>\n<table border=\"1\" class=\"dataframe\">\n  <thead>\n    <tr style=\"text-align: right;\">\n      <th></th>\n      <th>ID</th>\n      <th>샘플오일관련부품</th>\n      <th>수치형데이터1</th>\n      <th>진단년도</th>\n      <th>SAMPLE_TRANSFER_DAY</th>\n      <th>수치형데이터2</th>\n      <th>은</th>\n      <th>AL</th>\n      <th>B</th>\n      <th>BA</th>\n      <th>...</th>\n      <th>입자 정량 지수</th>\n      <th>S</th>\n      <th>SB</th>\n      <th>SI</th>\n      <th>SN</th>\n      <th>타이타늄</th>\n      <th>바나듐</th>\n      <th>점도 40도</th>\n      <th>아연</th>\n      <th>Y_LABEL</th>\n    </tr>\n  </thead>\n  <tbody>\n    <tr>\n      <th>0</th>\n      <td>TRAIN_00000</td>\n      <td>COMPONENT3</td>\n      <td>1486</td>\n      <td>2011</td>\n      <td>7</td>\n      <td>200</td>\n      <td>0</td>\n      <td>3</td>\n      <td>93</td>\n      <td>0</td>\n      <td>...</td>\n      <td>8504</td>\n      <td>21370</td>\n      <td>0</td>\n      <td>427</td>\n      <td>2</td>\n      <td>5</td>\n      <td>0</td>\n      <td>154.0</td>\n      <td>75</td>\n      <td>0</td>\n    </tr>\n    <tr>\n      <th>1</th>\n      <td>TRAIN_00001</td>\n      <td>COMPONENT2</td>\n      <td>1350</td>\n      <td>2021</td>\n      <td>51</td>\n      <td>375</td>\n      <td>0</td>\n      <td>2</td>\n      <td>19</td>\n      <td>0</td>\n      <td>...</td>\n      <td>19</td>\n      <td>1117</td>\n      <td>0</td>\n      <td>0</td>\n      <td>0</td>\n      <td>0</td>\n      <td>0</td>\n      <td>44.0</td>\n      <td>652</td>\n      <td>0</td>\n    </tr>\n    <tr>\n      <th>2</th>\n      <td>TRAIN_00002</td>\n      <td>COMPONENT2</td>\n      <td>2415</td>\n      <td>2015</td>\n      <td>2</td>\n      <td>200</td>\n      <td>0</td>\n      <td>110</td>\n      <td>1</td>\n      <td>1</td>\n      <td>...</td>\n      <td>17</td>\n      <td>1334</td>\n      <td>0</td>\n      <td>0</td>\n      <td>1</td>\n      <td>0</td>\n      <td>0</td>\n      <td>72.6</td>\n      <td>412</td>\n      <td>1</td>\n    </tr>\n    <tr>\n      <th>3</th>\n      <td>TRAIN_00003</td>\n      <td>COMPONENT3</td>\n      <td>7389</td>\n      <td>2010</td>\n      <td>2</td>\n      <td>200</td>\n      <td>0</td>\n      <td>8</td>\n      <td>3</td>\n      <td>0</td>\n      <td>...</td>\n      <td>44</td>\n      <td>21774</td>\n      <td>2</td>\n      <td>1</td>\n      <td>1</td>\n      <td>0</td>\n      <td>0</td>\n      <td>133.3</td>\n      <td>7</td>\n      <td>0</td>\n    </tr>\n    <tr>\n      <th>4</th>\n      <td>TRAIN_00004</td>\n      <td>COMPONENT3</td>\n      <td>3954</td>\n      <td>2015</td>\n      <td>4</td>\n      <td>200</td>\n      <td>0</td>\n      <td>1</td>\n      <td>157</td>\n      <td>0</td>\n      <td>...</td>\n      <td>217</td>\n      <td>18470</td>\n      <td>0</td>\n      <td>2</td>\n      <td>0</td>\n      <td>0</td>\n      <td>0</td>\n      <td>133.1</td>\n      <td>128</td>\n      <td>0</td>\n    </tr>\n    <tr>\n      <th>...</th>\n      <td>...</td>\n      <td>...</td>\n      <td>...</td>\n      <td>...</td>\n      <td>...</td>\n      <td>...</td>\n      <td>...</td>\n      <td>...</td>\n      <td>...</td>\n      <td>...</td>\n      <td>...</td>\n      <td>...</td>\n      <td>...</td>\n      <td>...</td>\n      <td>...</td>\n      <td>...</td>\n      <td>...</td>\n      <td>...</td>\n      <td>...</td>\n      <td>...</td>\n      <td>...</td>\n    </tr>\n    <tr>\n      <th>14090</th>\n      <td>TRAIN_14090</td>\n      <td>COMPONENT3</td>\n      <td>1616</td>\n      <td>2014</td>\n      <td>8</td>\n      <td>200</td>\n      <td>0</td>\n      <td>2</td>\n      <td>201</td>\n      <td>1</td>\n      <td>...</td>\n      <td>35</td>\n      <td>22000</td>\n      <td>0</td>\n      <td>2</td>\n      <td>0</td>\n      <td>0</td>\n      <td>0</td>\n      <td>135.4</td>\n      <td>16</td>\n      <td>0</td>\n    </tr>\n    <tr>\n      <th>14091</th>\n      <td>TRAIN_14091</td>\n      <td>COMPONENT1</td>\n      <td>2784</td>\n      <td>2013</td>\n      <td>2</td>\n      <td>200</td>\n      <td>0</td>\n      <td>3</td>\n      <td>85</td>\n      <td>0</td>\n      <td>...</td>\n      <td>9</td>\n      <td>5494</td>\n      <td>0</td>\n      <td>5</td>\n      <td>0</td>\n      <td>0</td>\n      <td>0</td>\n      <td>117.5</td>\n      <td>1408</td>\n      <td>0</td>\n    </tr>\n    <tr>\n      <th>14092</th>\n      <td>TRAIN_14092</td>\n      <td>COMPONENT3</td>\n      <td>1788</td>\n      <td>2008</td>\n      <td>9</td>\n      <td>550</td>\n      <td>0</td>\n      <td>6</td>\n      <td>0</td>\n      <td>1</td>\n      <td>...</td>\n      <td>645</td>\n      <td>9640</td>\n      <td>2</td>\n      <td>18</td>\n      <td>0</td>\n      <td>0</td>\n      <td>0</td>\n      <td>54.0</td>\n      <td>1301</td>\n      <td>0</td>\n    </tr>\n    <tr>\n      <th>14093</th>\n      <td>TRAIN_14093</td>\n      <td>COMPONENT2</td>\n      <td>2498</td>\n      <td>2009</td>\n      <td>19</td>\n      <td>550</td>\n      <td>0</td>\n      <td>2</td>\n      <td>4</td>\n      <td>0</td>\n      <td>...</td>\n      <td>11</td>\n      <td>1313</td>\n      <td>0</td>\n      <td>0</td>\n      <td>0</td>\n      <td>0</td>\n      <td>0</td>\n      <td>44.3</td>\n      <td>652</td>\n      <td>0</td>\n    </tr>\n    <tr>\n      <th>14094</th>\n      <td>TRAIN_14094</td>\n      <td>COMPONENT2</td>\n      <td>1902</td>\n      <td>2012</td>\n      <td>15</td>\n      <td>200</td>\n      <td>0</td>\n      <td>0</td>\n      <td>77</td>\n      <td>0</td>\n      <td>...</td>\n      <td>81</td>\n      <td>2057</td>\n      <td>0</td>\n      <td>6</td>\n      <td>0</td>\n      <td>2</td>\n      <td>0</td>\n      <td>47.0</td>\n      <td>612</td>\n      <td>0</td>\n    </tr>\n  </tbody>\n</table>\n<p>14095 rows × 37 columns</p>\n</div>"
     },
     "execution_count": 45,
     "metadata": {},
     "output_type": "execute_result"
    }
   ],
   "source": [
    "train"
   ],
   "metadata": {
    "collapsed": false,
    "pycharm": {
     "name": "#%%\n"
    }
   }
  },
  {
   "cell_type": "code",
   "execution_count": 46,
   "outputs": [],
   "source": [
    "X_train_SME, X_val_SME, y_train_SME, y_val_SME = split_train_val(X_resampled, y_resampled)\n",
    "\n",
    "#model_SMT = pipeline_RF(X_train_SME, X_val_SME, y_train_SME, y_val_SME)"
   ],
   "metadata": {
    "collapsed": false,
    "pycharm": {
     "name": "#%%\n"
    }
   }
  },
  {
   "cell_type": "code",
   "execution_count": 47,
   "outputs": [
    {
     "ename": "NameError",
     "evalue": "name 'dd' is not defined",
     "output_type": "error",
     "traceback": [
      "\u001B[1;31m---------------------------------------------------------------------------\u001B[0m",
      "\u001B[1;31mNameError\u001B[0m                                 Traceback (most recent call last)",
      "Cell \u001B[1;32mIn[47], line 2\u001B[0m\n\u001B[0;32m      1\u001B[0m \u001B[38;5;66;03m# make_submission(model_SMT,test_base,submission)\u001B[39;00m\n\u001B[1;32m----> 2\u001B[0m \u001B[43mdd\u001B[49m\n",
      "\u001B[1;31mNameError\u001B[0m: name 'dd' is not defined"
     ]
    }
   ],
   "source": [
    "# make_submission(model_SMT,test_base,submission)"
   ],
   "metadata": {
    "collapsed": false,
    "pycharm": {
     "name": "#%%\n"
    }
   }
  },
  {
   "cell_type": "markdown",
   "source": [
    "# 피쳐 엔지니어링 테스트"
   ],
   "metadata": {
    "collapsed": false,
    "pycharm": {
     "name": "#%% md\n"
    }
   }
  },
  {
   "cell_type": "markdown",
   "source": [
    "### smoteENN + scaler X + Label-encoding"
   ],
   "metadata": {
    "collapsed": false
   }
  },
  {
   "cell_type": "code",
   "execution_count": 125,
   "outputs": [
    {
     "data": {
      "text/plain": "       수치형데이터1  진단년도  수치형데이터2  은  일산화탄소  크로뮴   구리     철    물  망가니즈  몰리브데넘  니켈  \\\n0         1486  2011      200  0      0   13   78   888  0.0    16      1   6   \n1         1350  2021      375  0      0    0   31     2  0.0     0      0   0   \n2         2415  2015      200  0      0    1    2     4  0.0     0      0   0   \n3         7389  2010      200  0      0    0    1    37  0.0     1      0   0   \n4         3954  2015      200  0      0    0    0    71  0.0     0      0   0   \n...        ...   ...      ... ..    ...  ...  ...   ...  ...   ...    ...  ..   \n20131     1714  2014      200  0      0    3  130  1047  0.0    65      5   2   \n20132     4131  2016      200  0      0    5    2   736  0.0     5      0   0   \n20133     4325  2014      200  0      0    0    0    53  0.0     0      0   0   \n20134     1364  2013      200  0      0    0   62     2  0.0     0      0   0   \n20135     2397  2016     1597  1      0    0    0     4  0.0     0      2   0   \n\n       입자 정량 지수  타이타늄  바나듐  점도 40도    아연 샘플오일관련부품  \n0          8504     5    0   154.0    75        2  \n1            19     0    0    44.0   652        1  \n2            17     0    0    72.6   412        1  \n3            44     0    0   133.3     7        2  \n4           217     0    0   133.1   128        2  \n...         ...   ...  ...     ...   ...      ...  \n20131      1999     0    0    71.2  1163        2  \n20132       693     0    0   137.8    13        2  \n20133        69     0    0   302.2    13        2  \n20134         5     0    0    51.1   478        1  \n20135        14     0    0    80.0   970        0  \n\n[20136 rows x 18 columns]",
      "text/html": "<div>\n<style scoped>\n    .dataframe tbody tr th:only-of-type {\n        vertical-align: middle;\n    }\n\n    .dataframe tbody tr th {\n        vertical-align: top;\n    }\n\n    .dataframe thead th {\n        text-align: right;\n    }\n</style>\n<table border=\"1\" class=\"dataframe\">\n  <thead>\n    <tr style=\"text-align: right;\">\n      <th></th>\n      <th>수치형데이터1</th>\n      <th>진단년도</th>\n      <th>수치형데이터2</th>\n      <th>은</th>\n      <th>일산화탄소</th>\n      <th>크로뮴</th>\n      <th>구리</th>\n      <th>철</th>\n      <th>물</th>\n      <th>망가니즈</th>\n      <th>몰리브데넘</th>\n      <th>니켈</th>\n      <th>입자 정량 지수</th>\n      <th>타이타늄</th>\n      <th>바나듐</th>\n      <th>점도 40도</th>\n      <th>아연</th>\n      <th>샘플오일관련부품</th>\n    </tr>\n  </thead>\n  <tbody>\n    <tr>\n      <th>0</th>\n      <td>1486</td>\n      <td>2011</td>\n      <td>200</td>\n      <td>0</td>\n      <td>0</td>\n      <td>13</td>\n      <td>78</td>\n      <td>888</td>\n      <td>0.0</td>\n      <td>16</td>\n      <td>1</td>\n      <td>6</td>\n      <td>8504</td>\n      <td>5</td>\n      <td>0</td>\n      <td>154.0</td>\n      <td>75</td>\n      <td>2</td>\n    </tr>\n    <tr>\n      <th>1</th>\n      <td>1350</td>\n      <td>2021</td>\n      <td>375</td>\n      <td>0</td>\n      <td>0</td>\n      <td>0</td>\n      <td>31</td>\n      <td>2</td>\n      <td>0.0</td>\n      <td>0</td>\n      <td>0</td>\n      <td>0</td>\n      <td>19</td>\n      <td>0</td>\n      <td>0</td>\n      <td>44.0</td>\n      <td>652</td>\n      <td>1</td>\n    </tr>\n    <tr>\n      <th>2</th>\n      <td>2415</td>\n      <td>2015</td>\n      <td>200</td>\n      <td>0</td>\n      <td>0</td>\n      <td>1</td>\n      <td>2</td>\n      <td>4</td>\n      <td>0.0</td>\n      <td>0</td>\n      <td>0</td>\n      <td>0</td>\n      <td>17</td>\n      <td>0</td>\n      <td>0</td>\n      <td>72.6</td>\n      <td>412</td>\n      <td>1</td>\n    </tr>\n    <tr>\n      <th>3</th>\n      <td>7389</td>\n      <td>2010</td>\n      <td>200</td>\n      <td>0</td>\n      <td>0</td>\n      <td>0</td>\n      <td>1</td>\n      <td>37</td>\n      <td>0.0</td>\n      <td>1</td>\n      <td>0</td>\n      <td>0</td>\n      <td>44</td>\n      <td>0</td>\n      <td>0</td>\n      <td>133.3</td>\n      <td>7</td>\n      <td>2</td>\n    </tr>\n    <tr>\n      <th>4</th>\n      <td>3954</td>\n      <td>2015</td>\n      <td>200</td>\n      <td>0</td>\n      <td>0</td>\n      <td>0</td>\n      <td>0</td>\n      <td>71</td>\n      <td>0.0</td>\n      <td>0</td>\n      <td>0</td>\n      <td>0</td>\n      <td>217</td>\n      <td>0</td>\n      <td>0</td>\n      <td>133.1</td>\n      <td>128</td>\n      <td>2</td>\n    </tr>\n    <tr>\n      <th>...</th>\n      <td>...</td>\n      <td>...</td>\n      <td>...</td>\n      <td>...</td>\n      <td>...</td>\n      <td>...</td>\n      <td>...</td>\n      <td>...</td>\n      <td>...</td>\n      <td>...</td>\n      <td>...</td>\n      <td>...</td>\n      <td>...</td>\n      <td>...</td>\n      <td>...</td>\n      <td>...</td>\n      <td>...</td>\n      <td>...</td>\n    </tr>\n    <tr>\n      <th>20131</th>\n      <td>1714</td>\n      <td>2014</td>\n      <td>200</td>\n      <td>0</td>\n      <td>0</td>\n      <td>3</td>\n      <td>130</td>\n      <td>1047</td>\n      <td>0.0</td>\n      <td>65</td>\n      <td>5</td>\n      <td>2</td>\n      <td>1999</td>\n      <td>0</td>\n      <td>0</td>\n      <td>71.2</td>\n      <td>1163</td>\n      <td>2</td>\n    </tr>\n    <tr>\n      <th>20132</th>\n      <td>4131</td>\n      <td>2016</td>\n      <td>200</td>\n      <td>0</td>\n      <td>0</td>\n      <td>5</td>\n      <td>2</td>\n      <td>736</td>\n      <td>0.0</td>\n      <td>5</td>\n      <td>0</td>\n      <td>0</td>\n      <td>693</td>\n      <td>0</td>\n      <td>0</td>\n      <td>137.8</td>\n      <td>13</td>\n      <td>2</td>\n    </tr>\n    <tr>\n      <th>20133</th>\n      <td>4325</td>\n      <td>2014</td>\n      <td>200</td>\n      <td>0</td>\n      <td>0</td>\n      <td>0</td>\n      <td>0</td>\n      <td>53</td>\n      <td>0.0</td>\n      <td>0</td>\n      <td>0</td>\n      <td>0</td>\n      <td>69</td>\n      <td>0</td>\n      <td>0</td>\n      <td>302.2</td>\n      <td>13</td>\n      <td>2</td>\n    </tr>\n    <tr>\n      <th>20134</th>\n      <td>1364</td>\n      <td>2013</td>\n      <td>200</td>\n      <td>0</td>\n      <td>0</td>\n      <td>0</td>\n      <td>62</td>\n      <td>2</td>\n      <td>0.0</td>\n      <td>0</td>\n      <td>0</td>\n      <td>0</td>\n      <td>5</td>\n      <td>0</td>\n      <td>0</td>\n      <td>51.1</td>\n      <td>478</td>\n      <td>1</td>\n    </tr>\n    <tr>\n      <th>20135</th>\n      <td>2397</td>\n      <td>2016</td>\n      <td>1597</td>\n      <td>1</td>\n      <td>0</td>\n      <td>0</td>\n      <td>0</td>\n      <td>4</td>\n      <td>0.0</td>\n      <td>0</td>\n      <td>2</td>\n      <td>0</td>\n      <td>14</td>\n      <td>0</td>\n      <td>0</td>\n      <td>80.0</td>\n      <td>970</td>\n      <td>0</td>\n    </tr>\n  </tbody>\n</table>\n<p>20136 rows × 18 columns</p>\n</div>"
     },
     "execution_count": 125,
     "metadata": {},
     "output_type": "execute_result"
    }
   ],
   "source": [
    "df_stand_1hot = cocnat_df(num_attribss,label_encoding(cat_attribs))\n",
    "df_stand_1hot"
   ],
   "metadata": {
    "collapsed": false,
    "pycharm": {
     "name": "#%%\n"
    }
   }
  },
  {
   "cell_type": "code",
   "execution_count": 126,
   "outputs": [],
   "source": [
    "train_stand_1hot, test_stand_1hot = split_train_test(df_stand_1hot)"
   ],
   "metadata": {
    "collapsed": false,
    "pycharm": {
     "name": "#%%\n"
    }
   }
  },
  {
   "cell_type": "code",
   "execution_count": 127,
   "outputs": [],
   "source": [
    "train_stand_1hot, y_stand_1hot = add_smote_enn(train_stand_1hot,y)"
   ],
   "metadata": {
    "collapsed": false,
    "pycharm": {
     "name": "#%%\n"
    }
   }
  },
  {
   "cell_type": "code",
   "execution_count": 129,
   "outputs": [
    {
     "data": {
      "text/plain": "(18475, 18)"
     },
     "execution_count": 129,
     "metadata": {},
     "output_type": "execute_result"
    }
   ],
   "source": [
    "train_stand_1hot.shape"
   ],
   "metadata": {
    "collapsed": false,
    "pycharm": {
     "name": "#%%\n"
    }
   }
  },
  {
   "cell_type": "code",
   "execution_count": 128,
   "outputs": [
    {
     "data": {
      "text/plain": "1    10763\n0     7712\nName: Y_LABEL, dtype: int64"
     },
     "execution_count": 128,
     "metadata": {},
     "output_type": "execute_result"
    }
   ],
   "source": [
    "y_stand_1hot.value_counts()"
   ],
   "metadata": {
    "collapsed": false,
    "pycharm": {
     "name": "#%%\n"
    }
   }
  },
  {
   "cell_type": "code",
   "execution_count": 51,
   "outputs": [
    {
     "name": "stdout",
     "output_type": "stream",
     "text": [
      "(12932, 18) (5543, 18) (12932,) (5543,)\n"
     ]
    }
   ],
   "source": [
    "X_train_stand_1hot, X_val_stand_1hot, y_train_stand_1hot, y_val_stand_1hot = split_train_val(train_stand_1hot,y_stand_1hot)"
   ],
   "metadata": {
    "collapsed": false,
    "pycharm": {
     "name": "#%%\n"
    }
   }
  },
  {
   "cell_type": "code",
   "execution_count": 52,
   "outputs": [
    {
     "name": "stdout",
     "output_type": "stream",
     "text": [
      "RandomForestClassifier(max_depth=10)\n",
      "accuracy_score : 0.823020025257081\n",
      "recall_score : 0.8016639828234031\n",
      "precision_score : 0.9250541963456178\n",
      "f1_score : 0.8589503953989935\n",
      "coufusion_matrix : \n",
      "[[1575  242]\n",
      " [ 739 2987]]\n",
      "None\n"
     ]
    }
   ],
   "source": [
    "model_stand_1hot = pipeline_RF(X_train_stand_1hot, X_val_stand_1hot, y_train_stand_1hot, y_val_stand_1hot)"
   ],
   "metadata": {
    "collapsed": false,
    "pycharm": {
     "name": "#%%\n"
    }
   }
  },
  {
   "cell_type": "markdown",
   "source": [
    "### smoteTomek + scaler X + Label-encoding"
   ],
   "metadata": {
    "collapsed": false
   }
  },
  {
   "cell_type": "code",
   "execution_count": 130,
   "outputs": [
    {
     "data": {
      "text/plain": "       수치형데이터1  진단년도  수치형데이터2  은  일산화탄소  크로뮴   구리     철    물  망가니즈  몰리브데넘  니켈  \\\n0         1486  2011      200  0      0   13   78   888  0.0    16      1   6   \n1         1350  2021      375  0      0    0   31     2  0.0     0      0   0   \n2         2415  2015      200  0      0    1    2     4  0.0     0      0   0   \n3         7389  2010      200  0      0    0    1    37  0.0     1      0   0   \n4         3954  2015      200  0      0    0    0    71  0.0     0      0   0   \n...        ...   ...      ... ..    ...  ...  ...   ...  ...   ...    ...  ..   \n20131     1714  2014      200  0      0    3  130  1047  0.0    65      5   2   \n20132     4131  2016      200  0      0    5    2   736  0.0     5      0   0   \n20133     4325  2014      200  0      0    0    0    53  0.0     0      0   0   \n20134     1364  2013      200  0      0    0   62     2  0.0     0      0   0   \n20135     2397  2016     1597  1      0    0    0     4  0.0     0      2   0   \n\n       입자 정량 지수  타이타늄  바나듐  점도 40도    아연 샘플오일관련부품  \n0          8504     5    0   154.0    75        2  \n1            19     0    0    44.0   652        1  \n2            17     0    0    72.6   412        1  \n3            44     0    0   133.3     7        2  \n4           217     0    0   133.1   128        2  \n...         ...   ...  ...     ...   ...      ...  \n20131      1999     0    0    71.2  1163        2  \n20132       693     0    0   137.8    13        2  \n20133        69     0    0   302.2    13        2  \n20134         5     0    0    51.1   478        1  \n20135        14     0    0    80.0   970        0  \n\n[20136 rows x 18 columns]",
      "text/html": "<div>\n<style scoped>\n    .dataframe tbody tr th:only-of-type {\n        vertical-align: middle;\n    }\n\n    .dataframe tbody tr th {\n        vertical-align: top;\n    }\n\n    .dataframe thead th {\n        text-align: right;\n    }\n</style>\n<table border=\"1\" class=\"dataframe\">\n  <thead>\n    <tr style=\"text-align: right;\">\n      <th></th>\n      <th>수치형데이터1</th>\n      <th>진단년도</th>\n      <th>수치형데이터2</th>\n      <th>은</th>\n      <th>일산화탄소</th>\n      <th>크로뮴</th>\n      <th>구리</th>\n      <th>철</th>\n      <th>물</th>\n      <th>망가니즈</th>\n      <th>몰리브데넘</th>\n      <th>니켈</th>\n      <th>입자 정량 지수</th>\n      <th>타이타늄</th>\n      <th>바나듐</th>\n      <th>점도 40도</th>\n      <th>아연</th>\n      <th>샘플오일관련부품</th>\n    </tr>\n  </thead>\n  <tbody>\n    <tr>\n      <th>0</th>\n      <td>1486</td>\n      <td>2011</td>\n      <td>200</td>\n      <td>0</td>\n      <td>0</td>\n      <td>13</td>\n      <td>78</td>\n      <td>888</td>\n      <td>0.0</td>\n      <td>16</td>\n      <td>1</td>\n      <td>6</td>\n      <td>8504</td>\n      <td>5</td>\n      <td>0</td>\n      <td>154.0</td>\n      <td>75</td>\n      <td>2</td>\n    </tr>\n    <tr>\n      <th>1</th>\n      <td>1350</td>\n      <td>2021</td>\n      <td>375</td>\n      <td>0</td>\n      <td>0</td>\n      <td>0</td>\n      <td>31</td>\n      <td>2</td>\n      <td>0.0</td>\n      <td>0</td>\n      <td>0</td>\n      <td>0</td>\n      <td>19</td>\n      <td>0</td>\n      <td>0</td>\n      <td>44.0</td>\n      <td>652</td>\n      <td>1</td>\n    </tr>\n    <tr>\n      <th>2</th>\n      <td>2415</td>\n      <td>2015</td>\n      <td>200</td>\n      <td>0</td>\n      <td>0</td>\n      <td>1</td>\n      <td>2</td>\n      <td>4</td>\n      <td>0.0</td>\n      <td>0</td>\n      <td>0</td>\n      <td>0</td>\n      <td>17</td>\n      <td>0</td>\n      <td>0</td>\n      <td>72.6</td>\n      <td>412</td>\n      <td>1</td>\n    </tr>\n    <tr>\n      <th>3</th>\n      <td>7389</td>\n      <td>2010</td>\n      <td>200</td>\n      <td>0</td>\n      <td>0</td>\n      <td>0</td>\n      <td>1</td>\n      <td>37</td>\n      <td>0.0</td>\n      <td>1</td>\n      <td>0</td>\n      <td>0</td>\n      <td>44</td>\n      <td>0</td>\n      <td>0</td>\n      <td>133.3</td>\n      <td>7</td>\n      <td>2</td>\n    </tr>\n    <tr>\n      <th>4</th>\n      <td>3954</td>\n      <td>2015</td>\n      <td>200</td>\n      <td>0</td>\n      <td>0</td>\n      <td>0</td>\n      <td>0</td>\n      <td>71</td>\n      <td>0.0</td>\n      <td>0</td>\n      <td>0</td>\n      <td>0</td>\n      <td>217</td>\n      <td>0</td>\n      <td>0</td>\n      <td>133.1</td>\n      <td>128</td>\n      <td>2</td>\n    </tr>\n    <tr>\n      <th>...</th>\n      <td>...</td>\n      <td>...</td>\n      <td>...</td>\n      <td>...</td>\n      <td>...</td>\n      <td>...</td>\n      <td>...</td>\n      <td>...</td>\n      <td>...</td>\n      <td>...</td>\n      <td>...</td>\n      <td>...</td>\n      <td>...</td>\n      <td>...</td>\n      <td>...</td>\n      <td>...</td>\n      <td>...</td>\n      <td>...</td>\n    </tr>\n    <tr>\n      <th>20131</th>\n      <td>1714</td>\n      <td>2014</td>\n      <td>200</td>\n      <td>0</td>\n      <td>0</td>\n      <td>3</td>\n      <td>130</td>\n      <td>1047</td>\n      <td>0.0</td>\n      <td>65</td>\n      <td>5</td>\n      <td>2</td>\n      <td>1999</td>\n      <td>0</td>\n      <td>0</td>\n      <td>71.2</td>\n      <td>1163</td>\n      <td>2</td>\n    </tr>\n    <tr>\n      <th>20132</th>\n      <td>4131</td>\n      <td>2016</td>\n      <td>200</td>\n      <td>0</td>\n      <td>0</td>\n      <td>5</td>\n      <td>2</td>\n      <td>736</td>\n      <td>0.0</td>\n      <td>5</td>\n      <td>0</td>\n      <td>0</td>\n      <td>693</td>\n      <td>0</td>\n      <td>0</td>\n      <td>137.8</td>\n      <td>13</td>\n      <td>2</td>\n    </tr>\n    <tr>\n      <th>20133</th>\n      <td>4325</td>\n      <td>2014</td>\n      <td>200</td>\n      <td>0</td>\n      <td>0</td>\n      <td>0</td>\n      <td>0</td>\n      <td>53</td>\n      <td>0.0</td>\n      <td>0</td>\n      <td>0</td>\n      <td>0</td>\n      <td>69</td>\n      <td>0</td>\n      <td>0</td>\n      <td>302.2</td>\n      <td>13</td>\n      <td>2</td>\n    </tr>\n    <tr>\n      <th>20134</th>\n      <td>1364</td>\n      <td>2013</td>\n      <td>200</td>\n      <td>0</td>\n      <td>0</td>\n      <td>0</td>\n      <td>62</td>\n      <td>2</td>\n      <td>0.0</td>\n      <td>0</td>\n      <td>0</td>\n      <td>0</td>\n      <td>5</td>\n      <td>0</td>\n      <td>0</td>\n      <td>51.1</td>\n      <td>478</td>\n      <td>1</td>\n    </tr>\n    <tr>\n      <th>20135</th>\n      <td>2397</td>\n      <td>2016</td>\n      <td>1597</td>\n      <td>1</td>\n      <td>0</td>\n      <td>0</td>\n      <td>0</td>\n      <td>4</td>\n      <td>0.0</td>\n      <td>0</td>\n      <td>2</td>\n      <td>0</td>\n      <td>14</td>\n      <td>0</td>\n      <td>0</td>\n      <td>80.0</td>\n      <td>970</td>\n      <td>0</td>\n    </tr>\n  </tbody>\n</table>\n<p>20136 rows × 18 columns</p>\n</div>"
     },
     "execution_count": 130,
     "metadata": {},
     "output_type": "execute_result"
    }
   ],
   "source": [
    "df_stand_1hot = cocnat_df(num_attribss,label_encoding(cat_attribs))\n",
    "df_stand_1hot"
   ],
   "metadata": {
    "collapsed": false,
    "pycharm": {
     "name": "#%%\n"
    }
   }
  },
  {
   "cell_type": "code",
   "execution_count": 131,
   "outputs": [],
   "source": [
    "train_stand_1hot, test_stand_1hot = split_train_test(df_stand_1hot)"
   ],
   "metadata": {
    "collapsed": false,
    "pycharm": {
     "name": "#%%\n"
    }
   }
  },
  {
   "cell_type": "code",
   "execution_count": 132,
   "outputs": [],
   "source": [
    "train_stand_1hot, y_stand_1hot = add_smote_tomek(train_stand_1hot,y)"
   ],
   "metadata": {
    "collapsed": false,
    "pycharm": {
     "name": "#%%\n"
    }
   }
  },
  {
   "cell_type": "code",
   "execution_count": 133,
   "outputs": [
    {
     "data": {
      "text/plain": "0    12552\n1    12552\nName: Y_LABEL, dtype: int64"
     },
     "execution_count": 133,
     "metadata": {},
     "output_type": "execute_result"
    }
   ],
   "source": [
    "y_stand_1hot.value_counts()"
   ],
   "metadata": {
    "collapsed": false,
    "pycharm": {
     "name": "#%%\n"
    }
   }
  },
  {
   "cell_type": "code",
   "execution_count": null,
   "outputs": [],
   "source": [
    "X_train_stand_1hot, X_val_stand_1hot, y_train_stand_1hot, y_val_stand_1hot = split_train_val(train_stand_1hot,y_stand_1hot)"
   ],
   "metadata": {
    "collapsed": false,
    "pycharm": {
     "name": "#%%\n"
    }
   }
  },
  {
   "cell_type": "code",
   "execution_count": null,
   "outputs": [],
   "source": [
    "model_stand_1hot = pipeline_RF(X_train_stand_1hot, X_val_stand_1hot, y_train_stand_1hot, y_val_stand_1hot)"
   ],
   "metadata": {
    "collapsed": false,
    "pycharm": {
     "name": "#%%\n"
    }
   }
  },
  {
   "cell_type": "markdown",
   "source": [
    "### smoteENN + Standard scaler + Label-encoding"
   ],
   "metadata": {
    "collapsed": false
   }
  },
  {
   "cell_type": "code",
   "execution_count": 58,
   "outputs": [
    {
     "data": {
      "text/plain": "        수치형데이터1      진단년도   수치형데이터2         은     일산화탄소       크로뮴        구리  \\\n0     -0.379987 -0.668748 -0.341059 -0.149807 -0.096143  0.366670  0.311033   \n1     -0.410821  1.851308 -0.025252 -0.149807 -0.096143 -0.122537 -0.032219   \n2     -0.169362  0.339274 -0.341059 -0.149807 -0.096143 -0.084906 -0.244013   \n3      0.958355 -0.920754 -0.341059 -0.149807 -0.096143 -0.122537 -0.251316   \n4      0.179564  0.339274 -0.341059 -0.149807 -0.096143 -0.122537 -0.258619   \n...         ...       ...       ...       ...       ...       ...       ...   \n20131 -0.328294  0.087268 -0.341059 -0.149807 -0.096143 -0.009643  0.690801   \n20132  0.219694  0.591280 -0.341059 -0.149807 -0.096143  0.065619 -0.244013   \n20133  0.263678  0.087268 -0.341059 -0.149807 -0.096143 -0.122537 -0.258619   \n20134 -0.407647 -0.164737 -0.341059 -0.149807 -0.096143 -0.122537  0.194181   \n20135 -0.173443  0.591280  2.179983  5.585000 -0.096143 -0.122537 -0.258619   \n\n              철       물      망가니즈     몰리브데넘        니켈  입자 정량 지수      타이타늄  \\\n0      1.202754 -0.0441  1.171823 -0.384823  1.170325  4.985286  0.605756   \n1     -0.311592 -0.0441 -0.258298 -0.401334 -0.173878 -0.255810 -0.104342   \n2     -0.308173 -0.0441 -0.258298 -0.401334 -0.173878 -0.257045 -0.104342   \n3     -0.251770 -0.0441 -0.168915 -0.401334 -0.173878 -0.240368 -0.104342   \n4     -0.193657 -0.0441 -0.258298 -0.401334 -0.173878 -0.133507 -0.104342   \n...         ...     ...       ...       ...       ...       ...       ...   \n20131  1.474515 -0.0441  5.551570 -0.318780  0.274190  0.967215 -0.104342   \n20132  0.942956 -0.0441  0.188615 -0.401334 -0.173878  0.160513 -0.104342   \n20133 -0.224423 -0.0441 -0.258298 -0.401334 -0.173878 -0.224925 -0.104342   \n20134 -0.311592 -0.0441 -0.258298 -0.401334 -0.173878 -0.264457 -0.104342   \n20135 -0.308173 -0.0441 -0.258298 -0.368313 -0.173878 -0.258898 -0.104342   \n\n            바나듐    점도 40도        아연 샘플오일관련부품  \n0     -0.109985  0.915670 -0.962299        2  \n1     -0.109985 -1.357880  0.123421        1  \n2     -0.109985 -0.766757 -0.328178        1  \n3     -0.109985  0.487829 -1.090252        2  \n4     -0.109985  0.483695 -0.862570        2  \n...         ...       ...       ...      ...  \n20131 -0.109985 -0.795693  1.084950        2  \n20132 -0.109985  0.580838 -1.078962        2  \n20133 -0.109985  3.978762 -1.078962        2  \n20134 -0.109985 -1.211133 -0.203988        1  \n20135 -0.109985 -0.613809  0.721790        0  \n\n[20136 rows x 18 columns]",
      "text/html": "<div>\n<style scoped>\n    .dataframe tbody tr th:only-of-type {\n        vertical-align: middle;\n    }\n\n    .dataframe tbody tr th {\n        vertical-align: top;\n    }\n\n    .dataframe thead th {\n        text-align: right;\n    }\n</style>\n<table border=\"1\" class=\"dataframe\">\n  <thead>\n    <tr style=\"text-align: right;\">\n      <th></th>\n      <th>수치형데이터1</th>\n      <th>진단년도</th>\n      <th>수치형데이터2</th>\n      <th>은</th>\n      <th>일산화탄소</th>\n      <th>크로뮴</th>\n      <th>구리</th>\n      <th>철</th>\n      <th>물</th>\n      <th>망가니즈</th>\n      <th>몰리브데넘</th>\n      <th>니켈</th>\n      <th>입자 정량 지수</th>\n      <th>타이타늄</th>\n      <th>바나듐</th>\n      <th>점도 40도</th>\n      <th>아연</th>\n      <th>샘플오일관련부품</th>\n    </tr>\n  </thead>\n  <tbody>\n    <tr>\n      <th>0</th>\n      <td>-0.379987</td>\n      <td>-0.668748</td>\n      <td>-0.341059</td>\n      <td>-0.149807</td>\n      <td>-0.096143</td>\n      <td>0.366670</td>\n      <td>0.311033</td>\n      <td>1.202754</td>\n      <td>-0.0441</td>\n      <td>1.171823</td>\n      <td>-0.384823</td>\n      <td>1.170325</td>\n      <td>4.985286</td>\n      <td>0.605756</td>\n      <td>-0.109985</td>\n      <td>0.915670</td>\n      <td>-0.962299</td>\n      <td>2</td>\n    </tr>\n    <tr>\n      <th>1</th>\n      <td>-0.410821</td>\n      <td>1.851308</td>\n      <td>-0.025252</td>\n      <td>-0.149807</td>\n      <td>-0.096143</td>\n      <td>-0.122537</td>\n      <td>-0.032219</td>\n      <td>-0.311592</td>\n      <td>-0.0441</td>\n      <td>-0.258298</td>\n      <td>-0.401334</td>\n      <td>-0.173878</td>\n      <td>-0.255810</td>\n      <td>-0.104342</td>\n      <td>-0.109985</td>\n      <td>-1.357880</td>\n      <td>0.123421</td>\n      <td>1</td>\n    </tr>\n    <tr>\n      <th>2</th>\n      <td>-0.169362</td>\n      <td>0.339274</td>\n      <td>-0.341059</td>\n      <td>-0.149807</td>\n      <td>-0.096143</td>\n      <td>-0.084906</td>\n      <td>-0.244013</td>\n      <td>-0.308173</td>\n      <td>-0.0441</td>\n      <td>-0.258298</td>\n      <td>-0.401334</td>\n      <td>-0.173878</td>\n      <td>-0.257045</td>\n      <td>-0.104342</td>\n      <td>-0.109985</td>\n      <td>-0.766757</td>\n      <td>-0.328178</td>\n      <td>1</td>\n    </tr>\n    <tr>\n      <th>3</th>\n      <td>0.958355</td>\n      <td>-0.920754</td>\n      <td>-0.341059</td>\n      <td>-0.149807</td>\n      <td>-0.096143</td>\n      <td>-0.122537</td>\n      <td>-0.251316</td>\n      <td>-0.251770</td>\n      <td>-0.0441</td>\n      <td>-0.168915</td>\n      <td>-0.401334</td>\n      <td>-0.173878</td>\n      <td>-0.240368</td>\n      <td>-0.104342</td>\n      <td>-0.109985</td>\n      <td>0.487829</td>\n      <td>-1.090252</td>\n      <td>2</td>\n    </tr>\n    <tr>\n      <th>4</th>\n      <td>0.179564</td>\n      <td>0.339274</td>\n      <td>-0.341059</td>\n      <td>-0.149807</td>\n      <td>-0.096143</td>\n      <td>-0.122537</td>\n      <td>-0.258619</td>\n      <td>-0.193657</td>\n      <td>-0.0441</td>\n      <td>-0.258298</td>\n      <td>-0.401334</td>\n      <td>-0.173878</td>\n      <td>-0.133507</td>\n      <td>-0.104342</td>\n      <td>-0.109985</td>\n      <td>0.483695</td>\n      <td>-0.862570</td>\n      <td>2</td>\n    </tr>\n    <tr>\n      <th>...</th>\n      <td>...</td>\n      <td>...</td>\n      <td>...</td>\n      <td>...</td>\n      <td>...</td>\n      <td>...</td>\n      <td>...</td>\n      <td>...</td>\n      <td>...</td>\n      <td>...</td>\n      <td>...</td>\n      <td>...</td>\n      <td>...</td>\n      <td>...</td>\n      <td>...</td>\n      <td>...</td>\n      <td>...</td>\n      <td>...</td>\n    </tr>\n    <tr>\n      <th>20131</th>\n      <td>-0.328294</td>\n      <td>0.087268</td>\n      <td>-0.341059</td>\n      <td>-0.149807</td>\n      <td>-0.096143</td>\n      <td>-0.009643</td>\n      <td>0.690801</td>\n      <td>1.474515</td>\n      <td>-0.0441</td>\n      <td>5.551570</td>\n      <td>-0.318780</td>\n      <td>0.274190</td>\n      <td>0.967215</td>\n      <td>-0.104342</td>\n      <td>-0.109985</td>\n      <td>-0.795693</td>\n      <td>1.084950</td>\n      <td>2</td>\n    </tr>\n    <tr>\n      <th>20132</th>\n      <td>0.219694</td>\n      <td>0.591280</td>\n      <td>-0.341059</td>\n      <td>-0.149807</td>\n      <td>-0.096143</td>\n      <td>0.065619</td>\n      <td>-0.244013</td>\n      <td>0.942956</td>\n      <td>-0.0441</td>\n      <td>0.188615</td>\n      <td>-0.401334</td>\n      <td>-0.173878</td>\n      <td>0.160513</td>\n      <td>-0.104342</td>\n      <td>-0.109985</td>\n      <td>0.580838</td>\n      <td>-1.078962</td>\n      <td>2</td>\n    </tr>\n    <tr>\n      <th>20133</th>\n      <td>0.263678</td>\n      <td>0.087268</td>\n      <td>-0.341059</td>\n      <td>-0.149807</td>\n      <td>-0.096143</td>\n      <td>-0.122537</td>\n      <td>-0.258619</td>\n      <td>-0.224423</td>\n      <td>-0.0441</td>\n      <td>-0.258298</td>\n      <td>-0.401334</td>\n      <td>-0.173878</td>\n      <td>-0.224925</td>\n      <td>-0.104342</td>\n      <td>-0.109985</td>\n      <td>3.978762</td>\n      <td>-1.078962</td>\n      <td>2</td>\n    </tr>\n    <tr>\n      <th>20134</th>\n      <td>-0.407647</td>\n      <td>-0.164737</td>\n      <td>-0.341059</td>\n      <td>-0.149807</td>\n      <td>-0.096143</td>\n      <td>-0.122537</td>\n      <td>0.194181</td>\n      <td>-0.311592</td>\n      <td>-0.0441</td>\n      <td>-0.258298</td>\n      <td>-0.401334</td>\n      <td>-0.173878</td>\n      <td>-0.264457</td>\n      <td>-0.104342</td>\n      <td>-0.109985</td>\n      <td>-1.211133</td>\n      <td>-0.203988</td>\n      <td>1</td>\n    </tr>\n    <tr>\n      <th>20135</th>\n      <td>-0.173443</td>\n      <td>0.591280</td>\n      <td>2.179983</td>\n      <td>5.585000</td>\n      <td>-0.096143</td>\n      <td>-0.122537</td>\n      <td>-0.258619</td>\n      <td>-0.308173</td>\n      <td>-0.0441</td>\n      <td>-0.258298</td>\n      <td>-0.368313</td>\n      <td>-0.173878</td>\n      <td>-0.258898</td>\n      <td>-0.104342</td>\n      <td>-0.109985</td>\n      <td>-0.613809</td>\n      <td>0.721790</td>\n      <td>0</td>\n    </tr>\n  </tbody>\n</table>\n<p>20136 rows × 18 columns</p>\n</div>"
     },
     "execution_count": 58,
     "metadata": {},
     "output_type": "execute_result"
    }
   ],
   "source": [
    "df_stand_1hot = cocnat_df(standard_scale(num_attribss),label_encoding(cat_attribs))\n",
    "df_stand_1hot"
   ],
   "metadata": {
    "collapsed": false,
    "pycharm": {
     "name": "#%%\n"
    }
   }
  },
  {
   "cell_type": "code",
   "execution_count": null,
   "outputs": [],
   "source": [
    "train_stand_1hot, test_stand_1hot = split_train_test(df_stand_1hot)"
   ],
   "metadata": {
    "collapsed": false,
    "pycharm": {
     "name": "#%%\n"
    }
   }
  },
  {
   "cell_type": "code",
   "execution_count": null,
   "outputs": [],
   "source": [
    "train_stand_1hot, y_stand_1hot = add_smote_enn(train_stand_1hot,y)"
   ],
   "metadata": {
    "collapsed": false,
    "pycharm": {
     "name": "#%%\n"
    }
   }
  },
  {
   "cell_type": "code",
   "execution_count": null,
   "outputs": [],
   "source": [
    "X_train_stand_1hot, X_val_stand_1hot, y_train_stand_1hot, y_val_stand_1hot = split_train_val(train_stand_1hot,y_stand_1hot)"
   ],
   "metadata": {
    "collapsed": false,
    "pycharm": {
     "name": "#%%\n"
    }
   }
  },
  {
   "cell_type": "code",
   "execution_count": null,
   "outputs": [],
   "source": [
    "model_stand_1hot = pipeline_RF(X_train_stand_1hot, X_val_stand_1hot, y_train_stand_1hot, y_val_stand_1hot)"
   ],
   "metadata": {
    "collapsed": false,
    "pycharm": {
     "name": "#%%\n"
    }
   }
  },
  {
   "cell_type": "markdown",
   "source": [
    "### smoteENN + MinMax scaler + Label-encoding"
   ],
   "metadata": {
    "collapsed": false
   }
  },
  {
   "cell_type": "code",
   "execution_count": null,
   "outputs": [],
   "source": [
    "df_stand_1hot = cocnat_df(MM_scale(num_attribss),label_encoding(cat_attribs))\n",
    "df_stand_1hot"
   ],
   "metadata": {
    "collapsed": false,
    "pycharm": {
     "name": "#%%\n"
    }
   }
  },
  {
   "cell_type": "code",
   "execution_count": 59,
   "outputs": [],
   "source": [
    "train_stand_1hot, test_stand_1hot = split_train_test(df_stand_1hot)"
   ],
   "metadata": {
    "collapsed": false,
    "pycharm": {
     "name": "#%%\n"
    }
   }
  },
  {
   "cell_type": "code",
   "execution_count": 60,
   "outputs": [],
   "source": [
    "train_stand_1hot, y_stand_1hot = add_smote_enn(train_stand_1hot,y)"
   ],
   "metadata": {
    "collapsed": false,
    "pycharm": {
     "name": "#%%\n"
    }
   }
  },
  {
   "cell_type": "code",
   "execution_count": 61,
   "outputs": [
    {
     "name": "stdout",
     "output_type": "stream",
     "text": [
      "(14056, 18) (6024, 18) (14056,) (6024,)\n"
     ]
    }
   ],
   "source": [
    "X_train_stand_1hot, X_val_stand_1hot, y_train_stand_1hot, y_val_stand_1hot = split_train_val(train_stand_1hot,y_stand_1hot)"
   ],
   "metadata": {
    "collapsed": false,
    "pycharm": {
     "name": "#%%\n"
    }
   }
  },
  {
   "cell_type": "code",
   "execution_count": 62,
   "outputs": [
    {
     "name": "stdout",
     "output_type": "stream",
     "text": [
      "RandomForestClassifier(max_depth=10)\n",
      "accuracy_score : 0.8778220451527224\n",
      "recall_score : 0.865334717176959\n",
      "precision_score : 0.9389076576576577\n",
      "f1_score : 0.9006211180124224\n",
      "coufusion_matrix : \n",
      "[[1953  217]\n",
      " [ 519 3335]]\n",
      "None\n"
     ]
    }
   ],
   "source": [
    "model_stand_1hot = pipeline_RF(X_train_stand_1hot, X_val_stand_1hot, y_train_stand_1hot, y_val_stand_1hot)"
   ],
   "metadata": {
    "collapsed": false,
    "pycharm": {
     "name": "#%%\n"
    }
   }
  },
  {
   "cell_type": "markdown",
   "source": [
    "### smoteENN + Robust scaler + Label-encoding"
   ],
   "metadata": {
    "collapsed": false,
    "pycharm": {
     "name": "#%% md\n"
    }
   }
  },
  {
   "cell_type": "code",
   "execution_count": 59,
   "outputs": [
    {
     "name": "stdout",
     "output_type": "stream",
     "text": [
      "RobustScaler()\n"
     ]
    },
    {
     "data": {
      "text/plain": "        수치형데이터1      진단년도   수치형데이터2    은  일산화탄소       크로뮴      구리         철  \\\n0     -0.348959 -0.428571  0.000000  0.0    0.0  4.000000  4.6250  6.669291   \n1     -0.412237  1.000000  0.825472  0.0    0.0 -0.333333  1.6875 -0.307087   \n2      0.083285  0.142857  0.000000  0.0    0.0  0.000000 -0.1250 -0.291339   \n3      2.397581 -0.571429  0.000000  0.0    0.0 -0.333333 -0.1875 -0.031496   \n4      0.799349  0.142857  0.000000  0.0    0.0 -0.333333 -0.2500  0.236220   \n...         ...       ...       ...  ...    ...       ...     ...       ...   \n20131 -0.242875  0.000000  0.000000  0.0    0.0  0.666667  7.8750  7.921260   \n20132  0.881703  0.285714  0.000000  0.0    0.0  1.333333 -0.1250  5.472441   \n20133  0.971967  0.000000  0.000000  0.0    0.0 -0.333333 -0.2500  0.094488   \n20134 -0.405723 -0.142857  0.000000  0.0    0.0 -0.333333  3.6250 -0.307087   \n20135  0.074910  0.285714  6.589623  1.0    0.0 -0.333333 -0.2500 -0.291339   \n\n         물  망가니즈     몰리브데넘   니켈   입자 정량 지수  타이타늄  바나듐    점도 40도        아연  \\\n0      0.0   7.5  0.000000  6.0  51.048193   5.0  0.0  0.650842 -0.400000   \n1      0.0  -0.5 -0.142857  0.0  -0.066265   0.0  0.0 -1.033691  0.134259   \n2      0.0  -0.5 -0.142857  0.0  -0.078313   0.0  0.0 -0.595712 -0.087963   \n3      0.0   0.0 -0.142857  0.0   0.084337   0.0  0.0  0.333844 -0.462963   \n4      0.0  -0.5 -0.142857  0.0   1.126506   0.0  0.0  0.330781 -0.350926   \n...    ...   ...       ...  ...        ...   ...  ...       ...       ...   \n20131  0.0  32.0  0.571429  2.0  11.861446   0.0  0.0 -0.617152  0.607407   \n20132  0.0   2.0 -0.142857  0.0   3.993976   0.0  0.0  0.402757 -0.457407   \n20133  0.0  -0.5 -0.142857  0.0   0.234940   0.0  0.0  2.920368 -0.457407   \n20134  0.0  -0.5 -0.142857  0.0  -0.150602   0.0  0.0 -0.924962 -0.026852   \n20135  0.0  -0.5  0.142857  0.0  -0.096386   0.0  0.0 -0.482389  0.428704   \n\n      샘플오일관련부품  \n0            2  \n1            1  \n2            1  \n3            2  \n4            2  \n...        ...  \n20131        2  \n20132        2  \n20133        2  \n20134        1  \n20135        0  \n\n[20136 rows x 18 columns]",
      "text/html": "<div>\n<style scoped>\n    .dataframe tbody tr th:only-of-type {\n        vertical-align: middle;\n    }\n\n    .dataframe tbody tr th {\n        vertical-align: top;\n    }\n\n    .dataframe thead th {\n        text-align: right;\n    }\n</style>\n<table border=\"1\" class=\"dataframe\">\n  <thead>\n    <tr style=\"text-align: right;\">\n      <th></th>\n      <th>수치형데이터1</th>\n      <th>진단년도</th>\n      <th>수치형데이터2</th>\n      <th>은</th>\n      <th>일산화탄소</th>\n      <th>크로뮴</th>\n      <th>구리</th>\n      <th>철</th>\n      <th>물</th>\n      <th>망가니즈</th>\n      <th>몰리브데넘</th>\n      <th>니켈</th>\n      <th>입자 정량 지수</th>\n      <th>타이타늄</th>\n      <th>바나듐</th>\n      <th>점도 40도</th>\n      <th>아연</th>\n      <th>샘플오일관련부품</th>\n    </tr>\n  </thead>\n  <tbody>\n    <tr>\n      <th>0</th>\n      <td>-0.348959</td>\n      <td>-0.428571</td>\n      <td>0.000000</td>\n      <td>0.0</td>\n      <td>0.0</td>\n      <td>4.000000</td>\n      <td>4.6250</td>\n      <td>6.669291</td>\n      <td>0.0</td>\n      <td>7.5</td>\n      <td>0.000000</td>\n      <td>6.0</td>\n      <td>51.048193</td>\n      <td>5.0</td>\n      <td>0.0</td>\n      <td>0.650842</td>\n      <td>-0.400000</td>\n      <td>2</td>\n    </tr>\n    <tr>\n      <th>1</th>\n      <td>-0.412237</td>\n      <td>1.000000</td>\n      <td>0.825472</td>\n      <td>0.0</td>\n      <td>0.0</td>\n      <td>-0.333333</td>\n      <td>1.6875</td>\n      <td>-0.307087</td>\n      <td>0.0</td>\n      <td>-0.5</td>\n      <td>-0.142857</td>\n      <td>0.0</td>\n      <td>-0.066265</td>\n      <td>0.0</td>\n      <td>0.0</td>\n      <td>-1.033691</td>\n      <td>0.134259</td>\n      <td>1</td>\n    </tr>\n    <tr>\n      <th>2</th>\n      <td>0.083285</td>\n      <td>0.142857</td>\n      <td>0.000000</td>\n      <td>0.0</td>\n      <td>0.0</td>\n      <td>0.000000</td>\n      <td>-0.1250</td>\n      <td>-0.291339</td>\n      <td>0.0</td>\n      <td>-0.5</td>\n      <td>-0.142857</td>\n      <td>0.0</td>\n      <td>-0.078313</td>\n      <td>0.0</td>\n      <td>0.0</td>\n      <td>-0.595712</td>\n      <td>-0.087963</td>\n      <td>1</td>\n    </tr>\n    <tr>\n      <th>3</th>\n      <td>2.397581</td>\n      <td>-0.571429</td>\n      <td>0.000000</td>\n      <td>0.0</td>\n      <td>0.0</td>\n      <td>-0.333333</td>\n      <td>-0.1875</td>\n      <td>-0.031496</td>\n      <td>0.0</td>\n      <td>0.0</td>\n      <td>-0.142857</td>\n      <td>0.0</td>\n      <td>0.084337</td>\n      <td>0.0</td>\n      <td>0.0</td>\n      <td>0.333844</td>\n      <td>-0.462963</td>\n      <td>2</td>\n    </tr>\n    <tr>\n      <th>4</th>\n      <td>0.799349</td>\n      <td>0.142857</td>\n      <td>0.000000</td>\n      <td>0.0</td>\n      <td>0.0</td>\n      <td>-0.333333</td>\n      <td>-0.2500</td>\n      <td>0.236220</td>\n      <td>0.0</td>\n      <td>-0.5</td>\n      <td>-0.142857</td>\n      <td>0.0</td>\n      <td>1.126506</td>\n      <td>0.0</td>\n      <td>0.0</td>\n      <td>0.330781</td>\n      <td>-0.350926</td>\n      <td>2</td>\n    </tr>\n    <tr>\n      <th>...</th>\n      <td>...</td>\n      <td>...</td>\n      <td>...</td>\n      <td>...</td>\n      <td>...</td>\n      <td>...</td>\n      <td>...</td>\n      <td>...</td>\n      <td>...</td>\n      <td>...</td>\n      <td>...</td>\n      <td>...</td>\n      <td>...</td>\n      <td>...</td>\n      <td>...</td>\n      <td>...</td>\n      <td>...</td>\n      <td>...</td>\n    </tr>\n    <tr>\n      <th>20131</th>\n      <td>-0.242875</td>\n      <td>0.000000</td>\n      <td>0.000000</td>\n      <td>0.0</td>\n      <td>0.0</td>\n      <td>0.666667</td>\n      <td>7.8750</td>\n      <td>7.921260</td>\n      <td>0.0</td>\n      <td>32.0</td>\n      <td>0.571429</td>\n      <td>2.0</td>\n      <td>11.861446</td>\n      <td>0.0</td>\n      <td>0.0</td>\n      <td>-0.617152</td>\n      <td>0.607407</td>\n      <td>2</td>\n    </tr>\n    <tr>\n      <th>20132</th>\n      <td>0.881703</td>\n      <td>0.285714</td>\n      <td>0.000000</td>\n      <td>0.0</td>\n      <td>0.0</td>\n      <td>1.333333</td>\n      <td>-0.1250</td>\n      <td>5.472441</td>\n      <td>0.0</td>\n      <td>2.0</td>\n      <td>-0.142857</td>\n      <td>0.0</td>\n      <td>3.993976</td>\n      <td>0.0</td>\n      <td>0.0</td>\n      <td>0.402757</td>\n      <td>-0.457407</td>\n      <td>2</td>\n    </tr>\n    <tr>\n      <th>20133</th>\n      <td>0.971967</td>\n      <td>0.000000</td>\n      <td>0.000000</td>\n      <td>0.0</td>\n      <td>0.0</td>\n      <td>-0.333333</td>\n      <td>-0.2500</td>\n      <td>0.094488</td>\n      <td>0.0</td>\n      <td>-0.5</td>\n      <td>-0.142857</td>\n      <td>0.0</td>\n      <td>0.234940</td>\n      <td>0.0</td>\n      <td>0.0</td>\n      <td>2.920368</td>\n      <td>-0.457407</td>\n      <td>2</td>\n    </tr>\n    <tr>\n      <th>20134</th>\n      <td>-0.405723</td>\n      <td>-0.142857</td>\n      <td>0.000000</td>\n      <td>0.0</td>\n      <td>0.0</td>\n      <td>-0.333333</td>\n      <td>3.6250</td>\n      <td>-0.307087</td>\n      <td>0.0</td>\n      <td>-0.5</td>\n      <td>-0.142857</td>\n      <td>0.0</td>\n      <td>-0.150602</td>\n      <td>0.0</td>\n      <td>0.0</td>\n      <td>-0.924962</td>\n      <td>-0.026852</td>\n      <td>1</td>\n    </tr>\n    <tr>\n      <th>20135</th>\n      <td>0.074910</td>\n      <td>0.285714</td>\n      <td>6.589623</td>\n      <td>1.0</td>\n      <td>0.0</td>\n      <td>-0.333333</td>\n      <td>-0.2500</td>\n      <td>-0.291339</td>\n      <td>0.0</td>\n      <td>-0.5</td>\n      <td>0.142857</td>\n      <td>0.0</td>\n      <td>-0.096386</td>\n      <td>0.0</td>\n      <td>0.0</td>\n      <td>-0.482389</td>\n      <td>0.428704</td>\n      <td>0</td>\n    </tr>\n  </tbody>\n</table>\n<p>20136 rows × 18 columns</p>\n</div>"
     },
     "execution_count": 59,
     "metadata": {},
     "output_type": "execute_result"
    }
   ],
   "source": [
    "df_stand_1hot = cocnat_df(robust_scale(num_attribss),label_encoding(cat_attribs))\n",
    "df_stand_1hot"
   ],
   "metadata": {
    "collapsed": false,
    "pycharm": {
     "name": "#%%\n"
    }
   }
  },
  {
   "cell_type": "code",
   "execution_count": 60,
   "outputs": [],
   "source": [
    "train_stand_1hot, test_stand_1hot = split_train_test(df_stand_1hot)"
   ],
   "metadata": {
    "collapsed": false,
    "pycharm": {
     "name": "#%%\n"
    }
   }
  },
  {
   "cell_type": "code",
   "execution_count": 65,
   "outputs": [],
   "source": [
    "train_stand_1hot, y_stand_1hot = add_smote_enn(train_stand_1hot,y)"
   ],
   "metadata": {
    "collapsed": false,
    "pycharm": {
     "name": "#%%\n"
    }
   }
  },
  {
   "cell_type": "code",
   "execution_count": 66,
   "outputs": [
    {
     "name": "stdout",
     "output_type": "stream",
     "text": [
      "(13902, 18) (5958, 18) (13902,) (5958,)\n"
     ]
    }
   ],
   "source": [
    "X_train_stand_1hot, X_val_stand_1hot, y_train_stand_1hot, y_val_stand_1hot = split_train_val(train_stand_1hot,y_stand_1hot)"
   ],
   "metadata": {
    "collapsed": false,
    "pycharm": {
     "name": "#%%\n"
    }
   }
  },
  {
   "cell_type": "code",
   "execution_count": 63,
   "outputs": [
    {
     "ename": "NameError",
     "evalue": "name 'pipeline_RF' is not defined",
     "output_type": "error",
     "traceback": [
      "\u001B[1;31m---------------------------------------------------------------------------\u001B[0m",
      "\u001B[1;31mNameError\u001B[0m                                 Traceback (most recent call last)",
      "Cell \u001B[1;32mIn[63], line 1\u001B[0m\n\u001B[1;32m----> 1\u001B[0m model_stand_1hot \u001B[38;5;241m=\u001B[39m \u001B[43mpipeline_RF\u001B[49m(X_train_stand_1hot, X_val_stand_1hot, y_train_stand_1hot, y_val_stand_1hot)\n",
      "\u001B[1;31mNameError\u001B[0m: name 'pipeline_RF' is not defined"
     ]
    }
   ],
   "source": [
    "model_stand_1hot = pipeline_RF(X_train_stand_1hot, X_val_stand_1hot, y_train_stand_1hot, y_val_stand_1hot)"
   ],
   "metadata": {
    "collapsed": false,
    "pycharm": {
     "name": "#%%\n"
    }
   }
  },
  {
   "cell_type": "code",
   "execution_count": null,
   "outputs": [],
   "source": [],
   "metadata": {
    "collapsed": false,
    "pycharm": {
     "name": "#%%\n"
    }
   }
  },
  {
   "cell_type": "markdown",
   "source": [
    "## smoteENN + Standard scaler + One-hot-encoding"
   ],
   "metadata": {
    "collapsed": false,
    "pycharm": {
     "name": "#%% md\n"
    }
   }
  },
  {
   "cell_type": "code",
   "execution_count": 99,
   "outputs": [
    {
     "name": "stderr",
     "output_type": "stream",
     "text": [
      "C:\\Users\\yoon9\\AppData\\Roaming\\Python\\Python310\\site-packages\\sklearn\\utils\\deprecation.py:87: FutureWarning: Function get_feature_names is deprecated; get_feature_names is deprecated in 1.0 and will be removed in 1.2. Please use get_feature_names_out instead.\n",
      "  warnings.warn(msg, category=FutureWarning)\n"
     ]
    },
    {
     "data": {
      "text/plain": "        수치형데이터1      진단년도   수치형데이터2         은     일산화탄소       크로뮴        구리  \\\n0     -0.379987 -0.668748 -0.341059 -0.149807 -0.096143  0.366670  0.311033   \n1     -0.410821  1.851308 -0.025252 -0.149807 -0.096143 -0.122537 -0.032219   \n2     -0.169362  0.339274 -0.341059 -0.149807 -0.096143 -0.084906 -0.244013   \n3      0.958355 -0.920754 -0.341059 -0.149807 -0.096143 -0.122537 -0.251316   \n4      0.179564  0.339274 -0.341059 -0.149807 -0.096143 -0.122537 -0.258619   \n...         ...       ...       ...       ...       ...       ...       ...   \n20131 -0.328294  0.087268 -0.341059 -0.149807 -0.096143 -0.009643  0.690801   \n20132  0.219694  0.591280 -0.341059 -0.149807 -0.096143  0.065619 -0.244013   \n20133  0.263678  0.087268 -0.341059 -0.149807 -0.096143 -0.122537 -0.258619   \n20134 -0.407647 -0.164737 -0.341059 -0.149807 -0.096143 -0.122537  0.194181   \n20135 -0.173443  0.591280  2.179983  5.585000 -0.096143 -0.122537 -0.258619   \n\n              철       물      망가니즈  ...        니켈  입자 정량 지수      타이타늄  \\\n0      1.202754 -0.0441  1.171823  ...  1.170325  4.985286  0.605756   \n1     -0.311592 -0.0441 -0.258298  ... -0.173878 -0.255810 -0.104342   \n2     -0.308173 -0.0441 -0.258298  ... -0.173878 -0.257045 -0.104342   \n3     -0.251770 -0.0441 -0.168915  ... -0.173878 -0.240368 -0.104342   \n4     -0.193657 -0.0441 -0.258298  ... -0.173878 -0.133507 -0.104342   \n...         ...     ...       ...  ...       ...       ...       ...   \n20131  1.474515 -0.0441  5.551570  ...  0.274190  0.967215 -0.104342   \n20132  0.942956 -0.0441  0.188615  ... -0.173878  0.160513 -0.104342   \n20133 -0.224423 -0.0441 -0.258298  ... -0.173878 -0.224925 -0.104342   \n20134 -0.311592 -0.0441 -0.258298  ... -0.173878 -0.264457 -0.104342   \n20135 -0.308173 -0.0441 -0.258298  ... -0.173878 -0.258898 -0.104342   \n\n            바나듐    점도 40도        아연  x0_COMPONENT1  x0_COMPONENT2  \\\n0     -0.109985  0.915670 -0.962299            0.0            0.0   \n1     -0.109985 -1.357880  0.123421            0.0            1.0   \n2     -0.109985 -0.766757 -0.328178            0.0            1.0   \n3     -0.109985  0.487829 -1.090252            0.0            0.0   \n4     -0.109985  0.483695 -0.862570            0.0            0.0   \n...         ...       ...       ...            ...            ...   \n20131 -0.109985 -0.795693  1.084950            0.0            0.0   \n20132 -0.109985  0.580838 -1.078962            0.0            0.0   \n20133 -0.109985  3.978762 -1.078962            0.0            0.0   \n20134 -0.109985 -1.211133 -0.203988            0.0            1.0   \n20135 -0.109985 -0.613809  0.721790            1.0            0.0   \n\n       x0_COMPONENT3  x0_COMPONENT4  \n0                1.0            0.0  \n1                0.0            0.0  \n2                0.0            0.0  \n3                1.0            0.0  \n4                1.0            0.0  \n...              ...            ...  \n20131            1.0            0.0  \n20132            1.0            0.0  \n20133            1.0            0.0  \n20134            0.0            0.0  \n20135            0.0            0.0  \n\n[20136 rows x 21 columns]",
      "text/html": "<div>\n<style scoped>\n    .dataframe tbody tr th:only-of-type {\n        vertical-align: middle;\n    }\n\n    .dataframe tbody tr th {\n        vertical-align: top;\n    }\n\n    .dataframe thead th {\n        text-align: right;\n    }\n</style>\n<table border=\"1\" class=\"dataframe\">\n  <thead>\n    <tr style=\"text-align: right;\">\n      <th></th>\n      <th>수치형데이터1</th>\n      <th>진단년도</th>\n      <th>수치형데이터2</th>\n      <th>은</th>\n      <th>일산화탄소</th>\n      <th>크로뮴</th>\n      <th>구리</th>\n      <th>철</th>\n      <th>물</th>\n      <th>망가니즈</th>\n      <th>...</th>\n      <th>니켈</th>\n      <th>입자 정량 지수</th>\n      <th>타이타늄</th>\n      <th>바나듐</th>\n      <th>점도 40도</th>\n      <th>아연</th>\n      <th>x0_COMPONENT1</th>\n      <th>x0_COMPONENT2</th>\n      <th>x0_COMPONENT3</th>\n      <th>x0_COMPONENT4</th>\n    </tr>\n  </thead>\n  <tbody>\n    <tr>\n      <th>0</th>\n      <td>-0.379987</td>\n      <td>-0.668748</td>\n      <td>-0.341059</td>\n      <td>-0.149807</td>\n      <td>-0.096143</td>\n      <td>0.366670</td>\n      <td>0.311033</td>\n      <td>1.202754</td>\n      <td>-0.0441</td>\n      <td>1.171823</td>\n      <td>...</td>\n      <td>1.170325</td>\n      <td>4.985286</td>\n      <td>0.605756</td>\n      <td>-0.109985</td>\n      <td>0.915670</td>\n      <td>-0.962299</td>\n      <td>0.0</td>\n      <td>0.0</td>\n      <td>1.0</td>\n      <td>0.0</td>\n    </tr>\n    <tr>\n      <th>1</th>\n      <td>-0.410821</td>\n      <td>1.851308</td>\n      <td>-0.025252</td>\n      <td>-0.149807</td>\n      <td>-0.096143</td>\n      <td>-0.122537</td>\n      <td>-0.032219</td>\n      <td>-0.311592</td>\n      <td>-0.0441</td>\n      <td>-0.258298</td>\n      <td>...</td>\n      <td>-0.173878</td>\n      <td>-0.255810</td>\n      <td>-0.104342</td>\n      <td>-0.109985</td>\n      <td>-1.357880</td>\n      <td>0.123421</td>\n      <td>0.0</td>\n      <td>1.0</td>\n      <td>0.0</td>\n      <td>0.0</td>\n    </tr>\n    <tr>\n      <th>2</th>\n      <td>-0.169362</td>\n      <td>0.339274</td>\n      <td>-0.341059</td>\n      <td>-0.149807</td>\n      <td>-0.096143</td>\n      <td>-0.084906</td>\n      <td>-0.244013</td>\n      <td>-0.308173</td>\n      <td>-0.0441</td>\n      <td>-0.258298</td>\n      <td>...</td>\n      <td>-0.173878</td>\n      <td>-0.257045</td>\n      <td>-0.104342</td>\n      <td>-0.109985</td>\n      <td>-0.766757</td>\n      <td>-0.328178</td>\n      <td>0.0</td>\n      <td>1.0</td>\n      <td>0.0</td>\n      <td>0.0</td>\n    </tr>\n    <tr>\n      <th>3</th>\n      <td>0.958355</td>\n      <td>-0.920754</td>\n      <td>-0.341059</td>\n      <td>-0.149807</td>\n      <td>-0.096143</td>\n      <td>-0.122537</td>\n      <td>-0.251316</td>\n      <td>-0.251770</td>\n      <td>-0.0441</td>\n      <td>-0.168915</td>\n      <td>...</td>\n      <td>-0.173878</td>\n      <td>-0.240368</td>\n      <td>-0.104342</td>\n      <td>-0.109985</td>\n      <td>0.487829</td>\n      <td>-1.090252</td>\n      <td>0.0</td>\n      <td>0.0</td>\n      <td>1.0</td>\n      <td>0.0</td>\n    </tr>\n    <tr>\n      <th>4</th>\n      <td>0.179564</td>\n      <td>0.339274</td>\n      <td>-0.341059</td>\n      <td>-0.149807</td>\n      <td>-0.096143</td>\n      <td>-0.122537</td>\n      <td>-0.258619</td>\n      <td>-0.193657</td>\n      <td>-0.0441</td>\n      <td>-0.258298</td>\n      <td>...</td>\n      <td>-0.173878</td>\n      <td>-0.133507</td>\n      <td>-0.104342</td>\n      <td>-0.109985</td>\n      <td>0.483695</td>\n      <td>-0.862570</td>\n      <td>0.0</td>\n      <td>0.0</td>\n      <td>1.0</td>\n      <td>0.0</td>\n    </tr>\n    <tr>\n      <th>...</th>\n      <td>...</td>\n      <td>...</td>\n      <td>...</td>\n      <td>...</td>\n      <td>...</td>\n      <td>...</td>\n      <td>...</td>\n      <td>...</td>\n      <td>...</td>\n      <td>...</td>\n      <td>...</td>\n      <td>...</td>\n      <td>...</td>\n      <td>...</td>\n      <td>...</td>\n      <td>...</td>\n      <td>...</td>\n      <td>...</td>\n      <td>...</td>\n      <td>...</td>\n      <td>...</td>\n    </tr>\n    <tr>\n      <th>20131</th>\n      <td>-0.328294</td>\n      <td>0.087268</td>\n      <td>-0.341059</td>\n      <td>-0.149807</td>\n      <td>-0.096143</td>\n      <td>-0.009643</td>\n      <td>0.690801</td>\n      <td>1.474515</td>\n      <td>-0.0441</td>\n      <td>5.551570</td>\n      <td>...</td>\n      <td>0.274190</td>\n      <td>0.967215</td>\n      <td>-0.104342</td>\n      <td>-0.109985</td>\n      <td>-0.795693</td>\n      <td>1.084950</td>\n      <td>0.0</td>\n      <td>0.0</td>\n      <td>1.0</td>\n      <td>0.0</td>\n    </tr>\n    <tr>\n      <th>20132</th>\n      <td>0.219694</td>\n      <td>0.591280</td>\n      <td>-0.341059</td>\n      <td>-0.149807</td>\n      <td>-0.096143</td>\n      <td>0.065619</td>\n      <td>-0.244013</td>\n      <td>0.942956</td>\n      <td>-0.0441</td>\n      <td>0.188615</td>\n      <td>...</td>\n      <td>-0.173878</td>\n      <td>0.160513</td>\n      <td>-0.104342</td>\n      <td>-0.109985</td>\n      <td>0.580838</td>\n      <td>-1.078962</td>\n      <td>0.0</td>\n      <td>0.0</td>\n      <td>1.0</td>\n      <td>0.0</td>\n    </tr>\n    <tr>\n      <th>20133</th>\n      <td>0.263678</td>\n      <td>0.087268</td>\n      <td>-0.341059</td>\n      <td>-0.149807</td>\n      <td>-0.096143</td>\n      <td>-0.122537</td>\n      <td>-0.258619</td>\n      <td>-0.224423</td>\n      <td>-0.0441</td>\n      <td>-0.258298</td>\n      <td>...</td>\n      <td>-0.173878</td>\n      <td>-0.224925</td>\n      <td>-0.104342</td>\n      <td>-0.109985</td>\n      <td>3.978762</td>\n      <td>-1.078962</td>\n      <td>0.0</td>\n      <td>0.0</td>\n      <td>1.0</td>\n      <td>0.0</td>\n    </tr>\n    <tr>\n      <th>20134</th>\n      <td>-0.407647</td>\n      <td>-0.164737</td>\n      <td>-0.341059</td>\n      <td>-0.149807</td>\n      <td>-0.096143</td>\n      <td>-0.122537</td>\n      <td>0.194181</td>\n      <td>-0.311592</td>\n      <td>-0.0441</td>\n      <td>-0.258298</td>\n      <td>...</td>\n      <td>-0.173878</td>\n      <td>-0.264457</td>\n      <td>-0.104342</td>\n      <td>-0.109985</td>\n      <td>-1.211133</td>\n      <td>-0.203988</td>\n      <td>0.0</td>\n      <td>1.0</td>\n      <td>0.0</td>\n      <td>0.0</td>\n    </tr>\n    <tr>\n      <th>20135</th>\n      <td>-0.173443</td>\n      <td>0.591280</td>\n      <td>2.179983</td>\n      <td>5.585000</td>\n      <td>-0.096143</td>\n      <td>-0.122537</td>\n      <td>-0.258619</td>\n      <td>-0.308173</td>\n      <td>-0.0441</td>\n      <td>-0.258298</td>\n      <td>...</td>\n      <td>-0.173878</td>\n      <td>-0.258898</td>\n      <td>-0.104342</td>\n      <td>-0.109985</td>\n      <td>-0.613809</td>\n      <td>0.721790</td>\n      <td>1.0</td>\n      <td>0.0</td>\n      <td>0.0</td>\n      <td>0.0</td>\n    </tr>\n  </tbody>\n</table>\n<p>20136 rows × 21 columns</p>\n</div>"
     },
     "execution_count": 99,
     "metadata": {},
     "output_type": "execute_result"
    }
   ],
   "source": [
    "df_stand_1hot = cocnat_df(standard_scale(num_attribss),hot1_encoding(cat_attribs))\n",
    "df_stand_1hot"
   ],
   "metadata": {
    "collapsed": false,
    "pycharm": {
     "name": "#%%\n"
    }
   }
  },
  {
   "cell_type": "code",
   "execution_count": 100,
   "outputs": [],
   "source": [
    "train_stand_1hot, test_stand_1hot = split_train_test(df_stand_1hot)"
   ],
   "metadata": {
    "collapsed": false,
    "pycharm": {
     "name": "#%%\n"
    }
   }
  },
  {
   "cell_type": "code",
   "execution_count": 101,
   "outputs": [],
   "source": [
    "train_stand_1hot, y_stand_1hot = add_smote_enn(train_stand_1hot,y)"
   ],
   "metadata": {
    "collapsed": false,
    "pycharm": {
     "name": "#%%\n"
    }
   }
  },
  {
   "cell_type": "code",
   "execution_count": 102,
   "outputs": [
    {
     "name": "stdout",
     "output_type": "stream",
     "text": [
      "(14064, 21) (6028, 21) (14064,) (6028,)\n"
     ]
    }
   ],
   "source": [
    "X_train_stand_1hot, X_val_stand_1hot, y_train_stand_1hot, y_val_stand_1hot = split_train_val(train_stand_1hot,y_stand_1hot)"
   ],
   "metadata": {
    "collapsed": false,
    "pycharm": {
     "name": "#%%\n"
    }
   }
  },
  {
   "cell_type": "code",
   "execution_count": 103,
   "outputs": [
    {
     "name": "stdout",
     "output_type": "stream",
     "text": [
      "RandomForestClassifier(max_depth=10)\n",
      "accuracy_score : 0.8765759787657598\n",
      "recall_score : 0.8611468243764464\n",
      "precision_score : 0.9425837320574163\n",
      "f1_score : 0.9000268744961031\n",
      "coufusion_matrix : \n",
      "[[1935  204]\n",
      " [ 540 3349]]\n",
      "None\n"
     ]
    }
   ],
   "source": [
    "model_stand_1hot = pipeline_RF(X_train_stand_1hot, X_val_stand_1hot, y_train_stand_1hot, y_val_stand_1hot)"
   ],
   "metadata": {
    "collapsed": false,
    "pycharm": {
     "name": "#%%\n"
    }
   }
  },
  {
   "cell_type": "markdown",
   "source": [
    "## smoteENN + MinMax scaler + One-hot-encoding"
   ],
   "metadata": {
    "collapsed": false,
    "pycharm": {
     "name": "#%% md\n"
    }
   }
  },
  {
   "cell_type": "code",
   "execution_count": 104,
   "outputs": [
    {
     "name": "stderr",
     "output_type": "stream",
     "text": [
      "C:\\Users\\yoon9\\AppData\\Roaming\\Python\\Python310\\site-packages\\sklearn\\utils\\deprecation.py:87: FutureWarning: Function get_feature_names is deprecated; get_feature_names is deprecated in 1.0 and will be removed in 1.2. Please use get_feature_names_out instead.\n",
      "  warnings.warn(msg, category=FutureWarning)\n"
     ]
    },
    {
     "data": {
      "text/plain": "        수치형데이터1      진단년도   수치형데이터2         은  일산화탄소       크로뮴        구리  \\\n0      0.001656  0.266667  0.000000  0.000000    0.0  0.005421  0.013682   \n1      0.001193  0.933333  0.018519  0.000000    0.0  0.000000  0.005438   \n2      0.004822  0.533333  0.000000  0.000000    0.0  0.000417  0.000351   \n3      0.021772  0.200000  0.000000  0.000000    0.0  0.000000  0.000175   \n4      0.010066  0.533333  0.000000  0.000000    0.0  0.000000  0.000000   \n...         ...       ...       ...       ...    ...       ...       ...   \n20131  0.002433  0.466667  0.000000  0.000000    0.0  0.001251  0.022803   \n20132  0.010670  0.600000  0.000000  0.000000    0.0  0.002085  0.000351   \n20133  0.011331  0.466667  0.000000  0.000000    0.0  0.000000  0.000000   \n20134  0.001240  0.400000  0.000000  0.000000    0.0  0.000000  0.010875   \n20135  0.004761  0.600000  0.147831  0.333333    0.0  0.000000  0.000000   \n\n              철    물      망가니즈  ...        니켈  입자 정량 지수      타이타늄  바나듐  \\\n0      0.028007  0.0  0.018244  ...  0.034091  0.149821  0.012407  0.0   \n1      0.000063  0.0  0.000000  ...  0.000000  0.000335  0.000000  0.0   \n2      0.000126  0.0  0.000000  ...  0.000000  0.000300  0.000000  0.0   \n3      0.001167  0.0  0.001140  ...  0.000000  0.000775  0.000000  0.0   \n4      0.002239  0.0  0.000000  ...  0.000000  0.003823  0.000000  0.0   \n...         ...  ...       ...  ...       ...       ...       ...  ...   \n20131  0.033022  0.0  0.074116  ...  0.011364  0.035218  0.000000  0.0   \n20132  0.023213  0.0  0.005701  ...  0.000000  0.012209  0.000000  0.0   \n20133  0.001672  0.0  0.000000  ...  0.000000  0.001216  0.000000  0.0   \n20134  0.000063  0.0  0.000000  ...  0.000000  0.000088  0.000000  0.0   \n20135  0.000126  0.0  0.000000  ...  0.000000  0.000247  0.000000  0.0   \n\n         점도 40도        아연  x0_COMPONENT1  x0_COMPONENT2  x0_COMPONENT3  \\\n0      0.053249  0.035178            0.0            0.0            1.0   \n1      0.014484  0.305816            0.0            1.0            0.0   \n2      0.024563  0.193246            0.0            1.0            0.0   \n3      0.045954  0.003283            0.0            0.0            1.0   \n4      0.045884  0.060038            0.0            0.0            1.0   \n...         ...       ...            ...            ...            ...   \n20131  0.024070  0.545497            0.0            0.0            1.0   \n20132  0.047540  0.006098            0.0            0.0            1.0   \n20133  0.105476  0.006098            0.0            0.0            1.0   \n20134  0.016986  0.224203            0.0            1.0            0.0   \n20135  0.027171  0.454972            1.0            0.0            0.0   \n\n       x0_COMPONENT4  \n0                0.0  \n1                0.0  \n2                0.0  \n3                0.0  \n4                0.0  \n...              ...  \n20131            0.0  \n20132            0.0  \n20133            0.0  \n20134            0.0  \n20135            0.0  \n\n[20136 rows x 21 columns]",
      "text/html": "<div>\n<style scoped>\n    .dataframe tbody tr th:only-of-type {\n        vertical-align: middle;\n    }\n\n    .dataframe tbody tr th {\n        vertical-align: top;\n    }\n\n    .dataframe thead th {\n        text-align: right;\n    }\n</style>\n<table border=\"1\" class=\"dataframe\">\n  <thead>\n    <tr style=\"text-align: right;\">\n      <th></th>\n      <th>수치형데이터1</th>\n      <th>진단년도</th>\n      <th>수치형데이터2</th>\n      <th>은</th>\n      <th>일산화탄소</th>\n      <th>크로뮴</th>\n      <th>구리</th>\n      <th>철</th>\n      <th>물</th>\n      <th>망가니즈</th>\n      <th>...</th>\n      <th>니켈</th>\n      <th>입자 정량 지수</th>\n      <th>타이타늄</th>\n      <th>바나듐</th>\n      <th>점도 40도</th>\n      <th>아연</th>\n      <th>x0_COMPONENT1</th>\n      <th>x0_COMPONENT2</th>\n      <th>x0_COMPONENT3</th>\n      <th>x0_COMPONENT4</th>\n    </tr>\n  </thead>\n  <tbody>\n    <tr>\n      <th>0</th>\n      <td>0.001656</td>\n      <td>0.266667</td>\n      <td>0.000000</td>\n      <td>0.000000</td>\n      <td>0.0</td>\n      <td>0.005421</td>\n      <td>0.013682</td>\n      <td>0.028007</td>\n      <td>0.0</td>\n      <td>0.018244</td>\n      <td>...</td>\n      <td>0.034091</td>\n      <td>0.149821</td>\n      <td>0.012407</td>\n      <td>0.0</td>\n      <td>0.053249</td>\n      <td>0.035178</td>\n      <td>0.0</td>\n      <td>0.0</td>\n      <td>1.0</td>\n      <td>0.0</td>\n    </tr>\n    <tr>\n      <th>1</th>\n      <td>0.001193</td>\n      <td>0.933333</td>\n      <td>0.018519</td>\n      <td>0.000000</td>\n      <td>0.0</td>\n      <td>0.000000</td>\n      <td>0.005438</td>\n      <td>0.000063</td>\n      <td>0.0</td>\n      <td>0.000000</td>\n      <td>...</td>\n      <td>0.000000</td>\n      <td>0.000335</td>\n      <td>0.000000</td>\n      <td>0.0</td>\n      <td>0.014484</td>\n      <td>0.305816</td>\n      <td>0.0</td>\n      <td>1.0</td>\n      <td>0.0</td>\n      <td>0.0</td>\n    </tr>\n    <tr>\n      <th>2</th>\n      <td>0.004822</td>\n      <td>0.533333</td>\n      <td>0.000000</td>\n      <td>0.000000</td>\n      <td>0.0</td>\n      <td>0.000417</td>\n      <td>0.000351</td>\n      <td>0.000126</td>\n      <td>0.0</td>\n      <td>0.000000</td>\n      <td>...</td>\n      <td>0.000000</td>\n      <td>0.000300</td>\n      <td>0.000000</td>\n      <td>0.0</td>\n      <td>0.024563</td>\n      <td>0.193246</td>\n      <td>0.0</td>\n      <td>1.0</td>\n      <td>0.0</td>\n      <td>0.0</td>\n    </tr>\n    <tr>\n      <th>3</th>\n      <td>0.021772</td>\n      <td>0.200000</td>\n      <td>0.000000</td>\n      <td>0.000000</td>\n      <td>0.0</td>\n      <td>0.000000</td>\n      <td>0.000175</td>\n      <td>0.001167</td>\n      <td>0.0</td>\n      <td>0.001140</td>\n      <td>...</td>\n      <td>0.000000</td>\n      <td>0.000775</td>\n      <td>0.000000</td>\n      <td>0.0</td>\n      <td>0.045954</td>\n      <td>0.003283</td>\n      <td>0.0</td>\n      <td>0.0</td>\n      <td>1.0</td>\n      <td>0.0</td>\n    </tr>\n    <tr>\n      <th>4</th>\n      <td>0.010066</td>\n      <td>0.533333</td>\n      <td>0.000000</td>\n      <td>0.000000</td>\n      <td>0.0</td>\n      <td>0.000000</td>\n      <td>0.000000</td>\n      <td>0.002239</td>\n      <td>0.0</td>\n      <td>0.000000</td>\n      <td>...</td>\n      <td>0.000000</td>\n      <td>0.003823</td>\n      <td>0.000000</td>\n      <td>0.0</td>\n      <td>0.045884</td>\n      <td>0.060038</td>\n      <td>0.0</td>\n      <td>0.0</td>\n      <td>1.0</td>\n      <td>0.0</td>\n    </tr>\n    <tr>\n      <th>...</th>\n      <td>...</td>\n      <td>...</td>\n      <td>...</td>\n      <td>...</td>\n      <td>...</td>\n      <td>...</td>\n      <td>...</td>\n      <td>...</td>\n      <td>...</td>\n      <td>...</td>\n      <td>...</td>\n      <td>...</td>\n      <td>...</td>\n      <td>...</td>\n      <td>...</td>\n      <td>...</td>\n      <td>...</td>\n      <td>...</td>\n      <td>...</td>\n      <td>...</td>\n      <td>...</td>\n    </tr>\n    <tr>\n      <th>20131</th>\n      <td>0.002433</td>\n      <td>0.466667</td>\n      <td>0.000000</td>\n      <td>0.000000</td>\n      <td>0.0</td>\n      <td>0.001251</td>\n      <td>0.022803</td>\n      <td>0.033022</td>\n      <td>0.0</td>\n      <td>0.074116</td>\n      <td>...</td>\n      <td>0.011364</td>\n      <td>0.035218</td>\n      <td>0.000000</td>\n      <td>0.0</td>\n      <td>0.024070</td>\n      <td>0.545497</td>\n      <td>0.0</td>\n      <td>0.0</td>\n      <td>1.0</td>\n      <td>0.0</td>\n    </tr>\n    <tr>\n      <th>20132</th>\n      <td>0.010670</td>\n      <td>0.600000</td>\n      <td>0.000000</td>\n      <td>0.000000</td>\n      <td>0.0</td>\n      <td>0.002085</td>\n      <td>0.000351</td>\n      <td>0.023213</td>\n      <td>0.0</td>\n      <td>0.005701</td>\n      <td>...</td>\n      <td>0.000000</td>\n      <td>0.012209</td>\n      <td>0.000000</td>\n      <td>0.0</td>\n      <td>0.047540</td>\n      <td>0.006098</td>\n      <td>0.0</td>\n      <td>0.0</td>\n      <td>1.0</td>\n      <td>0.0</td>\n    </tr>\n    <tr>\n      <th>20133</th>\n      <td>0.011331</td>\n      <td>0.466667</td>\n      <td>0.000000</td>\n      <td>0.000000</td>\n      <td>0.0</td>\n      <td>0.000000</td>\n      <td>0.000000</td>\n      <td>0.001672</td>\n      <td>0.0</td>\n      <td>0.000000</td>\n      <td>...</td>\n      <td>0.000000</td>\n      <td>0.001216</td>\n      <td>0.000000</td>\n      <td>0.0</td>\n      <td>0.105476</td>\n      <td>0.006098</td>\n      <td>0.0</td>\n      <td>0.0</td>\n      <td>1.0</td>\n      <td>0.0</td>\n    </tr>\n    <tr>\n      <th>20134</th>\n      <td>0.001240</td>\n      <td>0.400000</td>\n      <td>0.000000</td>\n      <td>0.000000</td>\n      <td>0.0</td>\n      <td>0.000000</td>\n      <td>0.010875</td>\n      <td>0.000063</td>\n      <td>0.0</td>\n      <td>0.000000</td>\n      <td>...</td>\n      <td>0.000000</td>\n      <td>0.000088</td>\n      <td>0.000000</td>\n      <td>0.0</td>\n      <td>0.016986</td>\n      <td>0.224203</td>\n      <td>0.0</td>\n      <td>1.0</td>\n      <td>0.0</td>\n      <td>0.0</td>\n    </tr>\n    <tr>\n      <th>20135</th>\n      <td>0.004761</td>\n      <td>0.600000</td>\n      <td>0.147831</td>\n      <td>0.333333</td>\n      <td>0.0</td>\n      <td>0.000000</td>\n      <td>0.000000</td>\n      <td>0.000126</td>\n      <td>0.0</td>\n      <td>0.000000</td>\n      <td>...</td>\n      <td>0.000000</td>\n      <td>0.000247</td>\n      <td>0.000000</td>\n      <td>0.0</td>\n      <td>0.027171</td>\n      <td>0.454972</td>\n      <td>1.0</td>\n      <td>0.0</td>\n      <td>0.0</td>\n      <td>0.0</td>\n    </tr>\n  </tbody>\n</table>\n<p>20136 rows × 21 columns</p>\n</div>"
     },
     "execution_count": 104,
     "metadata": {},
     "output_type": "execute_result"
    }
   ],
   "source": [
    "df_MM_1hot = cocnat_df(MM_scale(num_attribss),hot1_encoding(cat_attribs))\n",
    "df_MM_1hot"
   ],
   "metadata": {
    "collapsed": false,
    "pycharm": {
     "name": "#%%\n"
    }
   }
  },
  {
   "cell_type": "code",
   "execution_count": 105,
   "outputs": [],
   "source": [
    "train_stand_MM, test_stand_MM = split_train_test(df_MM_1hot)"
   ],
   "metadata": {
    "collapsed": false,
    "pycharm": {
     "name": "#%%\n"
    }
   }
  },
  {
   "cell_type": "code",
   "execution_count": 106,
   "outputs": [],
   "source": [
    "train_stand_MM, y_stand_MM = add_smote_enn(train_stand_MM,y)"
   ],
   "metadata": {
    "collapsed": false,
    "pycharm": {
     "name": "#%%\n"
    }
   }
  },
  {
   "cell_type": "code",
   "execution_count": 107,
   "outputs": [
    {
     "name": "stdout",
     "output_type": "stream",
     "text": [
      "(13307, 21) (5704, 21) (13307,) (5704,)\n"
     ]
    }
   ],
   "source": [
    "X_train_stand_MM, X_val_stand_MM, y_train_stand_MM, y_val_stand_MM = split_train_val(train_stand_MM,y_stand_MM)"
   ],
   "metadata": {
    "collapsed": false,
    "pycharm": {
     "name": "#%%\n"
    }
   }
  },
  {
   "cell_type": "code",
   "execution_count": 108,
   "outputs": [
    {
     "name": "stdout",
     "output_type": "stream",
     "text": [
      "RandomForestClassifier(max_depth=10)\n",
      "accuracy_score : 0.8788569424964937\n",
      "recall_score : 0.863700366094058\n",
      "precision_score : 0.9367745876603543\n",
      "f1_score : 0.8987545787545786\n",
      "coufusion_matrix : \n",
      "[[1946  207]\n",
      " [ 484 3067]]\n",
      "None\n"
     ]
    }
   ],
   "source": [
    "model_stand_MM = pipeline_RF(X_train_stand_MM, X_val_stand_MM, y_train_stand_MM, y_val_stand_MM)"
   ],
   "metadata": {
    "collapsed": false,
    "pycharm": {
     "name": "#%%\n"
    }
   }
  },
  {
   "cell_type": "markdown",
   "source": [
    "### robust + label"
   ],
   "metadata": {
    "collapsed": false,
    "pycharm": {
     "name": "#%% md\n"
    }
   }
  },
  {
   "cell_type": "code",
   "execution_count": 109,
   "outputs": [
    {
     "name": "stdout",
     "output_type": "stream",
     "text": [
      "RobustScaler()\n"
     ]
    },
    {
     "name": "stderr",
     "output_type": "stream",
     "text": [
      "C:\\Users\\yoon9\\AppData\\Roaming\\Python\\Python310\\site-packages\\sklearn\\utils\\deprecation.py:87: FutureWarning: Function get_feature_names is deprecated; get_feature_names is deprecated in 1.0 and will be removed in 1.2. Please use get_feature_names_out instead.\n",
      "  warnings.warn(msg, category=FutureWarning)\n"
     ]
    },
    {
     "data": {
      "text/plain": "        수치형데이터1      진단년도   수치형데이터2    은  일산화탄소       크로뮴      구리         철  \\\n0     -0.348959 -0.428571  0.000000  0.0    0.0  4.000000  4.6250  6.669291   \n1     -0.412237  1.000000  0.825472  0.0    0.0 -0.333333  1.6875 -0.307087   \n2      0.083285  0.142857  0.000000  0.0    0.0  0.000000 -0.1250 -0.291339   \n3      2.397581 -0.571429  0.000000  0.0    0.0 -0.333333 -0.1875 -0.031496   \n4      0.799349  0.142857  0.000000  0.0    0.0 -0.333333 -0.2500  0.236220   \n...         ...       ...       ...  ...    ...       ...     ...       ...   \n20131 -0.242875  0.000000  0.000000  0.0    0.0  0.666667  7.8750  7.921260   \n20132  0.881703  0.285714  0.000000  0.0    0.0  1.333333 -0.1250  5.472441   \n20133  0.971967  0.000000  0.000000  0.0    0.0 -0.333333 -0.2500  0.094488   \n20134 -0.405723 -0.142857  0.000000  0.0    0.0 -0.333333  3.6250 -0.307087   \n20135  0.074910  0.285714  6.589623  1.0    0.0 -0.333333 -0.2500 -0.291339   \n\n         물  망가니즈  ...   니켈   입자 정량 지수  타이타늄  바나듐    점도 40도        아연  \\\n0      0.0   7.5  ...  6.0  51.048193   5.0  0.0  0.650842 -0.400000   \n1      0.0  -0.5  ...  0.0  -0.066265   0.0  0.0 -1.033691  0.134259   \n2      0.0  -0.5  ...  0.0  -0.078313   0.0  0.0 -0.595712 -0.087963   \n3      0.0   0.0  ...  0.0   0.084337   0.0  0.0  0.333844 -0.462963   \n4      0.0  -0.5  ...  0.0   1.126506   0.0  0.0  0.330781 -0.350926   \n...    ...   ...  ...  ...        ...   ...  ...       ...       ...   \n20131  0.0  32.0  ...  2.0  11.861446   0.0  0.0 -0.617152  0.607407   \n20132  0.0   2.0  ...  0.0   3.993976   0.0  0.0  0.402757 -0.457407   \n20133  0.0  -0.5  ...  0.0   0.234940   0.0  0.0  2.920368 -0.457407   \n20134  0.0  -0.5  ...  0.0  -0.150602   0.0  0.0 -0.924962 -0.026852   \n20135  0.0  -0.5  ...  0.0  -0.096386   0.0  0.0 -0.482389  0.428704   \n\n       x0_COMPONENT1  x0_COMPONENT2  x0_COMPONENT3  x0_COMPONENT4  \n0                0.0            0.0            1.0            0.0  \n1                0.0            1.0            0.0            0.0  \n2                0.0            1.0            0.0            0.0  \n3                0.0            0.0            1.0            0.0  \n4                0.0            0.0            1.0            0.0  \n...              ...            ...            ...            ...  \n20131            0.0            0.0            1.0            0.0  \n20132            0.0            0.0            1.0            0.0  \n20133            0.0            0.0            1.0            0.0  \n20134            0.0            1.0            0.0            0.0  \n20135            1.0            0.0            0.0            0.0  \n\n[20136 rows x 21 columns]",
      "text/html": "<div>\n<style scoped>\n    .dataframe tbody tr th:only-of-type {\n        vertical-align: middle;\n    }\n\n    .dataframe tbody tr th {\n        vertical-align: top;\n    }\n\n    .dataframe thead th {\n        text-align: right;\n    }\n</style>\n<table border=\"1\" class=\"dataframe\">\n  <thead>\n    <tr style=\"text-align: right;\">\n      <th></th>\n      <th>수치형데이터1</th>\n      <th>진단년도</th>\n      <th>수치형데이터2</th>\n      <th>은</th>\n      <th>일산화탄소</th>\n      <th>크로뮴</th>\n      <th>구리</th>\n      <th>철</th>\n      <th>물</th>\n      <th>망가니즈</th>\n      <th>...</th>\n      <th>니켈</th>\n      <th>입자 정량 지수</th>\n      <th>타이타늄</th>\n      <th>바나듐</th>\n      <th>점도 40도</th>\n      <th>아연</th>\n      <th>x0_COMPONENT1</th>\n      <th>x0_COMPONENT2</th>\n      <th>x0_COMPONENT3</th>\n      <th>x0_COMPONENT4</th>\n    </tr>\n  </thead>\n  <tbody>\n    <tr>\n      <th>0</th>\n      <td>-0.348959</td>\n      <td>-0.428571</td>\n      <td>0.000000</td>\n      <td>0.0</td>\n      <td>0.0</td>\n      <td>4.000000</td>\n      <td>4.6250</td>\n      <td>6.669291</td>\n      <td>0.0</td>\n      <td>7.5</td>\n      <td>...</td>\n      <td>6.0</td>\n      <td>51.048193</td>\n      <td>5.0</td>\n      <td>0.0</td>\n      <td>0.650842</td>\n      <td>-0.400000</td>\n      <td>0.0</td>\n      <td>0.0</td>\n      <td>1.0</td>\n      <td>0.0</td>\n    </tr>\n    <tr>\n      <th>1</th>\n      <td>-0.412237</td>\n      <td>1.000000</td>\n      <td>0.825472</td>\n      <td>0.0</td>\n      <td>0.0</td>\n      <td>-0.333333</td>\n      <td>1.6875</td>\n      <td>-0.307087</td>\n      <td>0.0</td>\n      <td>-0.5</td>\n      <td>...</td>\n      <td>0.0</td>\n      <td>-0.066265</td>\n      <td>0.0</td>\n      <td>0.0</td>\n      <td>-1.033691</td>\n      <td>0.134259</td>\n      <td>0.0</td>\n      <td>1.0</td>\n      <td>0.0</td>\n      <td>0.0</td>\n    </tr>\n    <tr>\n      <th>2</th>\n      <td>0.083285</td>\n      <td>0.142857</td>\n      <td>0.000000</td>\n      <td>0.0</td>\n      <td>0.0</td>\n      <td>0.000000</td>\n      <td>-0.1250</td>\n      <td>-0.291339</td>\n      <td>0.0</td>\n      <td>-0.5</td>\n      <td>...</td>\n      <td>0.0</td>\n      <td>-0.078313</td>\n      <td>0.0</td>\n      <td>0.0</td>\n      <td>-0.595712</td>\n      <td>-0.087963</td>\n      <td>0.0</td>\n      <td>1.0</td>\n      <td>0.0</td>\n      <td>0.0</td>\n    </tr>\n    <tr>\n      <th>3</th>\n      <td>2.397581</td>\n      <td>-0.571429</td>\n      <td>0.000000</td>\n      <td>0.0</td>\n      <td>0.0</td>\n      <td>-0.333333</td>\n      <td>-0.1875</td>\n      <td>-0.031496</td>\n      <td>0.0</td>\n      <td>0.0</td>\n      <td>...</td>\n      <td>0.0</td>\n      <td>0.084337</td>\n      <td>0.0</td>\n      <td>0.0</td>\n      <td>0.333844</td>\n      <td>-0.462963</td>\n      <td>0.0</td>\n      <td>0.0</td>\n      <td>1.0</td>\n      <td>0.0</td>\n    </tr>\n    <tr>\n      <th>4</th>\n      <td>0.799349</td>\n      <td>0.142857</td>\n      <td>0.000000</td>\n      <td>0.0</td>\n      <td>0.0</td>\n      <td>-0.333333</td>\n      <td>-0.2500</td>\n      <td>0.236220</td>\n      <td>0.0</td>\n      <td>-0.5</td>\n      <td>...</td>\n      <td>0.0</td>\n      <td>1.126506</td>\n      <td>0.0</td>\n      <td>0.0</td>\n      <td>0.330781</td>\n      <td>-0.350926</td>\n      <td>0.0</td>\n      <td>0.0</td>\n      <td>1.0</td>\n      <td>0.0</td>\n    </tr>\n    <tr>\n      <th>...</th>\n      <td>...</td>\n      <td>...</td>\n      <td>...</td>\n      <td>...</td>\n      <td>...</td>\n      <td>...</td>\n      <td>...</td>\n      <td>...</td>\n      <td>...</td>\n      <td>...</td>\n      <td>...</td>\n      <td>...</td>\n      <td>...</td>\n      <td>...</td>\n      <td>...</td>\n      <td>...</td>\n      <td>...</td>\n      <td>...</td>\n      <td>...</td>\n      <td>...</td>\n      <td>...</td>\n    </tr>\n    <tr>\n      <th>20131</th>\n      <td>-0.242875</td>\n      <td>0.000000</td>\n      <td>0.000000</td>\n      <td>0.0</td>\n      <td>0.0</td>\n      <td>0.666667</td>\n      <td>7.8750</td>\n      <td>7.921260</td>\n      <td>0.0</td>\n      <td>32.0</td>\n      <td>...</td>\n      <td>2.0</td>\n      <td>11.861446</td>\n      <td>0.0</td>\n      <td>0.0</td>\n      <td>-0.617152</td>\n      <td>0.607407</td>\n      <td>0.0</td>\n      <td>0.0</td>\n      <td>1.0</td>\n      <td>0.0</td>\n    </tr>\n    <tr>\n      <th>20132</th>\n      <td>0.881703</td>\n      <td>0.285714</td>\n      <td>0.000000</td>\n      <td>0.0</td>\n      <td>0.0</td>\n      <td>1.333333</td>\n      <td>-0.1250</td>\n      <td>5.472441</td>\n      <td>0.0</td>\n      <td>2.0</td>\n      <td>...</td>\n      <td>0.0</td>\n      <td>3.993976</td>\n      <td>0.0</td>\n      <td>0.0</td>\n      <td>0.402757</td>\n      <td>-0.457407</td>\n      <td>0.0</td>\n      <td>0.0</td>\n      <td>1.0</td>\n      <td>0.0</td>\n    </tr>\n    <tr>\n      <th>20133</th>\n      <td>0.971967</td>\n      <td>0.000000</td>\n      <td>0.000000</td>\n      <td>0.0</td>\n      <td>0.0</td>\n      <td>-0.333333</td>\n      <td>-0.2500</td>\n      <td>0.094488</td>\n      <td>0.0</td>\n      <td>-0.5</td>\n      <td>...</td>\n      <td>0.0</td>\n      <td>0.234940</td>\n      <td>0.0</td>\n      <td>0.0</td>\n      <td>2.920368</td>\n      <td>-0.457407</td>\n      <td>0.0</td>\n      <td>0.0</td>\n      <td>1.0</td>\n      <td>0.0</td>\n    </tr>\n    <tr>\n      <th>20134</th>\n      <td>-0.405723</td>\n      <td>-0.142857</td>\n      <td>0.000000</td>\n      <td>0.0</td>\n      <td>0.0</td>\n      <td>-0.333333</td>\n      <td>3.6250</td>\n      <td>-0.307087</td>\n      <td>0.0</td>\n      <td>-0.5</td>\n      <td>...</td>\n      <td>0.0</td>\n      <td>-0.150602</td>\n      <td>0.0</td>\n      <td>0.0</td>\n      <td>-0.924962</td>\n      <td>-0.026852</td>\n      <td>0.0</td>\n      <td>1.0</td>\n      <td>0.0</td>\n      <td>0.0</td>\n    </tr>\n    <tr>\n      <th>20135</th>\n      <td>0.074910</td>\n      <td>0.285714</td>\n      <td>6.589623</td>\n      <td>1.0</td>\n      <td>0.0</td>\n      <td>-0.333333</td>\n      <td>-0.2500</td>\n      <td>-0.291339</td>\n      <td>0.0</td>\n      <td>-0.5</td>\n      <td>...</td>\n      <td>0.0</td>\n      <td>-0.096386</td>\n      <td>0.0</td>\n      <td>0.0</td>\n      <td>-0.482389</td>\n      <td>0.428704</td>\n      <td>1.0</td>\n      <td>0.0</td>\n      <td>0.0</td>\n      <td>0.0</td>\n    </tr>\n  </tbody>\n</table>\n<p>20136 rows × 21 columns</p>\n</div>"
     },
     "execution_count": 109,
     "metadata": {},
     "output_type": "execute_result"
    }
   ],
   "source": [
    "df_ro_label = cocnat_df(robust_scale(num_attribss),hot1_encoding(cat_attribs))\n",
    "df_ro_label"
   ],
   "metadata": {
    "collapsed": false,
    "pycharm": {
     "name": "#%%\n"
    }
   }
  },
  {
   "cell_type": "code",
   "execution_count": 110,
   "outputs": [],
   "source": [
    "train_ro_label, test_ro_label = split_train_test(df_ro_label)"
   ],
   "metadata": {
    "collapsed": false,
    "pycharm": {
     "name": "#%%\n"
    }
   }
  },
  {
   "cell_type": "code",
   "execution_count": 111,
   "outputs": [],
   "source": [
    "train_ro_label, y_ro_label = add_smote_enn(train_ro_label,y)"
   ],
   "metadata": {
    "collapsed": false,
    "pycharm": {
     "name": "#%%\n"
    }
   }
  },
  {
   "cell_type": "code",
   "execution_count": 112,
   "outputs": [
    {
     "name": "stdout",
     "output_type": "stream",
     "text": [
      "(13917, 21) (5965, 21) (13917,) (5965,)\n"
     ]
    }
   ],
   "source": [
    "X_train_ro_label, X_val_ro_label, y_train_ro_label, y_val_ro_label = split_train_val(train_ro_label,y_ro_label)"
   ],
   "metadata": {
    "collapsed": false,
    "pycharm": {
     "name": "#%%\n"
    }
   }
  },
  {
   "cell_type": "code",
   "execution_count": 113,
   "outputs": [
    {
     "name": "stdout",
     "output_type": "stream",
     "text": [
      "RandomForestClassifier(max_depth=10)\n",
      "accuracy_score : 0.8645431684828164\n",
      "recall_score : 0.847766408784627\n",
      "precision_score : 0.944923504867872\n",
      "f1_score : 0.8937121810049987\n",
      "coufusion_matrix : \n",
      "[[1760  198]\n",
      " [ 610 3397]]\n",
      "None\n"
     ]
    }
   ],
   "source": [
    "model_ro_label = pipeline_RF(X_train_ro_label, X_val_ro_label, y_train_ro_label, y_val_ro_label)"
   ],
   "metadata": {
    "collapsed": false,
    "pycharm": {
     "name": "#%%\n"
    }
   }
  },
  {
   "cell_type": "markdown",
   "source": [
    "### drop 타이타늄 / Stand+label+smoteENN"
   ],
   "metadata": {
    "collapsed": false
   }
  },
  {
   "cell_type": "code",
   "execution_count": null,
   "outputs": [],
   "source": [
    "df_stand_1hot = cocnat_df(standard_scale(num_attribss_mang),label_encoding(cat_attribs))\n",
    "df_stand_1hot"
   ],
   "metadata": {
    "collapsed": false,
    "pycharm": {
     "name": "#%%\n"
    }
   }
  },
  {
   "cell_type": "code",
   "execution_count": null,
   "outputs": [],
   "source": [
    "train_stand_1hot, test_stand_1hot = split_train_test(df_stand_1hot)"
   ],
   "metadata": {
    "collapsed": false,
    "pycharm": {
     "name": "#%%\n"
    }
   }
  },
  {
   "cell_type": "code",
   "execution_count": null,
   "outputs": [],
   "source": [
    "train_stand_1hot, y_stand_1hot = add_smote_enn(train_stand_1hot,y)"
   ],
   "metadata": {
    "collapsed": false,
    "pycharm": {
     "name": "#%%\n"
    }
   }
  },
  {
   "cell_type": "code",
   "execution_count": null,
   "outputs": [],
   "source": [
    "X_train_stand_1hot, X_val_stand_1hot, y_train_stand_1hot, y_val_stand_1hot = split_train_val(train_stand_1hot,y_stand_1hot)"
   ],
   "metadata": {
    "collapsed": false,
    "pycharm": {
     "name": "#%%\n"
    }
   }
  },
  {
   "cell_type": "code",
   "execution_count": null,
   "outputs": [],
   "source": [
    "model_stand_1hot = pipeline_RF(X_train_stand_1hot, X_val_stand_1hot, y_train_stand_1hot, y_val_stand_1hot)"
   ],
   "metadata": {
    "collapsed": false,
    "pycharm": {
     "name": "#%%\n"
    }
   }
  },
  {
   "cell_type": "markdown",
   "source": [
    "### 이상치 제거"
   ],
   "metadata": {
    "collapsed": false
   }
  },
  {
   "cell_type": "code",
   "execution_count": 5,
   "outputs": [
    {
     "ename": "NameError",
     "evalue": "name 'df_out' is not defined",
     "output_type": "error",
     "traceback": [
      "\u001B[1;31m---------------------------------------------------------------------------\u001B[0m",
      "\u001B[1;31mNameError\u001B[0m                                 Traceback (most recent call last)",
      "Cell \u001B[1;32mIn[5], line 1\u001B[0m\n\u001B[1;32m----> 1\u001B[0m num_attribss_out \u001B[38;5;241m=\u001B[39m \u001B[43mdf_out\u001B[49m[num_attribss_list]\n\u001B[0;32m      2\u001B[0m cat_attribs_out \u001B[38;5;241m=\u001B[39m df_out[[\u001B[38;5;124m'\u001B[39m\u001B[38;5;124m샘플오일관련부품\u001B[39m\u001B[38;5;124m'\u001B[39m]]\n\u001B[0;32m      3\u001B[0m y_out \u001B[38;5;241m=\u001B[39m df_out[:\u001B[38;5;241m6116\u001B[39m][\u001B[38;5;124m'\u001B[39m\u001B[38;5;124mY_LABEL\u001B[39m\u001B[38;5;124m'\u001B[39m]\n",
      "\u001B[1;31mNameError\u001B[0m: name 'df_out' is not defined"
     ]
    }
   ],
   "source": [
    "num_attribss_out = df_out[num_attribss_list]\n",
    "cat_attribs_out = df_out[['샘플오일관련부품']]\n",
    "y_out = df_out[:6116]['Y_LABEL']"
   ],
   "metadata": {
    "collapsed": false,
    "pycharm": {
     "name": "#%%\n"
    }
   }
  },
  {
   "cell_type": "code",
   "execution_count": 135,
   "outputs": [
    {
     "data": {
      "text/plain": "        수치형데이터1      진단년도   수치형데이터2         은     일산화탄소       크로뮴        구리  \\\n0     -0.482645  1.762894  0.056225 -0.104458 -0.080683 -0.130910  0.082528   \n1     -0.191775  0.212564 -0.358880 -0.104458 -0.080683 -0.064064 -0.181618   \n2      1.166708 -1.079378 -0.358880 -0.104458 -0.080683 -0.130910 -0.190727   \n3      0.228552  0.212564 -0.358880 -0.104458 -0.080683 -0.130910 -0.199835   \n4     -0.464619  0.212564  0.627885 -0.104458 -0.080683 -0.130910 -0.172510   \n...         ...       ...       ...       ...       ...       ...       ...   \n12152 -0.383230 -0.045824 -0.358880 -0.104458 -0.080683  0.069629  0.984267   \n12153  0.276893  0.470953 -0.358880 -0.104458 -0.080683  0.203321 -0.181618   \n12154  0.329878 -0.045824 -0.358880 -0.104458 -0.080683 -0.130910 -0.199835   \n12155 -0.478821 -0.304213 -0.358880 -0.104458 -0.080683 -0.130910  0.364891   \n12156 -0.196691  0.470953  2.954847  7.734436 -0.080683 -0.130910 -0.199835   \n\n              철         물      망가니즈     몰리브데넘        니켈  입자 정량 지수      타이타늄  \\\n0     -0.245064 -0.051625 -0.223329 -0.297123 -0.108446 -0.190226 -0.076071   \n1     -0.241019 -0.051625 -0.223329 -0.297123 -0.108446 -0.191770 -0.076071   \n2     -0.174283 -0.051625 -0.099998 -0.297123 -0.108446 -0.170932 -0.076071   \n3     -0.105525 -0.051625 -0.223329 -0.297123 -0.108446 -0.037419 -0.076071   \n4     -0.178328 -0.051625 -0.223329 -0.297123 -0.108446 -0.184824 -0.076071   \n...         ...       ...       ...       ...       ...       ...       ...   \n12152  1.868243 -0.051625  7.793185 -0.187179  0.385608  1.337840 -0.076071   \n12153  1.239307 -0.051625  0.393326 -0.297123 -0.108446  0.329934 -0.076071   \n12154 -0.141926 -0.051625 -0.223329 -0.297123 -0.108446 -0.151639 -0.076071   \n12155 -0.245064 -0.051625 -0.223329 -0.297123 -0.108446 -0.201031 -0.076071   \n12156 -0.241019 -0.051625 -0.223329 -0.253145 -0.108446 -0.194085 -0.076071   \n\n            바나듐    점도 40도        아연 샘플오일관련부품  \n0     -0.086964 -1.473684  0.177580        1  \n1     -0.086964 -0.808229 -0.286735        1  \n2     -0.086964  0.604118 -1.070268        2  \n3     -0.086964  0.599465 -0.836175        2  \n4     -0.086964  0.957787 -1.037379        2  \n...         ...       ...       ...      ...  \n12152 -0.086964 -0.840804  1.166184        2  \n12153 -0.086964  0.708823 -1.058660        2  \n12154 -0.086964  4.534027 -1.058660        2  \n12155 -0.086964 -1.308484 -0.159049        1  \n12156 -0.086964 -0.636048  0.792798        0  \n\n[12157 rows x 18 columns]",
      "text/html": "<div>\n<style scoped>\n    .dataframe tbody tr th:only-of-type {\n        vertical-align: middle;\n    }\n\n    .dataframe tbody tr th {\n        vertical-align: top;\n    }\n\n    .dataframe thead th {\n        text-align: right;\n    }\n</style>\n<table border=\"1\" class=\"dataframe\">\n  <thead>\n    <tr style=\"text-align: right;\">\n      <th></th>\n      <th>수치형데이터1</th>\n      <th>진단년도</th>\n      <th>수치형데이터2</th>\n      <th>은</th>\n      <th>일산화탄소</th>\n      <th>크로뮴</th>\n      <th>구리</th>\n      <th>철</th>\n      <th>물</th>\n      <th>망가니즈</th>\n      <th>몰리브데넘</th>\n      <th>니켈</th>\n      <th>입자 정량 지수</th>\n      <th>타이타늄</th>\n      <th>바나듐</th>\n      <th>점도 40도</th>\n      <th>아연</th>\n      <th>샘플오일관련부품</th>\n    </tr>\n  </thead>\n  <tbody>\n    <tr>\n      <th>0</th>\n      <td>-0.482645</td>\n      <td>1.762894</td>\n      <td>0.056225</td>\n      <td>-0.104458</td>\n      <td>-0.080683</td>\n      <td>-0.130910</td>\n      <td>0.082528</td>\n      <td>-0.245064</td>\n      <td>-0.051625</td>\n      <td>-0.223329</td>\n      <td>-0.297123</td>\n      <td>-0.108446</td>\n      <td>-0.190226</td>\n      <td>-0.076071</td>\n      <td>-0.086964</td>\n      <td>-1.473684</td>\n      <td>0.177580</td>\n      <td>1</td>\n    </tr>\n    <tr>\n      <th>1</th>\n      <td>-0.191775</td>\n      <td>0.212564</td>\n      <td>-0.358880</td>\n      <td>-0.104458</td>\n      <td>-0.080683</td>\n      <td>-0.064064</td>\n      <td>-0.181618</td>\n      <td>-0.241019</td>\n      <td>-0.051625</td>\n      <td>-0.223329</td>\n      <td>-0.297123</td>\n      <td>-0.108446</td>\n      <td>-0.191770</td>\n      <td>-0.076071</td>\n      <td>-0.086964</td>\n      <td>-0.808229</td>\n      <td>-0.286735</td>\n      <td>1</td>\n    </tr>\n    <tr>\n      <th>2</th>\n      <td>1.166708</td>\n      <td>-1.079378</td>\n      <td>-0.358880</td>\n      <td>-0.104458</td>\n      <td>-0.080683</td>\n      <td>-0.130910</td>\n      <td>-0.190727</td>\n      <td>-0.174283</td>\n      <td>-0.051625</td>\n      <td>-0.099998</td>\n      <td>-0.297123</td>\n      <td>-0.108446</td>\n      <td>-0.170932</td>\n      <td>-0.076071</td>\n      <td>-0.086964</td>\n      <td>0.604118</td>\n      <td>-1.070268</td>\n      <td>2</td>\n    </tr>\n    <tr>\n      <th>3</th>\n      <td>0.228552</td>\n      <td>0.212564</td>\n      <td>-0.358880</td>\n      <td>-0.104458</td>\n      <td>-0.080683</td>\n      <td>-0.130910</td>\n      <td>-0.199835</td>\n      <td>-0.105525</td>\n      <td>-0.051625</td>\n      <td>-0.223329</td>\n      <td>-0.297123</td>\n      <td>-0.108446</td>\n      <td>-0.037419</td>\n      <td>-0.076071</td>\n      <td>-0.086964</td>\n      <td>0.599465</td>\n      <td>-0.836175</td>\n      <td>2</td>\n    </tr>\n    <tr>\n      <th>4</th>\n      <td>-0.464619</td>\n      <td>0.212564</td>\n      <td>0.627885</td>\n      <td>-0.104458</td>\n      <td>-0.080683</td>\n      <td>-0.130910</td>\n      <td>-0.172510</td>\n      <td>-0.178328</td>\n      <td>-0.051625</td>\n      <td>-0.223329</td>\n      <td>-0.297123</td>\n      <td>-0.108446</td>\n      <td>-0.184824</td>\n      <td>-0.076071</td>\n      <td>-0.086964</td>\n      <td>0.957787</td>\n      <td>-1.037379</td>\n      <td>2</td>\n    </tr>\n    <tr>\n      <th>...</th>\n      <td>...</td>\n      <td>...</td>\n      <td>...</td>\n      <td>...</td>\n      <td>...</td>\n      <td>...</td>\n      <td>...</td>\n      <td>...</td>\n      <td>...</td>\n      <td>...</td>\n      <td>...</td>\n      <td>...</td>\n      <td>...</td>\n      <td>...</td>\n      <td>...</td>\n      <td>...</td>\n      <td>...</td>\n      <td>...</td>\n    </tr>\n    <tr>\n      <th>12152</th>\n      <td>-0.383230</td>\n      <td>-0.045824</td>\n      <td>-0.358880</td>\n      <td>-0.104458</td>\n      <td>-0.080683</td>\n      <td>0.069629</td>\n      <td>0.984267</td>\n      <td>1.868243</td>\n      <td>-0.051625</td>\n      <td>7.793185</td>\n      <td>-0.187179</td>\n      <td>0.385608</td>\n      <td>1.337840</td>\n      <td>-0.076071</td>\n      <td>-0.086964</td>\n      <td>-0.840804</td>\n      <td>1.166184</td>\n      <td>2</td>\n    </tr>\n    <tr>\n      <th>12153</th>\n      <td>0.276893</td>\n      <td>0.470953</td>\n      <td>-0.358880</td>\n      <td>-0.104458</td>\n      <td>-0.080683</td>\n      <td>0.203321</td>\n      <td>-0.181618</td>\n      <td>1.239307</td>\n      <td>-0.051625</td>\n      <td>0.393326</td>\n      <td>-0.297123</td>\n      <td>-0.108446</td>\n      <td>0.329934</td>\n      <td>-0.076071</td>\n      <td>-0.086964</td>\n      <td>0.708823</td>\n      <td>-1.058660</td>\n      <td>2</td>\n    </tr>\n    <tr>\n      <th>12154</th>\n      <td>0.329878</td>\n      <td>-0.045824</td>\n      <td>-0.358880</td>\n      <td>-0.104458</td>\n      <td>-0.080683</td>\n      <td>-0.130910</td>\n      <td>-0.199835</td>\n      <td>-0.141926</td>\n      <td>-0.051625</td>\n      <td>-0.223329</td>\n      <td>-0.297123</td>\n      <td>-0.108446</td>\n      <td>-0.151639</td>\n      <td>-0.076071</td>\n      <td>-0.086964</td>\n      <td>4.534027</td>\n      <td>-1.058660</td>\n      <td>2</td>\n    </tr>\n    <tr>\n      <th>12155</th>\n      <td>-0.478821</td>\n      <td>-0.304213</td>\n      <td>-0.358880</td>\n      <td>-0.104458</td>\n      <td>-0.080683</td>\n      <td>-0.130910</td>\n      <td>0.364891</td>\n      <td>-0.245064</td>\n      <td>-0.051625</td>\n      <td>-0.223329</td>\n      <td>-0.297123</td>\n      <td>-0.108446</td>\n      <td>-0.201031</td>\n      <td>-0.076071</td>\n      <td>-0.086964</td>\n      <td>-1.308484</td>\n      <td>-0.159049</td>\n      <td>1</td>\n    </tr>\n    <tr>\n      <th>12156</th>\n      <td>-0.196691</td>\n      <td>0.470953</td>\n      <td>2.954847</td>\n      <td>7.734436</td>\n      <td>-0.080683</td>\n      <td>-0.130910</td>\n      <td>-0.199835</td>\n      <td>-0.241019</td>\n      <td>-0.051625</td>\n      <td>-0.223329</td>\n      <td>-0.253145</td>\n      <td>-0.108446</td>\n      <td>-0.194085</td>\n      <td>-0.076071</td>\n      <td>-0.086964</td>\n      <td>-0.636048</td>\n      <td>0.792798</td>\n      <td>0</td>\n    </tr>\n  </tbody>\n</table>\n<p>12157 rows × 18 columns</p>\n</div>"
     },
     "execution_count": 135,
     "metadata": {},
     "output_type": "execute_result"
    }
   ],
   "source": [
    "df_stand_out = cocnat_df(standard_scale(num_attribss_out),label_encoding(cat_attribs_out))\n",
    "df_stand_out"
   ],
   "metadata": {
    "collapsed": false,
    "pycharm": {
     "name": "#%%\n"
    }
   }
  },
  {
   "cell_type": "code",
   "execution_count": 141,
   "outputs": [
    {
     "data": {
      "text/plain": "               ID    샘플오일관련부품  수치형데이터1  진단년도  수치형데이터2  은  일산화탄소  크로뮴   구리  \\\n0     TRAIN_00001  COMPONENT2     1350  2021      375  0      0    0   31   \n1     TRAIN_00002  COMPONENT2     2415  2015      200  0      0    1    2   \n2     TRAIN_00003  COMPONENT3     7389  2010      200  0      0    0    1   \n3     TRAIN_00004  COMPONENT3     3954  2015      200  0      0    0    0   \n4     TRAIN_00006  COMPONENT3     1416  2015      616  0      0    0    3   \n...           ...         ...      ...   ...      ... ..    ...  ...  ...   \n6036    TEST_6036  COMPONENT3     1714  2014      200  0      0    3  130   \n6037    TEST_6037  COMPONENT3     4131  2016      200  0      0    5    2   \n6038    TEST_6038  COMPONENT3     4325  2014      200  0      0    0    0   \n6039    TEST_6039  COMPONENT2     1364  2013      200  0      0    0   62   \n6040    TEST_6040  COMPONENT1     2397  2016     1597  1      0    0    0   \n\n         철    물  망가니즈  몰리브데넘  니켈  입자 정량 지수  타이타늄  바나듐  점도 40도    아연  Y_LABEL  \n0        2  0.0     0      0   0        19     0    0    44.0   652      0.0  \n1        4  0.0     0      0   0        17     0    0    72.6   412      1.0  \n2       37  0.0     1      0   0        44     0    0   133.3     7      0.0  \n3       71  0.0     0      0   0       217     0    0   133.1   128      0.0  \n4       35  0.0     0      0   0        26     0    0   148.5    24      0.0  \n...    ...  ...   ...    ...  ..       ...   ...  ...     ...   ...      ...  \n6036  1047  0.0    65      5   2      1999     0    0    71.2  1163      NaN  \n6037   736  0.0     5      0   0       693     0    0   137.8    13      NaN  \n6038    53  0.0     0      0   0        69     0    0   302.2    13      NaN  \n6039     2  0.0     0      0   0         5     0    0    51.1   478      NaN  \n6040     4  0.0     0      2   0        14     0    0    80.0   970      NaN  \n\n[12157 rows x 20 columns]",
      "text/html": "<div>\n<style scoped>\n    .dataframe tbody tr th:only-of-type {\n        vertical-align: middle;\n    }\n\n    .dataframe tbody tr th {\n        vertical-align: top;\n    }\n\n    .dataframe thead th {\n        text-align: right;\n    }\n</style>\n<table border=\"1\" class=\"dataframe\">\n  <thead>\n    <tr style=\"text-align: right;\">\n      <th></th>\n      <th>ID</th>\n      <th>샘플오일관련부품</th>\n      <th>수치형데이터1</th>\n      <th>진단년도</th>\n      <th>수치형데이터2</th>\n      <th>은</th>\n      <th>일산화탄소</th>\n      <th>크로뮴</th>\n      <th>구리</th>\n      <th>철</th>\n      <th>물</th>\n      <th>망가니즈</th>\n      <th>몰리브데넘</th>\n      <th>니켈</th>\n      <th>입자 정량 지수</th>\n      <th>타이타늄</th>\n      <th>바나듐</th>\n      <th>점도 40도</th>\n      <th>아연</th>\n      <th>Y_LABEL</th>\n    </tr>\n  </thead>\n  <tbody>\n    <tr>\n      <th>0</th>\n      <td>TRAIN_00001</td>\n      <td>COMPONENT2</td>\n      <td>1350</td>\n      <td>2021</td>\n      <td>375</td>\n      <td>0</td>\n      <td>0</td>\n      <td>0</td>\n      <td>31</td>\n      <td>2</td>\n      <td>0.0</td>\n      <td>0</td>\n      <td>0</td>\n      <td>0</td>\n      <td>19</td>\n      <td>0</td>\n      <td>0</td>\n      <td>44.0</td>\n      <td>652</td>\n      <td>0.0</td>\n    </tr>\n    <tr>\n      <th>1</th>\n      <td>TRAIN_00002</td>\n      <td>COMPONENT2</td>\n      <td>2415</td>\n      <td>2015</td>\n      <td>200</td>\n      <td>0</td>\n      <td>0</td>\n      <td>1</td>\n      <td>2</td>\n      <td>4</td>\n      <td>0.0</td>\n      <td>0</td>\n      <td>0</td>\n      <td>0</td>\n      <td>17</td>\n      <td>0</td>\n      <td>0</td>\n      <td>72.6</td>\n      <td>412</td>\n      <td>1.0</td>\n    </tr>\n    <tr>\n      <th>2</th>\n      <td>TRAIN_00003</td>\n      <td>COMPONENT3</td>\n      <td>7389</td>\n      <td>2010</td>\n      <td>200</td>\n      <td>0</td>\n      <td>0</td>\n      <td>0</td>\n      <td>1</td>\n      <td>37</td>\n      <td>0.0</td>\n      <td>1</td>\n      <td>0</td>\n      <td>0</td>\n      <td>44</td>\n      <td>0</td>\n      <td>0</td>\n      <td>133.3</td>\n      <td>7</td>\n      <td>0.0</td>\n    </tr>\n    <tr>\n      <th>3</th>\n      <td>TRAIN_00004</td>\n      <td>COMPONENT3</td>\n      <td>3954</td>\n      <td>2015</td>\n      <td>200</td>\n      <td>0</td>\n      <td>0</td>\n      <td>0</td>\n      <td>0</td>\n      <td>71</td>\n      <td>0.0</td>\n      <td>0</td>\n      <td>0</td>\n      <td>0</td>\n      <td>217</td>\n      <td>0</td>\n      <td>0</td>\n      <td>133.1</td>\n      <td>128</td>\n      <td>0.0</td>\n    </tr>\n    <tr>\n      <th>4</th>\n      <td>TRAIN_00006</td>\n      <td>COMPONENT3</td>\n      <td>1416</td>\n      <td>2015</td>\n      <td>616</td>\n      <td>0</td>\n      <td>0</td>\n      <td>0</td>\n      <td>3</td>\n      <td>35</td>\n      <td>0.0</td>\n      <td>0</td>\n      <td>0</td>\n      <td>0</td>\n      <td>26</td>\n      <td>0</td>\n      <td>0</td>\n      <td>148.5</td>\n      <td>24</td>\n      <td>0.0</td>\n    </tr>\n    <tr>\n      <th>...</th>\n      <td>...</td>\n      <td>...</td>\n      <td>...</td>\n      <td>...</td>\n      <td>...</td>\n      <td>...</td>\n      <td>...</td>\n      <td>...</td>\n      <td>...</td>\n      <td>...</td>\n      <td>...</td>\n      <td>...</td>\n      <td>...</td>\n      <td>...</td>\n      <td>...</td>\n      <td>...</td>\n      <td>...</td>\n      <td>...</td>\n      <td>...</td>\n      <td>...</td>\n    </tr>\n    <tr>\n      <th>6036</th>\n      <td>TEST_6036</td>\n      <td>COMPONENT3</td>\n      <td>1714</td>\n      <td>2014</td>\n      <td>200</td>\n      <td>0</td>\n      <td>0</td>\n      <td>3</td>\n      <td>130</td>\n      <td>1047</td>\n      <td>0.0</td>\n      <td>65</td>\n      <td>5</td>\n      <td>2</td>\n      <td>1999</td>\n      <td>0</td>\n      <td>0</td>\n      <td>71.2</td>\n      <td>1163</td>\n      <td>NaN</td>\n    </tr>\n    <tr>\n      <th>6037</th>\n      <td>TEST_6037</td>\n      <td>COMPONENT3</td>\n      <td>4131</td>\n      <td>2016</td>\n      <td>200</td>\n      <td>0</td>\n      <td>0</td>\n      <td>5</td>\n      <td>2</td>\n      <td>736</td>\n      <td>0.0</td>\n      <td>5</td>\n      <td>0</td>\n      <td>0</td>\n      <td>693</td>\n      <td>0</td>\n      <td>0</td>\n      <td>137.8</td>\n      <td>13</td>\n      <td>NaN</td>\n    </tr>\n    <tr>\n      <th>6038</th>\n      <td>TEST_6038</td>\n      <td>COMPONENT3</td>\n      <td>4325</td>\n      <td>2014</td>\n      <td>200</td>\n      <td>0</td>\n      <td>0</td>\n      <td>0</td>\n      <td>0</td>\n      <td>53</td>\n      <td>0.0</td>\n      <td>0</td>\n      <td>0</td>\n      <td>0</td>\n      <td>69</td>\n      <td>0</td>\n      <td>0</td>\n      <td>302.2</td>\n      <td>13</td>\n      <td>NaN</td>\n    </tr>\n    <tr>\n      <th>6039</th>\n      <td>TEST_6039</td>\n      <td>COMPONENT2</td>\n      <td>1364</td>\n      <td>2013</td>\n      <td>200</td>\n      <td>0</td>\n      <td>0</td>\n      <td>0</td>\n      <td>62</td>\n      <td>2</td>\n      <td>0.0</td>\n      <td>0</td>\n      <td>0</td>\n      <td>0</td>\n      <td>5</td>\n      <td>0</td>\n      <td>0</td>\n      <td>51.1</td>\n      <td>478</td>\n      <td>NaN</td>\n    </tr>\n    <tr>\n      <th>6040</th>\n      <td>TEST_6040</td>\n      <td>COMPONENT1</td>\n      <td>2397</td>\n      <td>2016</td>\n      <td>1597</td>\n      <td>1</td>\n      <td>0</td>\n      <td>0</td>\n      <td>0</td>\n      <td>4</td>\n      <td>0.0</td>\n      <td>0</td>\n      <td>2</td>\n      <td>0</td>\n      <td>14</td>\n      <td>0</td>\n      <td>0</td>\n      <td>80.0</td>\n      <td>970</td>\n      <td>NaN</td>\n    </tr>\n  </tbody>\n</table>\n<p>12157 rows × 20 columns</p>\n</div>"
     },
     "execution_count": 141,
     "metadata": {},
     "output_type": "execute_result"
    }
   ],
   "source": [
    "df_out"
   ],
   "metadata": {
    "collapsed": false,
    "pycharm": {
     "name": "#%%\n"
    }
   }
  },
  {
   "cell_type": "code",
   "execution_count": 136,
   "outputs": [],
   "source": [
    "train_stand_out, test_stand_out = split_train_test_out(df_stand_out)"
   ],
   "metadata": {
    "collapsed": false,
    "pycharm": {
     "name": "#%%\n"
    }
   }
  },
  {
   "cell_type": "code",
   "execution_count": 137,
   "outputs": [],
   "source": [
    "train_stand_out, y_stand_out = add_smote_enn(train_stand_out,y_out)"
   ],
   "metadata": {
    "collapsed": false,
    "pycharm": {
     "name": "#%%\n"
    }
   }
  },
  {
   "cell_type": "code",
   "execution_count": 140,
   "outputs": [
    {
     "data": {
      "text/plain": "       수치형데이터1      진단년도   수치형데이터2         은     일산화탄소       크로뮴        구리  \\\n0    -0.464619  0.212564  0.627885 -0.104458 -0.080683 -0.130910 -0.172510   \n1     0.991640  0.212564 -0.358880 -0.104458 -0.080683 -0.130910 -0.181618   \n2    -0.531259  0.987729  0.056225 -0.104458 -0.080683 -0.130910 -0.199835   \n3     0.097729  0.470953 -0.358880 -0.104458 -0.080683 -0.130910 -0.063208   \n4    -0.351548  0.212564  0.471331 -0.104458 -0.080683 -0.130910 -0.117859   \n...        ...       ...       ...       ...       ...       ...       ...   \n8970  0.953893  1.298530 -0.358880 -0.104458 -0.080683 -0.103791 -0.185184   \n8971  0.535910  0.470953 -0.358880 -0.104458 -0.080683 -0.085353 -0.191133   \n8972  1.253244 -0.161184 -0.358880 -0.104458 -0.080683 -0.130910 -0.163401   \n8973  1.277176 -0.252950 -0.358880 -0.104458 -0.080683 -0.130910 -0.170629   \n8974  0.484673 -0.508783 -0.358880 -0.104458 -0.080683  0.002782 -0.148979   \n\n             철         물      망가니즈     몰리브데넘        니켈  입자 정량 지수      타이타늄  \\\n0    -0.178328 -0.051625 -0.223329 -0.297123 -0.108446 -0.184824 -0.076071   \n1    -0.224841 -0.051625 -0.223329 -0.231157 -0.108446 -0.201031 -0.076071   \n2    -0.186417 -0.051625 -0.223329 -0.297123 -0.108446 -0.097616 -0.076071   \n3    -0.202595 -0.051625 -0.223329 -0.297123 -0.108446 -0.187139 -0.076071   \n4    -0.245064 -0.051625 -0.223329 -0.297123 -0.108446 -0.201031 -0.076071   \n...        ...       ...       ...       ...       ...       ...       ...   \n8970 -0.143344 -0.051625 -0.173295 -0.090930 -0.108446 -0.178318 -0.076071   \n8971 -0.016260 -0.051625 -0.060721 -0.297123 -0.108446 -0.140495 -0.076071   \n8972 -0.198967 -0.051625 -0.189194 -0.297123 -0.108446 -0.190915 -0.076071   \n8973 -0.180675 -0.051625 -0.223329 -0.284035 -0.108446 -0.186104 -0.076071   \n8974  0.010740 -0.051625  0.074709 -0.113901 -0.108446 -0.185917 -0.076071   \n\n           바나듐    점도 40도        아연  샘플오일관련부품  \n0    -0.086964  0.957787 -1.037379       2.0  \n1    -0.086964 -0.196289  0.889530       0.0  \n2    -0.086964  1.546459 -1.076072       2.0  \n3    -0.086964  0.155052  1.019151       2.0  \n4    -0.086964 -1.231701 -0.230631       1.0  \n...        ...       ...       ...       ...  \n8970 -0.086964 -0.535478  1.506422  2.797155  \n8971 -0.086964  1.608629 -1.056972       2.0  \n8972 -0.086964  0.578355 -1.071460       2.0  \n8973 -0.086964  0.548145 -1.072218       2.0  \n8974 -0.086964  0.525493 -0.952023       2.0  \n\n[8975 rows x 18 columns]",
      "text/html": "<div>\n<style scoped>\n    .dataframe tbody tr th:only-of-type {\n        vertical-align: middle;\n    }\n\n    .dataframe tbody tr th {\n        vertical-align: top;\n    }\n\n    .dataframe thead th {\n        text-align: right;\n    }\n</style>\n<table border=\"1\" class=\"dataframe\">\n  <thead>\n    <tr style=\"text-align: right;\">\n      <th></th>\n      <th>수치형데이터1</th>\n      <th>진단년도</th>\n      <th>수치형데이터2</th>\n      <th>은</th>\n      <th>일산화탄소</th>\n      <th>크로뮴</th>\n      <th>구리</th>\n      <th>철</th>\n      <th>물</th>\n      <th>망가니즈</th>\n      <th>몰리브데넘</th>\n      <th>니켈</th>\n      <th>입자 정량 지수</th>\n      <th>타이타늄</th>\n      <th>바나듐</th>\n      <th>점도 40도</th>\n      <th>아연</th>\n      <th>샘플오일관련부품</th>\n    </tr>\n  </thead>\n  <tbody>\n    <tr>\n      <th>0</th>\n      <td>-0.464619</td>\n      <td>0.212564</td>\n      <td>0.627885</td>\n      <td>-0.104458</td>\n      <td>-0.080683</td>\n      <td>-0.130910</td>\n      <td>-0.172510</td>\n      <td>-0.178328</td>\n      <td>-0.051625</td>\n      <td>-0.223329</td>\n      <td>-0.297123</td>\n      <td>-0.108446</td>\n      <td>-0.184824</td>\n      <td>-0.076071</td>\n      <td>-0.086964</td>\n      <td>0.957787</td>\n      <td>-1.037379</td>\n      <td>2.0</td>\n    </tr>\n    <tr>\n      <th>1</th>\n      <td>0.991640</td>\n      <td>0.212564</td>\n      <td>-0.358880</td>\n      <td>-0.104458</td>\n      <td>-0.080683</td>\n      <td>-0.130910</td>\n      <td>-0.181618</td>\n      <td>-0.224841</td>\n      <td>-0.051625</td>\n      <td>-0.223329</td>\n      <td>-0.231157</td>\n      <td>-0.108446</td>\n      <td>-0.201031</td>\n      <td>-0.076071</td>\n      <td>-0.086964</td>\n      <td>-0.196289</td>\n      <td>0.889530</td>\n      <td>0.0</td>\n    </tr>\n    <tr>\n      <th>2</th>\n      <td>-0.531259</td>\n      <td>0.987729</td>\n      <td>0.056225</td>\n      <td>-0.104458</td>\n      <td>-0.080683</td>\n      <td>-0.130910</td>\n      <td>-0.199835</td>\n      <td>-0.186417</td>\n      <td>-0.051625</td>\n      <td>-0.223329</td>\n      <td>-0.297123</td>\n      <td>-0.108446</td>\n      <td>-0.097616</td>\n      <td>-0.076071</td>\n      <td>-0.086964</td>\n      <td>1.546459</td>\n      <td>-1.076072</td>\n      <td>2.0</td>\n    </tr>\n    <tr>\n      <th>3</th>\n      <td>0.097729</td>\n      <td>0.470953</td>\n      <td>-0.358880</td>\n      <td>-0.104458</td>\n      <td>-0.080683</td>\n      <td>-0.130910</td>\n      <td>-0.063208</td>\n      <td>-0.202595</td>\n      <td>-0.051625</td>\n      <td>-0.223329</td>\n      <td>-0.297123</td>\n      <td>-0.108446</td>\n      <td>-0.187139</td>\n      <td>-0.076071</td>\n      <td>-0.086964</td>\n      <td>0.155052</td>\n      <td>1.019151</td>\n      <td>2.0</td>\n    </tr>\n    <tr>\n      <th>4</th>\n      <td>-0.351548</td>\n      <td>0.212564</td>\n      <td>0.471331</td>\n      <td>-0.104458</td>\n      <td>-0.080683</td>\n      <td>-0.130910</td>\n      <td>-0.117859</td>\n      <td>-0.245064</td>\n      <td>-0.051625</td>\n      <td>-0.223329</td>\n      <td>-0.297123</td>\n      <td>-0.108446</td>\n      <td>-0.201031</td>\n      <td>-0.076071</td>\n      <td>-0.086964</td>\n      <td>-1.231701</td>\n      <td>-0.230631</td>\n      <td>1.0</td>\n    </tr>\n    <tr>\n      <th>...</th>\n      <td>...</td>\n      <td>...</td>\n      <td>...</td>\n      <td>...</td>\n      <td>...</td>\n      <td>...</td>\n      <td>...</td>\n      <td>...</td>\n      <td>...</td>\n      <td>...</td>\n      <td>...</td>\n      <td>...</td>\n      <td>...</td>\n      <td>...</td>\n      <td>...</td>\n      <td>...</td>\n      <td>...</td>\n      <td>...</td>\n    </tr>\n    <tr>\n      <th>8970</th>\n      <td>0.953893</td>\n      <td>1.298530</td>\n      <td>-0.358880</td>\n      <td>-0.104458</td>\n      <td>-0.080683</td>\n      <td>-0.103791</td>\n      <td>-0.185184</td>\n      <td>-0.143344</td>\n      <td>-0.051625</td>\n      <td>-0.173295</td>\n      <td>-0.090930</td>\n      <td>-0.108446</td>\n      <td>-0.178318</td>\n      <td>-0.076071</td>\n      <td>-0.086964</td>\n      <td>-0.535478</td>\n      <td>1.506422</td>\n      <td>2.797155</td>\n    </tr>\n    <tr>\n      <th>8971</th>\n      <td>0.535910</td>\n      <td>0.470953</td>\n      <td>-0.358880</td>\n      <td>-0.104458</td>\n      <td>-0.080683</td>\n      <td>-0.085353</td>\n      <td>-0.191133</td>\n      <td>-0.016260</td>\n      <td>-0.051625</td>\n      <td>-0.060721</td>\n      <td>-0.297123</td>\n      <td>-0.108446</td>\n      <td>-0.140495</td>\n      <td>-0.076071</td>\n      <td>-0.086964</td>\n      <td>1.608629</td>\n      <td>-1.056972</td>\n      <td>2.0</td>\n    </tr>\n    <tr>\n      <th>8972</th>\n      <td>1.253244</td>\n      <td>-0.161184</td>\n      <td>-0.358880</td>\n      <td>-0.104458</td>\n      <td>-0.080683</td>\n      <td>-0.130910</td>\n      <td>-0.163401</td>\n      <td>-0.198967</td>\n      <td>-0.051625</td>\n      <td>-0.189194</td>\n      <td>-0.297123</td>\n      <td>-0.108446</td>\n      <td>-0.190915</td>\n      <td>-0.076071</td>\n      <td>-0.086964</td>\n      <td>0.578355</td>\n      <td>-1.071460</td>\n      <td>2.0</td>\n    </tr>\n    <tr>\n      <th>8973</th>\n      <td>1.277176</td>\n      <td>-0.252950</td>\n      <td>-0.358880</td>\n      <td>-0.104458</td>\n      <td>-0.080683</td>\n      <td>-0.130910</td>\n      <td>-0.170629</td>\n      <td>-0.180675</td>\n      <td>-0.051625</td>\n      <td>-0.223329</td>\n      <td>-0.284035</td>\n      <td>-0.108446</td>\n      <td>-0.186104</td>\n      <td>-0.076071</td>\n      <td>-0.086964</td>\n      <td>0.548145</td>\n      <td>-1.072218</td>\n      <td>2.0</td>\n    </tr>\n    <tr>\n      <th>8974</th>\n      <td>0.484673</td>\n      <td>-0.508783</td>\n      <td>-0.358880</td>\n      <td>-0.104458</td>\n      <td>-0.080683</td>\n      <td>0.002782</td>\n      <td>-0.148979</td>\n      <td>0.010740</td>\n      <td>-0.051625</td>\n      <td>0.074709</td>\n      <td>-0.113901</td>\n      <td>-0.108446</td>\n      <td>-0.185917</td>\n      <td>-0.076071</td>\n      <td>-0.086964</td>\n      <td>0.525493</td>\n      <td>-0.952023</td>\n      <td>2.0</td>\n    </tr>\n  </tbody>\n</table>\n<p>8975 rows × 18 columns</p>\n</div>"
     },
     "execution_count": 140,
     "metadata": {},
     "output_type": "execute_result"
    }
   ],
   "source": [
    "train_stand_out"
   ],
   "metadata": {
    "collapsed": false,
    "pycharm": {
     "name": "#%%\n"
    }
   }
  },
  {
   "cell_type": "code",
   "execution_count": 138,
   "outputs": [
    {
     "name": "stdout",
     "output_type": "stream",
     "text": [
      "(6282, 18) (2693, 18) (6282,) (2693,)\n"
     ]
    }
   ],
   "source": [
    "X_train_stand_out, X_val_stand_out, y_train_stand_out, y_val_stand_out = split_train_val(train_stand_out,y_stand_out)"
   ],
   "metadata": {
    "collapsed": false,
    "pycharm": {
     "name": "#%%\n"
    }
   }
  },
  {
   "cell_type": "code",
   "execution_count": 139,
   "outputs": [
    {
     "name": "stdout",
     "output_type": "stream",
     "text": [
      "RandomForestClassifier(max_depth=10)\n",
      "accuracy_score : 0.8982547344968437\n",
      "recall_score : 0.8787346221441125\n",
      "precision_score : 0.9572431397574984\n",
      "f1_score : 0.916310323762981\n",
      "coufusion_matrix : \n",
      "[[ 919   67]\n",
      " [ 207 1500]]\n",
      "None\n"
     ]
    }
   ],
   "source": [
    "model_stand_out = pipeline_RF(X_train_stand_out, X_val_stand_out, y_train_stand_out, y_val_stand_out)"
   ],
   "metadata": {
    "collapsed": false,
    "pycharm": {
     "name": "#%%\n"
    }
   }
  },
  {
   "cell_type": "code",
   "execution_count": null,
   "outputs": [],
   "source": [
    "#make_submission(model_stand_out,test_stand_out,submission)"
   ],
   "metadata": {
    "collapsed": false,
    "pycharm": {
     "name": "#%%\n"
    }
   }
  },
  {
   "cell_type": "code",
   "execution_count": 150,
   "outputs": [
    {
     "data": {
      "text/plain": "2355    0.0\n5595    1.0\n7611    0.0\n4230    2.0\n3490    0.0\n       ... \n7461    1.0\n1556    2.0\n6063    0.0\n6587    0.0\n1966    1.0\nName: 샘플오일관련부품, Length: 6282, dtype: object"
     },
     "execution_count": 150,
     "metadata": {},
     "output_type": "execute_result"
    }
   ],
   "source": [
    "X_train_stand_out['샘플오일관련부품']"
   ],
   "metadata": {
    "collapsed": false,
    "pycharm": {
     "name": "#%%\n"
    }
   }
  },
  {
   "cell_type": "markdown",
   "source": [
    "# LightGBM"
   ],
   "metadata": {
    "collapsed": false,
    "pycharm": {
     "name": "#%% md\n"
    }
   }
  },
  {
   "cell_type": "code",
   "execution_count": 33,
   "outputs": [],
   "source": [
    "import lightgbm as lgb"
   ],
   "metadata": {
    "collapsed": false,
    "pycharm": {
     "name": "#%%\n"
    }
   }
  },
  {
   "cell_type": "code",
   "execution_count": 67,
   "outputs": [
    {
     "name": "stderr",
     "output_type": "stream",
     "text": [
      "C:\\Users\\yoon9\\AppData\\Local\\Temp\\ipykernel_27848\\152400752.py:3: SettingWithCopyWarning: \n",
      "A value is trying to be set on a copy of a slice from a DataFrame.\n",
      "Try using .loc[row_indexer,col_indexer] = value instead\n",
      "\n",
      "See the caveats in the documentation: https://pandas.pydata.org/pandas-docs/stable/user_guide/indexing.html#returning-a-view-versus-a-copy\n",
      "  test_stand_1hot['샘플오일관련부품'] = pd.to_numeric(test_stand_1hot['샘플오일관련부품'])\n"
     ]
    }
   ],
   "source": [
    "X_train_stand_1hot['샘플오일관련부품'] = pd.to_numeric(X_train_stand_1hot['샘플오일관련부품'])\n",
    "X_val_stand_1hot['샘플오일관련부품'] = pd.to_numeric(X_val_stand_1hot['샘플오일관련부품'])\n",
    "test_stand_1hot['샘플오일관련부품'] = pd.to_numeric(test_stand_1hot['샘플오일관련부품'])"
   ],
   "metadata": {
    "collapsed": false,
    "pycharm": {
     "name": "#%%\n"
    }
   }
  },
  {
   "cell_type": "code",
   "execution_count": 68,
   "outputs": [],
   "source": [
    "train_data_plus = lgb.Dataset(X_train_stand_1hot, label=y_train_stand_1hot)\n",
    "test_data_plus = lgb.Dataset(X_val_stand_1hot, label=y_val_stand_1hot)"
   ],
   "metadata": {
    "collapsed": false,
    "pycharm": {
     "name": "#%%\n"
    }
   }
  },
  {
   "cell_type": "code",
   "execution_count": 69,
   "outputs": [
    {
     "data": {
      "text/plain": "<lightgbm.basic.Dataset at 0x264902a0910>"
     },
     "execution_count": 69,
     "metadata": {},
     "output_type": "execute_result"
    }
   ],
   "source": [
    "train_data_plus"
   ],
   "metadata": {
    "collapsed": false,
    "pycharm": {
     "name": "#%%\n"
    }
   }
  },
  {
   "cell_type": "code",
   "execution_count": 77,
   "outputs": [],
   "source": [
    "from sklearn.metrics import f1_score\n",
    "\n",
    "def evaluate_macroF1_lgb(truth, predictions):\n",
    "\n",
    "    # this follows the discussion in https://github.com/Microsoft/LightGBM/issues/1483\n",
    "\n",
    "    pred_labels = predictions.reshape(len(np.unique(truth)),-1).argmax(axis=0)\n",
    "\n",
    "    f1 = f1_score(truth, pred_labels, average='macro')\n",
    "\n",
    "    return ('macroF1', f1, True)"
   ],
   "metadata": {
    "collapsed": false,
    "pycharm": {
     "name": "#%%\n"
    }
   }
  },
  {
   "cell_type": "code",
   "execution_count": 84,
   "outputs": [],
   "source": [
    "params = {\n",
    "    \"max_bin\": 512,\n",
    "    \"learning_rate\": 0.05,\n",
    "    \"boosting_type\": \"gbdt\",\n",
    "    \"objective\": \"binary\",\n",
    "    \"metric\": ['auc', evaluate_macroF1_lgb],\n",
    "    \"num_leaves\": 10,\n",
    "    \"verbose\": -1,\n",
    "    \"min_data\": 100,\n",
    "    \"boost_from_average\": True\n",
    "}\n",
    "\n"
   ],
   "metadata": {
    "collapsed": false,
    "pycharm": {
     "name": "#%%\n"
    }
   }
  },
  {
   "cell_type": "code",
   "execution_count": 85,
   "outputs": [
    {
     "name": "stderr",
     "output_type": "stream",
     "text": [
      "C:\\Users\\yoon9\\anaconda3\\envs\\Sejong_project\\lib\\site-packages\\lightgbm\\engine.py:181: UserWarning: 'early_stopping_rounds' argument is deprecated and will be removed in a future release of LightGBM. Pass 'early_stopping()' callback via 'callbacks' argument instead.\n",
      "  _log_warning(\"'early_stopping_rounds' argument is deprecated and will be removed in a future release of LightGBM. \"\n"
     ]
    },
    {
     "name": "stdout",
     "output_type": "stream",
     "text": [
      "[1]\tvalid_0's auc: 0.747991\n",
      "Training until validation scores don't improve for 50 rounds\n",
      "[2]\tvalid_0's auc: 0.750031\n",
      "[3]\tvalid_0's auc: 0.758059\n",
      "[4]\tvalid_0's auc: 0.769534\n",
      "[5]\tvalid_0's auc: 0.780236\n",
      "[6]\tvalid_0's auc: 0.783212\n",
      "[7]\tvalid_0's auc: 0.79378\n",
      "[8]\tvalid_0's auc: 0.807567\n",
      "[9]\tvalid_0's auc: 0.815707\n",
      "[10]\tvalid_0's auc: 0.818811\n",
      "[11]\tvalid_0's auc: 0.824297\n",
      "[12]\tvalid_0's auc: 0.835401\n",
      "[13]\tvalid_0's auc: 0.837827\n",
      "[14]\tvalid_0's auc: 0.847704\n",
      "[15]\tvalid_0's auc: 0.853894\n",
      "[16]\tvalid_0's auc: 0.856745\n",
      "[17]\tvalid_0's auc: 0.867518\n",
      "[18]\tvalid_0's auc: 0.868639\n",
      "[19]\tvalid_0's auc: 0.871902\n",
      "[20]\tvalid_0's auc: 0.877099\n",
      "[21]\tvalid_0's auc: 0.883064\n",
      "[22]\tvalid_0's auc: 0.886147\n",
      "[23]\tvalid_0's auc: 0.885781\n",
      "[24]\tvalid_0's auc: 0.887676\n",
      "[25]\tvalid_0's auc: 0.892948\n",
      "[26]\tvalid_0's auc: 0.895961\n",
      "[27]\tvalid_0's auc: 0.897581\n",
      "[28]\tvalid_0's auc: 0.901688\n",
      "[29]\tvalid_0's auc: 0.904241\n",
      "[30]\tvalid_0's auc: 0.905194\n",
      "[31]\tvalid_0's auc: 0.907282\n",
      "[32]\tvalid_0's auc: 0.910318\n",
      "[33]\tvalid_0's auc: 0.911493\n",
      "[34]\tvalid_0's auc: 0.913235\n",
      "[35]\tvalid_0's auc: 0.915036\n",
      "[36]\tvalid_0's auc: 0.915662\n",
      "[37]\tvalid_0's auc: 0.917437\n",
      "[38]\tvalid_0's auc: 0.918371\n",
      "[39]\tvalid_0's auc: 0.920311\n",
      "[40]\tvalid_0's auc: 0.921521\n",
      "[41]\tvalid_0's auc: 0.921384\n",
      "[42]\tvalid_0's auc: 0.922723\n",
      "[43]\tvalid_0's auc: 0.92365\n",
      "[44]\tvalid_0's auc: 0.925155\n",
      "[45]\tvalid_0's auc: 0.925907\n",
      "[46]\tvalid_0's auc: 0.926949\n",
      "[47]\tvalid_0's auc: 0.927776\n",
      "[48]\tvalid_0's auc: 0.929413\n",
      "[49]\tvalid_0's auc: 0.930615\n",
      "[50]\tvalid_0's auc: 0.931016\n",
      "[51]\tvalid_0's auc: 0.932051\n",
      "[52]\tvalid_0's auc: 0.933404\n",
      "[53]\tvalid_0's auc: 0.934682\n",
      "[54]\tvalid_0's auc: 0.936376\n",
      "[55]\tvalid_0's auc: 0.936221\n",
      "[56]\tvalid_0's auc: 0.93731\n",
      "[57]\tvalid_0's auc: 0.9375\n",
      "[58]\tvalid_0's auc: 0.937836\n",
      "[59]\tvalid_0's auc: 0.938241\n",
      "[60]\tvalid_0's auc: 0.938353\n",
      "[61]\tvalid_0's auc: 0.939346\n",
      "[62]\tvalid_0's auc: 0.940111\n",
      "[63]\tvalid_0's auc: 0.941067\n",
      "[64]\tvalid_0's auc: 0.941776\n",
      "[65]\tvalid_0's auc: 0.942332\n",
      "[66]\tvalid_0's auc: 0.943164\n",
      "[67]\tvalid_0's auc: 0.943717\n",
      "[68]\tvalid_0's auc: 0.944517\n",
      "[69]\tvalid_0's auc: 0.944969\n",
      "[70]\tvalid_0's auc: 0.945531\n",
      "[71]\tvalid_0's auc: 0.946056\n",
      "[72]\tvalid_0's auc: 0.946734\n",
      "[73]\tvalid_0's auc: 0.947158\n",
      "[74]\tvalid_0's auc: 0.94765\n",
      "[75]\tvalid_0's auc: 0.947797\n",
      "[76]\tvalid_0's auc: 0.948139\n",
      "[77]\tvalid_0's auc: 0.948571\n",
      "[78]\tvalid_0's auc: 0.949121\n",
      "[79]\tvalid_0's auc: 0.94944\n",
      "[80]\tvalid_0's auc: 0.950057\n",
      "[81]\tvalid_0's auc: 0.950303\n",
      "[82]\tvalid_0's auc: 0.950742\n",
      "[83]\tvalid_0's auc: 0.951489\n",
      "[84]\tvalid_0's auc: 0.951803\n",
      "[85]\tvalid_0's auc: 0.952052\n",
      "[86]\tvalid_0's auc: 0.952527\n",
      "[87]\tvalid_0's auc: 0.953089\n",
      "[88]\tvalid_0's auc: 0.953673\n",
      "[89]\tvalid_0's auc: 0.953865\n",
      "[90]\tvalid_0's auc: 0.953977\n",
      "[91]\tvalid_0's auc: 0.954362\n",
      "[92]\tvalid_0's auc: 0.95476\n",
      "[93]\tvalid_0's auc: 0.954927\n",
      "[94]\tvalid_0's auc: 0.955356\n",
      "[95]\tvalid_0's auc: 0.955799\n",
      "[96]\tvalid_0's auc: 0.95598\n",
      "[97]\tvalid_0's auc: 0.956301\n",
      "[98]\tvalid_0's auc: 0.956847\n",
      "[99]\tvalid_0's auc: 0.957104\n",
      "[100]\tvalid_0's auc: 0.957224\n",
      "[101]\tvalid_0's auc: 0.957564\n",
      "[102]\tvalid_0's auc: 0.958169\n",
      "[103]\tvalid_0's auc: 0.958291\n",
      "[104]\tvalid_0's auc: 0.958498\n",
      "[105]\tvalid_0's auc: 0.958995\n",
      "[106]\tvalid_0's auc: 0.959293\n",
      "[107]\tvalid_0's auc: 0.959524\n",
      "[108]\tvalid_0's auc: 0.959942\n",
      "[109]\tvalid_0's auc: 0.960046\n",
      "[110]\tvalid_0's auc: 0.960324\n",
      "[111]\tvalid_0's auc: 0.960555\n",
      "[112]\tvalid_0's auc: 0.960794\n",
      "[113]\tvalid_0's auc: 0.960932\n",
      "[114]\tvalid_0's auc: 0.961195\n",
      "[115]\tvalid_0's auc: 0.961356\n",
      "[116]\tvalid_0's auc: 0.961562\n",
      "[117]\tvalid_0's auc: 0.961611\n",
      "[118]\tvalid_0's auc: 0.961925\n",
      "[119]\tvalid_0's auc: 0.962139\n",
      "[120]\tvalid_0's auc: 0.962265\n",
      "[121]\tvalid_0's auc: 0.962425\n",
      "[122]\tvalid_0's auc: 0.962584\n",
      "[123]\tvalid_0's auc: 0.962787\n",
      "[124]\tvalid_0's auc: 0.963107\n",
      "[125]\tvalid_0's auc: 0.963146\n",
      "[126]\tvalid_0's auc: 0.963426\n",
      "[127]\tvalid_0's auc: 0.963508\n",
      "[128]\tvalid_0's auc: 0.963686\n",
      "[129]\tvalid_0's auc: 0.963824\n",
      "[130]\tvalid_0's auc: 0.963974\n",
      "[131]\tvalid_0's auc: 0.964558\n",
      "[132]\tvalid_0's auc: 0.964663\n",
      "[133]\tvalid_0's auc: 0.964854\n",
      "[134]\tvalid_0's auc: 0.964976\n",
      "[135]\tvalid_0's auc: 0.965429\n",
      "[136]\tvalid_0's auc: 0.965551\n",
      "[137]\tvalid_0's auc: 0.965644\n",
      "[138]\tvalid_0's auc: 0.966085\n",
      "[139]\tvalid_0's auc: 0.966166\n",
      "[140]\tvalid_0's auc: 0.966284\n",
      "[141]\tvalid_0's auc: 0.9664\n",
      "[142]\tvalid_0's auc: 0.966565\n",
      "[143]\tvalid_0's auc: 0.966913\n",
      "[144]\tvalid_0's auc: 0.967143\n",
      "[145]\tvalid_0's auc: 0.967221\n",
      "[146]\tvalid_0's auc: 0.967344\n",
      "[147]\tvalid_0's auc: 0.967404\n",
      "[148]\tvalid_0's auc: 0.967459\n",
      "[149]\tvalid_0's auc: 0.967575\n",
      "[150]\tvalid_0's auc: 0.967635\n",
      "[151]\tvalid_0's auc: 0.967789\n",
      "[152]\tvalid_0's auc: 0.968084\n",
      "[153]\tvalid_0's auc: 0.968193\n",
      "[154]\tvalid_0's auc: 0.968331\n",
      "[155]\tvalid_0's auc: 0.968445\n",
      "[156]\tvalid_0's auc: 0.968577\n",
      "[157]\tvalid_0's auc: 0.968647\n",
      "[158]\tvalid_0's auc: 0.968893\n",
      "[159]\tvalid_0's auc: 0.96889\n",
      "[160]\tvalid_0's auc: 0.968995\n",
      "[161]\tvalid_0's auc: 0.969086\n",
      "[162]\tvalid_0's auc: 0.969217\n",
      "[163]\tvalid_0's auc: 0.969299\n",
      "[164]\tvalid_0's auc: 0.96939\n",
      "[165]\tvalid_0's auc: 0.969463\n",
      "[166]\tvalid_0's auc: 0.969524\n",
      "[167]\tvalid_0's auc: 0.969603\n",
      "[168]\tvalid_0's auc: 0.969795\n",
      "[169]\tvalid_0's auc: 0.969898\n",
      "[170]\tvalid_0's auc: 0.970059\n",
      "[171]\tvalid_0's auc: 0.970131\n",
      "[172]\tvalid_0's auc: 0.970232\n",
      "[173]\tvalid_0's auc: 0.970307\n",
      "[174]\tvalid_0's auc: 0.970349\n",
      "[175]\tvalid_0's auc: 0.970409\n",
      "[176]\tvalid_0's auc: 0.970438\n",
      "[177]\tvalid_0's auc: 0.970511\n",
      "[178]\tvalid_0's auc: 0.97057\n",
      "[179]\tvalid_0's auc: 0.970577\n",
      "[180]\tvalid_0's auc: 0.970654\n",
      "[181]\tvalid_0's auc: 0.970711\n",
      "[182]\tvalid_0's auc: 0.970768\n",
      "[183]\tvalid_0's auc: 0.970874\n",
      "[184]\tvalid_0's auc: 0.970919\n",
      "[185]\tvalid_0's auc: 0.971153\n",
      "[186]\tvalid_0's auc: 0.971209\n",
      "[187]\tvalid_0's auc: 0.971267\n",
      "[188]\tvalid_0's auc: 0.971369\n",
      "[189]\tvalid_0's auc: 0.971449\n",
      "[190]\tvalid_0's auc: 0.971524\n",
      "[191]\tvalid_0's auc: 0.971619\n",
      "[192]\tvalid_0's auc: 0.971675\n",
      "[193]\tvalid_0's auc: 0.971788\n",
      "[194]\tvalid_0's auc: 0.971857\n",
      "[195]\tvalid_0's auc: 0.971924\n",
      "[196]\tvalid_0's auc: 0.971971\n",
      "[197]\tvalid_0's auc: 0.972028\n",
      "[198]\tvalid_0's auc: 0.97207\n",
      "[199]\tvalid_0's auc: 0.972085\n",
      "[200]\tvalid_0's auc: 0.972141\n",
      "[201]\tvalid_0's auc: 0.97217\n",
      "[202]\tvalid_0's auc: 0.972198\n",
      "[203]\tvalid_0's auc: 0.97225\n",
      "[204]\tvalid_0's auc: 0.972342\n",
      "[205]\tvalid_0's auc: 0.972426\n",
      "[206]\tvalid_0's auc: 0.972433\n",
      "[207]\tvalid_0's auc: 0.972493\n",
      "[208]\tvalid_0's auc: 0.97253\n",
      "[209]\tvalid_0's auc: 0.972572\n",
      "[210]\tvalid_0's auc: 0.972657\n",
      "[211]\tvalid_0's auc: 0.972726\n",
      "[212]\tvalid_0's auc: 0.972828\n",
      "[213]\tvalid_0's auc: 0.972895\n",
      "[214]\tvalid_0's auc: 0.973019\n",
      "[215]\tvalid_0's auc: 0.973059\n",
      "[216]\tvalid_0's auc: 0.973132\n",
      "[217]\tvalid_0's auc: 0.97313\n",
      "[218]\tvalid_0's auc: 0.973183\n",
      "[219]\tvalid_0's auc: 0.97324\n",
      "[220]\tvalid_0's auc: 0.973325\n",
      "[221]\tvalid_0's auc: 0.973435\n",
      "[222]\tvalid_0's auc: 0.973451\n",
      "[223]\tvalid_0's auc: 0.973504\n",
      "[224]\tvalid_0's auc: 0.97349\n",
      "[225]\tvalid_0's auc: 0.973521\n",
      "[226]\tvalid_0's auc: 0.973556\n",
      "[227]\tvalid_0's auc: 0.973607\n",
      "[228]\tvalid_0's auc: 0.973571\n",
      "[229]\tvalid_0's auc: 0.973636\n",
      "[230]\tvalid_0's auc: 0.973725\n",
      "[231]\tvalid_0's auc: 0.97374\n",
      "[232]\tvalid_0's auc: 0.973773\n",
      "[233]\tvalid_0's auc: 0.97384\n",
      "[234]\tvalid_0's auc: 0.973898\n",
      "[235]\tvalid_0's auc: 0.973934\n",
      "[236]\tvalid_0's auc: 0.973965\n",
      "[237]\tvalid_0's auc: 0.973996\n",
      "[238]\tvalid_0's auc: 0.974025\n",
      "[239]\tvalid_0's auc: 0.974085\n",
      "[240]\tvalid_0's auc: 0.974065\n",
      "[241]\tvalid_0's auc: 0.974131\n",
      "[242]\tvalid_0's auc: 0.974184\n",
      "[243]\tvalid_0's auc: 0.974202\n",
      "[244]\tvalid_0's auc: 0.974259\n",
      "[245]\tvalid_0's auc: 0.974296\n",
      "[246]\tvalid_0's auc: 0.974327\n",
      "[247]\tvalid_0's auc: 0.974371\n",
      "[248]\tvalid_0's auc: 0.974388\n",
      "[249]\tvalid_0's auc: 0.974421\n",
      "[250]\tvalid_0's auc: 0.974433\n",
      "[251]\tvalid_0's auc: 0.974455\n",
      "[252]\tvalid_0's auc: 0.97448\n",
      "[253]\tvalid_0's auc: 0.974542\n",
      "[254]\tvalid_0's auc: 0.974543\n",
      "[255]\tvalid_0's auc: 0.974581\n",
      "[256]\tvalid_0's auc: 0.974626\n",
      "[257]\tvalid_0's auc: 0.974675\n",
      "[258]\tvalid_0's auc: 0.974671\n",
      "[259]\tvalid_0's auc: 0.974703\n",
      "[260]\tvalid_0's auc: 0.974725\n",
      "[261]\tvalid_0's auc: 0.974748\n",
      "[262]\tvalid_0's auc: 0.974774\n",
      "[263]\tvalid_0's auc: 0.97478\n",
      "[264]\tvalid_0's auc: 0.974788\n",
      "[265]\tvalid_0's auc: 0.974812\n",
      "[266]\tvalid_0's auc: 0.974818\n",
      "[267]\tvalid_0's auc: 0.974872\n",
      "[268]\tvalid_0's auc: 0.974889\n",
      "[269]\tvalid_0's auc: 0.974927\n",
      "[270]\tvalid_0's auc: 0.974964\n",
      "[271]\tvalid_0's auc: 0.975005\n",
      "[272]\tvalid_0's auc: 0.97502\n",
      "[273]\tvalid_0's auc: 0.975068\n",
      "[274]\tvalid_0's auc: 0.975091\n",
      "[275]\tvalid_0's auc: 0.975101\n",
      "[276]\tvalid_0's auc: 0.975134\n",
      "[277]\tvalid_0's auc: 0.975154\n",
      "[278]\tvalid_0's auc: 0.975185\n",
      "[279]\tvalid_0's auc: 0.975192\n",
      "[280]\tvalid_0's auc: 0.975249\n",
      "[281]\tvalid_0's auc: 0.975288\n",
      "[282]\tvalid_0's auc: 0.975337\n",
      "[283]\tvalid_0's auc: 0.975395\n",
      "[284]\tvalid_0's auc: 0.975421\n",
      "[285]\tvalid_0's auc: 0.975448\n",
      "[286]\tvalid_0's auc: 0.975513\n",
      "[287]\tvalid_0's auc: 0.975483\n",
      "[288]\tvalid_0's auc: 0.975494\n",
      "[289]\tvalid_0's auc: 0.975546\n",
      "[290]\tvalid_0's auc: 0.975567\n",
      "[291]\tvalid_0's auc: 0.975563\n",
      "[292]\tvalid_0's auc: 0.975567\n",
      "[293]\tvalid_0's auc: 0.97557\n",
      "[294]\tvalid_0's auc: 0.97561\n",
      "[295]\tvalid_0's auc: 0.975663\n",
      "[296]\tvalid_0's auc: 0.975697\n",
      "[297]\tvalid_0's auc: 0.975728\n",
      "[298]\tvalid_0's auc: 0.975735\n",
      "[299]\tvalid_0's auc: 0.975786\n",
      "[300]\tvalid_0's auc: 0.975813\n",
      "[301]\tvalid_0's auc: 0.975814\n",
      "[302]\tvalid_0's auc: 0.975843\n",
      "[303]\tvalid_0's auc: 0.975846\n",
      "[304]\tvalid_0's auc: 0.975871\n",
      "[305]\tvalid_0's auc: 0.975883\n",
      "[306]\tvalid_0's auc: 0.975897\n",
      "[307]\tvalid_0's auc: 0.975908\n",
      "[308]\tvalid_0's auc: 0.975924\n",
      "[309]\tvalid_0's auc: 0.975945\n",
      "[310]\tvalid_0's auc: 0.975978\n",
      "[311]\tvalid_0's auc: 0.975992\n",
      "[312]\tvalid_0's auc: 0.976001\n",
      "[313]\tvalid_0's auc: 0.976038\n",
      "[314]\tvalid_0's auc: 0.976054\n",
      "[315]\tvalid_0's auc: 0.976074\n",
      "[316]\tvalid_0's auc: 0.976108\n",
      "[317]\tvalid_0's auc: 0.976128\n",
      "[318]\tvalid_0's auc: 0.976151\n",
      "[319]\tvalid_0's auc: 0.97618\n",
      "[320]\tvalid_0's auc: 0.976227\n",
      "[321]\tvalid_0's auc: 0.976275\n",
      "[322]\tvalid_0's auc: 0.976302\n",
      "[323]\tvalid_0's auc: 0.97628\n",
      "[324]\tvalid_0's auc: 0.976281\n",
      "[325]\tvalid_0's auc: 0.976296\n",
      "[326]\tvalid_0's auc: 0.976384\n",
      "[327]\tvalid_0's auc: 0.976396\n",
      "[328]\tvalid_0's auc: 0.976446\n",
      "[329]\tvalid_0's auc: 0.976461\n",
      "[330]\tvalid_0's auc: 0.976501\n",
      "[331]\tvalid_0's auc: 0.976517\n",
      "[332]\tvalid_0's auc: 0.9765\n",
      "[333]\tvalid_0's auc: 0.976522\n",
      "[334]\tvalid_0's auc: 0.976507\n",
      "[335]\tvalid_0's auc: 0.976522\n",
      "[336]\tvalid_0's auc: 0.976546\n",
      "[337]\tvalid_0's auc: 0.97657\n",
      "[338]\tvalid_0's auc: 0.976583\n",
      "[339]\tvalid_0's auc: 0.976598\n",
      "[340]\tvalid_0's auc: 0.976611\n",
      "[341]\tvalid_0's auc: 0.976677\n",
      "[342]\tvalid_0's auc: 0.97672\n",
      "[343]\tvalid_0's auc: 0.976711\n",
      "[344]\tvalid_0's auc: 0.976721\n",
      "[345]\tvalid_0's auc: 0.97677\n",
      "[346]\tvalid_0's auc: 0.976795\n",
      "[347]\tvalid_0's auc: 0.976827\n",
      "[348]\tvalid_0's auc: 0.976822\n",
      "[349]\tvalid_0's auc: 0.976834\n",
      "[350]\tvalid_0's auc: 0.976854\n",
      "[351]\tvalid_0's auc: 0.976876\n",
      "[352]\tvalid_0's auc: 0.976865\n",
      "[353]\tvalid_0's auc: 0.976888\n",
      "[354]\tvalid_0's auc: 0.976913\n",
      "[355]\tvalid_0's auc: 0.976922\n",
      "[356]\tvalid_0's auc: 0.976945\n",
      "[357]\tvalid_0's auc: 0.976969\n",
      "[358]\tvalid_0's auc: 0.977008\n",
      "[359]\tvalid_0's auc: 0.977033\n",
      "[360]\tvalid_0's auc: 0.977056\n",
      "[361]\tvalid_0's auc: 0.977059\n",
      "[362]\tvalid_0's auc: 0.977091\n",
      "[363]\tvalid_0's auc: 0.977098\n",
      "[364]\tvalid_0's auc: 0.977113\n",
      "[365]\tvalid_0's auc: 0.977139\n",
      "[366]\tvalid_0's auc: 0.977148\n",
      "[367]\tvalid_0's auc: 0.977158\n",
      "[368]\tvalid_0's auc: 0.977197\n",
      "[369]\tvalid_0's auc: 0.977195\n",
      "[370]\tvalid_0's auc: 0.977226\n",
      "[371]\tvalid_0's auc: 0.977251\n",
      "[372]\tvalid_0's auc: 0.977294\n",
      "[373]\tvalid_0's auc: 0.977327\n",
      "[374]\tvalid_0's auc: 0.977362\n",
      "[375]\tvalid_0's auc: 0.97741\n",
      "[376]\tvalid_0's auc: 0.97743\n",
      "[377]\tvalid_0's auc: 0.977459\n",
      "[378]\tvalid_0's auc: 0.977474\n",
      "[379]\tvalid_0's auc: 0.977499\n",
      "[380]\tvalid_0's auc: 0.977517\n",
      "[381]\tvalid_0's auc: 0.97755\n",
      "[382]\tvalid_0's auc: 0.977569\n",
      "[383]\tvalid_0's auc: 0.977585\n",
      "[384]\tvalid_0's auc: 0.977607\n",
      "[385]\tvalid_0's auc: 0.977627\n",
      "[386]\tvalid_0's auc: 0.977656\n",
      "[387]\tvalid_0's auc: 0.977675\n",
      "[388]\tvalid_0's auc: 0.977674\n",
      "[389]\tvalid_0's auc: 0.977691\n",
      "[390]\tvalid_0's auc: 0.977676\n",
      "[391]\tvalid_0's auc: 0.977669\n",
      "[392]\tvalid_0's auc: 0.977688\n",
      "[393]\tvalid_0's auc: 0.977701\n",
      "[394]\tvalid_0's auc: 0.977737\n",
      "[395]\tvalid_0's auc: 0.977767\n",
      "[396]\tvalid_0's auc: 0.977816\n",
      "[397]\tvalid_0's auc: 0.977822\n",
      "[398]\tvalid_0's auc: 0.977814\n",
      "[399]\tvalid_0's auc: 0.97782\n",
      "[400]\tvalid_0's auc: 0.97783\n",
      "[401]\tvalid_0's auc: 0.977815\n",
      "[402]\tvalid_0's auc: 0.97785\n",
      "[403]\tvalid_0's auc: 0.977887\n",
      "[404]\tvalid_0's auc: 0.97788\n",
      "[405]\tvalid_0's auc: 0.977896\n",
      "[406]\tvalid_0's auc: 0.977901\n",
      "[407]\tvalid_0's auc: 0.977944\n",
      "[408]\tvalid_0's auc: 0.977956\n",
      "[409]\tvalid_0's auc: 0.977971\n",
      "[410]\tvalid_0's auc: 0.977973\n",
      "[411]\tvalid_0's auc: 0.977972\n",
      "[412]\tvalid_0's auc: 0.97797\n",
      "[413]\tvalid_0's auc: 0.977981\n",
      "[414]\tvalid_0's auc: 0.978019\n",
      "[415]\tvalid_0's auc: 0.978054\n",
      "[416]\tvalid_0's auc: 0.978095\n",
      "[417]\tvalid_0's auc: 0.978095\n",
      "[418]\tvalid_0's auc: 0.978142\n",
      "[419]\tvalid_0's auc: 0.978156\n",
      "[420]\tvalid_0's auc: 0.978157\n",
      "[421]\tvalid_0's auc: 0.978163\n",
      "[422]\tvalid_0's auc: 0.978168\n",
      "[423]\tvalid_0's auc: 0.978187\n",
      "[424]\tvalid_0's auc: 0.978172\n",
      "[425]\tvalid_0's auc: 0.978185\n",
      "[426]\tvalid_0's auc: 0.978192\n",
      "[427]\tvalid_0's auc: 0.978209\n",
      "[428]\tvalid_0's auc: 0.978219\n",
      "[429]\tvalid_0's auc: 0.978224\n",
      "[430]\tvalid_0's auc: 0.978252\n",
      "[431]\tvalid_0's auc: 0.978275\n",
      "[432]\tvalid_0's auc: 0.978287\n",
      "[433]\tvalid_0's auc: 0.978327\n",
      "[434]\tvalid_0's auc: 0.978355\n",
      "[435]\tvalid_0's auc: 0.978401\n",
      "[436]\tvalid_0's auc: 0.978442\n",
      "[437]\tvalid_0's auc: 0.978412\n",
      "[438]\tvalid_0's auc: 0.97844\n",
      "[439]\tvalid_0's auc: 0.978475\n",
      "[440]\tvalid_0's auc: 0.978483\n",
      "[441]\tvalid_0's auc: 0.978501\n",
      "[442]\tvalid_0's auc: 0.978543\n",
      "[443]\tvalid_0's auc: 0.978559\n",
      "[444]\tvalid_0's auc: 0.978572\n",
      "[445]\tvalid_0's auc: 0.978554\n",
      "[446]\tvalid_0's auc: 0.978548\n",
      "[447]\tvalid_0's auc: 0.978565\n",
      "[448]\tvalid_0's auc: 0.978585\n",
      "[449]\tvalid_0's auc: 0.978567\n",
      "[450]\tvalid_0's auc: 0.978576\n",
      "[451]\tvalid_0's auc: 0.978621\n",
      "[452]\tvalid_0's auc: 0.978625\n",
      "[453]\tvalid_0's auc: 0.978636\n",
      "[454]\tvalid_0's auc: 0.978643\n",
      "[455]\tvalid_0's auc: 0.978636\n",
      "[456]\tvalid_0's auc: 0.978655\n",
      "[457]\tvalid_0's auc: 0.978688\n",
      "[458]\tvalid_0's auc: 0.978699\n",
      "[459]\tvalid_0's auc: 0.978706\n",
      "[460]\tvalid_0's auc: 0.978703\n",
      "[461]\tvalid_0's auc: 0.97871\n",
      "[462]\tvalid_0's auc: 0.978697\n",
      "[463]\tvalid_0's auc: 0.978708\n",
      "[464]\tvalid_0's auc: 0.978726\n",
      "[465]\tvalid_0's auc: 0.978739\n",
      "[466]\tvalid_0's auc: 0.978735\n",
      "[467]\tvalid_0's auc: 0.978734\n",
      "[468]\tvalid_0's auc: 0.978738\n",
      "[469]\tvalid_0's auc: 0.978751\n",
      "[470]\tvalid_0's auc: 0.978767\n",
      "[471]\tvalid_0's auc: 0.978765\n",
      "[472]\tvalid_0's auc: 0.978759\n",
      "[473]\tvalid_0's auc: 0.978754\n",
      "[474]\tvalid_0's auc: 0.978748\n",
      "[475]\tvalid_0's auc: 0.978777\n",
      "[476]\tvalid_0's auc: 0.97879\n",
      "[477]\tvalid_0's auc: 0.978804\n",
      "[478]\tvalid_0's auc: 0.978795\n",
      "[479]\tvalid_0's auc: 0.978806\n",
      "[480]\tvalid_0's auc: 0.978801\n",
      "[481]\tvalid_0's auc: 0.978829\n",
      "[482]\tvalid_0's auc: 0.978847\n",
      "[483]\tvalid_0's auc: 0.978839\n",
      "[484]\tvalid_0's auc: 0.978837\n",
      "[485]\tvalid_0's auc: 0.978846\n",
      "[486]\tvalid_0's auc: 0.978869\n",
      "[487]\tvalid_0's auc: 0.978883\n",
      "[488]\tvalid_0's auc: 0.978887\n",
      "[489]\tvalid_0's auc: 0.978904\n",
      "[490]\tvalid_0's auc: 0.978911\n",
      "[491]\tvalid_0's auc: 0.978922\n",
      "[492]\tvalid_0's auc: 0.978917\n",
      "[493]\tvalid_0's auc: 0.978956\n",
      "[494]\tvalid_0's auc: 0.978971\n",
      "[495]\tvalid_0's auc: 0.978957\n",
      "[496]\tvalid_0's auc: 0.978944\n",
      "[497]\tvalid_0's auc: 0.978978\n",
      "[498]\tvalid_0's auc: 0.978992\n",
      "[499]\tvalid_0's auc: 0.979011\n",
      "[500]\tvalid_0's auc: 0.979017\n",
      "[501]\tvalid_0's auc: 0.978999\n",
      "[502]\tvalid_0's auc: 0.979013\n",
      "[503]\tvalid_0's auc: 0.97901\n",
      "[504]\tvalid_0's auc: 0.979015\n",
      "[505]\tvalid_0's auc: 0.979014\n",
      "[506]\tvalid_0's auc: 0.979035\n",
      "[507]\tvalid_0's auc: 0.979032\n",
      "[508]\tvalid_0's auc: 0.979035\n",
      "[509]\tvalid_0's auc: 0.979035\n",
      "[510]\tvalid_0's auc: 0.979046\n",
      "[511]\tvalid_0's auc: 0.97906\n",
      "[512]\tvalid_0's auc: 0.979067\n",
      "[513]\tvalid_0's auc: 0.979068\n",
      "[514]\tvalid_0's auc: 0.979074\n",
      "[515]\tvalid_0's auc: 0.979106\n",
      "[516]\tvalid_0's auc: 0.979118\n",
      "[517]\tvalid_0's auc: 0.979118\n",
      "[518]\tvalid_0's auc: 0.979145\n",
      "[519]\tvalid_0's auc: 0.979173\n",
      "[520]\tvalid_0's auc: 0.979185\n",
      "[521]\tvalid_0's auc: 0.979182\n",
      "[522]\tvalid_0's auc: 0.979183\n",
      "[523]\tvalid_0's auc: 0.979176\n",
      "[524]\tvalid_0's auc: 0.979182\n",
      "[525]\tvalid_0's auc: 0.979172\n",
      "[526]\tvalid_0's auc: 0.979202\n",
      "[527]\tvalid_0's auc: 0.979227\n",
      "[528]\tvalid_0's auc: 0.979237\n",
      "[529]\tvalid_0's auc: 0.97926\n",
      "[530]\tvalid_0's auc: 0.979254\n",
      "[531]\tvalid_0's auc: 0.979282\n",
      "[532]\tvalid_0's auc: 0.979306\n",
      "[533]\tvalid_0's auc: 0.979325\n",
      "[534]\tvalid_0's auc: 0.979322\n",
      "[535]\tvalid_0's auc: 0.979336\n",
      "[536]\tvalid_0's auc: 0.979322\n",
      "[537]\tvalid_0's auc: 0.979329\n",
      "[538]\tvalid_0's auc: 0.979326\n",
      "[539]\tvalid_0's auc: 0.97931\n",
      "[540]\tvalid_0's auc: 0.979323\n",
      "[541]\tvalid_0's auc: 0.979324\n",
      "[542]\tvalid_0's auc: 0.979352\n",
      "[543]\tvalid_0's auc: 0.979357\n",
      "[544]\tvalid_0's auc: 0.979354\n",
      "[545]\tvalid_0's auc: 0.979343\n",
      "[546]\tvalid_0's auc: 0.979351\n",
      "[547]\tvalid_0's auc: 0.979361\n",
      "[548]\tvalid_0's auc: 0.979362\n",
      "[549]\tvalid_0's auc: 0.979374\n",
      "[550]\tvalid_0's auc: 0.979374\n",
      "[551]\tvalid_0's auc: 0.979375\n",
      "[552]\tvalid_0's auc: 0.979383\n",
      "[553]\tvalid_0's auc: 0.979398\n",
      "[554]\tvalid_0's auc: 0.979404\n",
      "[555]\tvalid_0's auc: 0.979403\n",
      "[556]\tvalid_0's auc: 0.979405\n",
      "[557]\tvalid_0's auc: 0.979413\n",
      "[558]\tvalid_0's auc: 0.979443\n",
      "[559]\tvalid_0's auc: 0.979473\n",
      "[560]\tvalid_0's auc: 0.979484\n",
      "[561]\tvalid_0's auc: 0.979464\n",
      "[562]\tvalid_0's auc: 0.979473\n",
      "[563]\tvalid_0's auc: 0.979461\n",
      "[564]\tvalid_0's auc: 0.979485\n",
      "[565]\tvalid_0's auc: 0.979488\n",
      "[566]\tvalid_0's auc: 0.97949\n",
      "[567]\tvalid_0's auc: 0.979484\n",
      "[568]\tvalid_0's auc: 0.979486\n",
      "[569]\tvalid_0's auc: 0.979478\n",
      "[570]\tvalid_0's auc: 0.979489\n",
      "[571]\tvalid_0's auc: 0.979505\n",
      "[572]\tvalid_0's auc: 0.979486\n",
      "[573]\tvalid_0's auc: 0.979486\n",
      "[574]\tvalid_0's auc: 0.979494\n",
      "[575]\tvalid_0's auc: 0.979516\n",
      "[576]\tvalid_0's auc: 0.979528\n",
      "[577]\tvalid_0's auc: 0.979522\n",
      "[578]\tvalid_0's auc: 0.979508\n",
      "[579]\tvalid_0's auc: 0.979527\n",
      "[580]\tvalid_0's auc: 0.979553\n",
      "[581]\tvalid_0's auc: 0.979531\n",
      "[582]\tvalid_0's auc: 0.979529\n",
      "[583]\tvalid_0's auc: 0.979544\n",
      "[584]\tvalid_0's auc: 0.979546\n",
      "[585]\tvalid_0's auc: 0.979535\n",
      "[586]\tvalid_0's auc: 0.979525\n",
      "[587]\tvalid_0's auc: 0.979533\n",
      "[588]\tvalid_0's auc: 0.979551\n",
      "[589]\tvalid_0's auc: 0.979542\n",
      "[590]\tvalid_0's auc: 0.979539\n",
      "[591]\tvalid_0's auc: 0.979538\n",
      "[592]\tvalid_0's auc: 0.979549\n",
      "[593]\tvalid_0's auc: 0.979568\n",
      "[594]\tvalid_0's auc: 0.97957\n",
      "[595]\tvalid_0's auc: 0.979552\n",
      "[596]\tvalid_0's auc: 0.979572\n",
      "[597]\tvalid_0's auc: 0.97957\n",
      "[598]\tvalid_0's auc: 0.979561\n",
      "[599]\tvalid_0's auc: 0.979575\n",
      "[600]\tvalid_0's auc: 0.979585\n",
      "[601]\tvalid_0's auc: 0.979612\n",
      "[602]\tvalid_0's auc: 0.9796\n",
      "[603]\tvalid_0's auc: 0.97963\n",
      "[604]\tvalid_0's auc: 0.979652\n",
      "[605]\tvalid_0's auc: 0.979648\n",
      "[606]\tvalid_0's auc: 0.979662\n",
      "[607]\tvalid_0's auc: 0.97967\n",
      "[608]\tvalid_0's auc: 0.979666\n",
      "[609]\tvalid_0's auc: 0.979657\n",
      "[610]\tvalid_0's auc: 0.979681\n",
      "[611]\tvalid_0's auc: 0.979688\n",
      "[612]\tvalid_0's auc: 0.979685\n",
      "[613]\tvalid_0's auc: 0.97968\n",
      "[614]\tvalid_0's auc: 0.979678\n",
      "[615]\tvalid_0's auc: 0.979687\n",
      "[616]\tvalid_0's auc: 0.979706\n",
      "[617]\tvalid_0's auc: 0.979709\n",
      "[618]\tvalid_0's auc: 0.979728\n",
      "[619]\tvalid_0's auc: 0.979712\n",
      "[620]\tvalid_0's auc: 0.979728\n",
      "[621]\tvalid_0's auc: 0.979742\n",
      "[622]\tvalid_0's auc: 0.979747\n",
      "[623]\tvalid_0's auc: 0.979737\n",
      "[624]\tvalid_0's auc: 0.97972\n",
      "[625]\tvalid_0's auc: 0.979717\n",
      "[626]\tvalid_0's auc: 0.979722\n",
      "[627]\tvalid_0's auc: 0.979731\n",
      "[628]\tvalid_0's auc: 0.979735\n",
      "[629]\tvalid_0's auc: 0.979735\n",
      "[630]\tvalid_0's auc: 0.979739\n",
      "[631]\tvalid_0's auc: 0.979753\n",
      "[632]\tvalid_0's auc: 0.979779\n",
      "[633]\tvalid_0's auc: 0.979808\n",
      "[634]\tvalid_0's auc: 0.979826\n",
      "[635]\tvalid_0's auc: 0.979831\n",
      "[636]\tvalid_0's auc: 0.979833\n",
      "[637]\tvalid_0's auc: 0.979823\n",
      "[638]\tvalid_0's auc: 0.979815\n",
      "[639]\tvalid_0's auc: 0.979816\n",
      "[640]\tvalid_0's auc: 0.979834\n",
      "[641]\tvalid_0's auc: 0.979839\n",
      "[642]\tvalid_0's auc: 0.979865\n",
      "[643]\tvalid_0's auc: 0.979866\n",
      "[644]\tvalid_0's auc: 0.979873\n",
      "[645]\tvalid_0's auc: 0.979877\n",
      "[646]\tvalid_0's auc: 0.979905\n",
      "[647]\tvalid_0's auc: 0.9799\n",
      "[648]\tvalid_0's auc: 0.979907\n",
      "[649]\tvalid_0's auc: 0.979918\n",
      "[650]\tvalid_0's auc: 0.9799\n",
      "[651]\tvalid_0's auc: 0.979915\n",
      "[652]\tvalid_0's auc: 0.979945\n",
      "[653]\tvalid_0's auc: 0.979965\n",
      "[654]\tvalid_0's auc: 0.979966\n",
      "[655]\tvalid_0's auc: 0.979994\n",
      "[656]\tvalid_0's auc: 0.979985\n",
      "[657]\tvalid_0's auc: 0.979988\n",
      "[658]\tvalid_0's auc: 0.979983\n",
      "[659]\tvalid_0's auc: 0.979985\n",
      "[660]\tvalid_0's auc: 0.979992\n",
      "[661]\tvalid_0's auc: 0.979996\n",
      "[662]\tvalid_0's auc: 0.979985\n",
      "[663]\tvalid_0's auc: 0.979986\n",
      "[664]\tvalid_0's auc: 0.979996\n",
      "[665]\tvalid_0's auc: 0.980003\n",
      "[666]\tvalid_0's auc: 0.979991\n",
      "[667]\tvalid_0's auc: 0.980013\n",
      "[668]\tvalid_0's auc: 0.980013\n",
      "[669]\tvalid_0's auc: 0.980025\n",
      "[670]\tvalid_0's auc: 0.980024\n",
      "[671]\tvalid_0's auc: 0.980031\n",
      "[672]\tvalid_0's auc: 0.980054\n",
      "[673]\tvalid_0's auc: 0.980065\n",
      "[674]\tvalid_0's auc: 0.980058\n",
      "[675]\tvalid_0's auc: 0.980068\n",
      "[676]\tvalid_0's auc: 0.98009\n",
      "[677]\tvalid_0's auc: 0.980101\n",
      "[678]\tvalid_0's auc: 0.980098\n",
      "[679]\tvalid_0's auc: 0.980105\n",
      "[680]\tvalid_0's auc: 0.980112\n",
      "[681]\tvalid_0's auc: 0.980119\n",
      "[682]\tvalid_0's auc: 0.980122\n",
      "[683]\tvalid_0's auc: 0.980115\n",
      "[684]\tvalid_0's auc: 0.980134\n",
      "[685]\tvalid_0's auc: 0.980138\n",
      "[686]\tvalid_0's auc: 0.980129\n",
      "[687]\tvalid_0's auc: 0.980151\n",
      "[688]\tvalid_0's auc: 0.98016\n",
      "[689]\tvalid_0's auc: 0.980176\n",
      "[690]\tvalid_0's auc: 0.980167\n",
      "[691]\tvalid_0's auc: 0.980162\n",
      "[692]\tvalid_0's auc: 0.980154\n",
      "[693]\tvalid_0's auc: 0.980156\n",
      "[694]\tvalid_0's auc: 0.980173\n",
      "[695]\tvalid_0's auc: 0.980194\n",
      "[696]\tvalid_0's auc: 0.980188\n",
      "[697]\tvalid_0's auc: 0.980206\n",
      "[698]\tvalid_0's auc: 0.980226\n",
      "[699]\tvalid_0's auc: 0.980224\n",
      "[700]\tvalid_0's auc: 0.980229\n",
      "[701]\tvalid_0's auc: 0.980223\n",
      "[702]\tvalid_0's auc: 0.980226\n",
      "[703]\tvalid_0's auc: 0.98023\n",
      "[704]\tvalid_0's auc: 0.980221\n",
      "[705]\tvalid_0's auc: 0.980223\n",
      "[706]\tvalid_0's auc: 0.980198\n",
      "[707]\tvalid_0's auc: 0.980209\n",
      "[708]\tvalid_0's auc: 0.980212\n",
      "[709]\tvalid_0's auc: 0.980215\n",
      "[710]\tvalid_0's auc: 0.980225\n",
      "[711]\tvalid_0's auc: 0.980245\n",
      "[712]\tvalid_0's auc: 0.980231\n",
      "[713]\tvalid_0's auc: 0.980237\n",
      "[714]\tvalid_0's auc: 0.980254\n",
      "[715]\tvalid_0's auc: 0.980254\n",
      "[716]\tvalid_0's auc: 0.98026\n",
      "[717]\tvalid_0's auc: 0.980278\n",
      "[718]\tvalid_0's auc: 0.980282\n",
      "[719]\tvalid_0's auc: 0.980287\n",
      "[720]\tvalid_0's auc: 0.980276\n",
      "[721]\tvalid_0's auc: 0.98029\n",
      "[722]\tvalid_0's auc: 0.980302\n",
      "[723]\tvalid_0's auc: 0.980314\n",
      "[724]\tvalid_0's auc: 0.980328\n",
      "[725]\tvalid_0's auc: 0.980325\n",
      "[726]\tvalid_0's auc: 0.980321\n",
      "[727]\tvalid_0's auc: 0.980337\n",
      "[728]\tvalid_0's auc: 0.980361\n",
      "[729]\tvalid_0's auc: 0.980348\n",
      "[730]\tvalid_0's auc: 0.980359\n",
      "[731]\tvalid_0's auc: 0.980371\n",
      "[732]\tvalid_0's auc: 0.980389\n",
      "[733]\tvalid_0's auc: 0.980372\n",
      "[734]\tvalid_0's auc: 0.980383\n",
      "[735]\tvalid_0's auc: 0.980395\n",
      "[736]\tvalid_0's auc: 0.98038\n",
      "[737]\tvalid_0's auc: 0.980384\n",
      "[738]\tvalid_0's auc: 0.980379\n",
      "[739]\tvalid_0's auc: 0.980399\n",
      "[740]\tvalid_0's auc: 0.980407\n",
      "[741]\tvalid_0's auc: 0.980402\n",
      "[742]\tvalid_0's auc: 0.980407\n",
      "[743]\tvalid_0's auc: 0.980408\n",
      "[744]\tvalid_0's auc: 0.980409\n",
      "[745]\tvalid_0's auc: 0.980412\n",
      "[746]\tvalid_0's auc: 0.980441\n",
      "[747]\tvalid_0's auc: 0.980457\n",
      "[748]\tvalid_0's auc: 0.980459\n",
      "[749]\tvalid_0's auc: 0.980479\n",
      "[750]\tvalid_0's auc: 0.980481\n",
      "[751]\tvalid_0's auc: 0.980485\n",
      "[752]\tvalid_0's auc: 0.980488\n",
      "[753]\tvalid_0's auc: 0.980497\n",
      "[754]\tvalid_0's auc: 0.98051\n",
      "[755]\tvalid_0's auc: 0.980518\n",
      "[756]\tvalid_0's auc: 0.980534\n",
      "[757]\tvalid_0's auc: 0.980562\n",
      "[758]\tvalid_0's auc: 0.980577\n",
      "[759]\tvalid_0's auc: 0.980585\n",
      "[760]\tvalid_0's auc: 0.980588\n",
      "[761]\tvalid_0's auc: 0.98058\n",
      "[762]\tvalid_0's auc: 0.980589\n",
      "[763]\tvalid_0's auc: 0.980595\n",
      "[764]\tvalid_0's auc: 0.980597\n",
      "[765]\tvalid_0's auc: 0.980612\n",
      "[766]\tvalid_0's auc: 0.980611\n",
      "[767]\tvalid_0's auc: 0.980633\n",
      "[768]\tvalid_0's auc: 0.980649\n",
      "[769]\tvalid_0's auc: 0.980648\n",
      "[770]\tvalid_0's auc: 0.980641\n",
      "[771]\tvalid_0's auc: 0.98063\n",
      "[772]\tvalid_0's auc: 0.980637\n",
      "[773]\tvalid_0's auc: 0.980641\n",
      "[774]\tvalid_0's auc: 0.980643\n",
      "[775]\tvalid_0's auc: 0.980625\n",
      "[776]\tvalid_0's auc: 0.980638\n",
      "[777]\tvalid_0's auc: 0.980646\n",
      "[778]\tvalid_0's auc: 0.980649\n",
      "[779]\tvalid_0's auc: 0.980643\n",
      "[780]\tvalid_0's auc: 0.980644\n",
      "[781]\tvalid_0's auc: 0.980645\n",
      "[782]\tvalid_0's auc: 0.98067\n",
      "[783]\tvalid_0's auc: 0.980667\n",
      "[784]\tvalid_0's auc: 0.980675\n",
      "[785]\tvalid_0's auc: 0.980705\n",
      "[786]\tvalid_0's auc: 0.980719\n",
      "[787]\tvalid_0's auc: 0.980718\n",
      "[788]\tvalid_0's auc: 0.980734\n",
      "[789]\tvalid_0's auc: 0.980731\n",
      "[790]\tvalid_0's auc: 0.980731\n",
      "[791]\tvalid_0's auc: 0.980751\n",
      "[792]\tvalid_0's auc: 0.980742\n",
      "[793]\tvalid_0's auc: 0.980741\n",
      "[794]\tvalid_0's auc: 0.980746\n",
      "[795]\tvalid_0's auc: 0.98076\n",
      "[796]\tvalid_0's auc: 0.980764\n",
      "[797]\tvalid_0's auc: 0.980766\n",
      "[798]\tvalid_0's auc: 0.980747\n",
      "[799]\tvalid_0's auc: 0.980745\n",
      "[800]\tvalid_0's auc: 0.980749\n",
      "[801]\tvalid_0's auc: 0.980742\n",
      "[802]\tvalid_0's auc: 0.980763\n",
      "[803]\tvalid_0's auc: 0.980762\n",
      "[804]\tvalid_0's auc: 0.980741\n",
      "[805]\tvalid_0's auc: 0.980752\n",
      "[806]\tvalid_0's auc: 0.980761\n",
      "[807]\tvalid_0's auc: 0.980761\n",
      "[808]\tvalid_0's auc: 0.980763\n",
      "[809]\tvalid_0's auc: 0.980787\n",
      "[810]\tvalid_0's auc: 0.980784\n",
      "[811]\tvalid_0's auc: 0.980779\n",
      "[812]\tvalid_0's auc: 0.980754\n",
      "[813]\tvalid_0's auc: 0.980759\n",
      "[814]\tvalid_0's auc: 0.980741\n",
      "[815]\tvalid_0's auc: 0.980746\n",
      "[816]\tvalid_0's auc: 0.980743\n",
      "[817]\tvalid_0's auc: 0.980752\n",
      "[818]\tvalid_0's auc: 0.980761\n",
      "[819]\tvalid_0's auc: 0.980767\n",
      "[820]\tvalid_0's auc: 0.98078\n",
      "[821]\tvalid_0's auc: 0.980789\n",
      "[822]\tvalid_0's auc: 0.980793\n",
      "[823]\tvalid_0's auc: 0.9808\n",
      "[824]\tvalid_0's auc: 0.98078\n",
      "[825]\tvalid_0's auc: 0.980786\n",
      "[826]\tvalid_0's auc: 0.980793\n",
      "[827]\tvalid_0's auc: 0.980811\n",
      "[828]\tvalid_0's auc: 0.980821\n",
      "[829]\tvalid_0's auc: 0.980849\n",
      "[830]\tvalid_0's auc: 0.98084\n",
      "[831]\tvalid_0's auc: 0.980864\n",
      "[832]\tvalid_0's auc: 0.980852\n",
      "[833]\tvalid_0's auc: 0.980843\n",
      "[834]\tvalid_0's auc: 0.980859\n",
      "[835]\tvalid_0's auc: 0.980891\n",
      "[836]\tvalid_0's auc: 0.980891\n",
      "[837]\tvalid_0's auc: 0.980893\n",
      "[838]\tvalid_0's auc: 0.980912\n",
      "[839]\tvalid_0's auc: 0.980925\n",
      "[840]\tvalid_0's auc: 0.980936\n",
      "[841]\tvalid_0's auc: 0.980939\n",
      "[842]\tvalid_0's auc: 0.980933\n",
      "[843]\tvalid_0's auc: 0.980931\n",
      "[844]\tvalid_0's auc: 0.980927\n",
      "[845]\tvalid_0's auc: 0.980948\n",
      "[846]\tvalid_0's auc: 0.980963\n",
      "[847]\tvalid_0's auc: 0.980957\n",
      "[848]\tvalid_0's auc: 0.980968\n",
      "[849]\tvalid_0's auc: 0.980962\n",
      "[850]\tvalid_0's auc: 0.980966\n",
      "[851]\tvalid_0's auc: 0.980963\n",
      "[852]\tvalid_0's auc: 0.980979\n",
      "[853]\tvalid_0's auc: 0.980976\n",
      "[854]\tvalid_0's auc: 0.980991\n",
      "[855]\tvalid_0's auc: 0.980995\n",
      "[856]\tvalid_0's auc: 0.981\n",
      "[857]\tvalid_0's auc: 0.981009\n",
      "[858]\tvalid_0's auc: 0.981002\n",
      "[859]\tvalid_0's auc: 0.981015\n",
      "[860]\tvalid_0's auc: 0.980997\n",
      "[861]\tvalid_0's auc: 0.980989\n",
      "[862]\tvalid_0's auc: 0.981002\n",
      "[863]\tvalid_0's auc: 0.98101\n",
      "[864]\tvalid_0's auc: 0.980994\n",
      "[865]\tvalid_0's auc: 0.980995\n",
      "[866]\tvalid_0's auc: 0.980993\n",
      "[867]\tvalid_0's auc: 0.98099\n",
      "[868]\tvalid_0's auc: 0.980983\n",
      "[869]\tvalid_0's auc: 0.980973\n",
      "[870]\tvalid_0's auc: 0.980977\n",
      "[871]\tvalid_0's auc: 0.980991\n",
      "[872]\tvalid_0's auc: 0.980994\n",
      "[873]\tvalid_0's auc: 0.98101\n",
      "[874]\tvalid_0's auc: 0.981026\n",
      "[875]\tvalid_0's auc: 0.981042\n",
      "[876]\tvalid_0's auc: 0.98103\n",
      "[877]\tvalid_0's auc: 0.981045\n",
      "[878]\tvalid_0's auc: 0.981037\n",
      "[879]\tvalid_0's auc: 0.981051\n",
      "[880]\tvalid_0's auc: 0.981056\n",
      "[881]\tvalid_0's auc: 0.981065\n",
      "[882]\tvalid_0's auc: 0.981083\n",
      "[883]\tvalid_0's auc: 0.98109\n",
      "[884]\tvalid_0's auc: 0.98111\n",
      "[885]\tvalid_0's auc: 0.981109\n",
      "[886]\tvalid_0's auc: 0.981091\n",
      "[887]\tvalid_0's auc: 0.9811\n",
      "[888]\tvalid_0's auc: 0.981108\n",
      "[889]\tvalid_0's auc: 0.981128\n",
      "[890]\tvalid_0's auc: 0.981116\n",
      "[891]\tvalid_0's auc: 0.981099\n",
      "[892]\tvalid_0's auc: 0.981096\n",
      "[893]\tvalid_0's auc: 0.981084\n",
      "[894]\tvalid_0's auc: 0.981096\n",
      "[895]\tvalid_0's auc: 0.981102\n",
      "[896]\tvalid_0's auc: 0.981125\n",
      "[897]\tvalid_0's auc: 0.981121\n",
      "[898]\tvalid_0's auc: 0.981135\n",
      "[899]\tvalid_0's auc: 0.981132\n",
      "[900]\tvalid_0's auc: 0.981145\n",
      "[901]\tvalid_0's auc: 0.981155\n",
      "[902]\tvalid_0's auc: 0.981166\n",
      "[903]\tvalid_0's auc: 0.981171\n",
      "[904]\tvalid_0's auc: 0.981185\n",
      "[905]\tvalid_0's auc: 0.98119\n",
      "[906]\tvalid_0's auc: 0.98119\n",
      "[907]\tvalid_0's auc: 0.98119\n",
      "[908]\tvalid_0's auc: 0.981198\n",
      "[909]\tvalid_0's auc: 0.981198\n",
      "[910]\tvalid_0's auc: 0.981199\n",
      "[911]\tvalid_0's auc: 0.981195\n",
      "[912]\tvalid_0's auc: 0.981193\n",
      "[913]\tvalid_0's auc: 0.981205\n",
      "[914]\tvalid_0's auc: 0.981193\n",
      "[915]\tvalid_0's auc: 0.981192\n",
      "[916]\tvalid_0's auc: 0.981191\n",
      "[917]\tvalid_0's auc: 0.981181\n",
      "[918]\tvalid_0's auc: 0.981164\n",
      "[919]\tvalid_0's auc: 0.981179\n",
      "[920]\tvalid_0's auc: 0.98117\n",
      "[921]\tvalid_0's auc: 0.981186\n",
      "[922]\tvalid_0's auc: 0.981192\n",
      "[923]\tvalid_0's auc: 0.981195\n",
      "[924]\tvalid_0's auc: 0.981197\n",
      "[925]\tvalid_0's auc: 0.981185\n",
      "[926]\tvalid_0's auc: 0.981196\n",
      "[927]\tvalid_0's auc: 0.981211\n",
      "[928]\tvalid_0's auc: 0.981215\n",
      "[929]\tvalid_0's auc: 0.981224\n",
      "[930]\tvalid_0's auc: 0.981236\n",
      "[931]\tvalid_0's auc: 0.981234\n",
      "[932]\tvalid_0's auc: 0.981244\n",
      "[933]\tvalid_0's auc: 0.981237\n",
      "[934]\tvalid_0's auc: 0.981236\n",
      "[935]\tvalid_0's auc: 0.98125\n",
      "[936]\tvalid_0's auc: 0.981259\n",
      "[937]\tvalid_0's auc: 0.98126\n",
      "[938]\tvalid_0's auc: 0.981249\n",
      "[939]\tvalid_0's auc: 0.981251\n",
      "[940]\tvalid_0's auc: 0.981255\n",
      "[941]\tvalid_0's auc: 0.981277\n",
      "[942]\tvalid_0's auc: 0.981282\n",
      "[943]\tvalid_0's auc: 0.981292\n",
      "[944]\tvalid_0's auc: 0.981293\n",
      "[945]\tvalid_0's auc: 0.981297\n",
      "[946]\tvalid_0's auc: 0.981292\n",
      "[947]\tvalid_0's auc: 0.981281\n",
      "[948]\tvalid_0's auc: 0.981292\n",
      "[949]\tvalid_0's auc: 0.981278\n",
      "[950]\tvalid_0's auc: 0.981292\n",
      "[951]\tvalid_0's auc: 0.981299\n",
      "[952]\tvalid_0's auc: 0.981309\n",
      "[953]\tvalid_0's auc: 0.981314\n",
      "[954]\tvalid_0's auc: 0.981311\n",
      "[955]\tvalid_0's auc: 0.981322\n",
      "[956]\tvalid_0's auc: 0.981336\n",
      "[957]\tvalid_0's auc: 0.981339\n",
      "[958]\tvalid_0's auc: 0.981343\n",
      "[959]\tvalid_0's auc: 0.981342\n",
      "[960]\tvalid_0's auc: 0.981344\n",
      "[961]\tvalid_0's auc: 0.981347\n",
      "[962]\tvalid_0's auc: 0.981361\n",
      "[963]\tvalid_0's auc: 0.981357\n",
      "[964]\tvalid_0's auc: 0.981368\n",
      "[965]\tvalid_0's auc: 0.981368\n",
      "[966]\tvalid_0's auc: 0.981359\n",
      "[967]\tvalid_0's auc: 0.981362\n",
      "[968]\tvalid_0's auc: 0.981369\n",
      "[969]\tvalid_0's auc: 0.981371\n",
      "[970]\tvalid_0's auc: 0.981377\n",
      "[971]\tvalid_0's auc: 0.981367\n",
      "[972]\tvalid_0's auc: 0.981376\n",
      "[973]\tvalid_0's auc: 0.981389\n",
      "[974]\tvalid_0's auc: 0.981387\n",
      "[975]\tvalid_0's auc: 0.981386\n",
      "[976]\tvalid_0's auc: 0.981386\n",
      "[977]\tvalid_0's auc: 0.981385\n",
      "[978]\tvalid_0's auc: 0.981387\n",
      "[979]\tvalid_0's auc: 0.981389\n",
      "[980]\tvalid_0's auc: 0.981392\n",
      "[981]\tvalid_0's auc: 0.981387\n",
      "[982]\tvalid_0's auc: 0.981384\n",
      "[983]\tvalid_0's auc: 0.981366\n",
      "[984]\tvalid_0's auc: 0.981366\n",
      "[985]\tvalid_0's auc: 0.981354\n",
      "[986]\tvalid_0's auc: 0.981362\n",
      "[987]\tvalid_0's auc: 0.981352\n",
      "[988]\tvalid_0's auc: 0.981342\n",
      "[989]\tvalid_0's auc: 0.981343\n",
      "[990]\tvalid_0's auc: 0.981343\n",
      "[991]\tvalid_0's auc: 0.981336\n",
      "[992]\tvalid_0's auc: 0.981327\n",
      "[993]\tvalid_0's auc: 0.981339\n",
      "[994]\tvalid_0's auc: 0.981359\n",
      "[995]\tvalid_0's auc: 0.981346\n",
      "[996]\tvalid_0's auc: 0.981362\n",
      "[997]\tvalid_0's auc: 0.981372\n",
      "[998]\tvalid_0's auc: 0.981382\n",
      "[999]\tvalid_0's auc: 0.981384\n",
      "[1000]\tvalid_0's auc: 0.981409\n",
      "[1001]\tvalid_0's auc: 0.98142\n",
      "[1002]\tvalid_0's auc: 0.981426\n",
      "[1003]\tvalid_0's auc: 0.981427\n",
      "[1004]\tvalid_0's auc: 0.981432\n",
      "[1005]\tvalid_0's auc: 0.981438\n",
      "[1006]\tvalid_0's auc: 0.981436\n",
      "[1007]\tvalid_0's auc: 0.981423\n",
      "[1008]\tvalid_0's auc: 0.981423\n",
      "[1009]\tvalid_0's auc: 0.981439\n",
      "[1010]\tvalid_0's auc: 0.981459\n",
      "[1011]\tvalid_0's auc: 0.981465\n",
      "[1012]\tvalid_0's auc: 0.981464\n",
      "[1013]\tvalid_0's auc: 0.981469\n",
      "[1014]\tvalid_0's auc: 0.981459\n",
      "[1015]\tvalid_0's auc: 0.981457\n",
      "[1016]\tvalid_0's auc: 0.98146\n",
      "[1017]\tvalid_0's auc: 0.981462\n",
      "[1018]\tvalid_0's auc: 0.98146\n",
      "[1019]\tvalid_0's auc: 0.981459\n",
      "[1020]\tvalid_0's auc: 0.98147\n",
      "[1021]\tvalid_0's auc: 0.981481\n",
      "[1022]\tvalid_0's auc: 0.981491\n",
      "[1023]\tvalid_0's auc: 0.981488\n",
      "[1024]\tvalid_0's auc: 0.981488\n",
      "[1025]\tvalid_0's auc: 0.981483\n",
      "[1026]\tvalid_0's auc: 0.981496\n",
      "[1027]\tvalid_0's auc: 0.981488\n",
      "[1028]\tvalid_0's auc: 0.981489\n",
      "[1029]\tvalid_0's auc: 0.981489\n",
      "[1030]\tvalid_0's auc: 0.981488\n",
      "[1031]\tvalid_0's auc: 0.981501\n",
      "[1032]\tvalid_0's auc: 0.981493\n",
      "[1033]\tvalid_0's auc: 0.981498\n",
      "[1034]\tvalid_0's auc: 0.981502\n",
      "[1035]\tvalid_0's auc: 0.981502\n",
      "[1036]\tvalid_0's auc: 0.981517\n",
      "[1037]\tvalid_0's auc: 0.981513\n",
      "[1038]\tvalid_0's auc: 0.981509\n",
      "[1039]\tvalid_0's auc: 0.981509\n",
      "[1040]\tvalid_0's auc: 0.981521\n",
      "[1041]\tvalid_0's auc: 0.981523\n",
      "[1042]\tvalid_0's auc: 0.981536\n",
      "[1043]\tvalid_0's auc: 0.98154\n",
      "[1044]\tvalid_0's auc: 0.981534\n",
      "[1045]\tvalid_0's auc: 0.981533\n",
      "[1046]\tvalid_0's auc: 0.981525\n",
      "[1047]\tvalid_0's auc: 0.981518\n",
      "[1048]\tvalid_0's auc: 0.981514\n",
      "[1049]\tvalid_0's auc: 0.981508\n",
      "[1050]\tvalid_0's auc: 0.981493\n",
      "[1051]\tvalid_0's auc: 0.981484\n",
      "[1052]\tvalid_0's auc: 0.981493\n",
      "[1053]\tvalid_0's auc: 0.981507\n",
      "[1054]\tvalid_0's auc: 0.981507\n",
      "[1055]\tvalid_0's auc: 0.981517\n",
      "[1056]\tvalid_0's auc: 0.981526\n",
      "[1057]\tvalid_0's auc: 0.981524\n",
      "[1058]\tvalid_0's auc: 0.981523\n",
      "[1059]\tvalid_0's auc: 0.981531\n",
      "[1060]\tvalid_0's auc: 0.981533\n",
      "[1061]\tvalid_0's auc: 0.981544\n",
      "[1062]\tvalid_0's auc: 0.981551\n",
      "[1063]\tvalid_0's auc: 0.981557\n",
      "[1064]\tvalid_0's auc: 0.981557\n",
      "[1065]\tvalid_0's auc: 0.981552\n",
      "[1066]\tvalid_0's auc: 0.98156\n",
      "[1067]\tvalid_0's auc: 0.981536\n",
      "[1068]\tvalid_0's auc: 0.981553\n",
      "[1069]\tvalid_0's auc: 0.981555\n",
      "[1070]\tvalid_0's auc: 0.981562\n",
      "[1071]\tvalid_0's auc: 0.981573\n",
      "[1072]\tvalid_0's auc: 0.981573\n",
      "[1073]\tvalid_0's auc: 0.981581\n",
      "[1074]\tvalid_0's auc: 0.98159\n",
      "[1075]\tvalid_0's auc: 0.981593\n",
      "[1076]\tvalid_0's auc: 0.981599\n",
      "[1077]\tvalid_0's auc: 0.981597\n",
      "[1078]\tvalid_0's auc: 0.981603\n",
      "[1079]\tvalid_0's auc: 0.981602\n",
      "[1080]\tvalid_0's auc: 0.98161\n",
      "[1081]\tvalid_0's auc: 0.981615\n",
      "[1082]\tvalid_0's auc: 0.98161\n",
      "[1083]\tvalid_0's auc: 0.98162\n",
      "[1084]\tvalid_0's auc: 0.981611\n",
      "[1085]\tvalid_0's auc: 0.981606\n",
      "[1086]\tvalid_0's auc: 0.981582\n",
      "[1087]\tvalid_0's auc: 0.981592\n",
      "[1088]\tvalid_0's auc: 0.981587\n",
      "[1089]\tvalid_0's auc: 0.981593\n",
      "[1090]\tvalid_0's auc: 0.981596\n",
      "[1091]\tvalid_0's auc: 0.981588\n",
      "[1092]\tvalid_0's auc: 0.981567\n",
      "[1093]\tvalid_0's auc: 0.981561\n",
      "[1094]\tvalid_0's auc: 0.981554\n",
      "[1095]\tvalid_0's auc: 0.981563\n",
      "[1096]\tvalid_0's auc: 0.981563\n",
      "[1097]\tvalid_0's auc: 0.981565\n",
      "[1098]\tvalid_0's auc: 0.981558\n",
      "[1099]\tvalid_0's auc: 0.981573\n",
      "[1100]\tvalid_0's auc: 0.981582\n",
      "[1101]\tvalid_0's auc: 0.981585\n",
      "[1102]\tvalid_0's auc: 0.981594\n",
      "[1103]\tvalid_0's auc: 0.981599\n",
      "[1104]\tvalid_0's auc: 0.981607\n",
      "[1105]\tvalid_0's auc: 0.981608\n",
      "[1106]\tvalid_0's auc: 0.981617\n",
      "[1107]\tvalid_0's auc: 0.9816\n",
      "[1108]\tvalid_0's auc: 0.9816\n",
      "[1109]\tvalid_0's auc: 0.981606\n",
      "[1110]\tvalid_0's auc: 0.981602\n",
      "[1111]\tvalid_0's auc: 0.981608\n",
      "[1112]\tvalid_0's auc: 0.981613\n",
      "[1113]\tvalid_0's auc: 0.981617\n",
      "[1114]\tvalid_0's auc: 0.981617\n",
      "[1115]\tvalid_0's auc: 0.981622\n",
      "[1116]\tvalid_0's auc: 0.981609\n",
      "[1117]\tvalid_0's auc: 0.981609\n",
      "[1118]\tvalid_0's auc: 0.981619\n",
      "[1119]\tvalid_0's auc: 0.981627\n",
      "[1120]\tvalid_0's auc: 0.981631\n",
      "[1121]\tvalid_0's auc: 0.981631\n",
      "[1122]\tvalid_0's auc: 0.981648\n",
      "[1123]\tvalid_0's auc: 0.98164\n",
      "[1124]\tvalid_0's auc: 0.981633\n",
      "[1125]\tvalid_0's auc: 0.981627\n",
      "[1126]\tvalid_0's auc: 0.981618\n",
      "[1127]\tvalid_0's auc: 0.981617\n",
      "[1128]\tvalid_0's auc: 0.981618\n",
      "[1129]\tvalid_0's auc: 0.981619\n",
      "[1130]\tvalid_0's auc: 0.981631\n",
      "[1131]\tvalid_0's auc: 0.98162\n",
      "[1132]\tvalid_0's auc: 0.981619\n",
      "[1133]\tvalid_0's auc: 0.981612\n",
      "[1134]\tvalid_0's auc: 0.981614\n",
      "[1135]\tvalid_0's auc: 0.98161\n",
      "[1136]\tvalid_0's auc: 0.981604\n",
      "[1137]\tvalid_0's auc: 0.981608\n",
      "[1138]\tvalid_0's auc: 0.98159\n",
      "[1139]\tvalid_0's auc: 0.98161\n",
      "[1140]\tvalid_0's auc: 0.981596\n",
      "[1141]\tvalid_0's auc: 0.981605\n",
      "[1142]\tvalid_0's auc: 0.981595\n",
      "[1143]\tvalid_0's auc: 0.981601\n",
      "[1144]\tvalid_0's auc: 0.981599\n",
      "[1145]\tvalid_0's auc: 0.9816\n",
      "[1146]\tvalid_0's auc: 0.981596\n",
      "[1147]\tvalid_0's auc: 0.981601\n",
      "[1148]\tvalid_0's auc: 0.981608\n",
      "[1149]\tvalid_0's auc: 0.981605\n",
      "[1150]\tvalid_0's auc: 0.981601\n",
      "[1151]\tvalid_0's auc: 0.981588\n",
      "[1152]\tvalid_0's auc: 0.9816\n",
      "[1153]\tvalid_0's auc: 0.98159\n",
      "[1154]\tvalid_0's auc: 0.981587\n",
      "[1155]\tvalid_0's auc: 0.98159\n",
      "[1156]\tvalid_0's auc: 0.981574\n",
      "[1157]\tvalid_0's auc: 0.981576\n",
      "[1158]\tvalid_0's auc: 0.981564\n",
      "[1159]\tvalid_0's auc: 0.981568\n",
      "[1160]\tvalid_0's auc: 0.981562\n",
      "[1161]\tvalid_0's auc: 0.981568\n",
      "[1162]\tvalid_0's auc: 0.981583\n",
      "[1163]\tvalid_0's auc: 0.981582\n",
      "[1164]\tvalid_0's auc: 0.981595\n",
      "[1165]\tvalid_0's auc: 0.981591\n",
      "[1166]\tvalid_0's auc: 0.981585\n",
      "[1167]\tvalid_0's auc: 0.981588\n",
      "[1168]\tvalid_0's auc: 0.981606\n",
      "[1169]\tvalid_0's auc: 0.981606\n",
      "[1170]\tvalid_0's auc: 0.981617\n",
      "[1171]\tvalid_0's auc: 0.981618\n",
      "[1172]\tvalid_0's auc: 0.981621\n",
      "Early stopping, best iteration is:\n",
      "[1122]\tvalid_0's auc: 0.981648\n"
     ]
    }
   ],
   "source": [
    "num_round = 4000\n",
    "\n",
    "model = lgb.train(params, train_data_plus, num_round, valid_sets=[test_data_plus],early_stopping_rounds=50)"
   ],
   "metadata": {
    "collapsed": false,
    "pycharm": {
     "name": "#%%\n"
    }
   }
  },
  {
   "cell_type": "code",
   "execution_count": 86,
   "outputs": [],
   "source": [
    "# 예측\n",
    "preds_proba = model.predict(X_val_stand_1hot)\n",
    "preds = np.where(preds_proba > 0.5, 1, 0)\n"
   ],
   "metadata": {
    "collapsed": false,
    "pycharm": {
     "name": "#%%\n"
    }
   }
  },
  {
   "cell_type": "code",
   "execution_count": 87,
   "outputs": [
    {
     "ename": "NameError",
     "evalue": "name 'model_eval' is not defined",
     "output_type": "error",
     "traceback": [
      "\u001B[1;31m---------------------------------------------------------------------------\u001B[0m",
      "\u001B[1;31mNameError\u001B[0m                                 Traceback (most recent call last)",
      "Cell \u001B[1;32mIn[87], line 1\u001B[0m\n\u001B[1;32m----> 1\u001B[0m \u001B[43mmodel_eval\u001B[49m(y_val_stand_1hot, preds)\n",
      "\u001B[1;31mNameError\u001B[0m: name 'model_eval' is not defined"
     ]
    }
   ],
   "source": [
    "model_eval(y_val_stand_1hot, preds)"
   ],
   "metadata": {
    "collapsed": false,
    "pycharm": {
     "name": "#%%\n"
    }
   }
  },
  {
   "cell_type": "code",
   "execution_count": 162,
   "outputs": [],
   "source": [
    "preds_proba = model.predict(test_stand_1hot)\n",
    "test_preds = np.where(preds_proba > 0.5, 1, 0)"
   ],
   "metadata": {
    "collapsed": false,
    "pycharm": {
     "name": "#%%\n"
    }
   }
  },
  {
   "cell_type": "code",
   "execution_count": 163,
   "outputs": [],
   "source": [
    "submission['Y_LABEL'] = test_preds"
   ],
   "metadata": {
    "collapsed": false,
    "pycharm": {
     "name": "#%%\n"
    }
   }
  },
  {
   "cell_type": "code",
   "execution_count": 165,
   "outputs": [],
   "source": [
    "submission.to_csv(r'C:\\Users\\yoon9\\PycharmProjects\\Sejong_Project\\data\\construct_Oil_data\\submission_lightgbm_base.csv',index = False)"
   ],
   "metadata": {
    "collapsed": false,
    "pycharm": {
     "name": "#%%\n"
    }
   }
  },
  {
   "cell_type": "code",
   "execution_count": null,
   "outputs": [],
   "source": [],
   "metadata": {
    "collapsed": false,
    "pycharm": {
     "name": "#%%\n"
    }
   }
  }
 ],
 "metadata": {
  "kernelspec": {
   "display_name": "Python 3",
   "language": "python",
   "name": "python3"
  },
  "language_info": {
   "codemirror_mode": {
    "name": "ipython",
    "version": 2
   },
   "file_extension": ".py",
   "mimetype": "text/x-python",
   "name": "python",
   "nbconvert_exporter": "python",
   "pygments_lexer": "ipython2",
   "version": "2.7.6"
  }
 },
 "nbformat": 4,
 "nbformat_minor": 0
}