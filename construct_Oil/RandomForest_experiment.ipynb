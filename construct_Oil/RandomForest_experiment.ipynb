{
 "cells": [
  {
   "cell_type": "code",
   "execution_count": 1,
   "outputs": [],
   "source": [
    "import pandas as pd\n",
    "import numpy as np\n",
    "import seaborn as sns\n",
    "import matplotlib.pyplot as plt\n",
    "from sklearn.model_selection import RandomizedSearchCV\n",
    "import matplotlib.font_manager as fm\n",
    "from sklearn.model_selection import train_test_split\n",
    "from sklearn.ensemble import RandomForestClassifier"
   ],
   "metadata": {
    "collapsed": false,
    "pycharm": {
     "name": "#%%\n"
    }
   }
  },
  {
   "cell_type": "code",
   "execution_count": 2,
   "outputs": [],
   "source": [
    "plt.rc('font', family='NanumBarunGothic')\n",
    "font_location = 'C:/Windows/Fonts/MALGUNSL.TTF' # for windows\n",
    "font_name = fm.FontProperties(fname=font_location).get_name()\n",
    "plt.rc('font', family=font_name)"
   ],
   "metadata": {
    "collapsed": false,
    "pycharm": {
     "name": "#%%\n"
    }
   }
  },
  {
   "cell_type": "code",
   "execution_count": 3,
   "outputs": [],
   "source": [
    "%matplotlib inline\n",
    "import matplotlib as mpl\n",
    "mpl.rc('axes',labelsize = 16)\n",
    "mpl.rc('xtick',labelsize = 12)\n",
    "mpl.rc('ytick',labelsize = 12)"
   ],
   "metadata": {
    "collapsed": false,
    "pycharm": {
     "name": "#%%\n"
    }
   }
  },
  {
   "cell_type": "code",
   "execution_count": 4,
   "outputs": [],
   "source": [
    "train = pd.read_csv(r'C:\\Users\\yoon9\\PycharmProjects\\Sejong_Project\\data\\construct_Oil_data\\train.csv',encoding = 'cp949')\n",
    "test = pd.read_csv(r'C:\\Users\\yoon9\\PycharmProjects\\Sejong_Project\\data\\construct_Oil_data\\test.csv',encoding = 'cp949')"
   ],
   "metadata": {
    "collapsed": false,
    "pycharm": {
     "name": "#%%\n"
    }
   }
  },
  {
   "cell_type": "code",
   "execution_count": 5,
   "outputs": [],
   "source": [
    "test = test.rename(columns={'ANONYMOUS_1' : '수치형데이터1','ANONYMOUS_2' : '수치형데이터2','COMPONENT_ARBITRARY':'샘플오일관련부품','AG':'은','CO':'일산화탄소','CR':'크로뮴','CU':'구리','FE':'철','H2O':'물','MN':'망가니즈','MO':'몰리브데넘','NI':'니켈','TI':'타이타늄','V':'바나듐','ZN':'아연','PQINDEX':'입자 정량 지수','V40':'점도 40도','YEAR':'진단년도'})\n",
    "train = train.rename(columns={'ANONYMOUS_1' : '수치형데이터1','ANONYMOUS_2' : '수치형데이터2','COMPONENT_ARBITRARY':'샘플오일관련부품','AG':'은','CO':'일산화탄소','CR':'크로뮴','CU':'구리','FE':'철','H2O':'물','MN':'망가니즈','MO':'몰리브데넘','NI':'니켈','TI':'타이타늄','V':'바나듐','ZN':'아연','PQINDEX':'입자 정량 지수','V40':'점도 40도','YEAR':'진단년도'})"
   ],
   "metadata": {
    "collapsed": false,
    "pycharm": {
     "name": "#%%\n"
    }
   }
  },
  {
   "cell_type": "markdown",
   "source": [
    "## 결측치가 많은 컬럼 제거"
   ],
   "metadata": {
    "collapsed": false
   }
  },
  {
   "cell_type": "code",
   "execution_count": 6,
   "outputs": [],
   "source": [
    "drop_columns=['FH2O','FNOX','FOPTIMETHGLY','FOXID','FSO4','FTBN','FUEL','SOOTPERCENTAGE','U100','U75','U50','U25','U20','U14','U6','U4','V100']"
   ],
   "metadata": {
    "collapsed": false,
    "pycharm": {
     "name": "#%%\n"
    }
   }
  },
  {
   "cell_type": "code",
   "execution_count": 7,
   "outputs": [],
   "source": [
    "train = train.drop(columns=drop_columns)"
   ],
   "metadata": {
    "collapsed": false,
    "pycharm": {
     "name": "#%%\n"
    }
   }
  },
  {
   "cell_type": "code",
   "execution_count": 8,
   "outputs": [],
   "source": [
    "test_columns_list = test.columns"
   ],
   "metadata": {
    "collapsed": false,
    "pycharm": {
     "name": "#%%\n"
    }
   }
  },
  {
   "cell_type": "code",
   "execution_count": 9,
   "outputs": [
    {
     "data": {
      "text/plain": "0        0\n1        0\n2        1\n3        0\n4        0\n        ..\n14090    0\n14091    0\n14092    0\n14093    0\n14094    0\nName: Y_LABEL, Length: 14095, dtype: int64"
     },
     "execution_count": 9,
     "metadata": {},
     "output_type": "execute_result"
    }
   ],
   "source": [
    "train['Y_LABEL']"
   ],
   "metadata": {
    "collapsed": false,
    "pycharm": {
     "name": "#%%\n"
    }
   }
  },
  {
   "cell_type": "code",
   "execution_count": 10,
   "outputs": [
    {
     "data": {
      "text/plain": "                ID    샘플오일관련부품  수치형데이터1  진단년도  수치형데이터2  은  일산화탄소  크로뮴   구리  \\\n0      TRAIN_00000  COMPONENT3     1486  2011      200  0      0   13   78   \n1      TRAIN_00001  COMPONENT2     1350  2021      375  0      0    0   31   \n2      TRAIN_00002  COMPONENT2     2415  2015      200  0      0    1    2   \n3      TRAIN_00003  COMPONENT3     7389  2010      200  0      0    0    1   \n4      TRAIN_00004  COMPONENT3     3954  2015      200  0      0    0    0   \n...            ...         ...      ...   ...      ... ..    ...  ...  ...   \n14090  TRAIN_14090  COMPONENT3     1616  2014      200  0      0    0    3   \n14091  TRAIN_14091  COMPONENT1     2784  2013      200  0      0    0    2   \n14092  TRAIN_14092  COMPONENT3     1788  2008      550  0      0    4    7   \n14093  TRAIN_14093  COMPONENT2     2498  2009      550  0      0    0  170   \n14094  TRAIN_14094  COMPONENT2     1902  2012      200  0      0    0  110   \n\n         철    물  망가니즈  몰리브데넘  니켈  입자 정량 지수  타이타늄  바나듐  점도 40도    아연  \n0      888  0.0    16      1   6      8504     5    0   154.0    75  \n1        2  0.0     0      0   0        19     0    0    44.0   652  \n2        4  0.0     0      0   0        17     0    0    72.6   412  \n3       37  0.0     1      0   0        44     0    0   133.3     7  \n4       71  0.0     0      0   0       217     0    0   133.1   128  \n...    ...  ...   ...    ...  ..       ...   ...  ...     ...   ...  \n14090   23  0.0     0      0   0        35     0    0   135.4    16  \n14091   12  0.0     0    224   0         9     0    0   117.5  1408  \n14092  415  0.0     7     10   1       645     0    0    54.0  1301  \n14093   19  0.0     0      1   0        11     0    0    44.3   652  \n14094   10  0.0     0      0   0        81     2    0    47.0   612  \n\n[14095 rows x 19 columns]",
      "text/html": "<div>\n<style scoped>\n    .dataframe tbody tr th:only-of-type {\n        vertical-align: middle;\n    }\n\n    .dataframe tbody tr th {\n        vertical-align: top;\n    }\n\n    .dataframe thead th {\n        text-align: right;\n    }\n</style>\n<table border=\"1\" class=\"dataframe\">\n  <thead>\n    <tr style=\"text-align: right;\">\n      <th></th>\n      <th>ID</th>\n      <th>샘플오일관련부품</th>\n      <th>수치형데이터1</th>\n      <th>진단년도</th>\n      <th>수치형데이터2</th>\n      <th>은</th>\n      <th>일산화탄소</th>\n      <th>크로뮴</th>\n      <th>구리</th>\n      <th>철</th>\n      <th>물</th>\n      <th>망가니즈</th>\n      <th>몰리브데넘</th>\n      <th>니켈</th>\n      <th>입자 정량 지수</th>\n      <th>타이타늄</th>\n      <th>바나듐</th>\n      <th>점도 40도</th>\n      <th>아연</th>\n    </tr>\n  </thead>\n  <tbody>\n    <tr>\n      <th>0</th>\n      <td>TRAIN_00000</td>\n      <td>COMPONENT3</td>\n      <td>1486</td>\n      <td>2011</td>\n      <td>200</td>\n      <td>0</td>\n      <td>0</td>\n      <td>13</td>\n      <td>78</td>\n      <td>888</td>\n      <td>0.0</td>\n      <td>16</td>\n      <td>1</td>\n      <td>6</td>\n      <td>8504</td>\n      <td>5</td>\n      <td>0</td>\n      <td>154.0</td>\n      <td>75</td>\n    </tr>\n    <tr>\n      <th>1</th>\n      <td>TRAIN_00001</td>\n      <td>COMPONENT2</td>\n      <td>1350</td>\n      <td>2021</td>\n      <td>375</td>\n      <td>0</td>\n      <td>0</td>\n      <td>0</td>\n      <td>31</td>\n      <td>2</td>\n      <td>0.0</td>\n      <td>0</td>\n      <td>0</td>\n      <td>0</td>\n      <td>19</td>\n      <td>0</td>\n      <td>0</td>\n      <td>44.0</td>\n      <td>652</td>\n    </tr>\n    <tr>\n      <th>2</th>\n      <td>TRAIN_00002</td>\n      <td>COMPONENT2</td>\n      <td>2415</td>\n      <td>2015</td>\n      <td>200</td>\n      <td>0</td>\n      <td>0</td>\n      <td>1</td>\n      <td>2</td>\n      <td>4</td>\n      <td>0.0</td>\n      <td>0</td>\n      <td>0</td>\n      <td>0</td>\n      <td>17</td>\n      <td>0</td>\n      <td>0</td>\n      <td>72.6</td>\n      <td>412</td>\n    </tr>\n    <tr>\n      <th>3</th>\n      <td>TRAIN_00003</td>\n      <td>COMPONENT3</td>\n      <td>7389</td>\n      <td>2010</td>\n      <td>200</td>\n      <td>0</td>\n      <td>0</td>\n      <td>0</td>\n      <td>1</td>\n      <td>37</td>\n      <td>0.0</td>\n      <td>1</td>\n      <td>0</td>\n      <td>0</td>\n      <td>44</td>\n      <td>0</td>\n      <td>0</td>\n      <td>133.3</td>\n      <td>7</td>\n    </tr>\n    <tr>\n      <th>4</th>\n      <td>TRAIN_00004</td>\n      <td>COMPONENT3</td>\n      <td>3954</td>\n      <td>2015</td>\n      <td>200</td>\n      <td>0</td>\n      <td>0</td>\n      <td>0</td>\n      <td>0</td>\n      <td>71</td>\n      <td>0.0</td>\n      <td>0</td>\n      <td>0</td>\n      <td>0</td>\n      <td>217</td>\n      <td>0</td>\n      <td>0</td>\n      <td>133.1</td>\n      <td>128</td>\n    </tr>\n    <tr>\n      <th>...</th>\n      <td>...</td>\n      <td>...</td>\n      <td>...</td>\n      <td>...</td>\n      <td>...</td>\n      <td>...</td>\n      <td>...</td>\n      <td>...</td>\n      <td>...</td>\n      <td>...</td>\n      <td>...</td>\n      <td>...</td>\n      <td>...</td>\n      <td>...</td>\n      <td>...</td>\n      <td>...</td>\n      <td>...</td>\n      <td>...</td>\n      <td>...</td>\n    </tr>\n    <tr>\n      <th>14090</th>\n      <td>TRAIN_14090</td>\n      <td>COMPONENT3</td>\n      <td>1616</td>\n      <td>2014</td>\n      <td>200</td>\n      <td>0</td>\n      <td>0</td>\n      <td>0</td>\n      <td>3</td>\n      <td>23</td>\n      <td>0.0</td>\n      <td>0</td>\n      <td>0</td>\n      <td>0</td>\n      <td>35</td>\n      <td>0</td>\n      <td>0</td>\n      <td>135.4</td>\n      <td>16</td>\n    </tr>\n    <tr>\n      <th>14091</th>\n      <td>TRAIN_14091</td>\n      <td>COMPONENT1</td>\n      <td>2784</td>\n      <td>2013</td>\n      <td>200</td>\n      <td>0</td>\n      <td>0</td>\n      <td>0</td>\n      <td>2</td>\n      <td>12</td>\n      <td>0.0</td>\n      <td>0</td>\n      <td>224</td>\n      <td>0</td>\n      <td>9</td>\n      <td>0</td>\n      <td>0</td>\n      <td>117.5</td>\n      <td>1408</td>\n    </tr>\n    <tr>\n      <th>14092</th>\n      <td>TRAIN_14092</td>\n      <td>COMPONENT3</td>\n      <td>1788</td>\n      <td>2008</td>\n      <td>550</td>\n      <td>0</td>\n      <td>0</td>\n      <td>4</td>\n      <td>7</td>\n      <td>415</td>\n      <td>0.0</td>\n      <td>7</td>\n      <td>10</td>\n      <td>1</td>\n      <td>645</td>\n      <td>0</td>\n      <td>0</td>\n      <td>54.0</td>\n      <td>1301</td>\n    </tr>\n    <tr>\n      <th>14093</th>\n      <td>TRAIN_14093</td>\n      <td>COMPONENT2</td>\n      <td>2498</td>\n      <td>2009</td>\n      <td>550</td>\n      <td>0</td>\n      <td>0</td>\n      <td>0</td>\n      <td>170</td>\n      <td>19</td>\n      <td>0.0</td>\n      <td>0</td>\n      <td>1</td>\n      <td>0</td>\n      <td>11</td>\n      <td>0</td>\n      <td>0</td>\n      <td>44.3</td>\n      <td>652</td>\n    </tr>\n    <tr>\n      <th>14094</th>\n      <td>TRAIN_14094</td>\n      <td>COMPONENT2</td>\n      <td>1902</td>\n      <td>2012</td>\n      <td>200</td>\n      <td>0</td>\n      <td>0</td>\n      <td>0</td>\n      <td>110</td>\n      <td>10</td>\n      <td>0.0</td>\n      <td>0</td>\n      <td>0</td>\n      <td>0</td>\n      <td>81</td>\n      <td>2</td>\n      <td>0</td>\n      <td>47.0</td>\n      <td>612</td>\n    </tr>\n  </tbody>\n</table>\n<p>14095 rows × 19 columns</p>\n</div>"
     },
     "execution_count": 10,
     "metadata": {},
     "output_type": "execute_result"
    }
   ],
   "source": [
    "train[test_columns_list]"
   ],
   "metadata": {
    "collapsed": false,
    "pycharm": {
     "name": "#%%\n"
    }
   }
  },
  {
   "cell_type": "code",
   "execution_count": 11,
   "outputs": [],
   "source": [
    "train_test_col = train[test_columns_list]"
   ],
   "metadata": {
    "collapsed": false,
    "pycharm": {
     "name": "#%%\n"
    }
   }
  },
  {
   "cell_type": "code",
   "execution_count": 12,
   "outputs": [
    {
     "data": {
      "text/plain": "                ID    샘플오일관련부품  수치형데이터1  진단년도  수치형데이터2  은  일산화탄소  크로뮴   구리  \\\n0      TRAIN_00000  COMPONENT3     1486  2011      200  0      0   13   78   \n1      TRAIN_00001  COMPONENT2     1350  2021      375  0      0    0   31   \n2      TRAIN_00002  COMPONENT2     2415  2015      200  0      0    1    2   \n3      TRAIN_00003  COMPONENT3     7389  2010      200  0      0    0    1   \n4      TRAIN_00004  COMPONENT3     3954  2015      200  0      0    0    0   \n...            ...         ...      ...   ...      ... ..    ...  ...  ...   \n14090  TRAIN_14090  COMPONENT3     1616  2014      200  0      0    0    3   \n14091  TRAIN_14091  COMPONENT1     2784  2013      200  0      0    0    2   \n14092  TRAIN_14092  COMPONENT3     1788  2008      550  0      0    4    7   \n14093  TRAIN_14093  COMPONENT2     2498  2009      550  0      0    0  170   \n14094  TRAIN_14094  COMPONENT2     1902  2012      200  0      0    0  110   \n\n         철    물  망가니즈  몰리브데넘  니켈  입자 정량 지수  타이타늄  바나듐  점도 40도    아연  \n0      888  0.0    16      1   6      8504     5    0   154.0    75  \n1        2  0.0     0      0   0        19     0    0    44.0   652  \n2        4  0.0     0      0   0        17     0    0    72.6   412  \n3       37  0.0     1      0   0        44     0    0   133.3     7  \n4       71  0.0     0      0   0       217     0    0   133.1   128  \n...    ...  ...   ...    ...  ..       ...   ...  ...     ...   ...  \n14090   23  0.0     0      0   0        35     0    0   135.4    16  \n14091   12  0.0     0    224   0         9     0    0   117.5  1408  \n14092  415  0.0     7     10   1       645     0    0    54.0  1301  \n14093   19  0.0     0      1   0        11     0    0    44.3   652  \n14094   10  0.0     0      0   0        81     2    0    47.0   612  \n\n[14095 rows x 19 columns]",
      "text/html": "<div>\n<style scoped>\n    .dataframe tbody tr th:only-of-type {\n        vertical-align: middle;\n    }\n\n    .dataframe tbody tr th {\n        vertical-align: top;\n    }\n\n    .dataframe thead th {\n        text-align: right;\n    }\n</style>\n<table border=\"1\" class=\"dataframe\">\n  <thead>\n    <tr style=\"text-align: right;\">\n      <th></th>\n      <th>ID</th>\n      <th>샘플오일관련부품</th>\n      <th>수치형데이터1</th>\n      <th>진단년도</th>\n      <th>수치형데이터2</th>\n      <th>은</th>\n      <th>일산화탄소</th>\n      <th>크로뮴</th>\n      <th>구리</th>\n      <th>철</th>\n      <th>물</th>\n      <th>망가니즈</th>\n      <th>몰리브데넘</th>\n      <th>니켈</th>\n      <th>입자 정량 지수</th>\n      <th>타이타늄</th>\n      <th>바나듐</th>\n      <th>점도 40도</th>\n      <th>아연</th>\n    </tr>\n  </thead>\n  <tbody>\n    <tr>\n      <th>0</th>\n      <td>TRAIN_00000</td>\n      <td>COMPONENT3</td>\n      <td>1486</td>\n      <td>2011</td>\n      <td>200</td>\n      <td>0</td>\n      <td>0</td>\n      <td>13</td>\n      <td>78</td>\n      <td>888</td>\n      <td>0.0</td>\n      <td>16</td>\n      <td>1</td>\n      <td>6</td>\n      <td>8504</td>\n      <td>5</td>\n      <td>0</td>\n      <td>154.0</td>\n      <td>75</td>\n    </tr>\n    <tr>\n      <th>1</th>\n      <td>TRAIN_00001</td>\n      <td>COMPONENT2</td>\n      <td>1350</td>\n      <td>2021</td>\n      <td>375</td>\n      <td>0</td>\n      <td>0</td>\n      <td>0</td>\n      <td>31</td>\n      <td>2</td>\n      <td>0.0</td>\n      <td>0</td>\n      <td>0</td>\n      <td>0</td>\n      <td>19</td>\n      <td>0</td>\n      <td>0</td>\n      <td>44.0</td>\n      <td>652</td>\n    </tr>\n    <tr>\n      <th>2</th>\n      <td>TRAIN_00002</td>\n      <td>COMPONENT2</td>\n      <td>2415</td>\n      <td>2015</td>\n      <td>200</td>\n      <td>0</td>\n      <td>0</td>\n      <td>1</td>\n      <td>2</td>\n      <td>4</td>\n      <td>0.0</td>\n      <td>0</td>\n      <td>0</td>\n      <td>0</td>\n      <td>17</td>\n      <td>0</td>\n      <td>0</td>\n      <td>72.6</td>\n      <td>412</td>\n    </tr>\n    <tr>\n      <th>3</th>\n      <td>TRAIN_00003</td>\n      <td>COMPONENT3</td>\n      <td>7389</td>\n      <td>2010</td>\n      <td>200</td>\n      <td>0</td>\n      <td>0</td>\n      <td>0</td>\n      <td>1</td>\n      <td>37</td>\n      <td>0.0</td>\n      <td>1</td>\n      <td>0</td>\n      <td>0</td>\n      <td>44</td>\n      <td>0</td>\n      <td>0</td>\n      <td>133.3</td>\n      <td>7</td>\n    </tr>\n    <tr>\n      <th>4</th>\n      <td>TRAIN_00004</td>\n      <td>COMPONENT3</td>\n      <td>3954</td>\n      <td>2015</td>\n      <td>200</td>\n      <td>0</td>\n      <td>0</td>\n      <td>0</td>\n      <td>0</td>\n      <td>71</td>\n      <td>0.0</td>\n      <td>0</td>\n      <td>0</td>\n      <td>0</td>\n      <td>217</td>\n      <td>0</td>\n      <td>0</td>\n      <td>133.1</td>\n      <td>128</td>\n    </tr>\n    <tr>\n      <th>...</th>\n      <td>...</td>\n      <td>...</td>\n      <td>...</td>\n      <td>...</td>\n      <td>...</td>\n      <td>...</td>\n      <td>...</td>\n      <td>...</td>\n      <td>...</td>\n      <td>...</td>\n      <td>...</td>\n      <td>...</td>\n      <td>...</td>\n      <td>...</td>\n      <td>...</td>\n      <td>...</td>\n      <td>...</td>\n      <td>...</td>\n      <td>...</td>\n    </tr>\n    <tr>\n      <th>14090</th>\n      <td>TRAIN_14090</td>\n      <td>COMPONENT3</td>\n      <td>1616</td>\n      <td>2014</td>\n      <td>200</td>\n      <td>0</td>\n      <td>0</td>\n      <td>0</td>\n      <td>3</td>\n      <td>23</td>\n      <td>0.0</td>\n      <td>0</td>\n      <td>0</td>\n      <td>0</td>\n      <td>35</td>\n      <td>0</td>\n      <td>0</td>\n      <td>135.4</td>\n      <td>16</td>\n    </tr>\n    <tr>\n      <th>14091</th>\n      <td>TRAIN_14091</td>\n      <td>COMPONENT1</td>\n      <td>2784</td>\n      <td>2013</td>\n      <td>200</td>\n      <td>0</td>\n      <td>0</td>\n      <td>0</td>\n      <td>2</td>\n      <td>12</td>\n      <td>0.0</td>\n      <td>0</td>\n      <td>224</td>\n      <td>0</td>\n      <td>9</td>\n      <td>0</td>\n      <td>0</td>\n      <td>117.5</td>\n      <td>1408</td>\n    </tr>\n    <tr>\n      <th>14092</th>\n      <td>TRAIN_14092</td>\n      <td>COMPONENT3</td>\n      <td>1788</td>\n      <td>2008</td>\n      <td>550</td>\n      <td>0</td>\n      <td>0</td>\n      <td>4</td>\n      <td>7</td>\n      <td>415</td>\n      <td>0.0</td>\n      <td>7</td>\n      <td>10</td>\n      <td>1</td>\n      <td>645</td>\n      <td>0</td>\n      <td>0</td>\n      <td>54.0</td>\n      <td>1301</td>\n    </tr>\n    <tr>\n      <th>14093</th>\n      <td>TRAIN_14093</td>\n      <td>COMPONENT2</td>\n      <td>2498</td>\n      <td>2009</td>\n      <td>550</td>\n      <td>0</td>\n      <td>0</td>\n      <td>0</td>\n      <td>170</td>\n      <td>19</td>\n      <td>0.0</td>\n      <td>0</td>\n      <td>1</td>\n      <td>0</td>\n      <td>11</td>\n      <td>0</td>\n      <td>0</td>\n      <td>44.3</td>\n      <td>652</td>\n    </tr>\n    <tr>\n      <th>14094</th>\n      <td>TRAIN_14094</td>\n      <td>COMPONENT2</td>\n      <td>1902</td>\n      <td>2012</td>\n      <td>200</td>\n      <td>0</td>\n      <td>0</td>\n      <td>0</td>\n      <td>110</td>\n      <td>10</td>\n      <td>0.0</td>\n      <td>0</td>\n      <td>0</td>\n      <td>0</td>\n      <td>81</td>\n      <td>2</td>\n      <td>0</td>\n      <td>47.0</td>\n      <td>612</td>\n    </tr>\n  </tbody>\n</table>\n<p>14095 rows × 19 columns</p>\n</div>"
     },
     "execution_count": 12,
     "metadata": {},
     "output_type": "execute_result"
    }
   ],
   "source": [
    "train_test_col"
   ],
   "metadata": {
    "collapsed": false,
    "pycharm": {
     "name": "#%%\n"
    }
   }
  },
  {
   "cell_type": "code",
   "execution_count": 13,
   "outputs": [
    {
     "data": {
      "text/plain": "             ID    샘플오일관련부품  수치형데이터1  진단년도  수치형데이터2  은  일산화탄소  크로뮴   구리     철  \\\n0     TEST_0000  COMPONENT1     2192  2016      200  0      0    0    1    12   \n1     TEST_0001  COMPONENT3     2794  2011      200  0      0    2    1   278   \n2     TEST_0002  COMPONENT2     1982  2010      200  0      0    0   16     5   \n3     TEST_0003  COMPONENT3     1404  2009      200  0      0    3    4   163   \n4     TEST_0004  COMPONENT2     8225  2013      200  0      0    0    6    13   \n...         ...         ...      ...   ...      ... ..    ...  ...  ...   ...   \n6036  TEST_6036  COMPONENT3     1714  2014      200  0      0    3  130  1047   \n6037  TEST_6037  COMPONENT3     4131  2016      200  0      0    5    2   736   \n6038  TEST_6038  COMPONENT3     4325  2014      200  0      0    0    0    53   \n6039  TEST_6039  COMPONENT2     1364  2013      200  0      0    0   62     2   \n6040  TEST_6040  COMPONENT1     2397  2016     1597  1      0    0    0     4   \n\n        물  망가니즈  몰리브데넘  니켈  입자 정량 지수  타이타늄  바나듐  점도 40도    아연  \n0     0.0     0      0   0        10     0    0    91.3  1091  \n1     0.0     3      0   0      2732     1    0   126.9    12  \n2     0.0     0      0   0        11     0    0    44.3   714  \n3     0.0     4      3   0      8007     0    0   142.8    94  \n4     0.0     0      0   0        16     0    0    63.4   469  \n...   ...   ...    ...  ..       ...   ...  ...     ...   ...  \n6036  0.0    65      5   2      1999     0    0    71.2  1163  \n6037  0.0     5      0   0       693     0    0   137.8    13  \n6038  0.0     0      0   0        69     0    0   302.2    13  \n6039  0.0     0      0   0         5     0    0    51.1   478  \n6040  0.0     0      2   0        14     0    0    80.0   970  \n\n[6041 rows x 19 columns]",
      "text/html": "<div>\n<style scoped>\n    .dataframe tbody tr th:only-of-type {\n        vertical-align: middle;\n    }\n\n    .dataframe tbody tr th {\n        vertical-align: top;\n    }\n\n    .dataframe thead th {\n        text-align: right;\n    }\n</style>\n<table border=\"1\" class=\"dataframe\">\n  <thead>\n    <tr style=\"text-align: right;\">\n      <th></th>\n      <th>ID</th>\n      <th>샘플오일관련부품</th>\n      <th>수치형데이터1</th>\n      <th>진단년도</th>\n      <th>수치형데이터2</th>\n      <th>은</th>\n      <th>일산화탄소</th>\n      <th>크로뮴</th>\n      <th>구리</th>\n      <th>철</th>\n      <th>물</th>\n      <th>망가니즈</th>\n      <th>몰리브데넘</th>\n      <th>니켈</th>\n      <th>입자 정량 지수</th>\n      <th>타이타늄</th>\n      <th>바나듐</th>\n      <th>점도 40도</th>\n      <th>아연</th>\n    </tr>\n  </thead>\n  <tbody>\n    <tr>\n      <th>0</th>\n      <td>TEST_0000</td>\n      <td>COMPONENT1</td>\n      <td>2192</td>\n      <td>2016</td>\n      <td>200</td>\n      <td>0</td>\n      <td>0</td>\n      <td>0</td>\n      <td>1</td>\n      <td>12</td>\n      <td>0.0</td>\n      <td>0</td>\n      <td>0</td>\n      <td>0</td>\n      <td>10</td>\n      <td>0</td>\n      <td>0</td>\n      <td>91.3</td>\n      <td>1091</td>\n    </tr>\n    <tr>\n      <th>1</th>\n      <td>TEST_0001</td>\n      <td>COMPONENT3</td>\n      <td>2794</td>\n      <td>2011</td>\n      <td>200</td>\n      <td>0</td>\n      <td>0</td>\n      <td>2</td>\n      <td>1</td>\n      <td>278</td>\n      <td>0.0</td>\n      <td>3</td>\n      <td>0</td>\n      <td>0</td>\n      <td>2732</td>\n      <td>1</td>\n      <td>0</td>\n      <td>126.9</td>\n      <td>12</td>\n    </tr>\n    <tr>\n      <th>2</th>\n      <td>TEST_0002</td>\n      <td>COMPONENT2</td>\n      <td>1982</td>\n      <td>2010</td>\n      <td>200</td>\n      <td>0</td>\n      <td>0</td>\n      <td>0</td>\n      <td>16</td>\n      <td>5</td>\n      <td>0.0</td>\n      <td>0</td>\n      <td>0</td>\n      <td>0</td>\n      <td>11</td>\n      <td>0</td>\n      <td>0</td>\n      <td>44.3</td>\n      <td>714</td>\n    </tr>\n    <tr>\n      <th>3</th>\n      <td>TEST_0003</td>\n      <td>COMPONENT3</td>\n      <td>1404</td>\n      <td>2009</td>\n      <td>200</td>\n      <td>0</td>\n      <td>0</td>\n      <td>3</td>\n      <td>4</td>\n      <td>163</td>\n      <td>0.0</td>\n      <td>4</td>\n      <td>3</td>\n      <td>0</td>\n      <td>8007</td>\n      <td>0</td>\n      <td>0</td>\n      <td>142.8</td>\n      <td>94</td>\n    </tr>\n    <tr>\n      <th>4</th>\n      <td>TEST_0004</td>\n      <td>COMPONENT2</td>\n      <td>8225</td>\n      <td>2013</td>\n      <td>200</td>\n      <td>0</td>\n      <td>0</td>\n      <td>0</td>\n      <td>6</td>\n      <td>13</td>\n      <td>0.0</td>\n      <td>0</td>\n      <td>0</td>\n      <td>0</td>\n      <td>16</td>\n      <td>0</td>\n      <td>0</td>\n      <td>63.4</td>\n      <td>469</td>\n    </tr>\n    <tr>\n      <th>...</th>\n      <td>...</td>\n      <td>...</td>\n      <td>...</td>\n      <td>...</td>\n      <td>...</td>\n      <td>...</td>\n      <td>...</td>\n      <td>...</td>\n      <td>...</td>\n      <td>...</td>\n      <td>...</td>\n      <td>...</td>\n      <td>...</td>\n      <td>...</td>\n      <td>...</td>\n      <td>...</td>\n      <td>...</td>\n      <td>...</td>\n      <td>...</td>\n    </tr>\n    <tr>\n      <th>6036</th>\n      <td>TEST_6036</td>\n      <td>COMPONENT3</td>\n      <td>1714</td>\n      <td>2014</td>\n      <td>200</td>\n      <td>0</td>\n      <td>0</td>\n      <td>3</td>\n      <td>130</td>\n      <td>1047</td>\n      <td>0.0</td>\n      <td>65</td>\n      <td>5</td>\n      <td>2</td>\n      <td>1999</td>\n      <td>0</td>\n      <td>0</td>\n      <td>71.2</td>\n      <td>1163</td>\n    </tr>\n    <tr>\n      <th>6037</th>\n      <td>TEST_6037</td>\n      <td>COMPONENT3</td>\n      <td>4131</td>\n      <td>2016</td>\n      <td>200</td>\n      <td>0</td>\n      <td>0</td>\n      <td>5</td>\n      <td>2</td>\n      <td>736</td>\n      <td>0.0</td>\n      <td>5</td>\n      <td>0</td>\n      <td>0</td>\n      <td>693</td>\n      <td>0</td>\n      <td>0</td>\n      <td>137.8</td>\n      <td>13</td>\n    </tr>\n    <tr>\n      <th>6038</th>\n      <td>TEST_6038</td>\n      <td>COMPONENT3</td>\n      <td>4325</td>\n      <td>2014</td>\n      <td>200</td>\n      <td>0</td>\n      <td>0</td>\n      <td>0</td>\n      <td>0</td>\n      <td>53</td>\n      <td>0.0</td>\n      <td>0</td>\n      <td>0</td>\n      <td>0</td>\n      <td>69</td>\n      <td>0</td>\n      <td>0</td>\n      <td>302.2</td>\n      <td>13</td>\n    </tr>\n    <tr>\n      <th>6039</th>\n      <td>TEST_6039</td>\n      <td>COMPONENT2</td>\n      <td>1364</td>\n      <td>2013</td>\n      <td>200</td>\n      <td>0</td>\n      <td>0</td>\n      <td>0</td>\n      <td>62</td>\n      <td>2</td>\n      <td>0.0</td>\n      <td>0</td>\n      <td>0</td>\n      <td>0</td>\n      <td>5</td>\n      <td>0</td>\n      <td>0</td>\n      <td>51.1</td>\n      <td>478</td>\n    </tr>\n    <tr>\n      <th>6040</th>\n      <td>TEST_6040</td>\n      <td>COMPONENT1</td>\n      <td>2397</td>\n      <td>2016</td>\n      <td>1597</td>\n      <td>1</td>\n      <td>0</td>\n      <td>0</td>\n      <td>0</td>\n      <td>4</td>\n      <td>0.0</td>\n      <td>0</td>\n      <td>2</td>\n      <td>0</td>\n      <td>14</td>\n      <td>0</td>\n      <td>0</td>\n      <td>80.0</td>\n      <td>970</td>\n    </tr>\n  </tbody>\n</table>\n<p>6041 rows × 19 columns</p>\n</div>"
     },
     "execution_count": 13,
     "metadata": {},
     "output_type": "execute_result"
    }
   ],
   "source": [
    "test"
   ],
   "metadata": {
    "collapsed": false,
    "pycharm": {
     "name": "#%%\n"
    }
   }
  },
  {
   "cell_type": "code",
   "execution_count": 14,
   "outputs": [
    {
     "data": {
      "text/plain": "               ID    샘플오일관련부품  수치형데이터1  진단년도  수치형데이터2  은  일산화탄소  크로뮴   구리  \\\n0     TRAIN_00000  COMPONENT3     1486  2011      200  0      0   13   78   \n1     TRAIN_00001  COMPONENT2     1350  2021      375  0      0    0   31   \n2     TRAIN_00002  COMPONENT2     2415  2015      200  0      0    1    2   \n3     TRAIN_00003  COMPONENT3     7389  2010      200  0      0    0    1   \n4     TRAIN_00004  COMPONENT3     3954  2015      200  0      0    0    0   \n...           ...         ...      ...   ...      ... ..    ...  ...  ...   \n6036    TEST_6036  COMPONENT3     1714  2014      200  0      0    3  130   \n6037    TEST_6037  COMPONENT3     4131  2016      200  0      0    5    2   \n6038    TEST_6038  COMPONENT3     4325  2014      200  0      0    0    0   \n6039    TEST_6039  COMPONENT2     1364  2013      200  0      0    0   62   \n6040    TEST_6040  COMPONENT1     2397  2016     1597  1      0    0    0   \n\n         철    물  망가니즈  몰리브데넘  니켈  입자 정량 지수  타이타늄  바나듐  점도 40도    아연  \n0      888  0.0    16      1   6      8504     5    0   154.0    75  \n1        2  0.0     0      0   0        19     0    0    44.0   652  \n2        4  0.0     0      0   0        17     0    0    72.6   412  \n3       37  0.0     1      0   0        44     0    0   133.3     7  \n4       71  0.0     0      0   0       217     0    0   133.1   128  \n...    ...  ...   ...    ...  ..       ...   ...  ...     ...   ...  \n6036  1047  0.0    65      5   2      1999     0    0    71.2  1163  \n6037   736  0.0     5      0   0       693     0    0   137.8    13  \n6038    53  0.0     0      0   0        69     0    0   302.2    13  \n6039     2  0.0     0      0   0         5     0    0    51.1   478  \n6040     4  0.0     0      2   0        14     0    0    80.0   970  \n\n[20136 rows x 19 columns]",
      "text/html": "<div>\n<style scoped>\n    .dataframe tbody tr th:only-of-type {\n        vertical-align: middle;\n    }\n\n    .dataframe tbody tr th {\n        vertical-align: top;\n    }\n\n    .dataframe thead th {\n        text-align: right;\n    }\n</style>\n<table border=\"1\" class=\"dataframe\">\n  <thead>\n    <tr style=\"text-align: right;\">\n      <th></th>\n      <th>ID</th>\n      <th>샘플오일관련부품</th>\n      <th>수치형데이터1</th>\n      <th>진단년도</th>\n      <th>수치형데이터2</th>\n      <th>은</th>\n      <th>일산화탄소</th>\n      <th>크로뮴</th>\n      <th>구리</th>\n      <th>철</th>\n      <th>물</th>\n      <th>망가니즈</th>\n      <th>몰리브데넘</th>\n      <th>니켈</th>\n      <th>입자 정량 지수</th>\n      <th>타이타늄</th>\n      <th>바나듐</th>\n      <th>점도 40도</th>\n      <th>아연</th>\n    </tr>\n  </thead>\n  <tbody>\n    <tr>\n      <th>0</th>\n      <td>TRAIN_00000</td>\n      <td>COMPONENT3</td>\n      <td>1486</td>\n      <td>2011</td>\n      <td>200</td>\n      <td>0</td>\n      <td>0</td>\n      <td>13</td>\n      <td>78</td>\n      <td>888</td>\n      <td>0.0</td>\n      <td>16</td>\n      <td>1</td>\n      <td>6</td>\n      <td>8504</td>\n      <td>5</td>\n      <td>0</td>\n      <td>154.0</td>\n      <td>75</td>\n    </tr>\n    <tr>\n      <th>1</th>\n      <td>TRAIN_00001</td>\n      <td>COMPONENT2</td>\n      <td>1350</td>\n      <td>2021</td>\n      <td>375</td>\n      <td>0</td>\n      <td>0</td>\n      <td>0</td>\n      <td>31</td>\n      <td>2</td>\n      <td>0.0</td>\n      <td>0</td>\n      <td>0</td>\n      <td>0</td>\n      <td>19</td>\n      <td>0</td>\n      <td>0</td>\n      <td>44.0</td>\n      <td>652</td>\n    </tr>\n    <tr>\n      <th>2</th>\n      <td>TRAIN_00002</td>\n      <td>COMPONENT2</td>\n      <td>2415</td>\n      <td>2015</td>\n      <td>200</td>\n      <td>0</td>\n      <td>0</td>\n      <td>1</td>\n      <td>2</td>\n      <td>4</td>\n      <td>0.0</td>\n      <td>0</td>\n      <td>0</td>\n      <td>0</td>\n      <td>17</td>\n      <td>0</td>\n      <td>0</td>\n      <td>72.6</td>\n      <td>412</td>\n    </tr>\n    <tr>\n      <th>3</th>\n      <td>TRAIN_00003</td>\n      <td>COMPONENT3</td>\n      <td>7389</td>\n      <td>2010</td>\n      <td>200</td>\n      <td>0</td>\n      <td>0</td>\n      <td>0</td>\n      <td>1</td>\n      <td>37</td>\n      <td>0.0</td>\n      <td>1</td>\n      <td>0</td>\n      <td>0</td>\n      <td>44</td>\n      <td>0</td>\n      <td>0</td>\n      <td>133.3</td>\n      <td>7</td>\n    </tr>\n    <tr>\n      <th>4</th>\n      <td>TRAIN_00004</td>\n      <td>COMPONENT3</td>\n      <td>3954</td>\n      <td>2015</td>\n      <td>200</td>\n      <td>0</td>\n      <td>0</td>\n      <td>0</td>\n      <td>0</td>\n      <td>71</td>\n      <td>0.0</td>\n      <td>0</td>\n      <td>0</td>\n      <td>0</td>\n      <td>217</td>\n      <td>0</td>\n      <td>0</td>\n      <td>133.1</td>\n      <td>128</td>\n    </tr>\n    <tr>\n      <th>...</th>\n      <td>...</td>\n      <td>...</td>\n      <td>...</td>\n      <td>...</td>\n      <td>...</td>\n      <td>...</td>\n      <td>...</td>\n      <td>...</td>\n      <td>...</td>\n      <td>...</td>\n      <td>...</td>\n      <td>...</td>\n      <td>...</td>\n      <td>...</td>\n      <td>...</td>\n      <td>...</td>\n      <td>...</td>\n      <td>...</td>\n      <td>...</td>\n    </tr>\n    <tr>\n      <th>6036</th>\n      <td>TEST_6036</td>\n      <td>COMPONENT3</td>\n      <td>1714</td>\n      <td>2014</td>\n      <td>200</td>\n      <td>0</td>\n      <td>0</td>\n      <td>3</td>\n      <td>130</td>\n      <td>1047</td>\n      <td>0.0</td>\n      <td>65</td>\n      <td>5</td>\n      <td>2</td>\n      <td>1999</td>\n      <td>0</td>\n      <td>0</td>\n      <td>71.2</td>\n      <td>1163</td>\n    </tr>\n    <tr>\n      <th>6037</th>\n      <td>TEST_6037</td>\n      <td>COMPONENT3</td>\n      <td>4131</td>\n      <td>2016</td>\n      <td>200</td>\n      <td>0</td>\n      <td>0</td>\n      <td>5</td>\n      <td>2</td>\n      <td>736</td>\n      <td>0.0</td>\n      <td>5</td>\n      <td>0</td>\n      <td>0</td>\n      <td>693</td>\n      <td>0</td>\n      <td>0</td>\n      <td>137.8</td>\n      <td>13</td>\n    </tr>\n    <tr>\n      <th>6038</th>\n      <td>TEST_6038</td>\n      <td>COMPONENT3</td>\n      <td>4325</td>\n      <td>2014</td>\n      <td>200</td>\n      <td>0</td>\n      <td>0</td>\n      <td>0</td>\n      <td>0</td>\n      <td>53</td>\n      <td>0.0</td>\n      <td>0</td>\n      <td>0</td>\n      <td>0</td>\n      <td>69</td>\n      <td>0</td>\n      <td>0</td>\n      <td>302.2</td>\n      <td>13</td>\n    </tr>\n    <tr>\n      <th>6039</th>\n      <td>TEST_6039</td>\n      <td>COMPONENT2</td>\n      <td>1364</td>\n      <td>2013</td>\n      <td>200</td>\n      <td>0</td>\n      <td>0</td>\n      <td>0</td>\n      <td>62</td>\n      <td>2</td>\n      <td>0.0</td>\n      <td>0</td>\n      <td>0</td>\n      <td>0</td>\n      <td>5</td>\n      <td>0</td>\n      <td>0</td>\n      <td>51.1</td>\n      <td>478</td>\n    </tr>\n    <tr>\n      <th>6040</th>\n      <td>TEST_6040</td>\n      <td>COMPONENT1</td>\n      <td>2397</td>\n      <td>2016</td>\n      <td>1597</td>\n      <td>1</td>\n      <td>0</td>\n      <td>0</td>\n      <td>0</td>\n      <td>4</td>\n      <td>0.0</td>\n      <td>0</td>\n      <td>2</td>\n      <td>0</td>\n      <td>14</td>\n      <td>0</td>\n      <td>0</td>\n      <td>80.0</td>\n      <td>970</td>\n    </tr>\n  </tbody>\n</table>\n<p>20136 rows × 19 columns</p>\n</div>"
     },
     "execution_count": 14,
     "metadata": {},
     "output_type": "execute_result"
    }
   ],
   "source": [
    "df = pd.concat([train_test_col,test])\n",
    "df"
   ],
   "metadata": {
    "collapsed": false,
    "pycharm": {
     "name": "#%%\n"
    }
   }
  },
  {
   "cell_type": "markdown",
   "source": [
    "# 피처 엔지니어링"
   ],
   "metadata": {
    "collapsed": false,
    "pycharm": {
     "name": "#%% md\n"
    }
   }
  },
  {
   "cell_type": "code",
   "execution_count": 15,
   "outputs": [],
   "source": [
    "from sklearn.preprocessing import StandardScaler # 스케일링 라이브러리\n",
    "from sklearn.preprocessing import OneHotEncoder\n",
    "from sklearn.preprocessing import OrdinalEncoder\n",
    "from sklearn.preprocessing import MinMaxScaler\n",
    "from sklearn.preprocessing import LabelEncoder\n",
    "from sklearn.preprocessing import RobustScaler"
   ],
   "metadata": {
    "collapsed": false,
    "pycharm": {
     "name": "#%%\n"
    }
   }
  },
  {
   "cell_type": "code",
   "execution_count": 16,
   "outputs": [],
   "source": [
    "num_attribss_list = df.drop(columns = ['ID','샘플오일관련부품']).columns"
   ],
   "metadata": {
    "collapsed": false,
    "pycharm": {
     "name": "#%%\n"
    }
   }
  },
  {
   "cell_type": "code",
   "execution_count": 17,
   "outputs": [],
   "source": [
    "num_attribss = df[num_attribss_list]\n",
    "cat_attribs = df[['샘플오일관련부품']]\n",
    "y = train['Y_LABEL']\n",
    "\n",
    "# 변수별 타입 나누기"
   ],
   "metadata": {
    "collapsed": false,
    "pycharm": {
     "name": "#%%\n"
    }
   }
  },
  {
   "cell_type": "code",
   "execution_count": 18,
   "outputs": [
    {
     "data": {
      "text/plain": "               ID    샘플오일관련부품  수치형데이터1  진단년도  수치형데이터2  은  일산화탄소  크로뮴   구리  \\\n0     TRAIN_00000  COMPONENT3     1486  2011      200  0      0   13   78   \n1     TRAIN_00001  COMPONENT2     1350  2021      375  0      0    0   31   \n2     TRAIN_00002  COMPONENT2     2415  2015      200  0      0    1    2   \n3     TRAIN_00003  COMPONENT3     7389  2010      200  0      0    0    1   \n4     TRAIN_00004  COMPONENT3     3954  2015      200  0      0    0    0   \n...           ...         ...      ...   ...      ... ..    ...  ...  ...   \n6036    TEST_6036  COMPONENT3     1714  2014      200  0      0    3  130   \n6037    TEST_6037  COMPONENT3     4131  2016      200  0      0    5    2   \n6038    TEST_6038  COMPONENT3     4325  2014      200  0      0    0    0   \n6039    TEST_6039  COMPONENT2     1364  2013      200  0      0    0   62   \n6040    TEST_6040  COMPONENT1     2397  2016     1597  1      0    0    0   \n\n         철    물  망가니즈  몰리브데넘  니켈  입자 정량 지수  타이타늄  바나듐  점도 40도    아연  \n0      888  0.0    16      1   6      8504     5    0   154.0    75  \n1        2  0.0     0      0   0        19     0    0    44.0   652  \n2        4  0.0     0      0   0        17     0    0    72.6   412  \n3       37  0.0     1      0   0        44     0    0   133.3     7  \n4       71  0.0     0      0   0       217     0    0   133.1   128  \n...    ...  ...   ...    ...  ..       ...   ...  ...     ...   ...  \n6036  1047  0.0    65      5   2      1999     0    0    71.2  1163  \n6037   736  0.0     5      0   0       693     0    0   137.8    13  \n6038    53  0.0     0      0   0        69     0    0   302.2    13  \n6039     2  0.0     0      0   0         5     0    0    51.1   478  \n6040     4  0.0     0      2   0        14     0    0    80.0   970  \n\n[20136 rows x 19 columns]",
      "text/html": "<div>\n<style scoped>\n    .dataframe tbody tr th:only-of-type {\n        vertical-align: middle;\n    }\n\n    .dataframe tbody tr th {\n        vertical-align: top;\n    }\n\n    .dataframe thead th {\n        text-align: right;\n    }\n</style>\n<table border=\"1\" class=\"dataframe\">\n  <thead>\n    <tr style=\"text-align: right;\">\n      <th></th>\n      <th>ID</th>\n      <th>샘플오일관련부품</th>\n      <th>수치형데이터1</th>\n      <th>진단년도</th>\n      <th>수치형데이터2</th>\n      <th>은</th>\n      <th>일산화탄소</th>\n      <th>크로뮴</th>\n      <th>구리</th>\n      <th>철</th>\n      <th>물</th>\n      <th>망가니즈</th>\n      <th>몰리브데넘</th>\n      <th>니켈</th>\n      <th>입자 정량 지수</th>\n      <th>타이타늄</th>\n      <th>바나듐</th>\n      <th>점도 40도</th>\n      <th>아연</th>\n    </tr>\n  </thead>\n  <tbody>\n    <tr>\n      <th>0</th>\n      <td>TRAIN_00000</td>\n      <td>COMPONENT3</td>\n      <td>1486</td>\n      <td>2011</td>\n      <td>200</td>\n      <td>0</td>\n      <td>0</td>\n      <td>13</td>\n      <td>78</td>\n      <td>888</td>\n      <td>0.0</td>\n      <td>16</td>\n      <td>1</td>\n      <td>6</td>\n      <td>8504</td>\n      <td>5</td>\n      <td>0</td>\n      <td>154.0</td>\n      <td>75</td>\n    </tr>\n    <tr>\n      <th>1</th>\n      <td>TRAIN_00001</td>\n      <td>COMPONENT2</td>\n      <td>1350</td>\n      <td>2021</td>\n      <td>375</td>\n      <td>0</td>\n      <td>0</td>\n      <td>0</td>\n      <td>31</td>\n      <td>2</td>\n      <td>0.0</td>\n      <td>0</td>\n      <td>0</td>\n      <td>0</td>\n      <td>19</td>\n      <td>0</td>\n      <td>0</td>\n      <td>44.0</td>\n      <td>652</td>\n    </tr>\n    <tr>\n      <th>2</th>\n      <td>TRAIN_00002</td>\n      <td>COMPONENT2</td>\n      <td>2415</td>\n      <td>2015</td>\n      <td>200</td>\n      <td>0</td>\n      <td>0</td>\n      <td>1</td>\n      <td>2</td>\n      <td>4</td>\n      <td>0.0</td>\n      <td>0</td>\n      <td>0</td>\n      <td>0</td>\n      <td>17</td>\n      <td>0</td>\n      <td>0</td>\n      <td>72.6</td>\n      <td>412</td>\n    </tr>\n    <tr>\n      <th>3</th>\n      <td>TRAIN_00003</td>\n      <td>COMPONENT3</td>\n      <td>7389</td>\n      <td>2010</td>\n      <td>200</td>\n      <td>0</td>\n      <td>0</td>\n      <td>0</td>\n      <td>1</td>\n      <td>37</td>\n      <td>0.0</td>\n      <td>1</td>\n      <td>0</td>\n      <td>0</td>\n      <td>44</td>\n      <td>0</td>\n      <td>0</td>\n      <td>133.3</td>\n      <td>7</td>\n    </tr>\n    <tr>\n      <th>4</th>\n      <td>TRAIN_00004</td>\n      <td>COMPONENT3</td>\n      <td>3954</td>\n      <td>2015</td>\n      <td>200</td>\n      <td>0</td>\n      <td>0</td>\n      <td>0</td>\n      <td>0</td>\n      <td>71</td>\n      <td>0.0</td>\n      <td>0</td>\n      <td>0</td>\n      <td>0</td>\n      <td>217</td>\n      <td>0</td>\n      <td>0</td>\n      <td>133.1</td>\n      <td>128</td>\n    </tr>\n    <tr>\n      <th>...</th>\n      <td>...</td>\n      <td>...</td>\n      <td>...</td>\n      <td>...</td>\n      <td>...</td>\n      <td>...</td>\n      <td>...</td>\n      <td>...</td>\n      <td>...</td>\n      <td>...</td>\n      <td>...</td>\n      <td>...</td>\n      <td>...</td>\n      <td>...</td>\n      <td>...</td>\n      <td>...</td>\n      <td>...</td>\n      <td>...</td>\n      <td>...</td>\n    </tr>\n    <tr>\n      <th>6036</th>\n      <td>TEST_6036</td>\n      <td>COMPONENT3</td>\n      <td>1714</td>\n      <td>2014</td>\n      <td>200</td>\n      <td>0</td>\n      <td>0</td>\n      <td>3</td>\n      <td>130</td>\n      <td>1047</td>\n      <td>0.0</td>\n      <td>65</td>\n      <td>5</td>\n      <td>2</td>\n      <td>1999</td>\n      <td>0</td>\n      <td>0</td>\n      <td>71.2</td>\n      <td>1163</td>\n    </tr>\n    <tr>\n      <th>6037</th>\n      <td>TEST_6037</td>\n      <td>COMPONENT3</td>\n      <td>4131</td>\n      <td>2016</td>\n      <td>200</td>\n      <td>0</td>\n      <td>0</td>\n      <td>5</td>\n      <td>2</td>\n      <td>736</td>\n      <td>0.0</td>\n      <td>5</td>\n      <td>0</td>\n      <td>0</td>\n      <td>693</td>\n      <td>0</td>\n      <td>0</td>\n      <td>137.8</td>\n      <td>13</td>\n    </tr>\n    <tr>\n      <th>6038</th>\n      <td>TEST_6038</td>\n      <td>COMPONENT3</td>\n      <td>4325</td>\n      <td>2014</td>\n      <td>200</td>\n      <td>0</td>\n      <td>0</td>\n      <td>0</td>\n      <td>0</td>\n      <td>53</td>\n      <td>0.0</td>\n      <td>0</td>\n      <td>0</td>\n      <td>0</td>\n      <td>69</td>\n      <td>0</td>\n      <td>0</td>\n      <td>302.2</td>\n      <td>13</td>\n    </tr>\n    <tr>\n      <th>6039</th>\n      <td>TEST_6039</td>\n      <td>COMPONENT2</td>\n      <td>1364</td>\n      <td>2013</td>\n      <td>200</td>\n      <td>0</td>\n      <td>0</td>\n      <td>0</td>\n      <td>62</td>\n      <td>2</td>\n      <td>0.0</td>\n      <td>0</td>\n      <td>0</td>\n      <td>0</td>\n      <td>5</td>\n      <td>0</td>\n      <td>0</td>\n      <td>51.1</td>\n      <td>478</td>\n    </tr>\n    <tr>\n      <th>6040</th>\n      <td>TEST_6040</td>\n      <td>COMPONENT1</td>\n      <td>2397</td>\n      <td>2016</td>\n      <td>1597</td>\n      <td>1</td>\n      <td>0</td>\n      <td>0</td>\n      <td>0</td>\n      <td>4</td>\n      <td>0.0</td>\n      <td>0</td>\n      <td>2</td>\n      <td>0</td>\n      <td>14</td>\n      <td>0</td>\n      <td>0</td>\n      <td>80.0</td>\n      <td>970</td>\n    </tr>\n  </tbody>\n</table>\n<p>20136 rows × 19 columns</p>\n</div>"
     },
     "execution_count": 18,
     "metadata": {},
     "output_type": "execute_result"
    }
   ],
   "source": [
    "df"
   ],
   "metadata": {
    "collapsed": false,
    "pycharm": {
     "name": "#%%\n"
    }
   }
  },
  {
   "cell_type": "markdown",
   "source": [
    "## 이상치 제거"
   ],
   "metadata": {
    "collapsed": false
   }
  },
  {
   "cell_type": "code",
   "source": [
    "df['수치형데이터1'] = df['수치형데이터1'].apply(lambda x: 10000 if x > 10000 else x)\n"
   ],
   "metadata": {
    "collapsed": false,
    "pycharm": {
     "name": "#%%\n"
    }
   },
   "execution_count": 19,
   "outputs": []
  },
  {
   "cell_type": "markdown",
   "source": [
    "## 스케일링"
   ],
   "metadata": {
    "collapsed": false
   }
  },
  {
   "cell_type": "markdown",
   "source": [
    "### StandardScaler"
   ],
   "metadata": {
    "collapsed": false
   }
  },
  {
   "cell_type": "code",
   "execution_count": 20,
   "outputs": [],
   "source": [
    "# 스탠다드 스케일러\n",
    "def standard_scale(df):\n",
    "    # 수치형 변수 스케일링\n",
    "    sta_scaler = StandardScaler()\n",
    "    sta_X_scale = sta_scaler.fit_transform(df)\n",
    "    sta_X_scale = pd.DataFrame(sta_X_scale, columns=df.columns)\n",
    "    return sta_X_scale  # 스케일링 데이터 프레임화\n",
    "\n",
    "# MinMax scaler\n",
    "def MM_scale(df):\n",
    "    MM_scaler = MinMaxScaler()\n",
    "    MM_X_scale = MM_scaler.fit_transform(df)\n",
    "    MM_X_scale = pd.DataFrame(MM_X_scale, columns=df.columns)\n",
    "    return MM_X_scale  # 스케일링 데이터 프레임화\n",
    "\n",
    "# robust scaler\n",
    "def robust_scale(df):\n",
    "    robustScaler = RobustScaler()\n",
    "    print(robustScaler.fit(df))\n",
    "    train_data_robustScaled = robustScaler.transform(df)\n",
    "    robust_X_scale = pd.DataFrame(train_data_robustScaled, columns=num_attribss.columns)\n",
    "    return robust_X_scale"
   ],
   "metadata": {
    "collapsed": false,
    "pycharm": {
     "name": "#%%\n"
    }
   }
  },
  {
   "cell_type": "markdown",
   "source": [
    "# 인코딩"
   ],
   "metadata": {
    "collapsed": false,
    "pycharm": {
     "name": "#%% md\n"
    }
   }
  },
  {
   "cell_type": "code",
   "execution_count": 21,
   "outputs": [],
   "source": [
    "# 원핫인코딩 함수 적용\n",
    "def hot1_encoding(df):\n",
    "    hot1_encoder = OneHotEncoder(sparse=False,drop='if_binary')\n",
    "    X_1hot = hot1_encoder.fit_transform(df)\n",
    "    X_1hot = pd.DataFrame(X_1hot, columns=hot1_encoder.get_feature_names())\n",
    "    return X_1hot\n",
    "\n",
    "# 라벨 인코딩\n",
    "def label_encoding(df):\n",
    "    X_label = df.copy()\n",
    "    lab_encoder = LabelEncoder()  #순서가 있는 카테고리형\n",
    "    for name in df.columns:\n",
    "        X_label[name] = lab_encoder.fit_transform(df[name])\n",
    "    X_label_ob = X_label.astype('object')\n",
    "    return X_label_ob"
   ],
   "metadata": {
    "collapsed": false,
    "pycharm": {
     "name": "#%%\n"
    }
   }
  },
  {
   "cell_type": "markdown",
   "source": [
    "# 데이터 프레임 합치기"
   ],
   "metadata": {
    "collapsed": false
   }
  },
  {
   "cell_type": "code",
   "execution_count": 25,
   "outputs": [],
   "source": [
    "def cocnat_df(df1,df2):\n",
    "    df1 = df1.reset_index()\n",
    "    df2 = df2.reset_index()\n",
    "    df_all = pd.concat([df1,df2],axis=1)\n",
    "    df_all = df_all.drop(columns=['index'])\n",
    "    return df_all"
   ],
   "metadata": {
    "collapsed": false,
    "pycharm": {
     "name": "#%%\n"
    }
   }
  },
  {
   "cell_type": "code",
   "execution_count": 30,
   "outputs": [],
   "source": [
    "df_base = cocnat_df(num_attribss,label_encoding(cat_attribs))"
   ],
   "metadata": {
    "collapsed": false,
    "pycharm": {
     "name": "#%%\n"
    }
   }
  },
  {
   "cell_type": "code",
   "execution_count": 31,
   "outputs": [
    {
     "data": {
      "text/plain": "       수치형데이터1  진단년도  수치형데이터2  은  일산화탄소  크로뮴   구리     철    물  망가니즈  몰리브데넘  니켈  \\\n0         1486  2011      200  0      0   13   78   888  0.0    16      1   6   \n1         1350  2021      375  0      0    0   31     2  0.0     0      0   0   \n2         2415  2015      200  0      0    1    2     4  0.0     0      0   0   \n3         7389  2010      200  0      0    0    1    37  0.0     1      0   0   \n4         3954  2015      200  0      0    0    0    71  0.0     0      0   0   \n...        ...   ...      ... ..    ...  ...  ...   ...  ...   ...    ...  ..   \n20131     1714  2014      200  0      0    3  130  1047  0.0    65      5   2   \n20132     4131  2016      200  0      0    5    2   736  0.0     5      0   0   \n20133     4325  2014      200  0      0    0    0    53  0.0     0      0   0   \n20134     1364  2013      200  0      0    0   62     2  0.0     0      0   0   \n20135     2397  2016     1597  1      0    0    0     4  0.0     0      2   0   \n\n       입자 정량 지수  타이타늄  바나듐  점도 40도    아연 샘플오일관련부품  \n0          8504     5    0   154.0    75        2  \n1            19     0    0    44.0   652        1  \n2            17     0    0    72.6   412        1  \n3            44     0    0   133.3     7        2  \n4           217     0    0   133.1   128        2  \n...         ...   ...  ...     ...   ...      ...  \n20131      1999     0    0    71.2  1163        2  \n20132       693     0    0   137.8    13        2  \n20133        69     0    0   302.2    13        2  \n20134         5     0    0    51.1   478        1  \n20135        14     0    0    80.0   970        0  \n\n[20136 rows x 18 columns]",
      "text/html": "<div>\n<style scoped>\n    .dataframe tbody tr th:only-of-type {\n        vertical-align: middle;\n    }\n\n    .dataframe tbody tr th {\n        vertical-align: top;\n    }\n\n    .dataframe thead th {\n        text-align: right;\n    }\n</style>\n<table border=\"1\" class=\"dataframe\">\n  <thead>\n    <tr style=\"text-align: right;\">\n      <th></th>\n      <th>수치형데이터1</th>\n      <th>진단년도</th>\n      <th>수치형데이터2</th>\n      <th>은</th>\n      <th>일산화탄소</th>\n      <th>크로뮴</th>\n      <th>구리</th>\n      <th>철</th>\n      <th>물</th>\n      <th>망가니즈</th>\n      <th>몰리브데넘</th>\n      <th>니켈</th>\n      <th>입자 정량 지수</th>\n      <th>타이타늄</th>\n      <th>바나듐</th>\n      <th>점도 40도</th>\n      <th>아연</th>\n      <th>샘플오일관련부품</th>\n    </tr>\n  </thead>\n  <tbody>\n    <tr>\n      <th>0</th>\n      <td>1486</td>\n      <td>2011</td>\n      <td>200</td>\n      <td>0</td>\n      <td>0</td>\n      <td>13</td>\n      <td>78</td>\n      <td>888</td>\n      <td>0.0</td>\n      <td>16</td>\n      <td>1</td>\n      <td>6</td>\n      <td>8504</td>\n      <td>5</td>\n      <td>0</td>\n      <td>154.0</td>\n      <td>75</td>\n      <td>2</td>\n    </tr>\n    <tr>\n      <th>1</th>\n      <td>1350</td>\n      <td>2021</td>\n      <td>375</td>\n      <td>0</td>\n      <td>0</td>\n      <td>0</td>\n      <td>31</td>\n      <td>2</td>\n      <td>0.0</td>\n      <td>0</td>\n      <td>0</td>\n      <td>0</td>\n      <td>19</td>\n      <td>0</td>\n      <td>0</td>\n      <td>44.0</td>\n      <td>652</td>\n      <td>1</td>\n    </tr>\n    <tr>\n      <th>2</th>\n      <td>2415</td>\n      <td>2015</td>\n      <td>200</td>\n      <td>0</td>\n      <td>0</td>\n      <td>1</td>\n      <td>2</td>\n      <td>4</td>\n      <td>0.0</td>\n      <td>0</td>\n      <td>0</td>\n      <td>0</td>\n      <td>17</td>\n      <td>0</td>\n      <td>0</td>\n      <td>72.6</td>\n      <td>412</td>\n      <td>1</td>\n    </tr>\n    <tr>\n      <th>3</th>\n      <td>7389</td>\n      <td>2010</td>\n      <td>200</td>\n      <td>0</td>\n      <td>0</td>\n      <td>0</td>\n      <td>1</td>\n      <td>37</td>\n      <td>0.0</td>\n      <td>1</td>\n      <td>0</td>\n      <td>0</td>\n      <td>44</td>\n      <td>0</td>\n      <td>0</td>\n      <td>133.3</td>\n      <td>7</td>\n      <td>2</td>\n    </tr>\n    <tr>\n      <th>4</th>\n      <td>3954</td>\n      <td>2015</td>\n      <td>200</td>\n      <td>0</td>\n      <td>0</td>\n      <td>0</td>\n      <td>0</td>\n      <td>71</td>\n      <td>0.0</td>\n      <td>0</td>\n      <td>0</td>\n      <td>0</td>\n      <td>217</td>\n      <td>0</td>\n      <td>0</td>\n      <td>133.1</td>\n      <td>128</td>\n      <td>2</td>\n    </tr>\n    <tr>\n      <th>...</th>\n      <td>...</td>\n      <td>...</td>\n      <td>...</td>\n      <td>...</td>\n      <td>...</td>\n      <td>...</td>\n      <td>...</td>\n      <td>...</td>\n      <td>...</td>\n      <td>...</td>\n      <td>...</td>\n      <td>...</td>\n      <td>...</td>\n      <td>...</td>\n      <td>...</td>\n      <td>...</td>\n      <td>...</td>\n      <td>...</td>\n    </tr>\n    <tr>\n      <th>20131</th>\n      <td>1714</td>\n      <td>2014</td>\n      <td>200</td>\n      <td>0</td>\n      <td>0</td>\n      <td>3</td>\n      <td>130</td>\n      <td>1047</td>\n      <td>0.0</td>\n      <td>65</td>\n      <td>5</td>\n      <td>2</td>\n      <td>1999</td>\n      <td>0</td>\n      <td>0</td>\n      <td>71.2</td>\n      <td>1163</td>\n      <td>2</td>\n    </tr>\n    <tr>\n      <th>20132</th>\n      <td>4131</td>\n      <td>2016</td>\n      <td>200</td>\n      <td>0</td>\n      <td>0</td>\n      <td>5</td>\n      <td>2</td>\n      <td>736</td>\n      <td>0.0</td>\n      <td>5</td>\n      <td>0</td>\n      <td>0</td>\n      <td>693</td>\n      <td>0</td>\n      <td>0</td>\n      <td>137.8</td>\n      <td>13</td>\n      <td>2</td>\n    </tr>\n    <tr>\n      <th>20133</th>\n      <td>4325</td>\n      <td>2014</td>\n      <td>200</td>\n      <td>0</td>\n      <td>0</td>\n      <td>0</td>\n      <td>0</td>\n      <td>53</td>\n      <td>0.0</td>\n      <td>0</td>\n      <td>0</td>\n      <td>0</td>\n      <td>69</td>\n      <td>0</td>\n      <td>0</td>\n      <td>302.2</td>\n      <td>13</td>\n      <td>2</td>\n    </tr>\n    <tr>\n      <th>20134</th>\n      <td>1364</td>\n      <td>2013</td>\n      <td>200</td>\n      <td>0</td>\n      <td>0</td>\n      <td>0</td>\n      <td>62</td>\n      <td>2</td>\n      <td>0.0</td>\n      <td>0</td>\n      <td>0</td>\n      <td>0</td>\n      <td>5</td>\n      <td>0</td>\n      <td>0</td>\n      <td>51.1</td>\n      <td>478</td>\n      <td>1</td>\n    </tr>\n    <tr>\n      <th>20135</th>\n      <td>2397</td>\n      <td>2016</td>\n      <td>1597</td>\n      <td>1</td>\n      <td>0</td>\n      <td>0</td>\n      <td>0</td>\n      <td>4</td>\n      <td>0.0</td>\n      <td>0</td>\n      <td>2</td>\n      <td>0</td>\n      <td>14</td>\n      <td>0</td>\n      <td>0</td>\n      <td>80.0</td>\n      <td>970</td>\n      <td>0</td>\n    </tr>\n  </tbody>\n</table>\n<p>20136 rows × 18 columns</p>\n</div>"
     },
     "execution_count": 31,
     "metadata": {},
     "output_type": "execute_result"
    }
   ],
   "source": [
    "df_base"
   ],
   "metadata": {
    "collapsed": false,
    "pycharm": {
     "name": "#%%\n"
    }
   }
  },
  {
   "cell_type": "markdown",
   "source": [
    "# 데이터 나누기"
   ],
   "metadata": {
    "collapsed": false,
    "pycharm": {
     "name": "#%% md\n"
    }
   }
  },
  {
   "cell_type": "code",
   "execution_count": 116,
   "outputs": [],
   "source": [
    "def split_train_test(df):\n",
    "\n",
    "    train = df[:14095]\n",
    "    test = df[14095:]\n",
    "    return train, test\n",
    "\n",
    "def split_train_val(df,y):\n",
    "\n",
    "    X_train, X_val, y_train, y_val = train_test_split(df, y, test_size=0.3, shuffle=True, stratify=y, random_state=42)\n",
    "    print(X_train.shape, X_val.shape, y_train.shape, y_val.shape)\n",
    "\n",
    "    return X_train, X_val, y_train, y_val\n"
   ],
   "metadata": {
    "collapsed": false,
    "pycharm": {
     "name": "#%%\n"
    }
   }
  },
  {
   "cell_type": "markdown",
   "source": [
    "## 모델 평가 함수"
   ],
   "metadata": {
    "collapsed": false
   }
  },
  {
   "cell_type": "code",
   "execution_count": 111,
   "outputs": [],
   "source": [
    "from sklearn.metrics import precision_score, recall_score\n",
    "from sklearn.metrics import f1_score\n",
    "from sklearn.metrics import confusion_matrix\n",
    "from sklearn.metrics import accuracy_score"
   ],
   "metadata": {
    "collapsed": false,
    "pycharm": {
     "name": "#%%\n"
    }
   }
  },
  {
   "cell_type": "code",
   "execution_count": 112,
   "outputs": [],
   "source": [
    "def model_eval(pred, answer):\n",
    "    print(f'accuracy_score : {accuracy_score(pred,answer)}')\n",
    "    print(f'recall_score : {recall_score(pred,answer)}')\n",
    "    print(f'precision_score : {precision_score(pred,answer)}')\n",
    "    print(f'f1_score : {f1_score(pred,answer)}')\n",
    "    print(f'coufusion_matrix : ')\n",
    "    print(confusion_matrix(pred,answer))"
   ],
   "metadata": {
    "collapsed": false,
    "pycharm": {
     "name": "#%%\n"
    }
   }
  },
  {
   "cell_type": "markdown",
   "source": [
    "## 모델 학습 및 평가 함수"
   ],
   "metadata": {
    "collapsed": false
   }
  },
  {
   "cell_type": "code",
   "execution_count": 113,
   "outputs": [],
   "source": [
    "from sklearn.ensemble import RandomForestClassifier"
   ],
   "metadata": {
    "collapsed": false,
    "pycharm": {
     "name": "#%%\n"
    }
   }
  },
  {
   "cell_type": "code",
   "execution_count": 114,
   "outputs": [],
   "source": [
    "def pipeline_RF(X_train,X_val,y_train,y_val):\n",
    "    model_rf = RandomForestClassifier(max_depth=10,n_estimators=100)\n",
    "    model_rf.fit(X_train,y_train)\n",
    "    print(model_rf)\n",
    "    X_val_predicted = model_rf.predict(X_val)\n",
    "\n",
    "    print(model_eval(X_val_predicted,y_val))\n",
    "\n",
    "    return model_rf"
   ],
   "metadata": {
    "collapsed": false,
    "pycharm": {
     "name": "#%%\n"
    }
   }
  },
  {
   "cell_type": "markdown",
   "source": [
    "# 예측 함수"
   ],
   "metadata": {
    "collapsed": false,
    "pycharm": {
     "name": "#%% md\n"
    }
   }
  },
  {
   "cell_type": "code",
   "execution_count": 115,
   "outputs": [],
   "source": [
    "def make_submission(model,test,submission):\n",
    "    name = input(str)\n",
    "    pred_test = model.predict(test)\n",
    "    submission['Y_LABEL'] = pred_test\n",
    "    print(submission)\n",
    "    submission.to_csv(rf'C:\\Users\\yoon9\\PycharmProjects\\Sejong_Project\\data\\construct_Oil_data\\submission_{name}.csv',index = False)\n",
    "    print('Done')\n"
   ],
   "metadata": {
    "collapsed": false,
    "pycharm": {
     "name": "#%%\n"
    }
   }
  },
  {
   "cell_type": "markdown",
   "source": [
    "## X_base Baseline 모델 (피쳐엔지니어링 X + Label Encoding)"
   ],
   "metadata": {
    "collapsed": false,
    "pycharm": {
     "name": "#%% md\n"
    }
   }
  },
  {
   "cell_type": "code",
   "execution_count": 87,
   "outputs": [],
   "source": [
    "train_base, test_base = split_train_test(df_base)"
   ],
   "metadata": {
    "collapsed": false,
    "pycharm": {
     "name": "#%%\n"
    }
   }
  },
  {
   "cell_type": "code",
   "execution_count": 88,
   "outputs": [
    {
     "data": {
      "text/plain": "       수치형데이터1  진단년도  수치형데이터2  은  일산화탄소  크로뮴   구리     철    물  망가니즈  몰리브데넘  니켈  \\\n14095     2192  2016      200  0      0    0    1    12  0.0     0      0   0   \n14096     2794  2011      200  0      0    2    1   278  0.0     3      0   0   \n14097     1982  2010      200  0      0    0   16     5  0.0     0      0   0   \n14098     1404  2009      200  0      0    3    4   163  0.0     4      3   0   \n14099     8225  2013      200  0      0    0    6    13  0.0     0      0   0   \n...        ...   ...      ... ..    ...  ...  ...   ...  ...   ...    ...  ..   \n20131     1714  2014      200  0      0    3  130  1047  0.0    65      5   2   \n20132     4131  2016      200  0      0    5    2   736  0.0     5      0   0   \n20133     4325  2014      200  0      0    0    0    53  0.0     0      0   0   \n20134     1364  2013      200  0      0    0   62     2  0.0     0      0   0   \n20135     2397  2016     1597  1      0    0    0     4  0.0     0      2   0   \n\n       입자 정량 지수  타이타늄  바나듐  점도 40도    아연 샘플오일관련부품  \n14095        10     0    0    91.3  1091        0  \n14096      2732     1    0   126.9    12        2  \n14097        11     0    0    44.3   714        1  \n14098      8007     0    0   142.8    94        2  \n14099        16     0    0    63.4   469        1  \n...         ...   ...  ...     ...   ...      ...  \n20131      1999     0    0    71.2  1163        2  \n20132       693     0    0   137.8    13        2  \n20133        69     0    0   302.2    13        2  \n20134         5     0    0    51.1   478        1  \n20135        14     0    0    80.0   970        0  \n\n[6041 rows x 18 columns]",
      "text/html": "<div>\n<style scoped>\n    .dataframe tbody tr th:only-of-type {\n        vertical-align: middle;\n    }\n\n    .dataframe tbody tr th {\n        vertical-align: top;\n    }\n\n    .dataframe thead th {\n        text-align: right;\n    }\n</style>\n<table border=\"1\" class=\"dataframe\">\n  <thead>\n    <tr style=\"text-align: right;\">\n      <th></th>\n      <th>수치형데이터1</th>\n      <th>진단년도</th>\n      <th>수치형데이터2</th>\n      <th>은</th>\n      <th>일산화탄소</th>\n      <th>크로뮴</th>\n      <th>구리</th>\n      <th>철</th>\n      <th>물</th>\n      <th>망가니즈</th>\n      <th>몰리브데넘</th>\n      <th>니켈</th>\n      <th>입자 정량 지수</th>\n      <th>타이타늄</th>\n      <th>바나듐</th>\n      <th>점도 40도</th>\n      <th>아연</th>\n      <th>샘플오일관련부품</th>\n    </tr>\n  </thead>\n  <tbody>\n    <tr>\n      <th>14095</th>\n      <td>2192</td>\n      <td>2016</td>\n      <td>200</td>\n      <td>0</td>\n      <td>0</td>\n      <td>0</td>\n      <td>1</td>\n      <td>12</td>\n      <td>0.0</td>\n      <td>0</td>\n      <td>0</td>\n      <td>0</td>\n      <td>10</td>\n      <td>0</td>\n      <td>0</td>\n      <td>91.3</td>\n      <td>1091</td>\n      <td>0</td>\n    </tr>\n    <tr>\n      <th>14096</th>\n      <td>2794</td>\n      <td>2011</td>\n      <td>200</td>\n      <td>0</td>\n      <td>0</td>\n      <td>2</td>\n      <td>1</td>\n      <td>278</td>\n      <td>0.0</td>\n      <td>3</td>\n      <td>0</td>\n      <td>0</td>\n      <td>2732</td>\n      <td>1</td>\n      <td>0</td>\n      <td>126.9</td>\n      <td>12</td>\n      <td>2</td>\n    </tr>\n    <tr>\n      <th>14097</th>\n      <td>1982</td>\n      <td>2010</td>\n      <td>200</td>\n      <td>0</td>\n      <td>0</td>\n      <td>0</td>\n      <td>16</td>\n      <td>5</td>\n      <td>0.0</td>\n      <td>0</td>\n      <td>0</td>\n      <td>0</td>\n      <td>11</td>\n      <td>0</td>\n      <td>0</td>\n      <td>44.3</td>\n      <td>714</td>\n      <td>1</td>\n    </tr>\n    <tr>\n      <th>14098</th>\n      <td>1404</td>\n      <td>2009</td>\n      <td>200</td>\n      <td>0</td>\n      <td>0</td>\n      <td>3</td>\n      <td>4</td>\n      <td>163</td>\n      <td>0.0</td>\n      <td>4</td>\n      <td>3</td>\n      <td>0</td>\n      <td>8007</td>\n      <td>0</td>\n      <td>0</td>\n      <td>142.8</td>\n      <td>94</td>\n      <td>2</td>\n    </tr>\n    <tr>\n      <th>14099</th>\n      <td>8225</td>\n      <td>2013</td>\n      <td>200</td>\n      <td>0</td>\n      <td>0</td>\n      <td>0</td>\n      <td>6</td>\n      <td>13</td>\n      <td>0.0</td>\n      <td>0</td>\n      <td>0</td>\n      <td>0</td>\n      <td>16</td>\n      <td>0</td>\n      <td>0</td>\n      <td>63.4</td>\n      <td>469</td>\n      <td>1</td>\n    </tr>\n    <tr>\n      <th>...</th>\n      <td>...</td>\n      <td>...</td>\n      <td>...</td>\n      <td>...</td>\n      <td>...</td>\n      <td>...</td>\n      <td>...</td>\n      <td>...</td>\n      <td>...</td>\n      <td>...</td>\n      <td>...</td>\n      <td>...</td>\n      <td>...</td>\n      <td>...</td>\n      <td>...</td>\n      <td>...</td>\n      <td>...</td>\n      <td>...</td>\n    </tr>\n    <tr>\n      <th>20131</th>\n      <td>1714</td>\n      <td>2014</td>\n      <td>200</td>\n      <td>0</td>\n      <td>0</td>\n      <td>3</td>\n      <td>130</td>\n      <td>1047</td>\n      <td>0.0</td>\n      <td>65</td>\n      <td>5</td>\n      <td>2</td>\n      <td>1999</td>\n      <td>0</td>\n      <td>0</td>\n      <td>71.2</td>\n      <td>1163</td>\n      <td>2</td>\n    </tr>\n    <tr>\n      <th>20132</th>\n      <td>4131</td>\n      <td>2016</td>\n      <td>200</td>\n      <td>0</td>\n      <td>0</td>\n      <td>5</td>\n      <td>2</td>\n      <td>736</td>\n      <td>0.0</td>\n      <td>5</td>\n      <td>0</td>\n      <td>0</td>\n      <td>693</td>\n      <td>0</td>\n      <td>0</td>\n      <td>137.8</td>\n      <td>13</td>\n      <td>2</td>\n    </tr>\n    <tr>\n      <th>20133</th>\n      <td>4325</td>\n      <td>2014</td>\n      <td>200</td>\n      <td>0</td>\n      <td>0</td>\n      <td>0</td>\n      <td>0</td>\n      <td>53</td>\n      <td>0.0</td>\n      <td>0</td>\n      <td>0</td>\n      <td>0</td>\n      <td>69</td>\n      <td>0</td>\n      <td>0</td>\n      <td>302.2</td>\n      <td>13</td>\n      <td>2</td>\n    </tr>\n    <tr>\n      <th>20134</th>\n      <td>1364</td>\n      <td>2013</td>\n      <td>200</td>\n      <td>0</td>\n      <td>0</td>\n      <td>0</td>\n      <td>62</td>\n      <td>2</td>\n      <td>0.0</td>\n      <td>0</td>\n      <td>0</td>\n      <td>0</td>\n      <td>5</td>\n      <td>0</td>\n      <td>0</td>\n      <td>51.1</td>\n      <td>478</td>\n      <td>1</td>\n    </tr>\n    <tr>\n      <th>20135</th>\n      <td>2397</td>\n      <td>2016</td>\n      <td>1597</td>\n      <td>1</td>\n      <td>0</td>\n      <td>0</td>\n      <td>0</td>\n      <td>4</td>\n      <td>0.0</td>\n      <td>0</td>\n      <td>2</td>\n      <td>0</td>\n      <td>14</td>\n      <td>0</td>\n      <td>0</td>\n      <td>80.0</td>\n      <td>970</td>\n      <td>0</td>\n    </tr>\n  </tbody>\n</table>\n<p>6041 rows × 18 columns</p>\n</div>"
     },
     "execution_count": 88,
     "metadata": {},
     "output_type": "execute_result"
    }
   ],
   "source": [
    "test_base"
   ],
   "metadata": {
    "collapsed": false,
    "pycharm": {
     "name": "#%%\n"
    }
   }
  },
  {
   "cell_type": "code",
   "execution_count": 89,
   "outputs": [
    {
     "name": "stdout",
     "output_type": "stream",
     "text": [
      "(11276, 18) (2819, 18) (11276,) (2819,)\n"
     ]
    }
   ],
   "source": [
    "X_train_base, X_val_base, y_train_base, y_val_base = split_train_val(train_base,y)"
   ],
   "metadata": {
    "collapsed": false,
    "pycharm": {
     "name": "#%%\n"
    }
   }
  },
  {
   "cell_type": "code",
   "execution_count": 90,
   "outputs": [
    {
     "name": "stdout",
     "output_type": "stream",
     "text": [
      "RandomForestClassifier(max_depth=10)\n",
      "accuracy_score : 0.9152181624689606\n",
      "recall_score : 0.75\n",
      "precision_score : 0.012448132780082987\n",
      "f1_score : 0.02448979591836735\n",
      "coufusion_matrix : \n",
      "[[2577  238]\n",
      " [   1    3]]\n",
      "None\n"
     ]
    }
   ],
   "source": [
    "model_base = pipeline_RF(X_train_base, X_val_base, y_train_base, y_val_base)"
   ],
   "metadata": {
    "collapsed": false,
    "pycharm": {
     "name": "#%%\n"
    }
   }
  },
  {
   "cell_type": "code",
   "execution_count": 120,
   "outputs": [],
   "source": [
    "submission = pd.read_csv(r'C:\\Users\\yoon9\\PycharmProjects\\Sejong_Project\\data\\construct_Oil_data\\sample_submission.csv')"
   ],
   "metadata": {
    "collapsed": false,
    "pycharm": {
     "name": "#%%\n"
    }
   }
  },
  {
   "cell_type": "code",
   "execution_count": 96,
   "outputs": [
    {
     "name": "stdout",
     "output_type": "stream",
     "text": [
      "             ID  Y_LABEL\n",
      "0     TEST_0000        0\n",
      "1     TEST_0001        0\n",
      "2     TEST_0002        0\n",
      "3     TEST_0003        0\n",
      "4     TEST_0004        0\n",
      "...         ...      ...\n",
      "6036  TEST_6036        0\n",
      "6037  TEST_6037        0\n",
      "6038  TEST_6038        0\n",
      "6039  TEST_6039        0\n",
      "6040  TEST_6040        0\n",
      "\n",
      "[6041 rows x 2 columns]\n",
      "Done\n"
     ]
    }
   ],
   "source": [
    "make_submission(model_base,test_base,submission)"
   ],
   "metadata": {
    "collapsed": false,
    "pycharm": {
     "name": "#%%\n"
    }
   }
  },
  {
   "cell_type": "markdown",
   "source": [
    "# 타겟 불균형 문제 해결"
   ],
   "metadata": {
    "collapsed": false
   }
  },
  {
   "cell_type": "code",
   "execution_count": 126,
   "outputs": [],
   "source": [
    "from imblearn.combine import SMOTEENN\n",
    "from imblearn.combine import SMOTETomek\n",
    "\n",
    "def add_smote_enn(train,y):\n",
    "    smote_enn = SMOTEENN(random_state=42)\n",
    "    X_resampled, y_resampled = smote_enn.fit_resample(train, y)\n",
    "\n",
    "    return X_resampled,y_resampled\n",
    "\n",
    "def add_smote_tomek(train,y):\n",
    "\n",
    "    smote_tomek = SMOTETomek(random_state=42)\n",
    "    X_resampled, y_resampled = smote_tomek.fit_resample(train, y)\n",
    "\n",
    "    return X_resampled,y_resampled\n",
    "\n"
   ],
   "metadata": {
    "collapsed": false,
    "pycharm": {
     "name": "#%%\n"
    }
   }
  },
  {
   "cell_type": "code",
   "execution_count": null,
   "outputs": [],
   "source": [
    "add_smote_enn(train,y)"
   ],
   "metadata": {
    "collapsed": false,
    "pycharm": {
     "name": "#%%\n"
    }
   }
  },
  {
   "cell_type": "code",
   "execution_count": 123,
   "outputs": [
    {
     "name": "stdout",
     "output_type": "stream",
     "text": [
      "(12932, 18) (5543, 18) (12932,) (5543,)\n",
      "RandomForestClassifier(max_depth=10)\n",
      "accuracy_score : 0.827530218293343\n",
      "recall_score : 0.8065821418937146\n",
      "precision_score : 0.9259832765562094\n",
      "f1_score : 0.8621683967704729\n",
      "coufusion_matrix : \n",
      "[[1597  239]\n",
      " [ 717 2990]]\n",
      "None\n"
     ]
    }
   ],
   "source": [
    "X_train_SME, X_val_SME, y_train_SME, y_val_SME = split_train_val(X_resampled, y_resampled)\n",
    "\n",
    "model_SMT = pipeline_RF(X_train_SME, X_val_SME, y_train_SME, y_val_SME)"
   ],
   "metadata": {
    "collapsed": false,
    "pycharm": {
     "name": "#%%\n"
    }
   }
  },
  {
   "cell_type": "code",
   "execution_count": 121,
   "outputs": [
    {
     "name": "stdout",
     "output_type": "stream",
     "text": [
      "             ID  Y_LABEL\n",
      "0     TEST_0000        0\n",
      "1     TEST_0001        0\n",
      "2     TEST_0002        1\n",
      "3     TEST_0003        0\n",
      "4     TEST_0004        1\n",
      "...         ...      ...\n",
      "6036  TEST_6036        0\n",
      "6037  TEST_6037        0\n",
      "6038  TEST_6038        1\n",
      "6039  TEST_6039        0\n",
      "6040  TEST_6040        0\n",
      "\n",
      "[6041 rows x 2 columns]\n",
      "Done\n"
     ]
    }
   ],
   "source": [
    "make_submission(model_SMT,test_base,submission)"
   ],
   "metadata": {
    "collapsed": false,
    "pycharm": {
     "name": "#%%\n"
    }
   }
  },
  {
   "cell_type": "markdown",
   "source": [
    "# 피쳐 엔지니어링 테스트"
   ],
   "metadata": {
    "collapsed": false,
    "pycharm": {
     "name": "#%% md\n"
    }
   }
  },
  {
   "cell_type": "markdown",
   "source": [
    "### smoteENN + Standard scaler + One-hot-encoding"
   ],
   "metadata": {
    "collapsed": false,
    "pycharm": {
     "name": "#%% md\n"
    }
   }
  },
  {
   "cell_type": "code",
   "execution_count": 125,
   "outputs": [
    {
     "data": {
      "text/plain": "        수치형데이터1      진단년도   수치형데이터2         은     일산화탄소       크로뮴        구리  \\\n0     -0.379987 -0.668748 -0.341059 -0.149807 -0.096143  0.366670  0.311033   \n1     -0.410821  1.851308 -0.025252 -0.149807 -0.096143 -0.122537 -0.032219   \n2     -0.169362  0.339274 -0.341059 -0.149807 -0.096143 -0.084906 -0.244013   \n3      0.958355 -0.920754 -0.341059 -0.149807 -0.096143 -0.122537 -0.251316   \n4      0.179564  0.339274 -0.341059 -0.149807 -0.096143 -0.122537 -0.258619   \n...         ...       ...       ...       ...       ...       ...       ...   \n20131 -0.328294  0.087268 -0.341059 -0.149807 -0.096143 -0.009643  0.690801   \n20132  0.219694  0.591280 -0.341059 -0.149807 -0.096143  0.065619 -0.244013   \n20133  0.263678  0.087268 -0.341059 -0.149807 -0.096143 -0.122537 -0.258619   \n20134 -0.407647 -0.164737 -0.341059 -0.149807 -0.096143 -0.122537  0.194181   \n20135 -0.173443  0.591280  2.179983  5.585000 -0.096143 -0.122537 -0.258619   \n\n              철       물      망가니즈     몰리브데넘        니켈  입자 정량 지수      타이타늄  \\\n0      1.202754 -0.0441  1.171823 -0.384823  1.170325  4.985286  0.605756   \n1     -0.311592 -0.0441 -0.258298 -0.401334 -0.173878 -0.255810 -0.104342   \n2     -0.308173 -0.0441 -0.258298 -0.401334 -0.173878 -0.257045 -0.104342   \n3     -0.251770 -0.0441 -0.168915 -0.401334 -0.173878 -0.240368 -0.104342   \n4     -0.193657 -0.0441 -0.258298 -0.401334 -0.173878 -0.133507 -0.104342   \n...         ...     ...       ...       ...       ...       ...       ...   \n20131  1.474515 -0.0441  5.551570 -0.318780  0.274190  0.967215 -0.104342   \n20132  0.942956 -0.0441  0.188615 -0.401334 -0.173878  0.160513 -0.104342   \n20133 -0.224423 -0.0441 -0.258298 -0.401334 -0.173878 -0.224925 -0.104342   \n20134 -0.311592 -0.0441 -0.258298 -0.401334 -0.173878 -0.264457 -0.104342   \n20135 -0.308173 -0.0441 -0.258298 -0.368313 -0.173878 -0.258898 -0.104342   \n\n            바나듐    점도 40도        아연 샘플오일관련부품  \n0     -0.109985  0.915670 -0.962299        2  \n1     -0.109985 -1.357880  0.123421        1  \n2     -0.109985 -0.766757 -0.328178        1  \n3     -0.109985  0.487829 -1.090252        2  \n4     -0.109985  0.483695 -0.862570        2  \n...         ...       ...       ...      ...  \n20131 -0.109985 -0.795693  1.084950        2  \n20132 -0.109985  0.580838 -1.078962        2  \n20133 -0.109985  3.978762 -1.078962        2  \n20134 -0.109985 -1.211133 -0.203988        1  \n20135 -0.109985 -0.613809  0.721790        0  \n\n[20136 rows x 18 columns]",
      "text/html": "<div>\n<style scoped>\n    .dataframe tbody tr th:only-of-type {\n        vertical-align: middle;\n    }\n\n    .dataframe tbody tr th {\n        vertical-align: top;\n    }\n\n    .dataframe thead th {\n        text-align: right;\n    }\n</style>\n<table border=\"1\" class=\"dataframe\">\n  <thead>\n    <tr style=\"text-align: right;\">\n      <th></th>\n      <th>수치형데이터1</th>\n      <th>진단년도</th>\n      <th>수치형데이터2</th>\n      <th>은</th>\n      <th>일산화탄소</th>\n      <th>크로뮴</th>\n      <th>구리</th>\n      <th>철</th>\n      <th>물</th>\n      <th>망가니즈</th>\n      <th>몰리브데넘</th>\n      <th>니켈</th>\n      <th>입자 정량 지수</th>\n      <th>타이타늄</th>\n      <th>바나듐</th>\n      <th>점도 40도</th>\n      <th>아연</th>\n      <th>샘플오일관련부품</th>\n    </tr>\n  </thead>\n  <tbody>\n    <tr>\n      <th>0</th>\n      <td>-0.379987</td>\n      <td>-0.668748</td>\n      <td>-0.341059</td>\n      <td>-0.149807</td>\n      <td>-0.096143</td>\n      <td>0.366670</td>\n      <td>0.311033</td>\n      <td>1.202754</td>\n      <td>-0.0441</td>\n      <td>1.171823</td>\n      <td>-0.384823</td>\n      <td>1.170325</td>\n      <td>4.985286</td>\n      <td>0.605756</td>\n      <td>-0.109985</td>\n      <td>0.915670</td>\n      <td>-0.962299</td>\n      <td>2</td>\n    </tr>\n    <tr>\n      <th>1</th>\n      <td>-0.410821</td>\n      <td>1.851308</td>\n      <td>-0.025252</td>\n      <td>-0.149807</td>\n      <td>-0.096143</td>\n      <td>-0.122537</td>\n      <td>-0.032219</td>\n      <td>-0.311592</td>\n      <td>-0.0441</td>\n      <td>-0.258298</td>\n      <td>-0.401334</td>\n      <td>-0.173878</td>\n      <td>-0.255810</td>\n      <td>-0.104342</td>\n      <td>-0.109985</td>\n      <td>-1.357880</td>\n      <td>0.123421</td>\n      <td>1</td>\n    </tr>\n    <tr>\n      <th>2</th>\n      <td>-0.169362</td>\n      <td>0.339274</td>\n      <td>-0.341059</td>\n      <td>-0.149807</td>\n      <td>-0.096143</td>\n      <td>-0.084906</td>\n      <td>-0.244013</td>\n      <td>-0.308173</td>\n      <td>-0.0441</td>\n      <td>-0.258298</td>\n      <td>-0.401334</td>\n      <td>-0.173878</td>\n      <td>-0.257045</td>\n      <td>-0.104342</td>\n      <td>-0.109985</td>\n      <td>-0.766757</td>\n      <td>-0.328178</td>\n      <td>1</td>\n    </tr>\n    <tr>\n      <th>3</th>\n      <td>0.958355</td>\n      <td>-0.920754</td>\n      <td>-0.341059</td>\n      <td>-0.149807</td>\n      <td>-0.096143</td>\n      <td>-0.122537</td>\n      <td>-0.251316</td>\n      <td>-0.251770</td>\n      <td>-0.0441</td>\n      <td>-0.168915</td>\n      <td>-0.401334</td>\n      <td>-0.173878</td>\n      <td>-0.240368</td>\n      <td>-0.104342</td>\n      <td>-0.109985</td>\n      <td>0.487829</td>\n      <td>-1.090252</td>\n      <td>2</td>\n    </tr>\n    <tr>\n      <th>4</th>\n      <td>0.179564</td>\n      <td>0.339274</td>\n      <td>-0.341059</td>\n      <td>-0.149807</td>\n      <td>-0.096143</td>\n      <td>-0.122537</td>\n      <td>-0.258619</td>\n      <td>-0.193657</td>\n      <td>-0.0441</td>\n      <td>-0.258298</td>\n      <td>-0.401334</td>\n      <td>-0.173878</td>\n      <td>-0.133507</td>\n      <td>-0.104342</td>\n      <td>-0.109985</td>\n      <td>0.483695</td>\n      <td>-0.862570</td>\n      <td>2</td>\n    </tr>\n    <tr>\n      <th>...</th>\n      <td>...</td>\n      <td>...</td>\n      <td>...</td>\n      <td>...</td>\n      <td>...</td>\n      <td>...</td>\n      <td>...</td>\n      <td>...</td>\n      <td>...</td>\n      <td>...</td>\n      <td>...</td>\n      <td>...</td>\n      <td>...</td>\n      <td>...</td>\n      <td>...</td>\n      <td>...</td>\n      <td>...</td>\n      <td>...</td>\n    </tr>\n    <tr>\n      <th>20131</th>\n      <td>-0.328294</td>\n      <td>0.087268</td>\n      <td>-0.341059</td>\n      <td>-0.149807</td>\n      <td>-0.096143</td>\n      <td>-0.009643</td>\n      <td>0.690801</td>\n      <td>1.474515</td>\n      <td>-0.0441</td>\n      <td>5.551570</td>\n      <td>-0.318780</td>\n      <td>0.274190</td>\n      <td>0.967215</td>\n      <td>-0.104342</td>\n      <td>-0.109985</td>\n      <td>-0.795693</td>\n      <td>1.084950</td>\n      <td>2</td>\n    </tr>\n    <tr>\n      <th>20132</th>\n      <td>0.219694</td>\n      <td>0.591280</td>\n      <td>-0.341059</td>\n      <td>-0.149807</td>\n      <td>-0.096143</td>\n      <td>0.065619</td>\n      <td>-0.244013</td>\n      <td>0.942956</td>\n      <td>-0.0441</td>\n      <td>0.188615</td>\n      <td>-0.401334</td>\n      <td>-0.173878</td>\n      <td>0.160513</td>\n      <td>-0.104342</td>\n      <td>-0.109985</td>\n      <td>0.580838</td>\n      <td>-1.078962</td>\n      <td>2</td>\n    </tr>\n    <tr>\n      <th>20133</th>\n      <td>0.263678</td>\n      <td>0.087268</td>\n      <td>-0.341059</td>\n      <td>-0.149807</td>\n      <td>-0.096143</td>\n      <td>-0.122537</td>\n      <td>-0.258619</td>\n      <td>-0.224423</td>\n      <td>-0.0441</td>\n      <td>-0.258298</td>\n      <td>-0.401334</td>\n      <td>-0.173878</td>\n      <td>-0.224925</td>\n      <td>-0.104342</td>\n      <td>-0.109985</td>\n      <td>3.978762</td>\n      <td>-1.078962</td>\n      <td>2</td>\n    </tr>\n    <tr>\n      <th>20134</th>\n      <td>-0.407647</td>\n      <td>-0.164737</td>\n      <td>-0.341059</td>\n      <td>-0.149807</td>\n      <td>-0.096143</td>\n      <td>-0.122537</td>\n      <td>0.194181</td>\n      <td>-0.311592</td>\n      <td>-0.0441</td>\n      <td>-0.258298</td>\n      <td>-0.401334</td>\n      <td>-0.173878</td>\n      <td>-0.264457</td>\n      <td>-0.104342</td>\n      <td>-0.109985</td>\n      <td>-1.211133</td>\n      <td>-0.203988</td>\n      <td>1</td>\n    </tr>\n    <tr>\n      <th>20135</th>\n      <td>-0.173443</td>\n      <td>0.591280</td>\n      <td>2.179983</td>\n      <td>5.585000</td>\n      <td>-0.096143</td>\n      <td>-0.122537</td>\n      <td>-0.258619</td>\n      <td>-0.308173</td>\n      <td>-0.0441</td>\n      <td>-0.258298</td>\n      <td>-0.368313</td>\n      <td>-0.173878</td>\n      <td>-0.258898</td>\n      <td>-0.104342</td>\n      <td>-0.109985</td>\n      <td>-0.613809</td>\n      <td>0.721790</td>\n      <td>0</td>\n    </tr>\n  </tbody>\n</table>\n<p>20136 rows × 18 columns</p>\n</div>"
     },
     "execution_count": 125,
     "metadata": {},
     "output_type": "execute_result"
    }
   ],
   "source": [
    "df_stand_1hot = cocnat_df(standard_scale(num_attribss),label_encoding(cat_attribs))\n",
    "df_stand_1hot"
   ],
   "metadata": {
    "collapsed": false,
    "pycharm": {
     "name": "#%%\n"
    }
   }
  },
  {
   "cell_type": "code",
   "execution_count": null,
   "outputs": [],
   "source": [],
   "metadata": {
    "collapsed": false,
    "pycharm": {
     "name": "#%%\n"
    }
   }
  }
 ],
 "metadata": {
  "kernelspec": {
   "display_name": "Python 3",
   "language": "python",
   "name": "python3"
  },
  "language_info": {
   "codemirror_mode": {
    "name": "ipython",
    "version": 2
   },
   "file_extension": ".py",
   "mimetype": "text/x-python",
   "name": "python",
   "nbconvert_exporter": "python",
   "pygments_lexer": "ipython2",
   "version": "2.7.6"
  }
 },
 "nbformat": 4,
 "nbformat_minor": 0
}