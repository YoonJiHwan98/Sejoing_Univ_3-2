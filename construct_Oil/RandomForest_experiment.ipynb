{
 "cells": [
  {
   "cell_type": "code",
   "execution_count": 2,
   "outputs": [],
   "source": [
    "import pandas as pd\n",
    "import numpy as np\n",
    "import seaborn as sns\n",
    "import matplotlib.pyplot as plt\n",
    "from sklearn.model_selection import RandomizedSearchCV\n",
    "import matplotlib.font_manager as fm\n",
    "from sklearn.model_selection import train_test_split\n",
    "from sklearn.ensemble import RandomForestClassifier"
   ],
   "metadata": {
    "collapsed": false,
    "pycharm": {
     "name": "#%%\n"
    }
   }
  },
  {
   "cell_type": "code",
   "execution_count": 3,
   "outputs": [],
   "source": [
    "plt.rc('font', family='NanumBarunGothic')\n",
    "font_location = 'C:/Windows/Fonts/MALGUNSL.TTF' # for windows\n",
    "font_name = fm.FontProperties(fname=font_location).get_name()\n",
    "plt.rc('font', family=font_name)"
   ],
   "metadata": {
    "collapsed": false,
    "pycharm": {
     "name": "#%%\n"
    }
   }
  },
  {
   "cell_type": "code",
   "execution_count": 4,
   "outputs": [],
   "source": [
    "%matplotlib inline\n",
    "import matplotlib as mpl\n",
    "mpl.rc('axes',labelsize = 16)\n",
    "mpl.rc('xtick',labelsize = 12)\n",
    "mpl.rc('ytick',labelsize = 12)"
   ],
   "metadata": {
    "collapsed": false,
    "pycharm": {
     "name": "#%%\n"
    }
   }
  },
  {
   "cell_type": "code",
   "execution_count": 5,
   "outputs": [],
   "source": [
    "train = pd.read_csv(r'C:\\Users\\yoon9\\PycharmProjects\\Sejong_Project\\data\\construct_Oil_data\\train.csv',encoding = 'cp949')\n",
    "test = pd.read_csv(r'C:\\Users\\yoon9\\PycharmProjects\\Sejong_Project\\data\\construct_Oil_data\\test.csv',encoding = 'cp949')"
   ],
   "metadata": {
    "collapsed": false,
    "pycharm": {
     "name": "#%%\n"
    }
   }
  },
  {
   "cell_type": "code",
   "execution_count": 6,
   "outputs": [],
   "source": [
    "test = test.rename(columns={'ANONYMOUS_1' : '수치형데이터1','ANONYMOUS_2' : '수치형데이터2','COMPONENT_ARBITRARY':'샘플오일관련부품','AG':'은','CO':'일산화탄소','CR':'크로뮴','CU':'구리','FE':'철','H2O':'물','MN':'망가니즈','MO':'몰리브데넘','NI':'니켈','TI':'타이타늄','V':'바나듐','ZN':'아연','PQINDEX':'입자 정량 지수','V40':'점도 40도','YEAR':'진단년도'})\n",
    "train = train.rename(columns={'ANONYMOUS_1' : '수치형데이터1','ANONYMOUS_2' : '수치형데이터2','COMPONENT_ARBITRARY':'샘플오일관련부품','AG':'은','CO':'일산화탄소','CR':'크로뮴','CU':'구리','FE':'철','H2O':'물','MN':'망가니즈','MO':'몰리브데넘','NI':'니켈','TI':'타이타늄','V':'바나듐','ZN':'아연','PQINDEX':'입자 정량 지수','V40':'점도 40도','YEAR':'진단년도'})"
   ],
   "metadata": {
    "collapsed": false,
    "pycharm": {
     "name": "#%%\n"
    }
   }
  },
  {
   "cell_type": "markdown",
   "source": [
    "## 결측치가 많은 컬럼 제거"
   ],
   "metadata": {
    "collapsed": false
   }
  },
  {
   "cell_type": "code",
   "execution_count": 7,
   "outputs": [],
   "source": [
    "drop_columns=['FH2O','FNOX','FOPTIMETHGLY','FOXID','FSO4','FTBN','FUEL','SOOTPERCENTAGE','U100','U75','U50','U25','U20','U14','U6','U4','V100']"
   ],
   "metadata": {
    "collapsed": false,
    "pycharm": {
     "name": "#%%\n"
    }
   }
  },
  {
   "cell_type": "code",
   "execution_count": 8,
   "outputs": [],
   "source": [
    "train = train.drop(columns=drop_columns)"
   ],
   "metadata": {
    "collapsed": false,
    "pycharm": {
     "name": "#%%\n"
    }
   }
  },
  {
   "cell_type": "code",
   "execution_count": 9,
   "outputs": [],
   "source": [
    "test_columns_list = test.columns"
   ],
   "metadata": {
    "collapsed": false,
    "pycharm": {
     "name": "#%%\n"
    }
   }
  },
  {
   "cell_type": "code",
   "execution_count": 10,
   "outputs": [
    {
     "data": {
      "text/plain": "0        0\n1        0\n2        1\n3        0\n4        0\n        ..\n14090    0\n14091    0\n14092    0\n14093    0\n14094    0\nName: Y_LABEL, Length: 14095, dtype: int64"
     },
     "execution_count": 10,
     "metadata": {},
     "output_type": "execute_result"
    }
   ],
   "source": [
    "train['Y_LABEL']"
   ],
   "metadata": {
    "collapsed": false,
    "pycharm": {
     "name": "#%%\n"
    }
   }
  },
  {
   "cell_type": "code",
   "execution_count": 11,
   "outputs": [
    {
     "data": {
      "text/plain": "                ID    샘플오일관련부품  수치형데이터1  진단년도  수치형데이터2  은  일산화탄소  크로뮴   구리  \\\n0      TRAIN_00000  COMPONENT3     1486  2011      200  0      0   13   78   \n1      TRAIN_00001  COMPONENT2     1350  2021      375  0      0    0   31   \n2      TRAIN_00002  COMPONENT2     2415  2015      200  0      0    1    2   \n3      TRAIN_00003  COMPONENT3     7389  2010      200  0      0    0    1   \n4      TRAIN_00004  COMPONENT3     3954  2015      200  0      0    0    0   \n...            ...         ...      ...   ...      ... ..    ...  ...  ...   \n14090  TRAIN_14090  COMPONENT3     1616  2014      200  0      0    0    3   \n14091  TRAIN_14091  COMPONENT1     2784  2013      200  0      0    0    2   \n14092  TRAIN_14092  COMPONENT3     1788  2008      550  0      0    4    7   \n14093  TRAIN_14093  COMPONENT2     2498  2009      550  0      0    0  170   \n14094  TRAIN_14094  COMPONENT2     1902  2012      200  0      0    0  110   \n\n         철    물  망가니즈  몰리브데넘  니켈  입자 정량 지수  타이타늄  바나듐  점도 40도    아연  \n0      888  0.0    16      1   6      8504     5    0   154.0    75  \n1        2  0.0     0      0   0        19     0    0    44.0   652  \n2        4  0.0     0      0   0        17     0    0    72.6   412  \n3       37  0.0     1      0   0        44     0    0   133.3     7  \n4       71  0.0     0      0   0       217     0    0   133.1   128  \n...    ...  ...   ...    ...  ..       ...   ...  ...     ...   ...  \n14090   23  0.0     0      0   0        35     0    0   135.4    16  \n14091   12  0.0     0    224   0         9     0    0   117.5  1408  \n14092  415  0.0     7     10   1       645     0    0    54.0  1301  \n14093   19  0.0     0      1   0        11     0    0    44.3   652  \n14094   10  0.0     0      0   0        81     2    0    47.0   612  \n\n[14095 rows x 19 columns]",
      "text/html": "<div>\n<style scoped>\n    .dataframe tbody tr th:only-of-type {\n        vertical-align: middle;\n    }\n\n    .dataframe tbody tr th {\n        vertical-align: top;\n    }\n\n    .dataframe thead th {\n        text-align: right;\n    }\n</style>\n<table border=\"1\" class=\"dataframe\">\n  <thead>\n    <tr style=\"text-align: right;\">\n      <th></th>\n      <th>ID</th>\n      <th>샘플오일관련부품</th>\n      <th>수치형데이터1</th>\n      <th>진단년도</th>\n      <th>수치형데이터2</th>\n      <th>은</th>\n      <th>일산화탄소</th>\n      <th>크로뮴</th>\n      <th>구리</th>\n      <th>철</th>\n      <th>물</th>\n      <th>망가니즈</th>\n      <th>몰리브데넘</th>\n      <th>니켈</th>\n      <th>입자 정량 지수</th>\n      <th>타이타늄</th>\n      <th>바나듐</th>\n      <th>점도 40도</th>\n      <th>아연</th>\n    </tr>\n  </thead>\n  <tbody>\n    <tr>\n      <th>0</th>\n      <td>TRAIN_00000</td>\n      <td>COMPONENT3</td>\n      <td>1486</td>\n      <td>2011</td>\n      <td>200</td>\n      <td>0</td>\n      <td>0</td>\n      <td>13</td>\n      <td>78</td>\n      <td>888</td>\n      <td>0.0</td>\n      <td>16</td>\n      <td>1</td>\n      <td>6</td>\n      <td>8504</td>\n      <td>5</td>\n      <td>0</td>\n      <td>154.0</td>\n      <td>75</td>\n    </tr>\n    <tr>\n      <th>1</th>\n      <td>TRAIN_00001</td>\n      <td>COMPONENT2</td>\n      <td>1350</td>\n      <td>2021</td>\n      <td>375</td>\n      <td>0</td>\n      <td>0</td>\n      <td>0</td>\n      <td>31</td>\n      <td>2</td>\n      <td>0.0</td>\n      <td>0</td>\n      <td>0</td>\n      <td>0</td>\n      <td>19</td>\n      <td>0</td>\n      <td>0</td>\n      <td>44.0</td>\n      <td>652</td>\n    </tr>\n    <tr>\n      <th>2</th>\n      <td>TRAIN_00002</td>\n      <td>COMPONENT2</td>\n      <td>2415</td>\n      <td>2015</td>\n      <td>200</td>\n      <td>0</td>\n      <td>0</td>\n      <td>1</td>\n      <td>2</td>\n      <td>4</td>\n      <td>0.0</td>\n      <td>0</td>\n      <td>0</td>\n      <td>0</td>\n      <td>17</td>\n      <td>0</td>\n      <td>0</td>\n      <td>72.6</td>\n      <td>412</td>\n    </tr>\n    <tr>\n      <th>3</th>\n      <td>TRAIN_00003</td>\n      <td>COMPONENT3</td>\n      <td>7389</td>\n      <td>2010</td>\n      <td>200</td>\n      <td>0</td>\n      <td>0</td>\n      <td>0</td>\n      <td>1</td>\n      <td>37</td>\n      <td>0.0</td>\n      <td>1</td>\n      <td>0</td>\n      <td>0</td>\n      <td>44</td>\n      <td>0</td>\n      <td>0</td>\n      <td>133.3</td>\n      <td>7</td>\n    </tr>\n    <tr>\n      <th>4</th>\n      <td>TRAIN_00004</td>\n      <td>COMPONENT3</td>\n      <td>3954</td>\n      <td>2015</td>\n      <td>200</td>\n      <td>0</td>\n      <td>0</td>\n      <td>0</td>\n      <td>0</td>\n      <td>71</td>\n      <td>0.0</td>\n      <td>0</td>\n      <td>0</td>\n      <td>0</td>\n      <td>217</td>\n      <td>0</td>\n      <td>0</td>\n      <td>133.1</td>\n      <td>128</td>\n    </tr>\n    <tr>\n      <th>...</th>\n      <td>...</td>\n      <td>...</td>\n      <td>...</td>\n      <td>...</td>\n      <td>...</td>\n      <td>...</td>\n      <td>...</td>\n      <td>...</td>\n      <td>...</td>\n      <td>...</td>\n      <td>...</td>\n      <td>...</td>\n      <td>...</td>\n      <td>...</td>\n      <td>...</td>\n      <td>...</td>\n      <td>...</td>\n      <td>...</td>\n      <td>...</td>\n    </tr>\n    <tr>\n      <th>14090</th>\n      <td>TRAIN_14090</td>\n      <td>COMPONENT3</td>\n      <td>1616</td>\n      <td>2014</td>\n      <td>200</td>\n      <td>0</td>\n      <td>0</td>\n      <td>0</td>\n      <td>3</td>\n      <td>23</td>\n      <td>0.0</td>\n      <td>0</td>\n      <td>0</td>\n      <td>0</td>\n      <td>35</td>\n      <td>0</td>\n      <td>0</td>\n      <td>135.4</td>\n      <td>16</td>\n    </tr>\n    <tr>\n      <th>14091</th>\n      <td>TRAIN_14091</td>\n      <td>COMPONENT1</td>\n      <td>2784</td>\n      <td>2013</td>\n      <td>200</td>\n      <td>0</td>\n      <td>0</td>\n      <td>0</td>\n      <td>2</td>\n      <td>12</td>\n      <td>0.0</td>\n      <td>0</td>\n      <td>224</td>\n      <td>0</td>\n      <td>9</td>\n      <td>0</td>\n      <td>0</td>\n      <td>117.5</td>\n      <td>1408</td>\n    </tr>\n    <tr>\n      <th>14092</th>\n      <td>TRAIN_14092</td>\n      <td>COMPONENT3</td>\n      <td>1788</td>\n      <td>2008</td>\n      <td>550</td>\n      <td>0</td>\n      <td>0</td>\n      <td>4</td>\n      <td>7</td>\n      <td>415</td>\n      <td>0.0</td>\n      <td>7</td>\n      <td>10</td>\n      <td>1</td>\n      <td>645</td>\n      <td>0</td>\n      <td>0</td>\n      <td>54.0</td>\n      <td>1301</td>\n    </tr>\n    <tr>\n      <th>14093</th>\n      <td>TRAIN_14093</td>\n      <td>COMPONENT2</td>\n      <td>2498</td>\n      <td>2009</td>\n      <td>550</td>\n      <td>0</td>\n      <td>0</td>\n      <td>0</td>\n      <td>170</td>\n      <td>19</td>\n      <td>0.0</td>\n      <td>0</td>\n      <td>1</td>\n      <td>0</td>\n      <td>11</td>\n      <td>0</td>\n      <td>0</td>\n      <td>44.3</td>\n      <td>652</td>\n    </tr>\n    <tr>\n      <th>14094</th>\n      <td>TRAIN_14094</td>\n      <td>COMPONENT2</td>\n      <td>1902</td>\n      <td>2012</td>\n      <td>200</td>\n      <td>0</td>\n      <td>0</td>\n      <td>0</td>\n      <td>110</td>\n      <td>10</td>\n      <td>0.0</td>\n      <td>0</td>\n      <td>0</td>\n      <td>0</td>\n      <td>81</td>\n      <td>2</td>\n      <td>0</td>\n      <td>47.0</td>\n      <td>612</td>\n    </tr>\n  </tbody>\n</table>\n<p>14095 rows × 19 columns</p>\n</div>"
     },
     "execution_count": 11,
     "metadata": {},
     "output_type": "execute_result"
    }
   ],
   "source": [
    "train[test_columns_list]"
   ],
   "metadata": {
    "collapsed": false,
    "pycharm": {
     "name": "#%%\n"
    }
   }
  },
  {
   "cell_type": "code",
   "execution_count": 12,
   "outputs": [],
   "source": [
    "train_test_col = train[test_columns_list]"
   ],
   "metadata": {
    "collapsed": false,
    "pycharm": {
     "name": "#%%\n"
    }
   }
  },
  {
   "cell_type": "code",
   "execution_count": 13,
   "outputs": [
    {
     "data": {
      "text/plain": "                ID    샘플오일관련부품  수치형데이터1  진단년도  수치형데이터2  은  일산화탄소  크로뮴   구리  \\\n0      TRAIN_00000  COMPONENT3     1486  2011      200  0      0   13   78   \n1      TRAIN_00001  COMPONENT2     1350  2021      375  0      0    0   31   \n2      TRAIN_00002  COMPONENT2     2415  2015      200  0      0    1    2   \n3      TRAIN_00003  COMPONENT3     7389  2010      200  0      0    0    1   \n4      TRAIN_00004  COMPONENT3     3954  2015      200  0      0    0    0   \n...            ...         ...      ...   ...      ... ..    ...  ...  ...   \n14090  TRAIN_14090  COMPONENT3     1616  2014      200  0      0    0    3   \n14091  TRAIN_14091  COMPONENT1     2784  2013      200  0      0    0    2   \n14092  TRAIN_14092  COMPONENT3     1788  2008      550  0      0    4    7   \n14093  TRAIN_14093  COMPONENT2     2498  2009      550  0      0    0  170   \n14094  TRAIN_14094  COMPONENT2     1902  2012      200  0      0    0  110   \n\n         철    물  망가니즈  몰리브데넘  니켈  입자 정량 지수  타이타늄  바나듐  점도 40도    아연  \n0      888  0.0    16      1   6      8504     5    0   154.0    75  \n1        2  0.0     0      0   0        19     0    0    44.0   652  \n2        4  0.0     0      0   0        17     0    0    72.6   412  \n3       37  0.0     1      0   0        44     0    0   133.3     7  \n4       71  0.0     0      0   0       217     0    0   133.1   128  \n...    ...  ...   ...    ...  ..       ...   ...  ...     ...   ...  \n14090   23  0.0     0      0   0        35     0    0   135.4    16  \n14091   12  0.0     0    224   0         9     0    0   117.5  1408  \n14092  415  0.0     7     10   1       645     0    0    54.0  1301  \n14093   19  0.0     0      1   0        11     0    0    44.3   652  \n14094   10  0.0     0      0   0        81     2    0    47.0   612  \n\n[14095 rows x 19 columns]",
      "text/html": "<div>\n<style scoped>\n    .dataframe tbody tr th:only-of-type {\n        vertical-align: middle;\n    }\n\n    .dataframe tbody tr th {\n        vertical-align: top;\n    }\n\n    .dataframe thead th {\n        text-align: right;\n    }\n</style>\n<table border=\"1\" class=\"dataframe\">\n  <thead>\n    <tr style=\"text-align: right;\">\n      <th></th>\n      <th>ID</th>\n      <th>샘플오일관련부품</th>\n      <th>수치형데이터1</th>\n      <th>진단년도</th>\n      <th>수치형데이터2</th>\n      <th>은</th>\n      <th>일산화탄소</th>\n      <th>크로뮴</th>\n      <th>구리</th>\n      <th>철</th>\n      <th>물</th>\n      <th>망가니즈</th>\n      <th>몰리브데넘</th>\n      <th>니켈</th>\n      <th>입자 정량 지수</th>\n      <th>타이타늄</th>\n      <th>바나듐</th>\n      <th>점도 40도</th>\n      <th>아연</th>\n    </tr>\n  </thead>\n  <tbody>\n    <tr>\n      <th>0</th>\n      <td>TRAIN_00000</td>\n      <td>COMPONENT3</td>\n      <td>1486</td>\n      <td>2011</td>\n      <td>200</td>\n      <td>0</td>\n      <td>0</td>\n      <td>13</td>\n      <td>78</td>\n      <td>888</td>\n      <td>0.0</td>\n      <td>16</td>\n      <td>1</td>\n      <td>6</td>\n      <td>8504</td>\n      <td>5</td>\n      <td>0</td>\n      <td>154.0</td>\n      <td>75</td>\n    </tr>\n    <tr>\n      <th>1</th>\n      <td>TRAIN_00001</td>\n      <td>COMPONENT2</td>\n      <td>1350</td>\n      <td>2021</td>\n      <td>375</td>\n      <td>0</td>\n      <td>0</td>\n      <td>0</td>\n      <td>31</td>\n      <td>2</td>\n      <td>0.0</td>\n      <td>0</td>\n      <td>0</td>\n      <td>0</td>\n      <td>19</td>\n      <td>0</td>\n      <td>0</td>\n      <td>44.0</td>\n      <td>652</td>\n    </tr>\n    <tr>\n      <th>2</th>\n      <td>TRAIN_00002</td>\n      <td>COMPONENT2</td>\n      <td>2415</td>\n      <td>2015</td>\n      <td>200</td>\n      <td>0</td>\n      <td>0</td>\n      <td>1</td>\n      <td>2</td>\n      <td>4</td>\n      <td>0.0</td>\n      <td>0</td>\n      <td>0</td>\n      <td>0</td>\n      <td>17</td>\n      <td>0</td>\n      <td>0</td>\n      <td>72.6</td>\n      <td>412</td>\n    </tr>\n    <tr>\n      <th>3</th>\n      <td>TRAIN_00003</td>\n      <td>COMPONENT3</td>\n      <td>7389</td>\n      <td>2010</td>\n      <td>200</td>\n      <td>0</td>\n      <td>0</td>\n      <td>0</td>\n      <td>1</td>\n      <td>37</td>\n      <td>0.0</td>\n      <td>1</td>\n      <td>0</td>\n      <td>0</td>\n      <td>44</td>\n      <td>0</td>\n      <td>0</td>\n      <td>133.3</td>\n      <td>7</td>\n    </tr>\n    <tr>\n      <th>4</th>\n      <td>TRAIN_00004</td>\n      <td>COMPONENT3</td>\n      <td>3954</td>\n      <td>2015</td>\n      <td>200</td>\n      <td>0</td>\n      <td>0</td>\n      <td>0</td>\n      <td>0</td>\n      <td>71</td>\n      <td>0.0</td>\n      <td>0</td>\n      <td>0</td>\n      <td>0</td>\n      <td>217</td>\n      <td>0</td>\n      <td>0</td>\n      <td>133.1</td>\n      <td>128</td>\n    </tr>\n    <tr>\n      <th>...</th>\n      <td>...</td>\n      <td>...</td>\n      <td>...</td>\n      <td>...</td>\n      <td>...</td>\n      <td>...</td>\n      <td>...</td>\n      <td>...</td>\n      <td>...</td>\n      <td>...</td>\n      <td>...</td>\n      <td>...</td>\n      <td>...</td>\n      <td>...</td>\n      <td>...</td>\n      <td>...</td>\n      <td>...</td>\n      <td>...</td>\n      <td>...</td>\n    </tr>\n    <tr>\n      <th>14090</th>\n      <td>TRAIN_14090</td>\n      <td>COMPONENT3</td>\n      <td>1616</td>\n      <td>2014</td>\n      <td>200</td>\n      <td>0</td>\n      <td>0</td>\n      <td>0</td>\n      <td>3</td>\n      <td>23</td>\n      <td>0.0</td>\n      <td>0</td>\n      <td>0</td>\n      <td>0</td>\n      <td>35</td>\n      <td>0</td>\n      <td>0</td>\n      <td>135.4</td>\n      <td>16</td>\n    </tr>\n    <tr>\n      <th>14091</th>\n      <td>TRAIN_14091</td>\n      <td>COMPONENT1</td>\n      <td>2784</td>\n      <td>2013</td>\n      <td>200</td>\n      <td>0</td>\n      <td>0</td>\n      <td>0</td>\n      <td>2</td>\n      <td>12</td>\n      <td>0.0</td>\n      <td>0</td>\n      <td>224</td>\n      <td>0</td>\n      <td>9</td>\n      <td>0</td>\n      <td>0</td>\n      <td>117.5</td>\n      <td>1408</td>\n    </tr>\n    <tr>\n      <th>14092</th>\n      <td>TRAIN_14092</td>\n      <td>COMPONENT3</td>\n      <td>1788</td>\n      <td>2008</td>\n      <td>550</td>\n      <td>0</td>\n      <td>0</td>\n      <td>4</td>\n      <td>7</td>\n      <td>415</td>\n      <td>0.0</td>\n      <td>7</td>\n      <td>10</td>\n      <td>1</td>\n      <td>645</td>\n      <td>0</td>\n      <td>0</td>\n      <td>54.0</td>\n      <td>1301</td>\n    </tr>\n    <tr>\n      <th>14093</th>\n      <td>TRAIN_14093</td>\n      <td>COMPONENT2</td>\n      <td>2498</td>\n      <td>2009</td>\n      <td>550</td>\n      <td>0</td>\n      <td>0</td>\n      <td>0</td>\n      <td>170</td>\n      <td>19</td>\n      <td>0.0</td>\n      <td>0</td>\n      <td>1</td>\n      <td>0</td>\n      <td>11</td>\n      <td>0</td>\n      <td>0</td>\n      <td>44.3</td>\n      <td>652</td>\n    </tr>\n    <tr>\n      <th>14094</th>\n      <td>TRAIN_14094</td>\n      <td>COMPONENT2</td>\n      <td>1902</td>\n      <td>2012</td>\n      <td>200</td>\n      <td>0</td>\n      <td>0</td>\n      <td>0</td>\n      <td>110</td>\n      <td>10</td>\n      <td>0.0</td>\n      <td>0</td>\n      <td>0</td>\n      <td>0</td>\n      <td>81</td>\n      <td>2</td>\n      <td>0</td>\n      <td>47.0</td>\n      <td>612</td>\n    </tr>\n  </tbody>\n</table>\n<p>14095 rows × 19 columns</p>\n</div>"
     },
     "execution_count": 13,
     "metadata": {},
     "output_type": "execute_result"
    }
   ],
   "source": [
    "train_test_col"
   ],
   "metadata": {
    "collapsed": false,
    "pycharm": {
     "name": "#%%\n"
    }
   }
  },
  {
   "cell_type": "code",
   "execution_count": 14,
   "outputs": [
    {
     "data": {
      "text/plain": "             ID    샘플오일관련부품  수치형데이터1  진단년도  수치형데이터2  은  일산화탄소  크로뮴   구리     철  \\\n0     TEST_0000  COMPONENT1     2192  2016      200  0      0    0    1    12   \n1     TEST_0001  COMPONENT3     2794  2011      200  0      0    2    1   278   \n2     TEST_0002  COMPONENT2     1982  2010      200  0      0    0   16     5   \n3     TEST_0003  COMPONENT3     1404  2009      200  0      0    3    4   163   \n4     TEST_0004  COMPONENT2     8225  2013      200  0      0    0    6    13   \n...         ...         ...      ...   ...      ... ..    ...  ...  ...   ...   \n6036  TEST_6036  COMPONENT3     1714  2014      200  0      0    3  130  1047   \n6037  TEST_6037  COMPONENT3     4131  2016      200  0      0    5    2   736   \n6038  TEST_6038  COMPONENT3     4325  2014      200  0      0    0    0    53   \n6039  TEST_6039  COMPONENT2     1364  2013      200  0      0    0   62     2   \n6040  TEST_6040  COMPONENT1     2397  2016     1597  1      0    0    0     4   \n\n        물  망가니즈  몰리브데넘  니켈  입자 정량 지수  타이타늄  바나듐  점도 40도    아연  \n0     0.0     0      0   0        10     0    0    91.3  1091  \n1     0.0     3      0   0      2732     1    0   126.9    12  \n2     0.0     0      0   0        11     0    0    44.3   714  \n3     0.0     4      3   0      8007     0    0   142.8    94  \n4     0.0     0      0   0        16     0    0    63.4   469  \n...   ...   ...    ...  ..       ...   ...  ...     ...   ...  \n6036  0.0    65      5   2      1999     0    0    71.2  1163  \n6037  0.0     5      0   0       693     0    0   137.8    13  \n6038  0.0     0      0   0        69     0    0   302.2    13  \n6039  0.0     0      0   0         5     0    0    51.1   478  \n6040  0.0     0      2   0        14     0    0    80.0   970  \n\n[6041 rows x 19 columns]",
      "text/html": "<div>\n<style scoped>\n    .dataframe tbody tr th:only-of-type {\n        vertical-align: middle;\n    }\n\n    .dataframe tbody tr th {\n        vertical-align: top;\n    }\n\n    .dataframe thead th {\n        text-align: right;\n    }\n</style>\n<table border=\"1\" class=\"dataframe\">\n  <thead>\n    <tr style=\"text-align: right;\">\n      <th></th>\n      <th>ID</th>\n      <th>샘플오일관련부품</th>\n      <th>수치형데이터1</th>\n      <th>진단년도</th>\n      <th>수치형데이터2</th>\n      <th>은</th>\n      <th>일산화탄소</th>\n      <th>크로뮴</th>\n      <th>구리</th>\n      <th>철</th>\n      <th>물</th>\n      <th>망가니즈</th>\n      <th>몰리브데넘</th>\n      <th>니켈</th>\n      <th>입자 정량 지수</th>\n      <th>타이타늄</th>\n      <th>바나듐</th>\n      <th>점도 40도</th>\n      <th>아연</th>\n    </tr>\n  </thead>\n  <tbody>\n    <tr>\n      <th>0</th>\n      <td>TEST_0000</td>\n      <td>COMPONENT1</td>\n      <td>2192</td>\n      <td>2016</td>\n      <td>200</td>\n      <td>0</td>\n      <td>0</td>\n      <td>0</td>\n      <td>1</td>\n      <td>12</td>\n      <td>0.0</td>\n      <td>0</td>\n      <td>0</td>\n      <td>0</td>\n      <td>10</td>\n      <td>0</td>\n      <td>0</td>\n      <td>91.3</td>\n      <td>1091</td>\n    </tr>\n    <tr>\n      <th>1</th>\n      <td>TEST_0001</td>\n      <td>COMPONENT3</td>\n      <td>2794</td>\n      <td>2011</td>\n      <td>200</td>\n      <td>0</td>\n      <td>0</td>\n      <td>2</td>\n      <td>1</td>\n      <td>278</td>\n      <td>0.0</td>\n      <td>3</td>\n      <td>0</td>\n      <td>0</td>\n      <td>2732</td>\n      <td>1</td>\n      <td>0</td>\n      <td>126.9</td>\n      <td>12</td>\n    </tr>\n    <tr>\n      <th>2</th>\n      <td>TEST_0002</td>\n      <td>COMPONENT2</td>\n      <td>1982</td>\n      <td>2010</td>\n      <td>200</td>\n      <td>0</td>\n      <td>0</td>\n      <td>0</td>\n      <td>16</td>\n      <td>5</td>\n      <td>0.0</td>\n      <td>0</td>\n      <td>0</td>\n      <td>0</td>\n      <td>11</td>\n      <td>0</td>\n      <td>0</td>\n      <td>44.3</td>\n      <td>714</td>\n    </tr>\n    <tr>\n      <th>3</th>\n      <td>TEST_0003</td>\n      <td>COMPONENT3</td>\n      <td>1404</td>\n      <td>2009</td>\n      <td>200</td>\n      <td>0</td>\n      <td>0</td>\n      <td>3</td>\n      <td>4</td>\n      <td>163</td>\n      <td>0.0</td>\n      <td>4</td>\n      <td>3</td>\n      <td>0</td>\n      <td>8007</td>\n      <td>0</td>\n      <td>0</td>\n      <td>142.8</td>\n      <td>94</td>\n    </tr>\n    <tr>\n      <th>4</th>\n      <td>TEST_0004</td>\n      <td>COMPONENT2</td>\n      <td>8225</td>\n      <td>2013</td>\n      <td>200</td>\n      <td>0</td>\n      <td>0</td>\n      <td>0</td>\n      <td>6</td>\n      <td>13</td>\n      <td>0.0</td>\n      <td>0</td>\n      <td>0</td>\n      <td>0</td>\n      <td>16</td>\n      <td>0</td>\n      <td>0</td>\n      <td>63.4</td>\n      <td>469</td>\n    </tr>\n    <tr>\n      <th>...</th>\n      <td>...</td>\n      <td>...</td>\n      <td>...</td>\n      <td>...</td>\n      <td>...</td>\n      <td>...</td>\n      <td>...</td>\n      <td>...</td>\n      <td>...</td>\n      <td>...</td>\n      <td>...</td>\n      <td>...</td>\n      <td>...</td>\n      <td>...</td>\n      <td>...</td>\n      <td>...</td>\n      <td>...</td>\n      <td>...</td>\n      <td>...</td>\n    </tr>\n    <tr>\n      <th>6036</th>\n      <td>TEST_6036</td>\n      <td>COMPONENT3</td>\n      <td>1714</td>\n      <td>2014</td>\n      <td>200</td>\n      <td>0</td>\n      <td>0</td>\n      <td>3</td>\n      <td>130</td>\n      <td>1047</td>\n      <td>0.0</td>\n      <td>65</td>\n      <td>5</td>\n      <td>2</td>\n      <td>1999</td>\n      <td>0</td>\n      <td>0</td>\n      <td>71.2</td>\n      <td>1163</td>\n    </tr>\n    <tr>\n      <th>6037</th>\n      <td>TEST_6037</td>\n      <td>COMPONENT3</td>\n      <td>4131</td>\n      <td>2016</td>\n      <td>200</td>\n      <td>0</td>\n      <td>0</td>\n      <td>5</td>\n      <td>2</td>\n      <td>736</td>\n      <td>0.0</td>\n      <td>5</td>\n      <td>0</td>\n      <td>0</td>\n      <td>693</td>\n      <td>0</td>\n      <td>0</td>\n      <td>137.8</td>\n      <td>13</td>\n    </tr>\n    <tr>\n      <th>6038</th>\n      <td>TEST_6038</td>\n      <td>COMPONENT3</td>\n      <td>4325</td>\n      <td>2014</td>\n      <td>200</td>\n      <td>0</td>\n      <td>0</td>\n      <td>0</td>\n      <td>0</td>\n      <td>53</td>\n      <td>0.0</td>\n      <td>0</td>\n      <td>0</td>\n      <td>0</td>\n      <td>69</td>\n      <td>0</td>\n      <td>0</td>\n      <td>302.2</td>\n      <td>13</td>\n    </tr>\n    <tr>\n      <th>6039</th>\n      <td>TEST_6039</td>\n      <td>COMPONENT2</td>\n      <td>1364</td>\n      <td>2013</td>\n      <td>200</td>\n      <td>0</td>\n      <td>0</td>\n      <td>0</td>\n      <td>62</td>\n      <td>2</td>\n      <td>0.0</td>\n      <td>0</td>\n      <td>0</td>\n      <td>0</td>\n      <td>5</td>\n      <td>0</td>\n      <td>0</td>\n      <td>51.1</td>\n      <td>478</td>\n    </tr>\n    <tr>\n      <th>6040</th>\n      <td>TEST_6040</td>\n      <td>COMPONENT1</td>\n      <td>2397</td>\n      <td>2016</td>\n      <td>1597</td>\n      <td>1</td>\n      <td>0</td>\n      <td>0</td>\n      <td>0</td>\n      <td>4</td>\n      <td>0.0</td>\n      <td>0</td>\n      <td>2</td>\n      <td>0</td>\n      <td>14</td>\n      <td>0</td>\n      <td>0</td>\n      <td>80.0</td>\n      <td>970</td>\n    </tr>\n  </tbody>\n</table>\n<p>6041 rows × 19 columns</p>\n</div>"
     },
     "execution_count": 14,
     "metadata": {},
     "output_type": "execute_result"
    }
   ],
   "source": [
    "test"
   ],
   "metadata": {
    "collapsed": false,
    "pycharm": {
     "name": "#%%\n"
    }
   }
  },
  {
   "cell_type": "code",
   "execution_count": 15,
   "outputs": [
    {
     "data": {
      "text/plain": "               ID    샘플오일관련부품  수치형데이터1  진단년도  수치형데이터2  은  일산화탄소  크로뮴   구리  \\\n0     TRAIN_00000  COMPONENT3     1486  2011      200  0      0   13   78   \n1     TRAIN_00001  COMPONENT2     1350  2021      375  0      0    0   31   \n2     TRAIN_00002  COMPONENT2     2415  2015      200  0      0    1    2   \n3     TRAIN_00003  COMPONENT3     7389  2010      200  0      0    0    1   \n4     TRAIN_00004  COMPONENT3     3954  2015      200  0      0    0    0   \n...           ...         ...      ...   ...      ... ..    ...  ...  ...   \n6036    TEST_6036  COMPONENT3     1714  2014      200  0      0    3  130   \n6037    TEST_6037  COMPONENT3     4131  2016      200  0      0    5    2   \n6038    TEST_6038  COMPONENT3     4325  2014      200  0      0    0    0   \n6039    TEST_6039  COMPONENT2     1364  2013      200  0      0    0   62   \n6040    TEST_6040  COMPONENT1     2397  2016     1597  1      0    0    0   \n\n         철    물  망가니즈  몰리브데넘  니켈  입자 정량 지수  타이타늄  바나듐  점도 40도    아연  \n0      888  0.0    16      1   6      8504     5    0   154.0    75  \n1        2  0.0     0      0   0        19     0    0    44.0   652  \n2        4  0.0     0      0   0        17     0    0    72.6   412  \n3       37  0.0     1      0   0        44     0    0   133.3     7  \n4       71  0.0     0      0   0       217     0    0   133.1   128  \n...    ...  ...   ...    ...  ..       ...   ...  ...     ...   ...  \n6036  1047  0.0    65      5   2      1999     0    0    71.2  1163  \n6037   736  0.0     5      0   0       693     0    0   137.8    13  \n6038    53  0.0     0      0   0        69     0    0   302.2    13  \n6039     2  0.0     0      0   0         5     0    0    51.1   478  \n6040     4  0.0     0      2   0        14     0    0    80.0   970  \n\n[20136 rows x 19 columns]",
      "text/html": "<div>\n<style scoped>\n    .dataframe tbody tr th:only-of-type {\n        vertical-align: middle;\n    }\n\n    .dataframe tbody tr th {\n        vertical-align: top;\n    }\n\n    .dataframe thead th {\n        text-align: right;\n    }\n</style>\n<table border=\"1\" class=\"dataframe\">\n  <thead>\n    <tr style=\"text-align: right;\">\n      <th></th>\n      <th>ID</th>\n      <th>샘플오일관련부품</th>\n      <th>수치형데이터1</th>\n      <th>진단년도</th>\n      <th>수치형데이터2</th>\n      <th>은</th>\n      <th>일산화탄소</th>\n      <th>크로뮴</th>\n      <th>구리</th>\n      <th>철</th>\n      <th>물</th>\n      <th>망가니즈</th>\n      <th>몰리브데넘</th>\n      <th>니켈</th>\n      <th>입자 정량 지수</th>\n      <th>타이타늄</th>\n      <th>바나듐</th>\n      <th>점도 40도</th>\n      <th>아연</th>\n    </tr>\n  </thead>\n  <tbody>\n    <tr>\n      <th>0</th>\n      <td>TRAIN_00000</td>\n      <td>COMPONENT3</td>\n      <td>1486</td>\n      <td>2011</td>\n      <td>200</td>\n      <td>0</td>\n      <td>0</td>\n      <td>13</td>\n      <td>78</td>\n      <td>888</td>\n      <td>0.0</td>\n      <td>16</td>\n      <td>1</td>\n      <td>6</td>\n      <td>8504</td>\n      <td>5</td>\n      <td>0</td>\n      <td>154.0</td>\n      <td>75</td>\n    </tr>\n    <tr>\n      <th>1</th>\n      <td>TRAIN_00001</td>\n      <td>COMPONENT2</td>\n      <td>1350</td>\n      <td>2021</td>\n      <td>375</td>\n      <td>0</td>\n      <td>0</td>\n      <td>0</td>\n      <td>31</td>\n      <td>2</td>\n      <td>0.0</td>\n      <td>0</td>\n      <td>0</td>\n      <td>0</td>\n      <td>19</td>\n      <td>0</td>\n      <td>0</td>\n      <td>44.0</td>\n      <td>652</td>\n    </tr>\n    <tr>\n      <th>2</th>\n      <td>TRAIN_00002</td>\n      <td>COMPONENT2</td>\n      <td>2415</td>\n      <td>2015</td>\n      <td>200</td>\n      <td>0</td>\n      <td>0</td>\n      <td>1</td>\n      <td>2</td>\n      <td>4</td>\n      <td>0.0</td>\n      <td>0</td>\n      <td>0</td>\n      <td>0</td>\n      <td>17</td>\n      <td>0</td>\n      <td>0</td>\n      <td>72.6</td>\n      <td>412</td>\n    </tr>\n    <tr>\n      <th>3</th>\n      <td>TRAIN_00003</td>\n      <td>COMPONENT3</td>\n      <td>7389</td>\n      <td>2010</td>\n      <td>200</td>\n      <td>0</td>\n      <td>0</td>\n      <td>0</td>\n      <td>1</td>\n      <td>37</td>\n      <td>0.0</td>\n      <td>1</td>\n      <td>0</td>\n      <td>0</td>\n      <td>44</td>\n      <td>0</td>\n      <td>0</td>\n      <td>133.3</td>\n      <td>7</td>\n    </tr>\n    <tr>\n      <th>4</th>\n      <td>TRAIN_00004</td>\n      <td>COMPONENT3</td>\n      <td>3954</td>\n      <td>2015</td>\n      <td>200</td>\n      <td>0</td>\n      <td>0</td>\n      <td>0</td>\n      <td>0</td>\n      <td>71</td>\n      <td>0.0</td>\n      <td>0</td>\n      <td>0</td>\n      <td>0</td>\n      <td>217</td>\n      <td>0</td>\n      <td>0</td>\n      <td>133.1</td>\n      <td>128</td>\n    </tr>\n    <tr>\n      <th>...</th>\n      <td>...</td>\n      <td>...</td>\n      <td>...</td>\n      <td>...</td>\n      <td>...</td>\n      <td>...</td>\n      <td>...</td>\n      <td>...</td>\n      <td>...</td>\n      <td>...</td>\n      <td>...</td>\n      <td>...</td>\n      <td>...</td>\n      <td>...</td>\n      <td>...</td>\n      <td>...</td>\n      <td>...</td>\n      <td>...</td>\n      <td>...</td>\n    </tr>\n    <tr>\n      <th>6036</th>\n      <td>TEST_6036</td>\n      <td>COMPONENT3</td>\n      <td>1714</td>\n      <td>2014</td>\n      <td>200</td>\n      <td>0</td>\n      <td>0</td>\n      <td>3</td>\n      <td>130</td>\n      <td>1047</td>\n      <td>0.0</td>\n      <td>65</td>\n      <td>5</td>\n      <td>2</td>\n      <td>1999</td>\n      <td>0</td>\n      <td>0</td>\n      <td>71.2</td>\n      <td>1163</td>\n    </tr>\n    <tr>\n      <th>6037</th>\n      <td>TEST_6037</td>\n      <td>COMPONENT3</td>\n      <td>4131</td>\n      <td>2016</td>\n      <td>200</td>\n      <td>0</td>\n      <td>0</td>\n      <td>5</td>\n      <td>2</td>\n      <td>736</td>\n      <td>0.0</td>\n      <td>5</td>\n      <td>0</td>\n      <td>0</td>\n      <td>693</td>\n      <td>0</td>\n      <td>0</td>\n      <td>137.8</td>\n      <td>13</td>\n    </tr>\n    <tr>\n      <th>6038</th>\n      <td>TEST_6038</td>\n      <td>COMPONENT3</td>\n      <td>4325</td>\n      <td>2014</td>\n      <td>200</td>\n      <td>0</td>\n      <td>0</td>\n      <td>0</td>\n      <td>0</td>\n      <td>53</td>\n      <td>0.0</td>\n      <td>0</td>\n      <td>0</td>\n      <td>0</td>\n      <td>69</td>\n      <td>0</td>\n      <td>0</td>\n      <td>302.2</td>\n      <td>13</td>\n    </tr>\n    <tr>\n      <th>6039</th>\n      <td>TEST_6039</td>\n      <td>COMPONENT2</td>\n      <td>1364</td>\n      <td>2013</td>\n      <td>200</td>\n      <td>0</td>\n      <td>0</td>\n      <td>0</td>\n      <td>62</td>\n      <td>2</td>\n      <td>0.0</td>\n      <td>0</td>\n      <td>0</td>\n      <td>0</td>\n      <td>5</td>\n      <td>0</td>\n      <td>0</td>\n      <td>51.1</td>\n      <td>478</td>\n    </tr>\n    <tr>\n      <th>6040</th>\n      <td>TEST_6040</td>\n      <td>COMPONENT1</td>\n      <td>2397</td>\n      <td>2016</td>\n      <td>1597</td>\n      <td>1</td>\n      <td>0</td>\n      <td>0</td>\n      <td>0</td>\n      <td>4</td>\n      <td>0.0</td>\n      <td>0</td>\n      <td>2</td>\n      <td>0</td>\n      <td>14</td>\n      <td>0</td>\n      <td>0</td>\n      <td>80.0</td>\n      <td>970</td>\n    </tr>\n  </tbody>\n</table>\n<p>20136 rows × 19 columns</p>\n</div>"
     },
     "execution_count": 15,
     "metadata": {},
     "output_type": "execute_result"
    }
   ],
   "source": [
    "df = pd.concat([train_test_col,test])\n",
    "df"
   ],
   "metadata": {
    "collapsed": false,
    "pycharm": {
     "name": "#%%\n"
    }
   }
  },
  {
   "cell_type": "markdown",
   "source": [
    "# 피처 엔지니어링"
   ],
   "metadata": {
    "collapsed": false,
    "pycharm": {
     "name": "#%% md\n"
    }
   }
  },
  {
   "cell_type": "code",
   "execution_count": 16,
   "outputs": [],
   "source": [
    "from sklearn.preprocessing import StandardScaler # 스케일링 라이브러리\n",
    "from sklearn.preprocessing import OneHotEncoder\n",
    "from sklearn.preprocessing import OrdinalEncoder\n",
    "from sklearn.preprocessing import MinMaxScaler\n",
    "from sklearn.preprocessing import LabelEncoder\n",
    "from sklearn.preprocessing import RobustScaler"
   ],
   "metadata": {
    "collapsed": false,
    "pycharm": {
     "name": "#%%\n"
    }
   }
  },
  {
   "cell_type": "code",
   "execution_count": 17,
   "outputs": [],
   "source": [
    "num_attribss_list = df.drop(columns = ['ID','샘플오일관련부품']).columns"
   ],
   "metadata": {
    "collapsed": false,
    "pycharm": {
     "name": "#%%\n"
    }
   }
  },
  {
   "cell_type": "code",
   "execution_count": 18,
   "outputs": [],
   "source": [
    "num_attribss_list_drop_mang = df.drop(columns = ['ID','샘플오일관련부품','타이타늄']).columns"
   ],
   "metadata": {
    "collapsed": false,
    "pycharm": {
     "name": "#%%\n"
    }
   }
  },
  {
   "cell_type": "code",
   "execution_count": 19,
   "outputs": [],
   "source": [
    "num_attribss = df[num_attribss_list]\n",
    "cat_attribs = df[['샘플오일관련부품']]\n",
    "y = train['Y_LABEL']\n",
    "\n",
    "num_attribss_mang = df[num_attribss_list_drop_mang]\n",
    "# 변수별 타입 나누기"
   ],
   "metadata": {
    "collapsed": false,
    "pycharm": {
     "name": "#%%\n"
    }
   }
  },
  {
   "cell_type": "code",
   "execution_count": 21,
   "outputs": [
    {
     "data": {
      "text/plain": "               ID    샘플오일관련부품  수치형데이터1  진단년도  수치형데이터2  은  일산화탄소  크로뮴   구리  \\\n0     TRAIN_00000  COMPONENT3     1486  2011      200  0      0   13   78   \n1     TRAIN_00001  COMPONENT2     1350  2021      375  0      0    0   31   \n2     TRAIN_00002  COMPONENT2     2415  2015      200  0      0    1    2   \n3     TRAIN_00003  COMPONENT3     7389  2010      200  0      0    0    1   \n4     TRAIN_00004  COMPONENT3     3954  2015      200  0      0    0    0   \n...           ...         ...      ...   ...      ... ..    ...  ...  ...   \n6036    TEST_6036  COMPONENT3     1714  2014      200  0      0    3  130   \n6037    TEST_6037  COMPONENT3     4131  2016      200  0      0    5    2   \n6038    TEST_6038  COMPONENT3     4325  2014      200  0      0    0    0   \n6039    TEST_6039  COMPONENT2     1364  2013      200  0      0    0   62   \n6040    TEST_6040  COMPONENT1     2397  2016     1597  1      0    0    0   \n\n         철    물  망가니즈  몰리브데넘  니켈  입자 정량 지수  타이타늄  바나듐  점도 40도    아연  \n0      888  0.0    16      1   6      8504     5    0   154.0    75  \n1        2  0.0     0      0   0        19     0    0    44.0   652  \n2        4  0.0     0      0   0        17     0    0    72.6   412  \n3       37  0.0     1      0   0        44     0    0   133.3     7  \n4       71  0.0     0      0   0       217     0    0   133.1   128  \n...    ...  ...   ...    ...  ..       ...   ...  ...     ...   ...  \n6036  1047  0.0    65      5   2      1999     0    0    71.2  1163  \n6037   736  0.0     5      0   0       693     0    0   137.8    13  \n6038    53  0.0     0      0   0        69     0    0   302.2    13  \n6039     2  0.0     0      0   0         5     0    0    51.1   478  \n6040     4  0.0     0      2   0        14     0    0    80.0   970  \n\n[20136 rows x 19 columns]",
      "text/html": "<div>\n<style scoped>\n    .dataframe tbody tr th:only-of-type {\n        vertical-align: middle;\n    }\n\n    .dataframe tbody tr th {\n        vertical-align: top;\n    }\n\n    .dataframe thead th {\n        text-align: right;\n    }\n</style>\n<table border=\"1\" class=\"dataframe\">\n  <thead>\n    <tr style=\"text-align: right;\">\n      <th></th>\n      <th>ID</th>\n      <th>샘플오일관련부품</th>\n      <th>수치형데이터1</th>\n      <th>진단년도</th>\n      <th>수치형데이터2</th>\n      <th>은</th>\n      <th>일산화탄소</th>\n      <th>크로뮴</th>\n      <th>구리</th>\n      <th>철</th>\n      <th>물</th>\n      <th>망가니즈</th>\n      <th>몰리브데넘</th>\n      <th>니켈</th>\n      <th>입자 정량 지수</th>\n      <th>타이타늄</th>\n      <th>바나듐</th>\n      <th>점도 40도</th>\n      <th>아연</th>\n    </tr>\n  </thead>\n  <tbody>\n    <tr>\n      <th>0</th>\n      <td>TRAIN_00000</td>\n      <td>COMPONENT3</td>\n      <td>1486</td>\n      <td>2011</td>\n      <td>200</td>\n      <td>0</td>\n      <td>0</td>\n      <td>13</td>\n      <td>78</td>\n      <td>888</td>\n      <td>0.0</td>\n      <td>16</td>\n      <td>1</td>\n      <td>6</td>\n      <td>8504</td>\n      <td>5</td>\n      <td>0</td>\n      <td>154.0</td>\n      <td>75</td>\n    </tr>\n    <tr>\n      <th>1</th>\n      <td>TRAIN_00001</td>\n      <td>COMPONENT2</td>\n      <td>1350</td>\n      <td>2021</td>\n      <td>375</td>\n      <td>0</td>\n      <td>0</td>\n      <td>0</td>\n      <td>31</td>\n      <td>2</td>\n      <td>0.0</td>\n      <td>0</td>\n      <td>0</td>\n      <td>0</td>\n      <td>19</td>\n      <td>0</td>\n      <td>0</td>\n      <td>44.0</td>\n      <td>652</td>\n    </tr>\n    <tr>\n      <th>2</th>\n      <td>TRAIN_00002</td>\n      <td>COMPONENT2</td>\n      <td>2415</td>\n      <td>2015</td>\n      <td>200</td>\n      <td>0</td>\n      <td>0</td>\n      <td>1</td>\n      <td>2</td>\n      <td>4</td>\n      <td>0.0</td>\n      <td>0</td>\n      <td>0</td>\n      <td>0</td>\n      <td>17</td>\n      <td>0</td>\n      <td>0</td>\n      <td>72.6</td>\n      <td>412</td>\n    </tr>\n    <tr>\n      <th>3</th>\n      <td>TRAIN_00003</td>\n      <td>COMPONENT3</td>\n      <td>7389</td>\n      <td>2010</td>\n      <td>200</td>\n      <td>0</td>\n      <td>0</td>\n      <td>0</td>\n      <td>1</td>\n      <td>37</td>\n      <td>0.0</td>\n      <td>1</td>\n      <td>0</td>\n      <td>0</td>\n      <td>44</td>\n      <td>0</td>\n      <td>0</td>\n      <td>133.3</td>\n      <td>7</td>\n    </tr>\n    <tr>\n      <th>4</th>\n      <td>TRAIN_00004</td>\n      <td>COMPONENT3</td>\n      <td>3954</td>\n      <td>2015</td>\n      <td>200</td>\n      <td>0</td>\n      <td>0</td>\n      <td>0</td>\n      <td>0</td>\n      <td>71</td>\n      <td>0.0</td>\n      <td>0</td>\n      <td>0</td>\n      <td>0</td>\n      <td>217</td>\n      <td>0</td>\n      <td>0</td>\n      <td>133.1</td>\n      <td>128</td>\n    </tr>\n    <tr>\n      <th>...</th>\n      <td>...</td>\n      <td>...</td>\n      <td>...</td>\n      <td>...</td>\n      <td>...</td>\n      <td>...</td>\n      <td>...</td>\n      <td>...</td>\n      <td>...</td>\n      <td>...</td>\n      <td>...</td>\n      <td>...</td>\n      <td>...</td>\n      <td>...</td>\n      <td>...</td>\n      <td>...</td>\n      <td>...</td>\n      <td>...</td>\n      <td>...</td>\n    </tr>\n    <tr>\n      <th>6036</th>\n      <td>TEST_6036</td>\n      <td>COMPONENT3</td>\n      <td>1714</td>\n      <td>2014</td>\n      <td>200</td>\n      <td>0</td>\n      <td>0</td>\n      <td>3</td>\n      <td>130</td>\n      <td>1047</td>\n      <td>0.0</td>\n      <td>65</td>\n      <td>5</td>\n      <td>2</td>\n      <td>1999</td>\n      <td>0</td>\n      <td>0</td>\n      <td>71.2</td>\n      <td>1163</td>\n    </tr>\n    <tr>\n      <th>6037</th>\n      <td>TEST_6037</td>\n      <td>COMPONENT3</td>\n      <td>4131</td>\n      <td>2016</td>\n      <td>200</td>\n      <td>0</td>\n      <td>0</td>\n      <td>5</td>\n      <td>2</td>\n      <td>736</td>\n      <td>0.0</td>\n      <td>5</td>\n      <td>0</td>\n      <td>0</td>\n      <td>693</td>\n      <td>0</td>\n      <td>0</td>\n      <td>137.8</td>\n      <td>13</td>\n    </tr>\n    <tr>\n      <th>6038</th>\n      <td>TEST_6038</td>\n      <td>COMPONENT3</td>\n      <td>4325</td>\n      <td>2014</td>\n      <td>200</td>\n      <td>0</td>\n      <td>0</td>\n      <td>0</td>\n      <td>0</td>\n      <td>53</td>\n      <td>0.0</td>\n      <td>0</td>\n      <td>0</td>\n      <td>0</td>\n      <td>69</td>\n      <td>0</td>\n      <td>0</td>\n      <td>302.2</td>\n      <td>13</td>\n    </tr>\n    <tr>\n      <th>6039</th>\n      <td>TEST_6039</td>\n      <td>COMPONENT2</td>\n      <td>1364</td>\n      <td>2013</td>\n      <td>200</td>\n      <td>0</td>\n      <td>0</td>\n      <td>0</td>\n      <td>62</td>\n      <td>2</td>\n      <td>0.0</td>\n      <td>0</td>\n      <td>0</td>\n      <td>0</td>\n      <td>5</td>\n      <td>0</td>\n      <td>0</td>\n      <td>51.1</td>\n      <td>478</td>\n    </tr>\n    <tr>\n      <th>6040</th>\n      <td>TEST_6040</td>\n      <td>COMPONENT1</td>\n      <td>2397</td>\n      <td>2016</td>\n      <td>1597</td>\n      <td>1</td>\n      <td>0</td>\n      <td>0</td>\n      <td>0</td>\n      <td>4</td>\n      <td>0.0</td>\n      <td>0</td>\n      <td>2</td>\n      <td>0</td>\n      <td>14</td>\n      <td>0</td>\n      <td>0</td>\n      <td>80.0</td>\n      <td>970</td>\n    </tr>\n  </tbody>\n</table>\n<p>20136 rows × 19 columns</p>\n</div>"
     },
     "execution_count": 21,
     "metadata": {},
     "output_type": "execute_result"
    }
   ],
   "source": [
    "df"
   ],
   "metadata": {
    "collapsed": false,
    "pycharm": {
     "name": "#%%\n"
    }
   }
  },
  {
   "cell_type": "markdown",
   "source": [
    "## 이상치 제거"
   ],
   "metadata": {
    "collapsed": false
   }
  },
  {
   "cell_type": "code",
   "source": [
    "q3 = df.quantile(0.75)  # df['국어'].quantile(0.75) 처럼 특정 열만 적용 가능\n",
    "q1 = df.quantile(0.25)\n",
    "\n",
    "iqr = q3 - q1\n",
    "\n",
    "iqr"
   ],
   "metadata": {
    "collapsed": false,
    "pycharm": {
     "name": "#%%\n"
    }
   },
   "execution_count": 22,
   "outputs": [
    {
     "name": "stderr",
     "output_type": "stream",
     "text": [
      "C:\\Users\\yoon9\\AppData\\Local\\Temp\\ipykernel_25200\\764714985.py:1: FutureWarning: The default value of numeric_only in DataFrame.quantile is deprecated. In a future version, it will default to False. Select only valid columns or specify the value of numeric_only to silence this warning.\n",
      "  q3 = df.quantile(0.75)  # df['국어'].quantile(0.75) 처럼 특정 열만 적용 가능\n",
      "C:\\Users\\yoon9\\AppData\\Local\\Temp\\ipykernel_25200\\764714985.py:2: FutureWarning: The default value of numeric_only in DataFrame.quantile is deprecated. In a future version, it will default to False. Select only valid columns or specify the value of numeric_only to silence this warning.\n",
      "  q1 = df.quantile(0.25)\n"
     ]
    },
    {
     "data": {
      "text/plain": "수치형데이터1     2149.25\n진단년도           7.00\n수치형데이터2      212.00\n은              0.00\n일산화탄소          0.00\n크로뮴            3.00\n구리            16.00\n철            127.00\n물              0.00\n망가니즈           2.00\n몰리브데넘          7.00\n니켈             0.00\n입자 정량 지수     166.00\n타이타늄           0.00\n바나듐            0.00\n점도 40도        65.30\n아연          1080.00\ndtype: float64"
     },
     "execution_count": 22,
     "metadata": {},
     "output_type": "execute_result"
    }
   ]
  },
  {
   "cell_type": "code",
   "execution_count": 57,
   "outputs": [
    {
     "name": "stderr",
     "output_type": "stream",
     "text": [
      "C:\\Users\\yoon9\\AppData\\Local\\Temp\\ipykernel_25200\\1438212298.py:2: SettingWithCopyWarning: \n",
      "A value is trying to be set on a copy of a slice from a DataFrame.\n",
      "Try using .loc[row_indexer,col_indexer] = value instead\n",
      "\n",
      "See the caveats in the documentation: https://pandas.pydata.org/pandas-docs/stable/user_guide/indexing.html#returning-a-view-versus-a-copy\n",
      "  train_out['Y_LABEL'] = train['Y_LABEL']\n"
     ]
    },
    {
     "data": {
      "text/plain": "                ID    샘플오일관련부품  수치형데이터1  진단년도  수치형데이터2  은  일산화탄소  크로뮴   구리  \\\n0      TRAIN_00000  COMPONENT3     1486  2011      200  0      0   13   78   \n1      TRAIN_00001  COMPONENT2     1350  2021      375  0      0    0   31   \n2      TRAIN_00002  COMPONENT2     2415  2015      200  0      0    1    2   \n3      TRAIN_00003  COMPONENT3     7389  2010      200  0      0    0    1   \n4      TRAIN_00004  COMPONENT3     3954  2015      200  0      0    0    0   \n...            ...         ...      ...   ...      ... ..    ...  ...  ...   \n14090  TRAIN_14090  COMPONENT3     1616  2014      200  0      0    0    3   \n14091  TRAIN_14091  COMPONENT1     2784  2013      200  0      0    0    2   \n14092  TRAIN_14092  COMPONENT3     1788  2008      550  0      0    4    7   \n14093  TRAIN_14093  COMPONENT2     2498  2009      550  0      0    0  170   \n14094  TRAIN_14094  COMPONENT2     1902  2012      200  0      0    0  110   \n\n         철    물  망가니즈  몰리브데넘  니켈  입자 정량 지수  타이타늄  바나듐  점도 40도    아연  Y_LABEL  \n0      888  0.0    16      1   6      8504     5    0   154.0    75        0  \n1        2  0.0     0      0   0        19     0    0    44.0   652        0  \n2        4  0.0     0      0   0        17     0    0    72.6   412        1  \n3       37  0.0     1      0   0        44     0    0   133.3     7        0  \n4       71  0.0     0      0   0       217     0    0   133.1   128        0  \n...    ...  ...   ...    ...  ..       ...   ...  ...     ...   ...      ...  \n14090   23  0.0     0      0   0        35     0    0   135.4    16        0  \n14091   12  0.0     0    224   0         9     0    0   117.5  1408        0  \n14092  415  0.0     7     10   1       645     0    0    54.0  1301        0  \n14093   19  0.0     0      1   0        11     0    0    44.3   652        0  \n14094   10  0.0     0      0   0        81     2    0    47.0   612        0  \n\n[14095 rows x 20 columns]",
      "text/html": "<div>\n<style scoped>\n    .dataframe tbody tr th:only-of-type {\n        vertical-align: middle;\n    }\n\n    .dataframe tbody tr th {\n        vertical-align: top;\n    }\n\n    .dataframe thead th {\n        text-align: right;\n    }\n</style>\n<table border=\"1\" class=\"dataframe\">\n  <thead>\n    <tr style=\"text-align: right;\">\n      <th></th>\n      <th>ID</th>\n      <th>샘플오일관련부품</th>\n      <th>수치형데이터1</th>\n      <th>진단년도</th>\n      <th>수치형데이터2</th>\n      <th>은</th>\n      <th>일산화탄소</th>\n      <th>크로뮴</th>\n      <th>구리</th>\n      <th>철</th>\n      <th>물</th>\n      <th>망가니즈</th>\n      <th>몰리브데넘</th>\n      <th>니켈</th>\n      <th>입자 정량 지수</th>\n      <th>타이타늄</th>\n      <th>바나듐</th>\n      <th>점도 40도</th>\n      <th>아연</th>\n      <th>Y_LABEL</th>\n    </tr>\n  </thead>\n  <tbody>\n    <tr>\n      <th>0</th>\n      <td>TRAIN_00000</td>\n      <td>COMPONENT3</td>\n      <td>1486</td>\n      <td>2011</td>\n      <td>200</td>\n      <td>0</td>\n      <td>0</td>\n      <td>13</td>\n      <td>78</td>\n      <td>888</td>\n      <td>0.0</td>\n      <td>16</td>\n      <td>1</td>\n      <td>6</td>\n      <td>8504</td>\n      <td>5</td>\n      <td>0</td>\n      <td>154.0</td>\n      <td>75</td>\n      <td>0</td>\n    </tr>\n    <tr>\n      <th>1</th>\n      <td>TRAIN_00001</td>\n      <td>COMPONENT2</td>\n      <td>1350</td>\n      <td>2021</td>\n      <td>375</td>\n      <td>0</td>\n      <td>0</td>\n      <td>0</td>\n      <td>31</td>\n      <td>2</td>\n      <td>0.0</td>\n      <td>0</td>\n      <td>0</td>\n      <td>0</td>\n      <td>19</td>\n      <td>0</td>\n      <td>0</td>\n      <td>44.0</td>\n      <td>652</td>\n      <td>0</td>\n    </tr>\n    <tr>\n      <th>2</th>\n      <td>TRAIN_00002</td>\n      <td>COMPONENT2</td>\n      <td>2415</td>\n      <td>2015</td>\n      <td>200</td>\n      <td>0</td>\n      <td>0</td>\n      <td>1</td>\n      <td>2</td>\n      <td>4</td>\n      <td>0.0</td>\n      <td>0</td>\n      <td>0</td>\n      <td>0</td>\n      <td>17</td>\n      <td>0</td>\n      <td>0</td>\n      <td>72.6</td>\n      <td>412</td>\n      <td>1</td>\n    </tr>\n    <tr>\n      <th>3</th>\n      <td>TRAIN_00003</td>\n      <td>COMPONENT3</td>\n      <td>7389</td>\n      <td>2010</td>\n      <td>200</td>\n      <td>0</td>\n      <td>0</td>\n      <td>0</td>\n      <td>1</td>\n      <td>37</td>\n      <td>0.0</td>\n      <td>1</td>\n      <td>0</td>\n      <td>0</td>\n      <td>44</td>\n      <td>0</td>\n      <td>0</td>\n      <td>133.3</td>\n      <td>7</td>\n      <td>0</td>\n    </tr>\n    <tr>\n      <th>4</th>\n      <td>TRAIN_00004</td>\n      <td>COMPONENT3</td>\n      <td>3954</td>\n      <td>2015</td>\n      <td>200</td>\n      <td>0</td>\n      <td>0</td>\n      <td>0</td>\n      <td>0</td>\n      <td>71</td>\n      <td>0.0</td>\n      <td>0</td>\n      <td>0</td>\n      <td>0</td>\n      <td>217</td>\n      <td>0</td>\n      <td>0</td>\n      <td>133.1</td>\n      <td>128</td>\n      <td>0</td>\n    </tr>\n    <tr>\n      <th>...</th>\n      <td>...</td>\n      <td>...</td>\n      <td>...</td>\n      <td>...</td>\n      <td>...</td>\n      <td>...</td>\n      <td>...</td>\n      <td>...</td>\n      <td>...</td>\n      <td>...</td>\n      <td>...</td>\n      <td>...</td>\n      <td>...</td>\n      <td>...</td>\n      <td>...</td>\n      <td>...</td>\n      <td>...</td>\n      <td>...</td>\n      <td>...</td>\n      <td>...</td>\n    </tr>\n    <tr>\n      <th>14090</th>\n      <td>TRAIN_14090</td>\n      <td>COMPONENT3</td>\n      <td>1616</td>\n      <td>2014</td>\n      <td>200</td>\n      <td>0</td>\n      <td>0</td>\n      <td>0</td>\n      <td>3</td>\n      <td>23</td>\n      <td>0.0</td>\n      <td>0</td>\n      <td>0</td>\n      <td>0</td>\n      <td>35</td>\n      <td>0</td>\n      <td>0</td>\n      <td>135.4</td>\n      <td>16</td>\n      <td>0</td>\n    </tr>\n    <tr>\n      <th>14091</th>\n      <td>TRAIN_14091</td>\n      <td>COMPONENT1</td>\n      <td>2784</td>\n      <td>2013</td>\n      <td>200</td>\n      <td>0</td>\n      <td>0</td>\n      <td>0</td>\n      <td>2</td>\n      <td>12</td>\n      <td>0.0</td>\n      <td>0</td>\n      <td>224</td>\n      <td>0</td>\n      <td>9</td>\n      <td>0</td>\n      <td>0</td>\n      <td>117.5</td>\n      <td>1408</td>\n      <td>0</td>\n    </tr>\n    <tr>\n      <th>14092</th>\n      <td>TRAIN_14092</td>\n      <td>COMPONENT3</td>\n      <td>1788</td>\n      <td>2008</td>\n      <td>550</td>\n      <td>0</td>\n      <td>0</td>\n      <td>4</td>\n      <td>7</td>\n      <td>415</td>\n      <td>0.0</td>\n      <td>7</td>\n      <td>10</td>\n      <td>1</td>\n      <td>645</td>\n      <td>0</td>\n      <td>0</td>\n      <td>54.0</td>\n      <td>1301</td>\n      <td>0</td>\n    </tr>\n    <tr>\n      <th>14093</th>\n      <td>TRAIN_14093</td>\n      <td>COMPONENT2</td>\n      <td>2498</td>\n      <td>2009</td>\n      <td>550</td>\n      <td>0</td>\n      <td>0</td>\n      <td>0</td>\n      <td>170</td>\n      <td>19</td>\n      <td>0.0</td>\n      <td>0</td>\n      <td>1</td>\n      <td>0</td>\n      <td>11</td>\n      <td>0</td>\n      <td>0</td>\n      <td>44.3</td>\n      <td>652</td>\n      <td>0</td>\n    </tr>\n    <tr>\n      <th>14094</th>\n      <td>TRAIN_14094</td>\n      <td>COMPONENT2</td>\n      <td>1902</td>\n      <td>2012</td>\n      <td>200</td>\n      <td>0</td>\n      <td>0</td>\n      <td>0</td>\n      <td>110</td>\n      <td>10</td>\n      <td>0.0</td>\n      <td>0</td>\n      <td>0</td>\n      <td>0</td>\n      <td>81</td>\n      <td>2</td>\n      <td>0</td>\n      <td>47.0</td>\n      <td>612</td>\n      <td>0</td>\n    </tr>\n  </tbody>\n</table>\n<p>14095 rows × 20 columns</p>\n</div>"
     },
     "execution_count": 57,
     "metadata": {},
     "output_type": "execute_result"
    }
   ],
   "source": [
    "train_out = train[test_columns_list]\n",
    "train_out['Y_LABEL'] = train['Y_LABEL']\n",
    "train_out"
   ],
   "metadata": {
    "collapsed": false,
    "pycharm": {
     "name": "#%%\n"
    }
   }
  },
  {
   "cell_type": "code",
   "execution_count": 35,
   "outputs": [],
   "source": [
    "# '국어' 열에 대하여 이상치 여부를 판별해주는 함수\n",
    "\n",
    "def remove_out(dataframe, remove_col):\n",
    "    dff = dataframe\n",
    "    for k in remove_col:\n",
    "        level_1q = dff[k].quantile(0.25)\n",
    "        level_3q = dff[k].quantile(0.75)\n",
    "        IQR = level_3q - level_1q\n",
    "        rev_range = 3  # 제거 범위 조절 변수\n",
    "        dff = dff[(dff[k] <= level_3q + (rev_range * IQR)) & (dff[k] >= level_1q - (rev_range * IQR))]\n",
    "        dff = dff.reset_index(drop=True)\n",
    "    return dff"
   ],
   "metadata": {
    "collapsed": false,
    "pycharm": {
     "name": "#%%\n"
    }
   }
  },
  {
   "cell_type": "code",
   "execution_count": 52,
   "outputs": [],
   "source": [
    "train_outlier = remove_out(train_out,num_attribss_list)"
   ],
   "metadata": {
    "collapsed": false,
    "pycharm": {
     "name": "#%%\n"
    }
   }
  },
  {
   "cell_type": "code",
   "execution_count": 53,
   "outputs": [
    {
     "data": {
      "text/plain": "               ID    샘플오일관련부품  수치형데이터1  진단년도  수치형데이터2  은  일산화탄소  크로뮴  구리   철  \\\n0     TRAIN_00001  COMPONENT2     1350  2021      375  0      0    0  31   2   \n1     TRAIN_00002  COMPONENT2     2415  2015      200  0      0    1   2   4   \n2     TRAIN_00003  COMPONENT3     7389  2010      200  0      0    0   1  37   \n3     TRAIN_00004  COMPONENT3     3954  2015      200  0      0    0   0  71   \n4     TRAIN_00006  COMPONENT3     1416  2015      616  0      0    0   3  35   \n...           ...         ...      ...   ...      ... ..    ...  ...  ..  ..   \n6111  TRAIN_14085  COMPONENT2     4976  2013      200  0      0    0  14   3   \n6112  TRAIN_14087  COMPONENT1     1192  2014      200  0      0    0   0   9   \n6113  TRAIN_14088  COMPONENT3     1311  2010      511  0      0    0   8  43   \n6114  TRAIN_14089  COMPONENT2     1552  2007      375  0      0    0  41  15   \n6115  TRAIN_14090  COMPONENT3     1616  2014      200  0      0    0   3  23   \n\n        물  망가니즈  몰리브데넘  니켈  입자 정량 지수  타이타늄  바나듐  점도 40도    아연  Y_LABEL  \n0     0.0     0      0   0        19     0    0    44.0   652        0  \n1     0.0     0      0   0        17     0    0    72.6   412        1  \n2     0.0     1      0   0        44     0    0   133.3     7        0  \n3     0.0     0      0   0       217     0    0   133.1   128        0  \n4     0.0     0      0   0        26     0    0   148.5    24        0  \n...   ...   ...    ...  ..       ...   ...  ...     ...   ...      ...  \n6111  0.0     0      0   0         7     0    0    44.0   651        0  \n6112  0.0     0      0   0        11     0    0   106.2  1204        0  \n6113  0.0     0      0   0        16     0    0   128.9    20        0  \n6114  0.0     0      0   0        35     0    0    59.8   395        1  \n6115  0.0     0      0   0        35     0    0   135.4    16        0  \n\n[6116 rows x 20 columns]",
      "text/html": "<div>\n<style scoped>\n    .dataframe tbody tr th:only-of-type {\n        vertical-align: middle;\n    }\n\n    .dataframe tbody tr th {\n        vertical-align: top;\n    }\n\n    .dataframe thead th {\n        text-align: right;\n    }\n</style>\n<table border=\"1\" class=\"dataframe\">\n  <thead>\n    <tr style=\"text-align: right;\">\n      <th></th>\n      <th>ID</th>\n      <th>샘플오일관련부품</th>\n      <th>수치형데이터1</th>\n      <th>진단년도</th>\n      <th>수치형데이터2</th>\n      <th>은</th>\n      <th>일산화탄소</th>\n      <th>크로뮴</th>\n      <th>구리</th>\n      <th>철</th>\n      <th>물</th>\n      <th>망가니즈</th>\n      <th>몰리브데넘</th>\n      <th>니켈</th>\n      <th>입자 정량 지수</th>\n      <th>타이타늄</th>\n      <th>바나듐</th>\n      <th>점도 40도</th>\n      <th>아연</th>\n      <th>Y_LABEL</th>\n    </tr>\n  </thead>\n  <tbody>\n    <tr>\n      <th>0</th>\n      <td>TRAIN_00001</td>\n      <td>COMPONENT2</td>\n      <td>1350</td>\n      <td>2021</td>\n      <td>375</td>\n      <td>0</td>\n      <td>0</td>\n      <td>0</td>\n      <td>31</td>\n      <td>2</td>\n      <td>0.0</td>\n      <td>0</td>\n      <td>0</td>\n      <td>0</td>\n      <td>19</td>\n      <td>0</td>\n      <td>0</td>\n      <td>44.0</td>\n      <td>652</td>\n      <td>0</td>\n    </tr>\n    <tr>\n      <th>1</th>\n      <td>TRAIN_00002</td>\n      <td>COMPONENT2</td>\n      <td>2415</td>\n      <td>2015</td>\n      <td>200</td>\n      <td>0</td>\n      <td>0</td>\n      <td>1</td>\n      <td>2</td>\n      <td>4</td>\n      <td>0.0</td>\n      <td>0</td>\n      <td>0</td>\n      <td>0</td>\n      <td>17</td>\n      <td>0</td>\n      <td>0</td>\n      <td>72.6</td>\n      <td>412</td>\n      <td>1</td>\n    </tr>\n    <tr>\n      <th>2</th>\n      <td>TRAIN_00003</td>\n      <td>COMPONENT3</td>\n      <td>7389</td>\n      <td>2010</td>\n      <td>200</td>\n      <td>0</td>\n      <td>0</td>\n      <td>0</td>\n      <td>1</td>\n      <td>37</td>\n      <td>0.0</td>\n      <td>1</td>\n      <td>0</td>\n      <td>0</td>\n      <td>44</td>\n      <td>0</td>\n      <td>0</td>\n      <td>133.3</td>\n      <td>7</td>\n      <td>0</td>\n    </tr>\n    <tr>\n      <th>3</th>\n      <td>TRAIN_00004</td>\n      <td>COMPONENT3</td>\n      <td>3954</td>\n      <td>2015</td>\n      <td>200</td>\n      <td>0</td>\n      <td>0</td>\n      <td>0</td>\n      <td>0</td>\n      <td>71</td>\n      <td>0.0</td>\n      <td>0</td>\n      <td>0</td>\n      <td>0</td>\n      <td>217</td>\n      <td>0</td>\n      <td>0</td>\n      <td>133.1</td>\n      <td>128</td>\n      <td>0</td>\n    </tr>\n    <tr>\n      <th>4</th>\n      <td>TRAIN_00006</td>\n      <td>COMPONENT3</td>\n      <td>1416</td>\n      <td>2015</td>\n      <td>616</td>\n      <td>0</td>\n      <td>0</td>\n      <td>0</td>\n      <td>3</td>\n      <td>35</td>\n      <td>0.0</td>\n      <td>0</td>\n      <td>0</td>\n      <td>0</td>\n      <td>26</td>\n      <td>0</td>\n      <td>0</td>\n      <td>148.5</td>\n      <td>24</td>\n      <td>0</td>\n    </tr>\n    <tr>\n      <th>...</th>\n      <td>...</td>\n      <td>...</td>\n      <td>...</td>\n      <td>...</td>\n      <td>...</td>\n      <td>...</td>\n      <td>...</td>\n      <td>...</td>\n      <td>...</td>\n      <td>...</td>\n      <td>...</td>\n      <td>...</td>\n      <td>...</td>\n      <td>...</td>\n      <td>...</td>\n      <td>...</td>\n      <td>...</td>\n      <td>...</td>\n      <td>...</td>\n      <td>...</td>\n    </tr>\n    <tr>\n      <th>6111</th>\n      <td>TRAIN_14085</td>\n      <td>COMPONENT2</td>\n      <td>4976</td>\n      <td>2013</td>\n      <td>200</td>\n      <td>0</td>\n      <td>0</td>\n      <td>0</td>\n      <td>14</td>\n      <td>3</td>\n      <td>0.0</td>\n      <td>0</td>\n      <td>0</td>\n      <td>0</td>\n      <td>7</td>\n      <td>0</td>\n      <td>0</td>\n      <td>44.0</td>\n      <td>651</td>\n      <td>0</td>\n    </tr>\n    <tr>\n      <th>6112</th>\n      <td>TRAIN_14087</td>\n      <td>COMPONENT1</td>\n      <td>1192</td>\n      <td>2014</td>\n      <td>200</td>\n      <td>0</td>\n      <td>0</td>\n      <td>0</td>\n      <td>0</td>\n      <td>9</td>\n      <td>0.0</td>\n      <td>0</td>\n      <td>0</td>\n      <td>0</td>\n      <td>11</td>\n      <td>0</td>\n      <td>0</td>\n      <td>106.2</td>\n      <td>1204</td>\n      <td>0</td>\n    </tr>\n    <tr>\n      <th>6113</th>\n      <td>TRAIN_14088</td>\n      <td>COMPONENT3</td>\n      <td>1311</td>\n      <td>2010</td>\n      <td>511</td>\n      <td>0</td>\n      <td>0</td>\n      <td>0</td>\n      <td>8</td>\n      <td>43</td>\n      <td>0.0</td>\n      <td>0</td>\n      <td>0</td>\n      <td>0</td>\n      <td>16</td>\n      <td>0</td>\n      <td>0</td>\n      <td>128.9</td>\n      <td>20</td>\n      <td>0</td>\n    </tr>\n    <tr>\n      <th>6114</th>\n      <td>TRAIN_14089</td>\n      <td>COMPONENT2</td>\n      <td>1552</td>\n      <td>2007</td>\n      <td>375</td>\n      <td>0</td>\n      <td>0</td>\n      <td>0</td>\n      <td>41</td>\n      <td>15</td>\n      <td>0.0</td>\n      <td>0</td>\n      <td>0</td>\n      <td>0</td>\n      <td>35</td>\n      <td>0</td>\n      <td>0</td>\n      <td>59.8</td>\n      <td>395</td>\n      <td>1</td>\n    </tr>\n    <tr>\n      <th>6115</th>\n      <td>TRAIN_14090</td>\n      <td>COMPONENT3</td>\n      <td>1616</td>\n      <td>2014</td>\n      <td>200</td>\n      <td>0</td>\n      <td>0</td>\n      <td>0</td>\n      <td>3</td>\n      <td>23</td>\n      <td>0.0</td>\n      <td>0</td>\n      <td>0</td>\n      <td>0</td>\n      <td>35</td>\n      <td>0</td>\n      <td>0</td>\n      <td>135.4</td>\n      <td>16</td>\n      <td>0</td>\n    </tr>\n  </tbody>\n</table>\n<p>6116 rows × 20 columns</p>\n</div>"
     },
     "execution_count": 53,
     "metadata": {},
     "output_type": "execute_result"
    }
   ],
   "source": [
    "train_outlier"
   ],
   "metadata": {
    "collapsed": false,
    "pycharm": {
     "name": "#%%\n"
    }
   }
  },
  {
   "cell_type": "code",
   "execution_count": 54,
   "outputs": [],
   "source": [
    "df_out = pd.concat([train_outlier,test])"
   ],
   "metadata": {
    "collapsed": false,
    "pycharm": {
     "name": "#%%\n"
    }
   }
  },
  {
   "cell_type": "markdown",
   "source": [
    "## 스케일링"
   ],
   "metadata": {
    "collapsed": false
   }
  },
  {
   "cell_type": "markdown",
   "source": [
    "### StandardScaler"
   ],
   "metadata": {
    "collapsed": false
   }
  },
  {
   "cell_type": "code",
   "execution_count": 42,
   "outputs": [],
   "source": [
    "# 스탠다드 스케일러\n",
    "def standard_scale(df):\n",
    "    # 수치형 변수 스케일링\n",
    "    sta_scaler = StandardScaler()\n",
    "    sta_X_scale = sta_scaler.fit_transform(df)\n",
    "    sta_X_scale = pd.DataFrame(sta_X_scale, columns=df.columns)\n",
    "    return sta_X_scale  # 스케일링 데이터 프레임화\n",
    "\n",
    "# MinMax scaler\n",
    "def MM_scale(df):\n",
    "    MM_scaler = MinMaxScaler()\n",
    "    MM_X_scale = MM_scaler.fit_transform(df)\n",
    "    MM_X_scale = pd.DataFrame(MM_X_scale, columns=df.columns)\n",
    "    return MM_X_scale  # 스케일링 데이터 프레임화\n",
    "\n",
    "# robust scaler\n",
    "def robust_scale(df):\n",
    "    robustScaler = RobustScaler()\n",
    "    print(robustScaler.fit(df))\n",
    "    train_data_robustScaled = robustScaler.transform(df)\n",
    "    robust_X_scale = pd.DataFrame(train_data_robustScaled, columns=num_attribss.columns)\n",
    "    return robust_X_scale"
   ],
   "metadata": {
    "collapsed": false,
    "pycharm": {
     "name": "#%%\n"
    }
   }
  },
  {
   "cell_type": "markdown",
   "source": [
    "# 인코딩"
   ],
   "metadata": {
    "collapsed": false,
    "pycharm": {
     "name": "#%% md\n"
    }
   }
  },
  {
   "cell_type": "code",
   "execution_count": 41,
   "outputs": [],
   "source": [
    "# 원핫인코딩 함수 적용\n",
    "def hot1_encoding(df):\n",
    "    hot1_encoder = OneHotEncoder(sparse=False,drop='if_binary')\n",
    "    X_1hot = hot1_encoder.fit_transform(df)\n",
    "    X_1hot = pd.DataFrame(X_1hot, columns=hot1_encoder.get_feature_names())\n",
    "    return X_1hot\n",
    "\n",
    "# 라벨 인코딩\n",
    "def label_encoding(df):\n",
    "    X_label = df.copy()\n",
    "    lab_encoder = LabelEncoder()  #순서가 있는 카테고리형\n",
    "    for name in df.columns:\n",
    "        X_label[name] = lab_encoder.fit_transform(df[name])\n",
    "    X_label_ob = X_label.astype('object')\n",
    "    return X_label_ob"
   ],
   "metadata": {
    "collapsed": false,
    "pycharm": {
     "name": "#%%\n"
    }
   }
  },
  {
   "cell_type": "markdown",
   "source": [
    "# 데이터 프레임 합치기"
   ],
   "metadata": {
    "collapsed": false
   }
  },
  {
   "cell_type": "code",
   "execution_count": 40,
   "outputs": [],
   "source": [
    "def cocnat_df(df1,df2):\n",
    "    df1 = df1.reset_index()\n",
    "    df2 = df2.reset_index()\n",
    "    df_all = pd.concat([df1,df2],axis=1)\n",
    "    df_all = df_all.drop(columns=['index'])\n",
    "    return df_all"
   ],
   "metadata": {
    "collapsed": false,
    "pycharm": {
     "name": "#%%\n"
    }
   }
  },
  {
   "cell_type": "code",
   "execution_count": null,
   "outputs": [],
   "source": [
    "df_base = cocnat_df(num_attribss,label_encoding(cat_attribs))"
   ],
   "metadata": {
    "collapsed": false,
    "pycharm": {
     "name": "#%%\n"
    }
   }
  },
  {
   "cell_type": "code",
   "execution_count": null,
   "outputs": [],
   "source": [
    "df_base"
   ],
   "metadata": {
    "collapsed": false,
    "pycharm": {
     "name": "#%%\n"
    }
   }
  },
  {
   "cell_type": "markdown",
   "source": [
    "# 데이터 나누기"
   ],
   "metadata": {
    "collapsed": false,
    "pycharm": {
     "name": "#%% md\n"
    }
   }
  },
  {
   "cell_type": "code",
   "execution_count": 58,
   "outputs": [],
   "source": [
    "def split_train_test(df):\n",
    "\n",
    "    train = df[:14095]\n",
    "    test = df[14095:]\n",
    "    return train, test\n",
    "\n",
    "def split_train_test_out(df):\n",
    "\n",
    "    train = df[:6116]\n",
    "    test = df[6116:]\n",
    "    return train, test\n",
    "\n",
    "def split_train_val(df,y):\n",
    "\n",
    "    X_train, X_val, y_train, y_val = train_test_split(df, y, test_size=0.3, shuffle=True, stratify=y, random_state=42)\n",
    "    print(X_train.shape, X_val.shape, y_train.shape, y_val.shape)\n",
    "\n",
    "    return X_train, X_val, y_train, y_val\n"
   ],
   "metadata": {
    "collapsed": false,
    "pycharm": {
     "name": "#%%\n"
    }
   }
  },
  {
   "cell_type": "markdown",
   "source": [
    "## 모델 평가 함수"
   ],
   "metadata": {
    "collapsed": false
   }
  },
  {
   "cell_type": "code",
   "execution_count": 43,
   "outputs": [],
   "source": [
    "from sklearn.metrics import precision_score, recall_score\n",
    "from sklearn.metrics import f1_score\n",
    "from sklearn.metrics import confusion_matrix\n",
    "from sklearn.metrics import accuracy_score"
   ],
   "metadata": {
    "collapsed": false,
    "pycharm": {
     "name": "#%%\n"
    }
   }
  },
  {
   "cell_type": "code",
   "execution_count": 44,
   "outputs": [],
   "source": [
    "def model_eval(pred, answer):\n",
    "    print(f'accuracy_score : {accuracy_score(pred,answer)}')\n",
    "    print(f'recall_score : {recall_score(pred,answer)}')\n",
    "    print(f'precision_score : {precision_score(pred,answer)}')\n",
    "    print(f'f1_score : {f1_score(pred,answer)}')\n",
    "    print(f'coufusion_matrix : ')\n",
    "    print(confusion_matrix(pred,answer))"
   ],
   "metadata": {
    "collapsed": false,
    "pycharm": {
     "name": "#%%\n"
    }
   }
  },
  {
   "cell_type": "markdown",
   "source": [
    "## 모델 학습 및 평가 함수"
   ],
   "metadata": {
    "collapsed": false
   }
  },
  {
   "cell_type": "code",
   "execution_count": 45,
   "outputs": [],
   "source": [
    "from sklearn.ensemble import RandomForestClassifier"
   ],
   "metadata": {
    "collapsed": false,
    "pycharm": {
     "name": "#%%\n"
    }
   }
  },
  {
   "cell_type": "code",
   "execution_count": 46,
   "outputs": [],
   "source": [
    "def pipeline_RF(X_train,X_val,y_train,y_val):\n",
    "    model_rf = RandomForestClassifier(max_depth=10,n_estimators=100)\n",
    "    model_rf.fit(X_train,y_train)\n",
    "    print(model_rf)\n",
    "    X_val_predicted = model_rf.predict(X_val)\n",
    "\n",
    "    print(model_eval(X_val_predicted,y_val))\n",
    "\n",
    "    return model_rf"
   ],
   "metadata": {
    "collapsed": false,
    "pycharm": {
     "name": "#%%\n"
    }
   }
  },
  {
   "cell_type": "markdown",
   "source": [
    "# 예측 함수"
   ],
   "metadata": {
    "collapsed": false,
    "pycharm": {
     "name": "#%% md\n"
    }
   }
  },
  {
   "cell_type": "code",
   "execution_count": 47,
   "outputs": [],
   "source": [
    "def make_submission(model,test,submission):\n",
    "    name = input(str)\n",
    "    pred_test = model.predict(test)\n",
    "    submission['Y_LABEL'] = pred_test\n",
    "    print(submission)\n",
    "    submission.to_csv(rf'C:\\Users\\yoon9\\PycharmProjects\\Sejong_Project\\data\\construct_Oil_data\\submission_{name}.csv',index = False)\n",
    "    print('Done')\n"
   ],
   "metadata": {
    "collapsed": false,
    "pycharm": {
     "name": "#%%\n"
    }
   }
  },
  {
   "cell_type": "markdown",
   "source": [
    "## X_base Baseline 모델 (피쳐엔지니어링 X + Label Encoding)"
   ],
   "metadata": {
    "collapsed": false,
    "pycharm": {
     "name": "#%% md\n"
    }
   }
  },
  {
   "cell_type": "code",
   "execution_count": null,
   "outputs": [],
   "source": [
    "train_base, test_base = split_train_test(df_base)"
   ],
   "metadata": {
    "collapsed": false,
    "pycharm": {
     "name": "#%%\n"
    }
   }
  },
  {
   "cell_type": "code",
   "execution_count": null,
   "outputs": [],
   "source": [
    "test_base"
   ],
   "metadata": {
    "collapsed": false,
    "pycharm": {
     "name": "#%%\n"
    }
   }
  },
  {
   "cell_type": "code",
   "execution_count": null,
   "outputs": [],
   "source": [
    "X_train_base, X_val_base, y_train_base, y_val_base = split_train_val(train_base,y)"
   ],
   "metadata": {
    "collapsed": false,
    "pycharm": {
     "name": "#%%\n"
    }
   }
  },
  {
   "cell_type": "code",
   "execution_count": null,
   "outputs": [],
   "source": [
    "model_base = pipeline_RF(X_train_base, X_val_base, y_train_base, y_val_base)"
   ],
   "metadata": {
    "collapsed": false,
    "pycharm": {
     "name": "#%%\n"
    }
   }
  },
  {
   "cell_type": "code",
   "execution_count": 75,
   "outputs": [],
   "source": [
    "submission = pd.read_csv(r'C:\\Users\\yoon9\\PycharmProjects\\Sejong_Project\\data\\construct_Oil_data\\sample_submission.csv')"
   ],
   "metadata": {
    "collapsed": false,
    "pycharm": {
     "name": "#%%\n"
    }
   }
  },
  {
   "cell_type": "code",
   "execution_count": null,
   "outputs": [],
   "source": [
    "make_submission(model_base,test_base,submission)"
   ],
   "metadata": {
    "collapsed": false,
    "pycharm": {
     "name": "#%%\n"
    }
   }
  },
  {
   "cell_type": "markdown",
   "source": [
    "# 타겟 불균형 문제 해결"
   ],
   "metadata": {
    "collapsed": false
   }
  },
  {
   "cell_type": "code",
   "execution_count": 61,
   "outputs": [],
   "source": [
    "from imblearn.combine import SMOTEENN\n",
    "from imblearn.combine import SMOTETomek\n",
    "\n",
    "def add_smote_enn(train,y):\n",
    "    smote_enn = SMOTEENN(random_state=42)\n",
    "    X_resampled, y_resampled = smote_enn.fit_resample(train, y)\n",
    "\n",
    "    return X_resampled,y_resampled\n",
    "\n",
    "def add_smote_tomek(train,y):\n",
    "\n",
    "    smote_tomek = SMOTETomek(random_state=42)\n",
    "    X_resampled, y_resampled = smote_tomek.fit_resample(train, y)\n",
    "\n",
    "    return X_resampled,y_resampled\n",
    "\n"
   ],
   "metadata": {
    "collapsed": false,
    "pycharm": {
     "name": "#%%\n"
    }
   }
  },
  {
   "cell_type": "code",
   "execution_count": null,
   "outputs": [],
   "source": [
    "add_smote_enn(train_base,y)"
   ],
   "metadata": {
    "collapsed": false,
    "pycharm": {
     "name": "#%%\n"
    }
   }
  },
  {
   "cell_type": "code",
   "execution_count": null,
   "outputs": [],
   "source": [
    "train"
   ],
   "metadata": {
    "collapsed": false,
    "pycharm": {
     "name": "#%%\n"
    }
   }
  },
  {
   "cell_type": "code",
   "execution_count": null,
   "outputs": [],
   "source": [
    "#X_train_SME, X_val_SME, y_train_SME, y_val_SME = split_train_val(X_resampled, y_resampled)\n",
    "\n",
    "#model_SMT = pipeline_RF(X_train_SME, X_val_SME, y_train_SME, y_val_SME)"
   ],
   "metadata": {
    "collapsed": false,
    "pycharm": {
     "name": "#%%\n"
    }
   }
  },
  {
   "cell_type": "code",
   "execution_count": null,
   "outputs": [],
   "source": [
    "# make_submission(model_SMT,test_base,submission)"
   ],
   "metadata": {
    "collapsed": false,
    "pycharm": {
     "name": "#%%\n"
    }
   }
  },
  {
   "cell_type": "markdown",
   "source": [
    "# 피쳐 엔지니어링 테스트"
   ],
   "metadata": {
    "collapsed": false,
    "pycharm": {
     "name": "#%% md\n"
    }
   }
  },
  {
   "cell_type": "markdown",
   "source": [
    "### smoteENN + Standard scaler + Label-encoding"
   ],
   "metadata": {
    "collapsed": false,
    "pycharm": {
     "name": "#%% md\n"
    }
   }
  },
  {
   "cell_type": "code",
   "execution_count": null,
   "outputs": [],
   "source": [
    "df_stand_1hot = cocnat_df(standard_scale(num_attribss),label_encoding(cat_attribs))\n",
    "df_stand_1hot"
   ],
   "metadata": {
    "collapsed": false,
    "pycharm": {
     "name": "#%%\n"
    }
   }
  },
  {
   "cell_type": "code",
   "execution_count": null,
   "outputs": [],
   "source": [
    "train_stand_1hot, test_stand_1hot = split_train_test(df_stand_1hot)"
   ],
   "metadata": {
    "collapsed": false,
    "pycharm": {
     "name": "#%%\n"
    }
   }
  },
  {
   "cell_type": "code",
   "execution_count": null,
   "outputs": [],
   "source": [
    "train_stand_1hot, y_stand_1hot = add_smote_enn(train_stand_1hot,y)"
   ],
   "metadata": {
    "collapsed": false,
    "pycharm": {
     "name": "#%%\n"
    }
   }
  },
  {
   "cell_type": "code",
   "execution_count": null,
   "outputs": [],
   "source": [
    "X_train_stand_1hot, X_val_stand_1hot, y_train_stand_1hot, y_val_stand_1hot = split_train_val(train_stand_1hot,y_stand_1hot)"
   ],
   "metadata": {
    "collapsed": false,
    "pycharm": {
     "name": "#%%\n"
    }
   }
  },
  {
   "cell_type": "code",
   "execution_count": null,
   "outputs": [],
   "source": [
    "model_stand_1hot = pipeline_RF(X_train_stand_1hot, X_val_stand_1hot, y_train_stand_1hot, y_val_stand_1hot)"
   ],
   "metadata": {
    "collapsed": false,
    "pycharm": {
     "name": "#%%\n"
    }
   }
  },
  {
   "cell_type": "code",
   "execution_count": null,
   "outputs": [],
   "source": [
    "make_submission(model_stand_1hot,test_stand_1hot,submission)"
   ],
   "metadata": {
    "collapsed": false,
    "pycharm": {
     "name": "#%%\n"
    }
   }
  },
  {
   "cell_type": "markdown",
   "source": [
    "## smoteENN + Standard scaler + One-hot-encoding"
   ],
   "metadata": {
    "collapsed": false,
    "pycharm": {
     "name": "#%% md\n"
    }
   }
  },
  {
   "cell_type": "code",
   "execution_count": null,
   "outputs": [],
   "source": [
    "df_stand_1hot = cocnat_df(standard_scale(num_attribss),hot1_encoding(cat_attribs))\n",
    "df_stand_1hot"
   ],
   "metadata": {
    "collapsed": false,
    "pycharm": {
     "name": "#%%\n"
    }
   }
  },
  {
   "cell_type": "code",
   "execution_count": null,
   "outputs": [],
   "source": [
    "train_stand_1hot, test_stand_1hot = split_train_test(df_stand_1hot)"
   ],
   "metadata": {
    "collapsed": false,
    "pycharm": {
     "name": "#%%\n"
    }
   }
  },
  {
   "cell_type": "code",
   "execution_count": null,
   "outputs": [],
   "source": [
    "train_stand_1hot, y_stand_1hot = add_smote_enn(train_stand_1hot,y)"
   ],
   "metadata": {
    "collapsed": false,
    "pycharm": {
     "name": "#%%\n"
    }
   }
  },
  {
   "cell_type": "code",
   "execution_count": null,
   "outputs": [],
   "source": [
    "X_train_stand_1hot, X_val_stand_1hot, y_train_stand_1hot, y_val_stand_1hot = split_train_val(train_stand_1hot,y_stand_1hot)"
   ],
   "metadata": {
    "collapsed": false,
    "pycharm": {
     "name": "#%%\n"
    }
   }
  },
  {
   "cell_type": "code",
   "execution_count": null,
   "outputs": [],
   "source": [
    "model_stand_1hot = pipeline_RF(X_train_stand_1hot, X_val_stand_1hot, y_train_stand_1hot, y_val_stand_1hot)"
   ],
   "metadata": {
    "collapsed": false,
    "pycharm": {
     "name": "#%%\n"
    }
   }
  },
  {
   "cell_type": "markdown",
   "source": [
    "### minmax_scaler + label"
   ],
   "metadata": {
    "collapsed": false,
    "pycharm": {
     "name": "#%% md\n"
    }
   }
  },
  {
   "cell_type": "code",
   "execution_count": null,
   "outputs": [],
   "source": [
    "df_MM_1hot = cocnat_df(MM_scale(num_attribss),label_encoding(cat_attribs))\n",
    "df_MM_1hot"
   ],
   "metadata": {
    "collapsed": false,
    "pycharm": {
     "name": "#%%\n"
    }
   }
  },
  {
   "cell_type": "code",
   "execution_count": null,
   "outputs": [],
   "source": [
    "train_stand_MM, test_stand_MM = split_train_test(df_MM_1hot)"
   ],
   "metadata": {
    "collapsed": false,
    "pycharm": {
     "name": "#%%\n"
    }
   }
  },
  {
   "cell_type": "code",
   "execution_count": null,
   "outputs": [],
   "source": [
    "train_stand_MM, y_stand_MM = add_smote_enn(train_stand_MM,y)"
   ],
   "metadata": {
    "collapsed": false,
    "pycharm": {
     "name": "#%%\n"
    }
   }
  },
  {
   "cell_type": "code",
   "execution_count": null,
   "outputs": [],
   "source": [
    "X_train_stand_MM, X_val_stand_MM, y_train_stand_MM, y_val_stand_MM = split_train_val(train_stand_MM,y_stand_MM)"
   ],
   "metadata": {
    "collapsed": false,
    "pycharm": {
     "name": "#%%\n"
    }
   }
  },
  {
   "cell_type": "code",
   "execution_count": null,
   "outputs": [],
   "source": [
    "model_stand_MM = pipeline_RF(X_train_stand_MM, X_val_stand_MM, y_train_stand_MM, y_val_stand_MM)"
   ],
   "metadata": {
    "collapsed": false,
    "pycharm": {
     "name": "#%%\n"
    }
   }
  },
  {
   "cell_type": "markdown",
   "source": [
    "### robust + label"
   ],
   "metadata": {
    "collapsed": false,
    "pycharm": {
     "name": "#%% md\n"
    }
   }
  },
  {
   "cell_type": "code",
   "execution_count": null,
   "outputs": [],
   "source": [
    "df_ro_label = cocnat_df(robust_scale(num_attribss),label_encoding(cat_attribs))\n",
    "df_ro_label"
   ],
   "metadata": {
    "collapsed": false,
    "pycharm": {
     "name": "#%%\n"
    }
   }
  },
  {
   "cell_type": "code",
   "execution_count": null,
   "outputs": [],
   "source": [
    "train_ro_label, test_ro_label = split_train_test(df_ro_label)"
   ],
   "metadata": {
    "collapsed": false,
    "pycharm": {
     "name": "#%%\n"
    }
   }
  },
  {
   "cell_type": "code",
   "execution_count": null,
   "outputs": [],
   "source": [
    "train_ro_label, y_ro_label = add_smote_enn(train_ro_label,y)"
   ],
   "metadata": {
    "collapsed": false,
    "pycharm": {
     "name": "#%%\n"
    }
   }
  },
  {
   "cell_type": "code",
   "execution_count": null,
   "outputs": [],
   "source": [
    "X_train_ro_label, X_val_ro_label, y_train_ro_label, y_val_ro_label = split_train_val(train_ro_label,y_ro_label)"
   ],
   "metadata": {
    "collapsed": false,
    "pycharm": {
     "name": "#%%\n"
    }
   }
  },
  {
   "cell_type": "code",
   "execution_count": null,
   "outputs": [],
   "source": [
    "model_ro_label = pipeline_RF(X_train_ro_label, X_val_ro_label, y_train_ro_label, y_val_ro_label)"
   ],
   "metadata": {
    "collapsed": false,
    "pycharm": {
     "name": "#%%\n"
    }
   }
  },
  {
   "cell_type": "markdown",
   "source": [
    "### drop 타이타늄 / Stand+label+smoteENN"
   ],
   "metadata": {
    "collapsed": false
   }
  },
  {
   "cell_type": "code",
   "execution_count": null,
   "outputs": [],
   "source": [
    "df_stand_1hot = cocnat_df(standard_scale(num_attribss_mang),label_encoding(cat_attribs))\n",
    "df_stand_1hot"
   ],
   "metadata": {
    "collapsed": false,
    "pycharm": {
     "name": "#%%\n"
    }
   }
  },
  {
   "cell_type": "code",
   "execution_count": null,
   "outputs": [],
   "source": [
    "train_stand_1hot, test_stand_1hot = split_train_test(df_stand_1hot)"
   ],
   "metadata": {
    "collapsed": false,
    "pycharm": {
     "name": "#%%\n"
    }
   }
  },
  {
   "cell_type": "code",
   "execution_count": null,
   "outputs": [],
   "source": [
    "train_stand_1hot, y_stand_1hot = add_smote_enn(train_stand_1hot,y)"
   ],
   "metadata": {
    "collapsed": false,
    "pycharm": {
     "name": "#%%\n"
    }
   }
  },
  {
   "cell_type": "code",
   "execution_count": null,
   "outputs": [],
   "source": [
    "X_train_stand_1hot, X_val_stand_1hot, y_train_stand_1hot, y_val_stand_1hot = split_train_val(train_stand_1hot,y_stand_1hot)"
   ],
   "metadata": {
    "collapsed": false,
    "pycharm": {
     "name": "#%%\n"
    }
   }
  },
  {
   "cell_type": "code",
   "execution_count": null,
   "outputs": [],
   "source": [
    "model_stand_1hot = pipeline_RF(X_train_stand_1hot, X_val_stand_1hot, y_train_stand_1hot, y_val_stand_1hot)"
   ],
   "metadata": {
    "collapsed": false,
    "pycharm": {
     "name": "#%%\n"
    }
   }
  },
  {
   "cell_type": "markdown",
   "source": [
    "### 이상치 제거"
   ],
   "metadata": {
    "collapsed": false
   }
  },
  {
   "cell_type": "code",
   "execution_count": 68,
   "outputs": [],
   "source": [
    "num_attribss_out = df_out[num_attribss_list]\n",
    "cat_attribs_out = df_out[['샘플오일관련부품']]\n",
    "y_out = df_out[:6116]['Y_LABEL']"
   ],
   "metadata": {
    "collapsed": false,
    "pycharm": {
     "name": "#%%\n"
    }
   }
  },
  {
   "cell_type": "code",
   "execution_count": 69,
   "outputs": [
    {
     "data": {
      "text/plain": "        수치형데이터1      진단년도   수치형데이터2         은     일산화탄소       크로뮴        구리  \\\n0     -0.482645  1.762894  0.056225 -0.104458 -0.080683 -0.130910  0.082528   \n1     -0.191775  0.212564 -0.358880 -0.104458 -0.080683 -0.064064 -0.181618   \n2      1.166708 -1.079378 -0.358880 -0.104458 -0.080683 -0.130910 -0.190727   \n3      0.228552  0.212564 -0.358880 -0.104458 -0.080683 -0.130910 -0.199835   \n4     -0.464619  0.212564  0.627885 -0.104458 -0.080683 -0.130910 -0.172510   \n...         ...       ...       ...       ...       ...       ...       ...   \n12152 -0.383230 -0.045824 -0.358880 -0.104458 -0.080683  0.069629  0.984267   \n12153  0.276893  0.470953 -0.358880 -0.104458 -0.080683  0.203321 -0.181618   \n12154  0.329878 -0.045824 -0.358880 -0.104458 -0.080683 -0.130910 -0.199835   \n12155 -0.478821 -0.304213 -0.358880 -0.104458 -0.080683 -0.130910  0.364891   \n12156 -0.196691  0.470953  2.954847  7.734436 -0.080683 -0.130910 -0.199835   \n\n              철         물      망가니즈     몰리브데넘        니켈  입자 정량 지수      타이타늄  \\\n0     -0.245064 -0.051625 -0.223329 -0.297123 -0.108446 -0.190226 -0.076071   \n1     -0.241019 -0.051625 -0.223329 -0.297123 -0.108446 -0.191770 -0.076071   \n2     -0.174283 -0.051625 -0.099998 -0.297123 -0.108446 -0.170932 -0.076071   \n3     -0.105525 -0.051625 -0.223329 -0.297123 -0.108446 -0.037419 -0.076071   \n4     -0.178328 -0.051625 -0.223329 -0.297123 -0.108446 -0.184824 -0.076071   \n...         ...       ...       ...       ...       ...       ...       ...   \n12152  1.868243 -0.051625  7.793185 -0.187179  0.385608  1.337840 -0.076071   \n12153  1.239307 -0.051625  0.393326 -0.297123 -0.108446  0.329934 -0.076071   \n12154 -0.141926 -0.051625 -0.223329 -0.297123 -0.108446 -0.151639 -0.076071   \n12155 -0.245064 -0.051625 -0.223329 -0.297123 -0.108446 -0.201031 -0.076071   \n12156 -0.241019 -0.051625 -0.223329 -0.253145 -0.108446 -0.194085 -0.076071   \n\n            바나듐    점도 40도        아연 샘플오일관련부품  \n0     -0.086964 -1.473684  0.177580        1  \n1     -0.086964 -0.808229 -0.286735        1  \n2     -0.086964  0.604118 -1.070268        2  \n3     -0.086964  0.599465 -0.836175        2  \n4     -0.086964  0.957787 -1.037379        2  \n...         ...       ...       ...      ...  \n12152 -0.086964 -0.840804  1.166184        2  \n12153 -0.086964  0.708823 -1.058660        2  \n12154 -0.086964  4.534027 -1.058660        2  \n12155 -0.086964 -1.308484 -0.159049        1  \n12156 -0.086964 -0.636048  0.792798        0  \n\n[12157 rows x 18 columns]",
      "text/html": "<div>\n<style scoped>\n    .dataframe tbody tr th:only-of-type {\n        vertical-align: middle;\n    }\n\n    .dataframe tbody tr th {\n        vertical-align: top;\n    }\n\n    .dataframe thead th {\n        text-align: right;\n    }\n</style>\n<table border=\"1\" class=\"dataframe\">\n  <thead>\n    <tr style=\"text-align: right;\">\n      <th></th>\n      <th>수치형데이터1</th>\n      <th>진단년도</th>\n      <th>수치형데이터2</th>\n      <th>은</th>\n      <th>일산화탄소</th>\n      <th>크로뮴</th>\n      <th>구리</th>\n      <th>철</th>\n      <th>물</th>\n      <th>망가니즈</th>\n      <th>몰리브데넘</th>\n      <th>니켈</th>\n      <th>입자 정량 지수</th>\n      <th>타이타늄</th>\n      <th>바나듐</th>\n      <th>점도 40도</th>\n      <th>아연</th>\n      <th>샘플오일관련부품</th>\n    </tr>\n  </thead>\n  <tbody>\n    <tr>\n      <th>0</th>\n      <td>-0.482645</td>\n      <td>1.762894</td>\n      <td>0.056225</td>\n      <td>-0.104458</td>\n      <td>-0.080683</td>\n      <td>-0.130910</td>\n      <td>0.082528</td>\n      <td>-0.245064</td>\n      <td>-0.051625</td>\n      <td>-0.223329</td>\n      <td>-0.297123</td>\n      <td>-0.108446</td>\n      <td>-0.190226</td>\n      <td>-0.076071</td>\n      <td>-0.086964</td>\n      <td>-1.473684</td>\n      <td>0.177580</td>\n      <td>1</td>\n    </tr>\n    <tr>\n      <th>1</th>\n      <td>-0.191775</td>\n      <td>0.212564</td>\n      <td>-0.358880</td>\n      <td>-0.104458</td>\n      <td>-0.080683</td>\n      <td>-0.064064</td>\n      <td>-0.181618</td>\n      <td>-0.241019</td>\n      <td>-0.051625</td>\n      <td>-0.223329</td>\n      <td>-0.297123</td>\n      <td>-0.108446</td>\n      <td>-0.191770</td>\n      <td>-0.076071</td>\n      <td>-0.086964</td>\n      <td>-0.808229</td>\n      <td>-0.286735</td>\n      <td>1</td>\n    </tr>\n    <tr>\n      <th>2</th>\n      <td>1.166708</td>\n      <td>-1.079378</td>\n      <td>-0.358880</td>\n      <td>-0.104458</td>\n      <td>-0.080683</td>\n      <td>-0.130910</td>\n      <td>-0.190727</td>\n      <td>-0.174283</td>\n      <td>-0.051625</td>\n      <td>-0.099998</td>\n      <td>-0.297123</td>\n      <td>-0.108446</td>\n      <td>-0.170932</td>\n      <td>-0.076071</td>\n      <td>-0.086964</td>\n      <td>0.604118</td>\n      <td>-1.070268</td>\n      <td>2</td>\n    </tr>\n    <tr>\n      <th>3</th>\n      <td>0.228552</td>\n      <td>0.212564</td>\n      <td>-0.358880</td>\n      <td>-0.104458</td>\n      <td>-0.080683</td>\n      <td>-0.130910</td>\n      <td>-0.199835</td>\n      <td>-0.105525</td>\n      <td>-0.051625</td>\n      <td>-0.223329</td>\n      <td>-0.297123</td>\n      <td>-0.108446</td>\n      <td>-0.037419</td>\n      <td>-0.076071</td>\n      <td>-0.086964</td>\n      <td>0.599465</td>\n      <td>-0.836175</td>\n      <td>2</td>\n    </tr>\n    <tr>\n      <th>4</th>\n      <td>-0.464619</td>\n      <td>0.212564</td>\n      <td>0.627885</td>\n      <td>-0.104458</td>\n      <td>-0.080683</td>\n      <td>-0.130910</td>\n      <td>-0.172510</td>\n      <td>-0.178328</td>\n      <td>-0.051625</td>\n      <td>-0.223329</td>\n      <td>-0.297123</td>\n      <td>-0.108446</td>\n      <td>-0.184824</td>\n      <td>-0.076071</td>\n      <td>-0.086964</td>\n      <td>0.957787</td>\n      <td>-1.037379</td>\n      <td>2</td>\n    </tr>\n    <tr>\n      <th>...</th>\n      <td>...</td>\n      <td>...</td>\n      <td>...</td>\n      <td>...</td>\n      <td>...</td>\n      <td>...</td>\n      <td>...</td>\n      <td>...</td>\n      <td>...</td>\n      <td>...</td>\n      <td>...</td>\n      <td>...</td>\n      <td>...</td>\n      <td>...</td>\n      <td>...</td>\n      <td>...</td>\n      <td>...</td>\n      <td>...</td>\n    </tr>\n    <tr>\n      <th>12152</th>\n      <td>-0.383230</td>\n      <td>-0.045824</td>\n      <td>-0.358880</td>\n      <td>-0.104458</td>\n      <td>-0.080683</td>\n      <td>0.069629</td>\n      <td>0.984267</td>\n      <td>1.868243</td>\n      <td>-0.051625</td>\n      <td>7.793185</td>\n      <td>-0.187179</td>\n      <td>0.385608</td>\n      <td>1.337840</td>\n      <td>-0.076071</td>\n      <td>-0.086964</td>\n      <td>-0.840804</td>\n      <td>1.166184</td>\n      <td>2</td>\n    </tr>\n    <tr>\n      <th>12153</th>\n      <td>0.276893</td>\n      <td>0.470953</td>\n      <td>-0.358880</td>\n      <td>-0.104458</td>\n      <td>-0.080683</td>\n      <td>0.203321</td>\n      <td>-0.181618</td>\n      <td>1.239307</td>\n      <td>-0.051625</td>\n      <td>0.393326</td>\n      <td>-0.297123</td>\n      <td>-0.108446</td>\n      <td>0.329934</td>\n      <td>-0.076071</td>\n      <td>-0.086964</td>\n      <td>0.708823</td>\n      <td>-1.058660</td>\n      <td>2</td>\n    </tr>\n    <tr>\n      <th>12154</th>\n      <td>0.329878</td>\n      <td>-0.045824</td>\n      <td>-0.358880</td>\n      <td>-0.104458</td>\n      <td>-0.080683</td>\n      <td>-0.130910</td>\n      <td>-0.199835</td>\n      <td>-0.141926</td>\n      <td>-0.051625</td>\n      <td>-0.223329</td>\n      <td>-0.297123</td>\n      <td>-0.108446</td>\n      <td>-0.151639</td>\n      <td>-0.076071</td>\n      <td>-0.086964</td>\n      <td>4.534027</td>\n      <td>-1.058660</td>\n      <td>2</td>\n    </tr>\n    <tr>\n      <th>12155</th>\n      <td>-0.478821</td>\n      <td>-0.304213</td>\n      <td>-0.358880</td>\n      <td>-0.104458</td>\n      <td>-0.080683</td>\n      <td>-0.130910</td>\n      <td>0.364891</td>\n      <td>-0.245064</td>\n      <td>-0.051625</td>\n      <td>-0.223329</td>\n      <td>-0.297123</td>\n      <td>-0.108446</td>\n      <td>-0.201031</td>\n      <td>-0.076071</td>\n      <td>-0.086964</td>\n      <td>-1.308484</td>\n      <td>-0.159049</td>\n      <td>1</td>\n    </tr>\n    <tr>\n      <th>12156</th>\n      <td>-0.196691</td>\n      <td>0.470953</td>\n      <td>2.954847</td>\n      <td>7.734436</td>\n      <td>-0.080683</td>\n      <td>-0.130910</td>\n      <td>-0.199835</td>\n      <td>-0.241019</td>\n      <td>-0.051625</td>\n      <td>-0.223329</td>\n      <td>-0.253145</td>\n      <td>-0.108446</td>\n      <td>-0.194085</td>\n      <td>-0.076071</td>\n      <td>-0.086964</td>\n      <td>-0.636048</td>\n      <td>0.792798</td>\n      <td>0</td>\n    </tr>\n  </tbody>\n</table>\n<p>12157 rows × 18 columns</p>\n</div>"
     },
     "execution_count": 69,
     "metadata": {},
     "output_type": "execute_result"
    }
   ],
   "source": [
    "df_stand_out = cocnat_df(standard_scale(num_attribss_out),label_encoding(cat_attribs_out))\n",
    "df_stand_out"
   ],
   "metadata": {
    "collapsed": false,
    "pycharm": {
     "name": "#%%\n"
    }
   }
  },
  {
   "cell_type": "code",
   "execution_count": 59,
   "outputs": [],
   "source": [
    "train_stand_out, test_stand_out = split_train_test_out(df_stand_out)"
   ],
   "metadata": {
    "collapsed": false,
    "pycharm": {
     "name": "#%%\n"
    }
   }
  },
  {
   "cell_type": "code",
   "execution_count": 72,
   "outputs": [],
   "source": [
    "train_stand_out, y_stand_out = add_smote_enn(train_stand_out,y_out)"
   ],
   "metadata": {
    "collapsed": false,
    "pycharm": {
     "name": "#%%\n"
    }
   }
  },
  {
   "cell_type": "code",
   "execution_count": 73,
   "outputs": [
    {
     "name": "stdout",
     "output_type": "stream",
     "text": [
      "(6282, 18) (2693, 18) (6282,) (2693,)\n"
     ]
    }
   ],
   "source": [
    "X_train_stand_out, X_val_stand_out, y_train_stand_out, y_val_stand_out = split_train_val(train_stand_out,y_stand_out)"
   ],
   "metadata": {
    "collapsed": false,
    "pycharm": {
     "name": "#%%\n"
    }
   }
  },
  {
   "cell_type": "code",
   "execution_count": 74,
   "outputs": [
    {
     "name": "stdout",
     "output_type": "stream",
     "text": [
      "RandomForestClassifier(max_depth=10)\n",
      "accuracy_score : 0.902710731526179\n",
      "recall_score : 0.8786999419616948\n",
      "precision_score : 0.9661774090619017\n",
      "f1_score : 0.9203647416413374\n",
      "coufusion_matrix : \n",
      "[[ 917   53]\n",
      " [ 209 1514]]\n",
      "None\n"
     ]
    }
   ],
   "source": [
    "model_stand_out = pipeline_RF(X_train_stand_out, X_val_stand_out, y_train_stand_out, y_val_stand_out)"
   ],
   "metadata": {
    "collapsed": false,
    "pycharm": {
     "name": "#%%\n"
    }
   }
  },
  {
   "cell_type": "code",
   "execution_count": 76,
   "outputs": [
    {
     "name": "stdout",
     "output_type": "stream",
     "text": [
      "             ID  Y_LABEL\n",
      "0     TEST_0000      0.0\n",
      "1     TEST_0001      0.0\n",
      "2     TEST_0002      1.0\n",
      "3     TEST_0003      0.0\n",
      "4     TEST_0004      1.0\n",
      "...         ...      ...\n",
      "6036  TEST_6036      0.0\n",
      "6037  TEST_6037      0.0\n",
      "6038  TEST_6038      1.0\n",
      "6039  TEST_6039      0.0\n",
      "6040  TEST_6040      0.0\n",
      "\n",
      "[6041 rows x 2 columns]\n",
      "Done\n"
     ]
    }
   ],
   "source": [
    "make_submission(model_stand_out,test_stand_out,submission)"
   ],
   "metadata": {
    "collapsed": false,
    "pycharm": {
     "name": "#%%\n"
    }
   }
  },
  {
   "cell_type": "markdown",
   "source": [
    "# LightGBM"
   ],
   "metadata": {
    "collapsed": false,
    "pycharm": {
     "name": "#%% md\n"
    }
   }
  },
  {
   "cell_type": "code",
   "execution_count": null,
   "outputs": [],
   "source": [
    "import lightgbm as lgb"
   ],
   "metadata": {
    "collapsed": false,
    "pycharm": {
     "name": "#%%\n"
    }
   }
  },
  {
   "cell_type": "code",
   "execution_count": null,
   "outputs": [],
   "source": [
    "X_train_stand_1hot['샘플오일관련부품'] = pd.to_numeric(X_train_stand_1hot['샘플오일관련부품'])\n",
    "X_val_stand_1hot['샘플오일관련부품'] = pd.to_numeric(X_val_stand_1hot['샘플오일관련부품'])\n",
    "test_stand_1hot['샘플오일관련부품'] = pd.to_numeric(test_stand_1hot['샘플오일관련부품'])"
   ],
   "metadata": {
    "collapsed": false,
    "pycharm": {
     "name": "#%%\n"
    }
   }
  },
  {
   "cell_type": "code",
   "execution_count": null,
   "outputs": [],
   "source": [
    "train_data_plus = lgb.Dataset(X_train_stand_1hot, label=y_train_stand_1hot)\n",
    "test_data_plus = lgb.Dataset(X_val_stand_1hot, label=y_val_stand_1hot)"
   ],
   "metadata": {
    "collapsed": false,
    "pycharm": {
     "name": "#%%\n"
    }
   }
  },
  {
   "cell_type": "code",
   "execution_count": null,
   "outputs": [],
   "source": [
    "train_data_plus"
   ],
   "metadata": {
    "collapsed": false,
    "pycharm": {
     "name": "#%%\n"
    }
   }
  },
  {
   "cell_type": "code",
   "execution_count": null,
   "outputs": [],
   "source": [
    "params = {\n",
    "    \"max_bin\": 512,\n",
    "    \"learning_rate\": 0.05,\n",
    "    \"boosting_type\": \"gbdt\",\n",
    "    \"objective\": \"binary\",\n",
    "    \"metric\": ['auc',\"binary_logloss\"],\n",
    "    \"num_leaves\": 10,\n",
    "    \"verbose\": -1,\n",
    "    \"min_data\": 100,\n",
    "    \"boost_from_average\": True\n",
    "}\n",
    "\n"
   ],
   "metadata": {
    "collapsed": false,
    "pycharm": {
     "name": "#%%\n"
    }
   }
  },
  {
   "cell_type": "code",
   "execution_count": null,
   "outputs": [],
   "source": [
    "num_round = 4000\n",
    "\n",
    "model = lgb.train(params, train_data_plus, num_round, valid_sets=[test_data_plus],early_stopping_rounds=50)"
   ],
   "metadata": {
    "collapsed": false,
    "pycharm": {
     "name": "#%%\n"
    }
   }
  },
  {
   "cell_type": "code",
   "execution_count": null,
   "outputs": [],
   "source": [
    "# 예측\n",
    "preds_proba = model.predict(X_val_stand_1hot)\n",
    "preds = np.where(preds_proba > 0.5, 1, 0)\n"
   ],
   "metadata": {
    "collapsed": false,
    "pycharm": {
     "name": "#%%\n"
    }
   }
  },
  {
   "cell_type": "code",
   "execution_count": null,
   "outputs": [],
   "source": [
    "model_eval(y_val_stand_1hot, preds)"
   ],
   "metadata": {
    "collapsed": false,
    "pycharm": {
     "name": "#%%\n"
    }
   }
  },
  {
   "cell_type": "code",
   "execution_count": null,
   "outputs": [],
   "source": [
    "preds_proba = model.predict(test_stand_1hot)\n",
    "test_preds = np.where(preds_proba > 0.5, 1, 0)"
   ],
   "metadata": {
    "collapsed": false,
    "pycharm": {
     "name": "#%%\n"
    }
   }
  },
  {
   "cell_type": "code",
   "execution_count": null,
   "outputs": [],
   "source": [
    "submission['Y_LABEL'] = test_preds"
   ],
   "metadata": {
    "collapsed": false,
    "pycharm": {
     "name": "#%%\n"
    }
   }
  },
  {
   "cell_type": "code",
   "execution_count": null,
   "outputs": [],
   "source": [
    "submission.to_csv(r'C:\\Users\\yoon9\\PycharmProjects\\Sejong_Project\\data\\construct_Oil_data\\submission_lightgbm_base.csv',index = False)"
   ],
   "metadata": {
    "collapsed": false,
    "pycharm": {
     "name": "#%%\n"
    }
   }
  },
  {
   "cell_type": "code",
   "execution_count": null,
   "outputs": [],
   "source": [],
   "metadata": {
    "collapsed": false,
    "pycharm": {
     "name": "#%%\n"
    }
   }
  }
 ],
 "metadata": {
  "kernelspec": {
   "display_name": "Python 3",
   "language": "python",
   "name": "python3"
  },
  "language_info": {
   "codemirror_mode": {
    "name": "ipython",
    "version": 2
   },
   "file_extension": ".py",
   "mimetype": "text/x-python",
   "name": "python",
   "nbconvert_exporter": "python",
   "pygments_lexer": "ipython2",
   "version": "2.7.6"
  }
 },
 "nbformat": 4,
 "nbformat_minor": 0
}