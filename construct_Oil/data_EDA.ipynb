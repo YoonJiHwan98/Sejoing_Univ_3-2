{
 "cells": [
  {
   "cell_type": "code",
   "execution_count": 2,
   "metadata": {
    "collapsed": true
   },
   "outputs": [],
   "source": [
    "import pandas as pd\n",
    "import numpy as np\n",
    "import matplotlib.pyplot as plt\n",
    "import seaborn as sns"
   ]
  },
  {
   "cell_type": "code",
   "execution_count": 23,
   "outputs": [
    {
     "data": {
      "text/plain": "                ID COMPONENT_ARBITRARY  ANONYMOUS_1  YEAR  \\\n0      TRAIN_00000          COMPONENT3         1486  2011   \n1      TRAIN_00001          COMPONENT2         1350  2021   \n2      TRAIN_00002          COMPONENT2         2415  2015   \n3      TRAIN_00003          COMPONENT3         7389  2010   \n4      TRAIN_00004          COMPONENT3         3954  2015   \n...            ...                 ...          ...   ...   \n14090  TRAIN_14090          COMPONENT3         1616  2014   \n14091  TRAIN_14091          COMPONENT1         2784  2013   \n14092  TRAIN_14092          COMPONENT3         1788  2008   \n14093  TRAIN_14093          COMPONENT2         2498  2009   \n14094  TRAIN_14094          COMPONENT2         1902  2012   \n\n       SAMPLE_TRANSFER_DAY  ANONYMOUS_2  AG   AL    B  BA  ...     U25  \\\n0                        7          200   0    3   93   0  ...     NaN   \n1                       51          375   0    2   19   0  ...     2.0   \n2                        2          200   0  110    1   1  ...     0.0   \n3                        2          200   0    8    3   0  ...     NaN   \n4                        4          200   0    1  157   0  ...     NaN   \n...                    ...          ...  ..  ...  ...  ..  ...     ...   \n14090                    8          200   0    2  201   1  ...     NaN   \n14091                    2          200   0    3   85   0  ...     NaN   \n14092                    9          550   0    6    0   1  ...     NaN   \n14093                   19          550   0    2    4   0  ...     7.0   \n14094                   15          200   0    0   77   0  ...  1163.0   \n\n          U20      U14        U6        U4  V  V100    V40    ZN  Y_LABEL  \n0         NaN      NaN       NaN       NaN  0   NaN  154.0    75        0  \n1         4.0      6.0     216.0    1454.0  0   NaN   44.0   652        0  \n2         3.0     39.0   11261.0   41081.0  0   NaN   72.6   412        1  \n3         NaN      NaN       NaN       NaN  0   NaN  133.3     7        0  \n4         NaN      NaN       NaN       NaN  0   NaN  133.1   128        0  \n...       ...      ...       ...       ... ..   ...    ...   ...      ...  \n14090     NaN      NaN       NaN       NaN  0   NaN  135.4    16        0  \n14091     NaN      NaN       NaN       NaN  0  14.5  117.5  1408        0  \n14092     NaN      NaN       NaN       NaN  0   NaN   54.0  1301        0  \n14093     8.0    100.0    1625.0   18890.0  0   NaN   44.3   652        0  \n14094  2565.0  11296.0  181016.0  325823.0  0   NaN   47.0   612        0  \n\n[14095 rows x 54 columns]",
      "text/html": "<div>\n<style scoped>\n    .dataframe tbody tr th:only-of-type {\n        vertical-align: middle;\n    }\n\n    .dataframe tbody tr th {\n        vertical-align: top;\n    }\n\n    .dataframe thead th {\n        text-align: right;\n    }\n</style>\n<table border=\"1\" class=\"dataframe\">\n  <thead>\n    <tr style=\"text-align: right;\">\n      <th></th>\n      <th>ID</th>\n      <th>COMPONENT_ARBITRARY</th>\n      <th>ANONYMOUS_1</th>\n      <th>YEAR</th>\n      <th>SAMPLE_TRANSFER_DAY</th>\n      <th>ANONYMOUS_2</th>\n      <th>AG</th>\n      <th>AL</th>\n      <th>B</th>\n      <th>BA</th>\n      <th>...</th>\n      <th>U25</th>\n      <th>U20</th>\n      <th>U14</th>\n      <th>U6</th>\n      <th>U4</th>\n      <th>V</th>\n      <th>V100</th>\n      <th>V40</th>\n      <th>ZN</th>\n      <th>Y_LABEL</th>\n    </tr>\n  </thead>\n  <tbody>\n    <tr>\n      <th>0</th>\n      <td>TRAIN_00000</td>\n      <td>COMPONENT3</td>\n      <td>1486</td>\n      <td>2011</td>\n      <td>7</td>\n      <td>200</td>\n      <td>0</td>\n      <td>3</td>\n      <td>93</td>\n      <td>0</td>\n      <td>...</td>\n      <td>NaN</td>\n      <td>NaN</td>\n      <td>NaN</td>\n      <td>NaN</td>\n      <td>NaN</td>\n      <td>0</td>\n      <td>NaN</td>\n      <td>154.0</td>\n      <td>75</td>\n      <td>0</td>\n    </tr>\n    <tr>\n      <th>1</th>\n      <td>TRAIN_00001</td>\n      <td>COMPONENT2</td>\n      <td>1350</td>\n      <td>2021</td>\n      <td>51</td>\n      <td>375</td>\n      <td>0</td>\n      <td>2</td>\n      <td>19</td>\n      <td>0</td>\n      <td>...</td>\n      <td>2.0</td>\n      <td>4.0</td>\n      <td>6.0</td>\n      <td>216.0</td>\n      <td>1454.0</td>\n      <td>0</td>\n      <td>NaN</td>\n      <td>44.0</td>\n      <td>652</td>\n      <td>0</td>\n    </tr>\n    <tr>\n      <th>2</th>\n      <td>TRAIN_00002</td>\n      <td>COMPONENT2</td>\n      <td>2415</td>\n      <td>2015</td>\n      <td>2</td>\n      <td>200</td>\n      <td>0</td>\n      <td>110</td>\n      <td>1</td>\n      <td>1</td>\n      <td>...</td>\n      <td>0.0</td>\n      <td>3.0</td>\n      <td>39.0</td>\n      <td>11261.0</td>\n      <td>41081.0</td>\n      <td>0</td>\n      <td>NaN</td>\n      <td>72.6</td>\n      <td>412</td>\n      <td>1</td>\n    </tr>\n    <tr>\n      <th>3</th>\n      <td>TRAIN_00003</td>\n      <td>COMPONENT3</td>\n      <td>7389</td>\n      <td>2010</td>\n      <td>2</td>\n      <td>200</td>\n      <td>0</td>\n      <td>8</td>\n      <td>3</td>\n      <td>0</td>\n      <td>...</td>\n      <td>NaN</td>\n      <td>NaN</td>\n      <td>NaN</td>\n      <td>NaN</td>\n      <td>NaN</td>\n      <td>0</td>\n      <td>NaN</td>\n      <td>133.3</td>\n      <td>7</td>\n      <td>0</td>\n    </tr>\n    <tr>\n      <th>4</th>\n      <td>TRAIN_00004</td>\n      <td>COMPONENT3</td>\n      <td>3954</td>\n      <td>2015</td>\n      <td>4</td>\n      <td>200</td>\n      <td>0</td>\n      <td>1</td>\n      <td>157</td>\n      <td>0</td>\n      <td>...</td>\n      <td>NaN</td>\n      <td>NaN</td>\n      <td>NaN</td>\n      <td>NaN</td>\n      <td>NaN</td>\n      <td>0</td>\n      <td>NaN</td>\n      <td>133.1</td>\n      <td>128</td>\n      <td>0</td>\n    </tr>\n    <tr>\n      <th>...</th>\n      <td>...</td>\n      <td>...</td>\n      <td>...</td>\n      <td>...</td>\n      <td>...</td>\n      <td>...</td>\n      <td>...</td>\n      <td>...</td>\n      <td>...</td>\n      <td>...</td>\n      <td>...</td>\n      <td>...</td>\n      <td>...</td>\n      <td>...</td>\n      <td>...</td>\n      <td>...</td>\n      <td>...</td>\n      <td>...</td>\n      <td>...</td>\n      <td>...</td>\n      <td>...</td>\n    </tr>\n    <tr>\n      <th>14090</th>\n      <td>TRAIN_14090</td>\n      <td>COMPONENT3</td>\n      <td>1616</td>\n      <td>2014</td>\n      <td>8</td>\n      <td>200</td>\n      <td>0</td>\n      <td>2</td>\n      <td>201</td>\n      <td>1</td>\n      <td>...</td>\n      <td>NaN</td>\n      <td>NaN</td>\n      <td>NaN</td>\n      <td>NaN</td>\n      <td>NaN</td>\n      <td>0</td>\n      <td>NaN</td>\n      <td>135.4</td>\n      <td>16</td>\n      <td>0</td>\n    </tr>\n    <tr>\n      <th>14091</th>\n      <td>TRAIN_14091</td>\n      <td>COMPONENT1</td>\n      <td>2784</td>\n      <td>2013</td>\n      <td>2</td>\n      <td>200</td>\n      <td>0</td>\n      <td>3</td>\n      <td>85</td>\n      <td>0</td>\n      <td>...</td>\n      <td>NaN</td>\n      <td>NaN</td>\n      <td>NaN</td>\n      <td>NaN</td>\n      <td>NaN</td>\n      <td>0</td>\n      <td>14.5</td>\n      <td>117.5</td>\n      <td>1408</td>\n      <td>0</td>\n    </tr>\n    <tr>\n      <th>14092</th>\n      <td>TRAIN_14092</td>\n      <td>COMPONENT3</td>\n      <td>1788</td>\n      <td>2008</td>\n      <td>9</td>\n      <td>550</td>\n      <td>0</td>\n      <td>6</td>\n      <td>0</td>\n      <td>1</td>\n      <td>...</td>\n      <td>NaN</td>\n      <td>NaN</td>\n      <td>NaN</td>\n      <td>NaN</td>\n      <td>NaN</td>\n      <td>0</td>\n      <td>NaN</td>\n      <td>54.0</td>\n      <td>1301</td>\n      <td>0</td>\n    </tr>\n    <tr>\n      <th>14093</th>\n      <td>TRAIN_14093</td>\n      <td>COMPONENT2</td>\n      <td>2498</td>\n      <td>2009</td>\n      <td>19</td>\n      <td>550</td>\n      <td>0</td>\n      <td>2</td>\n      <td>4</td>\n      <td>0</td>\n      <td>...</td>\n      <td>7.0</td>\n      <td>8.0</td>\n      <td>100.0</td>\n      <td>1625.0</td>\n      <td>18890.0</td>\n      <td>0</td>\n      <td>NaN</td>\n      <td>44.3</td>\n      <td>652</td>\n      <td>0</td>\n    </tr>\n    <tr>\n      <th>14094</th>\n      <td>TRAIN_14094</td>\n      <td>COMPONENT2</td>\n      <td>1902</td>\n      <td>2012</td>\n      <td>15</td>\n      <td>200</td>\n      <td>0</td>\n      <td>0</td>\n      <td>77</td>\n      <td>0</td>\n      <td>...</td>\n      <td>1163.0</td>\n      <td>2565.0</td>\n      <td>11296.0</td>\n      <td>181016.0</td>\n      <td>325823.0</td>\n      <td>0</td>\n      <td>NaN</td>\n      <td>47.0</td>\n      <td>612</td>\n      <td>0</td>\n    </tr>\n  </tbody>\n</table>\n<p>14095 rows × 54 columns</p>\n</div>"
     },
     "execution_count": 23,
     "metadata": {},
     "output_type": "execute_result"
    }
   ],
   "source": [
    "df = pd.read_csv(r'C:\\Users\\yoon9\\PycharmProjects\\Sejong_Project\\construct_Oil\\open\\train.csv')\n",
    "df"
   ],
   "metadata": {
    "collapsed": false,
    "pycharm": {
     "name": "#%%\n"
    }
   }
  },
  {
   "cell_type": "markdown",
   "source": [
    "# 결측치가 많은 컬럼 제거"
   ],
   "metadata": {
    "collapsed": false,
    "pycharm": {
     "name": "#%% md\n"
    }
   }
  },
  {
   "cell_type": "code",
   "execution_count": 13,
   "outputs": [],
   "source": [
    "df.isnull().sum()\n",
    "\n",
    "drop_columns=['FH2O','FNOX','FOPTIMETHGLY','FOXID','FSO4','FTBN','FUEL','SOOTPERCENTAGE','U100','U75','U50','U25','U20','U14','U6','U4','V100']"
   ],
   "metadata": {
    "collapsed": false,
    "pycharm": {
     "name": "#%%\n"
    }
   }
  },
  {
   "cell_type": "code",
   "execution_count": 24,
   "outputs": [],
   "source": [
    "df = df.drop(columns=drop_columns)"
   ],
   "metadata": {
    "collapsed": false,
    "pycharm": {
     "name": "#%%\n"
    }
   }
  },
  {
   "cell_type": "code",
   "execution_count": 28,
   "outputs": [],
   "source": [
    "df = df.rename(columns={'COMPONENT_ARBITRARY' : '샘플 오일 관련 부품','ANONYMOUS_1' : '무명 수치형 데이터 1','YEAR' : '오일 샘플 및 진단 해','SAMPLE_TRANSFER_DAY':'오일 샘플링 후 진단 기관으로 이동한 기간(일)','ANONYMOUS_2' : '무명 수치형 데이터 2','PQINDEX' : '입자 정량 지수','V40' : '점도 (40도)'})"
   ],
   "metadata": {
    "collapsed": false,
    "pycharm": {
     "name": "#%%\n"
    }
   }
  },
  {
   "cell_type": "code",
   "execution_count": 29,
   "outputs": [
    {
     "data": {
      "text/plain": "                ID  무명 수치형 데이터 1  무명 수치형 데이터 1  오일 샘플 및 진단 해  \\\n0      TRAIN_00000    COMPONENT3          1486          2011   \n1      TRAIN_00001    COMPONENT2          1350          2021   \n2      TRAIN_00002    COMPONENT2          2415          2015   \n3      TRAIN_00003    COMPONENT3          7389          2010   \n4      TRAIN_00004    COMPONENT3          3954          2015   \n...            ...           ...           ...           ...   \n14090  TRAIN_14090    COMPONENT3          1616          2014   \n14091  TRAIN_14091    COMPONENT1          2784          2013   \n14092  TRAIN_14092    COMPONENT3          1788          2008   \n14093  TRAIN_14093    COMPONENT2          2498          2009   \n14094  TRAIN_14094    COMPONENT2          1902          2012   \n\n       오일 샘플링 후 진단 기관으로 이동한 기간(일)  무명 수치형 데이터 2  AG   AL    B  BA  ...  \\\n0                               7           200   0    3   93   0  ...   \n1                              51           375   0    2   19   0  ...   \n2                               2           200   0  110    1   1  ...   \n3                               2           200   0    8    3   0  ...   \n4                               4           200   0    1  157   0  ...   \n...                           ...           ...  ..  ...  ...  ..  ...   \n14090                           8           200   0    2  201   1  ...   \n14091                           2           200   0    3   85   0  ...   \n14092                           9           550   0    6    0   1  ...   \n14093                          19           550   0    2    4   0  ...   \n14094                          15           200   0    0   77   0  ...   \n\n       입자 정량 지수      S  SB   SI  SN  TI  V  점도 (40도)    ZN  Y_LABEL  \n0          8504  21370   0  427   2   5  0     154.0    75        0  \n1            19   1117   0    0   0   0  0      44.0   652        0  \n2            17   1334   0    0   1   0  0      72.6   412        1  \n3            44  21774   2    1   1   0  0     133.3     7        0  \n4           217  18470   0    2   0   0  0     133.1   128        0  \n...         ...    ...  ..  ...  ..  .. ..       ...   ...      ...  \n14090        35  22000   0    2   0   0  0     135.4    16        0  \n14091         9   5494   0    5   0   0  0     117.5  1408        0  \n14092       645   9640   2   18   0   0  0      54.0  1301        0  \n14093        11   1313   0    0   0   0  0      44.3   652        0  \n14094        81   2057   0    6   0   2  0      47.0   612        0  \n\n[14095 rows x 37 columns]",
      "text/html": "<div>\n<style scoped>\n    .dataframe tbody tr th:only-of-type {\n        vertical-align: middle;\n    }\n\n    .dataframe tbody tr th {\n        vertical-align: top;\n    }\n\n    .dataframe thead th {\n        text-align: right;\n    }\n</style>\n<table border=\"1\" class=\"dataframe\">\n  <thead>\n    <tr style=\"text-align: right;\">\n      <th></th>\n      <th>ID</th>\n      <th>무명 수치형 데이터 1</th>\n      <th>무명 수치형 데이터 1</th>\n      <th>오일 샘플 및 진단 해</th>\n      <th>오일 샘플링 후 진단 기관으로 이동한 기간(일)</th>\n      <th>무명 수치형 데이터 2</th>\n      <th>AG</th>\n      <th>AL</th>\n      <th>B</th>\n      <th>BA</th>\n      <th>...</th>\n      <th>입자 정량 지수</th>\n      <th>S</th>\n      <th>SB</th>\n      <th>SI</th>\n      <th>SN</th>\n      <th>TI</th>\n      <th>V</th>\n      <th>점도 (40도)</th>\n      <th>ZN</th>\n      <th>Y_LABEL</th>\n    </tr>\n  </thead>\n  <tbody>\n    <tr>\n      <th>0</th>\n      <td>TRAIN_00000</td>\n      <td>COMPONENT3</td>\n      <td>1486</td>\n      <td>2011</td>\n      <td>7</td>\n      <td>200</td>\n      <td>0</td>\n      <td>3</td>\n      <td>93</td>\n      <td>0</td>\n      <td>...</td>\n      <td>8504</td>\n      <td>21370</td>\n      <td>0</td>\n      <td>427</td>\n      <td>2</td>\n      <td>5</td>\n      <td>0</td>\n      <td>154.0</td>\n      <td>75</td>\n      <td>0</td>\n    </tr>\n    <tr>\n      <th>1</th>\n      <td>TRAIN_00001</td>\n      <td>COMPONENT2</td>\n      <td>1350</td>\n      <td>2021</td>\n      <td>51</td>\n      <td>375</td>\n      <td>0</td>\n      <td>2</td>\n      <td>19</td>\n      <td>0</td>\n      <td>...</td>\n      <td>19</td>\n      <td>1117</td>\n      <td>0</td>\n      <td>0</td>\n      <td>0</td>\n      <td>0</td>\n      <td>0</td>\n      <td>44.0</td>\n      <td>652</td>\n      <td>0</td>\n    </tr>\n    <tr>\n      <th>2</th>\n      <td>TRAIN_00002</td>\n      <td>COMPONENT2</td>\n      <td>2415</td>\n      <td>2015</td>\n      <td>2</td>\n      <td>200</td>\n      <td>0</td>\n      <td>110</td>\n      <td>1</td>\n      <td>1</td>\n      <td>...</td>\n      <td>17</td>\n      <td>1334</td>\n      <td>0</td>\n      <td>0</td>\n      <td>1</td>\n      <td>0</td>\n      <td>0</td>\n      <td>72.6</td>\n      <td>412</td>\n      <td>1</td>\n    </tr>\n    <tr>\n      <th>3</th>\n      <td>TRAIN_00003</td>\n      <td>COMPONENT3</td>\n      <td>7389</td>\n      <td>2010</td>\n      <td>2</td>\n      <td>200</td>\n      <td>0</td>\n      <td>8</td>\n      <td>3</td>\n      <td>0</td>\n      <td>...</td>\n      <td>44</td>\n      <td>21774</td>\n      <td>2</td>\n      <td>1</td>\n      <td>1</td>\n      <td>0</td>\n      <td>0</td>\n      <td>133.3</td>\n      <td>7</td>\n      <td>0</td>\n    </tr>\n    <tr>\n      <th>4</th>\n      <td>TRAIN_00004</td>\n      <td>COMPONENT3</td>\n      <td>3954</td>\n      <td>2015</td>\n      <td>4</td>\n      <td>200</td>\n      <td>0</td>\n      <td>1</td>\n      <td>157</td>\n      <td>0</td>\n      <td>...</td>\n      <td>217</td>\n      <td>18470</td>\n      <td>0</td>\n      <td>2</td>\n      <td>0</td>\n      <td>0</td>\n      <td>0</td>\n      <td>133.1</td>\n      <td>128</td>\n      <td>0</td>\n    </tr>\n    <tr>\n      <th>...</th>\n      <td>...</td>\n      <td>...</td>\n      <td>...</td>\n      <td>...</td>\n      <td>...</td>\n      <td>...</td>\n      <td>...</td>\n      <td>...</td>\n      <td>...</td>\n      <td>...</td>\n      <td>...</td>\n      <td>...</td>\n      <td>...</td>\n      <td>...</td>\n      <td>...</td>\n      <td>...</td>\n      <td>...</td>\n      <td>...</td>\n      <td>...</td>\n      <td>...</td>\n      <td>...</td>\n    </tr>\n    <tr>\n      <th>14090</th>\n      <td>TRAIN_14090</td>\n      <td>COMPONENT3</td>\n      <td>1616</td>\n      <td>2014</td>\n      <td>8</td>\n      <td>200</td>\n      <td>0</td>\n      <td>2</td>\n      <td>201</td>\n      <td>1</td>\n      <td>...</td>\n      <td>35</td>\n      <td>22000</td>\n      <td>0</td>\n      <td>2</td>\n      <td>0</td>\n      <td>0</td>\n      <td>0</td>\n      <td>135.4</td>\n      <td>16</td>\n      <td>0</td>\n    </tr>\n    <tr>\n      <th>14091</th>\n      <td>TRAIN_14091</td>\n      <td>COMPONENT1</td>\n      <td>2784</td>\n      <td>2013</td>\n      <td>2</td>\n      <td>200</td>\n      <td>0</td>\n      <td>3</td>\n      <td>85</td>\n      <td>0</td>\n      <td>...</td>\n      <td>9</td>\n      <td>5494</td>\n      <td>0</td>\n      <td>5</td>\n      <td>0</td>\n      <td>0</td>\n      <td>0</td>\n      <td>117.5</td>\n      <td>1408</td>\n      <td>0</td>\n    </tr>\n    <tr>\n      <th>14092</th>\n      <td>TRAIN_14092</td>\n      <td>COMPONENT3</td>\n      <td>1788</td>\n      <td>2008</td>\n      <td>9</td>\n      <td>550</td>\n      <td>0</td>\n      <td>6</td>\n      <td>0</td>\n      <td>1</td>\n      <td>...</td>\n      <td>645</td>\n      <td>9640</td>\n      <td>2</td>\n      <td>18</td>\n      <td>0</td>\n      <td>0</td>\n      <td>0</td>\n      <td>54.0</td>\n      <td>1301</td>\n      <td>0</td>\n    </tr>\n    <tr>\n      <th>14093</th>\n      <td>TRAIN_14093</td>\n      <td>COMPONENT2</td>\n      <td>2498</td>\n      <td>2009</td>\n      <td>19</td>\n      <td>550</td>\n      <td>0</td>\n      <td>2</td>\n      <td>4</td>\n      <td>0</td>\n      <td>...</td>\n      <td>11</td>\n      <td>1313</td>\n      <td>0</td>\n      <td>0</td>\n      <td>0</td>\n      <td>0</td>\n      <td>0</td>\n      <td>44.3</td>\n      <td>652</td>\n      <td>0</td>\n    </tr>\n    <tr>\n      <th>14094</th>\n      <td>TRAIN_14094</td>\n      <td>COMPONENT2</td>\n      <td>1902</td>\n      <td>2012</td>\n      <td>15</td>\n      <td>200</td>\n      <td>0</td>\n      <td>0</td>\n      <td>77</td>\n      <td>0</td>\n      <td>...</td>\n      <td>81</td>\n      <td>2057</td>\n      <td>0</td>\n      <td>6</td>\n      <td>0</td>\n      <td>2</td>\n      <td>0</td>\n      <td>47.0</td>\n      <td>612</td>\n      <td>0</td>\n    </tr>\n  </tbody>\n</table>\n<p>14095 rows × 37 columns</p>\n</div>"
     },
     "execution_count": 29,
     "metadata": {},
     "output_type": "execute_result"
    }
   ],
   "source": [
    "df"
   ],
   "metadata": {
    "collapsed": false,
    "pycharm": {
     "name": "#%%\n"
    }
   }
  },
  {
   "cell_type": "code",
   "execution_count": 7,
   "outputs": [
    {
     "data": {
      "text/plain": "             ID COMPONENT_ARBITRARY  ANONYMOUS_1  YEAR  ANONYMOUS_2  AG  CO  \\\n0     TEST_0000          COMPONENT1         2192  2016          200   0   0   \n1     TEST_0001          COMPONENT3         2794  2011          200   0   0   \n2     TEST_0002          COMPONENT2         1982  2010          200   0   0   \n3     TEST_0003          COMPONENT3         1404  2009          200   0   0   \n4     TEST_0004          COMPONENT2         8225  2013          200   0   0   \n...         ...                 ...          ...   ...          ...  ..  ..   \n6036  TEST_6036          COMPONENT3         1714  2014          200   0   0   \n6037  TEST_6037          COMPONENT3         4131  2016          200   0   0   \n6038  TEST_6038          COMPONENT3         4325  2014          200   0   0   \n6039  TEST_6039          COMPONENT2         1364  2013          200   0   0   \n6040  TEST_6040          COMPONENT1         2397  2016         1597   1   0   \n\n      CR   CU    FE  H2O  MN  MO  NI  PQINDEX  TI  V    V40    ZN  \n0      0    1    12  0.0   0   0   0       10   0  0   91.3  1091  \n1      2    1   278  0.0   3   0   0     2732   1  0  126.9    12  \n2      0   16     5  0.0   0   0   0       11   0  0   44.3   714  \n3      3    4   163  0.0   4   3   0     8007   0  0  142.8    94  \n4      0    6    13  0.0   0   0   0       16   0  0   63.4   469  \n...   ..  ...   ...  ...  ..  ..  ..      ...  .. ..    ...   ...  \n6036   3  130  1047  0.0  65   5   2     1999   0  0   71.2  1163  \n6037   5    2   736  0.0   5   0   0      693   0  0  137.8    13  \n6038   0    0    53  0.0   0   0   0       69   0  0  302.2    13  \n6039   0   62     2  0.0   0   0   0        5   0  0   51.1   478  \n6040   0    0     4  0.0   0   2   0       14   0  0   80.0   970  \n\n[6041 rows x 19 columns]",
      "text/html": "<div>\n<style scoped>\n    .dataframe tbody tr th:only-of-type {\n        vertical-align: middle;\n    }\n\n    .dataframe tbody tr th {\n        vertical-align: top;\n    }\n\n    .dataframe thead th {\n        text-align: right;\n    }\n</style>\n<table border=\"1\" class=\"dataframe\">\n  <thead>\n    <tr style=\"text-align: right;\">\n      <th></th>\n      <th>ID</th>\n      <th>COMPONENT_ARBITRARY</th>\n      <th>ANONYMOUS_1</th>\n      <th>YEAR</th>\n      <th>ANONYMOUS_2</th>\n      <th>AG</th>\n      <th>CO</th>\n      <th>CR</th>\n      <th>CU</th>\n      <th>FE</th>\n      <th>H2O</th>\n      <th>MN</th>\n      <th>MO</th>\n      <th>NI</th>\n      <th>PQINDEX</th>\n      <th>TI</th>\n      <th>V</th>\n      <th>V40</th>\n      <th>ZN</th>\n    </tr>\n  </thead>\n  <tbody>\n    <tr>\n      <th>0</th>\n      <td>TEST_0000</td>\n      <td>COMPONENT1</td>\n      <td>2192</td>\n      <td>2016</td>\n      <td>200</td>\n      <td>0</td>\n      <td>0</td>\n      <td>0</td>\n      <td>1</td>\n      <td>12</td>\n      <td>0.0</td>\n      <td>0</td>\n      <td>0</td>\n      <td>0</td>\n      <td>10</td>\n      <td>0</td>\n      <td>0</td>\n      <td>91.3</td>\n      <td>1091</td>\n    </tr>\n    <tr>\n      <th>1</th>\n      <td>TEST_0001</td>\n      <td>COMPONENT3</td>\n      <td>2794</td>\n      <td>2011</td>\n      <td>200</td>\n      <td>0</td>\n      <td>0</td>\n      <td>2</td>\n      <td>1</td>\n      <td>278</td>\n      <td>0.0</td>\n      <td>3</td>\n      <td>0</td>\n      <td>0</td>\n      <td>2732</td>\n      <td>1</td>\n      <td>0</td>\n      <td>126.9</td>\n      <td>12</td>\n    </tr>\n    <tr>\n      <th>2</th>\n      <td>TEST_0002</td>\n      <td>COMPONENT2</td>\n      <td>1982</td>\n      <td>2010</td>\n      <td>200</td>\n      <td>0</td>\n      <td>0</td>\n      <td>0</td>\n      <td>16</td>\n      <td>5</td>\n      <td>0.0</td>\n      <td>0</td>\n      <td>0</td>\n      <td>0</td>\n      <td>11</td>\n      <td>0</td>\n      <td>0</td>\n      <td>44.3</td>\n      <td>714</td>\n    </tr>\n    <tr>\n      <th>3</th>\n      <td>TEST_0003</td>\n      <td>COMPONENT3</td>\n      <td>1404</td>\n      <td>2009</td>\n      <td>200</td>\n      <td>0</td>\n      <td>0</td>\n      <td>3</td>\n      <td>4</td>\n      <td>163</td>\n      <td>0.0</td>\n      <td>4</td>\n      <td>3</td>\n      <td>0</td>\n      <td>8007</td>\n      <td>0</td>\n      <td>0</td>\n      <td>142.8</td>\n      <td>94</td>\n    </tr>\n    <tr>\n      <th>4</th>\n      <td>TEST_0004</td>\n      <td>COMPONENT2</td>\n      <td>8225</td>\n      <td>2013</td>\n      <td>200</td>\n      <td>0</td>\n      <td>0</td>\n      <td>0</td>\n      <td>6</td>\n      <td>13</td>\n      <td>0.0</td>\n      <td>0</td>\n      <td>0</td>\n      <td>0</td>\n      <td>16</td>\n      <td>0</td>\n      <td>0</td>\n      <td>63.4</td>\n      <td>469</td>\n    </tr>\n    <tr>\n      <th>...</th>\n      <td>...</td>\n      <td>...</td>\n      <td>...</td>\n      <td>...</td>\n      <td>...</td>\n      <td>...</td>\n      <td>...</td>\n      <td>...</td>\n      <td>...</td>\n      <td>...</td>\n      <td>...</td>\n      <td>...</td>\n      <td>...</td>\n      <td>...</td>\n      <td>...</td>\n      <td>...</td>\n      <td>...</td>\n      <td>...</td>\n      <td>...</td>\n    </tr>\n    <tr>\n      <th>6036</th>\n      <td>TEST_6036</td>\n      <td>COMPONENT3</td>\n      <td>1714</td>\n      <td>2014</td>\n      <td>200</td>\n      <td>0</td>\n      <td>0</td>\n      <td>3</td>\n      <td>130</td>\n      <td>1047</td>\n      <td>0.0</td>\n      <td>65</td>\n      <td>5</td>\n      <td>2</td>\n      <td>1999</td>\n      <td>0</td>\n      <td>0</td>\n      <td>71.2</td>\n      <td>1163</td>\n    </tr>\n    <tr>\n      <th>6037</th>\n      <td>TEST_6037</td>\n      <td>COMPONENT3</td>\n      <td>4131</td>\n      <td>2016</td>\n      <td>200</td>\n      <td>0</td>\n      <td>0</td>\n      <td>5</td>\n      <td>2</td>\n      <td>736</td>\n      <td>0.0</td>\n      <td>5</td>\n      <td>0</td>\n      <td>0</td>\n      <td>693</td>\n      <td>0</td>\n      <td>0</td>\n      <td>137.8</td>\n      <td>13</td>\n    </tr>\n    <tr>\n      <th>6038</th>\n      <td>TEST_6038</td>\n      <td>COMPONENT3</td>\n      <td>4325</td>\n      <td>2014</td>\n      <td>200</td>\n      <td>0</td>\n      <td>0</td>\n      <td>0</td>\n      <td>0</td>\n      <td>53</td>\n      <td>0.0</td>\n      <td>0</td>\n      <td>0</td>\n      <td>0</td>\n      <td>69</td>\n      <td>0</td>\n      <td>0</td>\n      <td>302.2</td>\n      <td>13</td>\n    </tr>\n    <tr>\n      <th>6039</th>\n      <td>TEST_6039</td>\n      <td>COMPONENT2</td>\n      <td>1364</td>\n      <td>2013</td>\n      <td>200</td>\n      <td>0</td>\n      <td>0</td>\n      <td>0</td>\n      <td>62</td>\n      <td>2</td>\n      <td>0.0</td>\n      <td>0</td>\n      <td>0</td>\n      <td>0</td>\n      <td>5</td>\n      <td>0</td>\n      <td>0</td>\n      <td>51.1</td>\n      <td>478</td>\n    </tr>\n    <tr>\n      <th>6040</th>\n      <td>TEST_6040</td>\n      <td>COMPONENT1</td>\n      <td>2397</td>\n      <td>2016</td>\n      <td>1597</td>\n      <td>1</td>\n      <td>0</td>\n      <td>0</td>\n      <td>0</td>\n      <td>4</td>\n      <td>0.0</td>\n      <td>0</td>\n      <td>2</td>\n      <td>0</td>\n      <td>14</td>\n      <td>0</td>\n      <td>0</td>\n      <td>80.0</td>\n      <td>970</td>\n    </tr>\n  </tbody>\n</table>\n<p>6041 rows × 19 columns</p>\n</div>"
     },
     "execution_count": 7,
     "metadata": {},
     "output_type": "execute_result"
    }
   ],
   "source": [
    "df_test = pd.read_csv(r'C:\\Users\\yoon9\\PycharmProjects\\Sejong_Project\\construct_Oil\\open\\test.csv')\n",
    "df_test"
   ],
   "metadata": {
    "collapsed": false,
    "pycharm": {
     "name": "#%%\n"
    }
   }
  },
  {
   "cell_type": "code",
   "execution_count": null,
   "outputs": [],
   "source": [],
   "metadata": {
    "collapsed": false,
    "pycharm": {
     "name": "#%%\n"
    }
   }
  }
 ],
 "metadata": {
  "kernelspec": {
   "display_name": "Python 3",
   "language": "python",
   "name": "python3"
  },
  "language_info": {
   "codemirror_mode": {
    "name": "ipython",
    "version": 2
   },
   "file_extension": ".py",
   "mimetype": "text/x-python",
   "name": "python",
   "nbconvert_exporter": "python",
   "pygments_lexer": "ipython2",
   "version": "2.7.6"
  }
 },
 "nbformat": 4,
 "nbformat_minor": 0
}